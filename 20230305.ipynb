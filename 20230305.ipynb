{
  "nbformat": 4,
  "nbformat_minor": 0,
  "metadata": {
    "colab": {
      "provenance": [],
      "toc_visible": true,
      "authorship_tag": "ABX9TyNNRmTTZvlalcM8SumaL2we",
      "include_colab_link": true
    },
    "kernelspec": {
      "name": "python3",
      "display_name": "Python 3"
    },
    "language_info": {
      "name": "python"
    }
  },
  "cells": [
    {
      "cell_type": "markdown",
      "metadata": {
        "id": "view-in-github",
        "colab_type": "text"
      },
      "source": [
        "<a href=\"https://colab.research.google.com/github/JYRUS19/20230205-Python/blob/main/20230305.ipynb\" target=\"_parent\"><img src=\"https://colab.research.google.com/assets/colab-badge.svg\" alt=\"Open In Colab\"/></a>"
      ]
    },
    {
      "cell_type": "code",
      "execution_count": 1,
      "metadata": {
        "id": "1pckai1WUBO5"
      },
      "outputs": [],
      "source": [
        "import pandas as pd\n",
        "import numpy as np"
      ]
    },
    {
      "cell_type": "code",
      "source": [
        "grades = np.random.randint(30, 101, (10, 4))"
      ],
      "metadata": {
        "id": "to7Es-mBmn-I"
      },
      "execution_count": 3,
      "outputs": []
    },
    {
      "cell_type": "code",
      "source": [
        "df = pd.DataFrame(grades)"
      ],
      "metadata": {
        "id": "lJNvR1EDmtBR"
      },
      "execution_count": 4,
      "outputs": []
    },
    {
      "cell_type": "code",
      "source": [
        "df.columns = ['國文','英文','數學','理化']"
      ],
      "metadata": {
        "id": "WlNywkKRmteR"
      },
      "execution_count": 5,
      "outputs": []
    },
    {
      "cell_type": "code",
      "source": [
        "df.index = [\"ANNK\", \"CEEK\", \"BHHG\", \"EDSA\", \"DRES\", \"GDES\", \"REWS\", \"LKDE\", \"LWES\", \"HRED\"]\n"
      ],
      "metadata": {
        "id": "OqE8k7Glmu3-"
      },
      "execution_count": 6,
      "outputs": []
    },
    {
      "cell_type": "code",
      "source": [
        "df"
      ],
      "metadata": {
        "colab": {
          "base_uri": "https://localhost:8080/",
          "height": 363
        },
        "id": "v8iz8F9Km5-j",
        "outputId": "5d66dc75-3d8a-4021-a3e2-650257b425bd"
      },
      "execution_count": 7,
      "outputs": [
        {
          "output_type": "execute_result",
          "data": {
            "text/plain": [
              "      國文  英文   數學  理化\n",
              "ANNK  54  58   53  70\n",
              "CEEK  64  63   32  40\n",
              "BHHG  32  30   45  98\n",
              "EDSA  51  82  100  42\n",
              "DRES  55  39   59  48\n",
              "GDES  74  48   70  75\n",
              "REWS  59  60   91  35\n",
              "LKDE  66  47   54  63\n",
              "LWES  99  53   36  82\n",
              "HRED  51  83   57  75"
            ],
            "text/html": [
              "\n",
              "  <div id=\"df-166cf181-496f-4bb9-be9f-bf8128c16287\">\n",
              "    <div class=\"colab-df-container\">\n",
              "      <div>\n",
              "<style scoped>\n",
              "    .dataframe tbody tr th:only-of-type {\n",
              "        vertical-align: middle;\n",
              "    }\n",
              "\n",
              "    .dataframe tbody tr th {\n",
              "        vertical-align: top;\n",
              "    }\n",
              "\n",
              "    .dataframe thead th {\n",
              "        text-align: right;\n",
              "    }\n",
              "</style>\n",
              "<table border=\"1\" class=\"dataframe\">\n",
              "  <thead>\n",
              "    <tr style=\"text-align: right;\">\n",
              "      <th></th>\n",
              "      <th>國文</th>\n",
              "      <th>英文</th>\n",
              "      <th>數學</th>\n",
              "      <th>理化</th>\n",
              "    </tr>\n",
              "  </thead>\n",
              "  <tbody>\n",
              "    <tr>\n",
              "      <th>ANNK</th>\n",
              "      <td>54</td>\n",
              "      <td>58</td>\n",
              "      <td>53</td>\n",
              "      <td>70</td>\n",
              "    </tr>\n",
              "    <tr>\n",
              "      <th>CEEK</th>\n",
              "      <td>64</td>\n",
              "      <td>63</td>\n",
              "      <td>32</td>\n",
              "      <td>40</td>\n",
              "    </tr>\n",
              "    <tr>\n",
              "      <th>BHHG</th>\n",
              "      <td>32</td>\n",
              "      <td>30</td>\n",
              "      <td>45</td>\n",
              "      <td>98</td>\n",
              "    </tr>\n",
              "    <tr>\n",
              "      <th>EDSA</th>\n",
              "      <td>51</td>\n",
              "      <td>82</td>\n",
              "      <td>100</td>\n",
              "      <td>42</td>\n",
              "    </tr>\n",
              "    <tr>\n",
              "      <th>DRES</th>\n",
              "      <td>55</td>\n",
              "      <td>39</td>\n",
              "      <td>59</td>\n",
              "      <td>48</td>\n",
              "    </tr>\n",
              "    <tr>\n",
              "      <th>GDES</th>\n",
              "      <td>74</td>\n",
              "      <td>48</td>\n",
              "      <td>70</td>\n",
              "      <td>75</td>\n",
              "    </tr>\n",
              "    <tr>\n",
              "      <th>REWS</th>\n",
              "      <td>59</td>\n",
              "      <td>60</td>\n",
              "      <td>91</td>\n",
              "      <td>35</td>\n",
              "    </tr>\n",
              "    <tr>\n",
              "      <th>LKDE</th>\n",
              "      <td>66</td>\n",
              "      <td>47</td>\n",
              "      <td>54</td>\n",
              "      <td>63</td>\n",
              "    </tr>\n",
              "    <tr>\n",
              "      <th>LWES</th>\n",
              "      <td>99</td>\n",
              "      <td>53</td>\n",
              "      <td>36</td>\n",
              "      <td>82</td>\n",
              "    </tr>\n",
              "    <tr>\n",
              "      <th>HRED</th>\n",
              "      <td>51</td>\n",
              "      <td>83</td>\n",
              "      <td>57</td>\n",
              "      <td>75</td>\n",
              "    </tr>\n",
              "  </tbody>\n",
              "</table>\n",
              "</div>\n",
              "      <button class=\"colab-df-convert\" onclick=\"convertToInteractive('df-166cf181-496f-4bb9-be9f-bf8128c16287')\"\n",
              "              title=\"Convert this dataframe to an interactive table.\"\n",
              "              style=\"display:none;\">\n",
              "        \n",
              "  <svg xmlns=\"http://www.w3.org/2000/svg\" height=\"24px\"viewBox=\"0 0 24 24\"\n",
              "       width=\"24px\">\n",
              "    <path d=\"M0 0h24v24H0V0z\" fill=\"none\"/>\n",
              "    <path d=\"M18.56 5.44l.94 2.06.94-2.06 2.06-.94-2.06-.94-.94-2.06-.94 2.06-2.06.94zm-11 1L8.5 8.5l.94-2.06 2.06-.94-2.06-.94L8.5 2.5l-.94 2.06-2.06.94zm10 10l.94 2.06.94-2.06 2.06-.94-2.06-.94-.94-2.06-.94 2.06-2.06.94z\"/><path d=\"M17.41 7.96l-1.37-1.37c-.4-.4-.92-.59-1.43-.59-.52 0-1.04.2-1.43.59L10.3 9.45l-7.72 7.72c-.78.78-.78 2.05 0 2.83L4 21.41c.39.39.9.59 1.41.59.51 0 1.02-.2 1.41-.59l7.78-7.78 2.81-2.81c.8-.78.8-2.07 0-2.86zM5.41 20L4 18.59l7.72-7.72 1.47 1.35L5.41 20z\"/>\n",
              "  </svg>\n",
              "      </button>\n",
              "      \n",
              "  <style>\n",
              "    .colab-df-container {\n",
              "      display:flex;\n",
              "      flex-wrap:wrap;\n",
              "      gap: 12px;\n",
              "    }\n",
              "\n",
              "    .colab-df-convert {\n",
              "      background-color: #E8F0FE;\n",
              "      border: none;\n",
              "      border-radius: 50%;\n",
              "      cursor: pointer;\n",
              "      display: none;\n",
              "      fill: #1967D2;\n",
              "      height: 32px;\n",
              "      padding: 0 0 0 0;\n",
              "      width: 32px;\n",
              "    }\n",
              "\n",
              "    .colab-df-convert:hover {\n",
              "      background-color: #E2EBFA;\n",
              "      box-shadow: 0px 1px 2px rgba(60, 64, 67, 0.3), 0px 1px 3px 1px rgba(60, 64, 67, 0.15);\n",
              "      fill: #174EA6;\n",
              "    }\n",
              "\n",
              "    [theme=dark] .colab-df-convert {\n",
              "      background-color: #3B4455;\n",
              "      fill: #D2E3FC;\n",
              "    }\n",
              "\n",
              "    [theme=dark] .colab-df-convert:hover {\n",
              "      background-color: #434B5C;\n",
              "      box-shadow: 0px 1px 3px 1px rgba(0, 0, 0, 0.15);\n",
              "      filter: drop-shadow(0px 1px 2px rgba(0, 0, 0, 0.3));\n",
              "      fill: #FFFFFF;\n",
              "    }\n",
              "  </style>\n",
              "\n",
              "      <script>\n",
              "        const buttonEl =\n",
              "          document.querySelector('#df-166cf181-496f-4bb9-be9f-bf8128c16287 button.colab-df-convert');\n",
              "        buttonEl.style.display =\n",
              "          google.colab.kernel.accessAllowed ? 'block' : 'none';\n",
              "\n",
              "        async function convertToInteractive(key) {\n",
              "          const element = document.querySelector('#df-166cf181-496f-4bb9-be9f-bf8128c16287');\n",
              "          const dataTable =\n",
              "            await google.colab.kernel.invokeFunction('convertToInteractive',\n",
              "                                                     [key], {});\n",
              "          if (!dataTable) return;\n",
              "\n",
              "          const docLinkHtml = 'Like what you see? Visit the ' +\n",
              "            '<a target=\"_blank\" href=https://colab.research.google.com/notebooks/data_table.ipynb>data table notebook</a>'\n",
              "            + ' to learn more about interactive tables.';\n",
              "          element.innerHTML = '';\n",
              "          dataTable['output_type'] = 'display_data';\n",
              "          await google.colab.output.renderOutput(dataTable, element);\n",
              "          const docLink = document.createElement('div');\n",
              "          docLink.innerHTML = docLinkHtml;\n",
              "          element.appendChild(docLink);\n",
              "        }\n",
              "      </script>\n",
              "    </div>\n",
              "  </div>\n",
              "  "
            ]
          },
          "metadata": {},
          "execution_count": 7
        }
      ]
    },
    {
      "cell_type": "markdown",
      "source": [
        "## 讀取特定欄位"
      ],
      "metadata": {
        "id": "DuuMa6BcoVBU"
      }
    },
    {
      "cell_type": "markdown",
      "source": [
        "### 讀取所有人的國文成績(單一個欄位)"
      ],
      "metadata": {
        "id": "I6zDfszyoZUD"
      }
    },
    {
      "cell_type": "code",
      "source": [
        "df['國文']"
      ],
      "metadata": {
        "colab": {
          "base_uri": "https://localhost:8080/"
        },
        "id": "ADTPsNgcoYsC",
        "outputId": "91327789-4231-4673-9e4e-595b4865a907"
      },
      "execution_count": 8,
      "outputs": [
        {
          "output_type": "execute_result",
          "data": {
            "text/plain": [
              "ANNK    54\n",
              "CEEK    64\n",
              "BHHG    32\n",
              "EDSA    51\n",
              "DRES    55\n",
              "GDES    74\n",
              "REWS    59\n",
              "LKDE    66\n",
              "LWES    99\n",
              "HRED    51\n",
              "Name: 國文, dtype: int64"
            ]
          },
          "metadata": {},
          "execution_count": 8
        }
      ]
    },
    {
      "cell_type": "code",
      "source": [
        "type(df['國文'])"
      ],
      "metadata": {
        "colab": {
          "base_uri": "https://localhost:8080/"
        },
        "id": "Rdbye5aFm7Nl",
        "outputId": "d3179e84-da7b-44e0-caaf-f031ade77054"
      },
      "execution_count": 9,
      "outputs": [
        {
          "output_type": "execute_result",
          "data": {
            "text/plain": [
              "pandas.core.series.Series"
            ]
          },
          "metadata": {},
          "execution_count": 9
        }
      ]
    },
    {
      "cell_type": "markdown",
      "source": [
        "### 同時讀取多個欄位(讀取國文與英文)"
      ],
      "metadata": {
        "id": "x8kC_fSfp4OT"
      }
    },
    {
      "cell_type": "code",
      "source": [
        "df[['國文', '英文']]"
      ],
      "metadata": {
        "colab": {
          "base_uri": "https://localhost:8080/",
          "height": 363
        },
        "id": "5yJeu6zupoN-",
        "outputId": "efd43ef5-f1eb-4d71-ab37-5585651ceb5f"
      },
      "execution_count": 10,
      "outputs": [
        {
          "output_type": "execute_result",
          "data": {
            "text/plain": [
              "      國文  英文\n",
              "ANNK  54  58\n",
              "CEEK  64  63\n",
              "BHHG  32  30\n",
              "EDSA  51  82\n",
              "DRES  55  39\n",
              "GDES  74  48\n",
              "REWS  59  60\n",
              "LKDE  66  47\n",
              "LWES  99  53\n",
              "HRED  51  83"
            ],
            "text/html": [
              "\n",
              "  <div id=\"df-ed7f7bf0-2edc-48c0-8e93-5b83f4eecdc6\">\n",
              "    <div class=\"colab-df-container\">\n",
              "      <div>\n",
              "<style scoped>\n",
              "    .dataframe tbody tr th:only-of-type {\n",
              "        vertical-align: middle;\n",
              "    }\n",
              "\n",
              "    .dataframe tbody tr th {\n",
              "        vertical-align: top;\n",
              "    }\n",
              "\n",
              "    .dataframe thead th {\n",
              "        text-align: right;\n",
              "    }\n",
              "</style>\n",
              "<table border=\"1\" class=\"dataframe\">\n",
              "  <thead>\n",
              "    <tr style=\"text-align: right;\">\n",
              "      <th></th>\n",
              "      <th>國文</th>\n",
              "      <th>英文</th>\n",
              "    </tr>\n",
              "  </thead>\n",
              "  <tbody>\n",
              "    <tr>\n",
              "      <th>ANNK</th>\n",
              "      <td>54</td>\n",
              "      <td>58</td>\n",
              "    </tr>\n",
              "    <tr>\n",
              "      <th>CEEK</th>\n",
              "      <td>64</td>\n",
              "      <td>63</td>\n",
              "    </tr>\n",
              "    <tr>\n",
              "      <th>BHHG</th>\n",
              "      <td>32</td>\n",
              "      <td>30</td>\n",
              "    </tr>\n",
              "    <tr>\n",
              "      <th>EDSA</th>\n",
              "      <td>51</td>\n",
              "      <td>82</td>\n",
              "    </tr>\n",
              "    <tr>\n",
              "      <th>DRES</th>\n",
              "      <td>55</td>\n",
              "      <td>39</td>\n",
              "    </tr>\n",
              "    <tr>\n",
              "      <th>GDES</th>\n",
              "      <td>74</td>\n",
              "      <td>48</td>\n",
              "    </tr>\n",
              "    <tr>\n",
              "      <th>REWS</th>\n",
              "      <td>59</td>\n",
              "      <td>60</td>\n",
              "    </tr>\n",
              "    <tr>\n",
              "      <th>LKDE</th>\n",
              "      <td>66</td>\n",
              "      <td>47</td>\n",
              "    </tr>\n",
              "    <tr>\n",
              "      <th>LWES</th>\n",
              "      <td>99</td>\n",
              "      <td>53</td>\n",
              "    </tr>\n",
              "    <tr>\n",
              "      <th>HRED</th>\n",
              "      <td>51</td>\n",
              "      <td>83</td>\n",
              "    </tr>\n",
              "  </tbody>\n",
              "</table>\n",
              "</div>\n",
              "      <button class=\"colab-df-convert\" onclick=\"convertToInteractive('df-ed7f7bf0-2edc-48c0-8e93-5b83f4eecdc6')\"\n",
              "              title=\"Convert this dataframe to an interactive table.\"\n",
              "              style=\"display:none;\">\n",
              "        \n",
              "  <svg xmlns=\"http://www.w3.org/2000/svg\" height=\"24px\"viewBox=\"0 0 24 24\"\n",
              "       width=\"24px\">\n",
              "    <path d=\"M0 0h24v24H0V0z\" fill=\"none\"/>\n",
              "    <path d=\"M18.56 5.44l.94 2.06.94-2.06 2.06-.94-2.06-.94-.94-2.06-.94 2.06-2.06.94zm-11 1L8.5 8.5l.94-2.06 2.06-.94-2.06-.94L8.5 2.5l-.94 2.06-2.06.94zm10 10l.94 2.06.94-2.06 2.06-.94-2.06-.94-.94-2.06-.94 2.06-2.06.94z\"/><path d=\"M17.41 7.96l-1.37-1.37c-.4-.4-.92-.59-1.43-.59-.52 0-1.04.2-1.43.59L10.3 9.45l-7.72 7.72c-.78.78-.78 2.05 0 2.83L4 21.41c.39.39.9.59 1.41.59.51 0 1.02-.2 1.41-.59l7.78-7.78 2.81-2.81c.8-.78.8-2.07 0-2.86zM5.41 20L4 18.59l7.72-7.72 1.47 1.35L5.41 20z\"/>\n",
              "  </svg>\n",
              "      </button>\n",
              "      \n",
              "  <style>\n",
              "    .colab-df-container {\n",
              "      display:flex;\n",
              "      flex-wrap:wrap;\n",
              "      gap: 12px;\n",
              "    }\n",
              "\n",
              "    .colab-df-convert {\n",
              "      background-color: #E8F0FE;\n",
              "      border: none;\n",
              "      border-radius: 50%;\n",
              "      cursor: pointer;\n",
              "      display: none;\n",
              "      fill: #1967D2;\n",
              "      height: 32px;\n",
              "      padding: 0 0 0 0;\n",
              "      width: 32px;\n",
              "    }\n",
              "\n",
              "    .colab-df-convert:hover {\n",
              "      background-color: #E2EBFA;\n",
              "      box-shadow: 0px 1px 2px rgba(60, 64, 67, 0.3), 0px 1px 3px 1px rgba(60, 64, 67, 0.15);\n",
              "      fill: #174EA6;\n",
              "    }\n",
              "\n",
              "    [theme=dark] .colab-df-convert {\n",
              "      background-color: #3B4455;\n",
              "      fill: #D2E3FC;\n",
              "    }\n",
              "\n",
              "    [theme=dark] .colab-df-convert:hover {\n",
              "      background-color: #434B5C;\n",
              "      box-shadow: 0px 1px 3px 1px rgba(0, 0, 0, 0.15);\n",
              "      filter: drop-shadow(0px 1px 2px rgba(0, 0, 0, 0.3));\n",
              "      fill: #FFFFFF;\n",
              "    }\n",
              "  </style>\n",
              "\n",
              "      <script>\n",
              "        const buttonEl =\n",
              "          document.querySelector('#df-ed7f7bf0-2edc-48c0-8e93-5b83f4eecdc6 button.colab-df-convert');\n",
              "        buttonEl.style.display =\n",
              "          google.colab.kernel.accessAllowed ? 'block' : 'none';\n",
              "\n",
              "        async function convertToInteractive(key) {\n",
              "          const element = document.querySelector('#df-ed7f7bf0-2edc-48c0-8e93-5b83f4eecdc6');\n",
              "          const dataTable =\n",
              "            await google.colab.kernel.invokeFunction('convertToInteractive',\n",
              "                                                     [key], {});\n",
              "          if (!dataTable) return;\n",
              "\n",
              "          const docLinkHtml = 'Like what you see? Visit the ' +\n",
              "            '<a target=\"_blank\" href=https://colab.research.google.com/notebooks/data_table.ipynb>data table notebook</a>'\n",
              "            + ' to learn more about interactive tables.';\n",
              "          element.innerHTML = '';\n",
              "          dataTable['output_type'] = 'display_data';\n",
              "          await google.colab.output.renderOutput(dataTable, element);\n",
              "          const docLink = document.createElement('div');\n",
              "          docLink.innerHTML = docLinkHtml;\n",
              "          element.appendChild(docLink);\n",
              "        }\n",
              "      </script>\n",
              "    </div>\n",
              "  </div>\n",
              "  "
            ]
          },
          "metadata": {},
          "execution_count": 10
        }
      ]
    },
    {
      "cell_type": "code",
      "source": [
        "type([['國文']])"
      ],
      "metadata": {
        "colab": {
          "base_uri": "https://localhost:8080/"
        },
        "id": "R_iSAeuTqQ3r",
        "outputId": "027be216-6692-4d0d-c1f3-d6f8df9edbe5"
      },
      "execution_count": 11,
      "outputs": [
        {
          "output_type": "execute_result",
          "data": {
            "text/plain": [
              "list"
            ]
          },
          "metadata": {},
          "execution_count": 11
        }
      ]
    },
    {
      "cell_type": "markdown",
      "source": [
        "## 讀取單一列的資料"
      ],
      "metadata": {
        "id": "mE_vUSUHqzrT"
      }
    },
    {
      "cell_type": "code",
      "source": [
        "df['CEEK']"
      ],
      "metadata": {
        "colab": {
          "base_uri": "https://localhost:8080/",
          "height": 504
        },
        "id": "5Aqb_OENqZTr",
        "outputId": "6bd8db76-5b22-4efc-ccf7-b391218c1b74"
      },
      "execution_count": 12,
      "outputs": [
        {
          "output_type": "error",
          "ename": "KeyError",
          "evalue": "ignored",
          "traceback": [
            "\u001b[0;31m---------------------------------------------------------------------------\u001b[0m",
            "\u001b[0;31mKeyError\u001b[0m                                  Traceback (most recent call last)",
            "\u001b[0;32m/usr/local/lib/python3.8/dist-packages/pandas/core/indexes/base.py\u001b[0m in \u001b[0;36mget_loc\u001b[0;34m(self, key, method, tolerance)\u001b[0m\n\u001b[1;32m   3360\u001b[0m             \u001b[0;32mtry\u001b[0m\u001b[0;34m:\u001b[0m\u001b[0;34m\u001b[0m\u001b[0;34m\u001b[0m\u001b[0m\n\u001b[0;32m-> 3361\u001b[0;31m                 \u001b[0;32mreturn\u001b[0m \u001b[0mself\u001b[0m\u001b[0;34m.\u001b[0m\u001b[0m_engine\u001b[0m\u001b[0;34m.\u001b[0m\u001b[0mget_loc\u001b[0m\u001b[0;34m(\u001b[0m\u001b[0mcasted_key\u001b[0m\u001b[0;34m)\u001b[0m\u001b[0;34m\u001b[0m\u001b[0;34m\u001b[0m\u001b[0m\n\u001b[0m\u001b[1;32m   3362\u001b[0m             \u001b[0;32mexcept\u001b[0m \u001b[0mKeyError\u001b[0m \u001b[0;32mas\u001b[0m \u001b[0merr\u001b[0m\u001b[0;34m:\u001b[0m\u001b[0;34m\u001b[0m\u001b[0;34m\u001b[0m\u001b[0m\n",
            "\u001b[0;32m/usr/local/lib/python3.8/dist-packages/pandas/_libs/index.pyx\u001b[0m in \u001b[0;36mpandas._libs.index.IndexEngine.get_loc\u001b[0;34m()\u001b[0m\n",
            "\u001b[0;32m/usr/local/lib/python3.8/dist-packages/pandas/_libs/index.pyx\u001b[0m in \u001b[0;36mpandas._libs.index.IndexEngine.get_loc\u001b[0;34m()\u001b[0m\n",
            "\u001b[0;32mpandas/_libs/hashtable_class_helper.pxi\u001b[0m in \u001b[0;36mpandas._libs.hashtable.PyObjectHashTable.get_item\u001b[0;34m()\u001b[0m\n",
            "\u001b[0;32mpandas/_libs/hashtable_class_helper.pxi\u001b[0m in \u001b[0;36mpandas._libs.hashtable.PyObjectHashTable.get_item\u001b[0;34m()\u001b[0m\n",
            "\u001b[0;31mKeyError\u001b[0m: 'CEEK'",
            "\nThe above exception was the direct cause of the following exception:\n",
            "\u001b[0;31mKeyError\u001b[0m                                  Traceback (most recent call last)",
            "\u001b[0;32m<ipython-input-12-d01684c5b8a2>\u001b[0m in \u001b[0;36m<module>\u001b[0;34m\u001b[0m\n\u001b[0;32m----> 1\u001b[0;31m \u001b[0mdf\u001b[0m\u001b[0;34m[\u001b[0m\u001b[0;34m'CEEK'\u001b[0m\u001b[0;34m]\u001b[0m\u001b[0;34m\u001b[0m\u001b[0;34m\u001b[0m\u001b[0m\n\u001b[0m",
            "\u001b[0;32m/usr/local/lib/python3.8/dist-packages/pandas/core/frame.py\u001b[0m in \u001b[0;36m__getitem__\u001b[0;34m(self, key)\u001b[0m\n\u001b[1;32m   3456\u001b[0m             \u001b[0;32mif\u001b[0m \u001b[0mself\u001b[0m\u001b[0;34m.\u001b[0m\u001b[0mcolumns\u001b[0m\u001b[0;34m.\u001b[0m\u001b[0mnlevels\u001b[0m \u001b[0;34m>\u001b[0m \u001b[0;36m1\u001b[0m\u001b[0;34m:\u001b[0m\u001b[0;34m\u001b[0m\u001b[0;34m\u001b[0m\u001b[0m\n\u001b[1;32m   3457\u001b[0m                 \u001b[0;32mreturn\u001b[0m \u001b[0mself\u001b[0m\u001b[0;34m.\u001b[0m\u001b[0m_getitem_multilevel\u001b[0m\u001b[0;34m(\u001b[0m\u001b[0mkey\u001b[0m\u001b[0;34m)\u001b[0m\u001b[0;34m\u001b[0m\u001b[0;34m\u001b[0m\u001b[0m\n\u001b[0;32m-> 3458\u001b[0;31m             \u001b[0mindexer\u001b[0m \u001b[0;34m=\u001b[0m \u001b[0mself\u001b[0m\u001b[0;34m.\u001b[0m\u001b[0mcolumns\u001b[0m\u001b[0;34m.\u001b[0m\u001b[0mget_loc\u001b[0m\u001b[0;34m(\u001b[0m\u001b[0mkey\u001b[0m\u001b[0;34m)\u001b[0m\u001b[0;34m\u001b[0m\u001b[0;34m\u001b[0m\u001b[0m\n\u001b[0m\u001b[1;32m   3459\u001b[0m             \u001b[0;32mif\u001b[0m \u001b[0mis_integer\u001b[0m\u001b[0;34m(\u001b[0m\u001b[0mindexer\u001b[0m\u001b[0;34m)\u001b[0m\u001b[0;34m:\u001b[0m\u001b[0;34m\u001b[0m\u001b[0;34m\u001b[0m\u001b[0m\n\u001b[1;32m   3460\u001b[0m                 \u001b[0mindexer\u001b[0m \u001b[0;34m=\u001b[0m \u001b[0;34m[\u001b[0m\u001b[0mindexer\u001b[0m\u001b[0;34m]\u001b[0m\u001b[0;34m\u001b[0m\u001b[0;34m\u001b[0m\u001b[0m\n",
            "\u001b[0;32m/usr/local/lib/python3.8/dist-packages/pandas/core/indexes/base.py\u001b[0m in \u001b[0;36mget_loc\u001b[0;34m(self, key, method, tolerance)\u001b[0m\n\u001b[1;32m   3361\u001b[0m                 \u001b[0;32mreturn\u001b[0m \u001b[0mself\u001b[0m\u001b[0;34m.\u001b[0m\u001b[0m_engine\u001b[0m\u001b[0;34m.\u001b[0m\u001b[0mget_loc\u001b[0m\u001b[0;34m(\u001b[0m\u001b[0mcasted_key\u001b[0m\u001b[0;34m)\u001b[0m\u001b[0;34m\u001b[0m\u001b[0;34m\u001b[0m\u001b[0m\n\u001b[1;32m   3362\u001b[0m             \u001b[0;32mexcept\u001b[0m \u001b[0mKeyError\u001b[0m \u001b[0;32mas\u001b[0m \u001b[0merr\u001b[0m\u001b[0;34m:\u001b[0m\u001b[0;34m\u001b[0m\u001b[0;34m\u001b[0m\u001b[0m\n\u001b[0;32m-> 3363\u001b[0;31m                 \u001b[0;32mraise\u001b[0m \u001b[0mKeyError\u001b[0m\u001b[0;34m(\u001b[0m\u001b[0mkey\u001b[0m\u001b[0;34m)\u001b[0m \u001b[0;32mfrom\u001b[0m \u001b[0merr\u001b[0m\u001b[0;34m\u001b[0m\u001b[0;34m\u001b[0m\u001b[0m\n\u001b[0m\u001b[1;32m   3364\u001b[0m \u001b[0;34m\u001b[0m\u001b[0m\n\u001b[1;32m   3365\u001b[0m         \u001b[0;32mif\u001b[0m \u001b[0mis_scalar\u001b[0m\u001b[0;34m(\u001b[0m\u001b[0mkey\u001b[0m\u001b[0;34m)\u001b[0m \u001b[0;32mand\u001b[0m \u001b[0misna\u001b[0m\u001b[0;34m(\u001b[0m\u001b[0mkey\u001b[0m\u001b[0;34m)\u001b[0m \u001b[0;32mand\u001b[0m \u001b[0;32mnot\u001b[0m \u001b[0mself\u001b[0m\u001b[0;34m.\u001b[0m\u001b[0mhasnans\u001b[0m\u001b[0;34m:\u001b[0m\u001b[0;34m\u001b[0m\u001b[0;34m\u001b[0m\u001b[0m\n",
            "\u001b[0;31mKeyError\u001b[0m: 'CEEK'"
          ]
        }
      ]
    },
    {
      "cell_type": "markdown",
      "source": [
        "### 使用.loc()及iloc()"
      ],
      "metadata": {
        "id": "SKZTGKFJrLOP"
      }
    },
    {
      "cell_type": "code",
      "source": [
        "df.loc['CEEK']"
      ],
      "metadata": {
        "colab": {
          "base_uri": "https://localhost:8080/"
        },
        "id": "5tbIZQL9rI4Y",
        "outputId": "4716e264-1d07-44a2-9ede-7e4d194a95c6"
      },
      "execution_count": 13,
      "outputs": [
        {
          "output_type": "execute_result",
          "data": {
            "text/plain": [
              "國文    64\n",
              "英文    63\n",
              "數學    32\n",
              "理化    40\n",
              "Name: CEEK, dtype: int64"
            ]
          },
          "metadata": {},
          "execution_count": 13
        }
      ]
    },
    {
      "cell_type": "code",
      "source": [
        "#.loc與.iloc使用上差別比較\n",
        "df.iloc[0]"
      ],
      "metadata": {
        "colab": {
          "base_uri": "https://localhost:8080/"
        },
        "id": "ggDuXdgIrUpD",
        "outputId": "7fe6e314-501f-48ac-8be1-04d54ccc7035"
      },
      "execution_count": 14,
      "outputs": [
        {
          "output_type": "execute_result",
          "data": {
            "text/plain": [
              "國文    54\n",
              "英文    58\n",
              "數學    53\n",
              "理化    70\n",
              "Name: ANNK, dtype: int64"
            ]
          },
          "metadata": {},
          "execution_count": 14
        }
      ]
    },
    {
      "cell_type": "markdown",
      "source": [
        "### 一次讀取多列資料"
      ],
      "metadata": {
        "id": "2_XxatZEsrTH"
      }
    },
    {
      "cell_type": "code",
      "source": [
        "#第一個到第四個\n",
        "df.loc['CEEK':'DRES']"
      ],
      "metadata": {
        "colab": {
          "base_uri": "https://localhost:8080/",
          "height": 174
        },
        "id": "zYdyAtGIrZmT",
        "outputId": "f201362d-a4de-43fe-c9b5-b34ab9076202"
      },
      "execution_count": 23,
      "outputs": [
        {
          "output_type": "execute_result",
          "data": {
            "text/plain": [
              "      國文  英文   數學  理化\n",
              "CEEK  64  63   32  40\n",
              "BHHG  32  30   45  98\n",
              "EDSA  51  82  100  42\n",
              "DRES  55  39   59  48"
            ],
            "text/html": [
              "\n",
              "  <div id=\"df-3c630b0b-8a83-45ea-9de4-7d0783c08f39\">\n",
              "    <div class=\"colab-df-container\">\n",
              "      <div>\n",
              "<style scoped>\n",
              "    .dataframe tbody tr th:only-of-type {\n",
              "        vertical-align: middle;\n",
              "    }\n",
              "\n",
              "    .dataframe tbody tr th {\n",
              "        vertical-align: top;\n",
              "    }\n",
              "\n",
              "    .dataframe thead th {\n",
              "        text-align: right;\n",
              "    }\n",
              "</style>\n",
              "<table border=\"1\" class=\"dataframe\">\n",
              "  <thead>\n",
              "    <tr style=\"text-align: right;\">\n",
              "      <th></th>\n",
              "      <th>國文</th>\n",
              "      <th>英文</th>\n",
              "      <th>數學</th>\n",
              "      <th>理化</th>\n",
              "    </tr>\n",
              "  </thead>\n",
              "  <tbody>\n",
              "    <tr>\n",
              "      <th>CEEK</th>\n",
              "      <td>64</td>\n",
              "      <td>63</td>\n",
              "      <td>32</td>\n",
              "      <td>40</td>\n",
              "    </tr>\n",
              "    <tr>\n",
              "      <th>BHHG</th>\n",
              "      <td>32</td>\n",
              "      <td>30</td>\n",
              "      <td>45</td>\n",
              "      <td>98</td>\n",
              "    </tr>\n",
              "    <tr>\n",
              "      <th>EDSA</th>\n",
              "      <td>51</td>\n",
              "      <td>82</td>\n",
              "      <td>100</td>\n",
              "      <td>42</td>\n",
              "    </tr>\n",
              "    <tr>\n",
              "      <th>DRES</th>\n",
              "      <td>55</td>\n",
              "      <td>39</td>\n",
              "      <td>59</td>\n",
              "      <td>48</td>\n",
              "    </tr>\n",
              "  </tbody>\n",
              "</table>\n",
              "</div>\n",
              "      <button class=\"colab-df-convert\" onclick=\"convertToInteractive('df-3c630b0b-8a83-45ea-9de4-7d0783c08f39')\"\n",
              "              title=\"Convert this dataframe to an interactive table.\"\n",
              "              style=\"display:none;\">\n",
              "        \n",
              "  <svg xmlns=\"http://www.w3.org/2000/svg\" height=\"24px\"viewBox=\"0 0 24 24\"\n",
              "       width=\"24px\">\n",
              "    <path d=\"M0 0h24v24H0V0z\" fill=\"none\"/>\n",
              "    <path d=\"M18.56 5.44l.94 2.06.94-2.06 2.06-.94-2.06-.94-.94-2.06-.94 2.06-2.06.94zm-11 1L8.5 8.5l.94-2.06 2.06-.94-2.06-.94L8.5 2.5l-.94 2.06-2.06.94zm10 10l.94 2.06.94-2.06 2.06-.94-2.06-.94-.94-2.06-.94 2.06-2.06.94z\"/><path d=\"M17.41 7.96l-1.37-1.37c-.4-.4-.92-.59-1.43-.59-.52 0-1.04.2-1.43.59L10.3 9.45l-7.72 7.72c-.78.78-.78 2.05 0 2.83L4 21.41c.39.39.9.59 1.41.59.51 0 1.02-.2 1.41-.59l7.78-7.78 2.81-2.81c.8-.78.8-2.07 0-2.86zM5.41 20L4 18.59l7.72-7.72 1.47 1.35L5.41 20z\"/>\n",
              "  </svg>\n",
              "      </button>\n",
              "      \n",
              "  <style>\n",
              "    .colab-df-container {\n",
              "      display:flex;\n",
              "      flex-wrap:wrap;\n",
              "      gap: 12px;\n",
              "    }\n",
              "\n",
              "    .colab-df-convert {\n",
              "      background-color: #E8F0FE;\n",
              "      border: none;\n",
              "      border-radius: 50%;\n",
              "      cursor: pointer;\n",
              "      display: none;\n",
              "      fill: #1967D2;\n",
              "      height: 32px;\n",
              "      padding: 0 0 0 0;\n",
              "      width: 32px;\n",
              "    }\n",
              "\n",
              "    .colab-df-convert:hover {\n",
              "      background-color: #E2EBFA;\n",
              "      box-shadow: 0px 1px 2px rgba(60, 64, 67, 0.3), 0px 1px 3px 1px rgba(60, 64, 67, 0.15);\n",
              "      fill: #174EA6;\n",
              "    }\n",
              "\n",
              "    [theme=dark] .colab-df-convert {\n",
              "      background-color: #3B4455;\n",
              "      fill: #D2E3FC;\n",
              "    }\n",
              "\n",
              "    [theme=dark] .colab-df-convert:hover {\n",
              "      background-color: #434B5C;\n",
              "      box-shadow: 0px 1px 3px 1px rgba(0, 0, 0, 0.15);\n",
              "      filter: drop-shadow(0px 1px 2px rgba(0, 0, 0, 0.3));\n",
              "      fill: #FFFFFF;\n",
              "    }\n",
              "  </style>\n",
              "\n",
              "      <script>\n",
              "        const buttonEl =\n",
              "          document.querySelector('#df-3c630b0b-8a83-45ea-9de4-7d0783c08f39 button.colab-df-convert');\n",
              "        buttonEl.style.display =\n",
              "          google.colab.kernel.accessAllowed ? 'block' : 'none';\n",
              "\n",
              "        async function convertToInteractive(key) {\n",
              "          const element = document.querySelector('#df-3c630b0b-8a83-45ea-9de4-7d0783c08f39');\n",
              "          const dataTable =\n",
              "            await google.colab.kernel.invokeFunction('convertToInteractive',\n",
              "                                                     [key], {});\n",
              "          if (!dataTable) return;\n",
              "\n",
              "          const docLinkHtml = 'Like what you see? Visit the ' +\n",
              "            '<a target=\"_blank\" href=https://colab.research.google.com/notebooks/data_table.ipynb>data table notebook</a>'\n",
              "            + ' to learn more about interactive tables.';\n",
              "          element.innerHTML = '';\n",
              "          dataTable['output_type'] = 'display_data';\n",
              "          await google.colab.output.renderOutput(dataTable, element);\n",
              "          const docLink = document.createElement('div');\n",
              "          docLink.innerHTML = docLinkHtml;\n",
              "          element.appendChild(docLink);\n",
              "        }\n",
              "      </script>\n",
              "    </div>\n",
              "  </div>\n",
              "  "
            ]
          },
          "metadata": {},
          "execution_count": 23
        }
      ]
    },
    {
      "cell_type": "code",
      "source": [
        "#第一個與第四個\n",
        "df.loc[['CEEK','DRES']]"
      ],
      "metadata": {
        "colab": {
          "base_uri": "https://localhost:8080/",
          "height": 112
        },
        "id": "ydb5eB00siOW",
        "outputId": "5664cb22-3493-4b3b-f8fe-3072a9e6e48c"
      },
      "execution_count": 21,
      "outputs": [
        {
          "output_type": "execute_result",
          "data": {
            "text/plain": [
              "      國文  英文  數學  理化\n",
              "CEEK  64  63  32  40\n",
              "DRES  55  39  59  48"
            ],
            "text/html": [
              "\n",
              "  <div id=\"df-b2c8eca5-456c-49be-a953-5c1ba7b6bfae\">\n",
              "    <div class=\"colab-df-container\">\n",
              "      <div>\n",
              "<style scoped>\n",
              "    .dataframe tbody tr th:only-of-type {\n",
              "        vertical-align: middle;\n",
              "    }\n",
              "\n",
              "    .dataframe tbody tr th {\n",
              "        vertical-align: top;\n",
              "    }\n",
              "\n",
              "    .dataframe thead th {\n",
              "        text-align: right;\n",
              "    }\n",
              "</style>\n",
              "<table border=\"1\" class=\"dataframe\">\n",
              "  <thead>\n",
              "    <tr style=\"text-align: right;\">\n",
              "      <th></th>\n",
              "      <th>國文</th>\n",
              "      <th>英文</th>\n",
              "      <th>數學</th>\n",
              "      <th>理化</th>\n",
              "    </tr>\n",
              "  </thead>\n",
              "  <tbody>\n",
              "    <tr>\n",
              "      <th>CEEK</th>\n",
              "      <td>64</td>\n",
              "      <td>63</td>\n",
              "      <td>32</td>\n",
              "      <td>40</td>\n",
              "    </tr>\n",
              "    <tr>\n",
              "      <th>DRES</th>\n",
              "      <td>55</td>\n",
              "      <td>39</td>\n",
              "      <td>59</td>\n",
              "      <td>48</td>\n",
              "    </tr>\n",
              "  </tbody>\n",
              "</table>\n",
              "</div>\n",
              "      <button class=\"colab-df-convert\" onclick=\"convertToInteractive('df-b2c8eca5-456c-49be-a953-5c1ba7b6bfae')\"\n",
              "              title=\"Convert this dataframe to an interactive table.\"\n",
              "              style=\"display:none;\">\n",
              "        \n",
              "  <svg xmlns=\"http://www.w3.org/2000/svg\" height=\"24px\"viewBox=\"0 0 24 24\"\n",
              "       width=\"24px\">\n",
              "    <path d=\"M0 0h24v24H0V0z\" fill=\"none\"/>\n",
              "    <path d=\"M18.56 5.44l.94 2.06.94-2.06 2.06-.94-2.06-.94-.94-2.06-.94 2.06-2.06.94zm-11 1L8.5 8.5l.94-2.06 2.06-.94-2.06-.94L8.5 2.5l-.94 2.06-2.06.94zm10 10l.94 2.06.94-2.06 2.06-.94-2.06-.94-.94-2.06-.94 2.06-2.06.94z\"/><path d=\"M17.41 7.96l-1.37-1.37c-.4-.4-.92-.59-1.43-.59-.52 0-1.04.2-1.43.59L10.3 9.45l-7.72 7.72c-.78.78-.78 2.05 0 2.83L4 21.41c.39.39.9.59 1.41.59.51 0 1.02-.2 1.41-.59l7.78-7.78 2.81-2.81c.8-.78.8-2.07 0-2.86zM5.41 20L4 18.59l7.72-7.72 1.47 1.35L5.41 20z\"/>\n",
              "  </svg>\n",
              "      </button>\n",
              "      \n",
              "  <style>\n",
              "    .colab-df-container {\n",
              "      display:flex;\n",
              "      flex-wrap:wrap;\n",
              "      gap: 12px;\n",
              "    }\n",
              "\n",
              "    .colab-df-convert {\n",
              "      background-color: #E8F0FE;\n",
              "      border: none;\n",
              "      border-radius: 50%;\n",
              "      cursor: pointer;\n",
              "      display: none;\n",
              "      fill: #1967D2;\n",
              "      height: 32px;\n",
              "      padding: 0 0 0 0;\n",
              "      width: 32px;\n",
              "    }\n",
              "\n",
              "    .colab-df-convert:hover {\n",
              "      background-color: #E2EBFA;\n",
              "      box-shadow: 0px 1px 2px rgba(60, 64, 67, 0.3), 0px 1px 3px 1px rgba(60, 64, 67, 0.15);\n",
              "      fill: #174EA6;\n",
              "    }\n",
              "\n",
              "    [theme=dark] .colab-df-convert {\n",
              "      background-color: #3B4455;\n",
              "      fill: #D2E3FC;\n",
              "    }\n",
              "\n",
              "    [theme=dark] .colab-df-convert:hover {\n",
              "      background-color: #434B5C;\n",
              "      box-shadow: 0px 1px 3px 1px rgba(0, 0, 0, 0.15);\n",
              "      filter: drop-shadow(0px 1px 2px rgba(0, 0, 0, 0.3));\n",
              "      fill: #FFFFFF;\n",
              "    }\n",
              "  </style>\n",
              "\n",
              "      <script>\n",
              "        const buttonEl =\n",
              "          document.querySelector('#df-b2c8eca5-456c-49be-a953-5c1ba7b6bfae button.colab-df-convert');\n",
              "        buttonEl.style.display =\n",
              "          google.colab.kernel.accessAllowed ? 'block' : 'none';\n",
              "\n",
              "        async function convertToInteractive(key) {\n",
              "          const element = document.querySelector('#df-b2c8eca5-456c-49be-a953-5c1ba7b6bfae');\n",
              "          const dataTable =\n",
              "            await google.colab.kernel.invokeFunction('convertToInteractive',\n",
              "                                                     [key], {});\n",
              "          if (!dataTable) return;\n",
              "\n",
              "          const docLinkHtml = 'Like what you see? Visit the ' +\n",
              "            '<a target=\"_blank\" href=https://colab.research.google.com/notebooks/data_table.ipynb>data table notebook</a>'\n",
              "            + ' to learn more about interactive tables.';\n",
              "          element.innerHTML = '';\n",
              "          dataTable['output_type'] = 'display_data';\n",
              "          await google.colab.output.renderOutput(dataTable, element);\n",
              "          const docLink = document.createElement('div');\n",
              "          docLink.innerHTML = docLinkHtml;\n",
              "          element.appendChild(docLink);\n",
              "        }\n",
              "      </script>\n",
              "    </div>\n",
              "  </div>\n",
              "  "
            ]
          },
          "metadata": {},
          "execution_count": 21
        }
      ]
    },
    {
      "cell_type": "markdown",
      "source": [
        "### 讀取特定欄跟列的資料"
      ],
      "metadata": {
        "id": "oDZY94VXth4J"
      }
    },
    {
      "cell_type": "code",
      "source": [
        "df.loc['CEEK':'DRES',['國文','英文']]"
      ],
      "metadata": {
        "colab": {
          "base_uri": "https://localhost:8080/",
          "height": 174
        },
        "id": "agSkKprTtOzw",
        "outputId": "b101f62e-c32b-4e08-b631-c6b41cbc0f71"
      },
      "execution_count": 25,
      "outputs": [
        {
          "output_type": "execute_result",
          "data": {
            "text/plain": [
              "      國文  英文\n",
              "CEEK  64  63\n",
              "BHHG  32  30\n",
              "EDSA  51  82\n",
              "DRES  55  39"
            ],
            "text/html": [
              "\n",
              "  <div id=\"df-c44760ed-7cda-487b-a646-d23cd5c8080f\">\n",
              "    <div class=\"colab-df-container\">\n",
              "      <div>\n",
              "<style scoped>\n",
              "    .dataframe tbody tr th:only-of-type {\n",
              "        vertical-align: middle;\n",
              "    }\n",
              "\n",
              "    .dataframe tbody tr th {\n",
              "        vertical-align: top;\n",
              "    }\n",
              "\n",
              "    .dataframe thead th {\n",
              "        text-align: right;\n",
              "    }\n",
              "</style>\n",
              "<table border=\"1\" class=\"dataframe\">\n",
              "  <thead>\n",
              "    <tr style=\"text-align: right;\">\n",
              "      <th></th>\n",
              "      <th>國文</th>\n",
              "      <th>英文</th>\n",
              "    </tr>\n",
              "  </thead>\n",
              "  <tbody>\n",
              "    <tr>\n",
              "      <th>CEEK</th>\n",
              "      <td>64</td>\n",
              "      <td>63</td>\n",
              "    </tr>\n",
              "    <tr>\n",
              "      <th>BHHG</th>\n",
              "      <td>32</td>\n",
              "      <td>30</td>\n",
              "    </tr>\n",
              "    <tr>\n",
              "      <th>EDSA</th>\n",
              "      <td>51</td>\n",
              "      <td>82</td>\n",
              "    </tr>\n",
              "    <tr>\n",
              "      <th>DRES</th>\n",
              "      <td>55</td>\n",
              "      <td>39</td>\n",
              "    </tr>\n",
              "  </tbody>\n",
              "</table>\n",
              "</div>\n",
              "      <button class=\"colab-df-convert\" onclick=\"convertToInteractive('df-c44760ed-7cda-487b-a646-d23cd5c8080f')\"\n",
              "              title=\"Convert this dataframe to an interactive table.\"\n",
              "              style=\"display:none;\">\n",
              "        \n",
              "  <svg xmlns=\"http://www.w3.org/2000/svg\" height=\"24px\"viewBox=\"0 0 24 24\"\n",
              "       width=\"24px\">\n",
              "    <path d=\"M0 0h24v24H0V0z\" fill=\"none\"/>\n",
              "    <path d=\"M18.56 5.44l.94 2.06.94-2.06 2.06-.94-2.06-.94-.94-2.06-.94 2.06-2.06.94zm-11 1L8.5 8.5l.94-2.06 2.06-.94-2.06-.94L8.5 2.5l-.94 2.06-2.06.94zm10 10l.94 2.06.94-2.06 2.06-.94-2.06-.94-.94-2.06-.94 2.06-2.06.94z\"/><path d=\"M17.41 7.96l-1.37-1.37c-.4-.4-.92-.59-1.43-.59-.52 0-1.04.2-1.43.59L10.3 9.45l-7.72 7.72c-.78.78-.78 2.05 0 2.83L4 21.41c.39.39.9.59 1.41.59.51 0 1.02-.2 1.41-.59l7.78-7.78 2.81-2.81c.8-.78.8-2.07 0-2.86zM5.41 20L4 18.59l7.72-7.72 1.47 1.35L5.41 20z\"/>\n",
              "  </svg>\n",
              "      </button>\n",
              "      \n",
              "  <style>\n",
              "    .colab-df-container {\n",
              "      display:flex;\n",
              "      flex-wrap:wrap;\n",
              "      gap: 12px;\n",
              "    }\n",
              "\n",
              "    .colab-df-convert {\n",
              "      background-color: #E8F0FE;\n",
              "      border: none;\n",
              "      border-radius: 50%;\n",
              "      cursor: pointer;\n",
              "      display: none;\n",
              "      fill: #1967D2;\n",
              "      height: 32px;\n",
              "      padding: 0 0 0 0;\n",
              "      width: 32px;\n",
              "    }\n",
              "\n",
              "    .colab-df-convert:hover {\n",
              "      background-color: #E2EBFA;\n",
              "      box-shadow: 0px 1px 2px rgba(60, 64, 67, 0.3), 0px 1px 3px 1px rgba(60, 64, 67, 0.15);\n",
              "      fill: #174EA6;\n",
              "    }\n",
              "\n",
              "    [theme=dark] .colab-df-convert {\n",
              "      background-color: #3B4455;\n",
              "      fill: #D2E3FC;\n",
              "    }\n",
              "\n",
              "    [theme=dark] .colab-df-convert:hover {\n",
              "      background-color: #434B5C;\n",
              "      box-shadow: 0px 1px 3px 1px rgba(0, 0, 0, 0.15);\n",
              "      filter: drop-shadow(0px 1px 2px rgba(0, 0, 0, 0.3));\n",
              "      fill: #FFFFFF;\n",
              "    }\n",
              "  </style>\n",
              "\n",
              "      <script>\n",
              "        const buttonEl =\n",
              "          document.querySelector('#df-c44760ed-7cda-487b-a646-d23cd5c8080f button.colab-df-convert');\n",
              "        buttonEl.style.display =\n",
              "          google.colab.kernel.accessAllowed ? 'block' : 'none';\n",
              "\n",
              "        async function convertToInteractive(key) {\n",
              "          const element = document.querySelector('#df-c44760ed-7cda-487b-a646-d23cd5c8080f');\n",
              "          const dataTable =\n",
              "            await google.colab.kernel.invokeFunction('convertToInteractive',\n",
              "                                                     [key], {});\n",
              "          if (!dataTable) return;\n",
              "\n",
              "          const docLinkHtml = 'Like what you see? Visit the ' +\n",
              "            '<a target=\"_blank\" href=https://colab.research.google.com/notebooks/data_table.ipynb>data table notebook</a>'\n",
              "            + ' to learn more about interactive tables.';\n",
              "          element.innerHTML = '';\n",
              "          dataTable['output_type'] = 'display_data';\n",
              "          await google.colab.output.renderOutput(dataTable, element);\n",
              "          const docLink = document.createElement('div');\n",
              "          docLink.innerHTML = docLinkHtml;\n",
              "          element.appendChild(docLink);\n",
              "        }\n",
              "      </script>\n",
              "    </div>\n",
              "  </div>\n",
              "  "
            ]
          },
          "metadata": {},
          "execution_count": 25
        }
      ]
    },
    {
      "cell_type": "markdown",
      "source": [
        "## Boolean Indexing / Filtering / Subsetting\n",
        "\n",
        "練習：找出國文成績不及格的小朋友名單"
      ],
      "metadata": {
        "id": "inhk7TpVyOV6"
      }
    },
    {
      "cell_type": "code",
      "source": [
        "df"
      ],
      "metadata": {
        "colab": {
          "base_uri": "https://localhost:8080/",
          "height": 363
        },
        "id": "4yKQnInByToo",
        "outputId": "f43be977-a02c-4c60-ba74-4438451e1472"
      },
      "execution_count": 29,
      "outputs": [
        {
          "output_type": "execute_result",
          "data": {
            "text/plain": [
              "      國文  英文   數學  理化\n",
              "ANNK  54  58   53  70\n",
              "CEEK  64  63   32  40\n",
              "BHHG  32  30   45  98\n",
              "EDSA  51  82  100  42\n",
              "DRES  55  39   59  48\n",
              "GDES  74  48   70  75\n",
              "REWS  59  60   91  35\n",
              "LKDE  66  47   54  63\n",
              "LWES  99  53   36  82\n",
              "HRED  51  83   57  75"
            ],
            "text/html": [
              "\n",
              "  <div id=\"df-15b971f1-e33b-4ccf-8592-d40c3d9de65e\">\n",
              "    <div class=\"colab-df-container\">\n",
              "      <div>\n",
              "<style scoped>\n",
              "    .dataframe tbody tr th:only-of-type {\n",
              "        vertical-align: middle;\n",
              "    }\n",
              "\n",
              "    .dataframe tbody tr th {\n",
              "        vertical-align: top;\n",
              "    }\n",
              "\n",
              "    .dataframe thead th {\n",
              "        text-align: right;\n",
              "    }\n",
              "</style>\n",
              "<table border=\"1\" class=\"dataframe\">\n",
              "  <thead>\n",
              "    <tr style=\"text-align: right;\">\n",
              "      <th></th>\n",
              "      <th>國文</th>\n",
              "      <th>英文</th>\n",
              "      <th>數學</th>\n",
              "      <th>理化</th>\n",
              "    </tr>\n",
              "  </thead>\n",
              "  <tbody>\n",
              "    <tr>\n",
              "      <th>ANNK</th>\n",
              "      <td>54</td>\n",
              "      <td>58</td>\n",
              "      <td>53</td>\n",
              "      <td>70</td>\n",
              "    </tr>\n",
              "    <tr>\n",
              "      <th>CEEK</th>\n",
              "      <td>64</td>\n",
              "      <td>63</td>\n",
              "      <td>32</td>\n",
              "      <td>40</td>\n",
              "    </tr>\n",
              "    <tr>\n",
              "      <th>BHHG</th>\n",
              "      <td>32</td>\n",
              "      <td>30</td>\n",
              "      <td>45</td>\n",
              "      <td>98</td>\n",
              "    </tr>\n",
              "    <tr>\n",
              "      <th>EDSA</th>\n",
              "      <td>51</td>\n",
              "      <td>82</td>\n",
              "      <td>100</td>\n",
              "      <td>42</td>\n",
              "    </tr>\n",
              "    <tr>\n",
              "      <th>DRES</th>\n",
              "      <td>55</td>\n",
              "      <td>39</td>\n",
              "      <td>59</td>\n",
              "      <td>48</td>\n",
              "    </tr>\n",
              "    <tr>\n",
              "      <th>GDES</th>\n",
              "      <td>74</td>\n",
              "      <td>48</td>\n",
              "      <td>70</td>\n",
              "      <td>75</td>\n",
              "    </tr>\n",
              "    <tr>\n",
              "      <th>REWS</th>\n",
              "      <td>59</td>\n",
              "      <td>60</td>\n",
              "      <td>91</td>\n",
              "      <td>35</td>\n",
              "    </tr>\n",
              "    <tr>\n",
              "      <th>LKDE</th>\n",
              "      <td>66</td>\n",
              "      <td>47</td>\n",
              "      <td>54</td>\n",
              "      <td>63</td>\n",
              "    </tr>\n",
              "    <tr>\n",
              "      <th>LWES</th>\n",
              "      <td>99</td>\n",
              "      <td>53</td>\n",
              "      <td>36</td>\n",
              "      <td>82</td>\n",
              "    </tr>\n",
              "    <tr>\n",
              "      <th>HRED</th>\n",
              "      <td>51</td>\n",
              "      <td>83</td>\n",
              "      <td>57</td>\n",
              "      <td>75</td>\n",
              "    </tr>\n",
              "  </tbody>\n",
              "</table>\n",
              "</div>\n",
              "      <button class=\"colab-df-convert\" onclick=\"convertToInteractive('df-15b971f1-e33b-4ccf-8592-d40c3d9de65e')\"\n",
              "              title=\"Convert this dataframe to an interactive table.\"\n",
              "              style=\"display:none;\">\n",
              "        \n",
              "  <svg xmlns=\"http://www.w3.org/2000/svg\" height=\"24px\"viewBox=\"0 0 24 24\"\n",
              "       width=\"24px\">\n",
              "    <path d=\"M0 0h24v24H0V0z\" fill=\"none\"/>\n",
              "    <path d=\"M18.56 5.44l.94 2.06.94-2.06 2.06-.94-2.06-.94-.94-2.06-.94 2.06-2.06.94zm-11 1L8.5 8.5l.94-2.06 2.06-.94-2.06-.94L8.5 2.5l-.94 2.06-2.06.94zm10 10l.94 2.06.94-2.06 2.06-.94-2.06-.94-.94-2.06-.94 2.06-2.06.94z\"/><path d=\"M17.41 7.96l-1.37-1.37c-.4-.4-.92-.59-1.43-.59-.52 0-1.04.2-1.43.59L10.3 9.45l-7.72 7.72c-.78.78-.78 2.05 0 2.83L4 21.41c.39.39.9.59 1.41.59.51 0 1.02-.2 1.41-.59l7.78-7.78 2.81-2.81c.8-.78.8-2.07 0-2.86zM5.41 20L4 18.59l7.72-7.72 1.47 1.35L5.41 20z\"/>\n",
              "  </svg>\n",
              "      </button>\n",
              "      \n",
              "  <style>\n",
              "    .colab-df-container {\n",
              "      display:flex;\n",
              "      flex-wrap:wrap;\n",
              "      gap: 12px;\n",
              "    }\n",
              "\n",
              "    .colab-df-convert {\n",
              "      background-color: #E8F0FE;\n",
              "      border: none;\n",
              "      border-radius: 50%;\n",
              "      cursor: pointer;\n",
              "      display: none;\n",
              "      fill: #1967D2;\n",
              "      height: 32px;\n",
              "      padding: 0 0 0 0;\n",
              "      width: 32px;\n",
              "    }\n",
              "\n",
              "    .colab-df-convert:hover {\n",
              "      background-color: #E2EBFA;\n",
              "      box-shadow: 0px 1px 2px rgba(60, 64, 67, 0.3), 0px 1px 3px 1px rgba(60, 64, 67, 0.15);\n",
              "      fill: #174EA6;\n",
              "    }\n",
              "\n",
              "    [theme=dark] .colab-df-convert {\n",
              "      background-color: #3B4455;\n",
              "      fill: #D2E3FC;\n",
              "    }\n",
              "\n",
              "    [theme=dark] .colab-df-convert:hover {\n",
              "      background-color: #434B5C;\n",
              "      box-shadow: 0px 1px 3px 1px rgba(0, 0, 0, 0.15);\n",
              "      filter: drop-shadow(0px 1px 2px rgba(0, 0, 0, 0.3));\n",
              "      fill: #FFFFFF;\n",
              "    }\n",
              "  </style>\n",
              "\n",
              "      <script>\n",
              "        const buttonEl =\n",
              "          document.querySelector('#df-15b971f1-e33b-4ccf-8592-d40c3d9de65e button.colab-df-convert');\n",
              "        buttonEl.style.display =\n",
              "          google.colab.kernel.accessAllowed ? 'block' : 'none';\n",
              "\n",
              "        async function convertToInteractive(key) {\n",
              "          const element = document.querySelector('#df-15b971f1-e33b-4ccf-8592-d40c3d9de65e');\n",
              "          const dataTable =\n",
              "            await google.colab.kernel.invokeFunction('convertToInteractive',\n",
              "                                                     [key], {});\n",
              "          if (!dataTable) return;\n",
              "\n",
              "          const docLinkHtml = 'Like what you see? Visit the ' +\n",
              "            '<a target=\"_blank\" href=https://colab.research.google.com/notebooks/data_table.ipynb>data table notebook</a>'\n",
              "            + ' to learn more about interactive tables.';\n",
              "          element.innerHTML = '';\n",
              "          dataTable['output_type'] = 'display_data';\n",
              "          await google.colab.output.renderOutput(dataTable, element);\n",
              "          const docLink = document.createElement('div');\n",
              "          docLink.innerHTML = docLinkHtml;\n",
              "          element.appendChild(docLink);\n",
              "        }\n",
              "      </script>\n",
              "    </div>\n",
              "  </div>\n",
              "  "
            ]
          },
          "metadata": {},
          "execution_count": 29
        }
      ]
    },
    {
      "cell_type": "code",
      "source": [
        "df['國文'] < 60"
      ],
      "metadata": {
        "colab": {
          "base_uri": "https://localhost:8080/"
        },
        "id": "DxMrFGH6yzWx",
        "outputId": "9fa8b472-fbd7-437c-f2bb-3205b7b88a24"
      },
      "execution_count": 35,
      "outputs": [
        {
          "output_type": "execute_result",
          "data": {
            "text/plain": [
              "ANNK     True\n",
              "CEEK    False\n",
              "BHHG     True\n",
              "EDSA     True\n",
              "DRES     True\n",
              "GDES    False\n",
              "REWS     True\n",
              "LKDE    False\n",
              "LWES    False\n",
              "HRED     True\n",
              "Name: 國文, dtype: bool"
            ]
          },
          "metadata": {},
          "execution_count": 35
        }
      ]
    },
    {
      "cell_type": "code",
      "source": [
        "df[df['國文'] < 60]"
      ],
      "metadata": {
        "colab": {
          "base_uri": "https://localhost:8080/",
          "height": 237
        },
        "id": "IKoAug6_yav5",
        "outputId": "f8fca079-c704-4ec2-dae9-bb7743840c1f"
      },
      "execution_count": 34,
      "outputs": [
        {
          "output_type": "execute_result",
          "data": {
            "text/plain": [
              "      國文  英文   數學  理化\n",
              "ANNK  54  58   53  70\n",
              "BHHG  32  30   45  98\n",
              "EDSA  51  82  100  42\n",
              "DRES  55  39   59  48\n",
              "REWS  59  60   91  35\n",
              "HRED  51  83   57  75"
            ],
            "text/html": [
              "\n",
              "  <div id=\"df-6bc30883-01c9-4352-b314-8915268a465c\">\n",
              "    <div class=\"colab-df-container\">\n",
              "      <div>\n",
              "<style scoped>\n",
              "    .dataframe tbody tr th:only-of-type {\n",
              "        vertical-align: middle;\n",
              "    }\n",
              "\n",
              "    .dataframe tbody tr th {\n",
              "        vertical-align: top;\n",
              "    }\n",
              "\n",
              "    .dataframe thead th {\n",
              "        text-align: right;\n",
              "    }\n",
              "</style>\n",
              "<table border=\"1\" class=\"dataframe\">\n",
              "  <thead>\n",
              "    <tr style=\"text-align: right;\">\n",
              "      <th></th>\n",
              "      <th>國文</th>\n",
              "      <th>英文</th>\n",
              "      <th>數學</th>\n",
              "      <th>理化</th>\n",
              "    </tr>\n",
              "  </thead>\n",
              "  <tbody>\n",
              "    <tr>\n",
              "      <th>ANNK</th>\n",
              "      <td>54</td>\n",
              "      <td>58</td>\n",
              "      <td>53</td>\n",
              "      <td>70</td>\n",
              "    </tr>\n",
              "    <tr>\n",
              "      <th>BHHG</th>\n",
              "      <td>32</td>\n",
              "      <td>30</td>\n",
              "      <td>45</td>\n",
              "      <td>98</td>\n",
              "    </tr>\n",
              "    <tr>\n",
              "      <th>EDSA</th>\n",
              "      <td>51</td>\n",
              "      <td>82</td>\n",
              "      <td>100</td>\n",
              "      <td>42</td>\n",
              "    </tr>\n",
              "    <tr>\n",
              "      <th>DRES</th>\n",
              "      <td>55</td>\n",
              "      <td>39</td>\n",
              "      <td>59</td>\n",
              "      <td>48</td>\n",
              "    </tr>\n",
              "    <tr>\n",
              "      <th>REWS</th>\n",
              "      <td>59</td>\n",
              "      <td>60</td>\n",
              "      <td>91</td>\n",
              "      <td>35</td>\n",
              "    </tr>\n",
              "    <tr>\n",
              "      <th>HRED</th>\n",
              "      <td>51</td>\n",
              "      <td>83</td>\n",
              "      <td>57</td>\n",
              "      <td>75</td>\n",
              "    </tr>\n",
              "  </tbody>\n",
              "</table>\n",
              "</div>\n",
              "      <button class=\"colab-df-convert\" onclick=\"convertToInteractive('df-6bc30883-01c9-4352-b314-8915268a465c')\"\n",
              "              title=\"Convert this dataframe to an interactive table.\"\n",
              "              style=\"display:none;\">\n",
              "        \n",
              "  <svg xmlns=\"http://www.w3.org/2000/svg\" height=\"24px\"viewBox=\"0 0 24 24\"\n",
              "       width=\"24px\">\n",
              "    <path d=\"M0 0h24v24H0V0z\" fill=\"none\"/>\n",
              "    <path d=\"M18.56 5.44l.94 2.06.94-2.06 2.06-.94-2.06-.94-.94-2.06-.94 2.06-2.06.94zm-11 1L8.5 8.5l.94-2.06 2.06-.94-2.06-.94L8.5 2.5l-.94 2.06-2.06.94zm10 10l.94 2.06.94-2.06 2.06-.94-2.06-.94-.94-2.06-.94 2.06-2.06.94z\"/><path d=\"M17.41 7.96l-1.37-1.37c-.4-.4-.92-.59-1.43-.59-.52 0-1.04.2-1.43.59L10.3 9.45l-7.72 7.72c-.78.78-.78 2.05 0 2.83L4 21.41c.39.39.9.59 1.41.59.51 0 1.02-.2 1.41-.59l7.78-7.78 2.81-2.81c.8-.78.8-2.07 0-2.86zM5.41 20L4 18.59l7.72-7.72 1.47 1.35L5.41 20z\"/>\n",
              "  </svg>\n",
              "      </button>\n",
              "      \n",
              "  <style>\n",
              "    .colab-df-container {\n",
              "      display:flex;\n",
              "      flex-wrap:wrap;\n",
              "      gap: 12px;\n",
              "    }\n",
              "\n",
              "    .colab-df-convert {\n",
              "      background-color: #E8F0FE;\n",
              "      border: none;\n",
              "      border-radius: 50%;\n",
              "      cursor: pointer;\n",
              "      display: none;\n",
              "      fill: #1967D2;\n",
              "      height: 32px;\n",
              "      padding: 0 0 0 0;\n",
              "      width: 32px;\n",
              "    }\n",
              "\n",
              "    .colab-df-convert:hover {\n",
              "      background-color: #E2EBFA;\n",
              "      box-shadow: 0px 1px 2px rgba(60, 64, 67, 0.3), 0px 1px 3px 1px rgba(60, 64, 67, 0.15);\n",
              "      fill: #174EA6;\n",
              "    }\n",
              "\n",
              "    [theme=dark] .colab-df-convert {\n",
              "      background-color: #3B4455;\n",
              "      fill: #D2E3FC;\n",
              "    }\n",
              "\n",
              "    [theme=dark] .colab-df-convert:hover {\n",
              "      background-color: #434B5C;\n",
              "      box-shadow: 0px 1px 3px 1px rgba(0, 0, 0, 0.15);\n",
              "      filter: drop-shadow(0px 1px 2px rgba(0, 0, 0, 0.3));\n",
              "      fill: #FFFFFF;\n",
              "    }\n",
              "  </style>\n",
              "\n",
              "      <script>\n",
              "        const buttonEl =\n",
              "          document.querySelector('#df-6bc30883-01c9-4352-b314-8915268a465c button.colab-df-convert');\n",
              "        buttonEl.style.display =\n",
              "          google.colab.kernel.accessAllowed ? 'block' : 'none';\n",
              "\n",
              "        async function convertToInteractive(key) {\n",
              "          const element = document.querySelector('#df-6bc30883-01c9-4352-b314-8915268a465c');\n",
              "          const dataTable =\n",
              "            await google.colab.kernel.invokeFunction('convertToInteractive',\n",
              "                                                     [key], {});\n",
              "          if (!dataTable) return;\n",
              "\n",
              "          const docLinkHtml = 'Like what you see? Visit the ' +\n",
              "            '<a target=\"_blank\" href=https://colab.research.google.com/notebooks/data_table.ipynb>data table notebook</a>'\n",
              "            + ' to learn more about interactive tables.';\n",
              "          element.innerHTML = '';\n",
              "          dataTable['output_type'] = 'display_data';\n",
              "          await google.colab.output.renderOutput(dataTable, element);\n",
              "          const docLink = document.createElement('div');\n",
              "          docLink.innerHTML = docLinkHtml;\n",
              "          element.appendChild(docLink);\n",
              "        }\n",
              "      </script>\n",
              "    </div>\n",
              "  </div>\n",
              "  "
            ]
          },
          "metadata": {},
          "execution_count": 34
        }
      ]
    },
    {
      "cell_type": "markdown",
      "source": [
        "### 練習(上市公司基本資料查詢)\n",
        "https://mopsfin.twse.com.tw/opendata/t187ap03_L.csv"
      ],
      "metadata": {
        "id": "s5GsPGywt7gp"
      }
    },
    {
      "cell_type": "code",
      "source": [
        "url = \"https://mopsfin.twse.com.tw/opendata/t187ap03_L.csv\""
      ],
      "metadata": {
        "id": "n7RX3y9ZtvH4"
      },
      "execution_count": 26,
      "outputs": []
    },
    {
      "cell_type": "code",
      "source": [
        "stock_df = pd.read_csv(url)"
      ],
      "metadata": {
        "id": "6GxDP0a3x2yh"
      },
      "execution_count": 27,
      "outputs": []
    },
    {
      "cell_type": "code",
      "source": [
        "stock_df.head(1)"
      ],
      "metadata": {
        "colab": {
          "base_uri": "https://localhost:8080/",
          "height": 503
        },
        "id": "s54dehJwyBcF",
        "outputId": "0077fbf5-85ee-4e68-bc47-35ba76a7bee7"
      },
      "execution_count": 28,
      "outputs": [
        {
          "output_type": "execute_result",
          "data": {
            "text/plain": [
              "      出表日期  公司代號        公司名稱 公司簡稱 外國企業註冊地國  產業別             住址  營利事業統一編號  董事長  \\\n",
              "0  1120304  1101  臺灣水泥股份有限公司   台泥       －     1  台北市中山北路2段113號  11913502  張安平   \n",
              "\n",
              "   總經理  ...      過戶電話            過戶地址      簽證會計師事務所 簽證會計師1  簽證會計師2  英文簡稱  \\\n",
              "0  程耀輝  ...  66365566  台北市重慶南路一段83號5樓  勤業眾信聯合會計師事務所    黃惠敏     郭政弘   TCC   \n",
              "\n",
              "                                              英文通訊地址          傳真機號碼  \\\n",
              "0  No.113, Sec.2, Zhongshan N. Rd.,Taipei City 10...  (02)2531-6529   \n",
              "\n",
              "                     電子郵件信箱                           網址  \n",
              "0  finance@taiwancement.com  http://www.taiwancement.com  \n",
              "\n",
              "[1 rows x 32 columns]"
            ],
            "text/html": [
              "\n",
              "  <div id=\"df-b5b07e65-fba3-458d-92a8-727862a04163\">\n",
              "    <div class=\"colab-df-container\">\n",
              "      <div>\n",
              "<style scoped>\n",
              "    .dataframe tbody tr th:only-of-type {\n",
              "        vertical-align: middle;\n",
              "    }\n",
              "\n",
              "    .dataframe tbody tr th {\n",
              "        vertical-align: top;\n",
              "    }\n",
              "\n",
              "    .dataframe thead th {\n",
              "        text-align: right;\n",
              "    }\n",
              "</style>\n",
              "<table border=\"1\" class=\"dataframe\">\n",
              "  <thead>\n",
              "    <tr style=\"text-align: right;\">\n",
              "      <th></th>\n",
              "      <th>出表日期</th>\n",
              "      <th>公司代號</th>\n",
              "      <th>公司名稱</th>\n",
              "      <th>公司簡稱</th>\n",
              "      <th>外國企業註冊地國</th>\n",
              "      <th>產業別</th>\n",
              "      <th>住址</th>\n",
              "      <th>營利事業統一編號</th>\n",
              "      <th>董事長</th>\n",
              "      <th>總經理</th>\n",
              "      <th>...</th>\n",
              "      <th>過戶電話</th>\n",
              "      <th>過戶地址</th>\n",
              "      <th>簽證會計師事務所</th>\n",
              "      <th>簽證會計師1</th>\n",
              "      <th>簽證會計師2</th>\n",
              "      <th>英文簡稱</th>\n",
              "      <th>英文通訊地址</th>\n",
              "      <th>傳真機號碼</th>\n",
              "      <th>電子郵件信箱</th>\n",
              "      <th>網址</th>\n",
              "    </tr>\n",
              "  </thead>\n",
              "  <tbody>\n",
              "    <tr>\n",
              "      <th>0</th>\n",
              "      <td>1120304</td>\n",
              "      <td>1101</td>\n",
              "      <td>臺灣水泥股份有限公司</td>\n",
              "      <td>台泥</td>\n",
              "      <td>－</td>\n",
              "      <td>1</td>\n",
              "      <td>台北市中山北路2段113號</td>\n",
              "      <td>11913502</td>\n",
              "      <td>張安平</td>\n",
              "      <td>程耀輝</td>\n",
              "      <td>...</td>\n",
              "      <td>66365566</td>\n",
              "      <td>台北市重慶南路一段83號5樓</td>\n",
              "      <td>勤業眾信聯合會計師事務所</td>\n",
              "      <td>黃惠敏</td>\n",
              "      <td>郭政弘</td>\n",
              "      <td>TCC</td>\n",
              "      <td>No.113, Sec.2, Zhongshan N. Rd.,Taipei City 10...</td>\n",
              "      <td>(02)2531-6529</td>\n",
              "      <td>finance@taiwancement.com</td>\n",
              "      <td>http://www.taiwancement.com</td>\n",
              "    </tr>\n",
              "  </tbody>\n",
              "</table>\n",
              "<p>1 rows × 32 columns</p>\n",
              "</div>\n",
              "      <button class=\"colab-df-convert\" onclick=\"convertToInteractive('df-b5b07e65-fba3-458d-92a8-727862a04163')\"\n",
              "              title=\"Convert this dataframe to an interactive table.\"\n",
              "              style=\"display:none;\">\n",
              "        \n",
              "  <svg xmlns=\"http://www.w3.org/2000/svg\" height=\"24px\"viewBox=\"0 0 24 24\"\n",
              "       width=\"24px\">\n",
              "    <path d=\"M0 0h24v24H0V0z\" fill=\"none\"/>\n",
              "    <path d=\"M18.56 5.44l.94 2.06.94-2.06 2.06-.94-2.06-.94-.94-2.06-.94 2.06-2.06.94zm-11 1L8.5 8.5l.94-2.06 2.06-.94-2.06-.94L8.5 2.5l-.94 2.06-2.06.94zm10 10l.94 2.06.94-2.06 2.06-.94-2.06-.94-.94-2.06-.94 2.06-2.06.94z\"/><path d=\"M17.41 7.96l-1.37-1.37c-.4-.4-.92-.59-1.43-.59-.52 0-1.04.2-1.43.59L10.3 9.45l-7.72 7.72c-.78.78-.78 2.05 0 2.83L4 21.41c.39.39.9.59 1.41.59.51 0 1.02-.2 1.41-.59l7.78-7.78 2.81-2.81c.8-.78.8-2.07 0-2.86zM5.41 20L4 18.59l7.72-7.72 1.47 1.35L5.41 20z\"/>\n",
              "  </svg>\n",
              "      </button>\n",
              "      \n",
              "  <style>\n",
              "    .colab-df-container {\n",
              "      display:flex;\n",
              "      flex-wrap:wrap;\n",
              "      gap: 12px;\n",
              "    }\n",
              "\n",
              "    .colab-df-convert {\n",
              "      background-color: #E8F0FE;\n",
              "      border: none;\n",
              "      border-radius: 50%;\n",
              "      cursor: pointer;\n",
              "      display: none;\n",
              "      fill: #1967D2;\n",
              "      height: 32px;\n",
              "      padding: 0 0 0 0;\n",
              "      width: 32px;\n",
              "    }\n",
              "\n",
              "    .colab-df-convert:hover {\n",
              "      background-color: #E2EBFA;\n",
              "      box-shadow: 0px 1px 2px rgba(60, 64, 67, 0.3), 0px 1px 3px 1px rgba(60, 64, 67, 0.15);\n",
              "      fill: #174EA6;\n",
              "    }\n",
              "\n",
              "    [theme=dark] .colab-df-convert {\n",
              "      background-color: #3B4455;\n",
              "      fill: #D2E3FC;\n",
              "    }\n",
              "\n",
              "    [theme=dark] .colab-df-convert:hover {\n",
              "      background-color: #434B5C;\n",
              "      box-shadow: 0px 1px 3px 1px rgba(0, 0, 0, 0.15);\n",
              "      filter: drop-shadow(0px 1px 2px rgba(0, 0, 0, 0.3));\n",
              "      fill: #FFFFFF;\n",
              "    }\n",
              "  </style>\n",
              "\n",
              "      <script>\n",
              "        const buttonEl =\n",
              "          document.querySelector('#df-b5b07e65-fba3-458d-92a8-727862a04163 button.colab-df-convert');\n",
              "        buttonEl.style.display =\n",
              "          google.colab.kernel.accessAllowed ? 'block' : 'none';\n",
              "\n",
              "        async function convertToInteractive(key) {\n",
              "          const element = document.querySelector('#df-b5b07e65-fba3-458d-92a8-727862a04163');\n",
              "          const dataTable =\n",
              "            await google.colab.kernel.invokeFunction('convertToInteractive',\n",
              "                                                     [key], {});\n",
              "          if (!dataTable) return;\n",
              "\n",
              "          const docLinkHtml = 'Like what you see? Visit the ' +\n",
              "            '<a target=\"_blank\" href=https://colab.research.google.com/notebooks/data_table.ipynb>data table notebook</a>'\n",
              "            + ' to learn more about interactive tables.';\n",
              "          element.innerHTML = '';\n",
              "          dataTable['output_type'] = 'display_data';\n",
              "          await google.colab.output.renderOutput(dataTable, element);\n",
              "          const docLink = document.createElement('div');\n",
              "          docLink.innerHTML = docLinkHtml;\n",
              "          element.appendChild(docLink);\n",
              "        }\n",
              "      </script>\n",
              "    </div>\n",
              "  </div>\n",
              "  "
            ]
          },
          "metadata": {},
          "execution_count": 28
        }
      ]
    },
    {
      "cell_type": "code",
      "source": [
        "stock_df.info()"
      ],
      "metadata": {
        "colab": {
          "base_uri": "https://localhost:8080/"
        },
        "id": "Vs6f1Tv6zlYZ",
        "outputId": "1d276979-b7b9-42e4-d52d-d5eeb63152c5"
      },
      "execution_count": 38,
      "outputs": [
        {
          "output_type": "stream",
          "name": "stdout",
          "text": [
            "<class 'pandas.core.frame.DataFrame'>\n",
            "RangeIndex: 981 entries, 0 to 980\n",
            "Data columns (total 32 columns):\n",
            " #   Column    Non-Null Count  Dtype \n",
            "---  ------    --------------  ----- \n",
            " 0   出表日期      981 non-null    int64 \n",
            " 1   公司代號      981 non-null    int64 \n",
            " 2   公司名稱      981 non-null    object\n",
            " 3   公司簡稱      981 non-null    object\n",
            " 4   外國企業註冊地國  981 non-null    object\n",
            " 5   產業別       981 non-null    int64 \n",
            " 6   住址        981 non-null    object\n",
            " 7   營利事業統一編號  981 non-null    int64 \n",
            " 8   董事長       981 non-null    object\n",
            " 9   總經理       978 non-null    object\n",
            " 10  發言人       981 non-null    object\n",
            " 11  發言人職稱     981 non-null    object\n",
            " 12  代理發言人     978 non-null    object\n",
            " 13  總機電話      981 non-null    object\n",
            " 14  成立日期      981 non-null    int64 \n",
            " 15  上市日期      981 non-null    int64 \n",
            " 16  普通股每股面額   981 non-null    object\n",
            " 17  實收資本額     981 non-null    int64 \n",
            " 18  私募股數      981 non-null    int64 \n",
            " 19  特別股       981 non-null    int64 \n",
            " 20  編制財務報表類型  981 non-null    int64 \n",
            " 21  股票過戶機構    981 non-null    object\n",
            " 22  過戶電話      980 non-null    object\n",
            " 23  過戶地址      981 non-null    object\n",
            " 24  簽證會計師事務所  981 non-null    object\n",
            " 25  簽證會計師1    981 non-null    object\n",
            " 26  簽證會計師2    978 non-null    object\n",
            " 27  英文簡稱      981 non-null    object\n",
            " 28  英文通訊地址    981 non-null    object\n",
            " 29  傳真機號碼     981 non-null    object\n",
            " 30  電子郵件信箱    980 non-null    object\n",
            " 31  網址        981 non-null    object\n",
            "dtypes: int64(10), object(22)\n",
            "memory usage: 245.4+ KB\n"
          ]
        }
      ]
    },
    {
      "cell_type": "code",
      "source": [
        "stock_df['公司代號'] ==2330"
      ],
      "metadata": {
        "colab": {
          "base_uri": "https://localhost:8080/"
        },
        "id": "tjAk2VFtyCjk",
        "outputId": "09c6e134-e291-46a3-9a41-5ee8e9561dc1"
      },
      "execution_count": 39,
      "outputs": [
        {
          "output_type": "execute_result",
          "data": {
            "text/plain": [
              "0      False\n",
              "1      False\n",
              "2      False\n",
              "3      False\n",
              "4      False\n",
              "       ...  \n",
              "976    False\n",
              "977    False\n",
              "978    False\n",
              "979    False\n",
              "980    False\n",
              "Name: 公司代號, Length: 981, dtype: bool"
            ]
          },
          "metadata": {},
          "execution_count": 39
        }
      ]
    },
    {
      "cell_type": "code",
      "source": [
        "stock_df[stock_df['公司代號'] == 2330]"
      ],
      "metadata": {
        "colab": {
          "base_uri": "https://localhost:8080/",
          "height": 521
        },
        "id": "MVSUDkHOzUga",
        "outputId": "bb3f6385-8e83-4454-907e-0f69e5b30ec7"
      },
      "execution_count": 44,
      "outputs": [
        {
          "output_type": "execute_result",
          "data": {
            "text/plain": [
              "        出表日期  公司代號            公司名稱 公司簡稱 外國企業註冊地國  產業別            住址  營利事業統一編號  \\\n",
              "274  1120304  2330  台灣積體電路製造股份有限公司  台積電       －    24  新竹科學園區力行六路8號  22099131   \n",
              "\n",
              "     董事長      總經理  ...          過戶電話            過戶地址      簽證會計師事務所 簽證會計師1  \\\n",
              "274  劉德音  總裁: 魏哲家  ...  02-6636-5566  台北市重慶南路一段83號5樓  勤業眾信聯合會計師事務所    江美艷   \n",
              "\n",
              "     簽證會計師2  英文簡稱                                             英文通訊地址  \\\n",
              "274     林尚志  TSMC  No. 8, Li-Hsin Rd. 6, Hsinchu Science Park,Hsi...   \n",
              "\n",
              "          傳真機號碼           電子郵件信箱                    網址  \n",
              "274  03-5797337  invest@tsmc.com  https://www.tsmc.com  \n",
              "\n",
              "[1 rows x 32 columns]"
            ],
            "text/html": [
              "\n",
              "  <div id=\"df-63c7df06-31ff-4b55-aa9c-c34ecaa2e861\">\n",
              "    <div class=\"colab-df-container\">\n",
              "      <div>\n",
              "<style scoped>\n",
              "    .dataframe tbody tr th:only-of-type {\n",
              "        vertical-align: middle;\n",
              "    }\n",
              "\n",
              "    .dataframe tbody tr th {\n",
              "        vertical-align: top;\n",
              "    }\n",
              "\n",
              "    .dataframe thead th {\n",
              "        text-align: right;\n",
              "    }\n",
              "</style>\n",
              "<table border=\"1\" class=\"dataframe\">\n",
              "  <thead>\n",
              "    <tr style=\"text-align: right;\">\n",
              "      <th></th>\n",
              "      <th>出表日期</th>\n",
              "      <th>公司代號</th>\n",
              "      <th>公司名稱</th>\n",
              "      <th>公司簡稱</th>\n",
              "      <th>外國企業註冊地國</th>\n",
              "      <th>產業別</th>\n",
              "      <th>住址</th>\n",
              "      <th>營利事業統一編號</th>\n",
              "      <th>董事長</th>\n",
              "      <th>總經理</th>\n",
              "      <th>...</th>\n",
              "      <th>過戶電話</th>\n",
              "      <th>過戶地址</th>\n",
              "      <th>簽證會計師事務所</th>\n",
              "      <th>簽證會計師1</th>\n",
              "      <th>簽證會計師2</th>\n",
              "      <th>英文簡稱</th>\n",
              "      <th>英文通訊地址</th>\n",
              "      <th>傳真機號碼</th>\n",
              "      <th>電子郵件信箱</th>\n",
              "      <th>網址</th>\n",
              "    </tr>\n",
              "  </thead>\n",
              "  <tbody>\n",
              "    <tr>\n",
              "      <th>274</th>\n",
              "      <td>1120304</td>\n",
              "      <td>2330</td>\n",
              "      <td>台灣積體電路製造股份有限公司</td>\n",
              "      <td>台積電</td>\n",
              "      <td>－</td>\n",
              "      <td>24</td>\n",
              "      <td>新竹科學園區力行六路8號</td>\n",
              "      <td>22099131</td>\n",
              "      <td>劉德音</td>\n",
              "      <td>總裁: 魏哲家</td>\n",
              "      <td>...</td>\n",
              "      <td>02-6636-5566</td>\n",
              "      <td>台北市重慶南路一段83號5樓</td>\n",
              "      <td>勤業眾信聯合會計師事務所</td>\n",
              "      <td>江美艷</td>\n",
              "      <td>林尚志</td>\n",
              "      <td>TSMC</td>\n",
              "      <td>No. 8, Li-Hsin Rd. 6, Hsinchu Science Park,Hsi...</td>\n",
              "      <td>03-5797337</td>\n",
              "      <td>invest@tsmc.com</td>\n",
              "      <td>https://www.tsmc.com</td>\n",
              "    </tr>\n",
              "  </tbody>\n",
              "</table>\n",
              "<p>1 rows × 32 columns</p>\n",
              "</div>\n",
              "      <button class=\"colab-df-convert\" onclick=\"convertToInteractive('df-63c7df06-31ff-4b55-aa9c-c34ecaa2e861')\"\n",
              "              title=\"Convert this dataframe to an interactive table.\"\n",
              "              style=\"display:none;\">\n",
              "        \n",
              "  <svg xmlns=\"http://www.w3.org/2000/svg\" height=\"24px\"viewBox=\"0 0 24 24\"\n",
              "       width=\"24px\">\n",
              "    <path d=\"M0 0h24v24H0V0z\" fill=\"none\"/>\n",
              "    <path d=\"M18.56 5.44l.94 2.06.94-2.06 2.06-.94-2.06-.94-.94-2.06-.94 2.06-2.06.94zm-11 1L8.5 8.5l.94-2.06 2.06-.94-2.06-.94L8.5 2.5l-.94 2.06-2.06.94zm10 10l.94 2.06.94-2.06 2.06-.94-2.06-.94-.94-2.06-.94 2.06-2.06.94z\"/><path d=\"M17.41 7.96l-1.37-1.37c-.4-.4-.92-.59-1.43-.59-.52 0-1.04.2-1.43.59L10.3 9.45l-7.72 7.72c-.78.78-.78 2.05 0 2.83L4 21.41c.39.39.9.59 1.41.59.51 0 1.02-.2 1.41-.59l7.78-7.78 2.81-2.81c.8-.78.8-2.07 0-2.86zM5.41 20L4 18.59l7.72-7.72 1.47 1.35L5.41 20z\"/>\n",
              "  </svg>\n",
              "      </button>\n",
              "      \n",
              "  <style>\n",
              "    .colab-df-container {\n",
              "      display:flex;\n",
              "      flex-wrap:wrap;\n",
              "      gap: 12px;\n",
              "    }\n",
              "\n",
              "    .colab-df-convert {\n",
              "      background-color: #E8F0FE;\n",
              "      border: none;\n",
              "      border-radius: 50%;\n",
              "      cursor: pointer;\n",
              "      display: none;\n",
              "      fill: #1967D2;\n",
              "      height: 32px;\n",
              "      padding: 0 0 0 0;\n",
              "      width: 32px;\n",
              "    }\n",
              "\n",
              "    .colab-df-convert:hover {\n",
              "      background-color: #E2EBFA;\n",
              "      box-shadow: 0px 1px 2px rgba(60, 64, 67, 0.3), 0px 1px 3px 1px rgba(60, 64, 67, 0.15);\n",
              "      fill: #174EA6;\n",
              "    }\n",
              "\n",
              "    [theme=dark] .colab-df-convert {\n",
              "      background-color: #3B4455;\n",
              "      fill: #D2E3FC;\n",
              "    }\n",
              "\n",
              "    [theme=dark] .colab-df-convert:hover {\n",
              "      background-color: #434B5C;\n",
              "      box-shadow: 0px 1px 3px 1px rgba(0, 0, 0, 0.15);\n",
              "      filter: drop-shadow(0px 1px 2px rgba(0, 0, 0, 0.3));\n",
              "      fill: #FFFFFF;\n",
              "    }\n",
              "  </style>\n",
              "\n",
              "      <script>\n",
              "        const buttonEl =\n",
              "          document.querySelector('#df-63c7df06-31ff-4b55-aa9c-c34ecaa2e861 button.colab-df-convert');\n",
              "        buttonEl.style.display =\n",
              "          google.colab.kernel.accessAllowed ? 'block' : 'none';\n",
              "\n",
              "        async function convertToInteractive(key) {\n",
              "          const element = document.querySelector('#df-63c7df06-31ff-4b55-aa9c-c34ecaa2e861');\n",
              "          const dataTable =\n",
              "            await google.colab.kernel.invokeFunction('convertToInteractive',\n",
              "                                                     [key], {});\n",
              "          if (!dataTable) return;\n",
              "\n",
              "          const docLinkHtml = 'Like what you see? Visit the ' +\n",
              "            '<a target=\"_blank\" href=https://colab.research.google.com/notebooks/data_table.ipynb>data table notebook</a>'\n",
              "            + ' to learn more about interactive tables.';\n",
              "          element.innerHTML = '';\n",
              "          dataTable['output_type'] = 'display_data';\n",
              "          await google.colab.output.renderOutput(dataTable, element);\n",
              "          const docLink = document.createElement('div');\n",
              "          docLink.innerHTML = docLinkHtml;\n",
              "          element.appendChild(docLink);\n",
              "        }\n",
              "      </script>\n",
              "    </div>\n",
              "  </div>\n",
              "  "
            ]
          },
          "metadata": {},
          "execution_count": 44
        }
      ]
    },
    {
      "cell_type": "code",
      "source": [
        "stock_df[stock_df['公司代號'] == 2330].iloc[0]['公司簡稱']"
      ],
      "metadata": {
        "colab": {
          "base_uri": "https://localhost:8080/",
          "height": 35
        },
        "id": "mJASbAOQzzOn",
        "outputId": "2b7465eb-eb7e-42f0-da1c-b0aeb6828e8b"
      },
      "execution_count": 45,
      "outputs": [
        {
          "output_type": "execute_result",
          "data": {
            "text/plain": [
              "'台積電'"
            ],
            "application/vnd.google.colaboratory.intrinsic+json": {
              "type": "string"
            }
          },
          "metadata": {},
          "execution_count": 45
        }
      ]
    },
    {
      "cell_type": "code",
      "source": [
        "#寫成一個函式\n",
        "def no2name(stock_no):\n",
        "  return stock_df[stock_df['公司代號'] == stock_no].iloc[0]['公司簡稱']"
      ],
      "metadata": {
        "id": "Vpw-f-Du0FHP"
      },
      "execution_count": 48,
      "outputs": []
    },
    {
      "cell_type": "code",
      "source": [
        "no2name(2330)"
      ],
      "metadata": {
        "colab": {
          "base_uri": "https://localhost:8080/",
          "height": 35
        },
        "id": "UN2L3N7e0bfX",
        "outputId": "dc2fdac3-a132-4085-8ef9-708545aedb37"
      },
      "execution_count": 50,
      "outputs": [
        {
          "output_type": "execute_result",
          "data": {
            "text/plain": [
              "'台積電'"
            ],
            "application/vnd.google.colaboratory.intrinsic+json": {
              "type": "string"
            }
          },
          "metadata": {},
          "execution_count": 50
        }
      ]
    },
    {
      "cell_type": "code",
      "source": [
        "# 如果股票代號不存在，會出現錯誤\n",
        "# 所以我們使用例外處理，返回錯誤訊息\n",
        "def no2name01(stock_no):\n",
        "  try:\n",
        "    return stock_df[stock_df['公司代號'] == stock_no].iloc[0]['公司簡稱']\n",
        "  except Exception as e:\n",
        "    return '查無此股票,請確認股票代號!'"
      ],
      "metadata": {
        "id": "Aq9H3VuR1I5x"
      },
      "execution_count": 57,
      "outputs": []
    },
    {
      "cell_type": "code",
      "source": [
        "no2name(2002)"
      ],
      "metadata": {
        "colab": {
          "base_uri": "https://localhost:8080/",
          "height": 35
        },
        "id": "fd39Utxn1XXN",
        "outputId": "b9dfc35e-5801-4bdc-d468-b91631b499a4"
      },
      "execution_count": 54,
      "outputs": [
        {
          "output_type": "execute_result",
          "data": {
            "text/plain": [
              "'中鋼'"
            ],
            "application/vnd.google.colaboratory.intrinsic+json": {
              "type": "string"
            }
          },
          "metadata": {},
          "execution_count": 54
        }
      ]
    },
    {
      "cell_type": "code",
      "source": [
        "no2name01(2307)"
      ],
      "metadata": {
        "colab": {
          "base_uri": "https://localhost:8080/",
          "height": 35
        },
        "id": "Fc-fpYVa1elf",
        "outputId": "b1d6a818-3f55-4734-dda3-91807d38d79b"
      },
      "execution_count": 58,
      "outputs": [
        {
          "output_type": "execute_result",
          "data": {
            "text/plain": [
              "'查無此股票,請確認股票代號!'"
            ],
            "application/vnd.google.colaboratory.intrinsic+json": {
              "type": "string"
            }
          },
          "metadata": {},
          "execution_count": 58
        }
      ]
    },
    {
      "cell_type": "code",
      "source": [
        "bindex = [True]*5+[False]*5"
      ],
      "metadata": {
        "id": "U_dPD6oC13Bk"
      },
      "execution_count": 59,
      "outputs": []
    },
    {
      "cell_type": "code",
      "source": [
        "bindex"
      ],
      "metadata": {
        "colab": {
          "base_uri": "https://localhost:8080/"
        },
        "id": "UlwAAbFA3Pzf",
        "outputId": "be47aaf0-f6f3-46f1-e0a0-2a7de93b6cf6"
      },
      "execution_count": 60,
      "outputs": [
        {
          "output_type": "execute_result",
          "data": {
            "text/plain": [
              "[True, True, True, True, True, False, False, False, False, False]"
            ]
          },
          "metadata": {},
          "execution_count": 60
        }
      ]
    },
    {
      "cell_type": "code",
      "source": [
        "df[bindex]"
      ],
      "metadata": {
        "colab": {
          "base_uri": "https://localhost:8080/",
          "height": 206
        },
        "id": "qnGoayoY3Rvg",
        "outputId": "8be2e21f-f21e-478f-f73e-c45daf290b8e"
      },
      "execution_count": 61,
      "outputs": [
        {
          "output_type": "execute_result",
          "data": {
            "text/plain": [
              "      國文  英文   數學  理化\n",
              "ANNK  54  58   53  70\n",
              "CEEK  64  63   32  40\n",
              "BHHG  32  30   45  98\n",
              "EDSA  51  82  100  42\n",
              "DRES  55  39   59  48"
            ],
            "text/html": [
              "\n",
              "  <div id=\"df-fd339ddc-1820-4e3f-b1af-f669a1124edf\">\n",
              "    <div class=\"colab-df-container\">\n",
              "      <div>\n",
              "<style scoped>\n",
              "    .dataframe tbody tr th:only-of-type {\n",
              "        vertical-align: middle;\n",
              "    }\n",
              "\n",
              "    .dataframe tbody tr th {\n",
              "        vertical-align: top;\n",
              "    }\n",
              "\n",
              "    .dataframe thead th {\n",
              "        text-align: right;\n",
              "    }\n",
              "</style>\n",
              "<table border=\"1\" class=\"dataframe\">\n",
              "  <thead>\n",
              "    <tr style=\"text-align: right;\">\n",
              "      <th></th>\n",
              "      <th>國文</th>\n",
              "      <th>英文</th>\n",
              "      <th>數學</th>\n",
              "      <th>理化</th>\n",
              "    </tr>\n",
              "  </thead>\n",
              "  <tbody>\n",
              "    <tr>\n",
              "      <th>ANNK</th>\n",
              "      <td>54</td>\n",
              "      <td>58</td>\n",
              "      <td>53</td>\n",
              "      <td>70</td>\n",
              "    </tr>\n",
              "    <tr>\n",
              "      <th>CEEK</th>\n",
              "      <td>64</td>\n",
              "      <td>63</td>\n",
              "      <td>32</td>\n",
              "      <td>40</td>\n",
              "    </tr>\n",
              "    <tr>\n",
              "      <th>BHHG</th>\n",
              "      <td>32</td>\n",
              "      <td>30</td>\n",
              "      <td>45</td>\n",
              "      <td>98</td>\n",
              "    </tr>\n",
              "    <tr>\n",
              "      <th>EDSA</th>\n",
              "      <td>51</td>\n",
              "      <td>82</td>\n",
              "      <td>100</td>\n",
              "      <td>42</td>\n",
              "    </tr>\n",
              "    <tr>\n",
              "      <th>DRES</th>\n",
              "      <td>55</td>\n",
              "      <td>39</td>\n",
              "      <td>59</td>\n",
              "      <td>48</td>\n",
              "    </tr>\n",
              "  </tbody>\n",
              "</table>\n",
              "</div>\n",
              "      <button class=\"colab-df-convert\" onclick=\"convertToInteractive('df-fd339ddc-1820-4e3f-b1af-f669a1124edf')\"\n",
              "              title=\"Convert this dataframe to an interactive table.\"\n",
              "              style=\"display:none;\">\n",
              "        \n",
              "  <svg xmlns=\"http://www.w3.org/2000/svg\" height=\"24px\"viewBox=\"0 0 24 24\"\n",
              "       width=\"24px\">\n",
              "    <path d=\"M0 0h24v24H0V0z\" fill=\"none\"/>\n",
              "    <path d=\"M18.56 5.44l.94 2.06.94-2.06 2.06-.94-2.06-.94-.94-2.06-.94 2.06-2.06.94zm-11 1L8.5 8.5l.94-2.06 2.06-.94-2.06-.94L8.5 2.5l-.94 2.06-2.06.94zm10 10l.94 2.06.94-2.06 2.06-.94-2.06-.94-.94-2.06-.94 2.06-2.06.94z\"/><path d=\"M17.41 7.96l-1.37-1.37c-.4-.4-.92-.59-1.43-.59-.52 0-1.04.2-1.43.59L10.3 9.45l-7.72 7.72c-.78.78-.78 2.05 0 2.83L4 21.41c.39.39.9.59 1.41.59.51 0 1.02-.2 1.41-.59l7.78-7.78 2.81-2.81c.8-.78.8-2.07 0-2.86zM5.41 20L4 18.59l7.72-7.72 1.47 1.35L5.41 20z\"/>\n",
              "  </svg>\n",
              "      </button>\n",
              "      \n",
              "  <style>\n",
              "    .colab-df-container {\n",
              "      display:flex;\n",
              "      flex-wrap:wrap;\n",
              "      gap: 12px;\n",
              "    }\n",
              "\n",
              "    .colab-df-convert {\n",
              "      background-color: #E8F0FE;\n",
              "      border: none;\n",
              "      border-radius: 50%;\n",
              "      cursor: pointer;\n",
              "      display: none;\n",
              "      fill: #1967D2;\n",
              "      height: 32px;\n",
              "      padding: 0 0 0 0;\n",
              "      width: 32px;\n",
              "    }\n",
              "\n",
              "    .colab-df-convert:hover {\n",
              "      background-color: #E2EBFA;\n",
              "      box-shadow: 0px 1px 2px rgba(60, 64, 67, 0.3), 0px 1px 3px 1px rgba(60, 64, 67, 0.15);\n",
              "      fill: #174EA6;\n",
              "    }\n",
              "\n",
              "    [theme=dark] .colab-df-convert {\n",
              "      background-color: #3B4455;\n",
              "      fill: #D2E3FC;\n",
              "    }\n",
              "\n",
              "    [theme=dark] .colab-df-convert:hover {\n",
              "      background-color: #434B5C;\n",
              "      box-shadow: 0px 1px 3px 1px rgba(0, 0, 0, 0.15);\n",
              "      filter: drop-shadow(0px 1px 2px rgba(0, 0, 0, 0.3));\n",
              "      fill: #FFFFFF;\n",
              "    }\n",
              "  </style>\n",
              "\n",
              "      <script>\n",
              "        const buttonEl =\n",
              "          document.querySelector('#df-fd339ddc-1820-4e3f-b1af-f669a1124edf button.colab-df-convert');\n",
              "        buttonEl.style.display =\n",
              "          google.colab.kernel.accessAllowed ? 'block' : 'none';\n",
              "\n",
              "        async function convertToInteractive(key) {\n",
              "          const element = document.querySelector('#df-fd339ddc-1820-4e3f-b1af-f669a1124edf');\n",
              "          const dataTable =\n",
              "            await google.colab.kernel.invokeFunction('convertToInteractive',\n",
              "                                                     [key], {});\n",
              "          if (!dataTable) return;\n",
              "\n",
              "          const docLinkHtml = 'Like what you see? Visit the ' +\n",
              "            '<a target=\"_blank\" href=https://colab.research.google.com/notebooks/data_table.ipynb>data table notebook</a>'\n",
              "            + ' to learn more about interactive tables.';\n",
              "          element.innerHTML = '';\n",
              "          dataTable['output_type'] = 'display_data';\n",
              "          await google.colab.output.renderOutput(dataTable, element);\n",
              "          const docLink = document.createElement('div');\n",
              "          docLink.innerHTML = docLinkHtml;\n",
              "          element.appendChild(docLink);\n",
              "        }\n",
              "      </script>\n",
              "    </div>\n",
              "  </div>\n",
              "  "
            ]
          },
          "metadata": {},
          "execution_count": 61
        }
      ]
    },
    {
      "cell_type": "code",
      "source": [
        "import random"
      ],
      "metadata": {
        "id": "eyZkjNW23X1h"
      },
      "execution_count": 62,
      "outputs": []
    },
    {
      "cell_type": "code",
      "source": [
        "random.shuffle(bindex)"
      ],
      "metadata": {
        "id": "OrNGGt2Q3jBF"
      },
      "execution_count": 63,
      "outputs": []
    },
    {
      "cell_type": "code",
      "source": [
        "bindex"
      ],
      "metadata": {
        "colab": {
          "base_uri": "https://localhost:8080/"
        },
        "id": "NMt-MJGr3o_x",
        "outputId": "90659de4-2fe9-4f01-c272-d0f1b463fd02"
      },
      "execution_count": 64,
      "outputs": [
        {
          "output_type": "execute_result",
          "data": {
            "text/plain": [
              "[True, True, False, False, False, True, False, False, True, True]"
            ]
          },
          "metadata": {},
          "execution_count": 64
        }
      ]
    },
    {
      "cell_type": "code",
      "source": [
        "df[bindex]"
      ],
      "metadata": {
        "colab": {
          "base_uri": "https://localhost:8080/",
          "height": 206
        },
        "id": "hhMG2gcg3q-l",
        "outputId": "2d22fc98-cc72-4869-fb8f-4e7ded3bf61c"
      },
      "execution_count": 65,
      "outputs": [
        {
          "output_type": "execute_result",
          "data": {
            "text/plain": [
              "      國文  英文  數學  理化\n",
              "ANNK  54  58  53  70\n",
              "CEEK  64  63  32  40\n",
              "GDES  74  48  70  75\n",
              "LWES  99  53  36  82\n",
              "HRED  51  83  57  75"
            ],
            "text/html": [
              "\n",
              "  <div id=\"df-b38a2cdc-f8dd-42bf-991b-bb01872dd38f\">\n",
              "    <div class=\"colab-df-container\">\n",
              "      <div>\n",
              "<style scoped>\n",
              "    .dataframe tbody tr th:only-of-type {\n",
              "        vertical-align: middle;\n",
              "    }\n",
              "\n",
              "    .dataframe tbody tr th {\n",
              "        vertical-align: top;\n",
              "    }\n",
              "\n",
              "    .dataframe thead th {\n",
              "        text-align: right;\n",
              "    }\n",
              "</style>\n",
              "<table border=\"1\" class=\"dataframe\">\n",
              "  <thead>\n",
              "    <tr style=\"text-align: right;\">\n",
              "      <th></th>\n",
              "      <th>國文</th>\n",
              "      <th>英文</th>\n",
              "      <th>數學</th>\n",
              "      <th>理化</th>\n",
              "    </tr>\n",
              "  </thead>\n",
              "  <tbody>\n",
              "    <tr>\n",
              "      <th>ANNK</th>\n",
              "      <td>54</td>\n",
              "      <td>58</td>\n",
              "      <td>53</td>\n",
              "      <td>70</td>\n",
              "    </tr>\n",
              "    <tr>\n",
              "      <th>CEEK</th>\n",
              "      <td>64</td>\n",
              "      <td>63</td>\n",
              "      <td>32</td>\n",
              "      <td>40</td>\n",
              "    </tr>\n",
              "    <tr>\n",
              "      <th>GDES</th>\n",
              "      <td>74</td>\n",
              "      <td>48</td>\n",
              "      <td>70</td>\n",
              "      <td>75</td>\n",
              "    </tr>\n",
              "    <tr>\n",
              "      <th>LWES</th>\n",
              "      <td>99</td>\n",
              "      <td>53</td>\n",
              "      <td>36</td>\n",
              "      <td>82</td>\n",
              "    </tr>\n",
              "    <tr>\n",
              "      <th>HRED</th>\n",
              "      <td>51</td>\n",
              "      <td>83</td>\n",
              "      <td>57</td>\n",
              "      <td>75</td>\n",
              "    </tr>\n",
              "  </tbody>\n",
              "</table>\n",
              "</div>\n",
              "      <button class=\"colab-df-convert\" onclick=\"convertToInteractive('df-b38a2cdc-f8dd-42bf-991b-bb01872dd38f')\"\n",
              "              title=\"Convert this dataframe to an interactive table.\"\n",
              "              style=\"display:none;\">\n",
              "        \n",
              "  <svg xmlns=\"http://www.w3.org/2000/svg\" height=\"24px\"viewBox=\"0 0 24 24\"\n",
              "       width=\"24px\">\n",
              "    <path d=\"M0 0h24v24H0V0z\" fill=\"none\"/>\n",
              "    <path d=\"M18.56 5.44l.94 2.06.94-2.06 2.06-.94-2.06-.94-.94-2.06-.94 2.06-2.06.94zm-11 1L8.5 8.5l.94-2.06 2.06-.94-2.06-.94L8.5 2.5l-.94 2.06-2.06.94zm10 10l.94 2.06.94-2.06 2.06-.94-2.06-.94-.94-2.06-.94 2.06-2.06.94z\"/><path d=\"M17.41 7.96l-1.37-1.37c-.4-.4-.92-.59-1.43-.59-.52 0-1.04.2-1.43.59L10.3 9.45l-7.72 7.72c-.78.78-.78 2.05 0 2.83L4 21.41c.39.39.9.59 1.41.59.51 0 1.02-.2 1.41-.59l7.78-7.78 2.81-2.81c.8-.78.8-2.07 0-2.86zM5.41 20L4 18.59l7.72-7.72 1.47 1.35L5.41 20z\"/>\n",
              "  </svg>\n",
              "      </button>\n",
              "      \n",
              "  <style>\n",
              "    .colab-df-container {\n",
              "      display:flex;\n",
              "      flex-wrap:wrap;\n",
              "      gap: 12px;\n",
              "    }\n",
              "\n",
              "    .colab-df-convert {\n",
              "      background-color: #E8F0FE;\n",
              "      border: none;\n",
              "      border-radius: 50%;\n",
              "      cursor: pointer;\n",
              "      display: none;\n",
              "      fill: #1967D2;\n",
              "      height: 32px;\n",
              "      padding: 0 0 0 0;\n",
              "      width: 32px;\n",
              "    }\n",
              "\n",
              "    .colab-df-convert:hover {\n",
              "      background-color: #E2EBFA;\n",
              "      box-shadow: 0px 1px 2px rgba(60, 64, 67, 0.3), 0px 1px 3px 1px rgba(60, 64, 67, 0.15);\n",
              "      fill: #174EA6;\n",
              "    }\n",
              "\n",
              "    [theme=dark] .colab-df-convert {\n",
              "      background-color: #3B4455;\n",
              "      fill: #D2E3FC;\n",
              "    }\n",
              "\n",
              "    [theme=dark] .colab-df-convert:hover {\n",
              "      background-color: #434B5C;\n",
              "      box-shadow: 0px 1px 3px 1px rgba(0, 0, 0, 0.15);\n",
              "      filter: drop-shadow(0px 1px 2px rgba(0, 0, 0, 0.3));\n",
              "      fill: #FFFFFF;\n",
              "    }\n",
              "  </style>\n",
              "\n",
              "      <script>\n",
              "        const buttonEl =\n",
              "          document.querySelector('#df-b38a2cdc-f8dd-42bf-991b-bb01872dd38f button.colab-df-convert');\n",
              "        buttonEl.style.display =\n",
              "          google.colab.kernel.accessAllowed ? 'block' : 'none';\n",
              "\n",
              "        async function convertToInteractive(key) {\n",
              "          const element = document.querySelector('#df-b38a2cdc-f8dd-42bf-991b-bb01872dd38f');\n",
              "          const dataTable =\n",
              "            await google.colab.kernel.invokeFunction('convertToInteractive',\n",
              "                                                     [key], {});\n",
              "          if (!dataTable) return;\n",
              "\n",
              "          const docLinkHtml = 'Like what you see? Visit the ' +\n",
              "            '<a target=\"_blank\" href=https://colab.research.google.com/notebooks/data_table.ipynb>data table notebook</a>'\n",
              "            + ' to learn more about interactive tables.';\n",
              "          element.innerHTML = '';\n",
              "          dataTable['output_type'] = 'display_data';\n",
              "          await google.colab.output.renderOutput(dataTable, element);\n",
              "          const docLink = document.createElement('div');\n",
              "          docLink.innerHTML = docLinkHtml;\n",
              "          element.appendChild(docLink);\n",
              "        }\n",
              "      </script>\n",
              "    </div>\n",
              "  </div>\n",
              "  "
            ]
          },
          "metadata": {},
          "execution_count": 65
        }
      ]
    },
    {
      "cell_type": "markdown",
      "source": [
        "### print與return的差別"
      ],
      "metadata": {
        "id": "jbE9uS4A4JBD"
      }
    },
    {
      "cell_type": "code",
      "source": [
        "def greetings01(name):\n",
        "  print(f\"Hello, {name}\")"
      ],
      "metadata": {
        "id": "5k_ENuir3vay"
      },
      "execution_count": 66,
      "outputs": []
    },
    {
      "cell_type": "code",
      "source": [
        "def greetings02(name):\n",
        "  return(f\"Hello, {name}\")"
      ],
      "metadata": {
        "id": "8BZOXr7E4Ynl"
      },
      "execution_count": 67,
      "outputs": []
    },
    {
      "cell_type": "code",
      "source": [
        "m = greetings01('Aton')"
      ],
      "metadata": {
        "colab": {
          "base_uri": "https://localhost:8080/"
        },
        "id": "AbCodpA34e8i",
        "outputId": "bbf0dfda-1931-48c1-a11a-13f1693a8cc8"
      },
      "execution_count": 68,
      "outputs": [
        {
          "output_type": "stream",
          "name": "stdout",
          "text": [
            "Hello, Aton\n"
          ]
        }
      ]
    },
    {
      "cell_type": "code",
      "source": [
        "n = greetings02('Aton')"
      ],
      "metadata": {
        "id": "Pjb9K28b4ujD"
      },
      "execution_count": 72,
      "outputs": []
    },
    {
      "cell_type": "code",
      "source": [
        "m"
      ],
      "metadata": {
        "id": "MMzr3v0V4o2Y"
      },
      "execution_count": 73,
      "outputs": []
    },
    {
      "cell_type": "code",
      "source": [
        "n"
      ],
      "metadata": {
        "colab": {
          "base_uri": "https://localhost:8080/",
          "height": 35
        },
        "id": "ofFkCrjh4rDy",
        "outputId": "f5bce9e5-2846-4ac1-e971-cbe10d1bf292"
      },
      "execution_count": 74,
      "outputs": [
        {
          "output_type": "execute_result",
          "data": {
            "text/plain": [
              "'Hello, Aton'"
            ],
            "application/vnd.google.colaboratory.intrinsic+json": {
              "type": "string"
            }
          },
          "metadata": {},
          "execution_count": 74
        }
      ]
    },
    {
      "cell_type": "code",
      "source": [
        "type(m)"
      ],
      "metadata": {
        "colab": {
          "base_uri": "https://localhost:8080/"
        },
        "id": "NYiOrpvB4rma",
        "outputId": "8c4d7153-d150-4d33-d577-9ed319f03b5e"
      },
      "execution_count": 75,
      "outputs": [
        {
          "output_type": "execute_result",
          "data": {
            "text/plain": [
              "NoneType"
            ]
          },
          "metadata": {},
          "execution_count": 75
        }
      ]
    },
    {
      "cell_type": "code",
      "source": [
        "type(n)"
      ],
      "metadata": {
        "colab": {
          "base_uri": "https://localhost:8080/"
        },
        "id": "H0hBXTq54_YQ",
        "outputId": "3aa34599-a329-469f-b737-8d93840ed374"
      },
      "execution_count": 76,
      "outputs": [
        {
          "output_type": "execute_result",
          "data": {
            "text/plain": [
              "str"
            ]
          },
          "metadata": {},
          "execution_count": 76
        }
      ]
    },
    {
      "cell_type": "markdown",
      "source": [
        "### 練習\n",
        "分析台積電的股價 (2330.tw)。\n",
        "\n",
        "* 下載歷史股價\n",
        "* 分析歷史股價第一筆到最近一筆資料的資產變化情形\n",
        "* 分析2022年自2023年間，從何時切入投資報酬率最大"
      ],
      "metadata": {
        "id": "t21FIGjU5XJ-"
      }
    },
    {
      "cell_type": "code",
      "source": [
        "!pip install yfinance"
      ],
      "metadata": {
        "colab": {
          "base_uri": "https://localhost:8080/",
          "height": 993
        },
        "id": "dAm1geZI4_ug",
        "outputId": "781917b6-2875-4b27-d887-38242f643df9"
      },
      "execution_count": 77,
      "outputs": [
        {
          "output_type": "stream",
          "name": "stdout",
          "text": [
            "Looking in indexes: https://pypi.org/simple, https://us-python.pkg.dev/colab-wheels/public/simple/\n",
            "Collecting yfinance\n",
            "  Downloading yfinance-0.2.12-py2.py3-none-any.whl (59 kB)\n",
            "\u001b[2K     \u001b[90m━━━━━━━━━━━━━━━━━━━━━━━━━━━━━━━━━━━━━━━━\u001b[0m \u001b[32m59.2/59.2 KB\u001b[0m \u001b[31m3.1 MB/s\u001b[0m eta \u001b[36m0:00:00\u001b[0m\n",
            "\u001b[?25hRequirement already satisfied: appdirs>=1.4.4 in /usr/local/lib/python3.8/dist-packages (from yfinance) (1.4.4)\n",
            "Requirement already satisfied: lxml>=4.9.1 in /usr/local/lib/python3.8/dist-packages (from yfinance) (4.9.2)\n",
            "Requirement already satisfied: pandas>=1.3.0 in /usr/local/lib/python3.8/dist-packages (from yfinance) (1.3.5)\n",
            "Collecting requests>=2.26\n",
            "  Downloading requests-2.28.2-py3-none-any.whl (62 kB)\n",
            "\u001b[2K     \u001b[90m━━━━━━━━━━━━━━━━━━━━━━━━━━━━━━━━━━━━━━━━\u001b[0m \u001b[32m62.8/62.8 KB\u001b[0m \u001b[31m6.3 MB/s\u001b[0m eta \u001b[36m0:00:00\u001b[0m\n",
            "\u001b[?25hRequirement already satisfied: multitasking>=0.0.7 in /usr/local/lib/python3.8/dist-packages (from yfinance) (0.0.11)\n",
            "Collecting frozendict>=2.3.4\n",
            "  Downloading frozendict-2.3.5-cp38-cp38-manylinux_2_17_x86_64.manylinux2014_x86_64.whl (111 kB)\n",
            "\u001b[2K     \u001b[90m━━━━━━━━━━━━━━━━━━━━━━━━━━━━━━━━━━━━━━\u001b[0m \u001b[32m111.2/111.2 KB\u001b[0m \u001b[31m12.1 MB/s\u001b[0m eta \u001b[36m0:00:00\u001b[0m\n",
            "\u001b[?25hCollecting beautifulsoup4>=4.11.1\n",
            "  Downloading beautifulsoup4-4.11.2-py3-none-any.whl (129 kB)\n",
            "\u001b[2K     \u001b[90m━━━━━━━━━━━━━━━━━━━━━━━━━━━━━━━━━━━━━━\u001b[0m \u001b[32m129.4/129.4 KB\u001b[0m \u001b[31m13.6 MB/s\u001b[0m eta \u001b[36m0:00:00\u001b[0m\n",
            "\u001b[?25hRequirement already satisfied: pytz>=2022.5 in /usr/local/lib/python3.8/dist-packages (from yfinance) (2022.7.1)\n",
            "Collecting cryptography>=3.3.2\n",
            "  Downloading cryptography-39.0.2-cp36-abi3-manylinux_2_28_x86_64.whl (4.2 MB)\n",
            "\u001b[2K     \u001b[90m━━━━━━━━━━━━━━━━━━━━━━━━━━━━━━━━━━━━━━━━\u001b[0m \u001b[32m4.2/4.2 MB\u001b[0m \u001b[31m39.9 MB/s\u001b[0m eta \u001b[36m0:00:00\u001b[0m\n",
            "\u001b[?25hRequirement already satisfied: numpy>=1.16.5 in /usr/local/lib/python3.8/dist-packages (from yfinance) (1.22.4)\n",
            "Collecting html5lib>=1.1\n",
            "  Downloading html5lib-1.1-py2.py3-none-any.whl (112 kB)\n",
            "\u001b[2K     \u001b[90m━━━━━━━━━━━━━━━━━━━━━━━━━━━━━━━━━━━━━━\u001b[0m \u001b[32m112.2/112.2 KB\u001b[0m \u001b[31m12.4 MB/s\u001b[0m eta \u001b[36m0:00:00\u001b[0m\n",
            "\u001b[?25hCollecting soupsieve>1.2\n",
            "  Downloading soupsieve-2.4-py3-none-any.whl (37 kB)\n",
            "Requirement already satisfied: cffi>=1.12 in /usr/local/lib/python3.8/dist-packages (from cryptography>=3.3.2->yfinance) (1.15.1)\n",
            "Requirement already satisfied: six>=1.9 in /usr/local/lib/python3.8/dist-packages (from html5lib>=1.1->yfinance) (1.15.0)\n",
            "Requirement already satisfied: webencodings in /usr/local/lib/python3.8/dist-packages (from html5lib>=1.1->yfinance) (0.5.1)\n",
            "Requirement already satisfied: python-dateutil>=2.7.3 in /usr/local/lib/python3.8/dist-packages (from pandas>=1.3.0->yfinance) (2.8.2)\n",
            "Requirement already satisfied: idna<4,>=2.5 in /usr/local/lib/python3.8/dist-packages (from requests>=2.26->yfinance) (2.10)\n",
            "Requirement already satisfied: urllib3<1.27,>=1.21.1 in /usr/local/lib/python3.8/dist-packages (from requests>=2.26->yfinance) (1.26.14)\n",
            "Requirement already satisfied: charset-normalizer<4,>=2 in /usr/local/lib/python3.8/dist-packages (from requests>=2.26->yfinance) (3.0.1)\n",
            "Requirement already satisfied: certifi>=2017.4.17 in /usr/local/lib/python3.8/dist-packages (from requests>=2.26->yfinance) (2022.12.7)\n",
            "Requirement already satisfied: pycparser in /usr/local/lib/python3.8/dist-packages (from cffi>=1.12->cryptography>=3.3.2->yfinance) (2.21)\n",
            "Installing collected packages: soupsieve, requests, html5lib, frozendict, cryptography, beautifulsoup4, yfinance\n",
            "  Attempting uninstall: requests\n",
            "    Found existing installation: requests 2.25.1\n",
            "    Uninstalling requests-2.25.1:\n",
            "      Successfully uninstalled requests-2.25.1\n",
            "  Attempting uninstall: html5lib\n",
            "    Found existing installation: html5lib 1.0.1\n",
            "    Uninstalling html5lib-1.0.1:\n",
            "      Successfully uninstalled html5lib-1.0.1\n",
            "  Attempting uninstall: beautifulsoup4\n",
            "    Found existing installation: beautifulsoup4 4.6.3\n",
            "    Uninstalling beautifulsoup4-4.6.3:\n",
            "      Successfully uninstalled beautifulsoup4-4.6.3\n",
            "Successfully installed beautifulsoup4-4.11.2 cryptography-39.0.2 frozendict-2.3.5 html5lib-1.1 requests-2.28.2 soupsieve-2.4 yfinance-0.2.12\n"
          ]
        },
        {
          "output_type": "display_data",
          "data": {
            "application/vnd.colab-display-data+json": {
              "pip_warning": {
                "packages": [
                  "requests"
                ]
              }
            }
          },
          "metadata": {}
        }
      ]
    },
    {
      "cell_type": "code",
      "source": [
        "import yfinance as yf"
      ],
      "metadata": {
        "id": "8P0FSXjo59gK"
      },
      "execution_count": 78,
      "outputs": []
    },
    {
      "cell_type": "code",
      "source": [
        "TSMC = yf.download('2330.tw')"
      ],
      "metadata": {
        "colab": {
          "base_uri": "https://localhost:8080/"
        },
        "id": "ru_gyzXZ593t",
        "outputId": "0cb20212-f4f7-4601-a43a-5ffeeb54c2dd"
      },
      "execution_count": 79,
      "outputs": [
        {
          "output_type": "stream",
          "name": "stdout",
          "text": [
            "\r[*********************100%***********************]  1 of 1 completed\n"
          ]
        }
      ]
    },
    {
      "cell_type": "code",
      "source": [
        "TSMC.head()"
      ],
      "metadata": {
        "colab": {
          "base_uri": "https://localhost:8080/",
          "height": 237
        },
        "id": "OIMJVFZN6CnH",
        "outputId": "49cac3fd-6c6b-42ff-b5f9-5115fc316acb"
      },
      "execution_count": 80,
      "outputs": [
        {
          "output_type": "execute_result",
          "data": {
            "text/plain": [
              "                 Open       High        Low      Close  Adj Close  \\\n",
              "Date                                                                \n",
              "2000-01-04  69.649033  69.649033  68.475182  69.649033  35.393486   \n",
              "2000-01-05  69.649033  71.214043  68.866341  71.214043  36.188782   \n",
              "2000-01-06  70.822884  71.214043  69.649033  69.649033  35.393486   \n",
              "2000-01-07  67.301331  68.475182  66.518639  67.692490  34.399239   \n",
              "2000-01-10  69.649033  70.431351  68.475182  70.040192  35.592262   \n",
              "\n",
              "                  Volume  \n",
              "Date                      \n",
              "2000-01-04  200662336736  \n",
              "2000-01-05  402466805912  \n",
              "2000-01-06  197545715802  \n",
              "2000-01-07  235270344752  \n",
              "2000-01-10  276171685539  "
            ],
            "text/html": [
              "\n",
              "  <div id=\"df-1b62b487-ec0c-4fd8-9834-68d57348b4ec\">\n",
              "    <div class=\"colab-df-container\">\n",
              "      <div>\n",
              "<style scoped>\n",
              "    .dataframe tbody tr th:only-of-type {\n",
              "        vertical-align: middle;\n",
              "    }\n",
              "\n",
              "    .dataframe tbody tr th {\n",
              "        vertical-align: top;\n",
              "    }\n",
              "\n",
              "    .dataframe thead th {\n",
              "        text-align: right;\n",
              "    }\n",
              "</style>\n",
              "<table border=\"1\" class=\"dataframe\">\n",
              "  <thead>\n",
              "    <tr style=\"text-align: right;\">\n",
              "      <th></th>\n",
              "      <th>Open</th>\n",
              "      <th>High</th>\n",
              "      <th>Low</th>\n",
              "      <th>Close</th>\n",
              "      <th>Adj Close</th>\n",
              "      <th>Volume</th>\n",
              "    </tr>\n",
              "    <tr>\n",
              "      <th>Date</th>\n",
              "      <th></th>\n",
              "      <th></th>\n",
              "      <th></th>\n",
              "      <th></th>\n",
              "      <th></th>\n",
              "      <th></th>\n",
              "    </tr>\n",
              "  </thead>\n",
              "  <tbody>\n",
              "    <tr>\n",
              "      <th>2000-01-04</th>\n",
              "      <td>69.649033</td>\n",
              "      <td>69.649033</td>\n",
              "      <td>68.475182</td>\n",
              "      <td>69.649033</td>\n",
              "      <td>35.393486</td>\n",
              "      <td>200662336736</td>\n",
              "    </tr>\n",
              "    <tr>\n",
              "      <th>2000-01-05</th>\n",
              "      <td>69.649033</td>\n",
              "      <td>71.214043</td>\n",
              "      <td>68.866341</td>\n",
              "      <td>71.214043</td>\n",
              "      <td>36.188782</td>\n",
              "      <td>402466805912</td>\n",
              "    </tr>\n",
              "    <tr>\n",
              "      <th>2000-01-06</th>\n",
              "      <td>70.822884</td>\n",
              "      <td>71.214043</td>\n",
              "      <td>69.649033</td>\n",
              "      <td>69.649033</td>\n",
              "      <td>35.393486</td>\n",
              "      <td>197545715802</td>\n",
              "    </tr>\n",
              "    <tr>\n",
              "      <th>2000-01-07</th>\n",
              "      <td>67.301331</td>\n",
              "      <td>68.475182</td>\n",
              "      <td>66.518639</td>\n",
              "      <td>67.692490</td>\n",
              "      <td>34.399239</td>\n",
              "      <td>235270344752</td>\n",
              "    </tr>\n",
              "    <tr>\n",
              "      <th>2000-01-10</th>\n",
              "      <td>69.649033</td>\n",
              "      <td>70.431351</td>\n",
              "      <td>68.475182</td>\n",
              "      <td>70.040192</td>\n",
              "      <td>35.592262</td>\n",
              "      <td>276171685539</td>\n",
              "    </tr>\n",
              "  </tbody>\n",
              "</table>\n",
              "</div>\n",
              "      <button class=\"colab-df-convert\" onclick=\"convertToInteractive('df-1b62b487-ec0c-4fd8-9834-68d57348b4ec')\"\n",
              "              title=\"Convert this dataframe to an interactive table.\"\n",
              "              style=\"display:none;\">\n",
              "        \n",
              "  <svg xmlns=\"http://www.w3.org/2000/svg\" height=\"24px\"viewBox=\"0 0 24 24\"\n",
              "       width=\"24px\">\n",
              "    <path d=\"M0 0h24v24H0V0z\" fill=\"none\"/>\n",
              "    <path d=\"M18.56 5.44l.94 2.06.94-2.06 2.06-.94-2.06-.94-.94-2.06-.94 2.06-2.06.94zm-11 1L8.5 8.5l.94-2.06 2.06-.94-2.06-.94L8.5 2.5l-.94 2.06-2.06.94zm10 10l.94 2.06.94-2.06 2.06-.94-2.06-.94-.94-2.06-.94 2.06-2.06.94z\"/><path d=\"M17.41 7.96l-1.37-1.37c-.4-.4-.92-.59-1.43-.59-.52 0-1.04.2-1.43.59L10.3 9.45l-7.72 7.72c-.78.78-.78 2.05 0 2.83L4 21.41c.39.39.9.59 1.41.59.51 0 1.02-.2 1.41-.59l7.78-7.78 2.81-2.81c.8-.78.8-2.07 0-2.86zM5.41 20L4 18.59l7.72-7.72 1.47 1.35L5.41 20z\"/>\n",
              "  </svg>\n",
              "      </button>\n",
              "      \n",
              "  <style>\n",
              "    .colab-df-container {\n",
              "      display:flex;\n",
              "      flex-wrap:wrap;\n",
              "      gap: 12px;\n",
              "    }\n",
              "\n",
              "    .colab-df-convert {\n",
              "      background-color: #E8F0FE;\n",
              "      border: none;\n",
              "      border-radius: 50%;\n",
              "      cursor: pointer;\n",
              "      display: none;\n",
              "      fill: #1967D2;\n",
              "      height: 32px;\n",
              "      padding: 0 0 0 0;\n",
              "      width: 32px;\n",
              "    }\n",
              "\n",
              "    .colab-df-convert:hover {\n",
              "      background-color: #E2EBFA;\n",
              "      box-shadow: 0px 1px 2px rgba(60, 64, 67, 0.3), 0px 1px 3px 1px rgba(60, 64, 67, 0.15);\n",
              "      fill: #174EA6;\n",
              "    }\n",
              "\n",
              "    [theme=dark] .colab-df-convert {\n",
              "      background-color: #3B4455;\n",
              "      fill: #D2E3FC;\n",
              "    }\n",
              "\n",
              "    [theme=dark] .colab-df-convert:hover {\n",
              "      background-color: #434B5C;\n",
              "      box-shadow: 0px 1px 3px 1px rgba(0, 0, 0, 0.15);\n",
              "      filter: drop-shadow(0px 1px 2px rgba(0, 0, 0, 0.3));\n",
              "      fill: #FFFFFF;\n",
              "    }\n",
              "  </style>\n",
              "\n",
              "      <script>\n",
              "        const buttonEl =\n",
              "          document.querySelector('#df-1b62b487-ec0c-4fd8-9834-68d57348b4ec button.colab-df-convert');\n",
              "        buttonEl.style.display =\n",
              "          google.colab.kernel.accessAllowed ? 'block' : 'none';\n",
              "\n",
              "        async function convertToInteractive(key) {\n",
              "          const element = document.querySelector('#df-1b62b487-ec0c-4fd8-9834-68d57348b4ec');\n",
              "          const dataTable =\n",
              "            await google.colab.kernel.invokeFunction('convertToInteractive',\n",
              "                                                     [key], {});\n",
              "          if (!dataTable) return;\n",
              "\n",
              "          const docLinkHtml = 'Like what you see? Visit the ' +\n",
              "            '<a target=\"_blank\" href=https://colab.research.google.com/notebooks/data_table.ipynb>data table notebook</a>'\n",
              "            + ' to learn more about interactive tables.';\n",
              "          element.innerHTML = '';\n",
              "          dataTable['output_type'] = 'display_data';\n",
              "          await google.colab.output.renderOutput(dataTable, element);\n",
              "          const docLink = document.createElement('div');\n",
              "          docLink.innerHTML = docLinkHtml;\n",
              "          element.appendChild(docLink);\n",
              "        }\n",
              "      </script>\n",
              "    </div>\n",
              "  </div>\n",
              "  "
            ]
          },
          "metadata": {},
          "execution_count": 80
        }
      ]
    },
    {
      "cell_type": "code",
      "source": [
        "TSMC['Close'][-1]/TSMC['Close'][0]"
      ],
      "metadata": {
        "colab": {
          "base_uri": "https://localhost:8080/"
        },
        "id": "FkF4_xog6Cx9",
        "outputId": "6401f1ee-95d1-454a-b8a3-ea5e9e7c1710"
      },
      "execution_count": 82,
      "outputs": [
        {
          "output_type": "execute_result",
          "data": {
            "text/plain": [
              "7.408573827822822"
            ]
          },
          "metadata": {},
          "execution_count": 82
        }
      ]
    },
    {
      "cell_type": "code",
      "source": [
        "TSMC['2022':'2023']"
      ],
      "metadata": {
        "colab": {
          "base_uri": "https://localhost:8080/",
          "height": 455
        },
        "id": "B6c5wxVf6Np6",
        "outputId": "acbe800f-9132-448b-d80a-33e61fc000bc"
      },
      "execution_count": 83,
      "outputs": [
        {
          "output_type": "execute_result",
          "data": {
            "text/plain": [
              "             Open   High    Low  Close   Adj Close    Volume\n",
              "Date                                                        \n",
              "2022-01-03  619.0  632.0  618.0  631.0  617.366455  69089158\n",
              "2022-01-04  645.0  656.0  644.0  656.0  641.826294  79434666\n",
              "2022-01-05  669.0  669.0  646.0  650.0  635.955872  69593809\n",
              "2022-01-06  638.0  646.0  636.0  644.0  630.085571  53210211\n",
              "2022-01-07  643.0  646.0  632.0  634.0  620.301636  38249908\n",
              "...           ...    ...    ...    ...         ...       ...\n",
              "2023-02-23  512.0  521.0  510.0  518.0  518.000000  25376835\n",
              "2023-02-24  524.0  525.0  511.0  511.0  511.000000  41692491\n",
              "2023-03-01  504.0  522.0  504.0  522.0  522.000000  39560848\n",
              "2023-03-02  519.0  520.0  515.0  519.0  519.000000  16558784\n",
              "2023-03-03  524.0  525.0  516.0  516.0  516.000000  23253895\n",
              "\n",
              "[280 rows x 6 columns]"
            ],
            "text/html": [
              "\n",
              "  <div id=\"df-0375a454-60f1-4744-8530-3b76ae800824\">\n",
              "    <div class=\"colab-df-container\">\n",
              "      <div>\n",
              "<style scoped>\n",
              "    .dataframe tbody tr th:only-of-type {\n",
              "        vertical-align: middle;\n",
              "    }\n",
              "\n",
              "    .dataframe tbody tr th {\n",
              "        vertical-align: top;\n",
              "    }\n",
              "\n",
              "    .dataframe thead th {\n",
              "        text-align: right;\n",
              "    }\n",
              "</style>\n",
              "<table border=\"1\" class=\"dataframe\">\n",
              "  <thead>\n",
              "    <tr style=\"text-align: right;\">\n",
              "      <th></th>\n",
              "      <th>Open</th>\n",
              "      <th>High</th>\n",
              "      <th>Low</th>\n",
              "      <th>Close</th>\n",
              "      <th>Adj Close</th>\n",
              "      <th>Volume</th>\n",
              "    </tr>\n",
              "    <tr>\n",
              "      <th>Date</th>\n",
              "      <th></th>\n",
              "      <th></th>\n",
              "      <th></th>\n",
              "      <th></th>\n",
              "      <th></th>\n",
              "      <th></th>\n",
              "    </tr>\n",
              "  </thead>\n",
              "  <tbody>\n",
              "    <tr>\n",
              "      <th>2022-01-03</th>\n",
              "      <td>619.0</td>\n",
              "      <td>632.0</td>\n",
              "      <td>618.0</td>\n",
              "      <td>631.0</td>\n",
              "      <td>617.366455</td>\n",
              "      <td>69089158</td>\n",
              "    </tr>\n",
              "    <tr>\n",
              "      <th>2022-01-04</th>\n",
              "      <td>645.0</td>\n",
              "      <td>656.0</td>\n",
              "      <td>644.0</td>\n",
              "      <td>656.0</td>\n",
              "      <td>641.826294</td>\n",
              "      <td>79434666</td>\n",
              "    </tr>\n",
              "    <tr>\n",
              "      <th>2022-01-05</th>\n",
              "      <td>669.0</td>\n",
              "      <td>669.0</td>\n",
              "      <td>646.0</td>\n",
              "      <td>650.0</td>\n",
              "      <td>635.955872</td>\n",
              "      <td>69593809</td>\n",
              "    </tr>\n",
              "    <tr>\n",
              "      <th>2022-01-06</th>\n",
              "      <td>638.0</td>\n",
              "      <td>646.0</td>\n",
              "      <td>636.0</td>\n",
              "      <td>644.0</td>\n",
              "      <td>630.085571</td>\n",
              "      <td>53210211</td>\n",
              "    </tr>\n",
              "    <tr>\n",
              "      <th>2022-01-07</th>\n",
              "      <td>643.0</td>\n",
              "      <td>646.0</td>\n",
              "      <td>632.0</td>\n",
              "      <td>634.0</td>\n",
              "      <td>620.301636</td>\n",
              "      <td>38249908</td>\n",
              "    </tr>\n",
              "    <tr>\n",
              "      <th>...</th>\n",
              "      <td>...</td>\n",
              "      <td>...</td>\n",
              "      <td>...</td>\n",
              "      <td>...</td>\n",
              "      <td>...</td>\n",
              "      <td>...</td>\n",
              "    </tr>\n",
              "    <tr>\n",
              "      <th>2023-02-23</th>\n",
              "      <td>512.0</td>\n",
              "      <td>521.0</td>\n",
              "      <td>510.0</td>\n",
              "      <td>518.0</td>\n",
              "      <td>518.000000</td>\n",
              "      <td>25376835</td>\n",
              "    </tr>\n",
              "    <tr>\n",
              "      <th>2023-02-24</th>\n",
              "      <td>524.0</td>\n",
              "      <td>525.0</td>\n",
              "      <td>511.0</td>\n",
              "      <td>511.0</td>\n",
              "      <td>511.000000</td>\n",
              "      <td>41692491</td>\n",
              "    </tr>\n",
              "    <tr>\n",
              "      <th>2023-03-01</th>\n",
              "      <td>504.0</td>\n",
              "      <td>522.0</td>\n",
              "      <td>504.0</td>\n",
              "      <td>522.0</td>\n",
              "      <td>522.000000</td>\n",
              "      <td>39560848</td>\n",
              "    </tr>\n",
              "    <tr>\n",
              "      <th>2023-03-02</th>\n",
              "      <td>519.0</td>\n",
              "      <td>520.0</td>\n",
              "      <td>515.0</td>\n",
              "      <td>519.0</td>\n",
              "      <td>519.000000</td>\n",
              "      <td>16558784</td>\n",
              "    </tr>\n",
              "    <tr>\n",
              "      <th>2023-03-03</th>\n",
              "      <td>524.0</td>\n",
              "      <td>525.0</td>\n",
              "      <td>516.0</td>\n",
              "      <td>516.0</td>\n",
              "      <td>516.000000</td>\n",
              "      <td>23253895</td>\n",
              "    </tr>\n",
              "  </tbody>\n",
              "</table>\n",
              "<p>280 rows × 6 columns</p>\n",
              "</div>\n",
              "      <button class=\"colab-df-convert\" onclick=\"convertToInteractive('df-0375a454-60f1-4744-8530-3b76ae800824')\"\n",
              "              title=\"Convert this dataframe to an interactive table.\"\n",
              "              style=\"display:none;\">\n",
              "        \n",
              "  <svg xmlns=\"http://www.w3.org/2000/svg\" height=\"24px\"viewBox=\"0 0 24 24\"\n",
              "       width=\"24px\">\n",
              "    <path d=\"M0 0h24v24H0V0z\" fill=\"none\"/>\n",
              "    <path d=\"M18.56 5.44l.94 2.06.94-2.06 2.06-.94-2.06-.94-.94-2.06-.94 2.06-2.06.94zm-11 1L8.5 8.5l.94-2.06 2.06-.94-2.06-.94L8.5 2.5l-.94 2.06-2.06.94zm10 10l.94 2.06.94-2.06 2.06-.94-2.06-.94-.94-2.06-.94 2.06-2.06.94z\"/><path d=\"M17.41 7.96l-1.37-1.37c-.4-.4-.92-.59-1.43-.59-.52 0-1.04.2-1.43.59L10.3 9.45l-7.72 7.72c-.78.78-.78 2.05 0 2.83L4 21.41c.39.39.9.59 1.41.59.51 0 1.02-.2 1.41-.59l7.78-7.78 2.81-2.81c.8-.78.8-2.07 0-2.86zM5.41 20L4 18.59l7.72-7.72 1.47 1.35L5.41 20z\"/>\n",
              "  </svg>\n",
              "      </button>\n",
              "      \n",
              "  <style>\n",
              "    .colab-df-container {\n",
              "      display:flex;\n",
              "      flex-wrap:wrap;\n",
              "      gap: 12px;\n",
              "    }\n",
              "\n",
              "    .colab-df-convert {\n",
              "      background-color: #E8F0FE;\n",
              "      border: none;\n",
              "      border-radius: 50%;\n",
              "      cursor: pointer;\n",
              "      display: none;\n",
              "      fill: #1967D2;\n",
              "      height: 32px;\n",
              "      padding: 0 0 0 0;\n",
              "      width: 32px;\n",
              "    }\n",
              "\n",
              "    .colab-df-convert:hover {\n",
              "      background-color: #E2EBFA;\n",
              "      box-shadow: 0px 1px 2px rgba(60, 64, 67, 0.3), 0px 1px 3px 1px rgba(60, 64, 67, 0.15);\n",
              "      fill: #174EA6;\n",
              "    }\n",
              "\n",
              "    [theme=dark] .colab-df-convert {\n",
              "      background-color: #3B4455;\n",
              "      fill: #D2E3FC;\n",
              "    }\n",
              "\n",
              "    [theme=dark] .colab-df-convert:hover {\n",
              "      background-color: #434B5C;\n",
              "      box-shadow: 0px 1px 3px 1px rgba(0, 0, 0, 0.15);\n",
              "      filter: drop-shadow(0px 1px 2px rgba(0, 0, 0, 0.3));\n",
              "      fill: #FFFFFF;\n",
              "    }\n",
              "  </style>\n",
              "\n",
              "      <script>\n",
              "        const buttonEl =\n",
              "          document.querySelector('#df-0375a454-60f1-4744-8530-3b76ae800824 button.colab-df-convert');\n",
              "        buttonEl.style.display =\n",
              "          google.colab.kernel.accessAllowed ? 'block' : 'none';\n",
              "\n",
              "        async function convertToInteractive(key) {\n",
              "          const element = document.querySelector('#df-0375a454-60f1-4744-8530-3b76ae800824');\n",
              "          const dataTable =\n",
              "            await google.colab.kernel.invokeFunction('convertToInteractive',\n",
              "                                                     [key], {});\n",
              "          if (!dataTable) return;\n",
              "\n",
              "          const docLinkHtml = 'Like what you see? Visit the ' +\n",
              "            '<a target=\"_blank\" href=https://colab.research.google.com/notebooks/data_table.ipynb>data table notebook</a>'\n",
              "            + ' to learn more about interactive tables.';\n",
              "          element.innerHTML = '';\n",
              "          dataTable['output_type'] = 'display_data';\n",
              "          await google.colab.output.renderOutput(dataTable, element);\n",
              "          const docLink = document.createElement('div');\n",
              "          docLink.innerHTML = docLinkHtml;\n",
              "          element.appendChild(docLink);\n",
              "        }\n",
              "      </script>\n",
              "    </div>\n",
              "  </div>\n",
              "  "
            ]
          },
          "metadata": {},
          "execution_count": 83
        }
      ]
    },
    {
      "cell_type": "code",
      "source": [
        "TSMC.loc['2022':'2023']"
      ],
      "metadata": {
        "colab": {
          "base_uri": "https://localhost:8080/",
          "height": 455
        },
        "id": "c2P4f5I26bwb",
        "outputId": "72ae0ef7-1032-4c5a-ac61-c4500f8059c3"
      },
      "execution_count": 85,
      "outputs": [
        {
          "output_type": "execute_result",
          "data": {
            "text/plain": [
              "             Open   High    Low  Close   Adj Close    Volume\n",
              "Date                                                        \n",
              "2022-01-03  619.0  632.0  618.0  631.0  617.366455  69089158\n",
              "2022-01-04  645.0  656.0  644.0  656.0  641.826294  79434666\n",
              "2022-01-05  669.0  669.0  646.0  650.0  635.955872  69593809\n",
              "2022-01-06  638.0  646.0  636.0  644.0  630.085571  53210211\n",
              "2022-01-07  643.0  646.0  632.0  634.0  620.301636  38249908\n",
              "...           ...    ...    ...    ...         ...       ...\n",
              "2023-02-23  512.0  521.0  510.0  518.0  518.000000  25376835\n",
              "2023-02-24  524.0  525.0  511.0  511.0  511.000000  41692491\n",
              "2023-03-01  504.0  522.0  504.0  522.0  522.000000  39560848\n",
              "2023-03-02  519.0  520.0  515.0  519.0  519.000000  16558784\n",
              "2023-03-03  524.0  525.0  516.0  516.0  516.000000  23253895\n",
              "\n",
              "[280 rows x 6 columns]"
            ],
            "text/html": [
              "\n",
              "  <div id=\"df-417c92c2-3d53-4635-87bd-a1d6bb885326\">\n",
              "    <div class=\"colab-df-container\">\n",
              "      <div>\n",
              "<style scoped>\n",
              "    .dataframe tbody tr th:only-of-type {\n",
              "        vertical-align: middle;\n",
              "    }\n",
              "\n",
              "    .dataframe tbody tr th {\n",
              "        vertical-align: top;\n",
              "    }\n",
              "\n",
              "    .dataframe thead th {\n",
              "        text-align: right;\n",
              "    }\n",
              "</style>\n",
              "<table border=\"1\" class=\"dataframe\">\n",
              "  <thead>\n",
              "    <tr style=\"text-align: right;\">\n",
              "      <th></th>\n",
              "      <th>Open</th>\n",
              "      <th>High</th>\n",
              "      <th>Low</th>\n",
              "      <th>Close</th>\n",
              "      <th>Adj Close</th>\n",
              "      <th>Volume</th>\n",
              "    </tr>\n",
              "    <tr>\n",
              "      <th>Date</th>\n",
              "      <th></th>\n",
              "      <th></th>\n",
              "      <th></th>\n",
              "      <th></th>\n",
              "      <th></th>\n",
              "      <th></th>\n",
              "    </tr>\n",
              "  </thead>\n",
              "  <tbody>\n",
              "    <tr>\n",
              "      <th>2022-01-03</th>\n",
              "      <td>619.0</td>\n",
              "      <td>632.0</td>\n",
              "      <td>618.0</td>\n",
              "      <td>631.0</td>\n",
              "      <td>617.366455</td>\n",
              "      <td>69089158</td>\n",
              "    </tr>\n",
              "    <tr>\n",
              "      <th>2022-01-04</th>\n",
              "      <td>645.0</td>\n",
              "      <td>656.0</td>\n",
              "      <td>644.0</td>\n",
              "      <td>656.0</td>\n",
              "      <td>641.826294</td>\n",
              "      <td>79434666</td>\n",
              "    </tr>\n",
              "    <tr>\n",
              "      <th>2022-01-05</th>\n",
              "      <td>669.0</td>\n",
              "      <td>669.0</td>\n",
              "      <td>646.0</td>\n",
              "      <td>650.0</td>\n",
              "      <td>635.955872</td>\n",
              "      <td>69593809</td>\n",
              "    </tr>\n",
              "    <tr>\n",
              "      <th>2022-01-06</th>\n",
              "      <td>638.0</td>\n",
              "      <td>646.0</td>\n",
              "      <td>636.0</td>\n",
              "      <td>644.0</td>\n",
              "      <td>630.085571</td>\n",
              "      <td>53210211</td>\n",
              "    </tr>\n",
              "    <tr>\n",
              "      <th>2022-01-07</th>\n",
              "      <td>643.0</td>\n",
              "      <td>646.0</td>\n",
              "      <td>632.0</td>\n",
              "      <td>634.0</td>\n",
              "      <td>620.301636</td>\n",
              "      <td>38249908</td>\n",
              "    </tr>\n",
              "    <tr>\n",
              "      <th>...</th>\n",
              "      <td>...</td>\n",
              "      <td>...</td>\n",
              "      <td>...</td>\n",
              "      <td>...</td>\n",
              "      <td>...</td>\n",
              "      <td>...</td>\n",
              "    </tr>\n",
              "    <tr>\n",
              "      <th>2023-02-23</th>\n",
              "      <td>512.0</td>\n",
              "      <td>521.0</td>\n",
              "      <td>510.0</td>\n",
              "      <td>518.0</td>\n",
              "      <td>518.000000</td>\n",
              "      <td>25376835</td>\n",
              "    </tr>\n",
              "    <tr>\n",
              "      <th>2023-02-24</th>\n",
              "      <td>524.0</td>\n",
              "      <td>525.0</td>\n",
              "      <td>511.0</td>\n",
              "      <td>511.0</td>\n",
              "      <td>511.000000</td>\n",
              "      <td>41692491</td>\n",
              "    </tr>\n",
              "    <tr>\n",
              "      <th>2023-03-01</th>\n",
              "      <td>504.0</td>\n",
              "      <td>522.0</td>\n",
              "      <td>504.0</td>\n",
              "      <td>522.0</td>\n",
              "      <td>522.000000</td>\n",
              "      <td>39560848</td>\n",
              "    </tr>\n",
              "    <tr>\n",
              "      <th>2023-03-02</th>\n",
              "      <td>519.0</td>\n",
              "      <td>520.0</td>\n",
              "      <td>515.0</td>\n",
              "      <td>519.0</td>\n",
              "      <td>519.000000</td>\n",
              "      <td>16558784</td>\n",
              "    </tr>\n",
              "    <tr>\n",
              "      <th>2023-03-03</th>\n",
              "      <td>524.0</td>\n",
              "      <td>525.0</td>\n",
              "      <td>516.0</td>\n",
              "      <td>516.0</td>\n",
              "      <td>516.000000</td>\n",
              "      <td>23253895</td>\n",
              "    </tr>\n",
              "  </tbody>\n",
              "</table>\n",
              "<p>280 rows × 6 columns</p>\n",
              "</div>\n",
              "      <button class=\"colab-df-convert\" onclick=\"convertToInteractive('df-417c92c2-3d53-4635-87bd-a1d6bb885326')\"\n",
              "              title=\"Convert this dataframe to an interactive table.\"\n",
              "              style=\"display:none;\">\n",
              "        \n",
              "  <svg xmlns=\"http://www.w3.org/2000/svg\" height=\"24px\"viewBox=\"0 0 24 24\"\n",
              "       width=\"24px\">\n",
              "    <path d=\"M0 0h24v24H0V0z\" fill=\"none\"/>\n",
              "    <path d=\"M18.56 5.44l.94 2.06.94-2.06 2.06-.94-2.06-.94-.94-2.06-.94 2.06-2.06.94zm-11 1L8.5 8.5l.94-2.06 2.06-.94-2.06-.94L8.5 2.5l-.94 2.06-2.06.94zm10 10l.94 2.06.94-2.06 2.06-.94-2.06-.94-.94-2.06-.94 2.06-2.06.94z\"/><path d=\"M17.41 7.96l-1.37-1.37c-.4-.4-.92-.59-1.43-.59-.52 0-1.04.2-1.43.59L10.3 9.45l-7.72 7.72c-.78.78-.78 2.05 0 2.83L4 21.41c.39.39.9.59 1.41.59.51 0 1.02-.2 1.41-.59l7.78-7.78 2.81-2.81c.8-.78.8-2.07 0-2.86zM5.41 20L4 18.59l7.72-7.72 1.47 1.35L5.41 20z\"/>\n",
              "  </svg>\n",
              "      </button>\n",
              "      \n",
              "  <style>\n",
              "    .colab-df-container {\n",
              "      display:flex;\n",
              "      flex-wrap:wrap;\n",
              "      gap: 12px;\n",
              "    }\n",
              "\n",
              "    .colab-df-convert {\n",
              "      background-color: #E8F0FE;\n",
              "      border: none;\n",
              "      border-radius: 50%;\n",
              "      cursor: pointer;\n",
              "      display: none;\n",
              "      fill: #1967D2;\n",
              "      height: 32px;\n",
              "      padding: 0 0 0 0;\n",
              "      width: 32px;\n",
              "    }\n",
              "\n",
              "    .colab-df-convert:hover {\n",
              "      background-color: #E2EBFA;\n",
              "      box-shadow: 0px 1px 2px rgba(60, 64, 67, 0.3), 0px 1px 3px 1px rgba(60, 64, 67, 0.15);\n",
              "      fill: #174EA6;\n",
              "    }\n",
              "\n",
              "    [theme=dark] .colab-df-convert {\n",
              "      background-color: #3B4455;\n",
              "      fill: #D2E3FC;\n",
              "    }\n",
              "\n",
              "    [theme=dark] .colab-df-convert:hover {\n",
              "      background-color: #434B5C;\n",
              "      box-shadow: 0px 1px 3px 1px rgba(0, 0, 0, 0.15);\n",
              "      filter: drop-shadow(0px 1px 2px rgba(0, 0, 0, 0.3));\n",
              "      fill: #FFFFFF;\n",
              "    }\n",
              "  </style>\n",
              "\n",
              "      <script>\n",
              "        const buttonEl =\n",
              "          document.querySelector('#df-417c92c2-3d53-4635-87bd-a1d6bb885326 button.colab-df-convert');\n",
              "        buttonEl.style.display =\n",
              "          google.colab.kernel.accessAllowed ? 'block' : 'none';\n",
              "\n",
              "        async function convertToInteractive(key) {\n",
              "          const element = document.querySelector('#df-417c92c2-3d53-4635-87bd-a1d6bb885326');\n",
              "          const dataTable =\n",
              "            await google.colab.kernel.invokeFunction('convertToInteractive',\n",
              "                                                     [key], {});\n",
              "          if (!dataTable) return;\n",
              "\n",
              "          const docLinkHtml = 'Like what you see? Visit the ' +\n",
              "            '<a target=\"_blank\" href=https://colab.research.google.com/notebooks/data_table.ipynb>data table notebook</a>'\n",
              "            + ' to learn more about interactive tables.';\n",
              "          element.innerHTML = '';\n",
              "          dataTable['output_type'] = 'display_data';\n",
              "          await google.colab.output.renderOutput(dataTable, element);\n",
              "          const docLink = document.createElement('div');\n",
              "          docLink.innerHTML = docLinkHtml;\n",
              "          element.appendChild(docLink);\n",
              "        }\n",
              "      </script>\n",
              "    </div>\n",
              "  </div>\n",
              "  "
            ]
          },
          "metadata": {},
          "execution_count": 85
        }
      ]
    },
    {
      "cell_type": "code",
      "source": [
        "TSMC.loc['2022':'2023']['Close'].min()"
      ],
      "metadata": {
        "colab": {
          "base_uri": "https://localhost:8080/"
        },
        "id": "pRCkqPhA6h11",
        "outputId": "1d6fe11e-a816-4286-cd08-784744847111"
      },
      "execution_count": 86,
      "outputs": [
        {
          "output_type": "execute_result",
          "data": {
            "text/plain": [
              "371.0"
            ]
          },
          "metadata": {},
          "execution_count": 86
        }
      ]
    },
    {
      "cell_type": "code",
      "source": [
        "TSMC['Close']== TSMC.loc['2022':'2023']['Close'].min()"
      ],
      "metadata": {
        "colab": {
          "base_uri": "https://localhost:8080/"
        },
        "id": "v5p_C85o6qnv",
        "outputId": "84a91f56-9a5b-4c57-daca-26973df75431"
      },
      "execution_count": 87,
      "outputs": [
        {
          "output_type": "execute_result",
          "data": {
            "text/plain": [
              "Date\n",
              "2000-01-04    False\n",
              "2000-01-05    False\n",
              "2000-01-06    False\n",
              "2000-01-07    False\n",
              "2000-01-10    False\n",
              "              ...  \n",
              "2023-02-23    False\n",
              "2023-02-24    False\n",
              "2023-03-01    False\n",
              "2023-03-02    False\n",
              "2023-03-03    False\n",
              "Name: Close, Length: 5779, dtype: bool"
            ]
          },
          "metadata": {},
          "execution_count": 87
        }
      ]
    },
    {
      "cell_type": "code",
      "source": [
        "TSMC[TSMC['Close']== TSMC.loc['2022':'2023']['Close'].min()]"
      ],
      "metadata": {
        "colab": {
          "base_uri": "https://localhost:8080/",
          "height": 112
        },
        "id": "PdUwewJA65MI",
        "outputId": "c49cef95-2d70-4d5e-94c7-d9a1b9727870"
      },
      "execution_count": 88,
      "outputs": [
        {
          "output_type": "execute_result",
          "data": {
            "text/plain": [
              "             Open   High    Low  Close   Adj Close    Volume\n",
              "Date                                                        \n",
              "2022-10-25  380.0  382.5  371.0  371.0  368.876709  76416687"
            ],
            "text/html": [
              "\n",
              "  <div id=\"df-2ae03aeb-36b3-4e57-abf4-aa63acc065fc\">\n",
              "    <div class=\"colab-df-container\">\n",
              "      <div>\n",
              "<style scoped>\n",
              "    .dataframe tbody tr th:only-of-type {\n",
              "        vertical-align: middle;\n",
              "    }\n",
              "\n",
              "    .dataframe tbody tr th {\n",
              "        vertical-align: top;\n",
              "    }\n",
              "\n",
              "    .dataframe thead th {\n",
              "        text-align: right;\n",
              "    }\n",
              "</style>\n",
              "<table border=\"1\" class=\"dataframe\">\n",
              "  <thead>\n",
              "    <tr style=\"text-align: right;\">\n",
              "      <th></th>\n",
              "      <th>Open</th>\n",
              "      <th>High</th>\n",
              "      <th>Low</th>\n",
              "      <th>Close</th>\n",
              "      <th>Adj Close</th>\n",
              "      <th>Volume</th>\n",
              "    </tr>\n",
              "    <tr>\n",
              "      <th>Date</th>\n",
              "      <th></th>\n",
              "      <th></th>\n",
              "      <th></th>\n",
              "      <th></th>\n",
              "      <th></th>\n",
              "      <th></th>\n",
              "    </tr>\n",
              "  </thead>\n",
              "  <tbody>\n",
              "    <tr>\n",
              "      <th>2022-10-25</th>\n",
              "      <td>380.0</td>\n",
              "      <td>382.5</td>\n",
              "      <td>371.0</td>\n",
              "      <td>371.0</td>\n",
              "      <td>368.876709</td>\n",
              "      <td>76416687</td>\n",
              "    </tr>\n",
              "  </tbody>\n",
              "</table>\n",
              "</div>\n",
              "      <button class=\"colab-df-convert\" onclick=\"convertToInteractive('df-2ae03aeb-36b3-4e57-abf4-aa63acc065fc')\"\n",
              "              title=\"Convert this dataframe to an interactive table.\"\n",
              "              style=\"display:none;\">\n",
              "        \n",
              "  <svg xmlns=\"http://www.w3.org/2000/svg\" height=\"24px\"viewBox=\"0 0 24 24\"\n",
              "       width=\"24px\">\n",
              "    <path d=\"M0 0h24v24H0V0z\" fill=\"none\"/>\n",
              "    <path d=\"M18.56 5.44l.94 2.06.94-2.06 2.06-.94-2.06-.94-.94-2.06-.94 2.06-2.06.94zm-11 1L8.5 8.5l.94-2.06 2.06-.94-2.06-.94L8.5 2.5l-.94 2.06-2.06.94zm10 10l.94 2.06.94-2.06 2.06-.94-2.06-.94-.94-2.06-.94 2.06-2.06.94z\"/><path d=\"M17.41 7.96l-1.37-1.37c-.4-.4-.92-.59-1.43-.59-.52 0-1.04.2-1.43.59L10.3 9.45l-7.72 7.72c-.78.78-.78 2.05 0 2.83L4 21.41c.39.39.9.59 1.41.59.51 0 1.02-.2 1.41-.59l7.78-7.78 2.81-2.81c.8-.78.8-2.07 0-2.86zM5.41 20L4 18.59l7.72-7.72 1.47 1.35L5.41 20z\"/>\n",
              "  </svg>\n",
              "      </button>\n",
              "      \n",
              "  <style>\n",
              "    .colab-df-container {\n",
              "      display:flex;\n",
              "      flex-wrap:wrap;\n",
              "      gap: 12px;\n",
              "    }\n",
              "\n",
              "    .colab-df-convert {\n",
              "      background-color: #E8F0FE;\n",
              "      border: none;\n",
              "      border-radius: 50%;\n",
              "      cursor: pointer;\n",
              "      display: none;\n",
              "      fill: #1967D2;\n",
              "      height: 32px;\n",
              "      padding: 0 0 0 0;\n",
              "      width: 32px;\n",
              "    }\n",
              "\n",
              "    .colab-df-convert:hover {\n",
              "      background-color: #E2EBFA;\n",
              "      box-shadow: 0px 1px 2px rgba(60, 64, 67, 0.3), 0px 1px 3px 1px rgba(60, 64, 67, 0.15);\n",
              "      fill: #174EA6;\n",
              "    }\n",
              "\n",
              "    [theme=dark] .colab-df-convert {\n",
              "      background-color: #3B4455;\n",
              "      fill: #D2E3FC;\n",
              "    }\n",
              "\n",
              "    [theme=dark] .colab-df-convert:hover {\n",
              "      background-color: #434B5C;\n",
              "      box-shadow: 0px 1px 3px 1px rgba(0, 0, 0, 0.15);\n",
              "      filter: drop-shadow(0px 1px 2px rgba(0, 0, 0, 0.3));\n",
              "      fill: #FFFFFF;\n",
              "    }\n",
              "  </style>\n",
              "\n",
              "      <script>\n",
              "        const buttonEl =\n",
              "          document.querySelector('#df-2ae03aeb-36b3-4e57-abf4-aa63acc065fc button.colab-df-convert');\n",
              "        buttonEl.style.display =\n",
              "          google.colab.kernel.accessAllowed ? 'block' : 'none';\n",
              "\n",
              "        async function convertToInteractive(key) {\n",
              "          const element = document.querySelector('#df-2ae03aeb-36b3-4e57-abf4-aa63acc065fc');\n",
              "          const dataTable =\n",
              "            await google.colab.kernel.invokeFunction('convertToInteractive',\n",
              "                                                     [key], {});\n",
              "          if (!dataTable) return;\n",
              "\n",
              "          const docLinkHtml = 'Like what you see? Visit the ' +\n",
              "            '<a target=\"_blank\" href=https://colab.research.google.com/notebooks/data_table.ipynb>data table notebook</a>'\n",
              "            + ' to learn more about interactive tables.';\n",
              "          element.innerHTML = '';\n",
              "          dataTable['output_type'] = 'display_data';\n",
              "          await google.colab.output.renderOutput(dataTable, element);\n",
              "          const docLink = document.createElement('div');\n",
              "          docLink.innerHTML = docLinkHtml;\n",
              "          element.appendChild(docLink);\n",
              "        }\n",
              "      </script>\n",
              "    </div>\n",
              "  </div>\n",
              "  "
            ]
          },
          "metadata": {},
          "execution_count": 88
        }
      ]
    },
    {
      "cell_type": "code",
      "source": [
        "TSMC['2022-09':'2022-12']['Close'].plot()"
      ],
      "metadata": {
        "colab": {
          "base_uri": "https://localhost:8080/",
          "height": 302
        },
        "id": "5zAMkA7i7DWy",
        "outputId": "fd1a4f71-e487-4846-ddb1-a18eaa3faa1e"
      },
      "execution_count": 89,
      "outputs": [
        {
          "output_type": "execute_result",
          "data": {
            "text/plain": [
              "<AxesSubplot:xlabel='Date'>"
            ]
          },
          "metadata": {},
          "execution_count": 89
        },
        {
          "output_type": "display_data",
          "data": {
            "text/plain": [
              "<Figure size 432x288 with 1 Axes>"
            ],
            "image/png": "[encoded data removed]"
          },
          "metadata": {
            "needs_background": "light"
          }
        }
      ]
    },
    {
      "cell_type": "markdown",
      "source": [
        "### 問題解答\n",
        "\n",
        "columns 能否用 slicing？"
      ],
      "metadata": {
        "id": "fBz-27n8MdFD"
      }
    },
    {
      "cell_type": "code",
      "source": [
        "df"
      ],
      "metadata": {
        "colab": {
          "base_uri": "https://localhost:8080/",
          "height": 363
        },
        "id": "ktlEt4YzMdq1",
        "outputId": "d882958f-d7b9-4289-f546-e439a6888b61"
      },
      "execution_count": 90,
      "outputs": [
        {
          "output_type": "execute_result",
          "data": {
            "text/plain": [
              "      國文  英文   數學  理化\n",
              "ANNK  54  58   53  70\n",
              "CEEK  64  63   32  40\n",
              "BHHG  32  30   45  98\n",
              "EDSA  51  82  100  42\n",
              "DRES  55  39   59  48\n",
              "GDES  74  48   70  75\n",
              "REWS  59  60   91  35\n",
              "LKDE  66  47   54  63\n",
              "LWES  99  53   36  82\n",
              "HRED  51  83   57  75"
            ],
            "text/html": [
              "\n",
              "  <div id=\"df-ffa61e49-d2ef-4a4a-bf3c-ba52079f34d5\">\n",
              "    <div class=\"colab-df-container\">\n",
              "      <div>\n",
              "<style scoped>\n",
              "    .dataframe tbody tr th:only-of-type {\n",
              "        vertical-align: middle;\n",
              "    }\n",
              "\n",
              "    .dataframe tbody tr th {\n",
              "        vertical-align: top;\n",
              "    }\n",
              "\n",
              "    .dataframe thead th {\n",
              "        text-align: right;\n",
              "    }\n",
              "</style>\n",
              "<table border=\"1\" class=\"dataframe\">\n",
              "  <thead>\n",
              "    <tr style=\"text-align: right;\">\n",
              "      <th></th>\n",
              "      <th>國文</th>\n",
              "      <th>英文</th>\n",
              "      <th>數學</th>\n",
              "      <th>理化</th>\n",
              "    </tr>\n",
              "  </thead>\n",
              "  <tbody>\n",
              "    <tr>\n",
              "      <th>ANNK</th>\n",
              "      <td>54</td>\n",
              "      <td>58</td>\n",
              "      <td>53</td>\n",
              "      <td>70</td>\n",
              "    </tr>\n",
              "    <tr>\n",
              "      <th>CEEK</th>\n",
              "      <td>64</td>\n",
              "      <td>63</td>\n",
              "      <td>32</td>\n",
              "      <td>40</td>\n",
              "    </tr>\n",
              "    <tr>\n",
              "      <th>BHHG</th>\n",
              "      <td>32</td>\n",
              "      <td>30</td>\n",
              "      <td>45</td>\n",
              "      <td>98</td>\n",
              "    </tr>\n",
              "    <tr>\n",
              "      <th>EDSA</th>\n",
              "      <td>51</td>\n",
              "      <td>82</td>\n",
              "      <td>100</td>\n",
              "      <td>42</td>\n",
              "    </tr>\n",
              "    <tr>\n",
              "      <th>DRES</th>\n",
              "      <td>55</td>\n",
              "      <td>39</td>\n",
              "      <td>59</td>\n",
              "      <td>48</td>\n",
              "    </tr>\n",
              "    <tr>\n",
              "      <th>GDES</th>\n",
              "      <td>74</td>\n",
              "      <td>48</td>\n",
              "      <td>70</td>\n",
              "      <td>75</td>\n",
              "    </tr>\n",
              "    <tr>\n",
              "      <th>REWS</th>\n",
              "      <td>59</td>\n",
              "      <td>60</td>\n",
              "      <td>91</td>\n",
              "      <td>35</td>\n",
              "    </tr>\n",
              "    <tr>\n",
              "      <th>LKDE</th>\n",
              "      <td>66</td>\n",
              "      <td>47</td>\n",
              "      <td>54</td>\n",
              "      <td>63</td>\n",
              "    </tr>\n",
              "    <tr>\n",
              "      <th>LWES</th>\n",
              "      <td>99</td>\n",
              "      <td>53</td>\n",
              "      <td>36</td>\n",
              "      <td>82</td>\n",
              "    </tr>\n",
              "    <tr>\n",
              "      <th>HRED</th>\n",
              "      <td>51</td>\n",
              "      <td>83</td>\n",
              "      <td>57</td>\n",
              "      <td>75</td>\n",
              "    </tr>\n",
              "  </tbody>\n",
              "</table>\n",
              "</div>\n",
              "      <button class=\"colab-df-convert\" onclick=\"convertToInteractive('df-ffa61e49-d2ef-4a4a-bf3c-ba52079f34d5')\"\n",
              "              title=\"Convert this dataframe to an interactive table.\"\n",
              "              style=\"display:none;\">\n",
              "        \n",
              "  <svg xmlns=\"http://www.w3.org/2000/svg\" height=\"24px\"viewBox=\"0 0 24 24\"\n",
              "       width=\"24px\">\n",
              "    <path d=\"M0 0h24v24H0V0z\" fill=\"none\"/>\n",
              "    <path d=\"M18.56 5.44l.94 2.06.94-2.06 2.06-.94-2.06-.94-.94-2.06-.94 2.06-2.06.94zm-11 1L8.5 8.5l.94-2.06 2.06-.94-2.06-.94L8.5 2.5l-.94 2.06-2.06.94zm10 10l.94 2.06.94-2.06 2.06-.94-2.06-.94-.94-2.06-.94 2.06-2.06.94z\"/><path d=\"M17.41 7.96l-1.37-1.37c-.4-.4-.92-.59-1.43-.59-.52 0-1.04.2-1.43.59L10.3 9.45l-7.72 7.72c-.78.78-.78 2.05 0 2.83L4 21.41c.39.39.9.59 1.41.59.51 0 1.02-.2 1.41-.59l7.78-7.78 2.81-2.81c.8-.78.8-2.07 0-2.86zM5.41 20L4 18.59l7.72-7.72 1.47 1.35L5.41 20z\"/>\n",
              "  </svg>\n",
              "      </button>\n",
              "      \n",
              "  <style>\n",
              "    .colab-df-container {\n",
              "      display:flex;\n",
              "      flex-wrap:wrap;\n",
              "      gap: 12px;\n",
              "    }\n",
              "\n",
              "    .colab-df-convert {\n",
              "      background-color: #E8F0FE;\n",
              "      border: none;\n",
              "      border-radius: 50%;\n",
              "      cursor: pointer;\n",
              "      display: none;\n",
              "      fill: #1967D2;\n",
              "      height: 32px;\n",
              "      padding: 0 0 0 0;\n",
              "      width: 32px;\n",
              "    }\n",
              "\n",
              "    .colab-df-convert:hover {\n",
              "      background-color: #E2EBFA;\n",
              "      box-shadow: 0px 1px 2px rgba(60, 64, 67, 0.3), 0px 1px 3px 1px rgba(60, 64, 67, 0.15);\n",
              "      fill: #174EA6;\n",
              "    }\n",
              "\n",
              "    [theme=dark] .colab-df-convert {\n",
              "      background-color: #3B4455;\n",
              "      fill: #D2E3FC;\n",
              "    }\n",
              "\n",
              "    [theme=dark] .colab-df-convert:hover {\n",
              "      background-color: #434B5C;\n",
              "      box-shadow: 0px 1px 3px 1px rgba(0, 0, 0, 0.15);\n",
              "      filter: drop-shadow(0px 1px 2px rgba(0, 0, 0, 0.3));\n",
              "      fill: #FFFFFF;\n",
              "    }\n",
              "  </style>\n",
              "\n",
              "      <script>\n",
              "        const buttonEl =\n",
              "          document.querySelector('#df-ffa61e49-d2ef-4a4a-bf3c-ba52079f34d5 button.colab-df-convert');\n",
              "        buttonEl.style.display =\n",
              "          google.colab.kernel.accessAllowed ? 'block' : 'none';\n",
              "\n",
              "        async function convertToInteractive(key) {\n",
              "          const element = document.querySelector('#df-ffa61e49-d2ef-4a4a-bf3c-ba52079f34d5');\n",
              "          const dataTable =\n",
              "            await google.colab.kernel.invokeFunction('convertToInteractive',\n",
              "                                                     [key], {});\n",
              "          if (!dataTable) return;\n",
              "\n",
              "          const docLinkHtml = 'Like what you see? Visit the ' +\n",
              "            '<a target=\"_blank\" href=https://colab.research.google.com/notebooks/data_table.ipynb>data table notebook</a>'\n",
              "            + ' to learn more about interactive tables.';\n",
              "          element.innerHTML = '';\n",
              "          dataTable['output_type'] = 'display_data';\n",
              "          await google.colab.output.renderOutput(dataTable, element);\n",
              "          const docLink = document.createElement('div');\n",
              "          docLink.innerHTML = docLinkHtml;\n",
              "          element.appendChild(docLink);\n",
              "        }\n",
              "      </script>\n",
              "    </div>\n",
              "  </div>\n",
              "  "
            ]
          },
          "metadata": {},
          "execution_count": 90
        }
      ]
    },
    {
      "cell_type": "code",
      "source": [
        "df['國文':'數學']"
      ],
      "metadata": {
        "colab": {
          "base_uri": "https://localhost:8080/",
          "height": 504
        },
        "id": "-0wlV_R-7SCw",
        "outputId": "c279b131-694b-4ec0-d0f5-8be77b86c22b"
      },
      "execution_count": 91,
      "outputs": [
        {
          "output_type": "error",
          "ename": "KeyError",
          "evalue": "ignored",
          "traceback": [
            "\u001b[0;31m---------------------------------------------------------------------------\u001b[0m",
            "\u001b[0;31mKeyError\u001b[0m                                  Traceback (most recent call last)",
            "\u001b[0;32m/usr/local/lib/python3.8/dist-packages/pandas/core/indexes/base.py\u001b[0m in \u001b[0;36mget_loc\u001b[0;34m(self, key, method, tolerance)\u001b[0m\n\u001b[1;32m   3360\u001b[0m             \u001b[0;32mtry\u001b[0m\u001b[0;34m:\u001b[0m\u001b[0;34m\u001b[0m\u001b[0;34m\u001b[0m\u001b[0m\n\u001b[0;32m-> 3361\u001b[0;31m                 \u001b[0;32mreturn\u001b[0m \u001b[0mself\u001b[0m\u001b[0;34m.\u001b[0m\u001b[0m_engine\u001b[0m\u001b[0;34m.\u001b[0m\u001b[0mget_loc\u001b[0m\u001b[0;34m(\u001b[0m\u001b[0mcasted_key\u001b[0m\u001b[0;34m)\u001b[0m\u001b[0;34m\u001b[0m\u001b[0;34m\u001b[0m\u001b[0m\n\u001b[0m\u001b[1;32m   3362\u001b[0m             \u001b[0;32mexcept\u001b[0m \u001b[0mKeyError\u001b[0m \u001b[0;32mas\u001b[0m \u001b[0merr\u001b[0m\u001b[0;34m:\u001b[0m\u001b[0;34m\u001b[0m\u001b[0;34m\u001b[0m\u001b[0m\n",
            "\u001b[0;32m/usr/local/lib/python3.8/dist-packages/pandas/_libs/index.pyx\u001b[0m in \u001b[0;36mpandas._libs.index.IndexEngine.get_loc\u001b[0;34m()\u001b[0m\n",
            "\u001b[0;32m/usr/local/lib/python3.8/dist-packages/pandas/_libs/index.pyx\u001b[0m in \u001b[0;36mpandas._libs.index.IndexEngine.get_loc\u001b[0;34m()\u001b[0m\n",
            "\u001b[0;32mpandas/_libs/hashtable_class_helper.pxi\u001b[0m in \u001b[0;36mpandas._libs.hashtable.PyObjectHashTable.get_item\u001b[0;34m()\u001b[0m\n",
            "\u001b[0;32mpandas/_libs/hashtable_class_helper.pxi\u001b[0m in \u001b[0;36mpandas._libs.hashtable.PyObjectHashTable.get_item\u001b[0;34m()\u001b[0m\n",
            "\u001b[0;31mKeyError\u001b[0m: '國文'",
            "\nThe above exception was the direct cause of the following exception:\n",
            "\u001b[0;31mKeyError\u001b[0m                                  Traceback (most recent call last)",
            "\u001b[0;32m<ipython-input-91-c506087357ed>\u001b[0m in \u001b[0;36m<module>\u001b[0;34m\u001b[0m\n\u001b[0;32m----> 1\u001b[0;31m \u001b[0mdf\u001b[0m\u001b[0;34m[\u001b[0m\u001b[0;34m'國文'\u001b[0m\u001b[0;34m:\u001b[0m\u001b[0;34m'數學'\u001b[0m\u001b[0;34m]\u001b[0m\u001b[0;34m\u001b[0m\u001b[0;34m\u001b[0m\u001b[0m\n\u001b[0m",
            "\u001b[0;32m/usr/local/lib/python3.8/dist-packages/pandas/core/frame.py\u001b[0m in \u001b[0;36m__getitem__\u001b[0;34m(self, key)\u001b[0m\n\u001b[1;32m   3428\u001b[0m \u001b[0;34m\u001b[0m\u001b[0m\n\u001b[1;32m   3429\u001b[0m         \u001b[0;31m# Do we have a slicer (on rows)?\u001b[0m\u001b[0;34m\u001b[0m\u001b[0;34m\u001b[0m\u001b[0;34m\u001b[0m\u001b[0m\n\u001b[0;32m-> 3430\u001b[0;31m         \u001b[0mindexer\u001b[0m \u001b[0;34m=\u001b[0m \u001b[0mconvert_to_index_sliceable\u001b[0m\u001b[0;34m(\u001b[0m\u001b[0mself\u001b[0m\u001b[0;34m,\u001b[0m \u001b[0mkey\u001b[0m\u001b[0;34m)\u001b[0m\u001b[0;34m\u001b[0m\u001b[0;34m\u001b[0m\u001b[0m\n\u001b[0m\u001b[1;32m   3431\u001b[0m         \u001b[0;32mif\u001b[0m \u001b[0mindexer\u001b[0m \u001b[0;32mis\u001b[0m \u001b[0;32mnot\u001b[0m \u001b[0;32mNone\u001b[0m\u001b[0;34m:\u001b[0m\u001b[0;34m\u001b[0m\u001b[0;34m\u001b[0m\u001b[0m\n\u001b[1;32m   3432\u001b[0m             \u001b[0;32mif\u001b[0m \u001b[0misinstance\u001b[0m\u001b[0;34m(\u001b[0m\u001b[0mindexer\u001b[0m\u001b[0;34m,\u001b[0m \u001b[0mnp\u001b[0m\u001b[0;34m.\u001b[0m\u001b[0mndarray\u001b[0m\u001b[0;34m)\u001b[0m\u001b[0;34m:\u001b[0m\u001b[0;34m\u001b[0m\u001b[0;34m\u001b[0m\u001b[0m\n",
            "\u001b[0;32m/usr/local/lib/python3.8/dist-packages/pandas/core/indexing.py\u001b[0m in \u001b[0;36mconvert_to_index_sliceable\u001b[0;34m(obj, key)\u001b[0m\n\u001b[1;32m   2327\u001b[0m     \u001b[0midx\u001b[0m \u001b[0;34m=\u001b[0m \u001b[0mobj\u001b[0m\u001b[0;34m.\u001b[0m\u001b[0mindex\u001b[0m\u001b[0;34m\u001b[0m\u001b[0;34m\u001b[0m\u001b[0m\n\u001b[1;32m   2328\u001b[0m     \u001b[0;32mif\u001b[0m \u001b[0misinstance\u001b[0m\u001b[0;34m(\u001b[0m\u001b[0mkey\u001b[0m\u001b[0;34m,\u001b[0m \u001b[0mslice\u001b[0m\u001b[0;34m)\u001b[0m\u001b[0;34m:\u001b[0m\u001b[0;34m\u001b[0m\u001b[0;34m\u001b[0m\u001b[0m\n\u001b[0;32m-> 2329\u001b[0;31m         \u001b[0;32mreturn\u001b[0m \u001b[0midx\u001b[0m\u001b[0;34m.\u001b[0m\u001b[0m_convert_slice_indexer\u001b[0m\u001b[0;34m(\u001b[0m\u001b[0mkey\u001b[0m\u001b[0;34m,\u001b[0m \u001b[0mkind\u001b[0m\u001b[0;34m=\u001b[0m\u001b[0;34m\"getitem\"\u001b[0m\u001b[0;34m)\u001b[0m\u001b[0;34m\u001b[0m\u001b[0;34m\u001b[0m\u001b[0m\n\u001b[0m\u001b[1;32m   2330\u001b[0m \u001b[0;34m\u001b[0m\u001b[0m\n\u001b[1;32m   2331\u001b[0m     \u001b[0;32melif\u001b[0m \u001b[0misinstance\u001b[0m\u001b[0;34m(\u001b[0m\u001b[0mkey\u001b[0m\u001b[0;34m,\u001b[0m \u001b[0mstr\u001b[0m\u001b[0;34m)\u001b[0m\u001b[0;34m:\u001b[0m\u001b[0;34m\u001b[0m\u001b[0;34m\u001b[0m\u001b[0m\n",
            "\u001b[0;32m/usr/local/lib/python3.8/dist-packages/pandas/core/indexes/base.py\u001b[0m in \u001b[0;36m_convert_slice_indexer\u001b[0;34m(self, key, kind)\u001b[0m\n\u001b[1;32m   3751\u001b[0m             \u001b[0mindexer\u001b[0m \u001b[0;34m=\u001b[0m \u001b[0mkey\u001b[0m\u001b[0;34m\u001b[0m\u001b[0;34m\u001b[0m\u001b[0m\n\u001b[1;32m   3752\u001b[0m         \u001b[0;32melse\u001b[0m\u001b[0;34m:\u001b[0m\u001b[0;34m\u001b[0m\u001b[0;34m\u001b[0m\u001b[0m\n\u001b[0;32m-> 3753\u001b[0;31m             \u001b[0mindexer\u001b[0m \u001b[0;34m=\u001b[0m \u001b[0mself\u001b[0m\u001b[0;34m.\u001b[0m\u001b[0mslice_indexer\u001b[0m\u001b[0;34m(\u001b[0m\u001b[0mstart\u001b[0m\u001b[0;34m,\u001b[0m \u001b[0mstop\u001b[0m\u001b[0;34m,\u001b[0m \u001b[0mstep\u001b[0m\u001b[0;34m)\u001b[0m\u001b[0;34m\u001b[0m\u001b[0;34m\u001b[0m\u001b[0m\n\u001b[0m\u001b[1;32m   3754\u001b[0m \u001b[0;34m\u001b[0m\u001b[0m\n\u001b[1;32m   3755\u001b[0m         \u001b[0;32mreturn\u001b[0m \u001b[0mindexer\u001b[0m\u001b[0;34m\u001b[0m\u001b[0;34m\u001b[0m\u001b[0m\n",
            "\u001b[0;32m/usr/local/lib/python3.8/dist-packages/pandas/core/indexes/base.py\u001b[0m in \u001b[0;36mslice_indexer\u001b[0;34m(self, start, end, step, kind)\u001b[0m\n\u001b[1;32m   5683\u001b[0m         \u001b[0mslice\u001b[0m\u001b[0;34m(\u001b[0m\u001b[0;36m1\u001b[0m\u001b[0;34m,\u001b[0m \u001b[0;36m3\u001b[0m\u001b[0;34m,\u001b[0m \u001b[0;32mNone\u001b[0m\u001b[0;34m)\u001b[0m\u001b[0;34m\u001b[0m\u001b[0;34m\u001b[0m\u001b[0m\n\u001b[1;32m   5684\u001b[0m         \"\"\"\n\u001b[0;32m-> 5685\u001b[0;31m         \u001b[0mstart_slice\u001b[0m\u001b[0;34m,\u001b[0m \u001b[0mend_slice\u001b[0m \u001b[0;34m=\u001b[0m \u001b[0mself\u001b[0m\u001b[0;34m.\u001b[0m\u001b[0mslice_locs\u001b[0m\u001b[0;34m(\u001b[0m\u001b[0mstart\u001b[0m\u001b[0;34m,\u001b[0m \u001b[0mend\u001b[0m\u001b[0;34m,\u001b[0m \u001b[0mstep\u001b[0m\u001b[0;34m=\u001b[0m\u001b[0mstep\u001b[0m\u001b[0;34m)\u001b[0m\u001b[0;34m\u001b[0m\u001b[0;34m\u001b[0m\u001b[0m\n\u001b[0m\u001b[1;32m   5686\u001b[0m \u001b[0;34m\u001b[0m\u001b[0m\n\u001b[1;32m   5687\u001b[0m         \u001b[0;31m# return a slice\u001b[0m\u001b[0;34m\u001b[0m\u001b[0;34m\u001b[0m\u001b[0;34m\u001b[0m\u001b[0m\n",
            "\u001b[0;32m/usr/local/lib/python3.8/dist-packages/pandas/core/indexes/base.py\u001b[0m in \u001b[0;36mslice_locs\u001b[0;34m(self, start, end, step, kind)\u001b[0m\n\u001b[1;32m   5885\u001b[0m         \u001b[0mstart_slice\u001b[0m \u001b[0;34m=\u001b[0m \u001b[0;32mNone\u001b[0m\u001b[0;34m\u001b[0m\u001b[0;34m\u001b[0m\u001b[0m\n\u001b[1;32m   5886\u001b[0m         \u001b[0;32mif\u001b[0m \u001b[0mstart\u001b[0m \u001b[0;32mis\u001b[0m \u001b[0;32mnot\u001b[0m \u001b[0;32mNone\u001b[0m\u001b[0;34m:\u001b[0m\u001b[0;34m\u001b[0m\u001b[0;34m\u001b[0m\u001b[0m\n\u001b[0;32m-> 5887\u001b[0;31m             \u001b[0mstart_slice\u001b[0m \u001b[0;34m=\u001b[0m \u001b[0mself\u001b[0m\u001b[0;34m.\u001b[0m\u001b[0mget_slice_bound\u001b[0m\u001b[0;34m(\u001b[0m\u001b[0mstart\u001b[0m\u001b[0;34m,\u001b[0m \u001b[0;34m\"left\"\u001b[0m\u001b[0;34m)\u001b[0m\u001b[0;34m\u001b[0m\u001b[0;34m\u001b[0m\u001b[0m\n\u001b[0m\u001b[1;32m   5888\u001b[0m         \u001b[0;32mif\u001b[0m \u001b[0mstart_slice\u001b[0m \u001b[0;32mis\u001b[0m \u001b[0;32mNone\u001b[0m\u001b[0;34m:\u001b[0m\u001b[0;34m\u001b[0m\u001b[0;34m\u001b[0m\u001b[0m\n\u001b[1;32m   5889\u001b[0m             \u001b[0mstart_slice\u001b[0m \u001b[0;34m=\u001b[0m \u001b[0;36m0\u001b[0m\u001b[0;34m\u001b[0m\u001b[0;34m\u001b[0m\u001b[0m\n",
            "\u001b[0;32m/usr/local/lib/python3.8/dist-packages/pandas/core/indexes/base.py\u001b[0m in \u001b[0;36mget_slice_bound\u001b[0;34m(self, label, side, kind)\u001b[0m\n\u001b[1;32m   5805\u001b[0m             \u001b[0;32mexcept\u001b[0m \u001b[0mValueError\u001b[0m\u001b[0;34m:\u001b[0m\u001b[0;34m\u001b[0m\u001b[0;34m\u001b[0m\u001b[0m\n\u001b[1;32m   5806\u001b[0m                 \u001b[0;31m# raise the original KeyError\u001b[0m\u001b[0;34m\u001b[0m\u001b[0;34m\u001b[0m\u001b[0;34m\u001b[0m\u001b[0m\n\u001b[0;32m-> 5807\u001b[0;31m                 \u001b[0;32mraise\u001b[0m \u001b[0merr\u001b[0m\u001b[0;34m\u001b[0m\u001b[0;34m\u001b[0m\u001b[0m\n\u001b[0m\u001b[1;32m   5808\u001b[0m \u001b[0;34m\u001b[0m\u001b[0m\n\u001b[1;32m   5809\u001b[0m         \u001b[0;32mif\u001b[0m \u001b[0misinstance\u001b[0m\u001b[0;34m(\u001b[0m\u001b[0mslc\u001b[0m\u001b[0;34m,\u001b[0m \u001b[0mnp\u001b[0m\u001b[0;34m.\u001b[0m\u001b[0mndarray\u001b[0m\u001b[0;34m)\u001b[0m\u001b[0;34m:\u001b[0m\u001b[0;34m\u001b[0m\u001b[0;34m\u001b[0m\u001b[0m\n",
            "\u001b[0;32m/usr/local/lib/python3.8/dist-packages/pandas/core/indexes/base.py\u001b[0m in \u001b[0;36mget_slice_bound\u001b[0;34m(self, label, side, kind)\u001b[0m\n\u001b[1;32m   5799\u001b[0m         \u001b[0;31m# we need to look up the label\u001b[0m\u001b[0;34m\u001b[0m\u001b[0;34m\u001b[0m\u001b[0;34m\u001b[0m\u001b[0m\n\u001b[1;32m   5800\u001b[0m         \u001b[0;32mtry\u001b[0m\u001b[0;34m:\u001b[0m\u001b[0;34m\u001b[0m\u001b[0;34m\u001b[0m\u001b[0m\n\u001b[0;32m-> 5801\u001b[0;31m             \u001b[0mslc\u001b[0m \u001b[0;34m=\u001b[0m \u001b[0mself\u001b[0m\u001b[0;34m.\u001b[0m\u001b[0mget_loc\u001b[0m\u001b[0;34m(\u001b[0m\u001b[0mlabel\u001b[0m\u001b[0;34m)\u001b[0m\u001b[0;34m\u001b[0m\u001b[0;34m\u001b[0m\u001b[0m\n\u001b[0m\u001b[1;32m   5802\u001b[0m         \u001b[0;32mexcept\u001b[0m \u001b[0mKeyError\u001b[0m \u001b[0;32mas\u001b[0m \u001b[0merr\u001b[0m\u001b[0;34m:\u001b[0m\u001b[0;34m\u001b[0m\u001b[0;34m\u001b[0m\u001b[0m\n\u001b[1;32m   5803\u001b[0m             \u001b[0;32mtry\u001b[0m\u001b[0;34m:\u001b[0m\u001b[0;34m\u001b[0m\u001b[0;34m\u001b[0m\u001b[0m\n",
            "\u001b[0;32m/usr/local/lib/python3.8/dist-packages/pandas/core/indexes/base.py\u001b[0m in \u001b[0;36mget_loc\u001b[0;34m(self, key, method, tolerance)\u001b[0m\n\u001b[1;32m   3361\u001b[0m                 \u001b[0;32mreturn\u001b[0m \u001b[0mself\u001b[0m\u001b[0;34m.\u001b[0m\u001b[0m_engine\u001b[0m\u001b[0;34m.\u001b[0m\u001b[0mget_loc\u001b[0m\u001b[0;34m(\u001b[0m\u001b[0mcasted_key\u001b[0m\u001b[0;34m)\u001b[0m\u001b[0;34m\u001b[0m\u001b[0;34m\u001b[0m\u001b[0m\n\u001b[1;32m   3362\u001b[0m             \u001b[0;32mexcept\u001b[0m \u001b[0mKeyError\u001b[0m \u001b[0;32mas\u001b[0m \u001b[0merr\u001b[0m\u001b[0;34m:\u001b[0m\u001b[0;34m\u001b[0m\u001b[0;34m\u001b[0m\u001b[0m\n\u001b[0;32m-> 3363\u001b[0;31m                 \u001b[0;32mraise\u001b[0m \u001b[0mKeyError\u001b[0m\u001b[0;34m(\u001b[0m\u001b[0mkey\u001b[0m\u001b[0;34m)\u001b[0m \u001b[0;32mfrom\u001b[0m \u001b[0merr\u001b[0m\u001b[0;34m\u001b[0m\u001b[0;34m\u001b[0m\u001b[0m\n\u001b[0m\u001b[1;32m   3364\u001b[0m \u001b[0;34m\u001b[0m\u001b[0m\n\u001b[1;32m   3365\u001b[0m         \u001b[0;32mif\u001b[0m \u001b[0mis_scalar\u001b[0m\u001b[0;34m(\u001b[0m\u001b[0mkey\u001b[0m\u001b[0;34m)\u001b[0m \u001b[0;32mand\u001b[0m \u001b[0misna\u001b[0m\u001b[0;34m(\u001b[0m\u001b[0mkey\u001b[0m\u001b[0;34m)\u001b[0m \u001b[0;32mand\u001b[0m \u001b[0;32mnot\u001b[0m \u001b[0mself\u001b[0m\u001b[0;34m.\u001b[0m\u001b[0mhasnans\u001b[0m\u001b[0;34m:\u001b[0m\u001b[0;34m\u001b[0m\u001b[0;34m\u001b[0m\u001b[0m\n",
            "\u001b[0;31mKeyError\u001b[0m: '國文'"
          ]
        }
      ]
    },
    {
      "cell_type": "code",
      "source": [
        "df.columns['國文':'英文']"
      ],
      "metadata": {
        "colab": {
          "base_uri": "https://localhost:8080/",
          "height": 289
        },
        "id": "oHmpbV3ZMhK2",
        "outputId": "71d71fbc-ef88-4db7-a944-59041e4ea10a"
      },
      "execution_count": 92,
      "outputs": [
        {
          "output_type": "error",
          "ename": "TypeError",
          "evalue": "ignored",
          "traceback": [
            "\u001b[0;31m---------------------------------------------------------------------------\u001b[0m",
            "\u001b[0;31mTypeError\u001b[0m                                 Traceback (most recent call last)",
            "\u001b[0;32m<ipython-input-92-d3a538e769af>\u001b[0m in \u001b[0;36m<module>\u001b[0;34m\u001b[0m\n\u001b[0;32m----> 1\u001b[0;31m \u001b[0mdf\u001b[0m\u001b[0;34m.\u001b[0m\u001b[0mcolumns\u001b[0m\u001b[0;34m[\u001b[0m\u001b[0;34m'國文'\u001b[0m\u001b[0;34m:\u001b[0m\u001b[0;34m'英文'\u001b[0m\u001b[0;34m]\u001b[0m\u001b[0;34m\u001b[0m\u001b[0;34m\u001b[0m\u001b[0m\n\u001b[0m",
            "\u001b[0;32m/usr/local/lib/python3.8/dist-packages/pandas/core/indexes/base.py\u001b[0m in \u001b[0;36m__getitem__\u001b[0;34m(self, key)\u001b[0m\n\u001b[1;32m   4607\u001b[0m             \u001b[0;31m# This case is separated from the conditional above to avoid\u001b[0m\u001b[0;34m\u001b[0m\u001b[0;34m\u001b[0m\u001b[0;34m\u001b[0m\u001b[0m\n\u001b[1;32m   4608\u001b[0m             \u001b[0;31m# pessimization of basic indexing.\u001b[0m\u001b[0;34m\u001b[0m\u001b[0;34m\u001b[0m\u001b[0;34m\u001b[0m\u001b[0m\n\u001b[0;32m-> 4609\u001b[0;31m             \u001b[0mresult\u001b[0m \u001b[0;34m=\u001b[0m \u001b[0mgetitem\u001b[0m\u001b[0;34m(\u001b[0m\u001b[0mkey\u001b[0m\u001b[0;34m)\u001b[0m\u001b[0;34m\u001b[0m\u001b[0;34m\u001b[0m\u001b[0m\n\u001b[0m\u001b[1;32m   4610\u001b[0m             \u001b[0;31m# Going through simple_new for performance.\u001b[0m\u001b[0;34m\u001b[0m\u001b[0;34m\u001b[0m\u001b[0;34m\u001b[0m\u001b[0m\n\u001b[1;32m   4611\u001b[0m             \u001b[0;32mreturn\u001b[0m \u001b[0mtype\u001b[0m\u001b[0;34m(\u001b[0m\u001b[0mself\u001b[0m\u001b[0;34m)\u001b[0m\u001b[0;34m.\u001b[0m\u001b[0m_simple_new\u001b[0m\u001b[0;34m(\u001b[0m\u001b[0mresult\u001b[0m\u001b[0;34m,\u001b[0m \u001b[0mname\u001b[0m\u001b[0;34m=\u001b[0m\u001b[0mself\u001b[0m\u001b[0;34m.\u001b[0m\u001b[0m_name\u001b[0m\u001b[0;34m)\u001b[0m\u001b[0;34m\u001b[0m\u001b[0;34m\u001b[0m\u001b[0m\n",
            "\u001b[0;31mTypeError\u001b[0m: slice indices must be integers or None or have an __index__ method"
          ]
        }
      ]
    },
    {
      "cell_type": "code",
      "source": [
        "df.columns[0:3]"
      ],
      "metadata": {
        "colab": {
          "base_uri": "https://localhost:8080/"
        },
        "id": "yHtL-YjxMisO",
        "outputId": "d78718f8-9223-4601-bb9c-1857924ff9d9"
      },
      "execution_count": 93,
      "outputs": [
        {
          "output_type": "execute_result",
          "data": {
            "text/plain": [
              "Index(['國文', '英文', '數學'], dtype='object')"
            ]
          },
          "metadata": {},
          "execution_count": 93
        }
      ]
    },
    {
      "cell_type": "code",
      "source": [
        "df[df.columns[0:3]]"
      ],
      "metadata": {
        "colab": {
          "base_uri": "https://localhost:8080/",
          "height": 363
        },
        "id": "_WLA2dTlMkRz",
        "outputId": "a912610c-c55f-4830-97a9-fec5457313b6"
      },
      "execution_count": 94,
      "outputs": [
        {
          "output_type": "execute_result",
          "data": {
            "text/plain": [
              "      國文  英文   數學\n",
              "ANNK  54  58   53\n",
              "CEEK  64  63   32\n",
              "BHHG  32  30   45\n",
              "EDSA  51  82  100\n",
              "DRES  55  39   59\n",
              "GDES  74  48   70\n",
              "REWS  59  60   91\n",
              "LKDE  66  47   54\n",
              "LWES  99  53   36\n",
              "HRED  51  83   57"
            ],
            "text/html": [
              "\n",
              "  <div id=\"df-1503e561-d415-4622-85c1-3c1cc886a1ef\">\n",
              "    <div class=\"colab-df-container\">\n",
              "      <div>\n",
              "<style scoped>\n",
              "    .dataframe tbody tr th:only-of-type {\n",
              "        vertical-align: middle;\n",
              "    }\n",
              "\n",
              "    .dataframe tbody tr th {\n",
              "        vertical-align: top;\n",
              "    }\n",
              "\n",
              "    .dataframe thead th {\n",
              "        text-align: right;\n",
              "    }\n",
              "</style>\n",
              "<table border=\"1\" class=\"dataframe\">\n",
              "  <thead>\n",
              "    <tr style=\"text-align: right;\">\n",
              "      <th></th>\n",
              "      <th>國文</th>\n",
              "      <th>英文</th>\n",
              "      <th>數學</th>\n",
              "    </tr>\n",
              "  </thead>\n",
              "  <tbody>\n",
              "    <tr>\n",
              "      <th>ANNK</th>\n",
              "      <td>54</td>\n",
              "      <td>58</td>\n",
              "      <td>53</td>\n",
              "    </tr>\n",
              "    <tr>\n",
              "      <th>CEEK</th>\n",
              "      <td>64</td>\n",
              "      <td>63</td>\n",
              "      <td>32</td>\n",
              "    </tr>\n",
              "    <tr>\n",
              "      <th>BHHG</th>\n",
              "      <td>32</td>\n",
              "      <td>30</td>\n",
              "      <td>45</td>\n",
              "    </tr>\n",
              "    <tr>\n",
              "      <th>EDSA</th>\n",
              "      <td>51</td>\n",
              "      <td>82</td>\n",
              "      <td>100</td>\n",
              "    </tr>\n",
              "    <tr>\n",
              "      <th>DRES</th>\n",
              "      <td>55</td>\n",
              "      <td>39</td>\n",
              "      <td>59</td>\n",
              "    </tr>\n",
              "    <tr>\n",
              "      <th>GDES</th>\n",
              "      <td>74</td>\n",
              "      <td>48</td>\n",
              "      <td>70</td>\n",
              "    </tr>\n",
              "    <tr>\n",
              "      <th>REWS</th>\n",
              "      <td>59</td>\n",
              "      <td>60</td>\n",
              "      <td>91</td>\n",
              "    </tr>\n",
              "    <tr>\n",
              "      <th>LKDE</th>\n",
              "      <td>66</td>\n",
              "      <td>47</td>\n",
              "      <td>54</td>\n",
              "    </tr>\n",
              "    <tr>\n",
              "      <th>LWES</th>\n",
              "      <td>99</td>\n",
              "      <td>53</td>\n",
              "      <td>36</td>\n",
              "    </tr>\n",
              "    <tr>\n",
              "      <th>HRED</th>\n",
              "      <td>51</td>\n",
              "      <td>83</td>\n",
              "      <td>57</td>\n",
              "    </tr>\n",
              "  </tbody>\n",
              "</table>\n",
              "</div>\n",
              "      <button class=\"colab-df-convert\" onclick=\"convertToInteractive('df-1503e561-d415-4622-85c1-3c1cc886a1ef')\"\n",
              "              title=\"Convert this dataframe to an interactive table.\"\n",
              "              style=\"display:none;\">\n",
              "        \n",
              "  <svg xmlns=\"http://www.w3.org/2000/svg\" height=\"24px\"viewBox=\"0 0 24 24\"\n",
              "       width=\"24px\">\n",
              "    <path d=\"M0 0h24v24H0V0z\" fill=\"none\"/>\n",
              "    <path d=\"M18.56 5.44l.94 2.06.94-2.06 2.06-.94-2.06-.94-.94-2.06-.94 2.06-2.06.94zm-11 1L8.5 8.5l.94-2.06 2.06-.94-2.06-.94L8.5 2.5l-.94 2.06-2.06.94zm10 10l.94 2.06.94-2.06 2.06-.94-2.06-.94-.94-2.06-.94 2.06-2.06.94z\"/><path d=\"M17.41 7.96l-1.37-1.37c-.4-.4-.92-.59-1.43-.59-.52 0-1.04.2-1.43.59L10.3 9.45l-7.72 7.72c-.78.78-.78 2.05 0 2.83L4 21.41c.39.39.9.59 1.41.59.51 0 1.02-.2 1.41-.59l7.78-7.78 2.81-2.81c.8-.78.8-2.07 0-2.86zM5.41 20L4 18.59l7.72-7.72 1.47 1.35L5.41 20z\"/>\n",
              "  </svg>\n",
              "      </button>\n",
              "      \n",
              "  <style>\n",
              "    .colab-df-container {\n",
              "      display:flex;\n",
              "      flex-wrap:wrap;\n",
              "      gap: 12px;\n",
              "    }\n",
              "\n",
              "    .colab-df-convert {\n",
              "      background-color: #E8F0FE;\n",
              "      border: none;\n",
              "      border-radius: 50%;\n",
              "      cursor: pointer;\n",
              "      display: none;\n",
              "      fill: #1967D2;\n",
              "      height: 32px;\n",
              "      padding: 0 0 0 0;\n",
              "      width: 32px;\n",
              "    }\n",
              "\n",
              "    .colab-df-convert:hover {\n",
              "      background-color: #E2EBFA;\n",
              "      box-shadow: 0px 1px 2px rgba(60, 64, 67, 0.3), 0px 1px 3px 1px rgba(60, 64, 67, 0.15);\n",
              "      fill: #174EA6;\n",
              "    }\n",
              "\n",
              "    [theme=dark] .colab-df-convert {\n",
              "      background-color: #3B4455;\n",
              "      fill: #D2E3FC;\n",
              "    }\n",
              "\n",
              "    [theme=dark] .colab-df-convert:hover {\n",
              "      background-color: #434B5C;\n",
              "      box-shadow: 0px 1px 3px 1px rgba(0, 0, 0, 0.15);\n",
              "      filter: drop-shadow(0px 1px 2px rgba(0, 0, 0, 0.3));\n",
              "      fill: #FFFFFF;\n",
              "    }\n",
              "  </style>\n",
              "\n",
              "      <script>\n",
              "        const buttonEl =\n",
              "          document.querySelector('#df-1503e561-d415-4622-85c1-3c1cc886a1ef button.colab-df-convert');\n",
              "        buttonEl.style.display =\n",
              "          google.colab.kernel.accessAllowed ? 'block' : 'none';\n",
              "\n",
              "        async function convertToInteractive(key) {\n",
              "          const element = document.querySelector('#df-1503e561-d415-4622-85c1-3c1cc886a1ef');\n",
              "          const dataTable =\n",
              "            await google.colab.kernel.invokeFunction('convertToInteractive',\n",
              "                                                     [key], {});\n",
              "          if (!dataTable) return;\n",
              "\n",
              "          const docLinkHtml = 'Like what you see? Visit the ' +\n",
              "            '<a target=\"_blank\" href=https://colab.research.google.com/notebooks/data_table.ipynb>data table notebook</a>'\n",
              "            + ' to learn more about interactive tables.';\n",
              "          element.innerHTML = '';\n",
              "          dataTable['output_type'] = 'display_data';\n",
              "          await google.colab.output.renderOutput(dataTable, element);\n",
              "          const docLink = document.createElement('div');\n",
              "          docLink.innerHTML = docLinkHtml;\n",
              "          element.appendChild(docLink);\n",
              "        }\n",
              "      </script>\n",
              "    </div>\n",
              "  </div>\n",
              "  "
            ]
          },
          "metadata": {},
          "execution_count": 94
        }
      ]
    },
    {
      "cell_type": "markdown",
      "source": [
        "## 排序成績資料"
      ],
      "metadata": {
        "id": "QqndhL-HMIfQ"
      }
    },
    {
      "cell_type": "markdown",
      "source": [
        "## 將國文成績從高分到低分做排序"
      ],
      "metadata": {
        "id": "ZDaAggqMNH-p"
      }
    },
    {
      "cell_type": "code",
      "source": [
        "df"
      ],
      "metadata": {
        "colab": {
          "base_uri": "https://localhost:8080/",
          "height": 363
        },
        "id": "kHUg_-6RMljv",
        "outputId": "afdb1cd8-adfd-47d5-b1d6-28ade83bb1a5"
      },
      "execution_count": 95,
      "outputs": [
        {
          "output_type": "execute_result",
          "data": {
            "text/plain": [
              "      國文  英文   數學  理化\n",
              "ANNK  54  58   53  70\n",
              "CEEK  64  63   32  40\n",
              "BHHG  32  30   45  98\n",
              "EDSA  51  82  100  42\n",
              "DRES  55  39   59  48\n",
              "GDES  74  48   70  75\n",
              "REWS  59  60   91  35\n",
              "LKDE  66  47   54  63\n",
              "LWES  99  53   36  82\n",
              "HRED  51  83   57  75"
            ],
            "text/html": [
              "\n",
              "  <div id=\"df-b8e6af4c-0791-4fe5-b554-a4fc316ff216\">\n",
              "    <div class=\"colab-df-container\">\n",
              "      <div>\n",
              "<style scoped>\n",
              "    .dataframe tbody tr th:only-of-type {\n",
              "        vertical-align: middle;\n",
              "    }\n",
              "\n",
              "    .dataframe tbody tr th {\n",
              "        vertical-align: top;\n",
              "    }\n",
              "\n",
              "    .dataframe thead th {\n",
              "        text-align: right;\n",
              "    }\n",
              "</style>\n",
              "<table border=\"1\" class=\"dataframe\">\n",
              "  <thead>\n",
              "    <tr style=\"text-align: right;\">\n",
              "      <th></th>\n",
              "      <th>國文</th>\n",
              "      <th>英文</th>\n",
              "      <th>數學</th>\n",
              "      <th>理化</th>\n",
              "    </tr>\n",
              "  </thead>\n",
              "  <tbody>\n",
              "    <tr>\n",
              "      <th>ANNK</th>\n",
              "      <td>54</td>\n",
              "      <td>58</td>\n",
              "      <td>53</td>\n",
              "      <td>70</td>\n",
              "    </tr>\n",
              "    <tr>\n",
              "      <th>CEEK</th>\n",
              "      <td>64</td>\n",
              "      <td>63</td>\n",
              "      <td>32</td>\n",
              "      <td>40</td>\n",
              "    </tr>\n",
              "    <tr>\n",
              "      <th>BHHG</th>\n",
              "      <td>32</td>\n",
              "      <td>30</td>\n",
              "      <td>45</td>\n",
              "      <td>98</td>\n",
              "    </tr>\n",
              "    <tr>\n",
              "      <th>EDSA</th>\n",
              "      <td>51</td>\n",
              "      <td>82</td>\n",
              "      <td>100</td>\n",
              "      <td>42</td>\n",
              "    </tr>\n",
              "    <tr>\n",
              "      <th>DRES</th>\n",
              "      <td>55</td>\n",
              "      <td>39</td>\n",
              "      <td>59</td>\n",
              "      <td>48</td>\n",
              "    </tr>\n",
              "    <tr>\n",
              "      <th>GDES</th>\n",
              "      <td>74</td>\n",
              "      <td>48</td>\n",
              "      <td>70</td>\n",
              "      <td>75</td>\n",
              "    </tr>\n",
              "    <tr>\n",
              "      <th>REWS</th>\n",
              "      <td>59</td>\n",
              "      <td>60</td>\n",
              "      <td>91</td>\n",
              "      <td>35</td>\n",
              "    </tr>\n",
              "    <tr>\n",
              "      <th>LKDE</th>\n",
              "      <td>66</td>\n",
              "      <td>47</td>\n",
              "      <td>54</td>\n",
              "      <td>63</td>\n",
              "    </tr>\n",
              "    <tr>\n",
              "      <th>LWES</th>\n",
              "      <td>99</td>\n",
              "      <td>53</td>\n",
              "      <td>36</td>\n",
              "      <td>82</td>\n",
              "    </tr>\n",
              "    <tr>\n",
              "      <th>HRED</th>\n",
              "      <td>51</td>\n",
              "      <td>83</td>\n",
              "      <td>57</td>\n",
              "      <td>75</td>\n",
              "    </tr>\n",
              "  </tbody>\n",
              "</table>\n",
              "</div>\n",
              "      <button class=\"colab-df-convert\" onclick=\"convertToInteractive('df-b8e6af4c-0791-4fe5-b554-a4fc316ff216')\"\n",
              "              title=\"Convert this dataframe to an interactive table.\"\n",
              "              style=\"display:none;\">\n",
              "        \n",
              "  <svg xmlns=\"http://www.w3.org/2000/svg\" height=\"24px\"viewBox=\"0 0 24 24\"\n",
              "       width=\"24px\">\n",
              "    <path d=\"M0 0h24v24H0V0z\" fill=\"none\"/>\n",
              "    <path d=\"M18.56 5.44l.94 2.06.94-2.06 2.06-.94-2.06-.94-.94-2.06-.94 2.06-2.06.94zm-11 1L8.5 8.5l.94-2.06 2.06-.94-2.06-.94L8.5 2.5l-.94 2.06-2.06.94zm10 10l.94 2.06.94-2.06 2.06-.94-2.06-.94-.94-2.06-.94 2.06-2.06.94z\"/><path d=\"M17.41 7.96l-1.37-1.37c-.4-.4-.92-.59-1.43-.59-.52 0-1.04.2-1.43.59L10.3 9.45l-7.72 7.72c-.78.78-.78 2.05 0 2.83L4 21.41c.39.39.9.59 1.41.59.51 0 1.02-.2 1.41-.59l7.78-7.78 2.81-2.81c.8-.78.8-2.07 0-2.86zM5.41 20L4 18.59l7.72-7.72 1.47 1.35L5.41 20z\"/>\n",
              "  </svg>\n",
              "      </button>\n",
              "      \n",
              "  <style>\n",
              "    .colab-df-container {\n",
              "      display:flex;\n",
              "      flex-wrap:wrap;\n",
              "      gap: 12px;\n",
              "    }\n",
              "\n",
              "    .colab-df-convert {\n",
              "      background-color: #E8F0FE;\n",
              "      border: none;\n",
              "      border-radius: 50%;\n",
              "      cursor: pointer;\n",
              "      display: none;\n",
              "      fill: #1967D2;\n",
              "      height: 32px;\n",
              "      padding: 0 0 0 0;\n",
              "      width: 32px;\n",
              "    }\n",
              "\n",
              "    .colab-df-convert:hover {\n",
              "      background-color: #E2EBFA;\n",
              "      box-shadow: 0px 1px 2px rgba(60, 64, 67, 0.3), 0px 1px 3px 1px rgba(60, 64, 67, 0.15);\n",
              "      fill: #174EA6;\n",
              "    }\n",
              "\n",
              "    [theme=dark] .colab-df-convert {\n",
              "      background-color: #3B4455;\n",
              "      fill: #D2E3FC;\n",
              "    }\n",
              "\n",
              "    [theme=dark] .colab-df-convert:hover {\n",
              "      background-color: #434B5C;\n",
              "      box-shadow: 0px 1px 3px 1px rgba(0, 0, 0, 0.15);\n",
              "      filter: drop-shadow(0px 1px 2px rgba(0, 0, 0, 0.3));\n",
              "      fill: #FFFFFF;\n",
              "    }\n",
              "  </style>\n",
              "\n",
              "      <script>\n",
              "        const buttonEl =\n",
              "          document.querySelector('#df-b8e6af4c-0791-4fe5-b554-a4fc316ff216 button.colab-df-convert');\n",
              "        buttonEl.style.display =\n",
              "          google.colab.kernel.accessAllowed ? 'block' : 'none';\n",
              "\n",
              "        async function convertToInteractive(key) {\n",
              "          const element = document.querySelector('#df-b8e6af4c-0791-4fe5-b554-a4fc316ff216');\n",
              "          const dataTable =\n",
              "            await google.colab.kernel.invokeFunction('convertToInteractive',\n",
              "                                                     [key], {});\n",
              "          if (!dataTable) return;\n",
              "\n",
              "          const docLinkHtml = 'Like what you see? Visit the ' +\n",
              "            '<a target=\"_blank\" href=https://colab.research.google.com/notebooks/data_table.ipynb>data table notebook</a>'\n",
              "            + ' to learn more about interactive tables.';\n",
              "          element.innerHTML = '';\n",
              "          dataTable['output_type'] = 'display_data';\n",
              "          await google.colab.output.renderOutput(dataTable, element);\n",
              "          const docLink = document.createElement('div');\n",
              "          docLink.innerHTML = docLinkHtml;\n",
              "          element.appendChild(docLink);\n",
              "        }\n",
              "      </script>\n",
              "    </div>\n",
              "  </div>\n",
              "  "
            ]
          },
          "metadata": {},
          "execution_count": 95
        }
      ]
    },
    {
      "cell_type": "code",
      "source": [
        "df.sort_values('國文',ascending=False)"
      ],
      "metadata": {
        "colab": {
          "base_uri": "https://localhost:8080/",
          "height": 363
        },
        "id": "RHyzNVe3MzRG",
        "outputId": "4b9df064-23f4-4b12-f94d-ca66276dd1ba"
      },
      "execution_count": 96,
      "outputs": [
        {
          "output_type": "execute_result",
          "data": {
            "text/plain": [
              "      國文  英文   數學  理化\n",
              "LWES  99  53   36  82\n",
              "GDES  74  48   70  75\n",
              "LKDE  66  47   54  63\n",
              "CEEK  64  63   32  40\n",
              "REWS  59  60   91  35\n",
              "DRES  55  39   59  48\n",
              "ANNK  54  58   53  70\n",
              "EDSA  51  82  100  42\n",
              "HRED  51  83   57  75\n",
              "BHHG  32  30   45  98"
            ],
            "text/html": [
              "\n",
              "  <div id=\"df-0e4a2e47-b7fb-44e2-90a6-2ee60a90681c\">\n",
              "    <div class=\"colab-df-container\">\n",
              "      <div>\n",
              "<style scoped>\n",
              "    .dataframe tbody tr th:only-of-type {\n",
              "        vertical-align: middle;\n",
              "    }\n",
              "\n",
              "    .dataframe tbody tr th {\n",
              "        vertical-align: top;\n",
              "    }\n",
              "\n",
              "    .dataframe thead th {\n",
              "        text-align: right;\n",
              "    }\n",
              "</style>\n",
              "<table border=\"1\" class=\"dataframe\">\n",
              "  <thead>\n",
              "    <tr style=\"text-align: right;\">\n",
              "      <th></th>\n",
              "      <th>國文</th>\n",
              "      <th>英文</th>\n",
              "      <th>數學</th>\n",
              "      <th>理化</th>\n",
              "    </tr>\n",
              "  </thead>\n",
              "  <tbody>\n",
              "    <tr>\n",
              "      <th>LWES</th>\n",
              "      <td>99</td>\n",
              "      <td>53</td>\n",
              "      <td>36</td>\n",
              "      <td>82</td>\n",
              "    </tr>\n",
              "    <tr>\n",
              "      <th>GDES</th>\n",
              "      <td>74</td>\n",
              "      <td>48</td>\n",
              "      <td>70</td>\n",
              "      <td>75</td>\n",
              "    </tr>\n",
              "    <tr>\n",
              "      <th>LKDE</th>\n",
              "      <td>66</td>\n",
              "      <td>47</td>\n",
              "      <td>54</td>\n",
              "      <td>63</td>\n",
              "    </tr>\n",
              "    <tr>\n",
              "      <th>CEEK</th>\n",
              "      <td>64</td>\n",
              "      <td>63</td>\n",
              "      <td>32</td>\n",
              "      <td>40</td>\n",
              "    </tr>\n",
              "    <tr>\n",
              "      <th>REWS</th>\n",
              "      <td>59</td>\n",
              "      <td>60</td>\n",
              "      <td>91</td>\n",
              "      <td>35</td>\n",
              "    </tr>\n",
              "    <tr>\n",
              "      <th>DRES</th>\n",
              "      <td>55</td>\n",
              "      <td>39</td>\n",
              "      <td>59</td>\n",
              "      <td>48</td>\n",
              "    </tr>\n",
              "    <tr>\n",
              "      <th>ANNK</th>\n",
              "      <td>54</td>\n",
              "      <td>58</td>\n",
              "      <td>53</td>\n",
              "      <td>70</td>\n",
              "    </tr>\n",
              "    <tr>\n",
              "      <th>EDSA</th>\n",
              "      <td>51</td>\n",
              "      <td>82</td>\n",
              "      <td>100</td>\n",
              "      <td>42</td>\n",
              "    </tr>\n",
              "    <tr>\n",
              "      <th>HRED</th>\n",
              "      <td>51</td>\n",
              "      <td>83</td>\n",
              "      <td>57</td>\n",
              "      <td>75</td>\n",
              "    </tr>\n",
              "    <tr>\n",
              "      <th>BHHG</th>\n",
              "      <td>32</td>\n",
              "      <td>30</td>\n",
              "      <td>45</td>\n",
              "      <td>98</td>\n",
              "    </tr>\n",
              "  </tbody>\n",
              "</table>\n",
              "</div>\n",
              "      <button class=\"colab-df-convert\" onclick=\"convertToInteractive('df-0e4a2e47-b7fb-44e2-90a6-2ee60a90681c')\"\n",
              "              title=\"Convert this dataframe to an interactive table.\"\n",
              "              style=\"display:none;\">\n",
              "        \n",
              "  <svg xmlns=\"http://www.w3.org/2000/svg\" height=\"24px\"viewBox=\"0 0 24 24\"\n",
              "       width=\"24px\">\n",
              "    <path d=\"M0 0h24v24H0V0z\" fill=\"none\"/>\n",
              "    <path d=\"M18.56 5.44l.94 2.06.94-2.06 2.06-.94-2.06-.94-.94-2.06-.94 2.06-2.06.94zm-11 1L8.5 8.5l.94-2.06 2.06-.94-2.06-.94L8.5 2.5l-.94 2.06-2.06.94zm10 10l.94 2.06.94-2.06 2.06-.94-2.06-.94-.94-2.06-.94 2.06-2.06.94z\"/><path d=\"M17.41 7.96l-1.37-1.37c-.4-.4-.92-.59-1.43-.59-.52 0-1.04.2-1.43.59L10.3 9.45l-7.72 7.72c-.78.78-.78 2.05 0 2.83L4 21.41c.39.39.9.59 1.41.59.51 0 1.02-.2 1.41-.59l7.78-7.78 2.81-2.81c.8-.78.8-2.07 0-2.86zM5.41 20L4 18.59l7.72-7.72 1.47 1.35L5.41 20z\"/>\n",
              "  </svg>\n",
              "      </button>\n",
              "      \n",
              "  <style>\n",
              "    .colab-df-container {\n",
              "      display:flex;\n",
              "      flex-wrap:wrap;\n",
              "      gap: 12px;\n",
              "    }\n",
              "\n",
              "    .colab-df-convert {\n",
              "      background-color: #E8F0FE;\n",
              "      border: none;\n",
              "      border-radius: 50%;\n",
              "      cursor: pointer;\n",
              "      display: none;\n",
              "      fill: #1967D2;\n",
              "      height: 32px;\n",
              "      padding: 0 0 0 0;\n",
              "      width: 32px;\n",
              "    }\n",
              "\n",
              "    .colab-df-convert:hover {\n",
              "      background-color: #E2EBFA;\n",
              "      box-shadow: 0px 1px 2px rgba(60, 64, 67, 0.3), 0px 1px 3px 1px rgba(60, 64, 67, 0.15);\n",
              "      fill: #174EA6;\n",
              "    }\n",
              "\n",
              "    [theme=dark] .colab-df-convert {\n",
              "      background-color: #3B4455;\n",
              "      fill: #D2E3FC;\n",
              "    }\n",
              "\n",
              "    [theme=dark] .colab-df-convert:hover {\n",
              "      background-color: #434B5C;\n",
              "      box-shadow: 0px 1px 3px 1px rgba(0, 0, 0, 0.15);\n",
              "      filter: drop-shadow(0px 1px 2px rgba(0, 0, 0, 0.3));\n",
              "      fill: #FFFFFF;\n",
              "    }\n",
              "  </style>\n",
              "\n",
              "      <script>\n",
              "        const buttonEl =\n",
              "          document.querySelector('#df-0e4a2e47-b7fb-44e2-90a6-2ee60a90681c button.colab-df-convert');\n",
              "        buttonEl.style.display =\n",
              "          google.colab.kernel.accessAllowed ? 'block' : 'none';\n",
              "\n",
              "        async function convertToInteractive(key) {\n",
              "          const element = document.querySelector('#df-0e4a2e47-b7fb-44e2-90a6-2ee60a90681c');\n",
              "          const dataTable =\n",
              "            await google.colab.kernel.invokeFunction('convertToInteractive',\n",
              "                                                     [key], {});\n",
              "          if (!dataTable) return;\n",
              "\n",
              "          const docLinkHtml = 'Like what you see? Visit the ' +\n",
              "            '<a target=\"_blank\" href=https://colab.research.google.com/notebooks/data_table.ipynb>data table notebook</a>'\n",
              "            + ' to learn more about interactive tables.';\n",
              "          element.innerHTML = '';\n",
              "          dataTable['output_type'] = 'display_data';\n",
              "          await google.colab.output.renderOutput(dataTable, element);\n",
              "          const docLink = document.createElement('div');\n",
              "          docLink.innerHTML = docLinkHtml;\n",
              "          element.appendChild(docLink);\n",
              "        }\n",
              "      </script>\n",
              "    </div>\n",
              "  </div>\n",
              "  "
            ]
          },
          "metadata": {},
          "execution_count": 96
        }
      ]
    },
    {
      "cell_type": "markdown",
      "source": [
        "### 將國文及英文從高分到低分做排序"
      ],
      "metadata": {
        "id": "B2SSVN3UM8Di"
      }
    },
    {
      "cell_type": "code",
      "source": [
        "df.sort_values(['國文','英文'],ascending=False)"
      ],
      "metadata": {
        "colab": {
          "base_uri": "https://localhost:8080/",
          "height": 363
        },
        "id": "uCggJvJPM03n",
        "outputId": "e3b9cba9-9f21-4a75-d1ce-e331e9252070"
      },
      "execution_count": 97,
      "outputs": [
        {
          "output_type": "execute_result",
          "data": {
            "text/plain": [
              "      國文  英文   數學  理化\n",
              "LWES  99  53   36  82\n",
              "GDES  74  48   70  75\n",
              "LKDE  66  47   54  63\n",
              "CEEK  64  63   32  40\n",
              "REWS  59  60   91  35\n",
              "DRES  55  39   59  48\n",
              "ANNK  54  58   53  70\n",
              "HRED  51  83   57  75\n",
              "EDSA  51  82  100  42\n",
              "BHHG  32  30   45  98"
            ],
            "text/html": [
              "\n",
              "  <div id=\"df-34a2066b-cd26-434f-8a02-3951914b61ae\">\n",
              "    <div class=\"colab-df-container\">\n",
              "      <div>\n",
              "<style scoped>\n",
              "    .dataframe tbody tr th:only-of-type {\n",
              "        vertical-align: middle;\n",
              "    }\n",
              "\n",
              "    .dataframe tbody tr th {\n",
              "        vertical-align: top;\n",
              "    }\n",
              "\n",
              "    .dataframe thead th {\n",
              "        text-align: right;\n",
              "    }\n",
              "</style>\n",
              "<table border=\"1\" class=\"dataframe\">\n",
              "  <thead>\n",
              "    <tr style=\"text-align: right;\">\n",
              "      <th></th>\n",
              "      <th>國文</th>\n",
              "      <th>英文</th>\n",
              "      <th>數學</th>\n",
              "      <th>理化</th>\n",
              "    </tr>\n",
              "  </thead>\n",
              "  <tbody>\n",
              "    <tr>\n",
              "      <th>LWES</th>\n",
              "      <td>99</td>\n",
              "      <td>53</td>\n",
              "      <td>36</td>\n",
              "      <td>82</td>\n",
              "    </tr>\n",
              "    <tr>\n",
              "      <th>GDES</th>\n",
              "      <td>74</td>\n",
              "      <td>48</td>\n",
              "      <td>70</td>\n",
              "      <td>75</td>\n",
              "    </tr>\n",
              "    <tr>\n",
              "      <th>LKDE</th>\n",
              "      <td>66</td>\n",
              "      <td>47</td>\n",
              "      <td>54</td>\n",
              "      <td>63</td>\n",
              "    </tr>\n",
              "    <tr>\n",
              "      <th>CEEK</th>\n",
              "      <td>64</td>\n",
              "      <td>63</td>\n",
              "      <td>32</td>\n",
              "      <td>40</td>\n",
              "    </tr>\n",
              "    <tr>\n",
              "      <th>REWS</th>\n",
              "      <td>59</td>\n",
              "      <td>60</td>\n",
              "      <td>91</td>\n",
              "      <td>35</td>\n",
              "    </tr>\n",
              "    <tr>\n",
              "      <th>DRES</th>\n",
              "      <td>55</td>\n",
              "      <td>39</td>\n",
              "      <td>59</td>\n",
              "      <td>48</td>\n",
              "    </tr>\n",
              "    <tr>\n",
              "      <th>ANNK</th>\n",
              "      <td>54</td>\n",
              "      <td>58</td>\n",
              "      <td>53</td>\n",
              "      <td>70</td>\n",
              "    </tr>\n",
              "    <tr>\n",
              "      <th>HRED</th>\n",
              "      <td>51</td>\n",
              "      <td>83</td>\n",
              "      <td>57</td>\n",
              "      <td>75</td>\n",
              "    </tr>\n",
              "    <tr>\n",
              "      <th>EDSA</th>\n",
              "      <td>51</td>\n",
              "      <td>82</td>\n",
              "      <td>100</td>\n",
              "      <td>42</td>\n",
              "    </tr>\n",
              "    <tr>\n",
              "      <th>BHHG</th>\n",
              "      <td>32</td>\n",
              "      <td>30</td>\n",
              "      <td>45</td>\n",
              "      <td>98</td>\n",
              "    </tr>\n",
              "  </tbody>\n",
              "</table>\n",
              "</div>\n",
              "      <button class=\"colab-df-convert\" onclick=\"convertToInteractive('df-34a2066b-cd26-434f-8a02-3951914b61ae')\"\n",
              "              title=\"Convert this dataframe to an interactive table.\"\n",
              "              style=\"display:none;\">\n",
              "        \n",
              "  <svg xmlns=\"http://www.w3.org/2000/svg\" height=\"24px\"viewBox=\"0 0 24 24\"\n",
              "       width=\"24px\">\n",
              "    <path d=\"M0 0h24v24H0V0z\" fill=\"none\"/>\n",
              "    <path d=\"M18.56 5.44l.94 2.06.94-2.06 2.06-.94-2.06-.94-.94-2.06-.94 2.06-2.06.94zm-11 1L8.5 8.5l.94-2.06 2.06-.94-2.06-.94L8.5 2.5l-.94 2.06-2.06.94zm10 10l.94 2.06.94-2.06 2.06-.94-2.06-.94-.94-2.06-.94 2.06-2.06.94z\"/><path d=\"M17.41 7.96l-1.37-1.37c-.4-.4-.92-.59-1.43-.59-.52 0-1.04.2-1.43.59L10.3 9.45l-7.72 7.72c-.78.78-.78 2.05 0 2.83L4 21.41c.39.39.9.59 1.41.59.51 0 1.02-.2 1.41-.59l7.78-7.78 2.81-2.81c.8-.78.8-2.07 0-2.86zM5.41 20L4 18.59l7.72-7.72 1.47 1.35L5.41 20z\"/>\n",
              "  </svg>\n",
              "      </button>\n",
              "      \n",
              "  <style>\n",
              "    .colab-df-container {\n",
              "      display:flex;\n",
              "      flex-wrap:wrap;\n",
              "      gap: 12px;\n",
              "    }\n",
              "\n",
              "    .colab-df-convert {\n",
              "      background-color: #E8F0FE;\n",
              "      border: none;\n",
              "      border-radius: 50%;\n",
              "      cursor: pointer;\n",
              "      display: none;\n",
              "      fill: #1967D2;\n",
              "      height: 32px;\n",
              "      padding: 0 0 0 0;\n",
              "      width: 32px;\n",
              "    }\n",
              "\n",
              "    .colab-df-convert:hover {\n",
              "      background-color: #E2EBFA;\n",
              "      box-shadow: 0px 1px 2px rgba(60, 64, 67, 0.3), 0px 1px 3px 1px rgba(60, 64, 67, 0.15);\n",
              "      fill: #174EA6;\n",
              "    }\n",
              "\n",
              "    [theme=dark] .colab-df-convert {\n",
              "      background-color: #3B4455;\n",
              "      fill: #D2E3FC;\n",
              "    }\n",
              "\n",
              "    [theme=dark] .colab-df-convert:hover {\n",
              "      background-color: #434B5C;\n",
              "      box-shadow: 0px 1px 3px 1px rgba(0, 0, 0, 0.15);\n",
              "      filter: drop-shadow(0px 1px 2px rgba(0, 0, 0, 0.3));\n",
              "      fill: #FFFFFF;\n",
              "    }\n",
              "  </style>\n",
              "\n",
              "      <script>\n",
              "        const buttonEl =\n",
              "          document.querySelector('#df-34a2066b-cd26-434f-8a02-3951914b61ae button.colab-df-convert');\n",
              "        buttonEl.style.display =\n",
              "          google.colab.kernel.accessAllowed ? 'block' : 'none';\n",
              "\n",
              "        async function convertToInteractive(key) {\n",
              "          const element = document.querySelector('#df-34a2066b-cd26-434f-8a02-3951914b61ae');\n",
              "          const dataTable =\n",
              "            await google.colab.kernel.invokeFunction('convertToInteractive',\n",
              "                                                     [key], {});\n",
              "          if (!dataTable) return;\n",
              "\n",
              "          const docLinkHtml = 'Like what you see? Visit the ' +\n",
              "            '<a target=\"_blank\" href=https://colab.research.google.com/notebooks/data_table.ipynb>data table notebook</a>'\n",
              "            + ' to learn more about interactive tables.';\n",
              "          element.innerHTML = '';\n",
              "          dataTable['output_type'] = 'display_data';\n",
              "          await google.colab.output.renderOutput(dataTable, element);\n",
              "          const docLink = document.createElement('div');\n",
              "          docLink.innerHTML = docLinkHtml;\n",
              "          element.appendChild(docLink);\n",
              "        }\n",
              "      </script>\n",
              "    </div>\n",
              "  </div>\n",
              "  "
            ]
          },
          "metadata": {},
          "execution_count": 97
        }
      ]
    },
    {
      "cell_type": "markdown",
      "source": [
        "### 將國文從低到高,數學從高到低做排序"
      ],
      "metadata": {
        "id": "DrE1O75UOTEN"
      }
    },
    {
      "cell_type": "code",
      "source": [
        "df.sort_values(['國文','數學'], ascending=[True, False])"
      ],
      "metadata": {
        "colab": {
          "base_uri": "https://localhost:8080/",
          "height": 363
        },
        "id": "F_VqNXrRNVVx",
        "outputId": "c86ba04b-93ed-4cb1-c996-e1bf63268557"
      },
      "execution_count": 98,
      "outputs": [
        {
          "output_type": "execute_result",
          "data": {
            "text/plain": [
              "      國文  英文   數學  理化\n",
              "BHHG  32  30   45  98\n",
              "EDSA  51  82  100  42\n",
              "HRED  51  83   57  75\n",
              "ANNK  54  58   53  70\n",
              "DRES  55  39   59  48\n",
              "REWS  59  60   91  35\n",
              "CEEK  64  63   32  40\n",
              "LKDE  66  47   54  63\n",
              "GDES  74  48   70  75\n",
              "LWES  99  53   36  82"
            ],
            "text/html": [
              "\n",
              "  <div id=\"df-5b9eb904-b791-4a64-9644-d8c3db4b928b\">\n",
              "    <div class=\"colab-df-container\">\n",
              "      <div>\n",
              "<style scoped>\n",
              "    .dataframe tbody tr th:only-of-type {\n",
              "        vertical-align: middle;\n",
              "    }\n",
              "\n",
              "    .dataframe tbody tr th {\n",
              "        vertical-align: top;\n",
              "    }\n",
              "\n",
              "    .dataframe thead th {\n",
              "        text-align: right;\n",
              "    }\n",
              "</style>\n",
              "<table border=\"1\" class=\"dataframe\">\n",
              "  <thead>\n",
              "    <tr style=\"text-align: right;\">\n",
              "      <th></th>\n",
              "      <th>國文</th>\n",
              "      <th>英文</th>\n",
              "      <th>數學</th>\n",
              "      <th>理化</th>\n",
              "    </tr>\n",
              "  </thead>\n",
              "  <tbody>\n",
              "    <tr>\n",
              "      <th>BHHG</th>\n",
              "      <td>32</td>\n",
              "      <td>30</td>\n",
              "      <td>45</td>\n",
              "      <td>98</td>\n",
              "    </tr>\n",
              "    <tr>\n",
              "      <th>EDSA</th>\n",
              "      <td>51</td>\n",
              "      <td>82</td>\n",
              "      <td>100</td>\n",
              "      <td>42</td>\n",
              "    </tr>\n",
              "    <tr>\n",
              "      <th>HRED</th>\n",
              "      <td>51</td>\n",
              "      <td>83</td>\n",
              "      <td>57</td>\n",
              "      <td>75</td>\n",
              "    </tr>\n",
              "    <tr>\n",
              "      <th>ANNK</th>\n",
              "      <td>54</td>\n",
              "      <td>58</td>\n",
              "      <td>53</td>\n",
              "      <td>70</td>\n",
              "    </tr>\n",
              "    <tr>\n",
              "      <th>DRES</th>\n",
              "      <td>55</td>\n",
              "      <td>39</td>\n",
              "      <td>59</td>\n",
              "      <td>48</td>\n",
              "    </tr>\n",
              "    <tr>\n",
              "      <th>REWS</th>\n",
              "      <td>59</td>\n",
              "      <td>60</td>\n",
              "      <td>91</td>\n",
              "      <td>35</td>\n",
              "    </tr>\n",
              "    <tr>\n",
              "      <th>CEEK</th>\n",
              "      <td>64</td>\n",
              "      <td>63</td>\n",
              "      <td>32</td>\n",
              "      <td>40</td>\n",
              "    </tr>\n",
              "    <tr>\n",
              "      <th>LKDE</th>\n",
              "      <td>66</td>\n",
              "      <td>47</td>\n",
              "      <td>54</td>\n",
              "      <td>63</td>\n",
              "    </tr>\n",
              "    <tr>\n",
              "      <th>GDES</th>\n",
              "      <td>74</td>\n",
              "      <td>48</td>\n",
              "      <td>70</td>\n",
              "      <td>75</td>\n",
              "    </tr>\n",
              "    <tr>\n",
              "      <th>LWES</th>\n",
              "      <td>99</td>\n",
              "      <td>53</td>\n",
              "      <td>36</td>\n",
              "      <td>82</td>\n",
              "    </tr>\n",
              "  </tbody>\n",
              "</table>\n",
              "</div>\n",
              "      <button class=\"colab-df-convert\" onclick=\"convertToInteractive('df-5b9eb904-b791-4a64-9644-d8c3db4b928b')\"\n",
              "              title=\"Convert this dataframe to an interactive table.\"\n",
              "              style=\"display:none;\">\n",
              "        \n",
              "  <svg xmlns=\"http://www.w3.org/2000/svg\" height=\"24px\"viewBox=\"0 0 24 24\"\n",
              "       width=\"24px\">\n",
              "    <path d=\"M0 0h24v24H0V0z\" fill=\"none\"/>\n",
              "    <path d=\"M18.56 5.44l.94 2.06.94-2.06 2.06-.94-2.06-.94-.94-2.06-.94 2.06-2.06.94zm-11 1L8.5 8.5l.94-2.06 2.06-.94-2.06-.94L8.5 2.5l-.94 2.06-2.06.94zm10 10l.94 2.06.94-2.06 2.06-.94-2.06-.94-.94-2.06-.94 2.06-2.06.94z\"/><path d=\"M17.41 7.96l-1.37-1.37c-.4-.4-.92-.59-1.43-.59-.52 0-1.04.2-1.43.59L10.3 9.45l-7.72 7.72c-.78.78-.78 2.05 0 2.83L4 21.41c.39.39.9.59 1.41.59.51 0 1.02-.2 1.41-.59l7.78-7.78 2.81-2.81c.8-.78.8-2.07 0-2.86zM5.41 20L4 18.59l7.72-7.72 1.47 1.35L5.41 20z\"/>\n",
              "  </svg>\n",
              "      </button>\n",
              "      \n",
              "  <style>\n",
              "    .colab-df-container {\n",
              "      display:flex;\n",
              "      flex-wrap:wrap;\n",
              "      gap: 12px;\n",
              "    }\n",
              "\n",
              "    .colab-df-convert {\n",
              "      background-color: #E8F0FE;\n",
              "      border: none;\n",
              "      border-radius: 50%;\n",
              "      cursor: pointer;\n",
              "      display: none;\n",
              "      fill: #1967D2;\n",
              "      height: 32px;\n",
              "      padding: 0 0 0 0;\n",
              "      width: 32px;\n",
              "    }\n",
              "\n",
              "    .colab-df-convert:hover {\n",
              "      background-color: #E2EBFA;\n",
              "      box-shadow: 0px 1px 2px rgba(60, 64, 67, 0.3), 0px 1px 3px 1px rgba(60, 64, 67, 0.15);\n",
              "      fill: #174EA6;\n",
              "    }\n",
              "\n",
              "    [theme=dark] .colab-df-convert {\n",
              "      background-color: #3B4455;\n",
              "      fill: #D2E3FC;\n",
              "    }\n",
              "\n",
              "    [theme=dark] .colab-df-convert:hover {\n",
              "      background-color: #434B5C;\n",
              "      box-shadow: 0px 1px 3px 1px rgba(0, 0, 0, 0.15);\n",
              "      filter: drop-shadow(0px 1px 2px rgba(0, 0, 0, 0.3));\n",
              "      fill: #FFFFFF;\n",
              "    }\n",
              "  </style>\n",
              "\n",
              "      <script>\n",
              "        const buttonEl =\n",
              "          document.querySelector('#df-5b9eb904-b791-4a64-9644-d8c3db4b928b button.colab-df-convert');\n",
              "        buttonEl.style.display =\n",
              "          google.colab.kernel.accessAllowed ? 'block' : 'none';\n",
              "\n",
              "        async function convertToInteractive(key) {\n",
              "          const element = document.querySelector('#df-5b9eb904-b791-4a64-9644-d8c3db4b928b');\n",
              "          const dataTable =\n",
              "            await google.colab.kernel.invokeFunction('convertToInteractive',\n",
              "                                                     [key], {});\n",
              "          if (!dataTable) return;\n",
              "\n",
              "          const docLinkHtml = 'Like what you see? Visit the ' +\n",
              "            '<a target=\"_blank\" href=https://colab.research.google.com/notebooks/data_table.ipynb>data table notebook</a>'\n",
              "            + ' to learn more about interactive tables.';\n",
              "          element.innerHTML = '';\n",
              "          dataTable['output_type'] = 'display_data';\n",
              "          await google.colab.output.renderOutput(dataTable, element);\n",
              "          const docLink = document.createElement('div');\n",
              "          docLink.innerHTML = docLinkHtml;\n",
              "          element.appendChild(docLink);\n",
              "        }\n",
              "      </script>\n",
              "    </div>\n",
              "  </div>\n",
              "  "
            ]
          },
          "metadata": {},
          "execution_count": 98
        }
      ]
    },
    {
      "cell_type": "markdown",
      "source": [
        "### 根據加權平均來做排序"
      ],
      "metadata": {
        "id": "fRgizM53PXbm"
      }
    },
    {
      "cell_type": "code",
      "source": [
        "df['加權平均'] = df['國文']*0.1+df['英文']*0.2+df['數學']*0.4+df['理化']*0.3"
      ],
      "metadata": {
        "id": "e1aiyNPaO3hH"
      },
      "execution_count": 100,
      "outputs": []
    },
    {
      "cell_type": "code",
      "source": [
        "df"
      ],
      "metadata": {
        "colab": {
          "base_uri": "https://localhost:8080/",
          "height": 363
        },
        "id": "Pzd2kt4cQDjH",
        "outputId": "a769b2ff-e6c7-4354-bd98-29d1707625f1"
      },
      "execution_count": 101,
      "outputs": [
        {
          "output_type": "execute_result",
          "data": {
            "text/plain": [
              "      國文  英文   數學  理化  加權平均\n",
              "ANNK  54  58   53  70  59.2\n",
              "CEEK  64  63   32  40  43.8\n",
              "BHHG  32  30   45  98  56.6\n",
              "EDSA  51  82  100  42  74.1\n",
              "DRES  55  39   59  48  51.3\n",
              "GDES  74  48   70  75  67.5\n",
              "REWS  59  60   91  35  64.8\n",
              "LKDE  66  47   54  63  56.5\n",
              "LWES  99  53   36  82  59.5\n",
              "HRED  51  83   57  75  67.0"
            ],
            "text/html": [
              "\n",
              "  <div id=\"df-0e177dd5-2ee0-470f-9b66-6be5c668d7a9\">\n",
              "    <div class=\"colab-df-container\">\n",
              "      <div>\n",
              "<style scoped>\n",
              "    .dataframe tbody tr th:only-of-type {\n",
              "        vertical-align: middle;\n",
              "    }\n",
              "\n",
              "    .dataframe tbody tr th {\n",
              "        vertical-align: top;\n",
              "    }\n",
              "\n",
              "    .dataframe thead th {\n",
              "        text-align: right;\n",
              "    }\n",
              "</style>\n",
              "<table border=\"1\" class=\"dataframe\">\n",
              "  <thead>\n",
              "    <tr style=\"text-align: right;\">\n",
              "      <th></th>\n",
              "      <th>國文</th>\n",
              "      <th>英文</th>\n",
              "      <th>數學</th>\n",
              "      <th>理化</th>\n",
              "      <th>加權平均</th>\n",
              "    </tr>\n",
              "  </thead>\n",
              "  <tbody>\n",
              "    <tr>\n",
              "      <th>ANNK</th>\n",
              "      <td>54</td>\n",
              "      <td>58</td>\n",
              "      <td>53</td>\n",
              "      <td>70</td>\n",
              "      <td>59.2</td>\n",
              "    </tr>\n",
              "    <tr>\n",
              "      <th>CEEK</th>\n",
              "      <td>64</td>\n",
              "      <td>63</td>\n",
              "      <td>32</td>\n",
              "      <td>40</td>\n",
              "      <td>43.8</td>\n",
              "    </tr>\n",
              "    <tr>\n",
              "      <th>BHHG</th>\n",
              "      <td>32</td>\n",
              "      <td>30</td>\n",
              "      <td>45</td>\n",
              "      <td>98</td>\n",
              "      <td>56.6</td>\n",
              "    </tr>\n",
              "    <tr>\n",
              "      <th>EDSA</th>\n",
              "      <td>51</td>\n",
              "      <td>82</td>\n",
              "      <td>100</td>\n",
              "      <td>42</td>\n",
              "      <td>74.1</td>\n",
              "    </tr>\n",
              "    <tr>\n",
              "      <th>DRES</th>\n",
              "      <td>55</td>\n",
              "      <td>39</td>\n",
              "      <td>59</td>\n",
              "      <td>48</td>\n",
              "      <td>51.3</td>\n",
              "    </tr>\n",
              "    <tr>\n",
              "      <th>GDES</th>\n",
              "      <td>74</td>\n",
              "      <td>48</td>\n",
              "      <td>70</td>\n",
              "      <td>75</td>\n",
              "      <td>67.5</td>\n",
              "    </tr>\n",
              "    <tr>\n",
              "      <th>REWS</th>\n",
              "      <td>59</td>\n",
              "      <td>60</td>\n",
              "      <td>91</td>\n",
              "      <td>35</td>\n",
              "      <td>64.8</td>\n",
              "    </tr>\n",
              "    <tr>\n",
              "      <th>LKDE</th>\n",
              "      <td>66</td>\n",
              "      <td>47</td>\n",
              "      <td>54</td>\n",
              "      <td>63</td>\n",
              "      <td>56.5</td>\n",
              "    </tr>\n",
              "    <tr>\n",
              "      <th>LWES</th>\n",
              "      <td>99</td>\n",
              "      <td>53</td>\n",
              "      <td>36</td>\n",
              "      <td>82</td>\n",
              "      <td>59.5</td>\n",
              "    </tr>\n",
              "    <tr>\n",
              "      <th>HRED</th>\n",
              "      <td>51</td>\n",
              "      <td>83</td>\n",
              "      <td>57</td>\n",
              "      <td>75</td>\n",
              "      <td>67.0</td>\n",
              "    </tr>\n",
              "  </tbody>\n",
              "</table>\n",
              "</div>\n",
              "      <button class=\"colab-df-convert\" onclick=\"convertToInteractive('df-0e177dd5-2ee0-470f-9b66-6be5c668d7a9')\"\n",
              "              title=\"Convert this dataframe to an interactive table.\"\n",
              "              style=\"display:none;\">\n",
              "        \n",
              "  <svg xmlns=\"http://www.w3.org/2000/svg\" height=\"24px\"viewBox=\"0 0 24 24\"\n",
              "       width=\"24px\">\n",
              "    <path d=\"M0 0h24v24H0V0z\" fill=\"none\"/>\n",
              "    <path d=\"M18.56 5.44l.94 2.06.94-2.06 2.06-.94-2.06-.94-.94-2.06-.94 2.06-2.06.94zm-11 1L8.5 8.5l.94-2.06 2.06-.94-2.06-.94L8.5 2.5l-.94 2.06-2.06.94zm10 10l.94 2.06.94-2.06 2.06-.94-2.06-.94-.94-2.06-.94 2.06-2.06.94z\"/><path d=\"M17.41 7.96l-1.37-1.37c-.4-.4-.92-.59-1.43-.59-.52 0-1.04.2-1.43.59L10.3 9.45l-7.72 7.72c-.78.78-.78 2.05 0 2.83L4 21.41c.39.39.9.59 1.41.59.51 0 1.02-.2 1.41-.59l7.78-7.78 2.81-2.81c.8-.78.8-2.07 0-2.86zM5.41 20L4 18.59l7.72-7.72 1.47 1.35L5.41 20z\"/>\n",
              "  </svg>\n",
              "      </button>\n",
              "      \n",
              "  <style>\n",
              "    .colab-df-container {\n",
              "      display:flex;\n",
              "      flex-wrap:wrap;\n",
              "      gap: 12px;\n",
              "    }\n",
              "\n",
              "    .colab-df-convert {\n",
              "      background-color: #E8F0FE;\n",
              "      border: none;\n",
              "      border-radius: 50%;\n",
              "      cursor: pointer;\n",
              "      display: none;\n",
              "      fill: #1967D2;\n",
              "      height: 32px;\n",
              "      padding: 0 0 0 0;\n",
              "      width: 32px;\n",
              "    }\n",
              "\n",
              "    .colab-df-convert:hover {\n",
              "      background-color: #E2EBFA;\n",
              "      box-shadow: 0px 1px 2px rgba(60, 64, 67, 0.3), 0px 1px 3px 1px rgba(60, 64, 67, 0.15);\n",
              "      fill: #174EA6;\n",
              "    }\n",
              "\n",
              "    [theme=dark] .colab-df-convert {\n",
              "      background-color: #3B4455;\n",
              "      fill: #D2E3FC;\n",
              "    }\n",
              "\n",
              "    [theme=dark] .colab-df-convert:hover {\n",
              "      background-color: #434B5C;\n",
              "      box-shadow: 0px 1px 3px 1px rgba(0, 0, 0, 0.15);\n",
              "      filter: drop-shadow(0px 1px 2px rgba(0, 0, 0, 0.3));\n",
              "      fill: #FFFFFF;\n",
              "    }\n",
              "  </style>\n",
              "\n",
              "      <script>\n",
              "        const buttonEl =\n",
              "          document.querySelector('#df-0e177dd5-2ee0-470f-9b66-6be5c668d7a9 button.colab-df-convert');\n",
              "        buttonEl.style.display =\n",
              "          google.colab.kernel.accessAllowed ? 'block' : 'none';\n",
              "\n",
              "        async function convertToInteractive(key) {\n",
              "          const element = document.querySelector('#df-0e177dd5-2ee0-470f-9b66-6be5c668d7a9');\n",
              "          const dataTable =\n",
              "            await google.colab.kernel.invokeFunction('convertToInteractive',\n",
              "                                                     [key], {});\n",
              "          if (!dataTable) return;\n",
              "\n",
              "          const docLinkHtml = 'Like what you see? Visit the ' +\n",
              "            '<a target=\"_blank\" href=https://colab.research.google.com/notebooks/data_table.ipynb>data table notebook</a>'\n",
              "            + ' to learn more about interactive tables.';\n",
              "          element.innerHTML = '';\n",
              "          dataTable['output_type'] = 'display_data';\n",
              "          await google.colab.output.renderOutput(dataTable, element);\n",
              "          const docLink = document.createElement('div');\n",
              "          docLink.innerHTML = docLinkHtml;\n",
              "          element.appendChild(docLink);\n",
              "        }\n",
              "      </script>\n",
              "    </div>\n",
              "  </div>\n",
              "  "
            ]
          },
          "metadata": {},
          "execution_count": 101
        }
      ]
    },
    {
      "cell_type": "code",
      "source": [
        "df.sort_values('加權平均',ascending=False)"
      ],
      "metadata": {
        "colab": {
          "base_uri": "https://localhost:8080/",
          "height": 363
        },
        "id": "UnNWUULUQEOp",
        "outputId": "ea6eb13e-7aa0-4fce-9c3d-2f408b76cd41"
      },
      "execution_count": 102,
      "outputs": [
        {
          "output_type": "execute_result",
          "data": {
            "text/plain": [
              "      國文  英文   數學  理化  加權平均\n",
              "EDSA  51  82  100  42  74.1\n",
              "GDES  74  48   70  75  67.5\n",
              "HRED  51  83   57  75  67.0\n",
              "REWS  59  60   91  35  64.8\n",
              "LWES  99  53   36  82  59.5\n",
              "ANNK  54  58   53  70  59.2\n",
              "BHHG  32  30   45  98  56.6\n",
              "LKDE  66  47   54  63  56.5\n",
              "DRES  55  39   59  48  51.3\n",
              "CEEK  64  63   32  40  43.8"
            ],
            "text/html": [
              "\n",
              "  <div id=\"df-60856d57-f618-46f9-980d-524b1a626414\">\n",
              "    <div class=\"colab-df-container\">\n",
              "      <div>\n",
              "<style scoped>\n",
              "    .dataframe tbody tr th:only-of-type {\n",
              "        vertical-align: middle;\n",
              "    }\n",
              "\n",
              "    .dataframe tbody tr th {\n",
              "        vertical-align: top;\n",
              "    }\n",
              "\n",
              "    .dataframe thead th {\n",
              "        text-align: right;\n",
              "    }\n",
              "</style>\n",
              "<table border=\"1\" class=\"dataframe\">\n",
              "  <thead>\n",
              "    <tr style=\"text-align: right;\">\n",
              "      <th></th>\n",
              "      <th>國文</th>\n",
              "      <th>英文</th>\n",
              "      <th>數學</th>\n",
              "      <th>理化</th>\n",
              "      <th>加權平均</th>\n",
              "    </tr>\n",
              "  </thead>\n",
              "  <tbody>\n",
              "    <tr>\n",
              "      <th>EDSA</th>\n",
              "      <td>51</td>\n",
              "      <td>82</td>\n",
              "      <td>100</td>\n",
              "      <td>42</td>\n",
              "      <td>74.1</td>\n",
              "    </tr>\n",
              "    <tr>\n",
              "      <th>GDES</th>\n",
              "      <td>74</td>\n",
              "      <td>48</td>\n",
              "      <td>70</td>\n",
              "      <td>75</td>\n",
              "      <td>67.5</td>\n",
              "    </tr>\n",
              "    <tr>\n",
              "      <th>HRED</th>\n",
              "      <td>51</td>\n",
              "      <td>83</td>\n",
              "      <td>57</td>\n",
              "      <td>75</td>\n",
              "      <td>67.0</td>\n",
              "    </tr>\n",
              "    <tr>\n",
              "      <th>REWS</th>\n",
              "      <td>59</td>\n",
              "      <td>60</td>\n",
              "      <td>91</td>\n",
              "      <td>35</td>\n",
              "      <td>64.8</td>\n",
              "    </tr>\n",
              "    <tr>\n",
              "      <th>LWES</th>\n",
              "      <td>99</td>\n",
              "      <td>53</td>\n",
              "      <td>36</td>\n",
              "      <td>82</td>\n",
              "      <td>59.5</td>\n",
              "    </tr>\n",
              "    <tr>\n",
              "      <th>ANNK</th>\n",
              "      <td>54</td>\n",
              "      <td>58</td>\n",
              "      <td>53</td>\n",
              "      <td>70</td>\n",
              "      <td>59.2</td>\n",
              "    </tr>\n",
              "    <tr>\n",
              "      <th>BHHG</th>\n",
              "      <td>32</td>\n",
              "      <td>30</td>\n",
              "      <td>45</td>\n",
              "      <td>98</td>\n",
              "      <td>56.6</td>\n",
              "    </tr>\n",
              "    <tr>\n",
              "      <th>LKDE</th>\n",
              "      <td>66</td>\n",
              "      <td>47</td>\n",
              "      <td>54</td>\n",
              "      <td>63</td>\n",
              "      <td>56.5</td>\n",
              "    </tr>\n",
              "    <tr>\n",
              "      <th>DRES</th>\n",
              "      <td>55</td>\n",
              "      <td>39</td>\n",
              "      <td>59</td>\n",
              "      <td>48</td>\n",
              "      <td>51.3</td>\n",
              "    </tr>\n",
              "    <tr>\n",
              "      <th>CEEK</th>\n",
              "      <td>64</td>\n",
              "      <td>63</td>\n",
              "      <td>32</td>\n",
              "      <td>40</td>\n",
              "      <td>43.8</td>\n",
              "    </tr>\n",
              "  </tbody>\n",
              "</table>\n",
              "</div>\n",
              "      <button class=\"colab-df-convert\" onclick=\"convertToInteractive('df-60856d57-f618-46f9-980d-524b1a626414')\"\n",
              "              title=\"Convert this dataframe to an interactive table.\"\n",
              "              style=\"display:none;\">\n",
              "        \n",
              "  <svg xmlns=\"http://www.w3.org/2000/svg\" height=\"24px\"viewBox=\"0 0 24 24\"\n",
              "       width=\"24px\">\n",
              "    <path d=\"M0 0h24v24H0V0z\" fill=\"none\"/>\n",
              "    <path d=\"M18.56 5.44l.94 2.06.94-2.06 2.06-.94-2.06-.94-.94-2.06-.94 2.06-2.06.94zm-11 1L8.5 8.5l.94-2.06 2.06-.94-2.06-.94L8.5 2.5l-.94 2.06-2.06.94zm10 10l.94 2.06.94-2.06 2.06-.94-2.06-.94-.94-2.06-.94 2.06-2.06.94z\"/><path d=\"M17.41 7.96l-1.37-1.37c-.4-.4-.92-.59-1.43-.59-.52 0-1.04.2-1.43.59L10.3 9.45l-7.72 7.72c-.78.78-.78 2.05 0 2.83L4 21.41c.39.39.9.59 1.41.59.51 0 1.02-.2 1.41-.59l7.78-7.78 2.81-2.81c.8-.78.8-2.07 0-2.86zM5.41 20L4 18.59l7.72-7.72 1.47 1.35L5.41 20z\"/>\n",
              "  </svg>\n",
              "      </button>\n",
              "      \n",
              "  <style>\n",
              "    .colab-df-container {\n",
              "      display:flex;\n",
              "      flex-wrap:wrap;\n",
              "      gap: 12px;\n",
              "    }\n",
              "\n",
              "    .colab-df-convert {\n",
              "      background-color: #E8F0FE;\n",
              "      border: none;\n",
              "      border-radius: 50%;\n",
              "      cursor: pointer;\n",
              "      display: none;\n",
              "      fill: #1967D2;\n",
              "      height: 32px;\n",
              "      padding: 0 0 0 0;\n",
              "      width: 32px;\n",
              "    }\n",
              "\n",
              "    .colab-df-convert:hover {\n",
              "      background-color: #E2EBFA;\n",
              "      box-shadow: 0px 1px 2px rgba(60, 64, 67, 0.3), 0px 1px 3px 1px rgba(60, 64, 67, 0.15);\n",
              "      fill: #174EA6;\n",
              "    }\n",
              "\n",
              "    [theme=dark] .colab-df-convert {\n",
              "      background-color: #3B4455;\n",
              "      fill: #D2E3FC;\n",
              "    }\n",
              "\n",
              "    [theme=dark] .colab-df-convert:hover {\n",
              "      background-color: #434B5C;\n",
              "      box-shadow: 0px 1px 3px 1px rgba(0, 0, 0, 0.15);\n",
              "      filter: drop-shadow(0px 1px 2px rgba(0, 0, 0, 0.3));\n",
              "      fill: #FFFFFF;\n",
              "    }\n",
              "  </style>\n",
              "\n",
              "      <script>\n",
              "        const buttonEl =\n",
              "          document.querySelector('#df-60856d57-f618-46f9-980d-524b1a626414 button.colab-df-convert');\n",
              "        buttonEl.style.display =\n",
              "          google.colab.kernel.accessAllowed ? 'block' : 'none';\n",
              "\n",
              "        async function convertToInteractive(key) {\n",
              "          const element = document.querySelector('#df-60856d57-f618-46f9-980d-524b1a626414');\n",
              "          const dataTable =\n",
              "            await google.colab.kernel.invokeFunction('convertToInteractive',\n",
              "                                                     [key], {});\n",
              "          if (!dataTable) return;\n",
              "\n",
              "          const docLinkHtml = 'Like what you see? Visit the ' +\n",
              "            '<a target=\"_blank\" href=https://colab.research.google.com/notebooks/data_table.ipynb>data table notebook</a>'\n",
              "            + ' to learn more about interactive tables.';\n",
              "          element.innerHTML = '';\n",
              "          dataTable['output_type'] = 'display_data';\n",
              "          await google.colab.output.renderOutput(dataTable, element);\n",
              "          const docLink = document.createElement('div');\n",
              "          docLink.innerHTML = docLinkHtml;\n",
              "          element.appendChild(docLink);\n",
              "        }\n",
              "      </script>\n",
              "    </div>\n",
              "  </div>\n",
              "  "
            ]
          },
          "metadata": {},
          "execution_count": 102
        }
      ]
    },
    {
      "cell_type": "markdown",
      "source": [
        "## 合併資料"
      ],
      "metadata": {
        "id": "zlAhcbGSQwdh"
      }
    },
    {
      "cell_type": "code",
      "source": [
        "HONHAI = yf.download('2017.tw')"
      ],
      "metadata": {
        "colab": {
          "base_uri": "https://localhost:8080/"
        },
        "id": "RJLHxUEGQN8W",
        "outputId": "7ae40c45-7542-408e-f518-c2e6c9a4817c"
      },
      "execution_count": 289,
      "outputs": [
        {
          "output_type": "stream",
          "name": "stdout",
          "text": [
            "\r[*********************100%***********************]  1 of 1 completed\n"
          ]
        }
      ]
    },
    {
      "cell_type": "code",
      "source": [
        "STOCKS = pd.DataFrame()"
      ],
      "metadata": {
        "id": "LF-h-b44RXcd"
      },
      "execution_count": 290,
      "outputs": []
    },
    {
      "cell_type": "code",
      "source": [
        "STOCKS['TSMC'] = TSMC['Close']"
      ],
      "metadata": {
        "id": "_oZ9oRlwRfRB"
      },
      "execution_count": 291,
      "outputs": []
    },
    {
      "cell_type": "code",
      "source": [
        "STOCKS['HONHAI'] = HONHAI['Close']"
      ],
      "metadata": {
        "id": "GRBw314hRpn8"
      },
      "execution_count": 292,
      "outputs": []
    },
    {
      "cell_type": "code",
      "source": [
        "STOCKS"
      ],
      "metadata": {
        "colab": {
          "base_uri": "https://localhost:8080/",
          "height": 423
        },
        "id": "Tg95ZlyFR1lF",
        "outputId": "c0523719-9c61-45be-951d-26680d64f22b"
      },
      "execution_count": 293,
      "outputs": [
        {
          "output_type": "execute_result",
          "data": {
            "text/plain": [
              "                  TSMC     HONHAI\n",
              "2000-01-04   69.649033   9.363787\n",
              "2000-01-05   71.214043   9.363787\n",
              "2000-01-06   69.649033   9.503545\n",
              "2000-01-07   67.692490   9.573424\n",
              "2000-01-10   70.040192   9.154150\n",
              "...                ...        ...\n",
              "2023-02-23  518.000000  18.600000\n",
              "2023-02-24  511.000000  19.100000\n",
              "2023-03-01  522.000000  18.250000\n",
              "2023-03-02  519.000000  18.350000\n",
              "2023-03-03  516.000000  18.299999\n",
              "\n",
              "[5779 rows x 2 columns]"
            ],
            "text/html": [
              "\n",
              "  <div id=\"df-1a76af4e-a73a-472d-ba7f-3c094f6bce04\">\n",
              "    <div class=\"colab-df-container\">\n",
              "      <div>\n",
              "<style scoped>\n",
              "    .dataframe tbody tr th:only-of-type {\n",
              "        vertical-align: middle;\n",
              "    }\n",
              "\n",
              "    .dataframe tbody tr th {\n",
              "        vertical-align: top;\n",
              "    }\n",
              "\n",
              "    .dataframe thead th {\n",
              "        text-align: right;\n",
              "    }\n",
              "</style>\n",
              "<table border=\"1\" class=\"dataframe\">\n",
              "  <thead>\n",
              "    <tr style=\"text-align: right;\">\n",
              "      <th></th>\n",
              "      <th>TSMC</th>\n",
              "      <th>HONHAI</th>\n",
              "    </tr>\n",
              "  </thead>\n",
              "  <tbody>\n",
              "    <tr>\n",
              "      <th>2000-01-04</th>\n",
              "      <td>69.649033</td>\n",
              "      <td>9.363787</td>\n",
              "    </tr>\n",
              "    <tr>\n",
              "      <th>2000-01-05</th>\n",
              "      <td>71.214043</td>\n",
              "      <td>9.363787</td>\n",
              "    </tr>\n",
              "    <tr>\n",
              "      <th>2000-01-06</th>\n",
              "      <td>69.649033</td>\n",
              "      <td>9.503545</td>\n",
              "    </tr>\n",
              "    <tr>\n",
              "      <th>2000-01-07</th>\n",
              "      <td>67.692490</td>\n",
              "      <td>9.573424</td>\n",
              "    </tr>\n",
              "    <tr>\n",
              "      <th>2000-01-10</th>\n",
              "      <td>70.040192</td>\n",
              "      <td>9.154150</td>\n",
              "    </tr>\n",
              "    <tr>\n",
              "      <th>...</th>\n",
              "      <td>...</td>\n",
              "      <td>...</td>\n",
              "    </tr>\n",
              "    <tr>\n",
              "      <th>2023-02-23</th>\n",
              "      <td>518.000000</td>\n",
              "      <td>18.600000</td>\n",
              "    </tr>\n",
              "    <tr>\n",
              "      <th>2023-02-24</th>\n",
              "      <td>511.000000</td>\n",
              "      <td>19.100000</td>\n",
              "    </tr>\n",
              "    <tr>\n",
              "      <th>2023-03-01</th>\n",
              "      <td>522.000000</td>\n",
              "      <td>18.250000</td>\n",
              "    </tr>\n",
              "    <tr>\n",
              "      <th>2023-03-02</th>\n",
              "      <td>519.000000</td>\n",
              "      <td>18.350000</td>\n",
              "    </tr>\n",
              "    <tr>\n",
              "      <th>2023-03-03</th>\n",
              "      <td>516.000000</td>\n",
              "      <td>18.299999</td>\n",
              "    </tr>\n",
              "  </tbody>\n",
              "</table>\n",
              "<p>5779 rows × 2 columns</p>\n",
              "</div>\n",
              "      <button class=\"colab-df-convert\" onclick=\"convertToInteractive('df-1a76af4e-a73a-472d-ba7f-3c094f6bce04')\"\n",
              "              title=\"Convert this dataframe to an interactive table.\"\n",
              "              style=\"display:none;\">\n",
              "        \n",
              "  <svg xmlns=\"http://www.w3.org/2000/svg\" height=\"24px\"viewBox=\"0 0 24 24\"\n",
              "       width=\"24px\">\n",
              "    <path d=\"M0 0h24v24H0V0z\" fill=\"none\"/>\n",
              "    <path d=\"M18.56 5.44l.94 2.06.94-2.06 2.06-.94-2.06-.94-.94-2.06-.94 2.06-2.06.94zm-11 1L8.5 8.5l.94-2.06 2.06-.94-2.06-.94L8.5 2.5l-.94 2.06-2.06.94zm10 10l.94 2.06.94-2.06 2.06-.94-2.06-.94-.94-2.06-.94 2.06-2.06.94z\"/><path d=\"M17.41 7.96l-1.37-1.37c-.4-.4-.92-.59-1.43-.59-.52 0-1.04.2-1.43.59L10.3 9.45l-7.72 7.72c-.78.78-.78 2.05 0 2.83L4 21.41c.39.39.9.59 1.41.59.51 0 1.02-.2 1.41-.59l7.78-7.78 2.81-2.81c.8-.78.8-2.07 0-2.86zM5.41 20L4 18.59l7.72-7.72 1.47 1.35L5.41 20z\"/>\n",
              "  </svg>\n",
              "      </button>\n",
              "      \n",
              "  <style>\n",
              "    .colab-df-container {\n",
              "      display:flex;\n",
              "      flex-wrap:wrap;\n",
              "      gap: 12px;\n",
              "    }\n",
              "\n",
              "    .colab-df-convert {\n",
              "      background-color: #E8F0FE;\n",
              "      border: none;\n",
              "      border-radius: 50%;\n",
              "      cursor: pointer;\n",
              "      display: none;\n",
              "      fill: #1967D2;\n",
              "      height: 32px;\n",
              "      padding: 0 0 0 0;\n",
              "      width: 32px;\n",
              "    }\n",
              "\n",
              "    .colab-df-convert:hover {\n",
              "      background-color: #E2EBFA;\n",
              "      box-shadow: 0px 1px 2px rgba(60, 64, 67, 0.3), 0px 1px 3px 1px rgba(60, 64, 67, 0.15);\n",
              "      fill: #174EA6;\n",
              "    }\n",
              "\n",
              "    [theme=dark] .colab-df-convert {\n",
              "      background-color: #3B4455;\n",
              "      fill: #D2E3FC;\n",
              "    }\n",
              "\n",
              "    [theme=dark] .colab-df-convert:hover {\n",
              "      background-color: #434B5C;\n",
              "      box-shadow: 0px 1px 3px 1px rgba(0, 0, 0, 0.15);\n",
              "      filter: drop-shadow(0px 1px 2px rgba(0, 0, 0, 0.3));\n",
              "      fill: #FFFFFF;\n",
              "    }\n",
              "  </style>\n",
              "\n",
              "      <script>\n",
              "        const buttonEl =\n",
              "          document.querySelector('#df-1a76af4e-a73a-472d-ba7f-3c094f6bce04 button.colab-df-convert');\n",
              "        buttonEl.style.display =\n",
              "          google.colab.kernel.accessAllowed ? 'block' : 'none';\n",
              "\n",
              "        async function convertToInteractive(key) {\n",
              "          const element = document.querySelector('#df-1a76af4e-a73a-472d-ba7f-3c094f6bce04');\n",
              "          const dataTable =\n",
              "            await google.colab.kernel.invokeFunction('convertToInteractive',\n",
              "                                                     [key], {});\n",
              "          if (!dataTable) return;\n",
              "\n",
              "          const docLinkHtml = 'Like what you see? Visit the ' +\n",
              "            '<a target=\"_blank\" href=https://colab.research.google.com/notebooks/data_table.ipynb>data table notebook</a>'\n",
              "            + ' to learn more about interactive tables.';\n",
              "          element.innerHTML = '';\n",
              "          dataTable['output_type'] = 'display_data';\n",
              "          await google.colab.output.renderOutput(dataTable, element);\n",
              "          const docLink = document.createElement('div');\n",
              "          docLink.innerHTML = docLinkHtml;\n",
              "          element.appendChild(docLink);\n",
              "        }\n",
              "      </script>\n",
              "    </div>\n",
              "  </div>\n",
              "  "
            ]
          },
          "metadata": {},
          "execution_count": 293
        }
      ]
    },
    {
      "cell_type": "code",
      "source": [
        "STOCKS.tail(100).plot()"
      ],
      "metadata": {
        "colab": {
          "base_uri": "https://localhost:8080/",
          "height": 280
        },
        "id": "969Cb6DGScwa",
        "outputId": "9f729696-0c12-408d-94a4-f91df8e1caa2"
      },
      "execution_count": 295,
      "outputs": [
        {
          "output_type": "execute_result",
          "data": {
            "text/plain": [
              "<AxesSubplot:>"
            ]
          },
          "metadata": {},
          "execution_count": 295
        },
        {
          "output_type": "display_data",
          "data": {
            "text/plain": [
              "<Figure size 432x288 with 1 Axes>"
            ],
            "image/png": "[encoded data removed]"
          },
          "metadata": {
            "needs_background": "light"
          }
        }
      ]
    },
    {
      "cell_type": "code",
      "source": [
        "STOCKS['TSMC'] = TSMC['Close']/TSMC['Close'].tail(100)[0]\n",
        "STOCKS['HONHAI'] = HONHAI['Close']/HONHAI['Close'].tail(100)[0]"
      ],
      "metadata": {
        "id": "Gtlel_y4R5JD"
      },
      "execution_count": 296,
      "outputs": []
    },
    {
      "cell_type": "code",
      "source": [
        "STOCKS.tail(100).plot()"
      ],
      "metadata": {
        "colab": {
          "base_uri": "https://localhost:8080/",
          "height": 280
        },
        "id": "88nHzJdWSEDT",
        "outputId": "cf52e252-116a-4423-a9b6-64aaed8fdb9f"
      },
      "execution_count": 297,
      "outputs": [
        {
          "output_type": "execute_result",
          "data": {
            "text/plain": [
              "<AxesSubplot:>"
            ]
          },
          "metadata": {},
          "execution_count": 297
        },
        {
          "output_type": "display_data",
          "data": {
            "text/plain": [
              "<Figure size 432x288 with 1 Axes>"
            ],
            "image/png": "[encoded data removed]"
          },
          "metadata": {
            "needs_background": "light"
          }
        }
      ]
    },
    {
      "cell_type": "code",
      "source": [
        "CATHAY00878 = yf.download('00878.tw')"
      ],
      "metadata": {
        "colab": {
          "base_uri": "https://localhost:8080/"
        },
        "id": "OogPFmpESg3D",
        "outputId": "8202ac8a-afe3-4b49-b2fa-e9d617ec55db"
      },
      "execution_count": 298,
      "outputs": [
        {
          "output_type": "stream",
          "name": "stdout",
          "text": [
            "\r[*********************100%***********************]  1 of 1 completed\n"
          ]
        }
      ]
    },
    {
      "cell_type": "code",
      "source": [
        "YUANTA0056 = yf.download('0056.tw')"
      ],
      "metadata": {
        "colab": {
          "base_uri": "https://localhost:8080/"
        },
        "id": "Lcfv-A9lZEDs",
        "outputId": "c3655bee-dfe2-4d29-da06-e9677d87af87"
      },
      "execution_count": 299,
      "outputs": [
        {
          "output_type": "stream",
          "name": "stdout",
          "text": [
            "\r[*********************100%***********************]  1 of 1 completed\n"
          ]
        }
      ]
    },
    {
      "cell_type": "code",
      "source": [
        "YUANTA0050 = yf.download('0050.tw')"
      ],
      "metadata": {
        "colab": {
          "base_uri": "https://localhost:8080/"
        },
        "id": "b-vzEY2MZFus",
        "outputId": "0bfdf0ec-6f70-49fe-efa5-d07609330726"
      },
      "execution_count": 300,
      "outputs": [
        {
          "output_type": "stream",
          "name": "stdout",
          "text": [
            "\r[*********************100%***********************]  1 of 1 completed\n"
          ]
        }
      ]
    },
    {
      "cell_type": "code",
      "source": [
        "STOCKS1 = pd.DataFrame()"
      ],
      "metadata": {
        "id": "lihXxzZPT2Oy"
      },
      "execution_count": 301,
      "outputs": []
    },
    {
      "cell_type": "code",
      "source": [
        "STOCKS1['CATHAY00878'] = CATHAY00878['Close']"
      ],
      "metadata": {
        "id": "kCkn_0jgSy0C"
      },
      "execution_count": 302,
      "outputs": []
    },
    {
      "cell_type": "code",
      "source": [
        "STOCKS1['YUANTA0056'] = YUANTA0056['Close']"
      ],
      "metadata": {
        "id": "H1HjnYvBY5lU"
      },
      "execution_count": 303,
      "outputs": []
    },
    {
      "cell_type": "code",
      "source": [
        "STOCKS1['YUANTA0050'] = YUANTA0050['Close']"
      ],
      "metadata": {
        "id": "LceVGwC4Y6rL"
      },
      "execution_count": 304,
      "outputs": []
    },
    {
      "cell_type": "code",
      "source": [
        "STOCKS1"
      ],
      "metadata": {
        "colab": {
          "base_uri": "https://localhost:8080/",
          "height": 455
        },
        "id": "IrREsvFRTPIM",
        "outputId": "537fe125-146b-453e-99c6-cecfcabbe54b"
      },
      "execution_count": 305,
      "outputs": [
        {
          "output_type": "execute_result",
          "data": {
            "text/plain": [
              "            CATHAY00878  YUANTA0056  YUANTA0050\n",
              "Date                                           \n",
              "2020-07-10    15.000000   29.520000   94.650002\n",
              "2020-07-13    14.990000   29.650000   96.050003\n",
              "2020-07-14    14.980000   29.580000   96.650002\n",
              "2020-07-15    14.960000   29.530001   97.050003\n",
              "2020-07-16    14.970000   29.629999   96.099998\n",
              "...                 ...         ...         ...\n",
              "2023-02-23    17.170000   27.740000  119.400002\n",
              "2023-02-24    17.100000   27.670000  118.800003\n",
              "2023-03-01    17.030001   27.719999  119.349998\n",
              "2023-03-02    17.080000   27.780001  119.250000\n",
              "2023-03-03    17.129999   27.950001  119.349998\n",
              "\n",
              "[645 rows x 3 columns]"
            ],
            "text/html": [
              "\n",
              "  <div id=\"df-b7548db3-d82d-4a0a-916b-d20f08d8b642\">\n",
              "    <div class=\"colab-df-container\">\n",
              "      <div>\n",
              "<style scoped>\n",
              "    .dataframe tbody tr th:only-of-type {\n",
              "        vertical-align: middle;\n",
              "    }\n",
              "\n",
              "    .dataframe tbody tr th {\n",
              "        vertical-align: top;\n",
              "    }\n",
              "\n",
              "    .dataframe thead th {\n",
              "        text-align: right;\n",
              "    }\n",
              "</style>\n",
              "<table border=\"1\" class=\"dataframe\">\n",
              "  <thead>\n",
              "    <tr style=\"text-align: right;\">\n",
              "      <th></th>\n",
              "      <th>CATHAY00878</th>\n",
              "      <th>YUANTA0056</th>\n",
              "      <th>YUANTA0050</th>\n",
              "    </tr>\n",
              "    <tr>\n",
              "      <th>Date</th>\n",
              "      <th></th>\n",
              "      <th></th>\n",
              "      <th></th>\n",
              "    </tr>\n",
              "  </thead>\n",
              "  <tbody>\n",
              "    <tr>\n",
              "      <th>2020-07-10</th>\n",
              "      <td>15.000000</td>\n",
              "      <td>29.520000</td>\n",
              "      <td>94.650002</td>\n",
              "    </tr>\n",
              "    <tr>\n",
              "      <th>2020-07-13</th>\n",
              "      <td>14.990000</td>\n",
              "      <td>29.650000</td>\n",
              "      <td>96.050003</td>\n",
              "    </tr>\n",
              "    <tr>\n",
              "      <th>2020-07-14</th>\n",
              "      <td>14.980000</td>\n",
              "      <td>29.580000</td>\n",
              "      <td>96.650002</td>\n",
              "    </tr>\n",
              "    <tr>\n",
              "      <th>2020-07-15</th>\n",
              "      <td>14.960000</td>\n",
              "      <td>29.530001</td>\n",
              "      <td>97.050003</td>\n",
              "    </tr>\n",
              "    <tr>\n",
              "      <th>2020-07-16</th>\n",
              "      <td>14.970000</td>\n",
              "      <td>29.629999</td>\n",
              "      <td>96.099998</td>\n",
              "    </tr>\n",
              "    <tr>\n",
              "      <th>...</th>\n",
              "      <td>...</td>\n",
              "      <td>...</td>\n",
              "      <td>...</td>\n",
              "    </tr>\n",
              "    <tr>\n",
              "      <th>2023-02-23</th>\n",
              "      <td>17.170000</td>\n",
              "      <td>27.740000</td>\n",
              "      <td>119.400002</td>\n",
              "    </tr>\n",
              "    <tr>\n",
              "      <th>2023-02-24</th>\n",
              "      <td>17.100000</td>\n",
              "      <td>27.670000</td>\n",
              "      <td>118.800003</td>\n",
              "    </tr>\n",
              "    <tr>\n",
              "      <th>2023-03-01</th>\n",
              "      <td>17.030001</td>\n",
              "      <td>27.719999</td>\n",
              "      <td>119.349998</td>\n",
              "    </tr>\n",
              "    <tr>\n",
              "      <th>2023-03-02</th>\n",
              "      <td>17.080000</td>\n",
              "      <td>27.780001</td>\n",
              "      <td>119.250000</td>\n",
              "    </tr>\n",
              "    <tr>\n",
              "      <th>2023-03-03</th>\n",
              "      <td>17.129999</td>\n",
              "      <td>27.950001</td>\n",
              "      <td>119.349998</td>\n",
              "    </tr>\n",
              "  </tbody>\n",
              "</table>\n",
              "<p>645 rows × 3 columns</p>\n",
              "</div>\n",
              "      <button class=\"colab-df-convert\" onclick=\"convertToInteractive('df-b7548db3-d82d-4a0a-916b-d20f08d8b642')\"\n",
              "              title=\"Convert this dataframe to an interactive table.\"\n",
              "              style=\"display:none;\">\n",
              "        \n",
              "  <svg xmlns=\"http://www.w3.org/2000/svg\" height=\"24px\"viewBox=\"0 0 24 24\"\n",
              "       width=\"24px\">\n",
              "    <path d=\"M0 0h24v24H0V0z\" fill=\"none\"/>\n",
              "    <path d=\"M18.56 5.44l.94 2.06.94-2.06 2.06-.94-2.06-.94-.94-2.06-.94 2.06-2.06.94zm-11 1L8.5 8.5l.94-2.06 2.06-.94-2.06-.94L8.5 2.5l-.94 2.06-2.06.94zm10 10l.94 2.06.94-2.06 2.06-.94-2.06-.94-.94-2.06-.94 2.06-2.06.94z\"/><path d=\"M17.41 7.96l-1.37-1.37c-.4-.4-.92-.59-1.43-.59-.52 0-1.04.2-1.43.59L10.3 9.45l-7.72 7.72c-.78.78-.78 2.05 0 2.83L4 21.41c.39.39.9.59 1.41.59.51 0 1.02-.2 1.41-.59l7.78-7.78 2.81-2.81c.8-.78.8-2.07 0-2.86zM5.41 20L4 18.59l7.72-7.72 1.47 1.35L5.41 20z\"/>\n",
              "  </svg>\n",
              "      </button>\n",
              "      \n",
              "  <style>\n",
              "    .colab-df-container {\n",
              "      display:flex;\n",
              "      flex-wrap:wrap;\n",
              "      gap: 12px;\n",
              "    }\n",
              "\n",
              "    .colab-df-convert {\n",
              "      background-color: #E8F0FE;\n",
              "      border: none;\n",
              "      border-radius: 50%;\n",
              "      cursor: pointer;\n",
              "      display: none;\n",
              "      fill: #1967D2;\n",
              "      height: 32px;\n",
              "      padding: 0 0 0 0;\n",
              "      width: 32px;\n",
              "    }\n",
              "\n",
              "    .colab-df-convert:hover {\n",
              "      background-color: #E2EBFA;\n",
              "      box-shadow: 0px 1px 2px rgba(60, 64, 67, 0.3), 0px 1px 3px 1px rgba(60, 64, 67, 0.15);\n",
              "      fill: #174EA6;\n",
              "    }\n",
              "\n",
              "    [theme=dark] .colab-df-convert {\n",
              "      background-color: #3B4455;\n",
              "      fill: #D2E3FC;\n",
              "    }\n",
              "\n",
              "    [theme=dark] .colab-df-convert:hover {\n",
              "      background-color: #434B5C;\n",
              "      box-shadow: 0px 1px 3px 1px rgba(0, 0, 0, 0.15);\n",
              "      filter: drop-shadow(0px 1px 2px rgba(0, 0, 0, 0.3));\n",
              "      fill: #FFFFFF;\n",
              "    }\n",
              "  </style>\n",
              "\n",
              "      <script>\n",
              "        const buttonEl =\n",
              "          document.querySelector('#df-b7548db3-d82d-4a0a-916b-d20f08d8b642 button.colab-df-convert');\n",
              "        buttonEl.style.display =\n",
              "          google.colab.kernel.accessAllowed ? 'block' : 'none';\n",
              "\n",
              "        async function convertToInteractive(key) {\n",
              "          const element = document.querySelector('#df-b7548db3-d82d-4a0a-916b-d20f08d8b642');\n",
              "          const dataTable =\n",
              "            await google.colab.kernel.invokeFunction('convertToInteractive',\n",
              "                                                     [key], {});\n",
              "          if (!dataTable) return;\n",
              "\n",
              "          const docLinkHtml = 'Like what you see? Visit the ' +\n",
              "            '<a target=\"_blank\" href=https://colab.research.google.com/notebooks/data_table.ipynb>data table notebook</a>'\n",
              "            + ' to learn more about interactive tables.';\n",
              "          element.innerHTML = '';\n",
              "          dataTable['output_type'] = 'display_data';\n",
              "          await google.colab.output.renderOutput(dataTable, element);\n",
              "          const docLink = document.createElement('div');\n",
              "          docLink.innerHTML = docLinkHtml;\n",
              "          element.appendChild(docLink);\n",
              "        }\n",
              "      </script>\n",
              "    </div>\n",
              "  </div>\n",
              "  "
            ]
          },
          "metadata": {},
          "execution_count": 305
        }
      ]
    },
    {
      "cell_type": "code",
      "source": [
        "STOCKS1.tail(100).plot()"
      ],
      "metadata": {
        "colab": {
          "base_uri": "https://localhost:8080/",
          "height": 294
        },
        "id": "qmNhQZDLbVTk",
        "outputId": "d5e06cec-c47f-413a-ff76-379c61f1e77b"
      },
      "execution_count": 306,
      "outputs": [
        {
          "output_type": "execute_result",
          "data": {
            "text/plain": [
              "<AxesSubplot:xlabel='Date'>"
            ]
          },
          "metadata": {},
          "execution_count": 306
        },
        {
          "output_type": "display_data",
          "data": {
            "text/plain": [
              "<Figure size 432x288 with 1 Axes>"
            ],
            "image/png": "[encoded data removed]"
          },
          "metadata": {
            "needs_background": "light"
          }
        }
      ]
    },
    {
      "cell_type": "code",
      "source": [
        "STOCKS1['CATHAY00878'] = CATHAY00878['Close']/CATHAY00878['Close'].tail(100)[0]"
      ],
      "metadata": {
        "id": "uXhoBAElT-0D"
      },
      "execution_count": 307,
      "outputs": []
    },
    {
      "cell_type": "code",
      "source": [
        "STOCKS1['YUANTA0056'] = YUANTA0056['Close']/YUANTA0056['Close'].tail(100)[0]"
      ],
      "metadata": {
        "id": "2T3Dfw3pYyHb"
      },
      "execution_count": 308,
      "outputs": []
    },
    {
      "cell_type": "code",
      "source": [
        "STOCKS1['YUANTA0050'] = YUANTA0050['Close']/YUANTA0050['Close'].tail(100)[0]"
      ],
      "metadata": {
        "id": "EgtT0RZQYzm9"
      },
      "execution_count": 309,
      "outputs": []
    },
    {
      "cell_type": "code",
      "source": [
        "STOCKS1.tail(100).plot()"
      ],
      "metadata": {
        "colab": {
          "base_uri": "https://localhost:8080/",
          "height": 294
        },
        "id": "SqSEKQvVUVm3",
        "outputId": "fd723d2e-f73d-4c3a-eab4-13d061f86d17"
      },
      "execution_count": 312,
      "outputs": [
        {
          "output_type": "execute_result",
          "data": {
            "text/plain": [
              "<AxesSubplot:xlabel='Date'>"
            ]
          },
          "metadata": {},
          "execution_count": 312
        },
        {
          "output_type": "display_data",
          "data": {
            "text/plain": [
              "<Figure size 432x288 with 1 Axes>"
            ],
            "image/png": "[encoded data removed]"
          },
          "metadata": {
            "needs_background": "light"
          }
        }
      ]
    },
    {
      "cell_type": "markdown",
      "source": [
        "## 關於回測"
      ],
      "metadata": {
        "id": "MHjUIRPxas1x"
      }
    },
    {
      "cell_type": "code",
      "source": [
        "!pip install backtesting"
      ],
      "metadata": {
        "colab": {
          "base_uri": "https://localhost:8080/"
        },
        "id": "KJOyvTjhUbD2",
        "outputId": "3d6786ae-8448-4784-a2c1-11791e6f2409"
      },
      "execution_count": 253,
      "outputs": [
        {
          "output_type": "stream",
          "name": "stdout",
          "text": [
            "Looking in indexes: https://pypi.org/simple, https://us-python.pkg.dev/colab-wheels/public/simple/\n",
            "Requirement already satisfied: backtesting in /usr/local/lib/python3.8/dist-packages (0.3.3)\n",
            "Requirement already satisfied: pandas!=0.25.0,>=0.25.0 in /usr/local/lib/python3.8/dist-packages (from backtesting) (1.3.5)\n",
            "Requirement already satisfied: numpy>=1.17.0 in /usr/local/lib/python3.8/dist-packages (from backtesting) (1.22.4)\n",
            "Requirement already satisfied: bokeh>=1.4.0 in /usr/local/lib/python3.8/dist-packages (from backtesting) (2.4.3)\n",
            "Requirement already satisfied: PyYAML>=3.10 in /usr/local/lib/python3.8/dist-packages (from bokeh>=1.4.0->backtesting) (6.0)\n",
            "Requirement already satisfied: packaging>=16.8 in /usr/local/lib/python3.8/dist-packages (from bokeh>=1.4.0->backtesting) (23.0)\n",
            "Requirement already satisfied: Jinja2>=2.9 in /usr/local/lib/python3.8/dist-packages (from bokeh>=1.4.0->backtesting) (3.1.2)\n",
            "Requirement already satisfied: tornado>=5.1 in /usr/local/lib/python3.8/dist-packages (from bokeh>=1.4.0->backtesting) (6.2)\n",
            "Requirement already satisfied: pillow>=7.1.0 in /usr/local/lib/python3.8/dist-packages (from bokeh>=1.4.0->backtesting) (8.4.0)\n",
            "Requirement already satisfied: typing-extensions>=3.10.0 in /usr/local/lib/python3.8/dist-packages (from bokeh>=1.4.0->backtesting) (4.5.0)\n",
            "Requirement already satisfied: python-dateutil>=2.7.3 in /usr/local/lib/python3.8/dist-packages (from pandas!=0.25.0,>=0.25.0->backtesting) (2.8.2)\n",
            "Requirement already satisfied: pytz>=2017.3 in /usr/local/lib/python3.8/dist-packages (from pandas!=0.25.0,>=0.25.0->backtesting) (2022.7.1)\n",
            "Requirement already satisfied: MarkupSafe>=2.0 in /usr/local/lib/python3.8/dist-packages (from Jinja2>=2.9->bokeh>=1.4.0->backtesting) (2.1.2)\n",
            "Requirement already satisfied: six>=1.5 in /usr/local/lib/python3.8/dist-packages (from python-dateutil>=2.7.3->pandas!=0.25.0,>=0.25.0->backtesting) (1.15.0)\n",
            "\u001b[31mERROR: Operation cancelled by user\u001b[0m\u001b[31m\n",
            "\u001b[0m"
          ]
        }
      ]
    },
    {
      "cell_type": "code",
      "source": [
        "from backtesting import Backtest, Strategy\n",
        "from backtesting.lib import crossover\n",
        "\n",
        "from backtesting.test import SMA\n",
        "\n",
        "class SmaCross(Strategy):\n",
        "    def init(self):\n",
        "        price = self.data.Close\n",
        "        self.ma1 = self.I(SMA, price, 10)\n",
        "        self.ma2 = self.I(SMA, price, 20)\n",
        "\n",
        "    def next(self):\n",
        "        if crossover(self.ma1, self.ma2):\n",
        "            self.buy()\n",
        "        elif crossover(self.ma2, self.ma1):\n",
        "            # self.sell()\n",
        "            self.position.close()"
      ],
      "metadata": {
        "id": "1goF7uhmatyp"
      },
      "execution_count": 316,
      "outputs": []
    },
    {
      "cell_type": "code",
      "source": [
        "bt = Backtest(CATHAY00878.tail(300), SmaCross, commission=.002, exclusive_orders=True)\n",
        "stats = bt.run()\n",
        "bt.plot()"
      ],
      "metadata": {
        "colab": {
          "base_uri": "https://localhost:8080/",
          "height": 744
        },
        "id": "E_VDY0T9W4Dy",
        "outputId": "542ccf16-ecfd-4d13-da23-731ef4c0f2ba"
      },
      "execution_count": 318,
      "outputs": [
        {
          "output_type": "display_data",
          "data": {
            "application/javascript": [
              "(function(root) {\n",
              "  function now() {\n",
              "    return new Date();\n",
              "  }\n",
              "\n",
              "  const force = true;\n",
              "\n",
              "  if (typeof root._bokeh_onload_callbacks === \"undefined\" || force === true) {\n",
              "    root._bokeh_onload_callbacks = [];\n",
              "    root._bokeh_is_loading = undefined;\n",
              "  }\n",
              "\n",
              "const JS_MIME_TYPE = 'application/javascript';\n",
              "  const HTML_MIME_TYPE = 'text/html';\n",
              "  const EXEC_MIME_TYPE = 'application/vnd.bokehjs_exec.v0+json';\n",
              "  const CLASS_NAME = 'output_bokeh rendered_html';\n",
              "\n",
              "  /**\n",
              "   * Render data to the DOM node\n",
              "   */\n",
              "  function render(props, node) {\n",
              "    const script = document.createElement(\"script\");\n",
              "    node.appendChild(script);\n",
              "  }\n",
              "\n",
              "  /**\n",
              "   * Handle when an output is cleared or removed\n",
              "   */\n",
              "  function handleClearOutput(event, handle) {\n",
              "    const cell = handle.cell;\n",
              "\n",
              "    const id = cell.output_area._bokeh_element_id;\n",
              "    const server_id = cell.output_area._bokeh_server_id;\n",
              "    // Clean up Bokeh references\n",
              "    if (id != null && id in Bokeh.index) {\n",
              "      Bokeh.index[id].model.document.clear();\n",
              "      delete Bokeh.index[id];\n",
              "    }\n",
              "\n",
              "    if (server_id !== undefined) {\n",
              "      // Clean up Bokeh references\n",
              "      const cmd_clean = \"from bokeh.io.state import curstate; print(curstate().uuid_to_server['\" + server_id + \"'].get_sessions()[0].document.roots[0]._id)\";\n",
              "      cell.notebook.kernel.execute(cmd_clean, {\n",
              "        iopub: {\n",
              "          output: function(msg) {\n",
              "            const id = msg.content.text.trim();\n",
              "            if (id in Bokeh.index) {\n",
              "              Bokeh.index[id].model.document.clear();\n",
              "              delete Bokeh.index[id];\n",
              "            }\n",
              "          }\n",
              "        }\n",
              "      });\n",
              "      // Destroy server and session\n",
              "      const cmd_destroy = \"import bokeh.io.notebook as ion; ion.destroy_server('\" + server_id + \"')\";\n",
              "      cell.notebook.kernel.execute(cmd_destroy);\n",
              "    }\n",
              "  }\n",
              "\n",
              "  /**\n",
              "   * Handle when a new output is added\n",
              "   */\n",
              "  function handleAddOutput(event, handle) {\n",
              "    const output_area = handle.output_area;\n",
              "    const output = handle.output;\n",
              "\n",
              "    // limit handleAddOutput to display_data with EXEC_MIME_TYPE content only\n",
              "    if ((output.output_type != \"display_data\") || (!Object.prototype.hasOwnProperty.call(output.data, EXEC_MIME_TYPE))) {\n",
              "      return\n",
              "    }\n",
              "\n",
              "    const toinsert = output_area.element.find(\".\" + CLASS_NAME.split(' ')[0]);\n",
              "\n",
              "    if (output.metadata[EXEC_MIME_TYPE][\"id\"] !== undefined) {\n",
              "      toinsert[toinsert.length - 1].firstChild.textContent = output.data[JS_MIME_TYPE];\n",
              "      // store reference to embed id on output_area\n",
              "      output_area._bokeh_element_id = output.metadata[EXEC_MIME_TYPE][\"id\"];\n",
              "    }\n",
              "    if (output.metadata[EXEC_MIME_TYPE][\"server_id\"] !== undefined) {\n",
              "      const bk_div = document.createElement(\"div\");\n",
              "      bk_div.innerHTML = output.data[HTML_MIME_TYPE];\n",
              "      const script_attrs = bk_div.children[0].attributes;\n",
              "      for (let i = 0; i < script_attrs.length; i++) {\n",
              "        toinsert[toinsert.length - 1].firstChild.setAttribute(script_attrs[i].name, script_attrs[i].value);\n",
              "        toinsert[toinsert.length - 1].firstChild.textContent = bk_div.children[0].textContent\n",
              "      }\n",
              "      // store reference to server id on output_area\n",
              "      output_area._bokeh_server_id = output.metadata[EXEC_MIME_TYPE][\"server_id\"];\n",
              "    }\n",
              "  }\n",
              "\n",
              "  function register_renderer(events, OutputArea) {\n",
              "\n",
              "    function append_mime(data, metadata, element) {\n",
              "      // create a DOM node to render to\n",
              "      const toinsert = this.create_output_subarea(\n",
              "        metadata,\n",
              "        CLASS_NAME,\n",
              "        EXEC_MIME_TYPE\n",
              "      );\n",
              "      this.keyboard_manager.register_events(toinsert);\n",
              "      // Render to node\n",
              "      const props = {data: data, metadata: metadata[EXEC_MIME_TYPE]};\n",
              "      render(props, toinsert[toinsert.length - 1]);\n",
              "      element.append(toinsert);\n",
              "      return toinsert\n",
              "    }\n",
              "\n",
              "    /* Handle when an output is cleared or removed */\n",
              "    events.on('clear_output.CodeCell', handleClearOutput);\n",
              "    events.on('delete.Cell', handleClearOutput);\n",
              "\n",
              "    /* Handle when a new output is added */\n",
              "    events.on('output_added.OutputArea', handleAddOutput);\n",
              "\n",
              "    /**\n",
              "     * Register the mime type and append_mime function with output_area\n",
              "     */\n",
              "    OutputArea.prototype.register_mime_type(EXEC_MIME_TYPE, append_mime, {\n",
              "      /* Is output safe? */\n",
              "      safe: true,\n",
              "      /* Index of renderer in `output_area.display_order` */\n",
              "      index: 0\n",
              "    });\n",
              "  }\n",
              "\n",
              "  // register the mime type if in Jupyter Notebook environment and previously unregistered\n",
              "  if (root.Jupyter !== undefined) {\n",
              "    const events = require('base/js/events');\n",
              "    const OutputArea = require('notebook/js/outputarea').OutputArea;\n",
              "\n",
              "    if (OutputArea.prototype.mime_types().indexOf(EXEC_MIME_TYPE) == -1) {\n",
              "      register_renderer(events, OutputArea);\n",
              "    }\n",
              "  }\n",
              "  if (typeof (root._bokeh_timeout) === \"undefined\" || force === true) {\n",
              "    root._bokeh_timeout = Date.now() + 5000;\n",
              "    root._bokeh_failed_load = false;\n",
              "  }\n",
              "\n",
              "  const NB_LOAD_WARNING = {'data': {'text/html':\n",
              "     \"<div style='background-color: #fdd'>\\n\"+\n",
              "     \"<p>\\n\"+\n",
              "     \"BokehJS does not appear to have successfully loaded. If loading BokehJS from CDN, this \\n\"+\n",
              "     \"may be due to a slow or bad network connection. Possible fixes:\\n\"+\n",
              "     \"</p>\\n\"+\n",
              "     \"<ul>\\n\"+\n",
              "     \"<li>re-rerun `output_notebook()` to attempt to load from CDN again, or</li>\\n\"+\n",
              "     \"<li>use INLINE resources instead, as so:</li>\\n\"+\n",
              "     \"</ul>\\n\"+\n",
              "     \"<code>\\n\"+\n",
              "     \"from bokeh.resources import INLINE\\n\"+\n",
              "     \"output_notebook(resources=INLINE)\\n\"+\n",
              "     \"</code>\\n\"+\n",
              "     \"</div>\"}};\n",
              "\n",
              "  function display_loaded() {\n",
              "    const el = document.getElementById(null);\n",
              "    if (el != null) {\n",
              "      el.textContent = \"BokehJS is loading...\";\n",
              "    }\n",
              "    if (root.Bokeh !== undefined) {\n",
              "      if (el != null) {\n",
              "        el.textContent = \"BokehJS \" + root.Bokeh.version + \" successfully loaded.\";\n",
              "      }\n",
              "    } else if (Date.now() < root._bokeh_timeout) {\n",
              "      setTimeout(display_loaded, 100)\n",
              "    }\n",
              "  }\n",
              "\n",
              "  function run_callbacks() {\n",
              "    try {\n",
              "      root._bokeh_onload_callbacks.forEach(function(callback) {\n",
              "        if (callback != null)\n",
              "          callback();\n",
              "      });\n",
              "    } finally {\n",
              "      delete root._bokeh_onload_callbacks\n",
              "    }\n",
              "    console.debug(\"Bokeh: all callbacks have finished\");\n",
              "  }\n",
              "\n",
              "  function load_libs(css_urls, js_urls, callback) {\n",
              "    if (css_urls == null) css_urls = [];\n",
              "    if (js_urls == null) js_urls = [];\n",
              "\n",
              "    root._bokeh_onload_callbacks.push(callback);\n",
              "    if (root._bokeh_is_loading > 0) {\n",
              "      console.debug(\"Bokeh: BokehJS is being loaded, scheduling callback at\", now());\n",
              "      return null;\n",
              "    }\n",
              "    if (js_urls == null || js_urls.length === 0) {\n",
              "      run_callbacks();\n",
              "      return null;\n",
              "    }\n",
              "    console.debug(\"Bokeh: BokehJS not loaded, scheduling load and callback at\", now());\n",
              "    root._bokeh_is_loading = css_urls.length + js_urls.length;\n",
              "\n",
              "    function on_load() {\n",
              "      root._bokeh_is_loading--;\n",
              "      if (root._bokeh_is_loading === 0) {\n",
              "        console.debug(\"Bokeh: all BokehJS libraries/stylesheets loaded\");\n",
              "        run_callbacks()\n",
              "      }\n",
              "    }\n",
              "\n",
              "    function on_error(url) {\n",
              "      console.error(\"failed to load \" + url);\n",
              "    }\n",
              "\n",
              "    for (let i = 0; i < css_urls.length; i++) {\n",
              "      const url = css_urls[i];\n",
              "      const element = document.createElement(\"link\");\n",
              "      element.onload = on_load;\n",
              "      element.onerror = on_error.bind(null, url);\n",
              "      element.rel = \"stylesheet\";\n",
              "      element.type = \"text/css\";\n",
              "      element.href = url;\n",
              "      console.debug(\"Bokeh: injecting link tag for BokehJS stylesheet: \", url);\n",
              "      document.body.appendChild(element);\n",
              "    }\n",
              "\n",
              "    for (let i = 0; i < js_urls.length; i++) {\n",
              "      const url = js_urls[i];\n",
              "      const element = document.createElement('script');\n",
              "      element.onload = on_load;\n",
              "      element.onerror = on_error.bind(null, url);\n",
              "      element.async = false;\n",
              "      element.src = url;\n",
              "      console.debug(\"Bokeh: injecting script tag for BokehJS library: \", url);\n",
              "      document.head.appendChild(element);\n",
              "    }\n",
              "  };\n",
              "\n",
              "  function inject_raw_css(css) {\n",
              "    const element = document.createElement(\"style\");\n",
              "    element.appendChild(document.createTextNode(css));\n",
              "    document.body.appendChild(element);\n",
              "  }\n",
              "\n",
              "  const js_urls = [\"https://cdn.bokeh.org/bokeh/release/bokeh-2.4.3.min.js\", \"https://cdn.bokeh.org/bokeh/release/bokeh-gl-2.4.3.min.js\", \"https://cdn.bokeh.org/bokeh/release/bokeh-widgets-2.4.3.min.js\", \"https://cdn.bokeh.org/bokeh/release/bokeh-tables-2.4.3.min.js\", \"https://cdn.bokeh.org/bokeh/release/bokeh-mathjax-2.4.3.min.js\"];\n",
              "  const css_urls = [];\n",
              "\n",
              "  const inline_js = [    function(Bokeh) {\n",
              "      Bokeh.set_log_level(\"info\");\n",
              "    },\n",
              "function(Bokeh) {\n",
              "    }\n",
              "  ];\n",
              "\n",
              "  function run_inline_js() {\n",
              "    if (root.Bokeh !== undefined || force === true) {\n",
              "          for (let i = 0; i < inline_js.length; i++) {\n",
              "      inline_js[i].call(root, root.Bokeh);\n",
              "    }\n",
              "} else if (Date.now() < root._bokeh_timeout) {\n",
              "      setTimeout(run_inline_js, 100);\n",
              "    } else if (!root._bokeh_failed_load) {\n",
              "      console.log(\"Bokeh: BokehJS failed to load within specified timeout.\");\n",
              "      root._bokeh_failed_load = true;\n",
              "    } else if (force !== true) {\n",
              "      const cell = $(document.getElementById(null)).parents('.cell').data().cell;\n",
              "      cell.output_area.append_execute_result(NB_LOAD_WARNING)\n",
              "    }\n",
              "  }\n",
              "\n",
              "  if (root._bokeh_is_loading === 0) {\n",
              "    console.debug(\"Bokeh: BokehJS loaded, going straight to plotting\");\n",
              "    run_inline_js();\n",
              "  } else {\n",
              "    load_libs(css_urls, js_urls, function() {\n",
              "      console.debug(\"Bokeh: BokehJS plotting callback run at\", now());\n",
              "      run_inline_js();\n",
              "    });\n",
              "  }\n",
              "}(window));"
            ],
            "application/vnd.bokehjs_load.v0+json": "(function(root) {\n  function now() {\n    return new Date();\n  }\n\n  const force = true;\n\n  if (typeof root._bokeh_onload_callbacks === \"undefined\" || force === true) {\n    root._bokeh_onload_callbacks = [];\n    root._bokeh_is_loading = undefined;\n  }\n\n\n  if (typeof (root._bokeh_timeout) === \"undefined\" || force === true) {\n    root._bokeh_timeout = Date.now() + 5000;\n    root._bokeh_failed_load = false;\n  }\n\n  const NB_LOAD_WARNING = {'data': {'text/html':\n     \"<div style='background-color: #fdd'>\\n\"+\n     \"<p>\\n\"+\n     \"BokehJS does not appear to have successfully loaded. If loading BokehJS from CDN, this \\n\"+\n     \"may be due to a slow or bad network connection. Possible fixes:\\n\"+\n     \"</p>\\n\"+\n     \"<ul>\\n\"+\n     \"<li>re-rerun `output_notebook()` to attempt to load from CDN again, or</li>\\n\"+\n     \"<li>use INLINE resources instead, as so:</li>\\n\"+\n     \"</ul>\\n\"+\n     \"<code>\\n\"+\n     \"from bokeh.resources import INLINE\\n\"+\n     \"output_notebook(resources=INLINE)\\n\"+\n     \"</code>\\n\"+\n     \"</div>\"}};\n\n  function display_loaded() {\n    const el = document.getElementById(null);\n    if (el != null) {\n      el.textContent = \"BokehJS is loading...\";\n    }\n    if (root.Bokeh !== undefined) {\n      if (el != null) {\n        el.textContent = \"BokehJS \" + root.Bokeh.version + \" successfully loaded.\";\n      }\n    } else if (Date.now() < root._bokeh_timeout) {\n      setTimeout(display_loaded, 100)\n    }\n  }\n\n  function run_callbacks() {\n    try {\n      root._bokeh_onload_callbacks.forEach(function(callback) {\n        if (callback != null)\n          callback();\n      });\n    } finally {\n      delete root._bokeh_onload_callbacks\n    }\n    console.debug(\"Bokeh: all callbacks have finished\");\n  }\n\n  function load_libs(css_urls, js_urls, callback) {\n    if (css_urls == null) css_urls = [];\n    if (js_urls == null) js_urls = [];\n\n    root._bokeh_onload_callbacks.push(callback);\n    if (root._bokeh_is_loading > 0) {\n      console.debug(\"Bokeh: BokehJS is being loaded, scheduling callback at\", now());\n      return null;\n    }\n    if (js_urls == null || js_urls.length === 0) {\n      run_callbacks();\n      return null;\n    }\n    console.debug(\"Bokeh: BokehJS not loaded, scheduling load and callback at\", now());\n    root._bokeh_is_loading = css_urls.length + js_urls.length;\n\n    function on_load() {\n      root._bokeh_is_loading--;\n      if (root._bokeh_is_loading === 0) {\n        console.debug(\"Bokeh: all BokehJS libraries/stylesheets loaded\");\n        run_callbacks()\n      }\n    }\n\n    function on_error(url) {\n      console.error(\"failed to load \" + url);\n    }\n\n    for (let i = 0; i < css_urls.length; i++) {\n      const url = css_urls[i];\n      const element = document.createElement(\"link\");\n      element.onload = on_load;\n      element.onerror = on_error.bind(null, url);\n      element.rel = \"stylesheet\";\n      element.type = \"text/css\";\n      element.href = url;\n      console.debug(\"Bokeh: injecting link tag for BokehJS stylesheet: \", url);\n      document.body.appendChild(element);\n    }\n\n    for (let i = 0; i < js_urls.length; i++) {\n      const url = js_urls[i];\n      const element = document.createElement('script');\n      element.onload = on_load;\n      element.onerror = on_error.bind(null, url);\n      element.async = false;\n      element.src = url;\n      console.debug(\"Bokeh: injecting script tag for BokehJS library: \", url);\n      document.head.appendChild(element);\n    }\n  };\n\n  function inject_raw_css(css) {\n    const element = document.createElement(\"style\");\n    element.appendChild(document.createTextNode(css));\n    document.body.appendChild(element);\n  }\n\n  const js_urls = [\"https://cdn.bokeh.org/bokeh/release/bokeh-2.4.3.min.js\", \"https://cdn.bokeh.org/bokeh/release/bokeh-gl-2.4.3.min.js\", \"https://cdn.bokeh.org/bokeh/release/bokeh-widgets-2.4.3.min.js\", \"https://cdn.bokeh.org/bokeh/release/bokeh-tables-2.4.3.min.js\", \"https://cdn.bokeh.org/bokeh/release/bokeh-mathjax-2.4.3.min.js\"];\n  const css_urls = [];\n\n  const inline_js = [    function(Bokeh) {\n      Bokeh.set_log_level(\"info\");\n    },\nfunction(Bokeh) {\n    }\n  ];\n\n  function run_inline_js() {\n    if (root.Bokeh !== undefined || force === true) {\n          for (let i = 0; i < inline_js.length; i++) {\n      inline_js[i].call(root, root.Bokeh);\n    }\n} else if (Date.now() < root._bokeh_timeout) {\n      setTimeout(run_inline_js, 100);\n    } else if (!root._bokeh_failed_load) {\n      console.log(\"Bokeh: BokehJS failed to load within specified timeout.\");\n      root._bokeh_failed_load = true;\n    } else if (force !== true) {\n      const cell = $(document.getElementById(null)).parents('.cell').data().cell;\n      cell.output_area.append_execute_result(NB_LOAD_WARNING)\n    }\n  }\n\n  if (root._bokeh_is_loading === 0) {\n    console.debug(\"Bokeh: BokehJS loaded, going straight to plotting\");\n    run_inline_js();\n  } else {\n    load_libs(css_urls, js_urls, function() {\n      console.debug(\"Bokeh: BokehJS plotting callback run at\", now());\n      run_inline_js();\n    });\n  }\n}(window));"
          },
          "metadata": {}
        },
        {
          "output_type": "display_data",
          "data": {
            "text/html": [
              "\n",
              "  <div class=\"bk-root\" id=\"bd91f8ac-8789-42a5-95a2-d4a4c84ca9c8\" data-root-id=\"2913\"></div>\n"
            ]
          },
          "metadata": {}
        },
        {
          "output_type": "display_data",
          "data": {
            "application/javascript": [
              "(function(root) {\n",
              "  function embed_document(root) {\n",
              "  const docs_json = {\"b79d54e5-b706-4c12-b853-c89ce2272e4c\":{\"defs\":[],\"roots\":{\"references\":[{\"attributes\":{\"children\":[{\"id\":\"2910\"},{\"id\":\"2912\"}],\"sizing_mode\":\"stretch_width\"},\"id\":\"2913\",\"type\":\"Row\"},{\"attributes\":{\"line_color\":\"#1f77b4\",\"line_width\":1.3,\"x\":{\"field\":\"index\"},\"y\":{\"field\":\"SMA(C,10)_0_1\"}},\"id\":\"2796\",\"type\":\"Line\"},{\"attributes\":{\"line_alpha\":0.1,\"line_color\":\"#1f77b4\",\"line_width\":1.3,\"x\":{\"field\":\"index\"},\"y\":{\"field\":\"SMA(C,10)_0_1\"}},\"id\":\"2797\",\"type\":\"Line\"},{\"attributes\":{\"coordinates\":null,\"group\":null},\"id\":\"2870\",\"type\":\"Title\"},{\"attributes\":{\"coordinates\":null,\"data_source\":{\"id\":\"2499\"},\"glyph\":{\"id\":\"2817\"},\"group\":null,\"hover_glyph\":null,\"muted_glyph\":{\"id\":\"2819\"},\"nonselection_glyph\":{\"id\":\"2818\"},\"view\":{\"id\":\"2821\"}},\"id\":\"2820\",\"type\":\"GlyphRenderer\"},{\"attributes\":{\"data\":{\"equity_dd\":{\"__ndarray__\":\"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\",\"dtype\":\"float64\",\"order\":\"little\",\"shape\":[600]},\"index\":[0,1,2,3,4,5,6,7,8,9,10,11,12,13,14,15,16,17,18,19,20,21,22,23,24,25,26,27,28,29,30,31,32,33,34,35,36,37,38,39,40,41,42,43,44,45,46,47,48,49,50,51,52,53,54,55,56,57,58,59,60,61,62,63,64,65,66,67,68,69,70,71,72,73,74,75,76,77,78,79,80,81,82,83,84,85,86,87,88,89,90,91,92,93,94,95,96,97,98,99,100,101,102,103,104,105,106,107,108,109,110,111,112,113,114,115,116,117,118,119,120,121,122,123,124,125,126,127,128,129,130,131,132,133,134,135,136,137,138,139,140,141,142,143,144,145,146,147,148,149,150,151,152,153,154,155,156,157,158,159,160,161,162,163,164,165,166,167,168,169,170,171,172,173,174,175,176,177,178,179,180,181,182,183,184,185,186,187,188,189,190,191,192,193,194,195,196,197,198,199,200,201,202,203,204,205,206,207,208,209,210,211,212,213,214,215,216,217,218,219,220,221,222,223,224,225,226,227,228,229,230,231,232,233,234,235,236,237,238,239,240,241,242,243,244,245,246,247,248,249,250,251,252,253,254,255,256,257,258,259,260,261,262,263,264,265,266,267,268,269,270,271,272,273,274,275,276,277,278,279,280,281,282,283,284,285,286,287,288,289,290,291,292,293,294,295,296,297,298,299,299,298,297,296,295,294,293,292,291,290,289,288,287,286,285,284,283,282,281,280,279,278,277,276,275,274,273,272,271,270,269,268,267,266,265,264,263,262,261,260,259,258,257,256,255,254,253,252,251,250,249,248,247,246,245,244,243,242,241,240,239,238,237,236,235,234,233,232,231,230,229,228,227,226,225,224,223,222,221,220,219,218,217,216,215,214,213,212,211,210,209,208,207,206,205,204,203,202,201,200,199,198,197,196,195,194,193,192,191,190,189,188,187,186,185,184,183,182,181,180,179,178,177,176,175,174,173,172,171,170,169,168,167,166,165,164,163,162,161,160,159,158,157,156,155,154,153,152,151,150,149,148,147,146,145,144,143,142,141,140,139,138,137,136,135,134,133,132,131,130,129,128,127,126,125,124,123,122,121,120,119,118,117,116,115,114,113,112,111,110,109,108,107,106,105,104,103,102,101,100,99,98,97,96,95,94,93,92,91,90,89,88,87,86,85,84,83,82,81,80,79,78,77,76,75,74,73,72,71,70,69,68,67,66,65,64,63,62,61,60,59,58,57,56,55,54,53,52,51,50,49,48,47,46,45,44,43,42,41,40,39,38,37,36,35,34,33,32,31,30,29,28,27,26,25,24,23,22,21,20,19,18,17,16,15,14,13,12,11,10,9,8,7,6,5,4,3,2,1,0]},\"selected\":{\"id\":\"2570\"},\"selection_policy\":{\"id\":\"2569\"}},\"id\":\"2539\",\"type\":\"ColumnDataSource\"},{\"attributes\":{\"fill_color\":{\"field\":\"returns_positive\",\"transform\":{\"id\":\"2502\"}},\"marker\":{\"value\":\"inverted_triangle\"},\"size\":{\"field\":\"marker_size\"},\"x\":{\"field\":\"index\"},\"y\":{\"field\":\"returns_short\"}},\"id\":\"2693\",\"type\":\"Scatter\"},{\"attributes\":{\"line_alpha\":0.1,\"line_color\":\"#ff7f0e\",\"line_width\":1.3,\"x\":{\"field\":\"index\"},\"y\":{\"field\":\"SMA(C,20)_1_1\"}},\"id\":\"2818\",\"type\":\"Line\"},{\"attributes\":{},\"id\":\"2511\",\"type\":\"LinearScale\"},{\"attributes\":{\"coordinates\":null,\"group\":null,\"line_color\":\"#666666\",\"line_dash\":[6],\"location\":0},\"id\":\"2685\",\"type\":\"Span\"},{\"attributes\":{\"line_alpha\":0.2,\"line_color\":\"#1f77b4\",\"line_width\":1.3,\"x\":{\"field\":\"index\"},\"y\":{\"field\":\"SMA(C,10)_0_1\"}},\"id\":\"2798\",\"type\":\"Line\"},{\"attributes\":{\"coordinates\":null,\"data_source\":{\"id\":\"2499\"},\"glyph\":{\"id\":\"2738\"},\"group\":null,\"hover_glyph\":null,\"muted_glyph\":{\"id\":\"2740\"},\"nonselection_glyph\":{\"id\":\"2739\"},\"view\":{\"id\":\"2742\"}},\"id\":\"2741\",\"type\":\"GlyphRenderer\"},{\"attributes\":{\"source\":{\"id\":\"2499\"}},\"id\":\"2800\",\"type\":\"CDSView\"},{\"attributes\":{},\"id\":\"2790\",\"type\":\"UnionRenderers\"},{\"attributes\":{\"fill_alpha\":{\"value\":0.1},\"fill_color\":{\"field\":\"inc\",\"transform\":{\"id\":\"2501\"}},\"hatch_alpha\":{\"value\":0.1},\"hatch_color\":{\"field\":\"inc\",\"transform\":{\"id\":\"2501\"}},\"line_alpha\":{\"value\":0.1},\"line_color\":{\"field\":\"inc\",\"transform\":{\"id\":\"2501\"}},\"top\":{\"field\":\"Volume\"},\"width\":{\"value\":0.8},\"x\":{\"field\":\"index\"}},\"id\":\"2739\",\"type\":\"VBar\"},{\"attributes\":{\"fill_alpha\":{\"value\":0.1},\"fill_color\":{\"field\":\"returns_positive\",\"transform\":{\"id\":\"2502\"}},\"hatch_alpha\":{\"value\":0.1},\"line_alpha\":{\"value\":0.1},\"marker\":{\"value\":\"inverted_triangle\"},\"size\":{\"field\":\"marker_size\"},\"x\":{\"field\":\"index\"},\"y\":{\"field\":\"returns_short\"}},\"id\":\"2694\",\"type\":\"Scatter\"},{\"attributes\":{},\"id\":\"2791\",\"type\":\"Selection\"},{\"attributes\":{\"coordinates\":null,\"formatter\":{\"id\":\"2505\"},\"group\":null,\"major_label_policy\":{\"id\":\"2785\"},\"ticker\":{\"id\":\"2476\"},\"visible\":false},\"id\":\"2475\",\"type\":\"LinearAxis\"},{\"attributes\":{\"callback\":null,\"formatters\":{\"@datetime\":\"datetime\"},\"mode\":\"vline\",\"point_policy\":\"follow_mouse\",\"renderers\":[{\"id\":\"2741\"}],\"tooltips\":[[\"Date\",\"@datetime{%c}\"],[\"Volume\",\"@Volume{0.00 a}\"]]},\"id\":\"2743\",\"type\":\"HoverTool\"},{\"attributes\":{\"fill_alpha\":{\"value\":0.2},\"fill_color\":{\"field\":\"returns_positive\",\"transform\":{\"id\":\"2502\"}},\"hatch_alpha\":{\"value\":0.2},\"line_alpha\":{\"value\":0.2},\"marker\":{\"value\":\"triangle\"},\"size\":{\"field\":\"marker_size\"},\"x\":{\"field\":\"index\"},\"y\":{\"field\":\"returns_long\"}},\"id\":\"2689\",\"type\":\"Scatter\"},{\"attributes\":{\"fill_alpha\":{\"value\":0.2},\"fill_color\":{\"field\":\"inc\",\"transform\":{\"id\":\"2501\"}},\"hatch_alpha\":{\"value\":0.2},\"hatch_color\":{\"field\":\"inc\",\"transform\":{\"id\":\"2501\"}},\"line_alpha\":{\"value\":0.2},\"line_color\":{\"field\":\"inc\",\"transform\":{\"id\":\"2501\"}},\"top\":{\"field\":\"Volume\"},\"width\":{\"value\":0.8},\"x\":{\"field\":\"index\"}},\"id\":\"2740\",\"type\":\"VBar\"},{\"attributes\":{\"bottom_units\":\"screen\",\"coordinates\":null,\"fill_alpha\":0.5,\"fill_color\":\"lightgrey\",\"group\":null,\"left_units\":\"screen\",\"level\":\"overlay\",\"line_alpha\":1.0,\"line_color\":\"black\",\"line_dash\":[4,4],\"line_width\":2,\"right_units\":\"screen\",\"syncable\":false,\"top_units\":\"screen\"},\"id\":\"2530\",\"type\":\"BoxAnnotation\"},{\"attributes\":{\"coordinates\":null,\"data_source\":{\"id\":\"2500\"},\"glyph\":{\"id\":\"2687\"},\"group\":null,\"hover_glyph\":null,\"muted_glyph\":{\"id\":\"2689\"},\"nonselection_glyph\":{\"id\":\"2688\"},\"view\":{\"id\":\"2691\"}},\"id\":\"2690\",\"type\":\"GlyphRenderer\"},{\"attributes\":{},\"id\":\"2476\",\"type\":\"BasicTicker\"},{\"attributes\":{\"source\":{\"id\":\"2499\"}},\"id\":\"2742\",\"type\":\"CDSView\"},{\"attributes\":{},\"id\":\"2572\",\"type\":\"Selection\"},{\"attributes\":{},\"id\":\"2708\",\"type\":\"LinearScale\"},{\"attributes\":{},\"id\":\"2785\",\"type\":\"AllLabels\"},{\"attributes\":{\"format\":\"0 a\"},\"id\":\"2745\",\"type\":\"NumeralTickFormatter\"},{\"attributes\":{},\"id\":\"2471\",\"type\":\"LinearScale\"},{\"attributes\":{\"fill_color\":{\"value\":\"red\"},\"hatch_color\":{\"value\":\"red\"},\"line_color\":{\"value\":\"red\"},\"size\":{\"value\":8},\"x\":{\"value\":237},\"y\":{\"value\":0.9458708374473576}},\"id\":\"2602\",\"type\":\"Scatter\"},{\"attributes\":{},\"id\":\"2473\",\"type\":\"LinearScale\"},{\"attributes\":{\"source\":{\"id\":\"2500\"}},\"id\":\"2691\",\"type\":\"CDSView\"},{\"attributes\":{\"fill_alpha\":{\"value\":0.1},\"fill_color\":{\"field\":\"returns_positive\",\"transform\":{\"id\":\"2502\"}},\"hatch_alpha\":{\"value\":0.1},\"line_alpha\":{\"value\":0.1},\"marker\":{\"value\":\"triangle\"},\"size\":{\"field\":\"marker_size\"},\"x\":{\"field\":\"index\"},\"y\":{\"field\":\"returns_long\"}},\"id\":\"2688\",\"type\":\"Scatter\"},{\"attributes\":{\"factors\":[\"0\",\"1\"],\"palette\":[\"rgb(178.5, 27.163043478260846, 0.0)\",\"rgb(0.0, 178.5, 0.0)\"]},\"id\":\"2503\",\"type\":\"CategoricalColorMapper\"},{\"attributes\":{\"coordinates\":null,\"data_source\":{\"id\":\"2499\"},\"glyph\":{\"id\":\"2762\"},\"group\":null,\"hover_glyph\":null,\"muted_glyph\":{\"id\":\"2764\"},\"nonselection_glyph\":{\"id\":\"2763\"},\"view\":{\"id\":\"2766\"}},\"id\":\"2765\",\"type\":\"GlyphRenderer\"},{\"attributes\":{\"coordinates\":null,\"group\":null},\"id\":\"2779\",\"type\":\"Title\"},{\"attributes\":{\"source\":{\"id\":\"2500\"}},\"id\":\"2697\",\"type\":\"CDSView\"},{\"attributes\":{},\"id\":\"2903\",\"type\":\"AllLabels\"},{\"attributes\":{\"fill_alpha\":{\"value\":0.2},\"fill_color\":{\"field\":\"returns_positive\",\"transform\":{\"id\":\"2502\"}},\"hatch_alpha\":{\"value\":0.2},\"line_alpha\":{\"value\":0.2},\"marker\":{\"value\":\"inverted_triangle\"},\"size\":{\"field\":\"marker_size\"},\"x\":{\"field\":\"index\"},\"y\":{\"field\":\"returns_short\"}},\"id\":\"2695\",\"type\":\"Scatter\"},{\"attributes\":{\"bottom\":{\"field\":\"Close\"},\"fill_alpha\":{\"value\":0.1},\"fill_color\":{\"field\":\"inc\",\"transform\":{\"id\":\"2501\"}},\"hatch_alpha\":{\"value\":0.1},\"line_alpha\":{\"value\":0.1},\"top\":{\"field\":\"Open\"},\"width\":{\"value\":0.8},\"x\":{\"field\":\"index\"}},\"id\":\"2769\",\"type\":\"VBar\"},{\"attributes\":{\"below\":[{\"id\":\"2712\"}],\"center\":[{\"id\":\"2715\"},{\"id\":\"2719\"}],\"height\":90,\"left\":[{\"id\":\"2716\"}],\"min_border_bottom\":6,\"min_border_left\":0,\"min_border_right\":10,\"min_border_top\":3,\"outline_line_color\":\"#666666\",\"renderers\":[{\"id\":\"2741\"}],\"sizing_mode\":\"stretch_width\",\"title\":{\"id\":\"2898\"},\"toolbar\":{\"id\":\"2728\"},\"toolbar_location\":null,\"width\":null,\"x_range\":{\"id\":\"2466\"},\"x_scale\":{\"id\":\"2708\"},\"y_range\":{\"id\":\"2706\"},\"y_scale\":{\"id\":\"2710\"}},\"id\":\"2704\",\"subtype\":\"Figure\",\"type\":\"Plot\"},{\"attributes\":{},\"id\":\"2786\",\"type\":\"UnionRenderers\"},{\"attributes\":{\"coordinates\":null,\"data_source\":{\"id\":\"2500\"},\"glyph\":{\"id\":\"2693\"},\"group\":null,\"hover_glyph\":null,\"muted_glyph\":{\"id\":\"2695\"},\"nonselection_glyph\":{\"id\":\"2694\"},\"view\":{\"id\":\"2697\"}},\"id\":\"2696\",\"type\":\"GlyphRenderer\"},{\"attributes\":{\"data\":{},\"selected\":{\"id\":\"2623\"},\"selection_policy\":{\"id\":\"2622\"}},\"id\":\"2601\",\"type\":\"ColumnDataSource\"},{\"attributes\":{\"below\":[{\"id\":\"2475\"}],\"center\":[{\"id\":\"2478\"},{\"id\":\"2482\"},{\"id\":\"2793\"}],\"height\":400,\"left\":[{\"id\":\"2479\"}],\"min_border_bottom\":6,\"min_border_left\":0,\"min_border_right\":10,\"min_border_top\":3,\"outline_line_color\":\"#666666\",\"renderers\":[{\"id\":\"2752\"},{\"id\":\"2759\"},{\"id\":\"2765\"},{\"id\":\"2771\"},{\"id\":\"2777\"},{\"id\":\"2799\"},{\"id\":\"2820\"}],\"sizing_mode\":\"stretch_width\",\"title\":{\"id\":\"2779\"},\"toolbar\":{\"id\":\"2491\"},\"toolbar_location\":null,\"width\":null,\"x_range\":{\"id\":\"2466\"},\"x_scale\":{\"id\":\"2471\"},\"y_range\":{\"id\":\"2469\"},\"y_scale\":{\"id\":\"2473\"}},\"id\":\"2467\",\"subtype\":\"Figure\",\"type\":\"Plot\"},{\"attributes\":{\"fill_alpha\":{\"value\":0.1},\"fill_color\":{\"value\":\"red\"},\"hatch_alpha\":{\"value\":0.1},\"hatch_color\":{\"value\":\"red\"},\"line_alpha\":{\"value\":0.1},\"line_color\":{\"value\":\"red\"},\"size\":{\"value\":8},\"x\":{\"value\":237},\"y\":{\"value\":0.9458708374473576}},\"id\":\"2603\",\"type\":\"Scatter\"},{\"attributes\":{},\"id\":\"2873\",\"type\":\"AllLabels\"},{\"attributes\":{},\"id\":\"2488\",\"type\":\"ResetTool\"},{\"attributes\":{\"fill_color\":{\"field\":\"inc\",\"transform\":{\"id\":\"2501\"}},\"hatch_color\":{\"field\":\"inc\",\"transform\":{\"id\":\"2501\"}},\"line_color\":{\"field\":\"inc\",\"transform\":{\"id\":\"2501\"}},\"top\":{\"field\":\"Volume\"},\"width\":{\"value\":0.8},\"x\":{\"field\":\"index\"}},\"id\":\"2738\",\"type\":\"VBar\"},{\"attributes\":{},\"id\":\"2787\",\"type\":\"Selection\"},{\"attributes\":{\"callback\":null,\"formatters\":{\"@datetime\":\"datetime\"},\"point_policy\":\"follow_mouse\",\"renderers\":[{\"id\":\"2690\"}],\"tooltips\":[[\"Date\",\"@datetime{%c}\"],[\"Size\",\"@size{0,0}\"],[\"P/L\",\"@returns_long{+0.[000]%}\"]]},\"id\":\"2698\",\"type\":\"HoverTool\"},{\"attributes\":{},\"id\":\"2480\",\"type\":\"BasicTicker\"},{\"attributes\":{},\"id\":\"2622\",\"type\":\"UnionRenderers\"},{\"attributes\":{\"source\":{\"id\":\"2601\"}},\"id\":\"2606\",\"type\":\"CDSView\"},{\"attributes\":{\"source\":{\"id\":\"2500\"}},\"id\":\"2778\",\"type\":\"CDSView\"},{\"attributes\":{\"coordinates\":null,\"group\":null},\"id\":\"2898\",\"type\":\"Title\"},{\"attributes\":{\"label\":{\"value\":\"Max Drawdown (-5.4%)\"},\"renderers\":[{\"id\":\"2605\"}]},\"id\":\"2625\",\"type\":\"LegendItem\"},{\"attributes\":{\"format\":\"0.[00]%\"},\"id\":\"2702\",\"type\":\"NumeralTickFormatter\"},{\"attributes\":{\"coordinates\":null,\"data_source\":{\"id\":\"2499\"},\"glyph\":{\"id\":\"2796\"},\"group\":null,\"hover_glyph\":null,\"muted_glyph\":{\"id\":\"2798\"},\"nonselection_glyph\":{\"id\":\"2797\"},\"view\":{\"id\":\"2800\"}},\"id\":\"2799\",\"type\":\"GlyphRenderer\"},{\"attributes\":{\"callback\":null,\"formatters\":{\"@datetime\":\"datetime\"},\"point_policy\":\"follow_mouse\",\"renderers\":[{\"id\":\"2696\"}],\"tooltips\":[[\"Date\",\"@datetime{%c}\"],[\"Size\",\"@size{0,0}\"],[\"P/L\",\"@returns_short{+0.[000]%}\"]]},\"id\":\"2700\",\"type\":\"HoverTool\"},{\"attributes\":{},\"id\":\"2875\",\"type\":\"BasicTickFormatter\"},{\"attributes\":{\"coordinates\":null,\"data_source\":{\"id\":\"2601\"},\"glyph\":{\"id\":\"2602\"},\"group\":null,\"hover_glyph\":null,\"muted_glyph\":{\"id\":\"2604\"},\"nonselection_glyph\":{\"id\":\"2603\"},\"view\":{\"id\":\"2606\"}},\"id\":\"2605\",\"type\":\"GlyphRenderer\"},{\"attributes\":{\"source\":{\"id\":\"2499\"}},\"id\":\"2772\",\"type\":\"CDSView\"},{\"attributes\":{\"line_color\":\"#ff7f0e\",\"line_width\":1.3,\"x\":{\"field\":\"index\"},\"y\":{\"field\":\"SMA(C,20)_1_1\"}},\"id\":\"2817\",\"type\":\"Line\"},{\"attributes\":{\"axis\":{\"id\":\"2479\"},\"coordinates\":null,\"dimension\":1,\"group\":null,\"ticker\":null},\"id\":\"2482\",\"type\":\"Grid\"},{\"attributes\":{\"coordinates\":null,\"data_source\":{\"id\":\"2499\"},\"glyph\":{\"id\":\"2768\"},\"group\":null,\"hover_glyph\":null,\"muted_glyph\":{\"id\":\"2770\"},\"nonselection_glyph\":{\"id\":\"2769\"},\"view\":{\"id\":\"2772\"}},\"id\":\"2771\",\"type\":\"GlyphRenderer\"},{\"attributes\":{\"coordinates\":null,\"formatter\":{\"id\":\"2505\"},\"group\":null,\"major_label_policy\":{\"id\":\"2903\"},\"ticker\":{\"id\":\"2713\"},\"visible\":true},\"id\":\"2712\",\"type\":\"LinearAxis\"},{\"attributes\":{\"below\":[{\"id\":\"2661\"}],\"center\":[{\"id\":\"2664\"},{\"id\":\"2668\"},{\"id\":\"2685\"}],\"height\":90,\"left\":[{\"id\":\"2665\"}],\"min_border_bottom\":6,\"min_border_left\":0,\"min_border_right\":10,\"min_border_top\":3,\"outline_line_color\":\"#666666\",\"renderers\":[{\"id\":\"2690\"},{\"id\":\"2696\"}],\"sizing_mode\":\"stretch_width\",\"title\":{\"id\":\"2870\"},\"toolbar\":{\"id\":\"2677\"},\"toolbar_location\":null,\"width\":null,\"x_range\":{\"id\":\"2466\"},\"x_scale\":{\"id\":\"2657\"},\"y_range\":{\"id\":\"2655\"},\"y_scale\":{\"id\":\"2659\"}},\"id\":\"2653\",\"subtype\":\"Figure\",\"type\":\"Plot\"},{\"attributes\":{\"overlay\":{\"id\":\"2490\"}},\"id\":\"2485\",\"type\":\"BoxZoomTool\"},{\"attributes\":{\"coordinates\":null,\"data_source\":{\"id\":\"2626\"},\"glyph\":{\"id\":\"2627\"},\"group\":null,\"hover_glyph\":null,\"muted_glyph\":{\"id\":\"2629\"},\"nonselection_glyph\":{\"id\":\"2628\"},\"view\":{\"id\":\"2631\"}},\"id\":\"2630\",\"type\":\"GlyphRenderer\"},{\"attributes\":{\"fill_alpha\":{\"value\":0.2},\"fill_color\":{\"value\":\"red\"},\"hatch_alpha\":{\"value\":0.2},\"hatch_color\":{\"value\":\"red\"},\"line_alpha\":{\"value\":0.2},\"line_color\":{\"value\":\"red\"},\"size\":{\"value\":8},\"x\":{\"value\":237},\"y\":{\"value\":0.9458708374473576}},\"id\":\"2604\",\"type\":\"Scatter\"},{\"attributes\":{},\"id\":\"2876\",\"type\":\"AllLabels\"},{\"attributes\":{},\"id\":\"2486\",\"type\":\"UndoTool\"},{\"attributes\":{\"bottom\":{\"field\":\"Close\"},\"fill_color\":{\"field\":\"inc\",\"transform\":{\"id\":\"2501\"}},\"top\":{\"field\":\"Open\"},\"width\":{\"value\":0.8},\"x\":{\"field\":\"index\"}},\"id\":\"2768\",\"type\":\"VBar\"},{\"attributes\":{\"line_alpha\":0.2,\"line_color\":\"#ff7f0e\",\"line_width\":1.3,\"x\":{\"field\":\"index\"},\"y\":{\"field\":\"SMA(C,20)_1_1\"}},\"id\":\"2819\",\"type\":\"Line\"},{\"attributes\":{\"source\":{\"id\":\"2499\"}},\"id\":\"2821\",\"type\":\"CDSView\"},{\"attributes\":{},\"id\":\"2597\",\"type\":\"UnionRenderers\"},{\"attributes\":{\"dimensions\":\"width\",\"maintain_focus\":false},\"id\":\"2484\",\"type\":\"WheelZoomTool\"},{\"attributes\":{\"source\":{\"id\":\"2539\"}},\"id\":\"2545\",\"type\":\"CDSView\"},{\"attributes\":{\"bottom\":{\"field\":\"Close\"},\"fill_alpha\":{\"value\":0.2},\"fill_color\":{\"field\":\"inc\",\"transform\":{\"id\":\"2501\"}},\"hatch_alpha\":{\"value\":0.2},\"line_alpha\":{\"value\":0.2},\"top\":{\"field\":\"Open\"},\"width\":{\"value\":0.8},\"x\":{\"field\":\"index\"}},\"id\":\"2770\",\"type\":\"VBar\"},{\"attributes\":{},\"id\":\"2710\",\"type\":\"LinearScale\"},{\"attributes\":{\"dimensions\":\"width\"},\"id\":\"2483\",\"type\":\"PanTool\"},{\"attributes\":{\"line_color\":{\"field\":\"returns_positive\",\"transform\":{\"id\":\"2503\"}},\"line_dash\":{\"value\":\"dotted\"},\"line_width\":{\"value\":8},\"xs\":{\"field\":\"position_lines_xs\"},\"ys\":{\"field\":\"position_lines_ys\"}},\"id\":\"2774\",\"type\":\"MultiLine\"},{\"attributes\":{\"line_alpha\":{\"value\":0.2},\"line_color\":{\"value\":\"#bbbbbb\"},\"x0\":{\"field\":\"index\"},\"x1\":{\"field\":\"index\"},\"y0\":{\"field\":\"High\"},\"y1\":{\"field\":\"Low\"}},\"id\":\"2751\",\"type\":\"Segment\"},{\"attributes\":{\"label\":{\"value\":\"SMA(C,20)\"},\"renderers\":[{\"id\":\"2820\"}]},\"id\":\"2836\",\"type\":\"LegendItem\"},{\"attributes\":{\"bottom_units\":\"screen\",\"coordinates\":null,\"fill_alpha\":0.5,\"fill_color\":\"lightgrey\",\"group\":null,\"left_units\":\"screen\",\"level\":\"overlay\",\"line_alpha\":1.0,\"line_color\":\"black\",\"line_dash\":[4,4],\"line_width\":2,\"right_units\":\"screen\",\"syncable\":false,\"top_units\":\"screen\"},\"id\":\"2490\",\"type\":\"BoxAnnotation\"},{\"attributes\":{\"coordinates\":null,\"data_source\":{\"id\":\"2500\"},\"glyph\":{\"id\":\"2774\"},\"group\":null,\"hover_glyph\":null,\"muted_glyph\":{\"id\":\"2776\"},\"nonselection_glyph\":{\"id\":\"2775\"},\"view\":{\"id\":\"2778\"}},\"id\":\"2777\",\"type\":\"GlyphRenderer\"},{\"attributes\":{\"dimensions\":\"width\",\"maintain_focus\":false},\"id\":\"2721\",\"type\":\"WheelZoomTool\"},{\"attributes\":{},\"id\":\"2520\",\"type\":\"BasicTicker\"},{\"attributes\":{},\"id\":\"2706\",\"type\":\"DataRange1d\"},{\"attributes\":{},\"id\":\"2487\",\"type\":\"RedoTool\"},{\"attributes\":{\"factors\":[\"0\",\"1\"],\"palette\":[\"tomato\",\"lime\"]},\"id\":\"2501\",\"type\":\"CategoricalColorMapper\"},{\"attributes\":{\"axis_label\":\"Volume\",\"coordinates\":null,\"formatter\":{\"id\":\"2745\"},\"group\":null,\"major_label_policy\":{\"id\":\"2901\"},\"minor_tick_line_color\":null,\"ticker\":{\"id\":\"2717\"}},\"id\":\"2716\",\"type\":\"LinearAxis\"},{\"attributes\":{\"overlay\":{\"id\":\"2530\"}},\"id\":\"2525\",\"type\":\"BoxZoomTool\"},{\"attributes\":{\"active_drag\":{\"id\":\"2523\"},\"active_scroll\":{\"id\":\"2524\"},\"tools\":[{\"id\":\"2523\"},{\"id\":\"2524\"},{\"id\":\"2525\"},{\"id\":\"2526\"},{\"id\":\"2527\"},{\"id\":\"2528\"},{\"id\":\"2529\"},{\"id\":\"2552\"},{\"id\":\"2840\"}]},\"id\":\"2531\",\"type\":\"Toolbar\"},{\"attributes\":{\"coordinates\":null,\"formatter\":{\"id\":\"2567\"},\"group\":null,\"major_label_policy\":{\"id\":\"2568\"},\"ticker\":{\"id\":\"2516\"},\"visible\":false},\"id\":\"2515\",\"type\":\"LinearAxis\"},{\"attributes\":{},\"id\":\"2489\",\"type\":\"SaveTool\"},{\"attributes\":{\"axis\":{\"id\":\"2712\"},\"coordinates\":null,\"group\":null,\"ticker\":null},\"id\":\"2715\",\"type\":\"Grid\"},{\"attributes\":{\"fill_alpha\":0.1,\"fill_color\":\"#ffffea\",\"hatch_alpha\":0.1,\"line_alpha\":0.1,\"line_color\":\"#ffcb66\",\"x\":{\"field\":\"index\"},\"y\":{\"field\":\"equity_dd\"}},\"id\":\"2542\",\"type\":\"Patch\"},{\"attributes\":{\"line_alpha\":{\"value\":0.1},\"line_color\":{\"value\":\"#bbbbbb\"},\"x0\":{\"field\":\"index\"},\"x1\":{\"field\":\"index\"},\"y0\":{\"field\":\"High\"},\"y1\":{\"field\":\"Low\"}},\"id\":\"2750\",\"type\":\"Segment\"},{\"attributes\":{},\"id\":\"2527\",\"type\":\"RedoTool\"},{\"attributes\":{\"bottom\":{\"field\":\"Close\"},\"fill_color\":{\"field\":\"inc\",\"transform\":{\"id\":\"2754\"}},\"line_color\":{\"value\":null},\"top\":{\"field\":\"Open\"},\"width\":{\"field\":\"_width\"},\"x\":{\"field\":\"index\"}},\"id\":\"2756\",\"type\":\"VBar\"},{\"attributes\":{\"label\":{\"value\":\"SMA(C,10)\"},\"renderers\":[{\"id\":\"2799\"}]},\"id\":\"2815\",\"type\":\"LegendItem\"},{\"attributes\":{\"dimensions\":\"width\"},\"id\":\"2523\",\"type\":\"PanTool\"},{\"attributes\":{\"factors\":[\"0\",\"1\"],\"palette\":[\"tomato\",\"lime\"]},\"id\":\"2502\",\"type\":\"CategoricalColorMapper\"},{\"attributes\":{\"factors\":[\"0\",\"1\"],\"palette\":[\"rgb(254.99999999999997, 220.40869565217392, 214.20000000000005)\",\"rgb(214.20000000000005, 254.99999999999997, 214.20000000000005)\"]},\"id\":\"2754\",\"type\":\"CategoricalColorMapper\"},{\"attributes\":{\"coordinates\":null,\"data_source\":{\"id\":\"2499\"},\"glyph\":{\"id\":\"2547\"},\"group\":null,\"hover_glyph\":null,\"muted_glyph\":{\"id\":\"2549\"},\"nonselection_glyph\":{\"id\":\"2548\"},\"view\":{\"id\":\"2551\"}},\"id\":\"2550\",\"type\":\"GlyphRenderer\"},{\"attributes\":{},\"id\":\"2528\",\"type\":\"ResetTool\"},{\"attributes\":{\"axis\":{\"id\":\"2716\"},\"coordinates\":null,\"dimension\":1,\"group\":null,\"ticker\":null},\"id\":\"2719\",\"type\":\"Grid\"},{\"attributes\":{},\"id\":\"2526\",\"type\":\"UndoTool\"},{\"attributes\":{\"fill_alpha\":0.2,\"fill_color\":\"#ffffea\",\"hatch_alpha\":0.2,\"line_alpha\":0.2,\"line_color\":\"#ffcb66\",\"x\":{\"field\":\"index\"},\"y\":{\"field\":\"equity_dd\"}},\"id\":\"2543\",\"type\":\"Patch\"},{\"attributes\":{\"coordinates\":null,\"data_source\":{\"id\":\"2539\"},\"glyph\":{\"id\":\"2541\"},\"group\":null,\"hover_glyph\":null,\"muted_glyph\":{\"id\":\"2543\"},\"nonselection_glyph\":{\"id\":\"2542\"},\"view\":{\"id\":\"2545\"}},\"id\":\"2544\",\"type\":\"GlyphRenderer\"},{\"attributes\":{},\"id\":\"2529\",\"type\":\"SaveTool\"},{\"attributes\":{\"x0\":{\"field\":\"index\"},\"x1\":{\"field\":\"index\"},\"y0\":{\"field\":\"High\"},\"y1\":{\"field\":\"Low\"}},\"id\":\"2762\",\"type\":\"Segment\"},{\"attributes\":{\"line_alpha\":0.1,\"line_color\":\"#1f77b4\",\"line_width\":1.5,\"x\":{\"field\":\"index\"},\"y\":{\"field\":\"equity\"}},\"id\":\"2548\",\"type\":\"Line\"},{\"attributes\":{\"data\":{\"datetime\":{\"__ndarray__\":\"AAAAgZ8DeEIAAABa7xZ4QgAAQCkTL3hCAADAfnE3eEIAAIBHzVJ4QgAAQEtManhC\",\"dtype\":\"float64\",\"order\":\"little\",\"shape\":[6]},\"exit_price\":{\"__ndarray__\":\"AAAAAAAAM0AAAACgmRkxQAAAAIDC9TBAAAAAwPVoMEAAAABgj0IwQAAAAKCZGTFA\",\"dtype\":\"float64\",\"order\":\"little\",\"shape\":[6]},\"index\":[85,127,180,197,257,299],\"marker_size\":{\"__ndarray__\":\"AAAAAAAAIECqqqqqqqotQAAAAAAAADFAVVVVVVXVMkAAAAAAAAA0QKqqqqqqKjFA\",\"dtype\":\"float64\",\"order\":\"little\",\"shape\":[6]},\"position_lines_xs\":[[70,85],[122,127],[155,180],[196,197],[227,257],[272,299]],\"position_lines_ys\":[[19.398720611572266,19.0],[17.615159923553467,17.100000381469727],[16.683299617767332,16.959999084472656],[16.663259159088135,16.40999984741211],[16.202340076446532,16.260000228881836],[16.733400764465333,17.100000381469727]],\"returns_long\":{\"__ndarray__\":\"QMZ3MhkMlb9A5NywdvKdv0A6mm/E+5A/wP3ebXogj78APDnVPydtP8BvJiEeb5Y/\",\"dtype\":\"float64\",\"order\":\"little\",\"shape\":[6]},\"returns_positive\":[\"0\",\"0\",\"1\",\"0\",\"1\",\"1\"],\"returns_short\":{\"__ndarray__\":\"AAAAAAAA+H8AAAAAAAD4fwAAAAAAAPh/AAAAAAAA+H8AAAAAAAD4fwAAAAAAAPh/\",\"dtype\":\"float64\",\"order\":\"little\",\"shape\":[6]},\"size\":[515,556,569,580,587,570]},\"selected\":{\"id\":\"2791\"},\"selection_policy\":{\"id\":\"2790\"}},\"id\":\"2500\",\"type\":\"ColumnDataSource\"},{\"attributes\":{\"source\":{\"id\":\"2747\"}},\"id\":\"2753\",\"type\":\"CDSView\"},{\"attributes\":{},\"id\":\"2717\",\"type\":\"BasicTicker\"},{\"attributes\":{\"bottom_units\":\"screen\",\"coordinates\":null,\"fill_alpha\":0.5,\"fill_color\":\"lightgrey\",\"group\":null,\"left_units\":\"screen\",\"level\":\"overlay\",\"line_alpha\":1.0,\"line_color\":\"black\",\"line_dash\":[4,4],\"line_width\":2,\"right_units\":\"screen\",\"syncable\":false,\"top_units\":\"screen\"},\"id\":\"2727\",\"type\":\"BoxAnnotation\"},{\"attributes\":{\"coordinates\":null,\"data_source\":{\"id\":\"2747\"},\"glyph\":{\"id\":\"2756\"},\"group\":null,\"hover_glyph\":null,\"muted_glyph\":{\"id\":\"2758\"},\"nonselection_glyph\":{\"id\":\"2757\"},\"view\":{\"id\":\"2760\"}},\"id\":\"2759\",\"type\":\"GlyphRenderer\"},{\"attributes\":{\"dimensions\":\"width\"},\"id\":\"2720\",\"type\":\"PanTool\"},{\"attributes\":{\"fill_color\":\"#ffffea\",\"line_color\":\"#ffcb66\",\"x\":{\"field\":\"index\"},\"y\":{\"field\":\"equity_dd\"}},\"id\":\"2541\",\"type\":\"Patch\"},{\"attributes\":{},\"id\":\"2901\",\"type\":\"AllLabels\"},{\"attributes\":{\"active_drag\":{\"id\":\"2720\"},\"active_scroll\":{\"id\":\"2721\"},\"tools\":[{\"id\":\"2720\"},{\"id\":\"2721\"},{\"id\":\"2722\"},{\"id\":\"2723\"},{\"id\":\"2724\"},{\"id\":\"2725\"},{\"id\":\"2726\"},{\"id\":\"2743\"},{\"id\":\"2840\"}]},\"id\":\"2728\",\"type\":\"Toolbar\"},{\"attributes\":{\"label\":{\"value\":\"Final (98%)\"},\"renderers\":[{\"id\":\"2582\"}]},\"id\":\"2600\",\"type\":\"LegendItem\"},{\"attributes\":{\"axis\":{\"id\":\"2515\"},\"coordinates\":null,\"group\":null,\"ticker\":null},\"id\":\"2518\",\"type\":\"Grid\"},{\"attributes\":{\"line_color\":\"#1f77b4\",\"line_width\":1.5,\"x\":{\"field\":\"index\"},\"y\":{\"field\":\"equity\"}},\"id\":\"2547\",\"type\":\"Line\"},{\"attributes\":{},\"id\":\"2713\",\"type\":\"BasicTicker\"},{\"attributes\":{\"axis\":{\"id\":\"2519\"},\"coordinates\":null,\"dimension\":1,\"group\":null,\"ticker\":null},\"id\":\"2522\",\"type\":\"Grid\"},{\"attributes\":{\"source\":{\"id\":\"2578\"}},\"id\":\"2583\",\"type\":\"CDSView\"},{\"attributes\":{\"bottom\":{\"field\":\"Close\"},\"fill_alpha\":{\"value\":0.1},\"fill_color\":{\"field\":\"inc\",\"transform\":{\"id\":\"2754\"}},\"hatch_alpha\":{\"value\":0.1},\"line_alpha\":{\"value\":0.1},\"line_color\":{\"value\":null},\"top\":{\"field\":\"Open\"},\"width\":{\"field\":\"_width\"},\"x\":{\"field\":\"index\"}},\"id\":\"2757\",\"type\":\"VBar\"},{\"attributes\":{\"logo\":null,\"toolbars\":[{\"id\":\"2531\"},{\"id\":\"2677\"},{\"id\":\"2491\"},{\"id\":\"2728\"}],\"tools\":[{\"id\":\"2523\"},{\"id\":\"2524\"},{\"id\":\"2525\"},{\"id\":\"2526\"},{\"id\":\"2527\"},{\"id\":\"2528\"},{\"id\":\"2529\"},{\"id\":\"2552\"},{\"id\":\"2840\"},{\"id\":\"2669\"},{\"id\":\"2670\"},{\"id\":\"2671\"},{\"id\":\"2672\"},{\"id\":\"2673\"},{\"id\":\"2674\"},{\"id\":\"2675\"},{\"id\":\"2698\"},{\"id\":\"2700\"},{\"id\":\"2840\"},{\"id\":\"2483\"},{\"id\":\"2484\"},{\"id\":\"2485\"},{\"id\":\"2486\"},{\"id\":\"2487\"},{\"id\":\"2488\"},{\"id\":\"2489\"},{\"id\":\"2837\"},{\"id\":\"2840\"},{\"id\":\"2720\"},{\"id\":\"2721\"},{\"id\":\"2722\"},{\"id\":\"2723\"},{\"id\":\"2724\"},{\"id\":\"2725\"},{\"id\":\"2726\"},{\"id\":\"2743\"},{\"id\":\"2840\"}]},\"id\":\"2911\",\"type\":\"ProxyToolbar\"},{\"attributes\":{\"coordinates\":null,\"data_source\":{\"id\":\"2747\"},\"glyph\":{\"id\":\"2749\"},\"group\":null,\"hover_glyph\":null,\"muted_glyph\":{\"id\":\"2751\"},\"nonselection_glyph\":{\"id\":\"2750\"},\"view\":{\"id\":\"2753\"}},\"id\":\"2752\",\"type\":\"GlyphRenderer\"},{\"attributes\":{\"dimensions\":\"width\",\"maintain_focus\":false},\"id\":\"2524\",\"type\":\"WheelZoomTool\"},{\"attributes\":{\"callback\":null,\"formatters\":{\"@datetime\":\"datetime\"},\"mode\":\"vline\",\"point_policy\":\"follow_mouse\",\"renderers\":[{\"id\":\"2550\"}],\"tooltips\":[[\"Date\",\"@datetime{%c}\"],[\"Equity\",\"@equity{+0,0.[000]%}\"]]},\"id\":\"2552\",\"type\":\"HoverTool\"},{\"attributes\":{\"fill_color\":{\"value\":\"cyan\"},\"hatch_color\":{\"value\":\"cyan\"},\"line_color\":{\"value\":\"cyan\"},\"size\":{\"value\":8},\"x\":{\"value\":77},\"y\":{\"value\":1.0000658688583375}},\"id\":\"2557\",\"type\":\"Scatter\"},{\"attributes\":{\"fill_color\":{\"value\":\"blue\"},\"hatch_color\":{\"value\":\"blue\"},\"line_color\":{\"value\":\"blue\"},\"size\":{\"value\":8},\"x\":{\"value\":299},\"y\":{\"value\":0.9761590066596988}},\"id\":\"2579\",\"type\":\"Scatter\"},{\"attributes\":{},\"id\":\"2513\",\"type\":\"LinearScale\"},{\"attributes\":{\"line_alpha\":0.2,\"line_color\":\"#1f77b4\",\"line_width\":1.5,\"x\":{\"field\":\"index\"},\"y\":{\"field\":\"equity\"}},\"id\":\"2549\",\"type\":\"Line\"},{\"attributes\":{},\"id\":\"2516\",\"type\":\"BasicTicker\"},{\"attributes\":{\"source\":{\"id\":\"2556\"}},\"id\":\"2561\",\"type\":\"CDSView\"},{\"attributes\":{\"data\":{},\"selected\":{\"id\":\"2598\"},\"selection_policy\":{\"id\":\"2597\"}},\"id\":\"2578\",\"type\":\"ColumnDataSource\"},{\"attributes\":{\"line_alpha\":{\"value\":0.1},\"x0\":{\"field\":\"index\"},\"x1\":{\"field\":\"index\"},\"y0\":{\"field\":\"High\"},\"y1\":{\"field\":\"Low\"}},\"id\":\"2763\",\"type\":\"Segment\"},{\"attributes\":{\"border_line_color\":\"#333333\",\"click_policy\":\"hide\",\"coordinates\":null,\"group\":null,\"items\":[{\"id\":\"2794\"},{\"id\":\"2815\"},{\"id\":\"2836\"}],\"label_text_font_size\":\"8pt\",\"location\":\"top_left\",\"margin\":0,\"padding\":5,\"spacing\":0},\"id\":\"2793\",\"type\":\"Legend\"},{\"attributes\":{\"fill_alpha\":{\"value\":0.1},\"fill_color\":{\"value\":\"blue\"},\"hatch_alpha\":{\"value\":0.1},\"hatch_color\":{\"value\":\"blue\"},\"line_alpha\":{\"value\":0.1},\"line_color\":{\"value\":\"blue\"},\"size\":{\"value\":8},\"x\":{\"value\":299},\"y\":{\"value\":0.9761590066596988}},\"id\":\"2580\",\"type\":\"Scatter\"},{\"attributes\":{\"label\":{\"value\":\"Peak (100%)\"},\"renderers\":[{\"id\":\"2560\"}]},\"id\":\"2577\",\"type\":\"LegendItem\"},{\"attributes\":{\"source\":{\"id\":\"2499\"}},\"id\":\"2551\",\"type\":\"CDSView\"},{\"attributes\":{\"source\":{\"id\":\"2747\"}},\"id\":\"2760\",\"type\":\"CDSView\"},{\"attributes\":{\"label\":{\"value\":\"Trades (6)\"},\"renderers\":[{\"id\":\"2777\"}]},\"id\":\"2794\",\"type\":\"LegendItem\"},{\"attributes\":{\"coordinates\":null,\"data_source\":{\"id\":\"2578\"},\"glyph\":{\"id\":\"2579\"},\"group\":null,\"hover_glyph\":null,\"muted_glyph\":{\"id\":\"2581\"},\"nonselection_glyph\":{\"id\":\"2580\"},\"view\":{\"id\":\"2583\"}},\"id\":\"2582\",\"type\":\"GlyphRenderer\"},{\"attributes\":{\"toolbar\":{\"id\":\"2911\"}},\"id\":\"2912\",\"type\":\"ToolbarBox\"},{\"attributes\":{\"active_drag\":{\"id\":\"2483\"},\"active_scroll\":{\"id\":\"2484\"},\"tools\":[{\"id\":\"2483\"},{\"id\":\"2484\"},{\"id\":\"2485\"},{\"id\":\"2486\"},{\"id\":\"2487\"},{\"id\":\"2488\"},{\"id\":\"2489\"},{\"id\":\"2837\"},{\"id\":\"2840\"}]},\"id\":\"2491\",\"type\":\"Toolbar\"},{\"attributes\":{\"data\":{},\"selected\":{\"id\":\"2574\"},\"selection_policy\":{\"id\":\"2573\"}},\"id\":\"2556\",\"type\":\"ColumnDataSource\"},{\"attributes\":{\"fill_alpha\":{\"value\":0.1},\"fill_color\":{\"value\":\"cyan\"},\"hatch_alpha\":{\"value\":0.1},\"hatch_color\":{\"value\":\"cyan\"},\"line_alpha\":{\"value\":0.1},\"line_color\":{\"value\":\"cyan\"},\"size\":{\"value\":8},\"x\":{\"value\":77},\"y\":{\"value\":1.0000658688583375}},\"id\":\"2558\",\"type\":\"Scatter\"},{\"attributes\":{\"fill_alpha\":{\"value\":0.2},\"fill_color\":{\"value\":\"blue\"},\"hatch_alpha\":{\"value\":0.2},\"hatch_color\":{\"value\":\"blue\"},\"line_alpha\":{\"value\":0.2},\"line_color\":{\"value\":\"blue\"},\"size\":{\"value\":8},\"x\":{\"value\":299},\"y\":{\"value\":0.9761590066596988}},\"id\":\"2581\",\"type\":\"Scatter\"},{\"attributes\":{\"coordinates\":null,\"data_source\":{\"id\":\"2556\"},\"glyph\":{\"id\":\"2557\"},\"group\":null,\"hover_glyph\":null,\"muted_glyph\":{\"id\":\"2559\"},\"nonselection_glyph\":{\"id\":\"2558\"},\"view\":{\"id\":\"2561\"}},\"id\":\"2560\",\"type\":\"GlyphRenderer\"},{\"attributes\":{\"coordinates\":null,\"formatter\":{\"id\":\"2782\"},\"group\":null,\"major_label_policy\":{\"id\":\"2783\"},\"ticker\":{\"id\":\"2480\"}},\"id\":\"2479\",\"type\":\"LinearAxis\"},{\"attributes\":{},\"id\":\"2782\",\"type\":\"BasicTickFormatter\"},{\"attributes\":{\"line_alpha\":{\"value\":0.1},\"line_color\":{\"field\":\"returns_positive\",\"transform\":{\"id\":\"2503\"}},\"line_dash\":{\"value\":\"dotted\"},\"line_width\":{\"value\":8},\"xs\":{\"field\":\"position_lines_xs\"},\"ys\":{\"field\":\"position_lines_ys\"}},\"id\":\"2775\",\"type\":\"MultiLine\"},{\"attributes\":{},\"id\":\"2783\",\"type\":\"AllLabels\"},{\"attributes\":{\"format\":\"0,0.[00]%\"},\"id\":\"2554\",\"type\":\"NumeralTickFormatter\"},{\"attributes\":{\"axis\":{\"id\":\"2475\"},\"coordinates\":null,\"group\":null,\"ticker\":null},\"id\":\"2478\",\"type\":\"Grid\"},{\"attributes\":{\"line_alpha\":{\"value\":0.2},\"x0\":{\"field\":\"index\"},\"x1\":{\"field\":\"index\"},\"y0\":{\"field\":\"High\"},\"y1\":{\"field\":\"Low\"}},\"id\":\"2764\",\"type\":\"Segment\"},{\"attributes\":{},\"id\":\"2840\",\"type\":\"CrosshairTool\"},{\"attributes\":{\"children\":[[{\"id\":\"2507\"},0,0],[{\"id\":\"2653\"},1,0],[{\"id\":\"2467\"},2,0],[{\"id\":\"2704\"},3,0]]},\"id\":\"2910\",\"type\":\"GridBox\"},{\"attributes\":{\"border_line_color\":\"#333333\",\"click_policy\":\"hide\",\"coordinates\":null,\"group\":null,\"items\":[{\"id\":\"2577\"},{\"id\":\"2600\"},{\"id\":\"2625\"},{\"id\":\"2652\"}],\"label_text_font_size\":\"8pt\",\"location\":\"top_left\",\"margin\":0,\"padding\":5,\"spacing\":0},\"id\":\"2576\",\"type\":\"Legend\"},{\"attributes\":{\"callback\":null,\"formatters\":{\"@datetime\":\"datetime\"},\"mode\":\"vline\",\"point_policy\":\"follow_mouse\",\"renderers\":[{\"id\":\"2771\"}],\"tooltips\":[[\"Date\",\"@datetime{%c}\"],[\"x, y\",\"$index\\u00a0\\u00a0\\u00a0\\u00a0$y{0,0.0[0000]}\"],[\"OHLC\",\"@Open{0,0.0[0000]}\\u00a0\\u00a0\\u00a0\\u00a0@High{0,0.0[0000]}\\u00a0\\u00a0\\u00a0\\u00a0@Low{0,0.0[0000]}\\u00a0\\u00a0\\u00a0\\u00a0@Close{0,0.0[0000]}\"],[\"Volume\",\"@Volume{0,0}\"],[\"SMA(C,10)\",\"@{SMA(C,10)_0_1}{0,0.0[0000]}\"],[\"SMA(C,20)\",\"@{SMA(C,20)_1_1}{0,0.0[0000]}\"]]},\"id\":\"2837\",\"type\":\"HoverTool\"},{\"attributes\":{\"line_alpha\":{\"value\":0.2},\"line_color\":{\"field\":\"returns_positive\",\"transform\":{\"id\":\"2503\"}},\"line_dash\":{\"value\":\"dotted\"},\"line_width\":{\"value\":8},\"xs\":{\"field\":\"position_lines_xs\"},\"ys\":{\"field\":\"position_lines_ys\"}},\"id\":\"2776\",\"type\":\"MultiLine\"},{\"attributes\":{},\"id\":\"2509\",\"type\":\"DataRange1d\"},{\"attributes\":{\"data\":{\"x\":[77,299]},\"selected\":{\"id\":\"2650\"},\"selection_policy\":{\"id\":\"2649\"}},\"id\":\"2626\",\"type\":\"ColumnDataSource\"},{\"attributes\":{\"line_color\":{\"value\":\"#bbbbbb\"},\"x0\":{\"field\":\"index\"},\"x1\":{\"field\":\"index\"},\"y0\":{\"field\":\"High\"},\"y1\":{\"field\":\"Low\"}},\"id\":\"2749\",\"type\":\"Segment\"},{\"attributes\":{\"args\":{\"ohlc_range\":{\"id\":\"2469\"},\"source\":{\"id\":\"2499\"},\"volume_range\":{\"id\":\"2706\"}},\"code\":\"if (!window._bt_scale_range) {\\n    window._bt_scale_range = function (range, min, max, pad) {\\n        \\\"use strict\\\";\\n        if (min !== Infinity && max !== -Infinity) {\\n            pad = pad ? (max - min) * .03 : 0;\\n            range.start = min - pad;\\n            range.end = max + pad;\\n        } else console.error('backtesting: scale range error:', min, max, range);\\n    };\\n}\\n\\nclearTimeout(window._bt_autoscale_timeout);\\n\\nwindow._bt_autoscale_timeout = setTimeout(function () {\\n    /**\\n     * @variable cb_obj `fig_ohlc.x_range`.\\n     * @variable source `ColumnDataSource`\\n     * @variable ohlc_range `fig_ohlc.y_range`.\\n     * @variable volume_range `fig_volume.y_range`.\\n     */\\n    \\\"use strict\\\";\\n\\n    let i = Math.max(Math.floor(cb_obj.start), 0),\\n        j = Math.min(Math.ceil(cb_obj.end), source.data['ohlc_high'].length);\\n\\n    let max = Math.max.apply(null, source.data['ohlc_high'].slice(i, j)),\\n        min = Math.min.apply(null, source.data['ohlc_low'].slice(i, j));\\n    _bt_scale_range(ohlc_range, min, max, true);\\n\\n    if (volume_range) {\\n        max = Math.max.apply(null, source.data['Volume'].slice(i, j));\\n        _bt_scale_range(volume_range, 0, max * 1.03, false);\\n    }\\n\\n}, 50);\\n\"},\"id\":\"2839\",\"type\":\"CustomJS\"},{\"attributes\":{\"line_color\":\"red\",\"line_width\":2,\"x\":{\"field\":\"x\"},\"y\":{\"value\":1.0000658688583375}},\"id\":\"2627\",\"type\":\"Line\"},{\"attributes\":{\"data\":{\"Close\":{\"__ndarray__\":\"AAAAIIUrM0AAAABgjwIzQAAAAMAeBTNAAAAAoJlZM0AAAACA69EyQAAAAGC43jFAAAAAwPWoMEAAAABgZuYwQAAAACCuBzFAAAAAgD0KMEAAAABgZmYvQAAAAGBmpjBAAAAAIIUrMEAAAACgR+EwQAAAAKCZGTFAAAAAoEchMUA=\",\"dtype\":\"float64\",\"order\":\"little\",\"shape\":[16]},\"High\":{\"__ndarray__\":\"AAAA4KMwM0AAAABgj4IzQAAAACCuxzNAAAAAIIVrM0AAAAAghWszQAAAAMAeBTNAAAAAAAAAMkAAAACAwvUwQAAAAIAUbjFAAAAAQDMzMUAAAAAgrkcwQAAAACCuxzBAAAAAgD3KMEAAAAAgXA8xQAAAAGCPQjFAAAAAYGYmMUA=\",\"dtype\":\"float64\",\"order\":\"little\",\"shape\":[16]},\"Low\":{\"__ndarray__\":\"AAAAAACAMkAAAABgZuYyQAAAAOCj8DJAAAAAgMJ1MkAAAAAgrocyQAAAAEAKVzFAAAAAwPWoMEAAAADAzMwvQAAAAKBHoTBAAAAA4KPwL0AAAADA9aguQAAAAMDMTC9AAAAAwB4FMEAAAACAPQowQAAAAADX4zBAAAAA4KPwMEA=\",\"dtype\":\"float64\",\"order\":\"little\",\"shape\":[16]},\"Open\":{\"__ndarray__\":\"AAAAgOuRMkAAAABAMzMzQAAAAIAULjNAAAAAYLgeM0AAAADAHkUzQAAAAIDr0TJAAAAAACncMUAAAAAghaswQAAAAGBm5jBAAAAAIIXrMEAAAACA69EvQAAAAEDhei9AAAAAIK7HMEAAAABgZiYwQAAAAEAz8zBAAAAAgOsRMUA=\",\"dtype\":\"float64\",\"order\":\"little\",\"shape\":[16]},\"Volume\":[205448283,298542431,891499343,697736955,649835882,1115968002,857017104,844574687,1227770414,1374862803,1030376472,1005872356,989178342,548575390,1644250662,272537616],\"_width\":{\"__ndarray__\":\"ZmZmZmbmM0BmZmZmZuYxQM3MzMzMzC1AZmZmZmbmNkBmZmZmZuYyQGZmZmZm5jRAZmZmZmbmNEBmZmZmZuY0QGZmZmZm5jZAZmZmZmbmNEBmZmZmZuYzQGZmZmZm5jVAZmZmZmbmNUDNzMzMzMwpQGZmZmZm5jFAMzMzMzMzB0A=\",\"dtype\":\"float64\",\"order\":\"little\",\"shape\":[16]},\"inc\":[\"1\",\"0\",\"0\",\"1\",\"0\",\"0\",\"0\",\"1\",\"1\",\"0\",\"0\",\"1\",\"0\",\"1\",\"1\",\"1\"],\"index\":{\"__ndarray__\":\"AAAAAAAAI0AAAAAAAIA8QAAAAAAAgEZAAAAAAAAAUEAAAAAAAEBVQAAAAAAAQFpAAAAAAACAX0AAAAAAAGBiQAAAAAAAIGVAAAAAAADgZ0AAAAAAAHBqQAAAAAAAEG1AAAAAAADQb0AAAAAAAABxQAAAAAAA+HFAAAAAAACgckA=\",\"dtype\":\"float64\",\"order\":\"little\",\"shape\":[16]}},\"selected\":{\"id\":\"2787\"},\"selection_policy\":{\"id\":\"2786\"}},\"id\":\"2747\",\"type\":\"ColumnDataSource\"},{\"attributes\":{\"fill_alpha\":{\"value\":0.2},\"fill_color\":{\"value\":\"cyan\"},\"hatch_alpha\":{\"value\":0.2},\"hatch_color\":{\"value\":\"cyan\"},\"line_alpha\":{\"value\":0.2},\"line_color\":{\"value\":\"cyan\"},\"size\":{\"value\":8},\"x\":{\"value\":77},\"y\":{\"value\":1.0000658688583375}},\"id\":\"2559\",\"type\":\"Scatter\"},{\"attributes\":{\"bottom\":{\"field\":\"Close\"},\"fill_alpha\":{\"value\":0.2},\"fill_color\":{\"field\":\"inc\",\"transform\":{\"id\":\"2754\"}},\"hatch_alpha\":{\"value\":0.2},\"line_alpha\":{\"value\":0.2},\"line_color\":{\"value\":null},\"top\":{\"field\":\"Open\"},\"width\":{\"field\":\"_width\"},\"x\":{\"field\":\"index\"}},\"id\":\"2758\",\"type\":\"VBar\"},{\"attributes\":{\"source\":{\"id\":\"2499\"}},\"id\":\"2766\",\"type\":\"CDSView\"},{\"attributes\":{},\"id\":\"2598\",\"type\":\"Selection\"},{\"attributes\":{\"coordinates\":null,\"group\":null},\"id\":\"2562\",\"type\":\"Title\"},{\"attributes\":{},\"id\":\"2649\",\"type\":\"UnionRenderers\"},{\"attributes\":{\"line_alpha\":0.2,\"line_color\":\"red\",\"line_width\":2,\"x\":{\"field\":\"x\"},\"y\":{\"value\":1.0000658688583375}},\"id\":\"2629\",\"type\":\"Line\"},{\"attributes\":{},\"id\":\"2657\",\"type\":\"LinearScale\"},{\"attributes\":{\"source\":{\"id\":\"2626\"}},\"id\":\"2631\",\"type\":\"CDSView\"},{\"attributes\":{\"line_alpha\":0.1,\"line_color\":\"red\",\"line_width\":2,\"x\":{\"field\":\"x\"},\"y\":{\"value\":1.0000658688583375}},\"id\":\"2628\",\"type\":\"Line\"},{\"attributes\":{\"label\":{\"value\":\"Max Dd Dur. (331 days)\"},\"renderers\":[{\"id\":\"2630\"}]},\"id\":\"2652\",\"type\":\"LegendItem\"},{\"attributes\":{},\"id\":\"2650\",\"type\":\"Selection\"},{\"attributes\":{},\"id\":\"2623\",\"type\":\"Selection\"},{\"attributes\":{\"below\":[{\"id\":\"2515\"}],\"center\":[{\"id\":\"2518\"},{\"id\":\"2522\"},{\"id\":\"2576\"}],\"height\":110,\"left\":[{\"id\":\"2519\"}],\"min_border_bottom\":6,\"min_border_left\":0,\"min_border_right\":10,\"min_border_top\":3,\"outline_line_color\":\"#666666\",\"renderers\":[{\"id\":\"2544\"},{\"id\":\"2550\"},{\"id\":\"2560\"},{\"id\":\"2582\"},{\"id\":\"2605\"},{\"id\":\"2630\"}],\"sizing_mode\":\"stretch_width\",\"title\":{\"id\":\"2562\"},\"toolbar\":{\"id\":\"2531\"},\"toolbar_location\":null,\"width\":null,\"x_range\":{\"id\":\"2466\"},\"x_scale\":{\"id\":\"2511\"},\"y_range\":{\"id\":\"2509\"},\"y_scale\":{\"id\":\"2513\"}},\"id\":\"2507\",\"subtype\":\"Figure\",\"type\":\"Plot\"},{\"attributes\":{\"args\":{\"axis\":{\"id\":\"2475\"},\"formatter\":{\"id\":\"2504\"},\"source\":{\"id\":\"2499\"}},\"code\":\"\\nthis.labels = this.labels || formatter.doFormat(ticks\\n                                                .map(i => source.data.datetime[i])\\n                                                .filter(t => t !== undefined));\\nreturn this.labels[index] || \\\"\\\";\\n        \"},\"id\":\"2505\",\"type\":\"FuncTickFormatter\"},{\"attributes\":{\"days\":[\"%d %b\",\"%a %d\"],\"months\":[\"%m/%Y\",\"%b'%y\"]},\"id\":\"2504\",\"type\":\"DatetimeTickFormatter\"},{\"attributes\":{\"data\":{\"Close\":{\"__ndarray__\":\"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\",\"dtype\":\"float64\",\"order\":\"little\",\"shape\":[300]},\"High\":{\"__ndarray__\":\"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\",\"dtype\":\"float64\",\"order\":\"little\",\"shape\":[300]},\"Low\":{\"__ndarray__\":\"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\",\"dtype\":\"float64\",\"order\":\"little\",\"shape\":[300]},\"Open\":{\"__ndarray__\":\"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\",\"dtype\":\"float64\",\"order\":\"little\",\"shape\":[300]},\"SMA(C,10)_0_1\":{\"__ndarray__\":\"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\",\"dtype\":\"float64\",\"order\":\"little\",\"shape\":[300]},\"SMA(C,20)_1_1\":{\"__ndarray__\":\"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\",\"dtype\":\"float64\",\"order\":\"little\",\"shape\":[300]},\"Volume\":[7620787,10136409,10477185,13147207,11993920,12137746,12028887,15210465,8152020,10326685,7890696,15028936,7545875,6484943,8768052,7144493,9995277,11284499,11256173,8818028,19797676,12603157,10878748,15501338,14911358,11794183,11769117,12145316,12795107,19481162,13847886,11678136,15460325,7860507,35520858,22861144,35025167,14611246,23895689,27154077,29470185,27442682,30087288,67982144,60957697,36156440,36771503,68265085,102574030,121137148,60216589,119577708,79811078,28496496,21427283,16022079,38002524,120949216,106585827,34300386,28066556,22585734,18743081,31784168,21090425,28987039,17433803,17782061,16074940,20506479,12773863,17193139,31484737,14625997,14917357,17903765,19277326,26651310,37975624,15398490,39853797,35512890,16246876,28659686,37459180,65278081,21405978,27040195,19580779,34438355,75847431,24197770,65597679,28195492,31218943,26903683,42174779,37722102,92711602,120325465,58294720,52143923,112661225,44741866,86504974,81163855,68423689,53045660,19216430,39388290,49293366,20123716,30551776,20234967,27880136,32461778,34752556,24668840,31476767,26657080,13825818,26652292,31842673,83588538,43087128,19682412,34420055,89489119,82648716,29295462,42015139,38563285,24123609,27489542,22583337,28823326,101331410,87583816,50841860,42103651,67110076,40566471,40281267,24802174,71653856,35779009,49724010,48751366,30249730,20798396,39807564,23126806,27013218,24020034,30350712,19454004,36144922,34411745,33731427,72508123,50723082,51629108,34262082,43336524,40427414,51404745,42722520,45400418,101935258,90761560,45261146,35557998,35833521,30229000,87384322,51995351,25934358,32000062,134489947,49383216,40859232,135762606,75999626,34629814,35614729,89917056,31402097,32874397,25325244,54892966,23237680,67803698,39396819,18064664,72327183,105136078,67209755,144916268,58086343,105812500,77136439,79316841,92644260,42445878,42937214,41369447,34710887,138448257,48461771,98427170,42251534,85433265,45209137,35119333,62553200,32158672,36294290,46814742,28734002,21556901,28528469,26278043,26536013,58621904,48323372,38970842,40519846,43048782,36930156,39978125,58728722,71046069,80317400,84253265,43890571,54708786,42702198,38615842,26244073,32340294,33971428,46456393,23948332,35719943,51299476,32494659,36846105,73904125,37960615,51537977,22880503,43248671,54214234,21078843,20180278,93829278,46567408,117804563,67938152,24209319,31964597,18713189,18488353,47551797,55771931,20694269,45454931,20865801,23139034,28899770,67723997,39145495,22460724,33644551,32502050,44766925,31397759,88042031,70532322,45108058,91868014,79318893,127077569,71888793,57532007,72874340,121567989,117940152,98809984,197218475,143022554,91324708,53036365,38658369,119745595,59300530,57958267,108967222,127050826,36519568],\"datetime\":{\"__ndarray__\":\"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\",\"dtype\":\"float64\",\"order\":\"little\",\"shape\":[300]},\"equity\":{\"__ndarray__\":\"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\",\"dtype\":\"float64\",\"order\":\"little\",\"shape\":[300]},\"inc\":[\"1\",\"1\",\"1\",\"0\",\"1\",\"1\",\"0\",\"0\",\"1\",\"1\",\"1\",\"0\",\"1\",\"0\",\"1\",\"0\",\"1\",\"1\",\"1\",\"1\",\"0\",\"1\",\"0\",\"1\",\"0\",\"1\",\"1\",\"1\",\"1\",\"0\",\"0\",\"1\",\"1\",\"1\",\"0\",\"1\",\"0\",\"1\",\"1\",\"1\",\"1\",\"1\",\"1\",\"0\",\"0\",\"0\",\"1\",\"1\",\"1\",\"0\",\"1\",\"0\",\"0\",\"1\",\"1\",\"0\",\"0\",\"0\",\"0\",\"1\",\"1\",\"0\",\"1\",\"0\",\"1\",\"1\",\"0\",\"1\",\"1\",\"1\",\"1\",\"0\",\"1\",\"0\",\"1\",\"0\",\"1\",\"1\",\"0\",\"1\",\"0\",\"0\",\"1\",\"0\",\"0\",\"0\",\"1\",\"1\",\"0\",\"1\",\"0\",\"1\",\"0\",\"1\",\"1\",\"0\",\"1\",\"0\",\"1\",\"0\",\"1\",\"0\",\"0\",\"1\",\"0\",\"0\",\"1\",\"0\",\"0\",\"0\",\"0\",\"1\",\"0\",\"1\",\"1\",\"1\",\"1\",\"1\",\"0\",\"0\",\"1\",\"0\",\"1\",\"0\",\"1\",\"0\",\"0\",\"0\",\"0\",\"1\",\"0\",\"0\",\"0\",\"0\",\"0\",\"1\",\"0\",\"0\",\"0\",\"0\",\"0\",\"1\",\"0\",\"0\",\"0\",\"1\",\"1\",\"0\",\"1\",\"1\",\"0\",\"1\",\"0\",\"1\",\"0\",\"1\",\"0\",\"0\",\"1\",\"0\",\"0\",\"0\",\"1\",\"1\",\"1\",\"0\",\"1\",\"0\",\"0\",\"1\",\"0\",\"1\",\"1\",\"1\",\"0\",\"0\",\"0\",\"0\",\"1\",\"1\",\"1\",\"0\",\"0\",\"1\",\"0\",\"0\",\"1\",\"0\",\"1\",\"1\",\"1\",\"0\",\"0\",\"1\",\"0\",\"0\",\"0\",\"0\",\"0\",\"0\",\"0\",\"1\",\"0\",\"1\",\"1\",\"0\",\"0\",\"0\",\"1\",\"0\",\"0\",\"0\",\"0\",\"0\",\"1\",\"0\",\"0\",\"0\",\"1\",\"0\",\"0\",\"1\",\"1\",\"0\",\"1\",\"1\",\"1\",\"0\",\"1\",\"0\",\"0\",\"1\",\"1\",\"0\",\"0\",\"0\",\"0\",\"0\",\"1\",\"1\",\"1\",\"1\",\"1\",\"1\",\"0\",\"0\",\"1\",\"0\",\"0\",\"0\",\"1\",\"1\",\"0\",\"1\",\"1\",\"1\",\"0\",\"0\",\"0\",\"1\",\"1\",\"1\",\"1\",\"0\",\"0\",\"0\",\"1\",\"1\",\"1\",\"1\",\"1\",\"1\",\"0\",\"0\",\"0\",\"1\",\"0\",\"1\",\"0\",\"1\",\"0\",\"0\",\"0\",\"1\",\"1\",\"1\",\"0\",\"1\",\"1\",\"0\",\"1\",\"1\",\"1\",\"0\",\"1\",\"1\",\"0\",\"0\",\"1\",\"1\"],\"index\":[0,1,2,3,4,5,6,7,8,9,10,11,12,13,14,15,16,17,18,19,20,21,22,23,24,25,26,27,28,29,30,31,32,33,34,35,36,37,38,39,40,41,42,43,44,45,46,47,48,49,50,51,52,53,54,55,56,57,58,59,60,61,62,63,64,65,66,67,68,69,70,71,72,73,74,75,76,77,78,79,80,81,82,83,84,85,86,87,88,89,90,91,92,93,94,95,96,97,98,99,100,101,102,103,104,105,106,107,108,109,110,111,112,113,114,115,116,117,118,119,120,121,122,123,124,125,126,127,128,129,130,131,132,133,134,135,136,137,138,139,140,141,142,143,144,145,146,147,148,149,150,151,152,153,154,155,156,157,158,159,160,161,162,163,164,165,166,167,168,169,170,171,172,173,174,175,176,177,178,179,180,181,182,183,184,185,186,187,188,189,190,191,192,193,194,195,196,197,198,199,200,201,202,203,204,205,206,207,208,209,210,211,212,213,214,215,216,217,218,219,220,221,222,223,224,225,226,227,228,229,230,231,232,233,234,235,236,237,238,239,240,241,242,243,244,245,246,247,248,249,250,251,252,253,254,255,256,257,258,259,260,261,262,263,264,265,266,267,268,269,270,271,272,273,274,275,276,277,278,279,280,281,282,283,284,285,286,287,288,289,290,291,292,293,294,295,296,297,298,299],\"ohlc_high\":{\"__ndarray__\":\"AAAAwPWoMkAAAABAM7MyQAAAAMAexTJAAAAAoJnZMkAAAABACtcyQAAAAADX4zJAAAAAgBTuMkAAAAAgXM8yQAAAACCuxzJAAAAAoEfhMkAAAACgR+EyQAAAAKCZ2TJAAAAAANfjMkAAAABgZuYyQAAAAIDC9TJAAAAAoHD9MkAAAAAgrgczQAAAAAApHDNAAAAA4KMwM0AAAACAFC4zQAAAAAAAQDNAAAAA4KMwM0AAAADgUTgzQAAAAEAzMzNAAAAAwB5FM0AAAACAFC4zQAAAAMDMTDNAAAAAoJlZM0AAAACgcH0zQAAAAOBReDNAAAAAwPVoM0AAAABgj4IzQAAAAIDCdTNAAAAA4KNwM0AAAAAAKVwzQDMzM2MQWDNAZmZm1qNQM0DNzMyc70czQAAAACBcTzNAAAAAAACAM0AAAACgmZkzQAAAAMD1qDNAAAAAYLieM0AAAAAgXI8zQAAAAEAKlzNAAAAAQAqXM0AAAACAFK4zQAAAAOBRuDNAAAAAIK7HM0AAAACw8ZIzQAAAAMBJjDNAMzMzc+d7M0CamZlJi2wzQM3MzByuZzNAMzMzE9djM0AAAAAA12MzQM3MzGxmZjNAMzMzS7ZjM0CamZnZeFkzQJqZmZGXTjNAmpmZaWZGM0BmZmZGizwzQAAAAKibNDNAZmZmRossM0BmZma2yCYzQAAAACCuRzNAAAAAYI9CM0AAAABAClczQAAAAIA9SjNAAAAAIIVrM0AAAAAA12MzQAAAAKBHYTNAAAAAIFxPM0AAAADgelQzQAAAAGBmZjNAAAAAIIVrM0AAAABAClczQAAAAMD1aDNAAAAAIIVrM0AAAADgelQzQAAAAADXYzNAmpmZ6ftJM0AAAACAPUozQAAAAIA9SjNAZmZmfj9FM0AAAACwR0EzQAAAADCyPTNAmpmZ6fs5M0DNzMxU4zUzQJqZmWHlMDNAAAAAANUoM0AAAAAQLSIzQJqZmYkWGTNAmpmZOYkRM0AzMzP7fgozQGZmZubQAjNAMzMzu0n8MkAAAADAHgUzQGZmZgZW7jJAMzMzw8rhMkBmZma2yNYyQJqZmUnhyjJAmpmZsXK4MkBmZmb+1KgyQM3MzDRemjJAmpmZGS+NMkAzMzMrsn0yQM3MzJRDazJAmpmZmZlZMkBmZmZmZkYyQGZmZi7dNDJAZmZmzvcjMkBmZmYu3RQyQJqZmQErBzJAAAAASOH6MUAzMzOzne8xQAAAAAAAADJAAAAAoEfhMUAAAACgmdkxQAAAACCuxzFAAAAAoJnZMUAAAADAHsUxQM3MzBxaxDFAzczMLLK9MUBmZmbWo7AxQJqZmVmPojFAMzMzi2yXMUAzMzP7qZExQAAAANjOhzFAzczMRLaDMUAAAABANX4xQAAAAFCNdzFAmpmZqfFyMUDNzMy0820xQDMzMxtaZDFAMzMz03hZMUAAAACYmUkxQM3MzMRLNzFAmpmZabwkMUBmZmbO9xMxQM3MzCyy/TBAzczMvJ/qMEBmZmYOWNkwQJqZmYHAyjBAmpmZhRa5MEAAAAD0KKwwQM3MzBCDoDBAZmZm8v2UMEAzMzPHdo4wQJqZmfVTgzBAAAAAwMyMMEAAAADgepQwQAAAAKCZmTBAAAAAQOG6MEAAAADgUbgwQAAAAAAAwDBAAAAAYLjeMEAAAACAwvUwQAAAAIDC9TBAAAAAoEfhMEAAAACA69EwQAAAAMDMzDBAAAAAAAAAMUAAAACA6xExQAAAAOCjMDFAAAAAYGYmMUAAAADgelQxQAAAAGC4XjFAAAAAgBRuMUAAAACgRyExQAAAAADXIzFAmpmZObQoMUAAAACAwjUxQAAAAOCjMDFAzczMbJEtMUAAAAAQAisxQAAAAGBmJjFAAAAA4KMwMUAzMzOjRRYxQAAAAFg5FDFAmpmZ2c4XMUBmZmb+1BgxQAAAAPCnFjFAAAAA0PcTMUCamZkBABAxQM3MzITACjFAMzMzo0UGMUAAAAAA1yMxQAAAAEAzMzFAAAAAwB4FMUAAAACgmRkxQAAAAKBw/TBAzczMnO/3MEBmZmYu3fQwQDMzM4Pr8TBAAAAAsJ3vMECamZkph+YwQGZmZh6F2zBAAAAA+FPTMEAzMzOLbMcwQDMzM+OluzBAZmZmrkexMEBmZmZCYKUwQAAAAOSlmzBAzczMgJWTMECamZlVDo0wQAAAAITrgTBAMzMzIwZxMEBmZmbCIGAwQGZmZp4aTzBAAAAALLI9MEAAAADMzCwwQDMzM0OLHDBAMzMz46ULMEAzMzOjRfYvQJqZmZmZ2S9AAAAAQDW+L0BmZmaucqgvQJqZmbHIli9AmpmZuUmML0AzMzNjO38vQAAAAEDhei9AAAAAANejL0AAAADgUbgvQAAAAKCZmS9AAAAAgBSuL0AAAAAgXA8wQAAAAIAULjBAAAAAgD1KMEAAAAAAAEAwQAAAAMAehTBAAAAAYI/CMEAAAAAgrscwQAAAACBcjzBAAAAAgBRuMEAAAACAFG4wQJqZmYlBYDBAzczM3PleMEAAAADwfF8wQGZmZpYYZDBAAAAAgBRuMEAAAAAA12MwQAAAAEDhejBAAAAAYGamMEAAAACAPcowQAAAAGBmpjBAAAAAoHC9MEAAAAAA16MwQAAAAGCPgjBAzczM7Hx/MEBmZmZ2vn8wQAAAAMDKgTBAZmZmpnB9MEBmZmZ2k3gwQAAAAIDCdTBAMzMzg8BqMEDNzMysHGowQM3MzKwcajBAMzMzi2xnMEBmZmZmZmYwQGZmZka2YzBAMzMz001iMEDNzMw8318wQAAAAGC6WTBAAAAAEC1SMEDNzMxEi0wwQDMzM6NFRjBAzczMvHRDMEAAAAAAKVwwQAAAAIAUbjBAAAAAwPWoMEAAAADgo7AwQAAAAOBRuDBAAAAA4KOwMEAAAACAwrUwQAAAAKBwvTBAAAAAoHC9MEAAAAAgXA8xQAAAACCuBzFAAAAAAAAAMUAAAACgRyExQAAAAKBHITFAAAAAACkcMUAAAACgmRkxQAAAAMD1KDFAAAAAoEchMUAAAAAAKRwxQAAAAMD1KDFAAAAAYI9CMUAAAACgcD0xQDMzM+OlGzFAzczMrBwaMUAAAABgZiYxQAAAAADXIzFAzczMXGQbMUAAAABAMzMxQAAAAIDCNTFAZmZm5qUbMUAAAACgmRkxQAAAAGBmJjFA\",\"dtype\":\"float64\",\"order\":\"little\",\"shape\":[300]},\"ohlc_low\":{\"__ndarray__\":\"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\",\"dtype\":\"float64\",\"order\":\"little\",\"shape\":[300]}},\"selected\":{\"id\":\"2572\"},\"selection_policy\":{\"id\":\"2571\"}},\"id\":\"2499\",\"type\":\"ColumnDataSource\"},{\"attributes\":{},\"id\":\"2565\",\"type\":\"AllLabels\"},{\"attributes\":{},\"id\":\"2659\",\"type\":\"LinearScale\"},{\"attributes\":{},\"id\":\"2567\",\"type\":\"BasicTickFormatter\"},{\"attributes\":{\"fill_color\":{\"field\":\"returns_positive\",\"transform\":{\"id\":\"2502\"}},\"marker\":{\"value\":\"triangle\"},\"size\":{\"field\":\"marker_size\"},\"x\":{\"field\":\"index\"},\"y\":{\"field\":\"returns_long\"}},\"id\":\"2687\",\"type\":\"Scatter\"},{\"attributes\":{},\"id\":\"2568\",\"type\":\"AllLabels\"},{\"attributes\":{\"coordinates\":null,\"formatter\":{\"id\":\"2875\"},\"group\":null,\"major_label_policy\":{\"id\":\"2876\"},\"ticker\":{\"id\":\"2662\"},\"visible\":false},\"id\":\"2661\",\"type\":\"LinearAxis\"},{\"attributes\":{\"bounds\":[-14.95,313.95],\"end\":299,\"js_property_callbacks\":{\"change:end\":[{\"id\":\"2839\"}]},\"min_interval\":10},\"id\":\"2466\",\"type\":\"Range1d\"},{\"attributes\":{},\"id\":\"2655\",\"type\":\"DataRange1d\"},{\"attributes\":{\"axis_label\":\"Profit / Loss\",\"coordinates\":null,\"formatter\":{\"id\":\"2702\"},\"group\":null,\"major_label_policy\":{\"id\":\"2873\"},\"minor_tick_line_color\":null,\"ticker\":{\"id\":\"2666\"}},\"id\":\"2665\",\"type\":\"LinearAxis\"},{\"attributes\":{\"dimensions\":\"width\",\"maintain_focus\":false},\"id\":\"2670\",\"type\":\"WheelZoomTool\"},{\"attributes\":{},\"id\":\"2662\",\"type\":\"BasicTicker\"},{\"attributes\":{\"axis\":{\"id\":\"2661\"},\"coordinates\":null,\"group\":null,\"ticker\":null},\"id\":\"2664\",\"type\":\"Grid\"},{\"attributes\":{\"axis\":{\"id\":\"2665\"},\"coordinates\":null,\"dimension\":1,\"group\":null,\"ticker\":null},\"id\":\"2668\",\"type\":\"Grid\"},{\"attributes\":{},\"id\":\"2666\",\"type\":\"BasicTicker\"},{\"attributes\":{},\"id\":\"2569\",\"type\":\"UnionRenderers\"},{\"attributes\":{},\"id\":\"2672\",\"type\":\"UndoTool\"},{\"attributes\":{},\"id\":\"2674\",\"type\":\"ResetTool\"},{\"attributes\":{},\"id\":\"2570\",\"type\":\"Selection\"},{\"attributes\":{\"dimensions\":\"width\"},\"id\":\"2669\",\"type\":\"PanTool\"},{\"attributes\":{\"overlay\":{\"id\":\"2676\"}},\"id\":\"2671\",\"type\":\"BoxZoomTool\"},{\"attributes\":{},\"id\":\"2673\",\"type\":\"RedoTool\"},{\"attributes\":{},\"id\":\"2675\",\"type\":\"SaveTool\"},{\"attributes\":{\"bottom_units\":\"screen\",\"coordinates\":null,\"fill_alpha\":0.5,\"fill_color\":\"lightgrey\",\"group\":null,\"left_units\":\"screen\",\"level\":\"overlay\",\"line_alpha\":1.0,\"line_color\":\"black\",\"line_dash\":[4,4],\"line_width\":2,\"right_units\":\"screen\",\"syncable\":false,\"top_units\":\"screen\"},\"id\":\"2676\",\"type\":\"BoxAnnotation\"},{\"attributes\":{\"active_drag\":{\"id\":\"2669\"},\"active_scroll\":{\"id\":\"2670\"},\"tools\":[{\"id\":\"2669\"},{\"id\":\"2670\"},{\"id\":\"2671\"},{\"id\":\"2672\"},{\"id\":\"2673\"},{\"id\":\"2674\"},{\"id\":\"2675\"},{\"id\":\"2698\"},{\"id\":\"2700\"},{\"id\":\"2840\"}]},\"id\":\"2677\",\"type\":\"Toolbar\"},{\"attributes\":{\"axis_label\":\"Equity\",\"coordinates\":null,\"formatter\":{\"id\":\"2554\"},\"group\":null,\"major_label_policy\":{\"id\":\"2565\"},\"minor_tick_line_color\":null,\"ticker\":{\"id\":\"2520\"}},\"id\":\"2519\",\"type\":\"LinearAxis\"},{\"attributes\":{},\"id\":\"2723\",\"type\":\"UndoTool\"},{\"attributes\":{},\"id\":\"2469\",\"type\":\"DataRange1d\"},{\"attributes\":{},\"id\":\"2725\",\"type\":\"ResetTool\"},{\"attributes\":{},\"id\":\"2724\",\"type\":\"RedoTool\"},{\"attributes\":{},\"id\":\"2571\",\"type\":\"UnionRenderers\"},{\"attributes\":{},\"id\":\"2726\",\"type\":\"SaveTool\"},{\"attributes\":{\"overlay\":{\"id\":\"2727\"}},\"id\":\"2722\",\"type\":\"BoxZoomTool\"},{\"attributes\":{},\"id\":\"2573\",\"type\":\"UnionRenderers\"},{\"attributes\":{},\"id\":\"2574\",\"type\":\"Selection\"}],\"root_ids\":[\"2913\"]},\"title\":\"Bokeh Application\",\"version\":\"2.4.3\"}};\n",
              "  const render_items = [{\"docid\":\"b79d54e5-b706-4c12-b853-c89ce2272e4c\",\"root_ids\":[\"2913\"],\"roots\":{\"2913\":\"bd91f8ac-8789-42a5-95a2-d4a4c84ca9c8\"}}];\n",
              "  root.Bokeh.embed.embed_items_notebook(docs_json, render_items);\n",
              "  }\n",
              "  if (root.Bokeh !== undefined) {\n",
              "    embed_document(root);\n",
              "  } else {\n",
              "    let attempts = 0;\n",
              "    const timer = setInterval(function(root) {\n",
              "      if (root.Bokeh !== undefined) {\n",
              "        clearInterval(timer);\n",
              "        embed_document(root);\n",
              "      } else {\n",
              "        attempts++;\n",
              "        if (attempts > 100) {\n",
              "          clearInterval(timer);\n",
              "          console.log(\"Bokeh: ERROR: Unable to run BokehJS code because BokehJS library is missing\");\n",
              "        }\n",
              "      }\n",
              "    }, 10, root)\n",
              "  }\n",
              "})(window);"
            ],
            "application/vnd.bokehjs_exec.v0+json": ""
          },
          "metadata": {
            "application/vnd.bokehjs_exec.v0+json": {
              "id": "2913"
            }
          }
        },
        {
          "output_type": "execute_result",
          "data": {
            "text/plain": [
              "Row(id='2913', ...)"
            ],
            "text/html": [
              "<div style=\"display: table;\"><div style=\"display: table-row;\"><div style=\"display: table-cell;\"><b title=\"bokeh.models.layouts.Row\">Row</b>(</div><div style=\"display: table-cell;\">id&nbsp;=&nbsp;'2913', <span id=\"3197\" style=\"cursor: pointer;\">&hellip;)</span></div></div><div class=\"3196\" style=\"display: none;\"><div style=\"display: table-cell;\"></div><div style=\"display: table-cell;\">align&nbsp;=&nbsp;'start',</div></div><div class=\"3196\" style=\"display: none;\"><div style=\"display: table-cell;\"></div><div style=\"display: table-cell;\">aspect_ratio&nbsp;=&nbsp;None,</div></div><div class=\"3196\" style=\"display: none;\"><div style=\"display: table-cell;\"></div><div style=\"display: table-cell;\">background&nbsp;=&nbsp;None,</div></div><div class=\"3196\" style=\"display: none;\"><div style=\"display: table-cell;\"></div><div style=\"display: table-cell;\">children&nbsp;=&nbsp;[GridBox(id='2910', ...), ToolbarBox(id='2912', ...)],</div></div><div class=\"3196\" style=\"display: none;\"><div style=\"display: table-cell;\"></div><div style=\"display: table-cell;\">cols&nbsp;=&nbsp;'auto',</div></div><div class=\"3196\" style=\"display: none;\"><div style=\"display: table-cell;\"></div><div style=\"display: table-cell;\">css_classes&nbsp;=&nbsp;[],</div></div><div class=\"3196\" style=\"display: none;\"><div style=\"display: table-cell;\"></div><div style=\"display: table-cell;\">disabled&nbsp;=&nbsp;False,</div></div><div class=\"3196\" style=\"display: none;\"><div style=\"display: table-cell;\"></div><div style=\"display: table-cell;\">height&nbsp;=&nbsp;None,</div></div><div class=\"3196\" style=\"display: none;\"><div style=\"display: table-cell;\"></div><div style=\"display: table-cell;\">height_policy&nbsp;=&nbsp;'auto',</div></div><div class=\"3196\" style=\"display: none;\"><div style=\"display: table-cell;\"></div><div style=\"display: table-cell;\">js_event_callbacks&nbsp;=&nbsp;{},</div></div><div class=\"3196\" style=\"display: none;\"><div style=\"display: table-cell;\"></div><div style=\"display: table-cell;\">js_property_callbacks&nbsp;=&nbsp;{},</div></div><div class=\"3196\" style=\"display: none;\"><div style=\"display: table-cell;\"></div><div style=\"display: table-cell;\">margin&nbsp;=&nbsp;(0, 0, 0, 0),</div></div><div class=\"3196\" style=\"display: none;\"><div style=\"display: table-cell;\"></div><div style=\"display: table-cell;\">max_height&nbsp;=&nbsp;None,</div></div><div class=\"3196\" style=\"display: none;\"><div style=\"display: table-cell;\"></div><div style=\"display: table-cell;\">max_width&nbsp;=&nbsp;None,</div></div><div class=\"3196\" style=\"display: none;\"><div style=\"display: table-cell;\"></div><div style=\"display: table-cell;\">min_height&nbsp;=&nbsp;None,</div></div><div class=\"3196\" style=\"display: none;\"><div style=\"display: table-cell;\"></div><div style=\"display: table-cell;\">min_width&nbsp;=&nbsp;None,</div></div><div class=\"3196\" style=\"display: none;\"><div style=\"display: table-cell;\"></div><div style=\"display: table-cell;\">name&nbsp;=&nbsp;None,</div></div><div class=\"3196\" style=\"display: none;\"><div style=\"display: table-cell;\"></div><div style=\"display: table-cell;\">sizing_mode&nbsp;=&nbsp;'stretch_width',</div></div><div class=\"3196\" style=\"display: none;\"><div style=\"display: table-cell;\"></div><div style=\"display: table-cell;\">spacing&nbsp;=&nbsp;0,</div></div><div class=\"3196\" style=\"display: none;\"><div style=\"display: table-cell;\"></div><div style=\"display: table-cell;\">subscribed_events&nbsp;=&nbsp;[],</div></div><div class=\"3196\" style=\"display: none;\"><div style=\"display: table-cell;\"></div><div style=\"display: table-cell;\">syncable&nbsp;=&nbsp;True,</div></div><div class=\"3196\" style=\"display: none;\"><div style=\"display: table-cell;\"></div><div style=\"display: table-cell;\">tags&nbsp;=&nbsp;[],</div></div><div class=\"3196\" style=\"display: none;\"><div style=\"display: table-cell;\"></div><div style=\"display: table-cell;\">visible&nbsp;=&nbsp;True,</div></div><div class=\"3196\" style=\"display: none;\"><div style=\"display: table-cell;\"></div><div style=\"display: table-cell;\">width&nbsp;=&nbsp;None,</div></div><div class=\"3196\" style=\"display: none;\"><div style=\"display: table-cell;\"></div><div style=\"display: table-cell;\">width_policy&nbsp;=&nbsp;'auto')</div></div></div>\n",
              "<script>\n",
              "(function() {\n",
              "  let expanded = false;\n",
              "  const ellipsis = document.getElementById(\"3197\");\n",
              "  ellipsis.addEventListener(\"click\", function() {\n",
              "    const rows = document.getElementsByClassName(\"3196\");\n",
              "    for (let i = 0; i < rows.length; i++) {\n",
              "      const el = rows[i];\n",
              "      el.style.display = expanded ? \"none\" : \"table-row\";\n",
              "    }\n",
              "    ellipsis.innerHTML = expanded ? \"&hellip;)\" : \"&lsaquo;&lsaquo;&lsaquo;\";\n",
              "    expanded = !expanded;\n",
              "  });\n",
              "})();\n",
              "</script>\n"
            ]
          },
          "metadata": {},
          "execution_count": 318
        }
      ]
    },
    {
      "cell_type": "code",
      "source": [
        "stats"
      ],
      "metadata": {
        "colab": {
          "base_uri": "https://localhost:8080/"
        },
        "id": "wz8shrqVbH4-",
        "outputId": "8cb7346d-17bc-4f08-ceff-1e192eb5c17e"
      },
      "execution_count": 319,
      "outputs": [
        {
          "output_type": "execute_result",
          "data": {
            "text/plain": [
              "Start                     2021-12-03 00:00:00\n",
              "End                       2023-03-03 00:00:00\n",
              "Duration                    455 days 00:00:00\n",
              "Exposure Time [%]                   36.333333\n",
              "Equity Final [$]                  9761.590067\n",
              "Equity Peak [$]                  10000.658689\n",
              "Return [%]                          -2.384099\n",
              "Buy & Hold Return [%]               -8.199361\n",
              "Return (Ann.) [%]                   -2.006499\n",
              "Volatility (Ann.) [%]                6.208997\n",
              "Sharpe Ratio                              0.0\n",
              "Sortino Ratio                             0.0\n",
              "Calmar Ratio                              0.0\n",
              "Max. Drawdown [%]                   -5.419146\n",
              "Avg. Drawdown [%]                   -3.066778\n",
              "Max. Drawdown Duration      331 days 00:00:00\n",
              "Avg. Drawdown Duration      173 days 00:00:00\n",
              "# Trades                                    6\n",
              "Win Rate [%]                             50.0\n",
              "Best Trade [%]                       2.190826\n",
              "Worst Trade [%]                     -2.924524\n",
              "Avg. Trade [%]                      -0.400718\n",
              "Max. Trade Duration          51 days 00:00:00\n",
              "Avg. Trade Duration          28 days 00:00:00\n",
              "Profit Factor                        0.646982\n",
              "Expectancy [%]                      -0.382424\n",
              "SQN                                 -0.479619\n",
              "_strategy                            SmaCross\n",
              "_equity_curve                             ...\n",
              "_trades                      Size  EntryBa...\n",
              "dtype: object"
            ]
          },
          "metadata": {},
          "execution_count": 319
        }
      ]
    },
    {
      "cell_type": "markdown",
      "source": [
        "## 關於 00878定期定額報酬率評估"
      ],
      "metadata": {
        "id": "MRv-B7QCgkzp"
      }
    },
    {
      "cell_type": "code",
      "source": [
        "CATHAY00878.head()"
      ],
      "metadata": {
        "colab": {
          "base_uri": "https://localhost:8080/",
          "height": 206
        },
        "id": "jKkqKL4ceo9K",
        "outputId": "f8ff5829-20da-4f7c-988f-c5ea81ccbfd4"
      },
      "execution_count": 321,
      "outputs": [
        {
          "output_type": "execute_result",
          "data": {
            "text/plain": [
              "             Open   High    Low  Close  Adj Close  Volume\n",
              "2020-07-10  15.00  15.00  15.00  15.00      15.00       0\n",
              "2020-07-13  14.99  14.99  14.99  14.99      14.99       0\n",
              "2020-07-14  14.98  14.98  14.98  14.98      14.98       0\n",
              "2020-07-15  14.96  14.96  14.96  14.96      14.96       0\n",
              "2020-07-16  14.97  14.97  14.97  14.97      14.97       0"
            ],
            "text/html": [
              "\n",
              "  <div id=\"df-40ed2f51-19d2-4eff-8d5d-83ec35dd7341\">\n",
              "    <div class=\"colab-df-container\">\n",
              "      <div>\n",
              "<style scoped>\n",
              "    .dataframe tbody tr th:only-of-type {\n",
              "        vertical-align: middle;\n",
              "    }\n",
              "\n",
              "    .dataframe tbody tr th {\n",
              "        vertical-align: top;\n",
              "    }\n",
              "\n",
              "    .dataframe thead th {\n",
              "        text-align: right;\n",
              "    }\n",
              "</style>\n",
              "<table border=\"1\" class=\"dataframe\">\n",
              "  <thead>\n",
              "    <tr style=\"text-align: right;\">\n",
              "      <th></th>\n",
              "      <th>Open</th>\n",
              "      <th>High</th>\n",
              "      <th>Low</th>\n",
              "      <th>Close</th>\n",
              "      <th>Adj Close</th>\n",
              "      <th>Volume</th>\n",
              "    </tr>\n",
              "  </thead>\n",
              "  <tbody>\n",
              "    <tr>\n",
              "      <th>2020-07-10</th>\n",
              "      <td>15.00</td>\n",
              "      <td>15.00</td>\n",
              "      <td>15.00</td>\n",
              "      <td>15.00</td>\n",
              "      <td>15.00</td>\n",
              "      <td>0</td>\n",
              "    </tr>\n",
              "    <tr>\n",
              "      <th>2020-07-13</th>\n",
              "      <td>14.99</td>\n",
              "      <td>14.99</td>\n",
              "      <td>14.99</td>\n",
              "      <td>14.99</td>\n",
              "      <td>14.99</td>\n",
              "      <td>0</td>\n",
              "    </tr>\n",
              "    <tr>\n",
              "      <th>2020-07-14</th>\n",
              "      <td>14.98</td>\n",
              "      <td>14.98</td>\n",
              "      <td>14.98</td>\n",
              "      <td>14.98</td>\n",
              "      <td>14.98</td>\n",
              "      <td>0</td>\n",
              "    </tr>\n",
              "    <tr>\n",
              "      <th>2020-07-15</th>\n",
              "      <td>14.96</td>\n",
              "      <td>14.96</td>\n",
              "      <td>14.96</td>\n",
              "      <td>14.96</td>\n",
              "      <td>14.96</td>\n",
              "      <td>0</td>\n",
              "    </tr>\n",
              "    <tr>\n",
              "      <th>2020-07-16</th>\n",
              "      <td>14.97</td>\n",
              "      <td>14.97</td>\n",
              "      <td>14.97</td>\n",
              "      <td>14.97</td>\n",
              "      <td>14.97</td>\n",
              "      <td>0</td>\n",
              "    </tr>\n",
              "  </tbody>\n",
              "</table>\n",
              "</div>\n",
              "      <button class=\"colab-df-convert\" onclick=\"convertToInteractive('df-40ed2f51-19d2-4eff-8d5d-83ec35dd7341')\"\n",
              "              title=\"Convert this dataframe to an interactive table.\"\n",
              "              style=\"display:none;\">\n",
              "        \n",
              "  <svg xmlns=\"http://www.w3.org/2000/svg\" height=\"24px\"viewBox=\"0 0 24 24\"\n",
              "       width=\"24px\">\n",
              "    <path d=\"M0 0h24v24H0V0z\" fill=\"none\"/>\n",
              "    <path d=\"M18.56 5.44l.94 2.06.94-2.06 2.06-.94-2.06-.94-.94-2.06-.94 2.06-2.06.94zm-11 1L8.5 8.5l.94-2.06 2.06-.94-2.06-.94L8.5 2.5l-.94 2.06-2.06.94zm10 10l.94 2.06.94-2.06 2.06-.94-2.06-.94-.94-2.06-.94 2.06-2.06.94z\"/><path d=\"M17.41 7.96l-1.37-1.37c-.4-.4-.92-.59-1.43-.59-.52 0-1.04.2-1.43.59L10.3 9.45l-7.72 7.72c-.78.78-.78 2.05 0 2.83L4 21.41c.39.39.9.59 1.41.59.51 0 1.02-.2 1.41-.59l7.78-7.78 2.81-2.81c.8-.78.8-2.07 0-2.86zM5.41 20L4 18.59l7.72-7.72 1.47 1.35L5.41 20z\"/>\n",
              "  </svg>\n",
              "      </button>\n",
              "      \n",
              "  <style>\n",
              "    .colab-df-container {\n",
              "      display:flex;\n",
              "      flex-wrap:wrap;\n",
              "      gap: 12px;\n",
              "    }\n",
              "\n",
              "    .colab-df-convert {\n",
              "      background-color: #E8F0FE;\n",
              "      border: none;\n",
              "      border-radius: 50%;\n",
              "      cursor: pointer;\n",
              "      display: none;\n",
              "      fill: #1967D2;\n",
              "      height: 32px;\n",
              "      padding: 0 0 0 0;\n",
              "      width: 32px;\n",
              "    }\n",
              "\n",
              "    .colab-df-convert:hover {\n",
              "      background-color: #E2EBFA;\n",
              "      box-shadow: 0px 1px 2px rgba(60, 64, 67, 0.3), 0px 1px 3px 1px rgba(60, 64, 67, 0.15);\n",
              "      fill: #174EA6;\n",
              "    }\n",
              "\n",
              "    [theme=dark] .colab-df-convert {\n",
              "      background-color: #3B4455;\n",
              "      fill: #D2E3FC;\n",
              "    }\n",
              "\n",
              "    [theme=dark] .colab-df-convert:hover {\n",
              "      background-color: #434B5C;\n",
              "      box-shadow: 0px 1px 3px 1px rgba(0, 0, 0, 0.15);\n",
              "      filter: drop-shadow(0px 1px 2px rgba(0, 0, 0, 0.3));\n",
              "      fill: #FFFFFF;\n",
              "    }\n",
              "  </style>\n",
              "\n",
              "      <script>\n",
              "        const buttonEl =\n",
              "          document.querySelector('#df-40ed2f51-19d2-4eff-8d5d-83ec35dd7341 button.colab-df-convert');\n",
              "        buttonEl.style.display =\n",
              "          google.colab.kernel.accessAllowed ? 'block' : 'none';\n",
              "\n",
              "        async function convertToInteractive(key) {\n",
              "          const element = document.querySelector('#df-40ed2f51-19d2-4eff-8d5d-83ec35dd7341');\n",
              "          const dataTable =\n",
              "            await google.colab.kernel.invokeFunction('convertToInteractive',\n",
              "                                                     [key], {});\n",
              "          if (!dataTable) return;\n",
              "\n",
              "          const docLinkHtml = 'Like what you see? Visit the ' +\n",
              "            '<a target=\"_blank\" href=https://colab.research.google.com/notebooks/data_table.ipynb>data table notebook</a>'\n",
              "            + ' to learn more about interactive tables.';\n",
              "          element.innerHTML = '';\n",
              "          dataTable['output_type'] = 'display_data';\n",
              "          await google.colab.output.renderOutput(dataTable, element);\n",
              "          const docLink = document.createElement('div');\n",
              "          docLink.innerHTML = docLinkHtml;\n",
              "          element.appendChild(docLink);\n",
              "        }\n",
              "      </script>\n",
              "    </div>\n",
              "  </div>\n",
              "  "
            ]
          },
          "metadata": {},
          "execution_count": 321
        }
      ]
    },
    {
      "cell_type": "code",
      "source": [
        "CATHAY00878['Close'].tail(100).plot()"
      ],
      "metadata": {
        "colab": {
          "base_uri": "https://localhost:8080/",
          "height": 280
        },
        "id": "kYkj18GphJvP",
        "outputId": "a338f641-9c70-4386-dc03-e92db94ab9fd"
      },
      "execution_count": 322,
      "outputs": [
        {
          "output_type": "execute_result",
          "data": {
            "text/plain": [
              "<AxesSubplot:>"
            ]
          },
          "metadata": {},
          "execution_count": 322
        },
        {
          "output_type": "display_data",
          "data": {
            "text/plain": [
              "<Figure size 432x288 with 1 Axes>"
            ],
            "image/png": "[encoded data removed]"
          },
          "metadata": {
            "needs_background": "light"
          }
        }
      ]
    },
    {
      "cell_type": "code",
      "source": [
        "CASH = 5000"
      ],
      "metadata": {
        "id": "4BPqpahVhXCk"
      },
      "execution_count": 323,
      "outputs": []
    },
    {
      "cell_type": "code",
      "source": [
        "for i in range(12):\n",
        "  print(f\"2022-{i+1:02}\")"
      ],
      "metadata": {
        "colab": {
          "base_uri": "https://localhost:8080/"
        },
        "id": "5g1VQrFPhYj5",
        "outputId": "23db4305-fc90-4191-a7b6-2de2f09cbd90"
      },
      "execution_count": 324,
      "outputs": [
        {
          "output_type": "stream",
          "name": "stdout",
          "text": [
            "2022-01\n",
            "2022-02\n",
            "2022-03\n",
            "2022-04\n",
            "2022-05\n",
            "2022-06\n",
            "2022-07\n",
            "2022-08\n",
            "2022-09\n",
            "2022-10\n",
            "2022-11\n",
            "2022-12\n"
          ]
        }
      ]
    },
    {
      "cell_type": "code",
      "source": [
        "TOTALCASH = CASH*12"
      ],
      "metadata": {
        "id": "hhdbitWohbPr"
      },
      "execution_count": 325,
      "outputs": []
    }
  ]
}