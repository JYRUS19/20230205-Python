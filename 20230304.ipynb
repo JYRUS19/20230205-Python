{
  "nbformat": 4,
  "nbformat_minor": 0,
  "metadata": {
    "colab": {
      "provenance": [],
      "toc_visible": true,
      "authorship_tag": "ABX9TyNLSwd9ZJ61p01VrWrnbxVf",
      "include_colab_link": true
    },
    "kernelspec": {
      "name": "python3",
      "display_name": "Python 3"
    },
    "language_info": {
      "name": "python"
    }
  },
  "cells": [
    {
      "cell_type": "markdown",
      "metadata": {
        "id": "view-in-github",
        "colab_type": "text"
      },
      "source": [
        "<a href=\"https://colab.research.google.com/github/JYRUS19/20230205-Python/blob/main/20230304.ipynb\" target=\"_parent\"><img src=\"https://colab.research.google.com/assets/colab-badge.svg\" alt=\"Open In Colab\"/></a>"
      ]
    },
    {
      "cell_type": "markdown",
      "source": [
        "# 20230304筆記\n"
      ],
      "metadata": {
        "id": "Rm5AfYlLVyhJ"
      }
    },
    {
      "cell_type": "markdown",
      "source": [
        "# 抓取網頁原始碼"
      ],
      "metadata": {
        "id": "mcjKLR5uV3n2"
      }
    },
    {
      "cell_type": "code",
      "execution_count": null,
      "metadata": {
        "id": "HDbUEeLCJrXk"
      },
      "outputs": [],
      "source": [
        "import requests"
      ]
    },
    {
      "cell_type": "code",
      "source": [
        "url = \"https://victorgau.github.io/khpy_web_intro/html_only.html\""
      ],
      "metadata": {
        "id": "oRMLzOfmUxWF"
      },
      "execution_count": null,
      "outputs": []
    },
    {
      "cell_type": "code",
      "source": [
        "r = requests.get(url)"
      ],
      "metadata": {
        "id": "td8hYNHkU2C4"
      },
      "execution_count": null,
      "outputs": []
    },
    {
      "cell_type": "code",
      "source": [
        "print(r.text)"
      ],
      "metadata": {
        "colab": {
          "base_uri": "https://localhost:8080/"
        },
        "id": "Lg9QNXloU6hA",
        "outputId": "fb1e43b7-f0cb-4b14-d8e6-78796bb6e4f4"
      },
      "execution_count": null,
      "outputs": [
        {
          "output_type": "stream",
          "name": "stdout",
          "text": [
            "<!DOCTYPE html>\n",
            "<html>\n",
            "<head>\n",
            "    <title>HTML範例</title>\n",
            "</head>\n",
            "<body>\n",
            "\n",
            "<h1>哈囉！HTML！</h1>\n",
            "\n",
            "<img src=\"ninja.jpg\" />\n",
            "\n",
            "</body>\n",
            "</html>\n"
          ]
        }
      ]
    },
    {
      "cell_type": "markdown",
      "source": [
        "## 抓取Ajax網頁資料"
      ],
      "metadata": {
        "id": "Si3jeptJVxEI"
      }
    },
    {
      "cell_type": "markdown",
      "source": [
        "### 從非 ajax網站的網頁上,可以直接看到資料"
      ],
      "metadata": {
        "id": "FqlFn-hhWvef"
      }
    },
    {
      "cell_type": "code",
      "source": [
        "url = \"https://victorgau.github.io/khpy_web_intro/spy_ajax.html\""
      ],
      "metadata": {
        "id": "Cws-HDOhU_mG"
      },
      "execution_count": null,
      "outputs": []
    },
    {
      "cell_type": "code",
      "source": [
        "r = requests.get(url)"
      ],
      "metadata": {
        "id": "R4L-2OKYWS8s"
      },
      "execution_count": null,
      "outputs": []
    },
    {
      "cell_type": "code",
      "source": [
        "print(r.text)"
      ],
      "metadata": {
        "colab": {
          "base_uri": "https://localhost:8080/"
        },
        "id": "ezpAykFLWTZL",
        "outputId": "a8cb1777-ff83-4856-bd0a-ded9f7b3390a"
      },
      "execution_count": null,
      "outputs": [
        {
          "output_type": "stream",
          "name": "stdout",
          "text": [
            "<!DOCTYPE html>\n",
            "<html>\n",
            "<head>\n",
            "    <!-- Required meta tags -->\n",
            "    <meta charset=\"utf-8\">\n",
            "    <meta name=\"viewport\" content=\"width=device-width, initial-scale=1, shrink-to-fit=no\">\n",
            "\n",
            "    <!-- Bootstrap CSS -->\n",
            "    <link rel=\"stylesheet\" href=\"https://maxcdn.bootstrapcdn.com/bootstrap/4.0.0/css/bootstrap.min.css\" integrity=\"sha384-Gn5384xqQ1aoWXA+058RXPxPg6fy4IWvTNh0E263XmFcJlSAwiGgFAW/dAiS6JXm\" crossorigin=\"anonymous\">\n",
            "    <link rel=\"stylesheet\" href=\"https://cdn.jsdelivr.net/npm/bootstrap-icons@1.5.0/font/bootstrap-icons.css\">\n",
            "    <script src=\"https://code.jquery.com/jquery-3.6.0.min.js\"></script>\n",
            "    <title>AJAX範例</title>\n",
            "</head>\n",
            "<body>\n",
            "  <div class=\"container\">\n",
            "    <h1>SPY股價</h1>\n",
            "  </div>\n",
            "  <div class=\"container\">\n",
            "    <table border=\"1\" class=\"dataframe table table-striped\">\n",
            "        <thead>\n",
            "          <tr style=\"text-align: right;\">\n",
            "            <th></th>\n",
            "            <th>Open</th>\n",
            "            <th>High</th>\n",
            "            <th>Low</th>\n",
            "            <th>Close</th>\n",
            "            <th>Adj Close</th>\n",
            "            <th>Volume</th>\n",
            "          </tr>\n",
            "          <tr>\n",
            "            <th>Date</th>\n",
            "            <th></th>\n",
            "            <th></th>\n",
            "            <th></th>\n",
            "            <th></th>\n",
            "            <th></th>\n",
            "            <th></th>\n",
            "          </tr>\n",
            "        </thead>\n",
            "        <tbody id=\"spy\">\n",
            "\n",
            "        </tbody>\n",
            "    </table>\n",
            "  </div>\n",
            "\n",
            "  <script type=\"text/javascript\">\n",
            "    $(document).ready(function(){\n",
            "        $.ajax({\n",
            "            url: \"spy.json\",\n",
            "            dataType: 'json',\n",
            "            type: 'get',\n",
            "            cache:false,\n",
            "            success: function(data){\n",
            "                // console.log(data);\n",
            "                var event_data = '';\n",
            "                $.each(data, function(index, value){\n",
            "                    // console.log(value);\n",
            "                    event_data += '<tr>';\n",
            "                    event_data += '<th>'+value.Date+'</th>';\n",
            "                    event_data += '<td>'+value.Open+'</td>';\n",
            "                    event_data += '<td>'+value.High+'</td>';\n",
            "                    event_data += '<td>'+value.Low+'</td>';\n",
            "                    event_data += '<td>'+value.Close+'</td>';\n",
            "                    event_data += '<td>'+value['Adj Close']+'</td>';\n",
            "                    event_data += '<td>'+value.Volume+'</td>';\n",
            "                    event_data += '</tr>';\n",
            "                });\n",
            "                $(\"#spy\").append(event_data);\n",
            "            },\n",
            "            error: function(d){\n",
            "                // console.log(\"error\");\n",
            "                alert(\"404. Please wait until the File is Loaded.\");\n",
            "            }\n",
            "        });\n",
            "    });\n",
            "    </script>\n",
            "    \n",
            "\n",
            "</body>\n",
            "</html>\n"
          ]
        }
      ]
    },
    {
      "cell_type": "code",
      "source": [
        "url = \"https://victorgau.github.io/khpy_web_intro/spy.json\""
      ],
      "metadata": {
        "id": "ZvbI-v9DXAuz"
      },
      "execution_count": null,
      "outputs": []
    },
    {
      "cell_type": "code",
      "source": [
        "data = requests.get(url).json()"
      ],
      "metadata": {
        "id": "Fwu7kJV1iDXb"
      },
      "execution_count": null,
      "outputs": []
    },
    {
      "cell_type": "code",
      "source": [
        "df = pd.read_json(url)"
      ],
      "metadata": {
        "id": "aWvlb-wGiFil"
      },
      "execution_count": null,
      "outputs": []
    },
    {
      "cell_type": "code",
      "source": [
        "df.head()"
      ],
      "metadata": {
        "colab": {
          "base_uri": "https://localhost:8080/",
          "height": 206
        },
        "id": "VgNxuFFFWUgf",
        "outputId": "57fdfd1a-27fe-4a75-fefe-d5c387f34ad1"
      },
      "execution_count": null,
      "outputs": [
        {
          "output_type": "execute_result",
          "data": {
            "text/plain": [
              "        Date        Open        High         Low       Close   Adj Close  \\\n",
              "0 2021-07-26  439.309998  441.029999  439.260010  441.019989  441.019989   \n",
              "1 2021-07-27  439.910004  439.940002  435.989990  439.010010  439.010010   \n",
              "2 2021-07-28  439.679993  440.299988  437.309998  438.829987  438.829987   \n",
              "3 2021-07-29  439.820007  441.799988  439.809998  440.649994  440.649994   \n",
              "4 2021-07-30  437.910004  440.059998  437.769989  438.510010  438.510010   \n",
              "\n",
              "     Volume  \n",
              "0  43719200  \n",
              "1  67397100  \n",
              "2  52472400  \n",
              "3  47435300  \n",
              "4  68890600  "
            ],
            "text/html": [
              "\n",
              "  <div id=\"df-61308361-b57d-4098-8bf3-df78ae7dea85\">\n",
              "    <div class=\"colab-df-container\">\n",
              "      <div>\n",
              "<style scoped>\n",
              "    .dataframe tbody tr th:only-of-type {\n",
              "        vertical-align: middle;\n",
              "    }\n",
              "\n",
              "    .dataframe tbody tr th {\n",
              "        vertical-align: top;\n",
              "    }\n",
              "\n",
              "    .dataframe thead th {\n",
              "        text-align: right;\n",
              "    }\n",
              "</style>\n",
              "<table border=\"1\" class=\"dataframe\">\n",
              "  <thead>\n",
              "    <tr style=\"text-align: right;\">\n",
              "      <th></th>\n",
              "      <th>Date</th>\n",
              "      <th>Open</th>\n",
              "      <th>High</th>\n",
              "      <th>Low</th>\n",
              "      <th>Close</th>\n",
              "      <th>Adj Close</th>\n",
              "      <th>Volume</th>\n",
              "    </tr>\n",
              "  </thead>\n",
              "  <tbody>\n",
              "    <tr>\n",
              "      <th>0</th>\n",
              "      <td>2021-07-26</td>\n",
              "      <td>439.309998</td>\n",
              "      <td>441.029999</td>\n",
              "      <td>439.260010</td>\n",
              "      <td>441.019989</td>\n",
              "      <td>441.019989</td>\n",
              "      <td>43719200</td>\n",
              "    </tr>\n",
              "    <tr>\n",
              "      <th>1</th>\n",
              "      <td>2021-07-27</td>\n",
              "      <td>439.910004</td>\n",
              "      <td>439.940002</td>\n",
              "      <td>435.989990</td>\n",
              "      <td>439.010010</td>\n",
              "      <td>439.010010</td>\n",
              "      <td>67397100</td>\n",
              "    </tr>\n",
              "    <tr>\n",
              "      <th>2</th>\n",
              "      <td>2021-07-28</td>\n",
              "      <td>439.679993</td>\n",
              "      <td>440.299988</td>\n",
              "      <td>437.309998</td>\n",
              "      <td>438.829987</td>\n",
              "      <td>438.829987</td>\n",
              "      <td>52472400</td>\n",
              "    </tr>\n",
              "    <tr>\n",
              "      <th>3</th>\n",
              "      <td>2021-07-29</td>\n",
              "      <td>439.820007</td>\n",
              "      <td>441.799988</td>\n",
              "      <td>439.809998</td>\n",
              "      <td>440.649994</td>\n",
              "      <td>440.649994</td>\n",
              "      <td>47435300</td>\n",
              "    </tr>\n",
              "    <tr>\n",
              "      <th>4</th>\n",
              "      <td>2021-07-30</td>\n",
              "      <td>437.910004</td>\n",
              "      <td>440.059998</td>\n",
              "      <td>437.769989</td>\n",
              "      <td>438.510010</td>\n",
              "      <td>438.510010</td>\n",
              "      <td>68890600</td>\n",
              "    </tr>\n",
              "  </tbody>\n",
              "</table>\n",
              "</div>\n",
              "      <button class=\"colab-df-convert\" onclick=\"convertToInteractive('df-61308361-b57d-4098-8bf3-df78ae7dea85')\"\n",
              "              title=\"Convert this dataframe to an interactive table.\"\n",
              "              style=\"display:none;\">\n",
              "        \n",
              "  <svg xmlns=\"http://www.w3.org/2000/svg\" height=\"24px\"viewBox=\"0 0 24 24\"\n",
              "       width=\"24px\">\n",
              "    <path d=\"M0 0h24v24H0V0z\" fill=\"none\"/>\n",
              "    <path d=\"M18.56 5.44l.94 2.06.94-2.06 2.06-.94-2.06-.94-.94-2.06-.94 2.06-2.06.94zm-11 1L8.5 8.5l.94-2.06 2.06-.94-2.06-.94L8.5 2.5l-.94 2.06-2.06.94zm10 10l.94 2.06.94-2.06 2.06-.94-2.06-.94-.94-2.06-.94 2.06-2.06.94z\"/><path d=\"M17.41 7.96l-1.37-1.37c-.4-.4-.92-.59-1.43-.59-.52 0-1.04.2-1.43.59L10.3 9.45l-7.72 7.72c-.78.78-.78 2.05 0 2.83L4 21.41c.39.39.9.59 1.41.59.51 0 1.02-.2 1.41-.59l7.78-7.78 2.81-2.81c.8-.78.8-2.07 0-2.86zM5.41 20L4 18.59l7.72-7.72 1.47 1.35L5.41 20z\"/>\n",
              "  </svg>\n",
              "      </button>\n",
              "      \n",
              "  <style>\n",
              "    .colab-df-container {\n",
              "      display:flex;\n",
              "      flex-wrap:wrap;\n",
              "      gap: 12px;\n",
              "    }\n",
              "\n",
              "    .colab-df-convert {\n",
              "      background-color: #E8F0FE;\n",
              "      border: none;\n",
              "      border-radius: 50%;\n",
              "      cursor: pointer;\n",
              "      display: none;\n",
              "      fill: #1967D2;\n",
              "      height: 32px;\n",
              "      padding: 0 0 0 0;\n",
              "      width: 32px;\n",
              "    }\n",
              "\n",
              "    .colab-df-convert:hover {\n",
              "      background-color: #E2EBFA;\n",
              "      box-shadow: 0px 1px 2px rgba(60, 64, 67, 0.3), 0px 1px 3px 1px rgba(60, 64, 67, 0.15);\n",
              "      fill: #174EA6;\n",
              "    }\n",
              "\n",
              "    [theme=dark] .colab-df-convert {\n",
              "      background-color: #3B4455;\n",
              "      fill: #D2E3FC;\n",
              "    }\n",
              "\n",
              "    [theme=dark] .colab-df-convert:hover {\n",
              "      background-color: #434B5C;\n",
              "      box-shadow: 0px 1px 3px 1px rgba(0, 0, 0, 0.15);\n",
              "      filter: drop-shadow(0px 1px 2px rgba(0, 0, 0, 0.3));\n",
              "      fill: #FFFFFF;\n",
              "    }\n",
              "  </style>\n",
              "\n",
              "      <script>\n",
              "        const buttonEl =\n",
              "          document.querySelector('#df-61308361-b57d-4098-8bf3-df78ae7dea85 button.colab-df-convert');\n",
              "        buttonEl.style.display =\n",
              "          google.colab.kernel.accessAllowed ? 'block' : 'none';\n",
              "\n",
              "        async function convertToInteractive(key) {\n",
              "          const element = document.querySelector('#df-61308361-b57d-4098-8bf3-df78ae7dea85');\n",
              "          const dataTable =\n",
              "            await google.colab.kernel.invokeFunction('convertToInteractive',\n",
              "                                                     [key], {});\n",
              "          if (!dataTable) return;\n",
              "\n",
              "          const docLinkHtml = 'Like what you see? Visit the ' +\n",
              "            '<a target=\"_blank\" href=https://colab.research.google.com/notebooks/data_table.ipynb>data table notebook</a>'\n",
              "            + ' to learn more about interactive tables.';\n",
              "          element.innerHTML = '';\n",
              "          dataTable['output_type'] = 'display_data';\n",
              "          await google.colab.output.renderOutput(dataTable, element);\n",
              "          const docLink = document.createElement('div');\n",
              "          docLink.innerHTML = docLinkHtml;\n",
              "          element.appendChild(docLink);\n",
              "        }\n",
              "      </script>\n",
              "    </div>\n",
              "  </div>\n",
              "  "
            ]
          },
          "metadata": {},
          "execution_count": 43
        }
      ]
    },
    {
      "cell_type": "markdown",
      "source": [
        "### 從 ajax 網頁上，可能看不到資料"
      ],
      "metadata": {
        "id": "06Lux8rSXXIu"
      }
    },
    {
      "cell_type": "code",
      "source": [
        "url = \"https://victorgau.github.io/khpy_web_intro/spy_ajax.html\""
      ],
      "metadata": {
        "id": "vx_60fmPXVXj"
      },
      "execution_count": null,
      "outputs": []
    },
    {
      "cell_type": "code",
      "source": [
        "r = requests.get(url)"
      ],
      "metadata": {
        "id": "uyGHzZ_rXaO7"
      },
      "execution_count": null,
      "outputs": []
    },
    {
      "cell_type": "code",
      "source": [
        "r.request.headers"
      ],
      "metadata": {
        "colab": {
          "base_uri": "https://localhost:8080/"
        },
        "id": "oU6yp6ePb7fS",
        "outputId": "a6444e1c-fd03-4534-87d0-3f219dd90f67"
      },
      "execution_count": null,
      "outputs": [
        {
          "output_type": "execute_result",
          "data": {
            "text/plain": [
              "{'User-Agent': 'python-requests/2.25.1', 'Accept-Encoding': 'gzip, deflate', 'Accept': '*/*', 'Connection': 'keep-alive'}"
            ]
          },
          "metadata": {},
          "execution_count": 17
        }
      ]
    },
    {
      "cell_type": "code",
      "source": [
        "r.headers"
      ],
      "metadata": {
        "colab": {
          "base_uri": "https://localhost:8080/"
        },
        "id": "NaVVd5Wocbs2",
        "outputId": "6d6cdb03-65fa-49d6-e612-cf695f989fe5"
      },
      "execution_count": null,
      "outputs": [
        {
          "output_type": "execute_result",
          "data": {
            "text/plain": [
              "{'Connection': 'keep-alive', 'Content-Length': '949', 'Server': 'GitHub.com', 'Content-Type': 'text/html; charset=utf-8', 'permissions-policy': 'interest-cohort=()', 'Last-Modified': 'Sat, 09 Oct 2021 21:20:24 GMT', 'Access-Control-Allow-Origin': '*', 'ETag': 'W/\"61620798-9ed\"', 'expires': 'Sat, 04 Mar 2023 02:15:00 GMT', 'Cache-Control': 'max-age=600', 'Content-Encoding': 'gzip', 'x-proxy-cache': 'MISS', 'X-GitHub-Request-Id': '8E40:666B:1875F0:1B272F:6402A74C', 'Accept-Ranges': 'bytes', 'Date': 'Sat, 04 Mar 2023 02:05:00 GMT', 'Via': '1.1 varnish', 'Age': '0', 'X-Served-By': 'cache-lax10625-LGB', 'X-Cache': 'MISS', 'X-Cache-Hits': '0', 'X-Timer': 'S1677895500.006373,VS0,VE98', 'Vary': 'Accept-Encoding', 'X-Fastly-Request-ID': 'b1f4018652e58dde6de922dc0c3eb998b7c784b0'}"
            ]
          },
          "metadata": {},
          "execution_count": 18
        }
      ]
    },
    {
      "cell_type": "code",
      "source": [
        "print(r.text)"
      ],
      "metadata": {
        "id": "oaR5agS2XboB"
      },
      "execution_count": null,
      "outputs": []
    },
    {
      "cell_type": "markdown",
      "source": [
        "## 關於 pandas 的 read_html()"
      ],
      "metadata": {
        "id": "vJh8zNHOcg70"
      }
    },
    {
      "cell_type": "code",
      "source": [
        "url = \"https://en.wikipedia.org/wiki/List_of_S%26P_500_companies\""
      ],
      "metadata": {
        "id": "_lwZPzurXcxm"
      },
      "execution_count": null,
      "outputs": []
    },
    {
      "cell_type": "code",
      "source": [
        "dfs = pd.read_html(url)"
      ],
      "metadata": {
        "id": "EtfIcJF8cjab"
      },
      "execution_count": null,
      "outputs": []
    },
    {
      "cell_type": "code",
      "source": [
        "type(dfs)"
      ],
      "metadata": {
        "colab": {
          "base_uri": "https://localhost:8080/"
        },
        "id": "DVyZMKukckr7",
        "outputId": "5e76fba0-f32e-444d-e961-acbad867273f"
      },
      "execution_count": null,
      "outputs": [
        {
          "output_type": "execute_result",
          "data": {
            "text/plain": [
              "list"
            ]
          },
          "metadata": {},
          "execution_count": 33
        }
      ]
    },
    {
      "cell_type": "code",
      "source": [
        "len(dfs)"
      ],
      "metadata": {
        "colab": {
          "base_uri": "https://localhost:8080/"
        },
        "id": "lZEN4zBrclur",
        "outputId": "0d5a2911-82fb-4e3c-ae28-4d4f7d683af8"
      },
      "execution_count": null,
      "outputs": [
        {
          "output_type": "execute_result",
          "data": {
            "text/plain": [
              "2"
            ]
          },
          "metadata": {},
          "execution_count": 34
        }
      ]
    },
    {
      "cell_type": "code",
      "source": [
        "dfs[0]"
      ],
      "metadata": {
        "colab": {
          "base_uri": "https://localhost:8080/",
          "height": 658
        },
        "id": "Wyi4QwcLeFaP",
        "outputId": "e1845f94-c8c9-4682-d18b-05658bd87d8e"
      },
      "execution_count": null,
      "outputs": [
        {
          "output_type": "execute_result",
          "data": {
            "text/plain": [
              "    Symbol              Security             GICS Sector  \\\n",
              "0      MMM                    3M             Industrials   \n",
              "1      AOS           A. O. Smith             Industrials   \n",
              "2      ABT                Abbott             Health Care   \n",
              "3     ABBV                AbbVie             Health Care   \n",
              "4      ACN             Accenture  Information Technology   \n",
              "..     ...                   ...                     ...   \n",
              "498    YUM           Yum! Brands  Consumer Discretionary   \n",
              "499   ZBRA    Zebra Technologies  Information Technology   \n",
              "500    ZBH         Zimmer Biomet             Health Care   \n",
              "501   ZION  Zions Bancorporation              Financials   \n",
              "502    ZTS                Zoetis             Health Care   \n",
              "\n",
              "                      GICS Sub-Industry    Headquarters Location  Date added  \\\n",
              "0              Industrial Conglomerates    Saint Paul, Minnesota  1957-03-04   \n",
              "1                     Building Products     Milwaukee, Wisconsin  2017-07-26   \n",
              "2                 Health Care Equipment  North Chicago, Illinois  1957-03-04   \n",
              "3                       Pharmaceuticals  North Chicago, Illinois  2012-12-31   \n",
              "4        IT Consulting & Other Services          Dublin, Ireland  2011-07-06   \n",
              "..                                  ...                      ...         ...   \n",
              "498                         Restaurants     Louisville, Kentucky  1997-10-06   \n",
              "499  Electronic Equipment & Instruments   Lincolnshire, Illinois  2019-12-23   \n",
              "500               Health Care Equipment          Warsaw, Indiana  2001-08-07   \n",
              "501                      Regional Banks     Salt Lake City, Utah  2001-06-22   \n",
              "502                     Pharmaceuticals   Parsippany, New Jersey  2013-06-21   \n",
              "\n",
              "         CIK      Founded  \n",
              "0      66740         1902  \n",
              "1      91142         1916  \n",
              "2       1800         1888  \n",
              "3    1551152  2013 (1888)  \n",
              "4    1467373         1989  \n",
              "..       ...          ...  \n",
              "498  1041061         1997  \n",
              "499   877212         1969  \n",
              "500  1136869         1927  \n",
              "501   109380         1873  \n",
              "502  1555280         1952  \n",
              "\n",
              "[503 rows x 8 columns]"
            ],
            "text/html": [
              "\n",
              "  <div id=\"df-22da267c-d474-4ec5-bb2f-35cd7b6f0e42\">\n",
              "    <div class=\"colab-df-container\">\n",
              "      <div>\n",
              "<style scoped>\n",
              "    .dataframe tbody tr th:only-of-type {\n",
              "        vertical-align: middle;\n",
              "    }\n",
              "\n",
              "    .dataframe tbody tr th {\n",
              "        vertical-align: top;\n",
              "    }\n",
              "\n",
              "    .dataframe thead th {\n",
              "        text-align: right;\n",
              "    }\n",
              "</style>\n",
              "<table border=\"1\" class=\"dataframe\">\n",
              "  <thead>\n",
              "    <tr style=\"text-align: right;\">\n",
              "      <th></th>\n",
              "      <th>Symbol</th>\n",
              "      <th>Security</th>\n",
              "      <th>GICS Sector</th>\n",
              "      <th>GICS Sub-Industry</th>\n",
              "      <th>Headquarters Location</th>\n",
              "      <th>Date added</th>\n",
              "      <th>CIK</th>\n",
              "      <th>Founded</th>\n",
              "    </tr>\n",
              "  </thead>\n",
              "  <tbody>\n",
              "    <tr>\n",
              "      <th>0</th>\n",
              "      <td>MMM</td>\n",
              "      <td>3M</td>\n",
              "      <td>Industrials</td>\n",
              "      <td>Industrial Conglomerates</td>\n",
              "      <td>Saint Paul, Minnesota</td>\n",
              "      <td>1957-03-04</td>\n",
              "      <td>66740</td>\n",
              "      <td>1902</td>\n",
              "    </tr>\n",
              "    <tr>\n",
              "      <th>1</th>\n",
              "      <td>AOS</td>\n",
              "      <td>A. O. Smith</td>\n",
              "      <td>Industrials</td>\n",
              "      <td>Building Products</td>\n",
              "      <td>Milwaukee, Wisconsin</td>\n",
              "      <td>2017-07-26</td>\n",
              "      <td>91142</td>\n",
              "      <td>1916</td>\n",
              "    </tr>\n",
              "    <tr>\n",
              "      <th>2</th>\n",
              "      <td>ABT</td>\n",
              "      <td>Abbott</td>\n",
              "      <td>Health Care</td>\n",
              "      <td>Health Care Equipment</td>\n",
              "      <td>North Chicago, Illinois</td>\n",
              "      <td>1957-03-04</td>\n",
              "      <td>1800</td>\n",
              "      <td>1888</td>\n",
              "    </tr>\n",
              "    <tr>\n",
              "      <th>3</th>\n",
              "      <td>ABBV</td>\n",
              "      <td>AbbVie</td>\n",
              "      <td>Health Care</td>\n",
              "      <td>Pharmaceuticals</td>\n",
              "      <td>North Chicago, Illinois</td>\n",
              "      <td>2012-12-31</td>\n",
              "      <td>1551152</td>\n",
              "      <td>2013 (1888)</td>\n",
              "    </tr>\n",
              "    <tr>\n",
              "      <th>4</th>\n",
              "      <td>ACN</td>\n",
              "      <td>Accenture</td>\n",
              "      <td>Information Technology</td>\n",
              "      <td>IT Consulting &amp; Other Services</td>\n",
              "      <td>Dublin, Ireland</td>\n",
              "      <td>2011-07-06</td>\n",
              "      <td>1467373</td>\n",
              "      <td>1989</td>\n",
              "    </tr>\n",
              "    <tr>\n",
              "      <th>...</th>\n",
              "      <td>...</td>\n",
              "      <td>...</td>\n",
              "      <td>...</td>\n",
              "      <td>...</td>\n",
              "      <td>...</td>\n",
              "      <td>...</td>\n",
              "      <td>...</td>\n",
              "      <td>...</td>\n",
              "    </tr>\n",
              "    <tr>\n",
              "      <th>498</th>\n",
              "      <td>YUM</td>\n",
              "      <td>Yum! Brands</td>\n",
              "      <td>Consumer Discretionary</td>\n",
              "      <td>Restaurants</td>\n",
              "      <td>Louisville, Kentucky</td>\n",
              "      <td>1997-10-06</td>\n",
              "      <td>1041061</td>\n",
              "      <td>1997</td>\n",
              "    </tr>\n",
              "    <tr>\n",
              "      <th>499</th>\n",
              "      <td>ZBRA</td>\n",
              "      <td>Zebra Technologies</td>\n",
              "      <td>Information Technology</td>\n",
              "      <td>Electronic Equipment &amp; Instruments</td>\n",
              "      <td>Lincolnshire, Illinois</td>\n",
              "      <td>2019-12-23</td>\n",
              "      <td>877212</td>\n",
              "      <td>1969</td>\n",
              "    </tr>\n",
              "    <tr>\n",
              "      <th>500</th>\n",
              "      <td>ZBH</td>\n",
              "      <td>Zimmer Biomet</td>\n",
              "      <td>Health Care</td>\n",
              "      <td>Health Care Equipment</td>\n",
              "      <td>Warsaw, Indiana</td>\n",
              "      <td>2001-08-07</td>\n",
              "      <td>1136869</td>\n",
              "      <td>1927</td>\n",
              "    </tr>\n",
              "    <tr>\n",
              "      <th>501</th>\n",
              "      <td>ZION</td>\n",
              "      <td>Zions Bancorporation</td>\n",
              "      <td>Financials</td>\n",
              "      <td>Regional Banks</td>\n",
              "      <td>Salt Lake City, Utah</td>\n",
              "      <td>2001-06-22</td>\n",
              "      <td>109380</td>\n",
              "      <td>1873</td>\n",
              "    </tr>\n",
              "    <tr>\n",
              "      <th>502</th>\n",
              "      <td>ZTS</td>\n",
              "      <td>Zoetis</td>\n",
              "      <td>Health Care</td>\n",
              "      <td>Pharmaceuticals</td>\n",
              "      <td>Parsippany, New Jersey</td>\n",
              "      <td>2013-06-21</td>\n",
              "      <td>1555280</td>\n",
              "      <td>1952</td>\n",
              "    </tr>\n",
              "  </tbody>\n",
              "</table>\n",
              "<p>503 rows × 8 columns</p>\n",
              "</div>\n",
              "      <button class=\"colab-df-convert\" onclick=\"convertToInteractive('df-22da267c-d474-4ec5-bb2f-35cd7b6f0e42')\"\n",
              "              title=\"Convert this dataframe to an interactive table.\"\n",
              "              style=\"display:none;\">\n",
              "        \n",
              "  <svg xmlns=\"http://www.w3.org/2000/svg\" height=\"24px\"viewBox=\"0 0 24 24\"\n",
              "       width=\"24px\">\n",
              "    <path d=\"M0 0h24v24H0V0z\" fill=\"none\"/>\n",
              "    <path d=\"M18.56 5.44l.94 2.06.94-2.06 2.06-.94-2.06-.94-.94-2.06-.94 2.06-2.06.94zm-11 1L8.5 8.5l.94-2.06 2.06-.94-2.06-.94L8.5 2.5l-.94 2.06-2.06.94zm10 10l.94 2.06.94-2.06 2.06-.94-2.06-.94-.94-2.06-.94 2.06-2.06.94z\"/><path d=\"M17.41 7.96l-1.37-1.37c-.4-.4-.92-.59-1.43-.59-.52 0-1.04.2-1.43.59L10.3 9.45l-7.72 7.72c-.78.78-.78 2.05 0 2.83L4 21.41c.39.39.9.59 1.41.59.51 0 1.02-.2 1.41-.59l7.78-7.78 2.81-2.81c.8-.78.8-2.07 0-2.86zM5.41 20L4 18.59l7.72-7.72 1.47 1.35L5.41 20z\"/>\n",
              "  </svg>\n",
              "      </button>\n",
              "      \n",
              "  <style>\n",
              "    .colab-df-container {\n",
              "      display:flex;\n",
              "      flex-wrap:wrap;\n",
              "      gap: 12px;\n",
              "    }\n",
              "\n",
              "    .colab-df-convert {\n",
              "      background-color: #E8F0FE;\n",
              "      border: none;\n",
              "      border-radius: 50%;\n",
              "      cursor: pointer;\n",
              "      display: none;\n",
              "      fill: #1967D2;\n",
              "      height: 32px;\n",
              "      padding: 0 0 0 0;\n",
              "      width: 32px;\n",
              "    }\n",
              "\n",
              "    .colab-df-convert:hover {\n",
              "      background-color: #E2EBFA;\n",
              "      box-shadow: 0px 1px 2px rgba(60, 64, 67, 0.3), 0px 1px 3px 1px rgba(60, 64, 67, 0.15);\n",
              "      fill: #174EA6;\n",
              "    }\n",
              "\n",
              "    [theme=dark] .colab-df-convert {\n",
              "      background-color: #3B4455;\n",
              "      fill: #D2E3FC;\n",
              "    }\n",
              "\n",
              "    [theme=dark] .colab-df-convert:hover {\n",
              "      background-color: #434B5C;\n",
              "      box-shadow: 0px 1px 3px 1px rgba(0, 0, 0, 0.15);\n",
              "      filter: drop-shadow(0px 1px 2px rgba(0, 0, 0, 0.3));\n",
              "      fill: #FFFFFF;\n",
              "    }\n",
              "  </style>\n",
              "\n",
              "      <script>\n",
              "        const buttonEl =\n",
              "          document.querySelector('#df-22da267c-d474-4ec5-bb2f-35cd7b6f0e42 button.colab-df-convert');\n",
              "        buttonEl.style.display =\n",
              "          google.colab.kernel.accessAllowed ? 'block' : 'none';\n",
              "\n",
              "        async function convertToInteractive(key) {\n",
              "          const element = document.querySelector('#df-22da267c-d474-4ec5-bb2f-35cd7b6f0e42');\n",
              "          const dataTable =\n",
              "            await google.colab.kernel.invokeFunction('convertToInteractive',\n",
              "                                                     [key], {});\n",
              "          if (!dataTable) return;\n",
              "\n",
              "          const docLinkHtml = 'Like what you see? Visit the ' +\n",
              "            '<a target=\"_blank\" href=https://colab.research.google.com/notebooks/data_table.ipynb>data table notebook</a>'\n",
              "            + ' to learn more about interactive tables.';\n",
              "          element.innerHTML = '';\n",
              "          dataTable['output_type'] = 'display_data';\n",
              "          await google.colab.output.renderOutput(dataTable, element);\n",
              "          const docLink = document.createElement('div');\n",
              "          docLink.innerHTML = docLinkHtml;\n",
              "          element.appendChild(docLink);\n",
              "        }\n",
              "      </script>\n",
              "    </div>\n",
              "  </div>\n",
              "  "
            ]
          },
          "metadata": {},
          "execution_count": 35
        }
      ]
    },
    {
      "cell_type": "code",
      "source": [
        "dfs[1]"
      ],
      "metadata": {
        "colab": {
          "base_uri": "https://localhost:8080/",
          "height": 655
        },
        "id": "rvie4PFEeH4m",
        "outputId": "3256b637-8902-491d-9d0b-2b585db6c7b1"
      },
      "execution_count": null,
      "outputs": [
        {
          "output_type": "execute_result",
          "data": {
            "text/plain": [
              "                  Date  Added                                Removed  \\\n",
              "                  Date Ticker                       Security  Ticker   \n",
              "0      January 5, 2023    NaN                            NaN     VNO   \n",
              "1      January 4, 2023   GEHC                  GE HealthCare     NaN   \n",
              "2    December 22, 2022   STLD                 Steel Dynamics    ABMD   \n",
              "3    December 19, 2022   FSLR                    First Solar    FBHS   \n",
              "4    December 19, 2022    NaN                            NaN     MBC   \n",
              "..                 ...    ...                            ...     ...   \n",
              "315       June 9, 1999    WLP                      Wellpoint     HPH   \n",
              "316  December 11, 1998    FSR                        Firstar     LDW   \n",
              "317  December 11, 1998    CCL                 Carnival Corp.     GRN   \n",
              "318  December 11, 1998   CPWR                      Compuware     SUN   \n",
              "319      June 17, 1997    CCI  Countrywide Credit Industries     USL   \n",
              "\n",
              "                                     \\\n",
              "                           Security   \n",
              "0              Vornado Realty Trust   \n",
              "1                               NaN   \n",
              "2                           Abiomed   \n",
              "3    Fortune Brands Home & Security   \n",
              "4                       MasterBrand   \n",
              "..                              ...   \n",
              "315        Harnischfeger Industries   \n",
              "316                           Amoco   \n",
              "317                      General Re   \n",
              "318                      SunAmerica   \n",
              "319                          USLife   \n",
              "\n",
              "                                                Reason  \n",
              "                                                Reason  \n",
              "0                     Market capitalization change.[4]  \n",
              "1    S&P 500 constituent General Electric spun off ...  \n",
              "2    S&P 500 constituent Johnson & Johnson acquired...  \n",
              "3                     Market capitalization change.[7]  \n",
              "4                     Market capitalization change.[7]  \n",
              "..                                                 ...  \n",
              "315           Harnischfeger filed for bankruptcy.[241]  \n",
              "316            British Petroleum purchased Amoco.[242]  \n",
              "317      Berkshire Hathaway purchased General Re.[242]  \n",
              "318                     AIG purchased SunAmerica.[242]  \n",
              "319                          AIG acquired USLife.[243]  \n",
              "\n",
              "[320 rows x 6 columns]"
            ],
            "text/html": [
              "\n",
              "  <div id=\"df-2ef43197-550f-449a-8699-644eb27677f8\">\n",
              "    <div class=\"colab-df-container\">\n",
              "      <div>\n",
              "<style scoped>\n",
              "    .dataframe tbody tr th:only-of-type {\n",
              "        vertical-align: middle;\n",
              "    }\n",
              "\n",
              "    .dataframe tbody tr th {\n",
              "        vertical-align: top;\n",
              "    }\n",
              "\n",
              "    .dataframe thead tr th {\n",
              "        text-align: left;\n",
              "    }\n",
              "</style>\n",
              "<table border=\"1\" class=\"dataframe\">\n",
              "  <thead>\n",
              "    <tr>\n",
              "      <th></th>\n",
              "      <th>Date</th>\n",
              "      <th colspan=\"2\" halign=\"left\">Added</th>\n",
              "      <th colspan=\"2\" halign=\"left\">Removed</th>\n",
              "      <th>Reason</th>\n",
              "    </tr>\n",
              "    <tr>\n",
              "      <th></th>\n",
              "      <th>Date</th>\n",
              "      <th>Ticker</th>\n",
              "      <th>Security</th>\n",
              "      <th>Ticker</th>\n",
              "      <th>Security</th>\n",
              "      <th>Reason</th>\n",
              "    </tr>\n",
              "  </thead>\n",
              "  <tbody>\n",
              "    <tr>\n",
              "      <th>0</th>\n",
              "      <td>January 5, 2023</td>\n",
              "      <td>NaN</td>\n",
              "      <td>NaN</td>\n",
              "      <td>VNO</td>\n",
              "      <td>Vornado Realty Trust</td>\n",
              "      <td>Market capitalization change.[4]</td>\n",
              "    </tr>\n",
              "    <tr>\n",
              "      <th>1</th>\n",
              "      <td>January 4, 2023</td>\n",
              "      <td>GEHC</td>\n",
              "      <td>GE HealthCare</td>\n",
              "      <td>NaN</td>\n",
              "      <td>NaN</td>\n",
              "      <td>S&amp;P 500 constituent General Electric spun off ...</td>\n",
              "    </tr>\n",
              "    <tr>\n",
              "      <th>2</th>\n",
              "      <td>December 22, 2022</td>\n",
              "      <td>STLD</td>\n",
              "      <td>Steel Dynamics</td>\n",
              "      <td>ABMD</td>\n",
              "      <td>Abiomed</td>\n",
              "      <td>S&amp;P 500 constituent Johnson &amp; Johnson acquired...</td>\n",
              "    </tr>\n",
              "    <tr>\n",
              "      <th>3</th>\n",
              "      <td>December 19, 2022</td>\n",
              "      <td>FSLR</td>\n",
              "      <td>First Solar</td>\n",
              "      <td>FBHS</td>\n",
              "      <td>Fortune Brands Home &amp; Security</td>\n",
              "      <td>Market capitalization change.[7]</td>\n",
              "    </tr>\n",
              "    <tr>\n",
              "      <th>4</th>\n",
              "      <td>December 19, 2022</td>\n",
              "      <td>NaN</td>\n",
              "      <td>NaN</td>\n",
              "      <td>MBC</td>\n",
              "      <td>MasterBrand</td>\n",
              "      <td>Market capitalization change.[7]</td>\n",
              "    </tr>\n",
              "    <tr>\n",
              "      <th>...</th>\n",
              "      <td>...</td>\n",
              "      <td>...</td>\n",
              "      <td>...</td>\n",
              "      <td>...</td>\n",
              "      <td>...</td>\n",
              "      <td>...</td>\n",
              "    </tr>\n",
              "    <tr>\n",
              "      <th>315</th>\n",
              "      <td>June 9, 1999</td>\n",
              "      <td>WLP</td>\n",
              "      <td>Wellpoint</td>\n",
              "      <td>HPH</td>\n",
              "      <td>Harnischfeger Industries</td>\n",
              "      <td>Harnischfeger filed for bankruptcy.[241]</td>\n",
              "    </tr>\n",
              "    <tr>\n",
              "      <th>316</th>\n",
              "      <td>December 11, 1998</td>\n",
              "      <td>FSR</td>\n",
              "      <td>Firstar</td>\n",
              "      <td>LDW</td>\n",
              "      <td>Amoco</td>\n",
              "      <td>British Petroleum purchased Amoco.[242]</td>\n",
              "    </tr>\n",
              "    <tr>\n",
              "      <th>317</th>\n",
              "      <td>December 11, 1998</td>\n",
              "      <td>CCL</td>\n",
              "      <td>Carnival Corp.</td>\n",
              "      <td>GRN</td>\n",
              "      <td>General Re</td>\n",
              "      <td>Berkshire Hathaway purchased General Re.[242]</td>\n",
              "    </tr>\n",
              "    <tr>\n",
              "      <th>318</th>\n",
              "      <td>December 11, 1998</td>\n",
              "      <td>CPWR</td>\n",
              "      <td>Compuware</td>\n",
              "      <td>SUN</td>\n",
              "      <td>SunAmerica</td>\n",
              "      <td>AIG purchased SunAmerica.[242]</td>\n",
              "    </tr>\n",
              "    <tr>\n",
              "      <th>319</th>\n",
              "      <td>June 17, 1997</td>\n",
              "      <td>CCI</td>\n",
              "      <td>Countrywide Credit Industries</td>\n",
              "      <td>USL</td>\n",
              "      <td>USLife</td>\n",
              "      <td>AIG acquired USLife.[243]</td>\n",
              "    </tr>\n",
              "  </tbody>\n",
              "</table>\n",
              "<p>320 rows × 6 columns</p>\n",
              "</div>\n",
              "      <button class=\"colab-df-convert\" onclick=\"convertToInteractive('df-2ef43197-550f-449a-8699-644eb27677f8')\"\n",
              "              title=\"Convert this dataframe to an interactive table.\"\n",
              "              style=\"display:none;\">\n",
              "        \n",
              "  <svg xmlns=\"http://www.w3.org/2000/svg\" height=\"24px\"viewBox=\"0 0 24 24\"\n",
              "       width=\"24px\">\n",
              "    <path d=\"M0 0h24v24H0V0z\" fill=\"none\"/>\n",
              "    <path d=\"M18.56 5.44l.94 2.06.94-2.06 2.06-.94-2.06-.94-.94-2.06-.94 2.06-2.06.94zm-11 1L8.5 8.5l.94-2.06 2.06-.94-2.06-.94L8.5 2.5l-.94 2.06-2.06.94zm10 10l.94 2.06.94-2.06 2.06-.94-2.06-.94-.94-2.06-.94 2.06-2.06.94z\"/><path d=\"M17.41 7.96l-1.37-1.37c-.4-.4-.92-.59-1.43-.59-.52 0-1.04.2-1.43.59L10.3 9.45l-7.72 7.72c-.78.78-.78 2.05 0 2.83L4 21.41c.39.39.9.59 1.41.59.51 0 1.02-.2 1.41-.59l7.78-7.78 2.81-2.81c.8-.78.8-2.07 0-2.86zM5.41 20L4 18.59l7.72-7.72 1.47 1.35L5.41 20z\"/>\n",
              "  </svg>\n",
              "      </button>\n",
              "      \n",
              "  <style>\n",
              "    .colab-df-container {\n",
              "      display:flex;\n",
              "      flex-wrap:wrap;\n",
              "      gap: 12px;\n",
              "    }\n",
              "\n",
              "    .colab-df-convert {\n",
              "      background-color: #E8F0FE;\n",
              "      border: none;\n",
              "      border-radius: 50%;\n",
              "      cursor: pointer;\n",
              "      display: none;\n",
              "      fill: #1967D2;\n",
              "      height: 32px;\n",
              "      padding: 0 0 0 0;\n",
              "      width: 32px;\n",
              "    }\n",
              "\n",
              "    .colab-df-convert:hover {\n",
              "      background-color: #E2EBFA;\n",
              "      box-shadow: 0px 1px 2px rgba(60, 64, 67, 0.3), 0px 1px 3px 1px rgba(60, 64, 67, 0.15);\n",
              "      fill: #174EA6;\n",
              "    }\n",
              "\n",
              "    [theme=dark] .colab-df-convert {\n",
              "      background-color: #3B4455;\n",
              "      fill: #D2E3FC;\n",
              "    }\n",
              "\n",
              "    [theme=dark] .colab-df-convert:hover {\n",
              "      background-color: #434B5C;\n",
              "      box-shadow: 0px 1px 3px 1px rgba(0, 0, 0, 0.15);\n",
              "      filter: drop-shadow(0px 1px 2px rgba(0, 0, 0, 0.3));\n",
              "      fill: #FFFFFF;\n",
              "    }\n",
              "  </style>\n",
              "\n",
              "      <script>\n",
              "        const buttonEl =\n",
              "          document.querySelector('#df-2ef43197-550f-449a-8699-644eb27677f8 button.colab-df-convert');\n",
              "        buttonEl.style.display =\n",
              "          google.colab.kernel.accessAllowed ? 'block' : 'none';\n",
              "\n",
              "        async function convertToInteractive(key) {\n",
              "          const element = document.querySelector('#df-2ef43197-550f-449a-8699-644eb27677f8');\n",
              "          const dataTable =\n",
              "            await google.colab.kernel.invokeFunction('convertToInteractive',\n",
              "                                                     [key], {});\n",
              "          if (!dataTable) return;\n",
              "\n",
              "          const docLinkHtml = 'Like what you see? Visit the ' +\n",
              "            '<a target=\"_blank\" href=https://colab.research.google.com/notebooks/data_table.ipynb>data table notebook</a>'\n",
              "            + ' to learn more about interactive tables.';\n",
              "          element.innerHTML = '';\n",
              "          dataTable['output_type'] = 'display_data';\n",
              "          await google.colab.output.renderOutput(dataTable, element);\n",
              "          const docLink = document.createElement('div');\n",
              "          docLink.innerHTML = docLinkHtml;\n",
              "          element.appendChild(docLink);\n",
              "        }\n",
              "      </script>\n",
              "    </div>\n",
              "  </div>\n",
              "  "
            ]
          },
          "metadata": {},
          "execution_count": 36
        }
      ]
    },
    {
      "cell_type": "markdown",
      "source": [
        "# 剖析網頁原始碼"
      ],
      "metadata": {
        "id": "ZnRIXAbTjSDA"
      }
    },
    {
      "cell_type": "code",
      "source": [
        "#多行字串要用三個\"\"\"\n",
        "s = \"\"\"<!DOCTYPE html>\n",
        "<html>\n",
        "<head>\n",
        "    <!-- Required meta tags -->\n",
        "    <meta charset=\"utf-8\">\n",
        "    <meta name=\"viewport\" content=\"width=device-width, initial-scale=1, shrink-to-fit=no\">\n",
        "\n",
        "    <!-- Bootstrap CSS -->\n",
        "    <link rel=\"stylesheet\" href=\"https://maxcdn.bootstrapcdn.com/bootstrap/4.0.0/css/bootstrap.min.css\" integrity=\"sha384-Gn5384xqQ1aoWXA+058RXPxPg6fy4IWvTNh0E263XmFcJlSAwiGgFAW/dAiS6JXm\" crossorigin=\"anonymous\">\n",
        "    <link rel=\"stylesheet\" href=\"https://cdn.jsdelivr.net/npm/bootstrap-icons@1.5.0/font/bootstrap-icons.css\">\n",
        "    <title>範例索引</title>\n",
        "</head>\n",
        "<body>\n",
        "    <div class=\"container\">\n",
        "        <div class=\"row my-5\">\n",
        "            <div class=\"col\">\n",
        "                <h1 class=\"bg-warning p-3 rounded\">Web及爬蟲簡介課程範例</h1>\n",
        "\n",
        "                <ul class=\"list-group\">\n",
        "                    <li class=\"list-group-item\"><i class=\"bi bi-globe\"></i> <a href=\"html_only.html\">HTML 範例</a></li>\n",
        "                    <li class=\"list-group-item\"><i class=\"bi bi-globe\"></i> <a href=\"html_css.html\">HTML + CSS 範例</a></li>\n",
        "                    <li class=\"list-group-item\"><i class=\"bi bi-globe\"></i> <a href=\"html_css_javascript.html\">HTML + CSS + Javascript 範例</a></li>\n",
        "                    <li class=\"list-group-item\"><i class=\"bi bi-bug\"></i> <a href=\"example01.html\">example01.html (爬蟲抓取用範例)</a></li>\n",
        "                    <li class=\"list-group-item\"><i class=\"bi bi-bug\"></i> <a href=\"example02.html\">example02.html (爬蟲抓取用範例)</a></li>\n",
        "                    <li class=\"list-group-item\"><i class=\"bi bi-bug\"></i> <a href=\"example03.html\">example03.html (爬蟲抓取用範例)</a></li>\n",
        "                    <li class=\"list-group-item\"><i class=\"bi bi-bug\"></i> <a href=\"example04.html\">example04.html (爬蟲抓取用範例)</a></li>\n",
        "                    <li class=\"list-group-item\"><i class=\"bi bi-bug\"></i> <a href=\"example05.html\">example05.html (爬蟲抓取用範例)</a></li>\n",
        "                    <li class=\"list-group-item\"><i class=\"bi bi-bug\"></i> <a href=\"spy.html\">Classic HTML 範例 (爬蟲抓取用範例)</a></li>\n",
        "                    <li class=\"list-group-item\"><i class=\"bi bi-bug\"></i> <a href=\"spy_ajax.html\">Ajax 範例 (爬蟲抓取用範例)</a></li>\n",
        "                    <li class=\"list-group-item\"><i class=\"bi bi-bug\"></i> <a href=\"form_get.html\">HTTP GET 方法說明</a></li>\n",
        "                    <li class=\"list-group-item\"><i class=\"bi bi-bug\"></i> <a href=\"form_post.html\">HTTP POST 方法說明</a></li>\n",
        "                </ul>         \n",
        "            </div>\n",
        "    \n",
        "        </div>\n",
        "    </div>\n",
        "\n",
        "<!-- Optional JavaScript -->\n",
        "<!-- jQuery first, then Popper.js, then Bootstrap JS -->\n",
        "<script src=\"https://code.jquery.com/jquery-3.2.1.slim.min.js\" integrity=\"sha384-KJ3o2DKtIkvYIK3UENzmM7KCkRr/rE9/Qpg6aAZGJwFDMVNA/GpGFF93hXpG5KkN\" crossorigin=\"anonymous\"></script>\n",
        "<script src=\"https://cdnjs.cloudflare.com/ajax/libs/popper.js/1.12.9/umd/popper.min.js\" integrity=\"sha384-ApNbgh9B+Y1QKtv3Rn7W3mgPxhU9K/ScQsAP7hUibX39j7fakFPskvXusvfa0b4Q\" crossorigin=\"anonymous\"></script>\n",
        "<script src=\"https://maxcdn.bootstrapcdn.com/bootstrap/4.0.0/js/bootstrap.min.js\" integrity=\"sha384-JZR6Spejh4U02d8jOt6vLEHfe/JQGiRRSQQxSfFWpi1MquVdAyjUar5+76PVCmYl\" crossorigin=\"anonymous\"></script>\n",
        "\n",
        "</body>\n",
        "</html>\"\"\""
      ],
      "metadata": {
        "id": "lBHSsWAZeIWK"
      },
      "execution_count": null,
      "outputs": []
    },
    {
      "cell_type": "code",
      "source": [
        "type(s)"
      ],
      "metadata": {
        "colab": {
          "base_uri": "https://localhost:8080/"
        },
        "id": "oxYp4yLgj2rd",
        "outputId": "5c9f15fc-2962-4068-f2d6-be8bf9fa4cd0"
      },
      "execution_count": null,
      "outputs": [
        {
          "output_type": "execute_result",
          "data": {
            "text/plain": [
              "str"
            ]
          },
          "metadata": {},
          "execution_count": 45
        }
      ]
    },
    {
      "cell_type": "code",
      "source": [
        "from bs4 import BeautifulSoup"
      ],
      "metadata": {
        "id": "y8kc4wMMj6Fr"
      },
      "execution_count": null,
      "outputs": []
    },
    {
      "cell_type": "code",
      "source": [
        "soup = BeautifulSoup(s)"
      ],
      "metadata": {
        "id": "LHyg9XxRkGTx"
      },
      "execution_count": null,
      "outputs": []
    },
    {
      "cell_type": "code",
      "source": [
        "soup.h1"
      ],
      "metadata": {
        "colab": {
          "base_uri": "https://localhost:8080/"
        },
        "id": "OTPTPZ5IkKgP",
        "outputId": "64696884-4472-4c48-fec5-4bf5eb1384ac"
      },
      "execution_count": null,
      "outputs": [
        {
          "output_type": "execute_result",
          "data": {
            "text/plain": [
              "<h1 class=\"bg-warning p-3 rounded\">Web及爬蟲簡介課程範例</h1>"
            ]
          },
          "metadata": {},
          "execution_count": 48
        }
      ]
    },
    {
      "cell_type": "code",
      "source": [
        "soup.h1.text"
      ],
      "metadata": {
        "colab": {
          "base_uri": "https://localhost:8080/",
          "height": 35
        },
        "id": "Y6NvH16SkQdu",
        "outputId": "d6f23a99-24f6-4f23-9c0c-92b08df13bd6"
      },
      "execution_count": null,
      "outputs": [
        {
          "output_type": "execute_result",
          "data": {
            "text/plain": [
              "'Web及爬蟲簡介課程範例'"
            ],
            "application/vnd.google.colaboratory.intrinsic+json": {
              "type": "string"
            }
          },
          "metadata": {},
          "execution_count": 49
        }
      ]
    },
    {
      "cell_type": "code",
      "source": [
        "#只有打li只會出現一行而已\n",
        "soup.li"
      ],
      "metadata": {
        "colab": {
          "base_uri": "https://localhost:8080/"
        },
        "id": "greSGYOokTYX",
        "outputId": "795b9839-6daf-4a17-d949-62d0c7d51ff2"
      },
      "execution_count": null,
      "outputs": [
        {
          "output_type": "execute_result",
          "data": {
            "text/plain": [
              "<li class=\"list-group-item\"><i class=\"bi bi-globe\"></i> <a href=\"html_only.html\">HTML 範例</a></li>"
            ]
          },
          "metadata": {},
          "execution_count": 52
        }
      ]
    },
    {
      "cell_type": "code",
      "source": [
        "#加上select會出現所有跟li相關的資料\n",
        "soup.select(\"li\")"
      ],
      "metadata": {
        "colab": {
          "base_uri": "https://localhost:8080/"
        },
        "id": "UBtj7pVjkeQm",
        "outputId": "e7d3051a-ea25-4ab7-e560-959d8dad8bc6"
      },
      "execution_count": null,
      "outputs": [
        {
          "output_type": "execute_result",
          "data": {
            "text/plain": [
              "[<li class=\"list-group-item\"><i class=\"bi bi-globe\"></i> <a href=\"html_only.html\">HTML 範例</a></li>,\n",
              " <li class=\"list-group-item\"><i class=\"bi bi-globe\"></i> <a href=\"html_css.html\">HTML + CSS 範例</a></li>,\n",
              " <li class=\"list-group-item\"><i class=\"bi bi-globe\"></i> <a href=\"html_css_javascript.html\">HTML + CSS + Javascript 範例</a></li>,\n",
              " <li class=\"list-group-item\"><i class=\"bi bi-bug\"></i> <a href=\"example01.html\">example01.html (爬蟲抓取用範例)</a></li>,\n",
              " <li class=\"list-group-item\"><i class=\"bi bi-bug\"></i> <a href=\"example02.html\">example02.html (爬蟲抓取用範例)</a></li>,\n",
              " <li class=\"list-group-item\"><i class=\"bi bi-bug\"></i> <a href=\"example03.html\">example03.html (爬蟲抓取用範例)</a></li>,\n",
              " <li class=\"list-group-item\"><i class=\"bi bi-bug\"></i> <a href=\"example04.html\">example04.html (爬蟲抓取用範例)</a></li>,\n",
              " <li class=\"list-group-item\"><i class=\"bi bi-bug\"></i> <a href=\"example05.html\">example05.html (爬蟲抓取用範例)</a></li>,\n",
              " <li class=\"list-group-item\"><i class=\"bi bi-bug\"></i> <a href=\"spy.html\">Classic HTML 範例 (爬蟲抓取用範例)</a></li>,\n",
              " <li class=\"list-group-item\"><i class=\"bi bi-bug\"></i> <a href=\"spy_ajax.html\">Ajax 範例 (爬蟲抓取用範例)</a></li>,\n",
              " <li class=\"list-group-item\"><i class=\"bi bi-bug\"></i> <a href=\"form_get.html\">HTTP GET 方法說明</a></li>,\n",
              " <li class=\"list-group-item\"><i class=\"bi bi-bug\"></i> <a href=\"form_post.html\">HTTP POST 方法說明</a></li>]"
            ]
          },
          "metadata": {},
          "execution_count": 53
        }
      ]
    },
    {
      "cell_type": "code",
      "source": [
        "soup.select(\"li\")[0]"
      ],
      "metadata": {
        "colab": {
          "base_uri": "https://localhost:8080/"
        },
        "id": "Blv8Kaz9kiCW",
        "outputId": "b49d8996-22c1-419c-b7c8-2ca4bd0daf63"
      },
      "execution_count": null,
      "outputs": [
        {
          "output_type": "execute_result",
          "data": {
            "text/plain": [
              "<li class=\"list-group-item\"><i class=\"bi bi-globe\"></i> <a href=\"html_only.html\">HTML 範例</a></li>"
            ]
          },
          "metadata": {},
          "execution_count": 54
        }
      ]
    },
    {
      "cell_type": "code",
      "source": [
        "#第一筆資料的文字部分\n",
        "soup.select(\"li\")[0].text"
      ],
      "metadata": {
        "colab": {
          "base_uri": "https://localhost:8080/",
          "height": 35
        },
        "id": "EgDXeQcPpQlo",
        "outputId": "46fdb479-1d61-4867-828e-6e85b37d8e82"
      },
      "execution_count": null,
      "outputs": [
        {
          "output_type": "execute_result",
          "data": {
            "text/plain": [
              "' HTML 範例'"
            ],
            "application/vnd.google.colaboratory.intrinsic+json": {
              "type": "string"
            }
          },
          "metadata": {},
          "execution_count": 55
        }
      ]
    },
    {
      "cell_type": "code",
      "source": [
        "#第二筆資料文字部分\n",
        "soup.select(\"li\")[1].text"
      ],
      "metadata": {
        "colab": {
          "base_uri": "https://localhost:8080/",
          "height": 35
        },
        "id": "52IBfV6XpT1A",
        "outputId": "459a5c34-e353-4c37-8f05-65b48cf6f76d"
      },
      "execution_count": null,
      "outputs": [
        {
          "output_type": "execute_result",
          "data": {
            "text/plain": [
              "' HTML + CSS 範例'"
            ],
            "application/vnd.google.colaboratory.intrinsic+json": {
              "type": "string"
            }
          },
          "metadata": {},
          "execution_count": 56
        }
      ]
    },
    {
      "cell_type": "code",
      "source": [
        "for x in soup.select(\"li\"):\n",
        "  print(x.text)"
      ],
      "metadata": {
        "colab": {
          "base_uri": "https://localhost:8080/"
        },
        "id": "Kc05LypvqL0A",
        "outputId": "cc5f0535-54a1-470f-f2bc-ded7e7c4877b"
      },
      "execution_count": null,
      "outputs": [
        {
          "output_type": "stream",
          "name": "stdout",
          "text": [
            " HTML 範例\n",
            " HTML + CSS 範例\n",
            " HTML + CSS + Javascript 範例\n",
            " example01.html (爬蟲抓取用範例)\n",
            " example02.html (爬蟲抓取用範例)\n",
            " example03.html (爬蟲抓取用範例)\n",
            " example04.html (爬蟲抓取用範例)\n",
            " example05.html (爬蟲抓取用範例)\n",
            " Classic HTML 範例 (爬蟲抓取用範例)\n",
            " Ajax 範例 (爬蟲抓取用範例)\n",
            " HTTP GET 方法說明\n",
            " HTTP POST 方法說明\n"
          ]
        }
      ]
    },
    {
      "cell_type": "code",
      "source": [
        "for i, x in enumerate(soup.select(\"li\")):\n",
        "  print(i, \":\", x.text)"
      ],
      "metadata": {
        "colab": {
          "base_uri": "https://localhost:8080/"
        },
        "id": "i3hXgcRZqPGB",
        "outputId": "bb45c72a-59d0-41fa-e70a-567ee27179f1"
      },
      "execution_count": null,
      "outputs": [
        {
          "output_type": "stream",
          "name": "stdout",
          "text": [
            "0 :  HTML 範例\n",
            "1 :  HTML + CSS 範例\n",
            "2 :  HTML + CSS + Javascript 範例\n",
            "3 :  example01.html (爬蟲抓取用範例)\n",
            "4 :  example02.html (爬蟲抓取用範例)\n",
            "5 :  example03.html (爬蟲抓取用範例)\n",
            "6 :  example04.html (爬蟲抓取用範例)\n",
            "7 :  example05.html (爬蟲抓取用範例)\n",
            "8 :  Classic HTML 範例 (爬蟲抓取用範例)\n",
            "9 :  Ajax 範例 (爬蟲抓取用範例)\n",
            "10 :  HTTP GET 方法說明\n",
            "11 :  HTTP POST 方法說明\n"
          ]
        }
      ]
    },
    {
      "cell_type": "code",
      "source": [
        "for i, x in enumerate(soup.select(\"li\")):\n",
        "  print(f\"{i:2}: {x.text}\")"
      ],
      "metadata": {
        "colab": {
          "base_uri": "https://localhost:8080/"
        },
        "id": "t7mT8fbspaBN",
        "outputId": "b024d894-f947-420f-a0d3-c2c6e8f8594b"
      },
      "execution_count": null,
      "outputs": [
        {
          "output_type": "stream",
          "name": "stdout",
          "text": [
            " 0:  HTML 範例\n",
            " 1:  HTML + CSS 範例\n",
            " 2:  HTML + CSS + Javascript 範例\n",
            " 3:  example01.html (爬蟲抓取用範例)\n",
            " 4:  example02.html (爬蟲抓取用範例)\n",
            " 5:  example03.html (爬蟲抓取用範例)\n",
            " 6:  example04.html (爬蟲抓取用範例)\n",
            " 7:  example05.html (爬蟲抓取用範例)\n",
            " 8:  Classic HTML 範例 (爬蟲抓取用範例)\n",
            " 9:  Ajax 範例 (爬蟲抓取用範例)\n",
            "10:  HTTP GET 方法說明\n",
            "11:  HTTP POST 方法說明\n"
          ]
        }
      ]
    },
    {
      "cell_type": "markdown",
      "source": [
        "# 關於字串格式化"
      ],
      "metadata": {
        "id": "QgCt-HNxqh5X"
      }
    },
    {
      "cell_type": "code",
      "source": [
        "x = 1\n",
        "y = 1.23\n",
        "z = True\n",
        "w = \"dog\""
      ],
      "metadata": {
        "id": "d7ejoKtdqQgw"
      },
      "execution_count": null,
      "outputs": []
    },
    {
      "cell_type": "code",
      "source": [
        "print(x, y, z, w)"
      ],
      "metadata": {
        "colab": {
          "base_uri": "https://localhost:8080/"
        },
        "id": "5GS02l_RpnAF",
        "outputId": "d177cd7c-afe3-4c2c-a2a9-d8161d424816"
      },
      "execution_count": null,
      "outputs": [
        {
          "output_type": "stream",
          "name": "stdout",
          "text": [
            "1 1.23 True dog\n"
          ]
        }
      ]
    },
    {
      "cell_type": "code",
      "source": [
        "print(x, y, z, w, sep=\"\")"
      ],
      "metadata": {
        "colab": {
          "base_uri": "https://localhost:8080/"
        },
        "id": "9nGYJP28usV3",
        "outputId": "26192124-b855-4932-9007-ddfe1596f2ec"
      },
      "execution_count": null,
      "outputs": [
        {
          "output_type": "stream",
          "name": "stdout",
          "text": [
            "11.23Truedog\n"
          ]
        }
      ]
    },
    {
      "cell_type": "code",
      "source": [
        "print(x, y, z, w, sep=\"+\")"
      ],
      "metadata": {
        "colab": {
          "base_uri": "https://localhost:8080/"
        },
        "id": "c2DbzdWKu1TG",
        "outputId": "956dd963-8c88-4e8c-fd40-cfc6a4f19c66"
      },
      "execution_count": null,
      "outputs": [
        {
          "output_type": "stream",
          "name": "stdout",
          "text": [
            "1+1.23+True+dog\n"
          ]
        }
      ]
    },
    {
      "cell_type": "markdown",
      "source": [
        "### f-string(3.5+)"
      ],
      "metadata": {
        "id": "-Kv99-ZWvHb8"
      }
    },
    {
      "cell_type": "code",
      "source": [
        "print(f\"{x}, {y}, {z}, {w}\")"
      ],
      "metadata": {
        "colab": {
          "base_uri": "https://localhost:8080/"
        },
        "id": "JXHCXaEKvMfr",
        "outputId": "527c3341-6ba1-48de-b5fc-cbe4fc44b68b"
      },
      "execution_count": null,
      "outputs": [
        {
          "output_type": "stream",
          "name": "stdout",
          "text": [
            "1, 1.23, True, dog\n"
          ]
        }
      ]
    },
    {
      "cell_type": "code",
      "source": [
        "#有無f字串的比較\n",
        "print(\"{x}, {y}, {z}, {w}\")"
      ],
      "metadata": {
        "colab": {
          "base_uri": "https://localhost:8080/"
        },
        "id": "CIT0p_RLvYdU",
        "outputId": "d5c90892-26a5-4c51-b9c7-646f9fb739f6"
      },
      "execution_count": null,
      "outputs": [
        {
          "output_type": "stream",
          "name": "stdout",
          "text": [
            "{x}, {y}, {z}, {w}\n"
          ]
        }
      ]
    },
    {
      "cell_type": "code",
      "source": [
        "print(f\"{x}, {y}, {z}, {w}\")\n",
        "print(f\"{x:5}, {y}, {z}, {w}\")\n",
        "print(f\"{x:05}, {y}, {z}, {w}\")"
      ],
      "metadata": {
        "colab": {
          "base_uri": "https://localhost:8080/"
        },
        "id": "rsrhbWADvwiq",
        "outputId": "df3c862f-aa11-43f7-bb27-7b14631b376d"
      },
      "execution_count": null,
      "outputs": [
        {
          "output_type": "stream",
          "name": "stdout",
          "text": [
            "1, 1.23, True, dog\n",
            "    1, 1.23, True, dog\n",
            "00001, 1.23, True, dog\n"
          ]
        }
      ]
    },
    {
      "cell_type": "code",
      "source": [
        "#7.2的f是表示要取小數點後面兩位\n",
        "print(f\"{x}, {y}, {z}, {w}\")\n",
        "print(f\"{x}, {y:7.2f}, {z}, {w}\")\n",
        "print(f\"{x}, {y:07.2f}, {z}, {w}\")"
      ],
      "metadata": {
        "colab": {
          "base_uri": "https://localhost:8080/"
        },
        "id": "hvDctdH3wEvc",
        "outputId": "003dcfb4-91bb-4aa2-c45b-360356e5e242"
      },
      "execution_count": null,
      "outputs": [
        {
          "output_type": "stream",
          "name": "stdout",
          "text": [
            "1, 1.23, True, dog\n",
            "1,    1.23, True, dog\n",
            "1, 0001.23, True, dog\n"
          ]
        }
      ]
    },
    {
      "cell_type": "code",
      "source": [
        "print(f\"{x}, {y}, {z}, {w}\")\n",
        "print(f\"{x}, {y}, {z}, {w:10}\")\n",
        "print(f\"{x}, {y}, {z}, {w:>10}\")"
      ],
      "metadata": {
        "colab": {
          "base_uri": "https://localhost:8080/"
        },
        "id": "C3YfYe0VwUs7",
        "outputId": "f2b3b0a0-b51d-41df-fa08-9f0850d406e6"
      },
      "execution_count": null,
      "outputs": [
        {
          "output_type": "stream",
          "name": "stdout",
          "text": [
            "1, 1.23, True, dog\n",
            "1, 1.23, True, dog       \n",
            "1, 1.23, True,        dog\n"
          ]
        }
      ]
    },
    {
      "cell_type": "markdown",
      "source": [
        "### string.format"
      ],
      "metadata": {
        "id": "VGTW_HhFvAcr"
      }
    },
    {
      "cell_type": "code",
      "source": [
        "print(\"{}, {}, {}, {}\".format(x, y, z, w))"
      ],
      "metadata": {
        "colab": {
          "base_uri": "https://localhost:8080/"
        },
        "id": "xyKbo2EOu6TF",
        "outputId": "ca6c3269-6ffb-4352-c481-4c8bf37e0a23"
      },
      "execution_count": null,
      "outputs": [
        {
          "output_type": "stream",
          "name": "stdout",
          "text": [
            "1, 1.23, True, dog\n"
          ]
        }
      ]
    },
    {
      "cell_type": "code",
      "source": [
        "print(\"{}, {}, {}, {}, {}\".format(x, y, z, w))"
      ],
      "metadata": {
        "colab": {
          "base_uri": "https://localhost:8080/",
          "height": 167
        },
        "id": "UIcm58Dix5fG",
        "outputId": "94540a49-c36a-444f-fc8e-3b1c53f6259a"
      },
      "execution_count": null,
      "outputs": [
        {
          "output_type": "error",
          "ename": "IndexError",
          "evalue": "ignored",
          "traceback": [
            "\u001b[0;31m---------------------------------------------------------------------------\u001b[0m",
            "\u001b[0;31mIndexError\u001b[0m                                Traceback (most recent call last)",
            "\u001b[0;32m<ipython-input-76-72aaf523e213>\u001b[0m in \u001b[0;36m<module>\u001b[0;34m\u001b[0m\n\u001b[0;32m----> 1\u001b[0;31m \u001b[0mprint\u001b[0m\u001b[0;34m(\u001b[0m\u001b[0;34m\"{}, {}, {}, {}, {}\"\u001b[0m\u001b[0;34m.\u001b[0m\u001b[0mformat\u001b[0m\u001b[0;34m(\u001b[0m\u001b[0mx\u001b[0m\u001b[0;34m,\u001b[0m \u001b[0my\u001b[0m\u001b[0;34m,\u001b[0m \u001b[0mz\u001b[0m\u001b[0;34m,\u001b[0m \u001b[0mw\u001b[0m\u001b[0;34m)\u001b[0m\u001b[0;34m)\u001b[0m\u001b[0;34m\u001b[0m\u001b[0;34m\u001b[0m\u001b[0m\n\u001b[0m",
            "\u001b[0;31mIndexError\u001b[0m: Replacement index 4 out of range for positional args tuple"
          ]
        }
      ]
    },
    {
      "cell_type": "code",
      "source": [
        "print(\"{}, {}, {}\".format(x, y, z, w))"
      ],
      "metadata": {
        "colab": {
          "base_uri": "https://localhost:8080/"
        },
        "id": "91qJkLcEyJiP",
        "outputId": "8511c3fb-d384-4563-d8ae-ed23080b8e7e"
      },
      "execution_count": null,
      "outputs": [
        {
          "output_type": "stream",
          "name": "stdout",
          "text": [
            "1, 1.23, True\n"
          ]
        }
      ]
    },
    {
      "cell_type": "code",
      "source": [
        "print(\"{0}, {1}, {2}, {1}\".format(x, y, z, w))"
      ],
      "metadata": {
        "colab": {
          "base_uri": "https://localhost:8080/"
        },
        "id": "Inj1lUZ8yCHQ",
        "outputId": "f218ba75-fac6-497f-da00-33aeb05f5206"
      },
      "execution_count": null,
      "outputs": [
        {
          "output_type": "stream",
          "name": "stdout",
          "text": [
            "1, 1.23, True, 1.23\n"
          ]
        }
      ]
    },
    {
      "cell_type": "code",
      "source": [
        "print(\"{a}, {b}, {c}, {d}\".format(a=x, b=y, c=z, d=w))"
      ],
      "metadata": {
        "colab": {
          "base_uri": "https://localhost:8080/"
        },
        "id": "2vBqxFW9yGzn",
        "outputId": "e7f36edb-7f39-4b73-d9b9-1ed09ff4f527"
      },
      "execution_count": null,
      "outputs": [
        {
          "output_type": "stream",
          "name": "stdout",
          "text": [
            "1, 1.23, True, dog\n"
          ]
        }
      ]
    },
    {
      "cell_type": "markdown",
      "source": [
        "###練習"
      ],
      "metadata": {
        "id": "UgRYIeAwAk3l"
      }
    },
    {
      "cell_type": "code",
      "source": [
        "u = 3.1415926"
      ],
      "metadata": {
        "id": "ZNe6DckSAkIW"
      },
      "execution_count": 1,
      "outputs": []
    },
    {
      "cell_type": "code",
      "source": [
        "print(f\"{u:07.2f}\")"
      ],
      "metadata": {
        "id": "g7LCZXtvyVgx",
        "outputId": "eb05d1ff-0ce6-4ee1-f195-a5d364cb2119",
        "colab": {
          "base_uri": "https://localhost:8080/"
        }
      },
      "execution_count": 4,
      "outputs": [
        {
          "output_type": "stream",
          "name": "stdout",
          "text": [
            "0003.14\n"
          ]
        }
      ]
    },
    {
      "cell_type": "code",
      "source": [
        "print(f\"{u:07.5f}\")"
      ],
      "metadata": {
        "id": "zkwMntiyA59O",
        "outputId": "0c061361-b4d1-4050-be63-9cc17a343660",
        "colab": {
          "base_uri": "https://localhost:8080/"
        }
      },
      "execution_count": 3,
      "outputs": [
        {
          "output_type": "stream",
          "name": "stdout",
          "text": [
            "3.14159\n"
          ]
        }
      ]
    },
    {
      "cell_type": "code",
      "source": [
        "print(f\"{u:07.2}\")"
      ],
      "metadata": {
        "id": "OfUvzvVOBFEP",
        "outputId": "b96e281e-4b81-472d-b8f3-696f8a03a510",
        "colab": {
          "base_uri": "https://localhost:8080/"
        }
      },
      "execution_count": 5,
      "outputs": [
        {
          "output_type": "stream",
          "name": "stdout",
          "text": [
            "00003.1\n"
          ]
        }
      ]
    },
    {
      "cell_type": "code",
      "source": [
        "print(f\"{u:07.5}\")"
      ],
      "metadata": {
        "id": "dTS1iTksBHaE",
        "outputId": "4679af8d-5f51-45a9-e682-064aa3cde179",
        "colab": {
          "base_uri": "https://localhost:8080/"
        }
      },
      "execution_count": 6,
      "outputs": [
        {
          "output_type": "stream",
          "name": "stdout",
          "text": [
            "03.1416\n"
          ]
        }
      ]
    },
    {
      "cell_type": "markdown",
      "source": [
        "### 練習\n",
        "https://stackoverflow.com/questions/53908134/what-is-20-format-string-meaning-in-python"
      ],
      "metadata": {
        "id": "ZFDejRE-CHB0"
      }
    },
    {
      "cell_type": "code",
      "source": [
        "popularity = [[\"Language\", 2017, 2012, 2007, 2002, 1997, 1992, 1987], \n",
        "          [\"Java\", 1, 2, 1, 1, 15, 0, 0],\n",
        "          [\"C\", 2, 1, 2, 2, 1, 1, 1],\n",
        "          [\"C++\", 3, 3, 3, 3, 2, 2, 5],\n",
        "          [\"C#\", 4, 4, 7, 13, 0, 0, 0],\n",
        "          [\"Python\", 5, 7, 6, 11, 27, 0, 0],\n",
        "          [\"Visual Basic .NET\", 6, 17, 0, 0, 0, 0, 0],\n",
        "          [\"PHP\", 7, 6, 4, 5, 0, 0, 0],\n",
        "          [\"JavaScript\", 8, 9, 8, 7, 23, 0, 0],\n",
        "          [\"Perl\", 9, 8, 5, 4, 4, 10, 0]]\n",
        "\n",
        "format_string = \"{:<20}  {:>4}  {:>4}  {:>4}  {:>4}  {:>4}  {:>4}  {:>4}\""
      ],
      "metadata": {
        "id": "_ZVcO0CdCJD9"
      },
      "execution_count": 13,
      "outputs": []
    },
    {
      "cell_type": "code",
      "source": [
        "for i in popularity:\n",
        "  print(format_string.format(i[0], i[1], i[2], i[3], i[4], i[5], i[6], i[7]))"
      ],
      "metadata": {
        "id": "4tJxnjPqDPav",
        "outputId": "a6fe42b2-d9bd-4b99-b96a-00f231689e6b",
        "colab": {
          "base_uri": "https://localhost:8080/"
        }
      },
      "execution_count": 15,
      "outputs": [
        {
          "output_type": "stream",
          "name": "stdout",
          "text": [
            "Language              2017  2012  2007  2002  1997  1992  1987\n",
            "Java                     1     2     1     1    15     0     0\n",
            "C                        2     1     2     2     1     1     1\n",
            "C++                      3     3     3     3     2     2     5\n",
            "C#                       4     4     7    13     0     0     0\n",
            "Python                   5     7     6    11    27     0     0\n",
            "Visual Basic .NET        6    17     0     0     0     0     0\n",
            "PHP                      7     6     4     5     0     0     0\n",
            "JavaScript               8     9     8     7    23     0     0\n",
            "Perl                     9     8     5     4     4    10     0\n"
          ]
        }
      ]
    },
    {
      "cell_type": "code",
      "source": [
        "# 使用 * unpack list\n",
        "for i in popularity:\n",
        "  print(format_string.format(*i))"
      ],
      "metadata": {
        "id": "xDLBFMWjCXFI",
        "outputId": "608346b6-22ea-4a01-8bc8-c205c4b43890",
        "colab": {
          "base_uri": "https://localhost:8080/"
        }
      },
      "execution_count": 16,
      "outputs": [
        {
          "output_type": "stream",
          "name": "stdout",
          "text": [
            "Language              2017  2012  2007  2002  1997  1992  1987\n",
            "Java                     1     2     1     1    15     0     0\n",
            "C                        2     1     2     2     1     1     1\n",
            "C++                      3     3     3     3     2     2     5\n",
            "C#                       4     4     7    13     0     0     0\n",
            "Python                   5     7     6    11    27     0     0\n",
            "Visual Basic .NET        6    17     0     0     0     0     0\n",
            "PHP                      7     6     4     5     0     0     0\n",
            "JavaScript               8     9     8     7    23     0     0\n",
            "Perl                     9     8     5     4     4    10     0\n"
          ]
        }
      ]
    },
    {
      "cell_type": "code",
      "source": [
        "format_string = \"{:<20}{:>6}{:>6}{:>6}{:>6}{:>6}{:>6}{:>6}\"\n",
        "for i in popularity:\n",
        "  print(format_string.format(*i))"
      ],
      "metadata": {
        "id": "ioAkhI1ZCtaB",
        "outputId": "0a1c5f29-f13b-4037-fc04-ab1c30a51d4b",
        "colab": {
          "base_uri": "https://localhost:8080/"
        }
      },
      "execution_count": 17,
      "outputs": [
        {
          "output_type": "stream",
          "name": "stdout",
          "text": [
            "Language              2017  2012  2007  2002  1997  1992  1987\n",
            "Java                     1     2     1     1    15     0     0\n",
            "C                        2     1     2     2     1     1     1\n",
            "C++                      3     3     3     3     2     2     5\n",
            "C#                       4     4     7    13     0     0     0\n",
            "Python                   5     7     6    11    27     0     0\n",
            "Visual Basic .NET        6    17     0     0     0     0     0\n",
            "PHP                      7     6     4     5     0     0     0\n",
            "JavaScript               8     9     8     7    23     0     0\n",
            "Perl                     9     8     5     4     4    10     0\n"
          ]
        }
      ]
    }
  ]
}