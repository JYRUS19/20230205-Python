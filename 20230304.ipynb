{
  "nbformat": 4,
  "nbformat_minor": 0,
  "metadata": {
    "colab": {
      "provenance": [],
      "authorship_tag": "ABX9TyMqwlX98r12MJsvYcchFX7y",
      "include_colab_link": true
    },
    "kernelspec": {
      "name": "python3",
      "display_name": "Python 3"
    },
    "language_info": {
      "name": "python"
    }
  },
  "cells": [
    {
      "cell_type": "markdown",
      "metadata": {
        "id": "view-in-github",
        "colab_type": "text"
      },
      "source": [
        "<a href=\"https://colab.research.google.com/github/JYRUS19/20230205-Python/blob/main/20230304.ipynb\" target=\"_parent\"><img src=\"https://colab.research.google.com/assets/colab-badge.svg\" alt=\"Open In Colab\"/></a>"
      ]
    },
    {
      "cell_type": "markdown",
      "source": [
        "# 20230304筆記\n"
      ],
      "metadata": {
        "id": "Rm5AfYlLVyhJ"
      }
    },
    {
      "cell_type": "markdown",
      "source": [
        "# 抓取網頁原始碼"
      ],
      "metadata": {
        "id": "mcjKLR5uV3n2"
      }
    },
    {
      "cell_type": "code",
      "execution_count": 40,
      "metadata": {
        "id": "HDbUEeLCJrXk"
      },
      "outputs": [],
      "source": [
        "import requests"
      ]
    },
    {
      "cell_type": "code",
      "source": [
        "import pandas as pd"
      ],
      "metadata": {
        "id": "csXfWDZAIbOU"
      },
      "execution_count": 61,
      "outputs": []
    },
    {
      "cell_type": "code",
      "source": [
        "url = \"https://victorgau.github.io/khpy_web_intro/html_only.html\""
      ],
      "metadata": {
        "id": "oRMLzOfmUxWF"
      },
      "execution_count": 41,
      "outputs": []
    },
    {
      "cell_type": "code",
      "source": [
        "r = requests.get(url)"
      ],
      "metadata": {
        "id": "td8hYNHkU2C4"
      },
      "execution_count": 42,
      "outputs": []
    },
    {
      "cell_type": "code",
      "source": [
        "print(r.text)"
      ],
      "metadata": {
        "colab": {
          "base_uri": "https://localhost:8080/"
        },
        "id": "Lg9QNXloU6hA",
        "outputId": "002d8d10-aef7-4a82-eb4e-2e7372563fed"
      },
      "execution_count": 43,
      "outputs": [
        {
          "output_type": "stream",
          "name": "stdout",
          "text": [
            "<!DOCTYPE html>\n",
            "<html>\n",
            "<head>\n",
            "    <title>HTML範例</title>\n",
            "</head>\n",
            "<body>\n",
            "\n",
            "<h1>哈囉！HTML！</h1>\n",
            "\n",
            "<img src=\"ninja.jpg\" />\n",
            "\n",
            "</body>\n",
            "</html>\n"
          ]
        }
      ]
    },
    {
      "cell_type": "markdown",
      "source": [
        "## 抓取Ajax網頁資料"
      ],
      "metadata": {
        "id": "Si3jeptJVxEI"
      }
    },
    {
      "cell_type": "markdown",
      "source": [
        "### 從非 ajax網站的網頁上,可以直接看到資料"
      ],
      "metadata": {
        "id": "FqlFn-hhWvef"
      }
    },
    {
      "cell_type": "code",
      "source": [
        "url = \"https://victorgau.github.io/khpy_web_intro/spy_ajax.html\""
      ],
      "metadata": {
        "id": "Cws-HDOhU_mG"
      },
      "execution_count": 44,
      "outputs": []
    },
    {
      "cell_type": "code",
      "source": [
        "r = requests.get(url)"
      ],
      "metadata": {
        "id": "R4L-2OKYWS8s"
      },
      "execution_count": 45,
      "outputs": []
    },
    {
      "cell_type": "code",
      "source": [
        "print(r.text)"
      ],
      "metadata": {
        "colab": {
          "base_uri": "https://localhost:8080/"
        },
        "id": "ezpAykFLWTZL",
        "outputId": "267a0239-3253-4b26-e5df-fa4919ba1174"
      },
      "execution_count": 46,
      "outputs": [
        {
          "output_type": "stream",
          "name": "stdout",
          "text": [
            "<!DOCTYPE html>\n",
            "<html>\n",
            "<head>\n",
            "    <!-- Required meta tags -->\n",
            "    <meta charset=\"utf-8\">\n",
            "    <meta name=\"viewport\" content=\"width=device-width, initial-scale=1, shrink-to-fit=no\">\n",
            "\n",
            "    <!-- Bootstrap CSS -->\n",
            "    <link rel=\"stylesheet\" href=\"https://maxcdn.bootstrapcdn.com/bootstrap/4.0.0/css/bootstrap.min.css\" integrity=\"sha384-Gn5384xqQ1aoWXA+058RXPxPg6fy4IWvTNh0E263XmFcJlSAwiGgFAW/dAiS6JXm\" crossorigin=\"anonymous\">\n",
            "    <link rel=\"stylesheet\" href=\"https://cdn.jsdelivr.net/npm/bootstrap-icons@1.5.0/font/bootstrap-icons.css\">\n",
            "    <script src=\"https://code.jquery.com/jquery-3.6.0.min.js\"></script>\n",
            "    <title>AJAX範例</title>\n",
            "</head>\n",
            "<body>\n",
            "  <div class=\"container\">\n",
            "    <h1>SPY股價</h1>\n",
            "  </div>\n",
            "  <div class=\"container\">\n",
            "    <table border=\"1\" class=\"dataframe table table-striped\">\n",
            "        <thead>\n",
            "          <tr style=\"text-align: right;\">\n",
            "            <th></th>\n",
            "            <th>Open</th>\n",
            "            <th>High</th>\n",
            "            <th>Low</th>\n",
            "            <th>Close</th>\n",
            "            <th>Adj Close</th>\n",
            "            <th>Volume</th>\n",
            "          </tr>\n",
            "          <tr>\n",
            "            <th>Date</th>\n",
            "            <th></th>\n",
            "            <th></th>\n",
            "            <th></th>\n",
            "            <th></th>\n",
            "            <th></th>\n",
            "            <th></th>\n",
            "          </tr>\n",
            "        </thead>\n",
            "        <tbody id=\"spy\">\n",
            "\n",
            "        </tbody>\n",
            "    </table>\n",
            "  </div>\n",
            "\n",
            "  <script type=\"text/javascript\">\n",
            "    $(document).ready(function(){\n",
            "        $.ajax({\n",
            "            url: \"spy.json\",\n",
            "            dataType: 'json',\n",
            "            type: 'get',\n",
            "            cache:false,\n",
            "            success: function(data){\n",
            "                // console.log(data);\n",
            "                var event_data = '';\n",
            "                $.each(data, function(index, value){\n",
            "                    // console.log(value);\n",
            "                    event_data += '<tr>';\n",
            "                    event_data += '<th>'+value.Date+'</th>';\n",
            "                    event_data += '<td>'+value.Open+'</td>';\n",
            "                    event_data += '<td>'+value.High+'</td>';\n",
            "                    event_data += '<td>'+value.Low+'</td>';\n",
            "                    event_data += '<td>'+value.Close+'</td>';\n",
            "                    event_data += '<td>'+value['Adj Close']+'</td>';\n",
            "                    event_data += '<td>'+value.Volume+'</td>';\n",
            "                    event_data += '</tr>';\n",
            "                });\n",
            "                $(\"#spy\").append(event_data);\n",
            "            },\n",
            "            error: function(d){\n",
            "                // console.log(\"error\");\n",
            "                alert(\"404. Please wait until the File is Loaded.\");\n",
            "            }\n",
            "        });\n",
            "    });\n",
            "    </script>\n",
            "    \n",
            "\n",
            "</body>\n",
            "</html>\n"
          ]
        }
      ]
    },
    {
      "cell_type": "code",
      "source": [
        "url = \"https://victorgau.github.io/khpy_web_intro/spy.json\""
      ],
      "metadata": {
        "id": "ZvbI-v9DXAuz"
      },
      "execution_count": 47,
      "outputs": []
    },
    {
      "cell_type": "code",
      "source": [
        "data = requests.get(url).json()"
      ],
      "metadata": {
        "id": "Fwu7kJV1iDXb"
      },
      "execution_count": 48,
      "outputs": []
    },
    {
      "cell_type": "code",
      "source": [
        "df = pd.read_json(url)"
      ],
      "metadata": {
        "id": "aWvlb-wGiFil",
        "colab": {
          "base_uri": "https://localhost:8080/",
          "height": 313
        },
        "outputId": "230b15ce-ef59-47d3-e747-26ccabf6b6c7"
      },
      "execution_count": 62,
      "outputs": [
        {
          "output_type": "error",
          "ename": "ValueError",
          "evalue": "ignored",
          "traceback": [
            "\u001b[0;31m---------------------------------------------------------------------------\u001b[0m",
            "\u001b[0;31mValueError\u001b[0m                                Traceback (most recent call last)",
            "\u001b[0;32m<ipython-input-62-fcbc1ffd57af>\u001b[0m in \u001b[0;36m<module>\u001b[0;34m\u001b[0m\n\u001b[0;32m----> 1\u001b[0;31m \u001b[0mdf\u001b[0m \u001b[0;34m=\u001b[0m \u001b[0mpd\u001b[0m\u001b[0;34m.\u001b[0m\u001b[0mread_json\u001b[0m\u001b[0;34m(\u001b[0m\u001b[0murl\u001b[0m\u001b[0;34m)\u001b[0m\u001b[0;34m\u001b[0m\u001b[0;34m\u001b[0m\u001b[0m\n\u001b[0m",
            "\u001b[0;32m/usr/local/lib/python3.8/dist-packages/pandas/util/_decorators.py\u001b[0m in \u001b[0;36mwrapper\u001b[0;34m(*args, **kwargs)\u001b[0m\n\u001b[1;32m    205\u001b[0m                 \u001b[0;32melse\u001b[0m\u001b[0;34m:\u001b[0m\u001b[0;34m\u001b[0m\u001b[0;34m\u001b[0m\u001b[0m\n\u001b[1;32m    206\u001b[0m                     \u001b[0mkwargs\u001b[0m\u001b[0;34m[\u001b[0m\u001b[0mnew_arg_name\u001b[0m\u001b[0;34m]\u001b[0m \u001b[0;34m=\u001b[0m \u001b[0mnew_arg_value\u001b[0m\u001b[0;34m\u001b[0m\u001b[0;34m\u001b[0m\u001b[0m\n\u001b[0;32m--> 207\u001b[0;31m             \u001b[0;32mreturn\u001b[0m \u001b[0mfunc\u001b[0m\u001b[0;34m(\u001b[0m\u001b[0;34m*\u001b[0m\u001b[0margs\u001b[0m\u001b[0;34m,\u001b[0m \u001b[0;34m**\u001b[0m\u001b[0mkwargs\u001b[0m\u001b[0;34m)\u001b[0m\u001b[0;34m\u001b[0m\u001b[0;34m\u001b[0m\u001b[0m\n\u001b[0m\u001b[1;32m    208\u001b[0m \u001b[0;34m\u001b[0m\u001b[0m\n\u001b[1;32m    209\u001b[0m         \u001b[0;32mreturn\u001b[0m \u001b[0mcast\u001b[0m\u001b[0;34m(\u001b[0m\u001b[0mF\u001b[0m\u001b[0;34m,\u001b[0m \u001b[0mwrapper\u001b[0m\u001b[0;34m)\u001b[0m\u001b[0;34m\u001b[0m\u001b[0;34m\u001b[0m\u001b[0m\n",
            "\u001b[0;32m/usr/local/lib/python3.8/dist-packages/pandas/util/_decorators.py\u001b[0m in \u001b[0;36mwrapper\u001b[0;34m(*args, **kwargs)\u001b[0m\n\u001b[1;32m    309\u001b[0m                     \u001b[0mstacklevel\u001b[0m\u001b[0;34m=\u001b[0m\u001b[0mstacklevel\u001b[0m\u001b[0;34m,\u001b[0m\u001b[0;34m\u001b[0m\u001b[0;34m\u001b[0m\u001b[0m\n\u001b[1;32m    310\u001b[0m                 )\n\u001b[0;32m--> 311\u001b[0;31m             \u001b[0;32mreturn\u001b[0m \u001b[0mfunc\u001b[0m\u001b[0;34m(\u001b[0m\u001b[0;34m*\u001b[0m\u001b[0margs\u001b[0m\u001b[0;34m,\u001b[0m \u001b[0;34m**\u001b[0m\u001b[0mkwargs\u001b[0m\u001b[0;34m)\u001b[0m\u001b[0;34m\u001b[0m\u001b[0;34m\u001b[0m\u001b[0m\n\u001b[0m\u001b[1;32m    312\u001b[0m \u001b[0;34m\u001b[0m\u001b[0m\n\u001b[1;32m    313\u001b[0m         \u001b[0;32mreturn\u001b[0m \u001b[0mwrapper\u001b[0m\u001b[0;34m\u001b[0m\u001b[0;34m\u001b[0m\u001b[0m\n",
            "\u001b[0;32m/usr/local/lib/python3.8/dist-packages/pandas/io/json/_json.py\u001b[0m in \u001b[0;36mread_json\u001b[0;34m(path_or_buf, orient, typ, dtype, convert_axes, convert_dates, keep_default_dates, numpy, precise_float, date_unit, encoding, encoding_errors, lines, chunksize, compression, nrows, storage_options)\u001b[0m\n\u001b[1;32m    612\u001b[0m \u001b[0;34m\u001b[0m\u001b[0m\n\u001b[1;32m    613\u001b[0m     \u001b[0;32mwith\u001b[0m \u001b[0mjson_reader\u001b[0m\u001b[0;34m:\u001b[0m\u001b[0;34m\u001b[0m\u001b[0;34m\u001b[0m\u001b[0m\n\u001b[0;32m--> 614\u001b[0;31m         \u001b[0;32mreturn\u001b[0m \u001b[0mjson_reader\u001b[0m\u001b[0;34m.\u001b[0m\u001b[0mread\u001b[0m\u001b[0;34m(\u001b[0m\u001b[0;34m)\u001b[0m\u001b[0;34m\u001b[0m\u001b[0;34m\u001b[0m\u001b[0m\n\u001b[0m\u001b[1;32m    615\u001b[0m \u001b[0;34m\u001b[0m\u001b[0m\n\u001b[1;32m    616\u001b[0m \u001b[0;34m\u001b[0m\u001b[0m\n",
            "\u001b[0;32m/usr/local/lib/python3.8/dist-packages/pandas/io/json/_json.py\u001b[0m in \u001b[0;36mread\u001b[0;34m(self)\u001b[0m\n\u001b[1;32m    746\u001b[0m                 \u001b[0mobj\u001b[0m \u001b[0;34m=\u001b[0m \u001b[0mself\u001b[0m\u001b[0;34m.\u001b[0m\u001b[0m_get_object_parser\u001b[0m\u001b[0;34m(\u001b[0m\u001b[0mself\u001b[0m\u001b[0;34m.\u001b[0m\u001b[0m_combine_lines\u001b[0m\u001b[0;34m(\u001b[0m\u001b[0mdata_lines\u001b[0m\u001b[0;34m)\u001b[0m\u001b[0;34m)\u001b[0m\u001b[0;34m\u001b[0m\u001b[0;34m\u001b[0m\u001b[0m\n\u001b[1;32m    747\u001b[0m         \u001b[0;32melse\u001b[0m\u001b[0;34m:\u001b[0m\u001b[0;34m\u001b[0m\u001b[0;34m\u001b[0m\u001b[0m\n\u001b[0;32m--> 748\u001b[0;31m             \u001b[0mobj\u001b[0m \u001b[0;34m=\u001b[0m \u001b[0mself\u001b[0m\u001b[0;34m.\u001b[0m\u001b[0m_get_object_parser\u001b[0m\u001b[0;34m(\u001b[0m\u001b[0mself\u001b[0m\u001b[0;34m.\u001b[0m\u001b[0mdata\u001b[0m\u001b[0;34m)\u001b[0m\u001b[0;34m\u001b[0m\u001b[0;34m\u001b[0m\u001b[0m\n\u001b[0m\u001b[1;32m    749\u001b[0m         \u001b[0mself\u001b[0m\u001b[0;34m.\u001b[0m\u001b[0mclose\u001b[0m\u001b[0;34m(\u001b[0m\u001b[0;34m)\u001b[0m\u001b[0;34m\u001b[0m\u001b[0;34m\u001b[0m\u001b[0m\n\u001b[1;32m    750\u001b[0m         \u001b[0;32mreturn\u001b[0m \u001b[0mobj\u001b[0m\u001b[0;34m\u001b[0m\u001b[0;34m\u001b[0m\u001b[0m\n",
            "\u001b[0;32m/usr/local/lib/python3.8/dist-packages/pandas/io/json/_json.py\u001b[0m in \u001b[0;36m_get_object_parser\u001b[0;34m(self, json)\u001b[0m\n\u001b[1;32m    768\u001b[0m         \u001b[0mobj\u001b[0m \u001b[0;34m=\u001b[0m \u001b[0;32mNone\u001b[0m\u001b[0;34m\u001b[0m\u001b[0;34m\u001b[0m\u001b[0m\n\u001b[1;32m    769\u001b[0m         \u001b[0;32mif\u001b[0m \u001b[0mtyp\u001b[0m \u001b[0;34m==\u001b[0m \u001b[0;34m\"frame\"\u001b[0m\u001b[0;34m:\u001b[0m\u001b[0;34m\u001b[0m\u001b[0;34m\u001b[0m\u001b[0m\n\u001b[0;32m--> 770\u001b[0;31m             \u001b[0mobj\u001b[0m \u001b[0;34m=\u001b[0m \u001b[0mFrameParser\u001b[0m\u001b[0;34m(\u001b[0m\u001b[0mjson\u001b[0m\u001b[0;34m,\u001b[0m \u001b[0;34m**\u001b[0m\u001b[0mkwargs\u001b[0m\u001b[0;34m)\u001b[0m\u001b[0;34m.\u001b[0m\u001b[0mparse\u001b[0m\u001b[0;34m(\u001b[0m\u001b[0;34m)\u001b[0m\u001b[0;34m\u001b[0m\u001b[0;34m\u001b[0m\u001b[0m\n\u001b[0m\u001b[1;32m    771\u001b[0m \u001b[0;34m\u001b[0m\u001b[0m\n\u001b[1;32m    772\u001b[0m         \u001b[0;32mif\u001b[0m \u001b[0mtyp\u001b[0m \u001b[0;34m==\u001b[0m \u001b[0;34m\"series\"\u001b[0m \u001b[0;32mor\u001b[0m \u001b[0mobj\u001b[0m \u001b[0;32mis\u001b[0m \u001b[0;32mNone\u001b[0m\u001b[0;34m:\u001b[0m\u001b[0;34m\u001b[0m\u001b[0;34m\u001b[0m\u001b[0m\n",
            "\u001b[0;32m/usr/local/lib/python3.8/dist-packages/pandas/io/json/_json.py\u001b[0m in \u001b[0;36mparse\u001b[0;34m(self)\u001b[0m\n\u001b[1;32m    883\u001b[0m \u001b[0;34m\u001b[0m\u001b[0m\n\u001b[1;32m    884\u001b[0m         \u001b[0;32melse\u001b[0m\u001b[0;34m:\u001b[0m\u001b[0;34m\u001b[0m\u001b[0;34m\u001b[0m\u001b[0m\n\u001b[0;32m--> 885\u001b[0;31m             \u001b[0mself\u001b[0m\u001b[0;34m.\u001b[0m\u001b[0m_parse_no_numpy\u001b[0m\u001b[0;34m(\u001b[0m\u001b[0;34m)\u001b[0m\u001b[0;34m\u001b[0m\u001b[0;34m\u001b[0m\u001b[0m\n\u001b[0m\u001b[1;32m    886\u001b[0m \u001b[0;34m\u001b[0m\u001b[0m\n\u001b[1;32m    887\u001b[0m         \u001b[0;32mif\u001b[0m \u001b[0mself\u001b[0m\u001b[0;34m.\u001b[0m\u001b[0mobj\u001b[0m \u001b[0;32mis\u001b[0m \u001b[0;32mNone\u001b[0m\u001b[0;34m:\u001b[0m\u001b[0;34m\u001b[0m\u001b[0;34m\u001b[0m\u001b[0m\n",
            "\u001b[0;32m/usr/local/lib/python3.8/dist-packages/pandas/io/json/_json.py\u001b[0m in \u001b[0;36m_parse_no_numpy\u001b[0;34m(self)\u001b[0m\n\u001b[1;32m   1138\u001b[0m         \u001b[0;32mif\u001b[0m \u001b[0morient\u001b[0m \u001b[0;34m==\u001b[0m \u001b[0;34m\"columns\"\u001b[0m\u001b[0;34m:\u001b[0m\u001b[0;34m\u001b[0m\u001b[0;34m\u001b[0m\u001b[0m\n\u001b[1;32m   1139\u001b[0m             self.obj = DataFrame(\n\u001b[0;32m-> 1140\u001b[0;31m                 \u001b[0mloads\u001b[0m\u001b[0;34m(\u001b[0m\u001b[0mjson\u001b[0m\u001b[0;34m,\u001b[0m \u001b[0mprecise_float\u001b[0m\u001b[0;34m=\u001b[0m\u001b[0mself\u001b[0m\u001b[0;34m.\u001b[0m\u001b[0mprecise_float\u001b[0m\u001b[0;34m)\u001b[0m\u001b[0;34m,\u001b[0m \u001b[0mdtype\u001b[0m\u001b[0;34m=\u001b[0m\u001b[0;32mNone\u001b[0m\u001b[0;34m\u001b[0m\u001b[0;34m\u001b[0m\u001b[0m\n\u001b[0m\u001b[1;32m   1141\u001b[0m             )\n\u001b[1;32m   1142\u001b[0m         \u001b[0;32melif\u001b[0m \u001b[0morient\u001b[0m \u001b[0;34m==\u001b[0m \u001b[0;34m\"split\"\u001b[0m\u001b[0;34m:\u001b[0m\u001b[0;34m\u001b[0m\u001b[0;34m\u001b[0m\u001b[0m\n",
            "\u001b[0;31mValueError\u001b[0m: Expected object or value"
          ]
        }
      ]
    },
    {
      "cell_type": "code",
      "source": [
        "df.head()"
      ],
      "metadata": {
        "colab": {
          "base_uri": "https://localhost:8080/",
          "height": 167
        },
        "id": "VgNxuFFFWUgf",
        "outputId": "8fff15f2-99dc-475a-ff80-112f59ce8633"
      },
      "execution_count": 50,
      "outputs": [
        {
          "output_type": "error",
          "ename": "NameError",
          "evalue": "ignored",
          "traceback": [
            "\u001b[0;31m---------------------------------------------------------------------------\u001b[0m",
            "\u001b[0;31mNameError\u001b[0m                                 Traceback (most recent call last)",
            "\u001b[0;32m<ipython-input-50-c42a15b2c7cf>\u001b[0m in \u001b[0;36m<module>\u001b[0;34m\u001b[0m\n\u001b[0;32m----> 1\u001b[0;31m \u001b[0mdf\u001b[0m\u001b[0;34m.\u001b[0m\u001b[0mhead\u001b[0m\u001b[0;34m(\u001b[0m\u001b[0;34m)\u001b[0m\u001b[0;34m\u001b[0m\u001b[0;34m\u001b[0m\u001b[0m\n\u001b[0m",
            "\u001b[0;31mNameError\u001b[0m: name 'df' is not defined"
          ]
        }
      ]
    },
    {
      "cell_type": "markdown",
      "source": [
        "### 從 ajax 網頁上，可能看不到資料"
      ],
      "metadata": {
        "id": "06Lux8rSXXIu"
      }
    },
    {
      "cell_type": "code",
      "source": [
        "url = \"https://victorgau.github.io/khpy_web_intro/spy_ajax.html\""
      ],
      "metadata": {
        "id": "vx_60fmPXVXj"
      },
      "execution_count": 51,
      "outputs": []
    },
    {
      "cell_type": "code",
      "source": [
        "r = requests.get(url)"
      ],
      "metadata": {
        "id": "uyGHzZ_rXaO7"
      },
      "execution_count": 52,
      "outputs": []
    },
    {
      "cell_type": "code",
      "source": [
        "r.request.headers"
      ],
      "metadata": {
        "colab": {
          "base_uri": "https://localhost:8080/"
        },
        "id": "oU6yp6ePb7fS",
        "outputId": "93c5d169-b9a1-4657-adbe-cd5f20c17043"
      },
      "execution_count": 53,
      "outputs": [
        {
          "output_type": "execute_result",
          "data": {
            "text/plain": [
              "{'User-Agent': 'python-requests/2.25.1', 'Accept-Encoding': 'gzip, deflate', 'Accept': '*/*', 'Connection': 'keep-alive'}"
            ]
          },
          "metadata": {},
          "execution_count": 53
        }
      ]
    },
    {
      "cell_type": "code",
      "source": [
        "r.headers"
      ],
      "metadata": {
        "colab": {
          "base_uri": "https://localhost:8080/"
        },
        "id": "NaVVd5Wocbs2",
        "outputId": "88aa66e5-01e3-4ce0-db69-fa43c35bdd58"
      },
      "execution_count": 54,
      "outputs": [
        {
          "output_type": "execute_result",
          "data": {
            "text/plain": [
              "{'Connection': 'keep-alive', 'Content-Length': '949', 'Server': 'GitHub.com', 'Content-Type': 'text/html; charset=utf-8', 'permissions-policy': 'interest-cohort=()', 'x-origin-cache': 'HIT', 'Last-Modified': 'Sat, 09 Oct 2021 21:20:24 GMT', 'Access-Control-Allow-Origin': '*', 'ETag': 'W/\"61620798-9ed\"', 'expires': 'Sat, 04 Mar 2023 05:48:24 GMT', 'Cache-Control': 'max-age=600', 'Content-Encoding': 'gzip', 'x-proxy-cache': 'MISS', 'X-GitHub-Request-Id': '5D32:5C0D:23B7F5:2F4CDE:6402D950', 'Accept-Ranges': 'bytes', 'Date': 'Sat, 04 Mar 2023 05:38:37 GMT', 'Via': '1.1 varnish', 'Age': '12', 'X-Served-By': 'cache-fty21342-FTY', 'X-Cache': 'HIT', 'X-Cache-Hits': '1', 'X-Timer': 'S1677908317.082791,VS0,VE1', 'Vary': 'Accept-Encoding', 'X-Fastly-Request-ID': '72000a5a9af16543417626c23da2d2abb349fa34'}"
            ]
          },
          "metadata": {},
          "execution_count": 54
        }
      ]
    },
    {
      "cell_type": "code",
      "source": [
        "print(r.text)"
      ],
      "metadata": {
        "id": "oaR5agS2XboB",
        "colab": {
          "base_uri": "https://localhost:8080/"
        },
        "outputId": "3b8da46e-c516-4b7f-d734-42606e2dc549"
      },
      "execution_count": 55,
      "outputs": [
        {
          "output_type": "stream",
          "name": "stdout",
          "text": [
            "<!DOCTYPE html>\n",
            "<html>\n",
            "<head>\n",
            "    <!-- Required meta tags -->\n",
            "    <meta charset=\"utf-8\">\n",
            "    <meta name=\"viewport\" content=\"width=device-width, initial-scale=1, shrink-to-fit=no\">\n",
            "\n",
            "    <!-- Bootstrap CSS -->\n",
            "    <link rel=\"stylesheet\" href=\"https://maxcdn.bootstrapcdn.com/bootstrap/4.0.0/css/bootstrap.min.css\" integrity=\"sha384-Gn5384xqQ1aoWXA+058RXPxPg6fy4IWvTNh0E263XmFcJlSAwiGgFAW/dAiS6JXm\" crossorigin=\"anonymous\">\n",
            "    <link rel=\"stylesheet\" href=\"https://cdn.jsdelivr.net/npm/bootstrap-icons@1.5.0/font/bootstrap-icons.css\">\n",
            "    <script src=\"https://code.jquery.com/jquery-3.6.0.min.js\"></script>\n",
            "    <title>AJAX範例</title>\n",
            "</head>\n",
            "<body>\n",
            "  <div class=\"container\">\n",
            "    <h1>SPY股價</h1>\n",
            "  </div>\n",
            "  <div class=\"container\">\n",
            "    <table border=\"1\" class=\"dataframe table table-striped\">\n",
            "        <thead>\n",
            "          <tr style=\"text-align: right;\">\n",
            "            <th></th>\n",
            "            <th>Open</th>\n",
            "            <th>High</th>\n",
            "            <th>Low</th>\n",
            "            <th>Close</th>\n",
            "            <th>Adj Close</th>\n",
            "            <th>Volume</th>\n",
            "          </tr>\n",
            "          <tr>\n",
            "            <th>Date</th>\n",
            "            <th></th>\n",
            "            <th></th>\n",
            "            <th></th>\n",
            "            <th></th>\n",
            "            <th></th>\n",
            "            <th></th>\n",
            "          </tr>\n",
            "        </thead>\n",
            "        <tbody id=\"spy\">\n",
            "\n",
            "        </tbody>\n",
            "    </table>\n",
            "  </div>\n",
            "\n",
            "  <script type=\"text/javascript\">\n",
            "    $(document).ready(function(){\n",
            "        $.ajax({\n",
            "            url: \"spy.json\",\n",
            "            dataType: 'json',\n",
            "            type: 'get',\n",
            "            cache:false,\n",
            "            success: function(data){\n",
            "                // console.log(data);\n",
            "                var event_data = '';\n",
            "                $.each(data, function(index, value){\n",
            "                    // console.log(value);\n",
            "                    event_data += '<tr>';\n",
            "                    event_data += '<th>'+value.Date+'</th>';\n",
            "                    event_data += '<td>'+value.Open+'</td>';\n",
            "                    event_data += '<td>'+value.High+'</td>';\n",
            "                    event_data += '<td>'+value.Low+'</td>';\n",
            "                    event_data += '<td>'+value.Close+'</td>';\n",
            "                    event_data += '<td>'+value['Adj Close']+'</td>';\n",
            "                    event_data += '<td>'+value.Volume+'</td>';\n",
            "                    event_data += '</tr>';\n",
            "                });\n",
            "                $(\"#spy\").append(event_data);\n",
            "            },\n",
            "            error: function(d){\n",
            "                // console.log(\"error\");\n",
            "                alert(\"404. Please wait until the File is Loaded.\");\n",
            "            }\n",
            "        });\n",
            "    });\n",
            "    </script>\n",
            "    \n",
            "\n",
            "</body>\n",
            "</html>\n"
          ]
        }
      ]
    },
    {
      "cell_type": "markdown",
      "source": [
        "## 關於 pandas 的 read_html()"
      ],
      "metadata": {
        "id": "vJh8zNHOcg70"
      }
    },
    {
      "cell_type": "code",
      "source": [
        "url = \"https://en.wikipedia.org/wiki/List_of_S%26P_500_companies\""
      ],
      "metadata": {
        "id": "_lwZPzurXcxm"
      },
      "execution_count": 63,
      "outputs": []
    },
    {
      "cell_type": "code",
      "source": [
        "dfs = pd.read_html(url)"
      ],
      "metadata": {
        "id": "EtfIcJF8cjab"
      },
      "execution_count": 64,
      "outputs": []
    },
    {
      "cell_type": "code",
      "source": [
        "type(dfs)"
      ],
      "metadata": {
        "colab": {
          "base_uri": "https://localhost:8080/"
        },
        "id": "DVyZMKukckr7",
        "outputId": "952fb8cd-3534-4b83-ff9c-6d2a24460821"
      },
      "execution_count": 65,
      "outputs": [
        {
          "output_type": "execute_result",
          "data": {
            "text/plain": [
              "list"
            ]
          },
          "metadata": {},
          "execution_count": 65
        }
      ]
    },
    {
      "cell_type": "code",
      "source": [
        "len(dfs)"
      ],
      "metadata": {
        "colab": {
          "base_uri": "https://localhost:8080/"
        },
        "id": "lZEN4zBrclur",
        "outputId": "c5bb2387-0ee6-4400-93f2-c333675f4a53"
      },
      "execution_count": 67,
      "outputs": [
        {
          "output_type": "execute_result",
          "data": {
            "text/plain": [
              "2"
            ]
          },
          "metadata": {},
          "execution_count": 67
        }
      ]
    },
    {
      "cell_type": "code",
      "source": [
        "dfs[0]"
      ],
      "metadata": {
        "colab": {
          "base_uri": "https://localhost:8080/",
          "height": 423
        },
        "id": "Wyi4QwcLeFaP",
        "outputId": "8902de89-2887-4f53-cafa-8295eadbf795"
      },
      "execution_count": 66,
      "outputs": [
        {
          "output_type": "execute_result",
          "data": {
            "text/plain": [
              "    Symbol              Security             GICS Sector  \\\n",
              "0      MMM                    3M             Industrials   \n",
              "1      AOS           A. O. Smith             Industrials   \n",
              "2      ABT                Abbott             Health Care   \n",
              "3     ABBV                AbbVie             Health Care   \n",
              "4      ACN             Accenture  Information Technology   \n",
              "..     ...                   ...                     ...   \n",
              "498    YUM           Yum! Brands  Consumer Discretionary   \n",
              "499   ZBRA    Zebra Technologies  Information Technology   \n",
              "500    ZBH         Zimmer Biomet             Health Care   \n",
              "501   ZION  Zions Bancorporation              Financials   \n",
              "502    ZTS                Zoetis             Health Care   \n",
              "\n",
              "                      GICS Sub-Industry    Headquarters Location  Date added  \\\n",
              "0              Industrial Conglomerates    Saint Paul, Minnesota  1957-03-04   \n",
              "1                     Building Products     Milwaukee, Wisconsin  2017-07-26   \n",
              "2                 Health Care Equipment  North Chicago, Illinois  1957-03-04   \n",
              "3                       Pharmaceuticals  North Chicago, Illinois  2012-12-31   \n",
              "4        IT Consulting & Other Services          Dublin, Ireland  2011-07-06   \n",
              "..                                  ...                      ...         ...   \n",
              "498                         Restaurants     Louisville, Kentucky  1997-10-06   \n",
              "499  Electronic Equipment & Instruments   Lincolnshire, Illinois  2019-12-23   \n",
              "500               Health Care Equipment          Warsaw, Indiana  2001-08-07   \n",
              "501                      Regional Banks     Salt Lake City, Utah  2001-06-22   \n",
              "502                     Pharmaceuticals   Parsippany, New Jersey  2013-06-21   \n",
              "\n",
              "         CIK      Founded  \n",
              "0      66740         1902  \n",
              "1      91142         1916  \n",
              "2       1800         1888  \n",
              "3    1551152  2013 (1888)  \n",
              "4    1467373         1989  \n",
              "..       ...          ...  \n",
              "498  1041061         1997  \n",
              "499   877212         1969  \n",
              "500  1136869         1927  \n",
              "501   109380         1873  \n",
              "502  1555280         1952  \n",
              "\n",
              "[503 rows x 8 columns]"
            ],
            "text/html": [
              "\n",
              "  <div id=\"df-6dd683ae-ceaa-4488-8328-a0b719aeda55\">\n",
              "    <div class=\"colab-df-container\">\n",
              "      <div>\n",
              "<style scoped>\n",
              "    .dataframe tbody tr th:only-of-type {\n",
              "        vertical-align: middle;\n",
              "    }\n",
              "\n",
              "    .dataframe tbody tr th {\n",
              "        vertical-align: top;\n",
              "    }\n",
              "\n",
              "    .dataframe thead th {\n",
              "        text-align: right;\n",
              "    }\n",
              "</style>\n",
              "<table border=\"1\" class=\"dataframe\">\n",
              "  <thead>\n",
              "    <tr style=\"text-align: right;\">\n",
              "      <th></th>\n",
              "      <th>Symbol</th>\n",
              "      <th>Security</th>\n",
              "      <th>GICS Sector</th>\n",
              "      <th>GICS Sub-Industry</th>\n",
              "      <th>Headquarters Location</th>\n",
              "      <th>Date added</th>\n",
              "      <th>CIK</th>\n",
              "      <th>Founded</th>\n",
              "    </tr>\n",
              "  </thead>\n",
              "  <tbody>\n",
              "    <tr>\n",
              "      <th>0</th>\n",
              "      <td>MMM</td>\n",
              "      <td>3M</td>\n",
              "      <td>Industrials</td>\n",
              "      <td>Industrial Conglomerates</td>\n",
              "      <td>Saint Paul, Minnesota</td>\n",
              "      <td>1957-03-04</td>\n",
              "      <td>66740</td>\n",
              "      <td>1902</td>\n",
              "    </tr>\n",
              "    <tr>\n",
              "      <th>1</th>\n",
              "      <td>AOS</td>\n",
              "      <td>A. O. Smith</td>\n",
              "      <td>Industrials</td>\n",
              "      <td>Building Products</td>\n",
              "      <td>Milwaukee, Wisconsin</td>\n",
              "      <td>2017-07-26</td>\n",
              "      <td>91142</td>\n",
              "      <td>1916</td>\n",
              "    </tr>\n",
              "    <tr>\n",
              "      <th>2</th>\n",
              "      <td>ABT</td>\n",
              "      <td>Abbott</td>\n",
              "      <td>Health Care</td>\n",
              "      <td>Health Care Equipment</td>\n",
              "      <td>North Chicago, Illinois</td>\n",
              "      <td>1957-03-04</td>\n",
              "      <td>1800</td>\n",
              "      <td>1888</td>\n",
              "    </tr>\n",
              "    <tr>\n",
              "      <th>3</th>\n",
              "      <td>ABBV</td>\n",
              "      <td>AbbVie</td>\n",
              "      <td>Health Care</td>\n",
              "      <td>Pharmaceuticals</td>\n",
              "      <td>North Chicago, Illinois</td>\n",
              "      <td>2012-12-31</td>\n",
              "      <td>1551152</td>\n",
              "      <td>2013 (1888)</td>\n",
              "    </tr>\n",
              "    <tr>\n",
              "      <th>4</th>\n",
              "      <td>ACN</td>\n",
              "      <td>Accenture</td>\n",
              "      <td>Information Technology</td>\n",
              "      <td>IT Consulting &amp; Other Services</td>\n",
              "      <td>Dublin, Ireland</td>\n",
              "      <td>2011-07-06</td>\n",
              "      <td>1467373</td>\n",
              "      <td>1989</td>\n",
              "    </tr>\n",
              "    <tr>\n",
              "      <th>...</th>\n",
              "      <td>...</td>\n",
              "      <td>...</td>\n",
              "      <td>...</td>\n",
              "      <td>...</td>\n",
              "      <td>...</td>\n",
              "      <td>...</td>\n",
              "      <td>...</td>\n",
              "      <td>...</td>\n",
              "    </tr>\n",
              "    <tr>\n",
              "      <th>498</th>\n",
              "      <td>YUM</td>\n",
              "      <td>Yum! Brands</td>\n",
              "      <td>Consumer Discretionary</td>\n",
              "      <td>Restaurants</td>\n",
              "      <td>Louisville, Kentucky</td>\n",
              "      <td>1997-10-06</td>\n",
              "      <td>1041061</td>\n",
              "      <td>1997</td>\n",
              "    </tr>\n",
              "    <tr>\n",
              "      <th>499</th>\n",
              "      <td>ZBRA</td>\n",
              "      <td>Zebra Technologies</td>\n",
              "      <td>Information Technology</td>\n",
              "      <td>Electronic Equipment &amp; Instruments</td>\n",
              "      <td>Lincolnshire, Illinois</td>\n",
              "      <td>2019-12-23</td>\n",
              "      <td>877212</td>\n",
              "      <td>1969</td>\n",
              "    </tr>\n",
              "    <tr>\n",
              "      <th>500</th>\n",
              "      <td>ZBH</td>\n",
              "      <td>Zimmer Biomet</td>\n",
              "      <td>Health Care</td>\n",
              "      <td>Health Care Equipment</td>\n",
              "      <td>Warsaw, Indiana</td>\n",
              "      <td>2001-08-07</td>\n",
              "      <td>1136869</td>\n",
              "      <td>1927</td>\n",
              "    </tr>\n",
              "    <tr>\n",
              "      <th>501</th>\n",
              "      <td>ZION</td>\n",
              "      <td>Zions Bancorporation</td>\n",
              "      <td>Financials</td>\n",
              "      <td>Regional Banks</td>\n",
              "      <td>Salt Lake City, Utah</td>\n",
              "      <td>2001-06-22</td>\n",
              "      <td>109380</td>\n",
              "      <td>1873</td>\n",
              "    </tr>\n",
              "    <tr>\n",
              "      <th>502</th>\n",
              "      <td>ZTS</td>\n",
              "      <td>Zoetis</td>\n",
              "      <td>Health Care</td>\n",
              "      <td>Pharmaceuticals</td>\n",
              "      <td>Parsippany, New Jersey</td>\n",
              "      <td>2013-06-21</td>\n",
              "      <td>1555280</td>\n",
              "      <td>1952</td>\n",
              "    </tr>\n",
              "  </tbody>\n",
              "</table>\n",
              "<p>503 rows × 8 columns</p>\n",
              "</div>\n",
              "      <button class=\"colab-df-convert\" onclick=\"convertToInteractive('df-6dd683ae-ceaa-4488-8328-a0b719aeda55')\"\n",
              "              title=\"Convert this dataframe to an interactive table.\"\n",
              "              style=\"display:none;\">\n",
              "        \n",
              "  <svg xmlns=\"http://www.w3.org/2000/svg\" height=\"24px\"viewBox=\"0 0 24 24\"\n",
              "       width=\"24px\">\n",
              "    <path d=\"M0 0h24v24H0V0z\" fill=\"none\"/>\n",
              "    <path d=\"M18.56 5.44l.94 2.06.94-2.06 2.06-.94-2.06-.94-.94-2.06-.94 2.06-2.06.94zm-11 1L8.5 8.5l.94-2.06 2.06-.94-2.06-.94L8.5 2.5l-.94 2.06-2.06.94zm10 10l.94 2.06.94-2.06 2.06-.94-2.06-.94-.94-2.06-.94 2.06-2.06.94z\"/><path d=\"M17.41 7.96l-1.37-1.37c-.4-.4-.92-.59-1.43-.59-.52 0-1.04.2-1.43.59L10.3 9.45l-7.72 7.72c-.78.78-.78 2.05 0 2.83L4 21.41c.39.39.9.59 1.41.59.51 0 1.02-.2 1.41-.59l7.78-7.78 2.81-2.81c.8-.78.8-2.07 0-2.86zM5.41 20L4 18.59l7.72-7.72 1.47 1.35L5.41 20z\"/>\n",
              "  </svg>\n",
              "      </button>\n",
              "      \n",
              "  <style>\n",
              "    .colab-df-container {\n",
              "      display:flex;\n",
              "      flex-wrap:wrap;\n",
              "      gap: 12px;\n",
              "    }\n",
              "\n",
              "    .colab-df-convert {\n",
              "      background-color: #E8F0FE;\n",
              "      border: none;\n",
              "      border-radius: 50%;\n",
              "      cursor: pointer;\n",
              "      display: none;\n",
              "      fill: #1967D2;\n",
              "      height: 32px;\n",
              "      padding: 0 0 0 0;\n",
              "      width: 32px;\n",
              "    }\n",
              "\n",
              "    .colab-df-convert:hover {\n",
              "      background-color: #E2EBFA;\n",
              "      box-shadow: 0px 1px 2px rgba(60, 64, 67, 0.3), 0px 1px 3px 1px rgba(60, 64, 67, 0.15);\n",
              "      fill: #174EA6;\n",
              "    }\n",
              "\n",
              "    [theme=dark] .colab-df-convert {\n",
              "      background-color: #3B4455;\n",
              "      fill: #D2E3FC;\n",
              "    }\n",
              "\n",
              "    [theme=dark] .colab-df-convert:hover {\n",
              "      background-color: #434B5C;\n",
              "      box-shadow: 0px 1px 3px 1px rgba(0, 0, 0, 0.15);\n",
              "      filter: drop-shadow(0px 1px 2px rgba(0, 0, 0, 0.3));\n",
              "      fill: #FFFFFF;\n",
              "    }\n",
              "  </style>\n",
              "\n",
              "      <script>\n",
              "        const buttonEl =\n",
              "          document.querySelector('#df-6dd683ae-ceaa-4488-8328-a0b719aeda55 button.colab-df-convert');\n",
              "        buttonEl.style.display =\n",
              "          google.colab.kernel.accessAllowed ? 'block' : 'none';\n",
              "\n",
              "        async function convertToInteractive(key) {\n",
              "          const element = document.querySelector('#df-6dd683ae-ceaa-4488-8328-a0b719aeda55');\n",
              "          const dataTable =\n",
              "            await google.colab.kernel.invokeFunction('convertToInteractive',\n",
              "                                                     [key], {});\n",
              "          if (!dataTable) return;\n",
              "\n",
              "          const docLinkHtml = 'Like what you see? Visit the ' +\n",
              "            '<a target=\"_blank\" href=https://colab.research.google.com/notebooks/data_table.ipynb>data table notebook</a>'\n",
              "            + ' to learn more about interactive tables.';\n",
              "          element.innerHTML = '';\n",
              "          dataTable['output_type'] = 'display_data';\n",
              "          await google.colab.output.renderOutput(dataTable, element);\n",
              "          const docLink = document.createElement('div');\n",
              "          docLink.innerHTML = docLinkHtml;\n",
              "          element.appendChild(docLink);\n",
              "        }\n",
              "      </script>\n",
              "    </div>\n",
              "  </div>\n",
              "  "
            ]
          },
          "metadata": {},
          "execution_count": 66
        }
      ]
    },
    {
      "cell_type": "code",
      "source": [
        "dfs[1]"
      ],
      "metadata": {
        "colab": {
          "base_uri": "https://localhost:8080/",
          "height": 455
        },
        "id": "rvie4PFEeH4m",
        "outputId": "176428a4-8fb1-47d7-b0c4-f6dd4f3c25d7"
      },
      "execution_count": 68,
      "outputs": [
        {
          "output_type": "execute_result",
          "data": {
            "text/plain": [
              "                  Date  Added                                Removed  \\\n",
              "                  Date Ticker                       Security  Ticker   \n",
              "0      January 5, 2023    NaN                            NaN     VNO   \n",
              "1      January 4, 2023   GEHC                  GE HealthCare     NaN   \n",
              "2    December 22, 2022   STLD                 Steel Dynamics    ABMD   \n",
              "3    December 19, 2022   FSLR                    First Solar    FBHS   \n",
              "4    December 19, 2022    NaN                            NaN     MBC   \n",
              "..                 ...    ...                            ...     ...   \n",
              "315       June 9, 1999    WLP                      Wellpoint     HPH   \n",
              "316  December 11, 1998    FSR                        Firstar     LDW   \n",
              "317  December 11, 1998    CCL                 Carnival Corp.     GRN   \n",
              "318  December 11, 1998   CPWR                      Compuware     SUN   \n",
              "319      June 17, 1997    CCI  Countrywide Credit Industries     USL   \n",
              "\n",
              "                                     \\\n",
              "                           Security   \n",
              "0              Vornado Realty Trust   \n",
              "1                               NaN   \n",
              "2                           Abiomed   \n",
              "3    Fortune Brands Home & Security   \n",
              "4                       MasterBrand   \n",
              "..                              ...   \n",
              "315        Harnischfeger Industries   \n",
              "316                           Amoco   \n",
              "317                      General Re   \n",
              "318                      SunAmerica   \n",
              "319                          USLife   \n",
              "\n",
              "                                                Reason  \n",
              "                                                Reason  \n",
              "0                     Market capitalization change.[4]  \n",
              "1    S&P 500 constituent General Electric spun off ...  \n",
              "2    S&P 500 constituent Johnson & Johnson acquired...  \n",
              "3                     Market capitalization change.[7]  \n",
              "4                     Market capitalization change.[7]  \n",
              "..                                                 ...  \n",
              "315           Harnischfeger filed for bankruptcy.[241]  \n",
              "316            British Petroleum purchased Amoco.[242]  \n",
              "317      Berkshire Hathaway purchased General Re.[242]  \n",
              "318                     AIG purchased SunAmerica.[242]  \n",
              "319                          AIG acquired USLife.[243]  \n",
              "\n",
              "[320 rows x 6 columns]"
            ],
            "text/html": [
              "\n",
              "  <div id=\"df-aa926090-2f5f-466d-abe1-98bc1c74b6f4\">\n",
              "    <div class=\"colab-df-container\">\n",
              "      <div>\n",
              "<style scoped>\n",
              "    .dataframe tbody tr th:only-of-type {\n",
              "        vertical-align: middle;\n",
              "    }\n",
              "\n",
              "    .dataframe tbody tr th {\n",
              "        vertical-align: top;\n",
              "    }\n",
              "\n",
              "    .dataframe thead tr th {\n",
              "        text-align: left;\n",
              "    }\n",
              "</style>\n",
              "<table border=\"1\" class=\"dataframe\">\n",
              "  <thead>\n",
              "    <tr>\n",
              "      <th></th>\n",
              "      <th>Date</th>\n",
              "      <th colspan=\"2\" halign=\"left\">Added</th>\n",
              "      <th colspan=\"2\" halign=\"left\">Removed</th>\n",
              "      <th>Reason</th>\n",
              "    </tr>\n",
              "    <tr>\n",
              "      <th></th>\n",
              "      <th>Date</th>\n",
              "      <th>Ticker</th>\n",
              "      <th>Security</th>\n",
              "      <th>Ticker</th>\n",
              "      <th>Security</th>\n",
              "      <th>Reason</th>\n",
              "    </tr>\n",
              "  </thead>\n",
              "  <tbody>\n",
              "    <tr>\n",
              "      <th>0</th>\n",
              "      <td>January 5, 2023</td>\n",
              "      <td>NaN</td>\n",
              "      <td>NaN</td>\n",
              "      <td>VNO</td>\n",
              "      <td>Vornado Realty Trust</td>\n",
              "      <td>Market capitalization change.[4]</td>\n",
              "    </tr>\n",
              "    <tr>\n",
              "      <th>1</th>\n",
              "      <td>January 4, 2023</td>\n",
              "      <td>GEHC</td>\n",
              "      <td>GE HealthCare</td>\n",
              "      <td>NaN</td>\n",
              "      <td>NaN</td>\n",
              "      <td>S&amp;P 500 constituent General Electric spun off ...</td>\n",
              "    </tr>\n",
              "    <tr>\n",
              "      <th>2</th>\n",
              "      <td>December 22, 2022</td>\n",
              "      <td>STLD</td>\n",
              "      <td>Steel Dynamics</td>\n",
              "      <td>ABMD</td>\n",
              "      <td>Abiomed</td>\n",
              "      <td>S&amp;P 500 constituent Johnson &amp; Johnson acquired...</td>\n",
              "    </tr>\n",
              "    <tr>\n",
              "      <th>3</th>\n",
              "      <td>December 19, 2022</td>\n",
              "      <td>FSLR</td>\n",
              "      <td>First Solar</td>\n",
              "      <td>FBHS</td>\n",
              "      <td>Fortune Brands Home &amp; Security</td>\n",
              "      <td>Market capitalization change.[7]</td>\n",
              "    </tr>\n",
              "    <tr>\n",
              "      <th>4</th>\n",
              "      <td>December 19, 2022</td>\n",
              "      <td>NaN</td>\n",
              "      <td>NaN</td>\n",
              "      <td>MBC</td>\n",
              "      <td>MasterBrand</td>\n",
              "      <td>Market capitalization change.[7]</td>\n",
              "    </tr>\n",
              "    <tr>\n",
              "      <th>...</th>\n",
              "      <td>...</td>\n",
              "      <td>...</td>\n",
              "      <td>...</td>\n",
              "      <td>...</td>\n",
              "      <td>...</td>\n",
              "      <td>...</td>\n",
              "    </tr>\n",
              "    <tr>\n",
              "      <th>315</th>\n",
              "      <td>June 9, 1999</td>\n",
              "      <td>WLP</td>\n",
              "      <td>Wellpoint</td>\n",
              "      <td>HPH</td>\n",
              "      <td>Harnischfeger Industries</td>\n",
              "      <td>Harnischfeger filed for bankruptcy.[241]</td>\n",
              "    </tr>\n",
              "    <tr>\n",
              "      <th>316</th>\n",
              "      <td>December 11, 1998</td>\n",
              "      <td>FSR</td>\n",
              "      <td>Firstar</td>\n",
              "      <td>LDW</td>\n",
              "      <td>Amoco</td>\n",
              "      <td>British Petroleum purchased Amoco.[242]</td>\n",
              "    </tr>\n",
              "    <tr>\n",
              "      <th>317</th>\n",
              "      <td>December 11, 1998</td>\n",
              "      <td>CCL</td>\n",
              "      <td>Carnival Corp.</td>\n",
              "      <td>GRN</td>\n",
              "      <td>General Re</td>\n",
              "      <td>Berkshire Hathaway purchased General Re.[242]</td>\n",
              "    </tr>\n",
              "    <tr>\n",
              "      <th>318</th>\n",
              "      <td>December 11, 1998</td>\n",
              "      <td>CPWR</td>\n",
              "      <td>Compuware</td>\n",
              "      <td>SUN</td>\n",
              "      <td>SunAmerica</td>\n",
              "      <td>AIG purchased SunAmerica.[242]</td>\n",
              "    </tr>\n",
              "    <tr>\n",
              "      <th>319</th>\n",
              "      <td>June 17, 1997</td>\n",
              "      <td>CCI</td>\n",
              "      <td>Countrywide Credit Industries</td>\n",
              "      <td>USL</td>\n",
              "      <td>USLife</td>\n",
              "      <td>AIG acquired USLife.[243]</td>\n",
              "    </tr>\n",
              "  </tbody>\n",
              "</table>\n",
              "<p>320 rows × 6 columns</p>\n",
              "</div>\n",
              "      <button class=\"colab-df-convert\" onclick=\"convertToInteractive('df-aa926090-2f5f-466d-abe1-98bc1c74b6f4')\"\n",
              "              title=\"Convert this dataframe to an interactive table.\"\n",
              "              style=\"display:none;\">\n",
              "        \n",
              "  <svg xmlns=\"http://www.w3.org/2000/svg\" height=\"24px\"viewBox=\"0 0 24 24\"\n",
              "       width=\"24px\">\n",
              "    <path d=\"M0 0h24v24H0V0z\" fill=\"none\"/>\n",
              "    <path d=\"M18.56 5.44l.94 2.06.94-2.06 2.06-.94-2.06-.94-.94-2.06-.94 2.06-2.06.94zm-11 1L8.5 8.5l.94-2.06 2.06-.94-2.06-.94L8.5 2.5l-.94 2.06-2.06.94zm10 10l.94 2.06.94-2.06 2.06-.94-2.06-.94-.94-2.06-.94 2.06-2.06.94z\"/><path d=\"M17.41 7.96l-1.37-1.37c-.4-.4-.92-.59-1.43-.59-.52 0-1.04.2-1.43.59L10.3 9.45l-7.72 7.72c-.78.78-.78 2.05 0 2.83L4 21.41c.39.39.9.59 1.41.59.51 0 1.02-.2 1.41-.59l7.78-7.78 2.81-2.81c.8-.78.8-2.07 0-2.86zM5.41 20L4 18.59l7.72-7.72 1.47 1.35L5.41 20z\"/>\n",
              "  </svg>\n",
              "      </button>\n",
              "      \n",
              "  <style>\n",
              "    .colab-df-container {\n",
              "      display:flex;\n",
              "      flex-wrap:wrap;\n",
              "      gap: 12px;\n",
              "    }\n",
              "\n",
              "    .colab-df-convert {\n",
              "      background-color: #E8F0FE;\n",
              "      border: none;\n",
              "      border-radius: 50%;\n",
              "      cursor: pointer;\n",
              "      display: none;\n",
              "      fill: #1967D2;\n",
              "      height: 32px;\n",
              "      padding: 0 0 0 0;\n",
              "      width: 32px;\n",
              "    }\n",
              "\n",
              "    .colab-df-convert:hover {\n",
              "      background-color: #E2EBFA;\n",
              "      box-shadow: 0px 1px 2px rgba(60, 64, 67, 0.3), 0px 1px 3px 1px rgba(60, 64, 67, 0.15);\n",
              "      fill: #174EA6;\n",
              "    }\n",
              "\n",
              "    [theme=dark] .colab-df-convert {\n",
              "      background-color: #3B4455;\n",
              "      fill: #D2E3FC;\n",
              "    }\n",
              "\n",
              "    [theme=dark] .colab-df-convert:hover {\n",
              "      background-color: #434B5C;\n",
              "      box-shadow: 0px 1px 3px 1px rgba(0, 0, 0, 0.15);\n",
              "      filter: drop-shadow(0px 1px 2px rgba(0, 0, 0, 0.3));\n",
              "      fill: #FFFFFF;\n",
              "    }\n",
              "  </style>\n",
              "\n",
              "      <script>\n",
              "        const buttonEl =\n",
              "          document.querySelector('#df-aa926090-2f5f-466d-abe1-98bc1c74b6f4 button.colab-df-convert');\n",
              "        buttonEl.style.display =\n",
              "          google.colab.kernel.accessAllowed ? 'block' : 'none';\n",
              "\n",
              "        async function convertToInteractive(key) {\n",
              "          const element = document.querySelector('#df-aa926090-2f5f-466d-abe1-98bc1c74b6f4');\n",
              "          const dataTable =\n",
              "            await google.colab.kernel.invokeFunction('convertToInteractive',\n",
              "                                                     [key], {});\n",
              "          if (!dataTable) return;\n",
              "\n",
              "          const docLinkHtml = 'Like what you see? Visit the ' +\n",
              "            '<a target=\"_blank\" href=https://colab.research.google.com/notebooks/data_table.ipynb>data table notebook</a>'\n",
              "            + ' to learn more about interactive tables.';\n",
              "          element.innerHTML = '';\n",
              "          dataTable['output_type'] = 'display_data';\n",
              "          await google.colab.output.renderOutput(dataTable, element);\n",
              "          const docLink = document.createElement('div');\n",
              "          docLink.innerHTML = docLinkHtml;\n",
              "          element.appendChild(docLink);\n",
              "        }\n",
              "      </script>\n",
              "    </div>\n",
              "  </div>\n",
              "  "
            ]
          },
          "metadata": {},
          "execution_count": 68
        }
      ]
    },
    {
      "cell_type": "markdown",
      "source": [
        "# 剖析網頁原始碼"
      ],
      "metadata": {
        "id": "ZnRIXAbTjSDA"
      }
    },
    {
      "cell_type": "code",
      "source": [
        "#多行字串要用三個\"\"\"\n",
        "s = \"\"\"<!DOCTYPE html>\n",
        "<html>\n",
        "<head>\n",
        "    <!-- Required meta tags -->\n",
        "    <meta charset=\"utf-8\">\n",
        "    <meta name=\"viewport\" content=\"width=device-width, initial-scale=1, shrink-to-fit=no\">\n",
        "\n",
        "    <!-- Bootstrap CSS -->\n",
        "    <link rel=\"stylesheet\" href=\"https://maxcdn.bootstrapcdn.com/bootstrap/4.0.0/css/bootstrap.min.css\" integrity=\"sha384-Gn5384xqQ1aoWXA+058RXPxPg6fy4IWvTNh0E263XmFcJlSAwiGgFAW/dAiS6JXm\" crossorigin=\"anonymous\">\n",
        "    <link rel=\"stylesheet\" href=\"https://cdn.jsdelivr.net/npm/bootstrap-icons@1.5.0/font/bootstrap-icons.css\">\n",
        "    <title>範例索引</title>\n",
        "</head>\n",
        "<body>\n",
        "    <div class=\"container\">\n",
        "        <div class=\"row my-5\">\n",
        "            <div class=\"col\">\n",
        "                <h1 class=\"bg-warning p-3 rounded\">Web及爬蟲簡介課程範例</h1>\n",
        "\n",
        "                <ul class=\"list-group\">\n",
        "                    <li class=\"list-group-item\"><i class=\"bi bi-globe\"></i> <a href=\"html_only.html\">HTML 範例</a></li>\n",
        "                    <li class=\"list-group-item\"><i class=\"bi bi-globe\"></i> <a href=\"html_css.html\">HTML + CSS 範例</a></li>\n",
        "                    <li class=\"list-group-item\"><i class=\"bi bi-globe\"></i> <a href=\"html_css_javascript.html\">HTML + CSS + Javascript 範例</a></li>\n",
        "                    <li class=\"list-group-item\"><i class=\"bi bi-bug\"></i> <a href=\"example01.html\">example01.html (爬蟲抓取用範例)</a></li>\n",
        "                    <li class=\"list-group-item\"><i class=\"bi bi-bug\"></i> <a href=\"example02.html\">example02.html (爬蟲抓取用範例)</a></li>\n",
        "                    <li class=\"list-group-item\"><i class=\"bi bi-bug\"></i> <a href=\"example03.html\">example03.html (爬蟲抓取用範例)</a></li>\n",
        "                    <li class=\"list-group-item\"><i class=\"bi bi-bug\"></i> <a href=\"example04.html\">example04.html (爬蟲抓取用範例)</a></li>\n",
        "                    <li class=\"list-group-item\"><i class=\"bi bi-bug\"></i> <a href=\"example05.html\">example05.html (爬蟲抓取用範例)</a></li>\n",
        "                    <li class=\"list-group-item\"><i class=\"bi bi-bug\"></i> <a href=\"spy.html\">Classic HTML 範例 (爬蟲抓取用範例)</a></li>\n",
        "                    <li class=\"list-group-item\"><i class=\"bi bi-bug\"></i> <a href=\"spy_ajax.html\">Ajax 範例 (爬蟲抓取用範例)</a></li>\n",
        "                    <li class=\"list-group-item\"><i class=\"bi bi-bug\"></i> <a href=\"form_get.html\">HTTP GET 方法說明</a></li>\n",
        "                    <li class=\"list-group-item\"><i class=\"bi bi-bug\"></i> <a href=\"form_post.html\">HTTP POST 方法說明</a></li>\n",
        "                </ul>         \n",
        "            </div>\n",
        "    \n",
        "        </div>\n",
        "    </div>\n",
        "\n",
        "<!-- Optional JavaScript -->\n",
        "<!-- jQuery first, then Popper.js, then Bootstrap JS -->\n",
        "<script src=\"https://code.jquery.com/jquery-3.2.1.slim.min.js\" integrity=\"sha384-KJ3o2DKtIkvYIK3UENzmM7KCkRr/rE9/Qpg6aAZGJwFDMVNA/GpGFF93hXpG5KkN\" crossorigin=\"anonymous\"></script>\n",
        "<script src=\"https://cdnjs.cloudflare.com/ajax/libs/popper.js/1.12.9/umd/popper.min.js\" integrity=\"sha384-ApNbgh9B+Y1QKtv3Rn7W3mgPxhU9K/ScQsAP7hUibX39j7fakFPskvXusvfa0b4Q\" crossorigin=\"anonymous\"></script>\n",
        "<script src=\"https://maxcdn.bootstrapcdn.com/bootstrap/4.0.0/js/bootstrap.min.js\" integrity=\"sha384-JZR6Spejh4U02d8jOt6vLEHfe/JQGiRRSQQxSfFWpi1MquVdAyjUar5+76PVCmYl\" crossorigin=\"anonymous\"></script>\n",
        "\n",
        "</body>\n",
        "</html>\"\"\""
      ],
      "metadata": {
        "id": "lBHSsWAZeIWK"
      },
      "execution_count": 69,
      "outputs": []
    },
    {
      "cell_type": "code",
      "source": [
        "type(s)"
      ],
      "metadata": {
        "colab": {
          "base_uri": "https://localhost:8080/"
        },
        "id": "oxYp4yLgj2rd",
        "outputId": "30d5d87f-2fc4-465f-856c-ead28efd36cd"
      },
      "execution_count": 70,
      "outputs": [
        {
          "output_type": "execute_result",
          "data": {
            "text/plain": [
              "str"
            ]
          },
          "metadata": {},
          "execution_count": 70
        }
      ]
    },
    {
      "cell_type": "code",
      "source": [
        "from bs4 import BeautifulSoup"
      ],
      "metadata": {
        "id": "y8kc4wMMj6Fr"
      },
      "execution_count": 71,
      "outputs": []
    },
    {
      "cell_type": "code",
      "source": [
        "soup = BeautifulSoup(s)"
      ],
      "metadata": {
        "id": "LHyg9XxRkGTx"
      },
      "execution_count": 72,
      "outputs": []
    },
    {
      "cell_type": "code",
      "source": [
        "soup.h1"
      ],
      "metadata": {
        "colab": {
          "base_uri": "https://localhost:8080/"
        },
        "id": "OTPTPZ5IkKgP",
        "outputId": "64696884-4472-4c48-fec5-4bf5eb1384ac"
      },
      "execution_count": null,
      "outputs": [
        {
          "output_type": "execute_result",
          "data": {
            "text/plain": [
              "<h1 class=\"bg-warning p-3 rounded\">Web及爬蟲簡介課程範例</h1>"
            ]
          },
          "metadata": {},
          "execution_count": 48
        }
      ]
    },
    {
      "cell_type": "code",
      "source": [
        "soup.h1.text"
      ],
      "metadata": {
        "colab": {
          "base_uri": "https://localhost:8080/",
          "height": 35
        },
        "id": "Y6NvH16SkQdu",
        "outputId": "d6f23a99-24f6-4f23-9c0c-92b08df13bd6"
      },
      "execution_count": null,
      "outputs": [
        {
          "output_type": "execute_result",
          "data": {
            "text/plain": [
              "'Web及爬蟲簡介課程範例'"
            ],
            "application/vnd.google.colaboratory.intrinsic+json": {
              "type": "string"
            }
          },
          "metadata": {},
          "execution_count": 49
        }
      ]
    },
    {
      "cell_type": "code",
      "source": [
        "#只有打li只會出現一行而已\n",
        "soup.li"
      ],
      "metadata": {
        "colab": {
          "base_uri": "https://localhost:8080/"
        },
        "id": "greSGYOokTYX",
        "outputId": "c3980116-3fb1-4262-a01a-9210743c17d7"
      },
      "execution_count": 73,
      "outputs": [
        {
          "output_type": "execute_result",
          "data": {
            "text/plain": [
              "<li class=\"list-group-item\"><i class=\"bi bi-globe\"></i> <a href=\"html_only.html\">HTML 範例</a></li>"
            ]
          },
          "metadata": {},
          "execution_count": 73
        }
      ]
    },
    {
      "cell_type": "code",
      "source": [
        "#加上select會出現所有跟li相關的資料\n",
        "soup.select(\"li\")"
      ],
      "metadata": {
        "colab": {
          "base_uri": "https://localhost:8080/"
        },
        "id": "UBtj7pVjkeQm",
        "outputId": "fadb1224-25d8-427a-c3c3-ca6d49835bb2"
      },
      "execution_count": 74,
      "outputs": [
        {
          "output_type": "execute_result",
          "data": {
            "text/plain": [
              "[<li class=\"list-group-item\"><i class=\"bi bi-globe\"></i> <a href=\"html_only.html\">HTML 範例</a></li>,\n",
              " <li class=\"list-group-item\"><i class=\"bi bi-globe\"></i> <a href=\"html_css.html\">HTML + CSS 範例</a></li>,\n",
              " <li class=\"list-group-item\"><i class=\"bi bi-globe\"></i> <a href=\"html_css_javascript.html\">HTML + CSS + Javascript 範例</a></li>,\n",
              " <li class=\"list-group-item\"><i class=\"bi bi-bug\"></i> <a href=\"example01.html\">example01.html (爬蟲抓取用範例)</a></li>,\n",
              " <li class=\"list-group-item\"><i class=\"bi bi-bug\"></i> <a href=\"example02.html\">example02.html (爬蟲抓取用範例)</a></li>,\n",
              " <li class=\"list-group-item\"><i class=\"bi bi-bug\"></i> <a href=\"example03.html\">example03.html (爬蟲抓取用範例)</a></li>,\n",
              " <li class=\"list-group-item\"><i class=\"bi bi-bug\"></i> <a href=\"example04.html\">example04.html (爬蟲抓取用範例)</a></li>,\n",
              " <li class=\"list-group-item\"><i class=\"bi bi-bug\"></i> <a href=\"example05.html\">example05.html (爬蟲抓取用範例)</a></li>,\n",
              " <li class=\"list-group-item\"><i class=\"bi bi-bug\"></i> <a href=\"spy.html\">Classic HTML 範例 (爬蟲抓取用範例)</a></li>,\n",
              " <li class=\"list-group-item\"><i class=\"bi bi-bug\"></i> <a href=\"spy_ajax.html\">Ajax 範例 (爬蟲抓取用範例)</a></li>,\n",
              " <li class=\"list-group-item\"><i class=\"bi bi-bug\"></i> <a href=\"form_get.html\">HTTP GET 方法說明</a></li>,\n",
              " <li class=\"list-group-item\"><i class=\"bi bi-bug\"></i> <a href=\"form_post.html\">HTTP POST 方法說明</a></li>]"
            ]
          },
          "metadata": {},
          "execution_count": 74
        }
      ]
    },
    {
      "cell_type": "code",
      "source": [
        "soup.select(\"li\")[0]"
      ],
      "metadata": {
        "colab": {
          "base_uri": "https://localhost:8080/"
        },
        "id": "Blv8Kaz9kiCW",
        "outputId": "19d270df-fab4-4cec-fa1a-894b80b8e0a7"
      },
      "execution_count": 75,
      "outputs": [
        {
          "output_type": "execute_result",
          "data": {
            "text/plain": [
              "<li class=\"list-group-item\"><i class=\"bi bi-globe\"></i> <a href=\"html_only.html\">HTML 範例</a></li>"
            ]
          },
          "metadata": {},
          "execution_count": 75
        }
      ]
    },
    {
      "cell_type": "code",
      "source": [
        "#第一筆資料的文字部分\n",
        "soup.select(\"li\")[0].text"
      ],
      "metadata": {
        "colab": {
          "base_uri": "https://localhost:8080/",
          "height": 35
        },
        "id": "EgDXeQcPpQlo",
        "outputId": "620f4d82-ab7f-47ec-8f1b-50222fcf7c5d"
      },
      "execution_count": 76,
      "outputs": [
        {
          "output_type": "execute_result",
          "data": {
            "text/plain": [
              "' HTML 範例'"
            ],
            "application/vnd.google.colaboratory.intrinsic+json": {
              "type": "string"
            }
          },
          "metadata": {},
          "execution_count": 76
        }
      ]
    },
    {
      "cell_type": "code",
      "source": [
        "#第二筆資料文字部分\n",
        "soup.select(\"li\")[1].text"
      ],
      "metadata": {
        "colab": {
          "base_uri": "https://localhost:8080/",
          "height": 35
        },
        "id": "52IBfV6XpT1A",
        "outputId": "700d3ad3-04cd-41be-dd2c-465b016a874b"
      },
      "execution_count": 77,
      "outputs": [
        {
          "output_type": "execute_result",
          "data": {
            "text/plain": [
              "' HTML + CSS 範例'"
            ],
            "application/vnd.google.colaboratory.intrinsic+json": {
              "type": "string"
            }
          },
          "metadata": {},
          "execution_count": 77
        }
      ]
    },
    {
      "cell_type": "code",
      "source": [
        "for x in soup.select(\"li\"):\n",
        "  print(x.text)"
      ],
      "metadata": {
        "colab": {
          "base_uri": "https://localhost:8080/"
        },
        "id": "Kc05LypvqL0A",
        "outputId": "36ad4469-214a-40d7-d6fc-7ca681105bb2"
      },
      "execution_count": 78,
      "outputs": [
        {
          "output_type": "stream",
          "name": "stdout",
          "text": [
            " HTML 範例\n",
            " HTML + CSS 範例\n",
            " HTML + CSS + Javascript 範例\n",
            " example01.html (爬蟲抓取用範例)\n",
            " example02.html (爬蟲抓取用範例)\n",
            " example03.html (爬蟲抓取用範例)\n",
            " example04.html (爬蟲抓取用範例)\n",
            " example05.html (爬蟲抓取用範例)\n",
            " Classic HTML 範例 (爬蟲抓取用範例)\n",
            " Ajax 範例 (爬蟲抓取用範例)\n",
            " HTTP GET 方法說明\n",
            " HTTP POST 方法說明\n"
          ]
        }
      ]
    },
    {
      "cell_type": "code",
      "source": [
        "for i, x in enumerate(soup.select(\"li\")):\n",
        "  print(i, \":\", x.text)"
      ],
      "metadata": {
        "colab": {
          "base_uri": "https://localhost:8080/"
        },
        "id": "i3hXgcRZqPGB",
        "outputId": "9095a42f-5a9b-4ae0-8a2e-c528b8df257e"
      },
      "execution_count": 79,
      "outputs": [
        {
          "output_type": "stream",
          "name": "stdout",
          "text": [
            "0 :  HTML 範例\n",
            "1 :  HTML + CSS 範例\n",
            "2 :  HTML + CSS + Javascript 範例\n",
            "3 :  example01.html (爬蟲抓取用範例)\n",
            "4 :  example02.html (爬蟲抓取用範例)\n",
            "5 :  example03.html (爬蟲抓取用範例)\n",
            "6 :  example04.html (爬蟲抓取用範例)\n",
            "7 :  example05.html (爬蟲抓取用範例)\n",
            "8 :  Classic HTML 範例 (爬蟲抓取用範例)\n",
            "9 :  Ajax 範例 (爬蟲抓取用範例)\n",
            "10 :  HTTP GET 方法說明\n",
            "11 :  HTTP POST 方法說明\n"
          ]
        }
      ]
    },
    {
      "cell_type": "code",
      "source": [
        "for i, x in enumerate(soup.select(\"li\")):\n",
        "  print(f\"{i:2}: {x.text}\")"
      ],
      "metadata": {
        "colab": {
          "base_uri": "https://localhost:8080/"
        },
        "id": "t7mT8fbspaBN",
        "outputId": "928ca7e9-a5c3-4296-c032-1fb8fde5f5ee"
      },
      "execution_count": 80,
      "outputs": [
        {
          "output_type": "stream",
          "name": "stdout",
          "text": [
            " 0:  HTML 範例\n",
            " 1:  HTML + CSS 範例\n",
            " 2:  HTML + CSS + Javascript 範例\n",
            " 3:  example01.html (爬蟲抓取用範例)\n",
            " 4:  example02.html (爬蟲抓取用範例)\n",
            " 5:  example03.html (爬蟲抓取用範例)\n",
            " 6:  example04.html (爬蟲抓取用範例)\n",
            " 7:  example05.html (爬蟲抓取用範例)\n",
            " 8:  Classic HTML 範例 (爬蟲抓取用範例)\n",
            " 9:  Ajax 範例 (爬蟲抓取用範例)\n",
            "10:  HTTP GET 方法說明\n",
            "11:  HTTP POST 方法說明\n"
          ]
        }
      ]
    },
    {
      "cell_type": "markdown",
      "source": [
        "# 關於字串格式化"
      ],
      "metadata": {
        "id": "QgCt-HNxqh5X"
      }
    },
    {
      "cell_type": "code",
      "source": [
        "x = 1\n",
        "y = 1.23\n",
        "z = True\n",
        "w = \"dog\""
      ],
      "metadata": {
        "id": "d7ejoKtdqQgw"
      },
      "execution_count": 81,
      "outputs": []
    },
    {
      "cell_type": "code",
      "source": [
        "print(x, y, z, w)"
      ],
      "metadata": {
        "colab": {
          "base_uri": "https://localhost:8080/"
        },
        "id": "5GS02l_RpnAF",
        "outputId": "bcf70fe1-929d-461c-d65d-c0dec8cfb297"
      },
      "execution_count": 82,
      "outputs": [
        {
          "output_type": "stream",
          "name": "stdout",
          "text": [
            "1 1.23 True dog\n"
          ]
        }
      ]
    },
    {
      "cell_type": "code",
      "source": [
        "print(x, y, z, w, sep=\"\")"
      ],
      "metadata": {
        "colab": {
          "base_uri": "https://localhost:8080/"
        },
        "id": "9nGYJP28usV3",
        "outputId": "a37e7daa-ba58-45ef-c0a4-7135ae2988fc"
      },
      "execution_count": 83,
      "outputs": [
        {
          "output_type": "stream",
          "name": "stdout",
          "text": [
            "11.23Truedog\n"
          ]
        }
      ]
    },
    {
      "cell_type": "code",
      "source": [
        "print(x, y, z, w, sep=\"+\")"
      ],
      "metadata": {
        "colab": {
          "base_uri": "https://localhost:8080/"
        },
        "id": "c2DbzdWKu1TG",
        "outputId": "9d54b196-3e51-4d62-bdc3-a1415e45db8c"
      },
      "execution_count": 84,
      "outputs": [
        {
          "output_type": "stream",
          "name": "stdout",
          "text": [
            "1+1.23+True+dog\n"
          ]
        }
      ]
    },
    {
      "cell_type": "markdown",
      "source": [
        "### f-string(3.5+)"
      ],
      "metadata": {
        "id": "-Kv99-ZWvHb8"
      }
    },
    {
      "cell_type": "code",
      "source": [
        "print(f\"{x}, {y}, {z}, {w}\")"
      ],
      "metadata": {
        "colab": {
          "base_uri": "https://localhost:8080/"
        },
        "id": "JXHCXaEKvMfr",
        "outputId": "bac510ed-ebd2-4307-baea-993aadff28a8"
      },
      "execution_count": 85,
      "outputs": [
        {
          "output_type": "stream",
          "name": "stdout",
          "text": [
            "1, 1.23, True, dog\n"
          ]
        }
      ]
    },
    {
      "cell_type": "code",
      "source": [
        "#有無f字串的比較\n",
        "print(\"{x}, {y}, {z}, {w}\")"
      ],
      "metadata": {
        "colab": {
          "base_uri": "https://localhost:8080/"
        },
        "id": "CIT0p_RLvYdU",
        "outputId": "25a02ea6-de42-48e3-c4a1-1fc43abec5bd"
      },
      "execution_count": 86,
      "outputs": [
        {
          "output_type": "stream",
          "name": "stdout",
          "text": [
            "{x}, {y}, {z}, {w}\n"
          ]
        }
      ]
    },
    {
      "cell_type": "code",
      "source": [
        "print(f\"{x}, {y}, {z}, {w}\")\n",
        "print(f\"{x:5}, {y}, {z}, {w}\")\n",
        "print(f\"{x:05}, {y}, {z}, {w}\")"
      ],
      "metadata": {
        "colab": {
          "base_uri": "https://localhost:8080/"
        },
        "id": "rsrhbWADvwiq",
        "outputId": "a2fe95d6-051e-4db0-a452-edb9d70ee734"
      },
      "execution_count": 87,
      "outputs": [
        {
          "output_type": "stream",
          "name": "stdout",
          "text": [
            "1, 1.23, True, dog\n",
            "    1, 1.23, True, dog\n",
            "00001, 1.23, True, dog\n"
          ]
        }
      ]
    },
    {
      "cell_type": "code",
      "source": [
        "#7.2的f是表示要取小數點後面兩位\n",
        "print(f\"{x}, {y}, {z}, {w}\")\n",
        "print(f\"{x}, {y:7.2f}, {z}, {w}\")\n",
        "print(f\"{x}, {y:07.2f}, {z}, {w}\")"
      ],
      "metadata": {
        "colab": {
          "base_uri": "https://localhost:8080/"
        },
        "id": "hvDctdH3wEvc",
        "outputId": "1a01a997-7612-48da-9d68-06d154e13fd3"
      },
      "execution_count": 88,
      "outputs": [
        {
          "output_type": "stream",
          "name": "stdout",
          "text": [
            "1, 1.23, True, dog\n",
            "1,    1.23, True, dog\n",
            "1, 0001.23, True, dog\n"
          ]
        }
      ]
    },
    {
      "cell_type": "code",
      "source": [
        "print(f\"{x}, {y}, {z}, {w}\")\n",
        "print(f\"{x}, {y}, {z}, {w:10}\")\n",
        "print(f\"{x}, {y}, {z}, {w:>10}\")"
      ],
      "metadata": {
        "colab": {
          "base_uri": "https://localhost:8080/"
        },
        "id": "C3YfYe0VwUs7",
        "outputId": "080441a2-b699-4654-e187-3efbb1e26750"
      },
      "execution_count": 89,
      "outputs": [
        {
          "output_type": "stream",
          "name": "stdout",
          "text": [
            "1, 1.23, True, dog\n",
            "1, 1.23, True, dog       \n",
            "1, 1.23, True,        dog\n"
          ]
        }
      ]
    },
    {
      "cell_type": "markdown",
      "source": [
        "### string.format"
      ],
      "metadata": {
        "id": "VGTW_HhFvAcr"
      }
    },
    {
      "cell_type": "code",
      "source": [
        "print(\"{}, {}, {}, {}\".format(x, y, z, w))"
      ],
      "metadata": {
        "colab": {
          "base_uri": "https://localhost:8080/"
        },
        "id": "xyKbo2EOu6TF",
        "outputId": "df51331e-d56d-4690-c650-9f732a544950"
      },
      "execution_count": 90,
      "outputs": [
        {
          "output_type": "stream",
          "name": "stdout",
          "text": [
            "1, 1.23, True, dog\n"
          ]
        }
      ]
    },
    {
      "cell_type": "code",
      "source": [
        "print(\"{}, {}, {}, {}, {}\".format(x, y, z, w))"
      ],
      "metadata": {
        "colab": {
          "base_uri": "https://localhost:8080/",
          "height": 167
        },
        "id": "UIcm58Dix5fG",
        "outputId": "d4b8a5b9-317d-4da1-b49c-caa9cfcad890"
      },
      "execution_count": 91,
      "outputs": [
        {
          "output_type": "error",
          "ename": "IndexError",
          "evalue": "ignored",
          "traceback": [
            "\u001b[0;31m---------------------------------------------------------------------------\u001b[0m",
            "\u001b[0;31mIndexError\u001b[0m                                Traceback (most recent call last)",
            "\u001b[0;32m<ipython-input-91-72aaf523e213>\u001b[0m in \u001b[0;36m<module>\u001b[0;34m\u001b[0m\n\u001b[0;32m----> 1\u001b[0;31m \u001b[0mprint\u001b[0m\u001b[0;34m(\u001b[0m\u001b[0;34m\"{}, {}, {}, {}, {}\"\u001b[0m\u001b[0;34m.\u001b[0m\u001b[0mformat\u001b[0m\u001b[0;34m(\u001b[0m\u001b[0mx\u001b[0m\u001b[0;34m,\u001b[0m \u001b[0my\u001b[0m\u001b[0;34m,\u001b[0m \u001b[0mz\u001b[0m\u001b[0;34m,\u001b[0m \u001b[0mw\u001b[0m\u001b[0;34m)\u001b[0m\u001b[0;34m)\u001b[0m\u001b[0;34m\u001b[0m\u001b[0;34m\u001b[0m\u001b[0m\n\u001b[0m",
            "\u001b[0;31mIndexError\u001b[0m: Replacement index 4 out of range for positional args tuple"
          ]
        }
      ]
    },
    {
      "cell_type": "code",
      "source": [
        "print(\"{}, {}, {}\".format(x, y, z, w))"
      ],
      "metadata": {
        "colab": {
          "base_uri": "https://localhost:8080/"
        },
        "id": "91qJkLcEyJiP",
        "outputId": "79fe9148-0f03-4b6e-bd30-eea3da3c31b9"
      },
      "execution_count": 92,
      "outputs": [
        {
          "output_type": "stream",
          "name": "stdout",
          "text": [
            "1, 1.23, True\n"
          ]
        }
      ]
    },
    {
      "cell_type": "code",
      "source": [
        "print(\"{0}, {1}, {2}, {1}\".format(x, y, z, w))"
      ],
      "metadata": {
        "colab": {
          "base_uri": "https://localhost:8080/"
        },
        "id": "Inj1lUZ8yCHQ",
        "outputId": "c8f6641d-181b-4f5d-d9a4-dfb15b700163"
      },
      "execution_count": 93,
      "outputs": [
        {
          "output_type": "stream",
          "name": "stdout",
          "text": [
            "1, 1.23, True, 1.23\n"
          ]
        }
      ]
    },
    {
      "cell_type": "code",
      "source": [
        "print(\"{a}, {b}, {c}, {d}\".format(a=x, b=y, c=z, d=w))"
      ],
      "metadata": {
        "colab": {
          "base_uri": "https://localhost:8080/"
        },
        "id": "2vBqxFW9yGzn",
        "outputId": "e8fac435-b612-426a-ffbf-13bda691ba66"
      },
      "execution_count": 94,
      "outputs": [
        {
          "output_type": "stream",
          "name": "stdout",
          "text": [
            "1, 1.23, True, dog\n"
          ]
        }
      ]
    },
    {
      "cell_type": "markdown",
      "source": [
        "###練習"
      ],
      "metadata": {
        "id": "UgRYIeAwAk3l"
      }
    },
    {
      "cell_type": "code",
      "source": [
        "u = 3.1415926"
      ],
      "metadata": {
        "id": "ZNe6DckSAkIW"
      },
      "execution_count": 95,
      "outputs": []
    },
    {
      "cell_type": "code",
      "source": [
        "print(f\"{u:07.2f}\")"
      ],
      "metadata": {
        "id": "g7LCZXtvyVgx",
        "colab": {
          "base_uri": "https://localhost:8080/"
        },
        "outputId": "f65ed4cf-4f7a-452c-a0c9-2aa6f4aaeb87"
      },
      "execution_count": 96,
      "outputs": [
        {
          "output_type": "stream",
          "name": "stdout",
          "text": [
            "0003.14\n"
          ]
        }
      ]
    },
    {
      "cell_type": "code",
      "source": [
        "print(f\"{u:07.5f}\")"
      ],
      "metadata": {
        "colab": {
          "base_uri": "https://localhost:8080/"
        },
        "id": "zkwMntiyA59O",
        "outputId": "e32d5999-5921-44fc-8e0d-734cf21d997d"
      },
      "execution_count": 97,
      "outputs": [
        {
          "output_type": "stream",
          "name": "stdout",
          "text": [
            "3.14159\n"
          ]
        }
      ]
    },
    {
      "cell_type": "code",
      "source": [
        "print(f\"{u:07.2}\")"
      ],
      "metadata": {
        "colab": {
          "base_uri": "https://localhost:8080/"
        },
        "id": "OfUvzvVOBFEP",
        "outputId": "a1926e22-9197-4f35-f398-99f97c6cf0fa"
      },
      "execution_count": 98,
      "outputs": [
        {
          "output_type": "stream",
          "name": "stdout",
          "text": [
            "00003.1\n"
          ]
        }
      ]
    },
    {
      "cell_type": "code",
      "source": [
        "print(f\"{u:07.5}\")"
      ],
      "metadata": {
        "colab": {
          "base_uri": "https://localhost:8080/"
        },
        "id": "dTS1iTksBHaE",
        "outputId": "bc4d31d5-80c8-40e1-e9b8-5865fb5740e6"
      },
      "execution_count": 99,
      "outputs": [
        {
          "output_type": "stream",
          "name": "stdout",
          "text": [
            "03.1416\n"
          ]
        }
      ]
    },
    {
      "cell_type": "markdown",
      "source": [
        "### 練習\n",
        "https://stackoverflow.com/questions/53908134/what-is-20-format-string-meaning-in-python"
      ],
      "metadata": {
        "id": "ZFDejRE-CHB0"
      }
    },
    {
      "cell_type": "code",
      "source": [
        "popularity = [[\"Language\", 2017, 2012, 2007, 2002, 1997, 1992, 1987], \n",
        "          [\"Java\", 1, 2, 1, 1, 15, 0, 0],\n",
        "          [\"C\", 2, 1, 2, 2, 1, 1, 1],\n",
        "          [\"C++\", 3, 3, 3, 3, 2, 2, 5],\n",
        "          [\"C#\", 4, 4, 7, 13, 0, 0, 0],\n",
        "          [\"Python\", 5, 7, 6, 11, 27, 0, 0],\n",
        "          [\"Visual Basic .NET\", 6, 17, 0, 0, 0, 0, 0],\n",
        "          [\"PHP\", 7, 6, 4, 5, 0, 0, 0],\n",
        "          [\"JavaScript\", 8, 9, 8, 7, 23, 0, 0],\n",
        "          [\"Perl\", 9, 8, 5, 4, 4, 10, 0]]\n",
        "\n",
        "format_string = \"{:<20}  {:>4}  {:>4}  {:>4}  {:>4}  {:>4}  {:>4}  {:>4}\""
      ],
      "metadata": {
        "id": "_ZVcO0CdCJD9"
      },
      "execution_count": 100,
      "outputs": []
    },
    {
      "cell_type": "code",
      "source": [
        "for i in popularity:\n",
        "  print(format_string.format(i[0], i[1], i[2], i[3], i[4], i[5], i[6], i[7]))"
      ],
      "metadata": {
        "colab": {
          "base_uri": "https://localhost:8080/"
        },
        "id": "4tJxnjPqDPav",
        "outputId": "e1fd0ebd-4456-4001-8337-a9754f144112"
      },
      "execution_count": 101,
      "outputs": [
        {
          "output_type": "stream",
          "name": "stdout",
          "text": [
            "Language              2017  2012  2007  2002  1997  1992  1987\n",
            "Java                     1     2     1     1    15     0     0\n",
            "C                        2     1     2     2     1     1     1\n",
            "C++                      3     3     3     3     2     2     5\n",
            "C#                       4     4     7    13     0     0     0\n",
            "Python                   5     7     6    11    27     0     0\n",
            "Visual Basic .NET        6    17     0     0     0     0     0\n",
            "PHP                      7     6     4     5     0     0     0\n",
            "JavaScript               8     9     8     7    23     0     0\n",
            "Perl                     9     8     5     4     4    10     0\n"
          ]
        }
      ]
    },
    {
      "cell_type": "code",
      "source": [
        "# 使用 * unpack list\n",
        "for i in popularity:\n",
        "  print(format_string.format(*i))"
      ],
      "metadata": {
        "colab": {
          "base_uri": "https://localhost:8080/"
        },
        "id": "xDLBFMWjCXFI",
        "outputId": "a9ec7ac2-aeaf-441a-8acd-823bec35b251"
      },
      "execution_count": 102,
      "outputs": [
        {
          "output_type": "stream",
          "name": "stdout",
          "text": [
            "Language              2017  2012  2007  2002  1997  1992  1987\n",
            "Java                     1     2     1     1    15     0     0\n",
            "C                        2     1     2     2     1     1     1\n",
            "C++                      3     3     3     3     2     2     5\n",
            "C#                       4     4     7    13     0     0     0\n",
            "Python                   5     7     6    11    27     0     0\n",
            "Visual Basic .NET        6    17     0     0     0     0     0\n",
            "PHP                      7     6     4     5     0     0     0\n",
            "JavaScript               8     9     8     7    23     0     0\n",
            "Perl                     9     8     5     4     4    10     0\n"
          ]
        }
      ]
    },
    {
      "cell_type": "code",
      "source": [
        "format_string = \"{:<20}{:>6}{:>6}{:>6}{:>6}{:>6}{:>6}{:>6}\"\n",
        "for i in popularity:\n",
        "  print(format_string.format(*i))"
      ],
      "metadata": {
        "colab": {
          "base_uri": "https://localhost:8080/"
        },
        "id": "ioAkhI1ZCtaB",
        "outputId": "f4e9fb6e-e70d-4723-c8b5-15581e2a0e23"
      },
      "execution_count": 103,
      "outputs": [
        {
          "output_type": "stream",
          "name": "stdout",
          "text": [
            "Language              2017  2012  2007  2002  1997  1992  1987\n",
            "Java                     1     2     1     1    15     0     0\n",
            "C                        2     1     2     2     1     1     1\n",
            "C++                      3     3     3     3     2     2     5\n",
            "C#                       4     4     7    13     0     0     0\n",
            "Python                   5     7     6    11    27     0     0\n",
            "Visual Basic .NET        6    17     0     0     0     0     0\n",
            "PHP                      7     6     4     5     0     0     0\n",
            "JavaScript               8     9     8     7    23     0     0\n",
            "Perl                     9     8     5     4     4    10     0\n"
          ]
        }
      ]
    },
    {
      "cell_type": "markdown",
      "source": [
        "## 使用 css selector 來剖析資料\n",
        "https://www.w3schools.com/cssref/css_selectors.php"
      ],
      "metadata": {
        "id": "UxvSwXdDEVjg"
      }
    },
    {
      "cell_type": "code",
      "source": [
        "import requests"
      ],
      "metadata": {
        "id": "h1QFxcUlH39H"
      },
      "execution_count": 104,
      "outputs": []
    },
    {
      "cell_type": "code",
      "source": [
        "url = \"https://victorgau.github.io/khpy_web_intro/\""
      ],
      "metadata": {
        "id": "rr6wWqF1EfIT"
      },
      "execution_count": 105,
      "outputs": []
    },
    {
      "cell_type": "code",
      "source": [
        "r = requests.get(url)"
      ],
      "metadata": {
        "id": "_PV_MVEYHIx1"
      },
      "execution_count": 106,
      "outputs": []
    },
    {
      "cell_type": "code",
      "source": [
        "soup = BeautifulSoup(r.text)"
      ],
      "metadata": {
        "id": "uSZxeFQUHN-A"
      },
      "execution_count": 108,
      "outputs": []
    },
    {
      "cell_type": "code",
      "source": [
        "soup.select(\"li\")"
      ],
      "metadata": {
        "colab": {
          "base_uri": "https://localhost:8080/"
        },
        "id": "4XTUfEqfIH7T",
        "outputId": "aacbb56e-14dd-460f-f588-b53d96cb870d"
      },
      "execution_count": 109,
      "outputs": [
        {
          "output_type": "execute_result",
          "data": {
            "text/plain": [
              "[<li class=\"list-group-item\"><i class=\"bi bi-globe\"></i> <a href=\"html_only.html\">HTML 範例</a></li>,\n",
              " <li class=\"list-group-item\"><i class=\"bi bi-globe\"></i> <a href=\"html_css.html\">HTML + CSS 範例</a></li>,\n",
              " <li class=\"list-group-item\"><i class=\"bi bi-globe\"></i> <a href=\"html_css_javascript.html\">HTML + CSS + Javascript 範例</a></li>,\n",
              " <li class=\"list-group-item\"><i class=\"bi bi-bug\"></i> <a href=\"example01.html\">example01.html (爬蟲抓取用範例)</a></li>,\n",
              " <li class=\"list-group-item\"><i class=\"bi bi-bug\"></i> <a href=\"example02.html\">example02.html (爬蟲抓取用範例)</a></li>,\n",
              " <li class=\"list-group-item\"><i class=\"bi bi-bug\"></i> <a href=\"example03.html\">example03.html (爬蟲抓取用範例)</a></li>,\n",
              " <li class=\"list-group-item\"><i class=\"bi bi-bug\"></i> <a href=\"example04.html\">example04.html (爬蟲抓取用範例)</a></li>,\n",
              " <li class=\"list-group-item\"><i class=\"bi bi-bug\"></i> <a href=\"example05.html\">example05.html (爬蟲抓取用範例)</a></li>,\n",
              " <li class=\"list-group-item\"><i class=\"bi bi-bug\"></i> <a href=\"spy.html\">Classic HTML 範例 (爬蟲抓取用範例)</a></li>,\n",
              " <li class=\"list-group-item\"><i class=\"bi bi-bug\"></i> <a href=\"spy_ajax.html\">Ajax 範例 (爬蟲抓取用範例)</a></li>,\n",
              " <li class=\"list-group-item\"><i class=\"bi bi-bug\"></i> <a href=\"form_get.html\">HTTP GET 方法說明</a></li>,\n",
              " <li class=\"list-group-item\"><i class=\"bi bi-bug\"></i> <a href=\"form_post.html\">HTTP POST 方法說明</a></li>]"
            ]
          },
          "metadata": {},
          "execution_count": 109
        }
      ]
    },
    {
      "cell_type": "markdown",
      "source": [
        "## 抓取露天拍賣資料\n",
        "\n",
        "https://www.ruten.com.tw/category/0011"
      ],
      "metadata": {
        "id": "cW8yM5dtI3_P"
      }
    },
    {
      "cell_type": "code",
      "source": [
        "url =\"https://www.ruten.com.tw/category/0011\""
      ],
      "metadata": {
        "id": "JBJyKw5zI1vy"
      },
      "execution_count": 111,
      "outputs": []
    },
    {
      "cell_type": "code",
      "source": [
        "#遇到反爬蟲,需要把自己改成瀏覽器\n",
        "headers = {'user-agent':'Mozilla/5.0 (Windows NT 10.0; Win64; x64) AppleWebKit/537.36 (KHTML, like Gecko) Chrome/110.0.0.0 Safari/537.36'}"
      ],
      "metadata": {
        "id": "vA00U5adI7aX"
      },
      "execution_count": 126,
      "outputs": []
    },
    {
      "cell_type": "code",
      "source": [
        "r = requests.get(url, headers=headers)"
      ],
      "metadata": {
        "id": "nXHlCvmTI7wc"
      },
      "execution_count": 115,
      "outputs": []
    },
    {
      "cell_type": "code",
      "source": [
        "'凸頭' in r.text"
      ],
      "metadata": {
        "colab": {
          "base_uri": "https://localhost:8080/"
        },
        "id": "_mvCYtcJI9dY",
        "outputId": "103dd10d-cd77-4826-e15c-5291c6b79fd1"
      },
      "execution_count": 116,
      "outputs": [
        {
          "output_type": "execute_result",
          "data": {
            "text/plain": [
              "False"
            ]
          },
          "metadata": {},
          "execution_count": 116
        }
      ]
    },
    {
      "cell_type": "code",
      "source": [
        "url = \"https://rapi.ruten.com.tw/api/items/v2/list?gno=21203073884581,21203073855084,22243606777400,22244608865692,22302937500980,22306987134735,22308073518043,22134699516389,22238403273488,21945822081428,22115680698839&level=detail\""
      ],
      "metadata": {
        "id": "vpqu_bCMK1rg"
      },
      "execution_count": 117,
      "outputs": []
    },
    {
      "cell_type": "code",
      "source": [
        "data = requests.get(url).json()"
      ],
      "metadata": {
        "colab": {
          "base_uri": "https://localhost:8080/",
          "height": 295
        },
        "id": "5IZpz1uFK4gq",
        "outputId": "b98094ab-8d53-4ccd-d5de-476f429446af"
      },
      "execution_count": 118,
      "outputs": [
        {
          "output_type": "error",
          "ename": "JSONDecodeError",
          "evalue": "ignored",
          "traceback": [
            "\u001b[0;31m---------------------------------------------------------------------------\u001b[0m",
            "\u001b[0;31mJSONDecodeError\u001b[0m                           Traceback (most recent call last)",
            "\u001b[0;32m<ipython-input-118-bad8c198f78e>\u001b[0m in \u001b[0;36m<module>\u001b[0;34m\u001b[0m\n\u001b[0;32m----> 1\u001b[0;31m \u001b[0mdata\u001b[0m \u001b[0;34m=\u001b[0m \u001b[0mrequests\u001b[0m\u001b[0;34m.\u001b[0m\u001b[0mget\u001b[0m\u001b[0;34m(\u001b[0m\u001b[0murl\u001b[0m\u001b[0;34m)\u001b[0m\u001b[0;34m.\u001b[0m\u001b[0mjson\u001b[0m\u001b[0;34m(\u001b[0m\u001b[0;34m)\u001b[0m\u001b[0;34m\u001b[0m\u001b[0;34m\u001b[0m\u001b[0m\n\u001b[0m",
            "\u001b[0;32m/usr/local/lib/python3.8/dist-packages/requests/models.py\u001b[0m in \u001b[0;36mjson\u001b[0;34m(self, **kwargs)\u001b[0m\n\u001b[1;32m    898\u001b[0m                     \u001b[0;31m# used.\u001b[0m\u001b[0;34m\u001b[0m\u001b[0;34m\u001b[0m\u001b[0;34m\u001b[0m\u001b[0m\n\u001b[1;32m    899\u001b[0m                     \u001b[0;32mpass\u001b[0m\u001b[0;34m\u001b[0m\u001b[0;34m\u001b[0m\u001b[0m\n\u001b[0;32m--> 900\u001b[0;31m         \u001b[0;32mreturn\u001b[0m \u001b[0mcomplexjson\u001b[0m\u001b[0;34m.\u001b[0m\u001b[0mloads\u001b[0m\u001b[0;34m(\u001b[0m\u001b[0mself\u001b[0m\u001b[0;34m.\u001b[0m\u001b[0mtext\u001b[0m\u001b[0;34m,\u001b[0m \u001b[0;34m**\u001b[0m\u001b[0mkwargs\u001b[0m\u001b[0;34m)\u001b[0m\u001b[0;34m\u001b[0m\u001b[0;34m\u001b[0m\u001b[0m\n\u001b[0m\u001b[1;32m    901\u001b[0m \u001b[0;34m\u001b[0m\u001b[0m\n\u001b[1;32m    902\u001b[0m     \u001b[0;34m@\u001b[0m\u001b[0mproperty\u001b[0m\u001b[0;34m\u001b[0m\u001b[0;34m\u001b[0m\u001b[0m\n",
            "\u001b[0;32m/usr/lib/python3.8/json/__init__.py\u001b[0m in \u001b[0;36mloads\u001b[0;34m(s, cls, object_hook, parse_float, parse_int, parse_constant, object_pairs_hook, **kw)\u001b[0m\n\u001b[1;32m    355\u001b[0m             \u001b[0mparse_int\u001b[0m \u001b[0;32mis\u001b[0m \u001b[0;32mNone\u001b[0m \u001b[0;32mand\u001b[0m \u001b[0mparse_float\u001b[0m \u001b[0;32mis\u001b[0m \u001b[0;32mNone\u001b[0m \u001b[0;32mand\u001b[0m\u001b[0;34m\u001b[0m\u001b[0;34m\u001b[0m\u001b[0m\n\u001b[1;32m    356\u001b[0m             parse_constant is None and object_pairs_hook is None and not kw):\n\u001b[0;32m--> 357\u001b[0;31m         \u001b[0;32mreturn\u001b[0m \u001b[0m_default_decoder\u001b[0m\u001b[0;34m.\u001b[0m\u001b[0mdecode\u001b[0m\u001b[0;34m(\u001b[0m\u001b[0ms\u001b[0m\u001b[0;34m)\u001b[0m\u001b[0;34m\u001b[0m\u001b[0;34m\u001b[0m\u001b[0m\n\u001b[0m\u001b[1;32m    358\u001b[0m     \u001b[0;32mif\u001b[0m \u001b[0mcls\u001b[0m \u001b[0;32mis\u001b[0m \u001b[0;32mNone\u001b[0m\u001b[0;34m:\u001b[0m\u001b[0;34m\u001b[0m\u001b[0;34m\u001b[0m\u001b[0m\n\u001b[1;32m    359\u001b[0m         \u001b[0mcls\u001b[0m \u001b[0;34m=\u001b[0m \u001b[0mJSONDecoder\u001b[0m\u001b[0;34m\u001b[0m\u001b[0;34m\u001b[0m\u001b[0m\n",
            "\u001b[0;32m/usr/lib/python3.8/json/decoder.py\u001b[0m in \u001b[0;36mdecode\u001b[0;34m(self, s, _w)\u001b[0m\n\u001b[1;32m    335\u001b[0m \u001b[0;34m\u001b[0m\u001b[0m\n\u001b[1;32m    336\u001b[0m         \"\"\"\n\u001b[0;32m--> 337\u001b[0;31m         \u001b[0mobj\u001b[0m\u001b[0;34m,\u001b[0m \u001b[0mend\u001b[0m \u001b[0;34m=\u001b[0m \u001b[0mself\u001b[0m\u001b[0;34m.\u001b[0m\u001b[0mraw_decode\u001b[0m\u001b[0;34m(\u001b[0m\u001b[0ms\u001b[0m\u001b[0;34m,\u001b[0m \u001b[0midx\u001b[0m\u001b[0;34m=\u001b[0m\u001b[0m_w\u001b[0m\u001b[0;34m(\u001b[0m\u001b[0ms\u001b[0m\u001b[0;34m,\u001b[0m \u001b[0;36m0\u001b[0m\u001b[0;34m)\u001b[0m\u001b[0;34m.\u001b[0m\u001b[0mend\u001b[0m\u001b[0;34m(\u001b[0m\u001b[0;34m)\u001b[0m\u001b[0;34m)\u001b[0m\u001b[0;34m\u001b[0m\u001b[0;34m\u001b[0m\u001b[0m\n\u001b[0m\u001b[1;32m    338\u001b[0m         \u001b[0mend\u001b[0m \u001b[0;34m=\u001b[0m \u001b[0m_w\u001b[0m\u001b[0;34m(\u001b[0m\u001b[0ms\u001b[0m\u001b[0;34m,\u001b[0m \u001b[0mend\u001b[0m\u001b[0;34m)\u001b[0m\u001b[0;34m.\u001b[0m\u001b[0mend\u001b[0m\u001b[0;34m(\u001b[0m\u001b[0;34m)\u001b[0m\u001b[0;34m\u001b[0m\u001b[0;34m\u001b[0m\u001b[0m\n\u001b[1;32m    339\u001b[0m         \u001b[0;32mif\u001b[0m \u001b[0mend\u001b[0m \u001b[0;34m!=\u001b[0m \u001b[0mlen\u001b[0m\u001b[0;34m(\u001b[0m\u001b[0ms\u001b[0m\u001b[0;34m)\u001b[0m\u001b[0;34m:\u001b[0m\u001b[0;34m\u001b[0m\u001b[0;34m\u001b[0m\u001b[0m\n",
            "\u001b[0;32m/usr/lib/python3.8/json/decoder.py\u001b[0m in \u001b[0;36mraw_decode\u001b[0;34m(self, s, idx)\u001b[0m\n\u001b[1;32m    353\u001b[0m             \u001b[0mobj\u001b[0m\u001b[0;34m,\u001b[0m \u001b[0mend\u001b[0m \u001b[0;34m=\u001b[0m \u001b[0mself\u001b[0m\u001b[0;34m.\u001b[0m\u001b[0mscan_once\u001b[0m\u001b[0;34m(\u001b[0m\u001b[0ms\u001b[0m\u001b[0;34m,\u001b[0m \u001b[0midx\u001b[0m\u001b[0;34m)\u001b[0m\u001b[0;34m\u001b[0m\u001b[0;34m\u001b[0m\u001b[0m\n\u001b[1;32m    354\u001b[0m         \u001b[0;32mexcept\u001b[0m \u001b[0mStopIteration\u001b[0m \u001b[0;32mas\u001b[0m \u001b[0merr\u001b[0m\u001b[0;34m:\u001b[0m\u001b[0;34m\u001b[0m\u001b[0;34m\u001b[0m\u001b[0m\n\u001b[0;32m--> 355\u001b[0;31m             \u001b[0;32mraise\u001b[0m \u001b[0mJSONDecodeError\u001b[0m\u001b[0;34m(\u001b[0m\u001b[0;34m\"Expecting value\"\u001b[0m\u001b[0;34m,\u001b[0m \u001b[0ms\u001b[0m\u001b[0;34m,\u001b[0m \u001b[0merr\u001b[0m\u001b[0;34m.\u001b[0m\u001b[0mvalue\u001b[0m\u001b[0;34m)\u001b[0m \u001b[0;32mfrom\u001b[0m \u001b[0;32mNone\u001b[0m\u001b[0;34m\u001b[0m\u001b[0;34m\u001b[0m\u001b[0m\n\u001b[0m\u001b[1;32m    356\u001b[0m         \u001b[0;32mreturn\u001b[0m \u001b[0mobj\u001b[0m\u001b[0;34m,\u001b[0m \u001b[0mend\u001b[0m\u001b[0;34m\u001b[0m\u001b[0;34m\u001b[0m\u001b[0m\n",
            "\u001b[0;31mJSONDecodeError\u001b[0m: Expecting value: line 1 column 1 (char 0)"
          ]
        }
      ]
    },
    {
      "cell_type": "code",
      "source": [
        "#因為網站有設反爬蟲機制，所以要增加headers=headers,告訴伺服器你是瀏覽器要求存取而不是爬蟲\n",
        "data = requests.get(url, headers=headers).json()"
      ],
      "metadata": {
        "id": "bbEl3O3lK5ib"
      },
      "execution_count": 119,
      "outputs": []
    },
    {
      "cell_type": "code",
      "source": [
        "type(data)"
      ],
      "metadata": {
        "colab": {
          "base_uri": "https://localhost:8080/"
        },
        "id": "2BvBPlv9LaCV",
        "outputId": "8ffe164a-034c-4994-e8c5-7acc08603004"
      },
      "execution_count": 120,
      "outputs": [
        {
          "output_type": "execute_result",
          "data": {
            "text/plain": [
              "dict"
            ]
          },
          "metadata": {},
          "execution_count": 120
        }
      ]
    },
    {
      "cell_type": "code",
      "source": [
        "data.keys()"
      ],
      "metadata": {
        "colab": {
          "base_uri": "https://localhost:8080/"
        },
        "id": "rfIrzZhOLcCx",
        "outputId": "ec73f979-e4fa-40fb-8446-c9849d22f756"
      },
      "execution_count": 121,
      "outputs": [
        {
          "output_type": "execute_result",
          "data": {
            "text/plain": [
              "dict_keys(['status', 'data'])"
            ]
          },
          "metadata": {},
          "execution_count": 121
        }
      ]
    },
    {
      "cell_type": "code",
      "source": [
        "type(data['data'])"
      ],
      "metadata": {
        "colab": {
          "base_uri": "https://localhost:8080/"
        },
        "id": "rAatqXQcLcXX",
        "outputId": "ad9cac28-69cd-41db-cd76-7d53ad6c9d9c"
      },
      "execution_count": 122,
      "outputs": [
        {
          "output_type": "execute_result",
          "data": {
            "text/plain": [
              "list"
            ]
          },
          "metadata": {},
          "execution_count": 122
        }
      ]
    },
    {
      "cell_type": "code",
      "source": [
        "data['data'][0].keys()"
      ],
      "metadata": {
        "colab": {
          "base_uri": "https://localhost:8080/"
        },
        "id": "H0Qo22eiLd-U",
        "outputId": "42821471-4839-422c-adc9-ed4cd925f4fe"
      },
      "execution_count": 123,
      "outputs": [
        {
          "output_type": "execute_result",
          "data": {
            "text/plain": [
              "dict_keys(['id', 'class', 'name', 'num', 'images', 'currency', 'goods_price', 'goods_ori_price', 'goods_price_range', 'watch_num', 'sold_num', 'buyer_limit_num', 'stock_status', 'pre_order_ship_date', 'fast_ship', 'free_shipping', 'youtube_link', 'video_link', 'ncc_check_code', 'bsmi_code', 'goods_no', 'available', 'post_time', 'spec_type', 'deliver_way', 'mode', 'ship', 'platform', 'ctrl_rowid', 'user', 'user_credit', 'pay_way', 'title_style', 'selling_g_now_price', 'item_remaining_time', 'translation_type', 'translated_name', 'min_estimated_delivery_date', 'max_estimated_delivery_date', 'update_time', 'is_brand_seller', 'is_goods_from_oversea', 'location', 'condition', 'codition', 'accept_shiprule', 'user_class', 'close_no', 'description_url', 'spec_info', 'text2'])"
            ]
          },
          "metadata": {},
          "execution_count": 123
        }
      ]
    },
    {
      "cell_type": "code",
      "source": [
        "len(data['data'])"
      ],
      "metadata": {
        "colab": {
          "base_uri": "https://localhost:8080/"
        },
        "id": "9bkI9GIwLfl5",
        "outputId": "13600e84-1453-4e1e-c086-635552c7edb7"
      },
      "execution_count": 124,
      "outputs": [
        {
          "output_type": "execute_result",
          "data": {
            "text/plain": [
              "11"
            ]
          },
          "metadata": {},
          "execution_count": 124
        }
      ]
    },
    {
      "cell_type": "code",
      "source": [
        "for i in data['data']:\n",
        "  print(f\"{i['name']} ==> {i['goods_price']}\")"
      ],
      "metadata": {
        "colab": {
          "base_uri": "https://localhost:8080/"
        },
        "id": "VbRMVnJULlKc",
        "outputId": "6569d06d-3516-4f8b-d61c-f78ee5548054"
      },
      "execution_count": 125,
      "outputs": [
        {
          "output_type": "stream",
          "name": "stdout",
          "text": [
            "凸頭 18650電池 可開發票 尖頭 鋰電池 充電電池 3000mAh 3.7v 高容量 手電筒 電風扇 Li-ion ==> 8\n",
            "18650充電電池 高容量 4000mAh 電池 鋰電池 充電電池 3.7V Li-ion 尖頭 凸頭 充電器 USB ==> 39\n",
            "三菱電機HC-BH023-S12   99新 ==> 39000\n",
            "【秀秀】三菱PLC模塊 QJ72LP25-25 全新 ==> 33000\n",
            "(辦公首選華碩I7商務桌機 獨家送微軟OFFICE)I7-11700時脈4.9G/16核心/16G/256G+1TB電腦 ==> 25900\n",
            "WD西部數據NAS硬盤12T服務器硬盤12t網絡硬盤紅盤Pro WD121KFBX ==> 50760\n",
            "全新零刻 SEi8 i5-8279U 酷睿i5辦公電腦微型主機 Intel 辦公電腦 迷你電腦 小電腦 微電腦 ==> 23692\n",
            "【樂意創客官方店】《附發票》AI機械手臂 樹莓派 4B Raspberry 視覺識別 ArmPi-FPV (豪華版本) ==> 22800\n",
            "KINGHOPE KH-82膽機組合音響發燒hifi藍牙書架音箱功放CD/DVD套裝 ==> 38280\n",
            "【24H出貨】(公司貨) iMICE X7 電競滑鼠 2400DPI 呼吸燈 電腦滑鼠 光學滑鼠 有線滑鼠 競技滑鼠 ==> 155\n",
            "Renova Zero Pod 煙彈 空煙彈 空倉 空夾 空彈 ==> 199\n"
          ]
        }
      ]
    },
    {
      "cell_type": "markdown",
      "source": [
        "## 抓取政府電子採購網資料\n",
        "https://web.pcc.gov.tw/prkms/tender/common/basic/readTenderBasic?tenderEndDate=2023%2F03%2F04&orgName=&tenderName=&searchType=basic&d-49738-p=2&firstSearch=false&radProctrgCate=RAD_PROCTRG_CATE_1&tenderId=&orgId=&tenderStartDate=2023%2F02%2F26&tenderType=TENDER_DECLARATION&dateType=isSpdt&tenderWay=TENDER_WAY_ALL_DECLARATION"
      ],
      "metadata": {
        "id": "3NxLANsMN1vj"
      }
    },
    {
      "cell_type": "code",
      "source": [
        "url = \"https://web.pcc.gov.tw/prkms/tender/common/basic/readTenderBasic?tenderEndDate=2023%2F03%2F04&orgName=&tenderName=&searchType=basic&d-49738-p=2&firstSearch=false&radProctrgCate=RAD_PROCTRG_CATE_1&tenderId=&orgId=&tenderStartDate=2023%2F02%2F26&tenderType=TENDER_DECLARATION&dateType=isSpdt&tenderWay=TENDER_WAY_ALL_DECLARATION\""
      ],
      "metadata": {
        "id": "yEQASl_PL0Ro"
      },
      "execution_count": 127,
      "outputs": []
    },
    {
      "cell_type": "code",
      "source": [
        "dfs = pd.read_html(url, encoding='utf-8')"
      ],
      "metadata": {
        "id": "fF3-qOWnOMUk"
      },
      "execution_count": 128,
      "outputs": []
    },
    {
      "cell_type": "code",
      "source": [
        "dfs[4]"
      ],
      "metadata": {
        "colab": {
          "base_uri": "https://localhost:8080/",
          "height": 1000
        },
        "id": "nHBDrKovOjmA",
        "outputId": "fb914854-12ad-4f12-ff1d-a1d7173d6f40"
      },
      "execution_count": 129,
      "outputs": [
        {
          "output_type": "execute_result",
          "data": {
            "text/plain": [
              "     項次                   機關名稱  \\\n",
              "0    51                  苗栗縣政府   \n",
              "1    52               苗栗縣通霄鎮公所   \n",
              "2    53               苗栗縣通霄鎮公所   \n",
              "3    54           苗栗縣苑裡鎮中正國民小學   \n",
              "4    55               臺南市白河區公所   \n",
              "5    56        交通部公路總局第五區養護工程處   \n",
              "6    57               雲林縣斗六市公所   \n",
              "7    58                 花蓮縣衛生局   \n",
              "8    59               臺中市養護工程處   \n",
              "9    60               臺南市政府工務局   \n",
              "10   61               臺中市和平區公所   \n",
              "11   62             臺中市中興地政事務所   \n",
              "12   63            新北市立淡水古蹟博物館   \n",
              "13   64           臺中市神岡區神岡國民小學   \n",
              "14   65                 彰化縣文化局   \n",
              "15   66          新北市政府高灘地工程管理處   \n",
              "16   67          高雄市政府工務局新建工程處   \n",
              "17   68                 國立成功大學   \n",
              "18   69               臺中市養護工程處   \n",
              "19   70                  苗栗縣政府   \n",
              "20   71                  連江縣政府   \n",
              "21   72      臺灣港務股份有限公司高雄港務分公司   \n",
              "22   73               臺中市養護工程處   \n",
              "23   74                 經濟部工業局   \n",
              "24   75      行政院農業委員會水土保持局南投分局   \n",
              "25   76      行政院農業委員會水土保持局南投分局   \n",
              "26   77  交通部觀光局北海岸及觀音山國家風景區管理處   \n",
              "27   78      行政院農業委員會水土保持局南投分局   \n",
              "28   79     台灣電力股份有限公司新桃供電區營運處   \n",
              "29   80                 內政部營建署   \n",
              "30   81      行政院農業委員會水土保持局南投分局   \n",
              "31   82               嘉義縣番路鄉公所   \n",
              "32   83               臺南市龍崎區公所   \n",
              "33   84      行政院農業委員會水土保持局南投分局   \n",
              "34   85      行政院農業委員會水土保持局南投分局   \n",
              "35   86         臺北市政府警察局交通警察大隊   \n",
              "36   87            經濟部水利署第一河川局   \n",
              "37   88      行政院農業委員會水土保持局南投分局   \n",
              "38   89                  基隆市政府   \n",
              "39   90               臺南市永康區公所   \n",
              "40   91               臺南市政府水利局   \n",
              "41   92               嘉義縣番路鄉公所   \n",
              "42   93               臺南市政府工務局   \n",
              "43   94               國防部海軍司令部   \n",
              "44   95               嘉義縣番路鄉公所   \n",
              "45   96                  臺東縣政府   \n",
              "46   97               彰化縣大村鄉公所   \n",
              "47   98                  基隆市政府   \n",
              "48   99                 彰化縣文化局   \n",
              "49  100                  南投縣政府   \n",
              "\n",
              "                                             標案案號標案名稱  傳輸次數         招標方式 採購性質  \\\n",
              "0   112033d  var hw = Geps3.CNS.pageCode2Img(\"西湖鄉湖...     1  公開取得報價單或企劃書  工程類   \n",
              "1   NU11202A  var hw = Geps3.CNS.pageCode2Img(\"苗栗縣...     3         公開招標  工程類   \n",
              "2   112AG017  var hw = Geps3.CNS.pageCode2Img(\"4月豪...     1         公開招標  工程類   \n",
              "3   JJES1120310  var hw = Geps3.CNS.pageCode2Img(\"...     1  公開取得報價單或企劃書  工程類   \n",
              "4   112014  var hw = Geps3.CNS.pageCode2Img(\"白河區崎內...     1  公開取得報價單或企劃書  工程類   \n",
              "5   112010008  var hw = Geps3.CNS.pageCode2Img(\"11...     1         公開招標  工程類   \n",
              "6   1120316  var hw = Geps3.CNS.pageCode2Img(\" 斗六市...     1         公開招標  工程類   \n",
              "7   HA112030201  var hw = Geps3.CNS.pageCode2Img(\"...     1         公開招標  工程類   \n",
              "8   112A-033  var hw = Geps3.CNS.pageCode2Img(\"112...     1         公開招標  工程類   \n",
              "9   11110503  var hw = Geps3.CNS.pageCode2Img(\"陸軍砲...     4         公開招標  工程類   \n",
              "10  111A60  var hw = Geps3.CNS.pageCode2Img(\"臺中市和平...     3         公開招標  工程類   \n",
              "11  ZX11201  var hw = Geps3.CNS.pageCode2Img(\"污水接管...     1  公開取得報價單或企劃書  工程類   \n",
              "12  11204  var hw = Geps3.CNS.pageCode2Img(\"國定古蹟『前...     2         公開招標  工程類   \n",
              "13  112101  var hw = Geps3.CNS.pageCode2Img(\"午餐廚房新...     3         公開招標  工程類   \n",
              "14  CHCAB112-057  var hw = Geps3.CNS.pageCode2Img(...     1         公開招標  工程類   \n",
              "15  1120314A  var hw = Geps3.CNS.pageCode2Img(\"112...     1         公開招標  工程類   \n",
              "16  1121007A  var hw = Geps3.CNS.pageCode2Img(\"林園王...     1         公開招標  工程類   \n",
              "17  D002-23-10  var hw = Geps3.CNS.pageCode2Img(\"自...     1  公開取得報價單或企劃書  工程類   \n",
              "18  112A-032  var hw = Geps3.CNS.pageCode2Img(\"臺中市...     1         公開招標  工程類   \n",
              "19  112032d  var hw = Geps3.CNS.pageCode2Img(\"頭屋鄉飛...     1  公開取得報價單或企劃書  工程類   \n",
              "20  112A004  var hw = Geps3.CNS.pageCode2Img(\"112年...     2         公開招標  工程類   \n",
              "21  112-AE-003  var hw = Geps3.CNS.pageCode2Img(\"安...     1         公開招標  工程類   \n",
              "22  112A-031  var hw = Geps3.CNS.pageCode2Img(\"臺中市...     1         公開招標  工程類   \n",
              "23  11207031200  var hw = Geps3.CNS.pageCode2Img(\"...     2         公開招標  工程類   \n",
              "24  112-FRAP-01-3-022  var hw = Geps3.CNS.pageCode...     1         公開招標  工程類   \n",
              "25  112-FRAP-01-3-20  var hw = Geps3.CNS.pageCode2...     2         公開招標  工程類   \n",
              "26  112018  var hw = Geps3.CNS.pageCode2Img(\"白沙灣遊客...     2         公開招標  工程類   \n",
              "27  112-FRAP-01-3-053  var hw = Geps3.CNS.pageCode...     2         公開招標  工程類   \n",
              "28  4751273001  var hw = Geps3.CNS.pageCode2Img(\"(...     2         公開招標  工程類   \n",
              "29  108-C304-01-01-0201-0010  var hw = Geps3.CNS.p...     5         公開招標  工程類   \n",
              "30  112-FRAP-01-3-048  var hw = Geps3.CNS.pageCode...     2         公開招標  工程類   \n",
              "31  112020  var hw = Geps3.CNS.pageCode2Img(\"111年9...     1  公開取得報價單或企劃書  工程類   \n",
              "32  112008  var hw = Geps3.CNS.pageCode2Img(\"龍崎區11...     2         公開招標  工程類   \n",
              "33  112-FRAP-01-3-045  var hw = Geps3.CNS.pageCode...     2         公開招標  工程類   \n",
              "34  112-FRAP-01-3-036  var hw = Geps3.CNS.pageCode...     2         公開招標  工程類   \n",
              "35  112033  var hw = Geps3.CNS.pageCode2Img(\"萬華分隊駐...     1  公開取得報價單或企劃書  工程類   \n",
              "36  112-I-01020-021-000  var hw = Geps3.CNS.pageCo...     1         公開招標  工程類   \n",
              "37  112-FRAP-01-3-023  var hw = Geps3.CNS.pageCode...     2         公開招標  工程類   \n",
              "38  112A008  var hw = Geps3.CNS.pageCode2Img(\"銘傳國中...     1         公開招標  工程類   \n",
              "39  11201015  var hw = Geps3.CNS.pageCode2Img(\"112...     2         公開招標  工程類   \n",
              "40  wat112037  var hw = Geps3.CNS.pageCode2Img(\"海尾...     3         公開招標  工程類   \n",
              "41  112019  var hw = Geps3.CNS.pageCode2Img(\"111年9...     1         公開招標  工程類   \n",
              "42  111109052  var hw = Geps3.CNS.pageCode2Img(\"六塊...     1         公開招標  工程類   \n",
              "43  112-5160006117740320  var hw = Geps3.CNS.pageC...     3         公開招標  工程類   \n",
              "44  112018  var hw = Geps3.CNS.pageCode2Img(\"111年9...     1         公開招標  工程類   \n",
              "45  112200910055  var hw = Geps3.CNS.pageCode2Img(...     2  公開取得報價單或企劃書  工程類   \n",
              "46  111-9576  var hw = Geps3.CNS.pageCode2Img(\"大村鄉...     9         公開招標  工程類   \n",
              "47  112A009  var hw = Geps3.CNS.pageCode2Img(\"111年...     1         公開招標  工程類   \n",
              "48  CHCAB112-066  var hw = Geps3.CNS.pageCode2Img(...     1         公開招標  工程類   \n",
              "49  1120501001A  var hw = Geps3.CNS.pageCode2Img(\"...     1         公開招標  工程類   \n",
              "\n",
              "         公告日期       截止投標       預算金額 功能選項  \n",
              "0   112/03/03  112/03/08     621500   檢視  \n",
              "1   112/03/03  112/03/13   29997102   檢視  \n",
              "2   112/03/03  112/03/13    2920200   檢視  \n",
              "3   112/03/03  112/03/09     307000   檢視  \n",
              "4   112/03/03  112/03/13     609293   檢視  \n",
              "5   112/03/03  112/03/21   13101411   檢視  \n",
              "6   112/03/03  112/03/16   18187539   檢視  \n",
              "7   112/03/03  112/03/15    2067270   檢視  \n",
              "8   112/03/03  112/03/14    4280000   檢視  \n",
              "9   112/03/03  112/04/11  313931743   檢視  \n",
              "10  112/03/03  112/03/14   28085166   檢視  \n",
              "11  112/03/03  112/03/07     341116   檢視  \n",
              "12  112/03/03  112/03/08    7290000   檢視  \n",
              "13  112/03/03  112/03/09   34325966   檢視  \n",
              "14  112/03/03  112/03/16    4032739   檢視  \n",
              "15  112/03/03  112/03/13   15000000   檢視  \n",
              "16  112/03/03  112/03/13   11745000   檢視  \n",
              "17  112/03/03  112/03/08     775783   檢視  \n",
              "18  112/03/03  112/03/15     880783   檢視  \n",
              "19  112/03/03  112/03/08     443000   檢視  \n",
              "20  112/03/03  112/03/16    1906905   檢視  \n",
              "21  112/03/03  112/03/15    4782123   檢視  \n",
              "22  112/03/03  112/03/14     880783   檢視  \n",
              "23  112/03/03  112/03/07    2273277   檢視  \n",
              "24  112/03/03  112/03/16    4260969   檢視  \n",
              "25  112/03/03  112/03/09    2661000   檢視  \n",
              "26  112/03/03  112/03/08    4200000   檢視  \n",
              "27  112/03/03  112/03/09    2526000   檢視  \n",
              "28  112/03/03  112/03/07   48500000   檢視  \n",
              "29  112/03/03  112/03/09  120763717   檢視  \n",
              "30  112/03/03  112/03/09    2674901   檢視  \n",
              "31  112/03/03  112/03/13    1163000   檢視  \n",
              "32  112/03/03  112/03/09    6374205   檢視  \n",
              "33  112/03/03  112/03/09    3393000   檢視  \n",
              "34  112/03/03  112/03/09    4420480   檢視  \n",
              "35  112/03/03  112/03/08     897093   檢視  \n",
              "36  112/03/03  112/03/15   48378400   檢視  \n",
              "37  112/03/03  112/03/09    4354000   檢視  \n",
              "38  112/03/03  112/03/14    1549380   檢視  \n",
              "39  112/03/03  112/03/16     924000   檢視  \n",
              "40  112/03/03  112/03/09   26511915   檢視  \n",
              "41  112/03/03  112/03/13    2773000   檢視  \n",
              "42  112/03/03  112/04/11  213576258   檢視  \n",
              "43  112/03/03  112/03/13    4257000   檢視  \n",
              "44  112/03/03  112/03/13    1779000   檢視  \n",
              "45  112/03/03  112/03/07     499528   檢視  \n",
              "46  112/03/03  112/03/14   46798557   檢視  \n",
              "47  112/03/03  112/03/14    1998236   檢視  \n",
              "48  112/03/03  112/03/16    7012962   檢視  \n",
              "49  112/03/03  112/03/15    7180000   檢視  "
            ],
            "text/html": [
              "\n",
              "  <div id=\"df-163fbaa0-dfd5-47b5-bdf5-84abba218983\">\n",
              "    <div class=\"colab-df-container\">\n",
              "      <div>\n",
              "<style scoped>\n",
              "    .dataframe tbody tr th:only-of-type {\n",
              "        vertical-align: middle;\n",
              "    }\n",
              "\n",
              "    .dataframe tbody tr th {\n",
              "        vertical-align: top;\n",
              "    }\n",
              "\n",
              "    .dataframe thead th {\n",
              "        text-align: right;\n",
              "    }\n",
              "</style>\n",
              "<table border=\"1\" class=\"dataframe\">\n",
              "  <thead>\n",
              "    <tr style=\"text-align: right;\">\n",
              "      <th></th>\n",
              "      <th>項次</th>\n",
              "      <th>機關名稱</th>\n",
              "      <th>標案案號標案名稱</th>\n",
              "      <th>傳輸次數</th>\n",
              "      <th>招標方式</th>\n",
              "      <th>採購性質</th>\n",
              "      <th>公告日期</th>\n",
              "      <th>截止投標</th>\n",
              "      <th>預算金額</th>\n",
              "      <th>功能選項</th>\n",
              "    </tr>\n",
              "  </thead>\n",
              "  <tbody>\n",
              "    <tr>\n",
              "      <th>0</th>\n",
              "      <td>51</td>\n",
              "      <td>苗栗縣政府</td>\n",
              "      <td>112033d  var hw = Geps3.CNS.pageCode2Img(\"西湖鄉湖...</td>\n",
              "      <td>1</td>\n",
              "      <td>公開取得報價單或企劃書</td>\n",
              "      <td>工程類</td>\n",
              "      <td>112/03/03</td>\n",
              "      <td>112/03/08</td>\n",
              "      <td>621500</td>\n",
              "      <td>檢視</td>\n",
              "    </tr>\n",
              "    <tr>\n",
              "      <th>1</th>\n",
              "      <td>52</td>\n",
              "      <td>苗栗縣通霄鎮公所</td>\n",
              "      <td>NU11202A  var hw = Geps3.CNS.pageCode2Img(\"苗栗縣...</td>\n",
              "      <td>3</td>\n",
              "      <td>公開招標</td>\n",
              "      <td>工程類</td>\n",
              "      <td>112/03/03</td>\n",
              "      <td>112/03/13</td>\n",
              "      <td>29997102</td>\n",
              "      <td>檢視</td>\n",
              "    </tr>\n",
              "    <tr>\n",
              "      <th>2</th>\n",
              "      <td>53</td>\n",
              "      <td>苗栗縣通霄鎮公所</td>\n",
              "      <td>112AG017  var hw = Geps3.CNS.pageCode2Img(\"4月豪...</td>\n",
              "      <td>1</td>\n",
              "      <td>公開招標</td>\n",
              "      <td>工程類</td>\n",
              "      <td>112/03/03</td>\n",
              "      <td>112/03/13</td>\n",
              "      <td>2920200</td>\n",
              "      <td>檢視</td>\n",
              "    </tr>\n",
              "    <tr>\n",
              "      <th>3</th>\n",
              "      <td>54</td>\n",
              "      <td>苗栗縣苑裡鎮中正國民小學</td>\n",
              "      <td>JJES1120310  var hw = Geps3.CNS.pageCode2Img(\"...</td>\n",
              "      <td>1</td>\n",
              "      <td>公開取得報價單或企劃書</td>\n",
              "      <td>工程類</td>\n",
              "      <td>112/03/03</td>\n",
              "      <td>112/03/09</td>\n",
              "      <td>307000</td>\n",
              "      <td>檢視</td>\n",
              "    </tr>\n",
              "    <tr>\n",
              "      <th>4</th>\n",
              "      <td>55</td>\n",
              "      <td>臺南市白河區公所</td>\n",
              "      <td>112014  var hw = Geps3.CNS.pageCode2Img(\"白河區崎內...</td>\n",
              "      <td>1</td>\n",
              "      <td>公開取得報價單或企劃書</td>\n",
              "      <td>工程類</td>\n",
              "      <td>112/03/03</td>\n",
              "      <td>112/03/13</td>\n",
              "      <td>609293</td>\n",
              "      <td>檢視</td>\n",
              "    </tr>\n",
              "    <tr>\n",
              "      <th>5</th>\n",
              "      <td>56</td>\n",
              "      <td>交通部公路總局第五區養護工程處</td>\n",
              "      <td>112010008  var hw = Geps3.CNS.pageCode2Img(\"11...</td>\n",
              "      <td>1</td>\n",
              "      <td>公開招標</td>\n",
              "      <td>工程類</td>\n",
              "      <td>112/03/03</td>\n",
              "      <td>112/03/21</td>\n",
              "      <td>13101411</td>\n",
              "      <td>檢視</td>\n",
              "    </tr>\n",
              "    <tr>\n",
              "      <th>6</th>\n",
              "      <td>57</td>\n",
              "      <td>雲林縣斗六市公所</td>\n",
              "      <td>1120316  var hw = Geps3.CNS.pageCode2Img(\" 斗六市...</td>\n",
              "      <td>1</td>\n",
              "      <td>公開招標</td>\n",
              "      <td>工程類</td>\n",
              "      <td>112/03/03</td>\n",
              "      <td>112/03/16</td>\n",
              "      <td>18187539</td>\n",
              "      <td>檢視</td>\n",
              "    </tr>\n",
              "    <tr>\n",
              "      <th>7</th>\n",
              "      <td>58</td>\n",
              "      <td>花蓮縣衛生局</td>\n",
              "      <td>HA112030201  var hw = Geps3.CNS.pageCode2Img(\"...</td>\n",
              "      <td>1</td>\n",
              "      <td>公開招標</td>\n",
              "      <td>工程類</td>\n",
              "      <td>112/03/03</td>\n",
              "      <td>112/03/15</td>\n",
              "      <td>2067270</td>\n",
              "      <td>檢視</td>\n",
              "    </tr>\n",
              "    <tr>\n",
              "      <th>8</th>\n",
              "      <td>59</td>\n",
              "      <td>臺中市養護工程處</td>\n",
              "      <td>112A-033  var hw = Geps3.CNS.pageCode2Img(\"112...</td>\n",
              "      <td>1</td>\n",
              "      <td>公開招標</td>\n",
              "      <td>工程類</td>\n",
              "      <td>112/03/03</td>\n",
              "      <td>112/03/14</td>\n",
              "      <td>4280000</td>\n",
              "      <td>檢視</td>\n",
              "    </tr>\n",
              "    <tr>\n",
              "      <th>9</th>\n",
              "      <td>60</td>\n",
              "      <td>臺南市政府工務局</td>\n",
              "      <td>11110503  var hw = Geps3.CNS.pageCode2Img(\"陸軍砲...</td>\n",
              "      <td>4</td>\n",
              "      <td>公開招標</td>\n",
              "      <td>工程類</td>\n",
              "      <td>112/03/03</td>\n",
              "      <td>112/04/11</td>\n",
              "      <td>313931743</td>\n",
              "      <td>檢視</td>\n",
              "    </tr>\n",
              "    <tr>\n",
              "      <th>10</th>\n",
              "      <td>61</td>\n",
              "      <td>臺中市和平區公所</td>\n",
              "      <td>111A60  var hw = Geps3.CNS.pageCode2Img(\"臺中市和平...</td>\n",
              "      <td>3</td>\n",
              "      <td>公開招標</td>\n",
              "      <td>工程類</td>\n",
              "      <td>112/03/03</td>\n",
              "      <td>112/03/14</td>\n",
              "      <td>28085166</td>\n",
              "      <td>檢視</td>\n",
              "    </tr>\n",
              "    <tr>\n",
              "      <th>11</th>\n",
              "      <td>62</td>\n",
              "      <td>臺中市中興地政事務所</td>\n",
              "      <td>ZX11201  var hw = Geps3.CNS.pageCode2Img(\"污水接管...</td>\n",
              "      <td>1</td>\n",
              "      <td>公開取得報價單或企劃書</td>\n",
              "      <td>工程類</td>\n",
              "      <td>112/03/03</td>\n",
              "      <td>112/03/07</td>\n",
              "      <td>341116</td>\n",
              "      <td>檢視</td>\n",
              "    </tr>\n",
              "    <tr>\n",
              "      <th>12</th>\n",
              "      <td>63</td>\n",
              "      <td>新北市立淡水古蹟博物館</td>\n",
              "      <td>11204  var hw = Geps3.CNS.pageCode2Img(\"國定古蹟『前...</td>\n",
              "      <td>2</td>\n",
              "      <td>公開招標</td>\n",
              "      <td>工程類</td>\n",
              "      <td>112/03/03</td>\n",
              "      <td>112/03/08</td>\n",
              "      <td>7290000</td>\n",
              "      <td>檢視</td>\n",
              "    </tr>\n",
              "    <tr>\n",
              "      <th>13</th>\n",
              "      <td>64</td>\n",
              "      <td>臺中市神岡區神岡國民小學</td>\n",
              "      <td>112101  var hw = Geps3.CNS.pageCode2Img(\"午餐廚房新...</td>\n",
              "      <td>3</td>\n",
              "      <td>公開招標</td>\n",
              "      <td>工程類</td>\n",
              "      <td>112/03/03</td>\n",
              "      <td>112/03/09</td>\n",
              "      <td>34325966</td>\n",
              "      <td>檢視</td>\n",
              "    </tr>\n",
              "    <tr>\n",
              "      <th>14</th>\n",
              "      <td>65</td>\n",
              "      <td>彰化縣文化局</td>\n",
              "      <td>CHCAB112-057  var hw = Geps3.CNS.pageCode2Img(...</td>\n",
              "      <td>1</td>\n",
              "      <td>公開招標</td>\n",
              "      <td>工程類</td>\n",
              "      <td>112/03/03</td>\n",
              "      <td>112/03/16</td>\n",
              "      <td>4032739</td>\n",
              "      <td>檢視</td>\n",
              "    </tr>\n",
              "    <tr>\n",
              "      <th>15</th>\n",
              "      <td>66</td>\n",
              "      <td>新北市政府高灘地工程管理處</td>\n",
              "      <td>1120314A  var hw = Geps3.CNS.pageCode2Img(\"112...</td>\n",
              "      <td>1</td>\n",
              "      <td>公開招標</td>\n",
              "      <td>工程類</td>\n",
              "      <td>112/03/03</td>\n",
              "      <td>112/03/13</td>\n",
              "      <td>15000000</td>\n",
              "      <td>檢視</td>\n",
              "    </tr>\n",
              "    <tr>\n",
              "      <th>16</th>\n",
              "      <td>67</td>\n",
              "      <td>高雄市政府工務局新建工程處</td>\n",
              "      <td>1121007A  var hw = Geps3.CNS.pageCode2Img(\"林園王...</td>\n",
              "      <td>1</td>\n",
              "      <td>公開招標</td>\n",
              "      <td>工程類</td>\n",
              "      <td>112/03/03</td>\n",
              "      <td>112/03/13</td>\n",
              "      <td>11745000</td>\n",
              "      <td>檢視</td>\n",
              "    </tr>\n",
              "    <tr>\n",
              "      <th>17</th>\n",
              "      <td>68</td>\n",
              "      <td>國立成功大學</td>\n",
              "      <td>D002-23-10  var hw = Geps3.CNS.pageCode2Img(\"自...</td>\n",
              "      <td>1</td>\n",
              "      <td>公開取得報價單或企劃書</td>\n",
              "      <td>工程類</td>\n",
              "      <td>112/03/03</td>\n",
              "      <td>112/03/08</td>\n",
              "      <td>775783</td>\n",
              "      <td>檢視</td>\n",
              "    </tr>\n",
              "    <tr>\n",
              "      <th>18</th>\n",
              "      <td>69</td>\n",
              "      <td>臺中市養護工程處</td>\n",
              "      <td>112A-032  var hw = Geps3.CNS.pageCode2Img(\"臺中市...</td>\n",
              "      <td>1</td>\n",
              "      <td>公開招標</td>\n",
              "      <td>工程類</td>\n",
              "      <td>112/03/03</td>\n",
              "      <td>112/03/15</td>\n",
              "      <td>880783</td>\n",
              "      <td>檢視</td>\n",
              "    </tr>\n",
              "    <tr>\n",
              "      <th>19</th>\n",
              "      <td>70</td>\n",
              "      <td>苗栗縣政府</td>\n",
              "      <td>112032d  var hw = Geps3.CNS.pageCode2Img(\"頭屋鄉飛...</td>\n",
              "      <td>1</td>\n",
              "      <td>公開取得報價單或企劃書</td>\n",
              "      <td>工程類</td>\n",
              "      <td>112/03/03</td>\n",
              "      <td>112/03/08</td>\n",
              "      <td>443000</td>\n",
              "      <td>檢視</td>\n",
              "    </tr>\n",
              "    <tr>\n",
              "      <th>20</th>\n",
              "      <td>71</td>\n",
              "      <td>連江縣政府</td>\n",
              "      <td>112A004  var hw = Geps3.CNS.pageCode2Img(\"112年...</td>\n",
              "      <td>2</td>\n",
              "      <td>公開招標</td>\n",
              "      <td>工程類</td>\n",
              "      <td>112/03/03</td>\n",
              "      <td>112/03/16</td>\n",
              "      <td>1906905</td>\n",
              "      <td>檢視</td>\n",
              "    </tr>\n",
              "    <tr>\n",
              "      <th>21</th>\n",
              "      <td>72</td>\n",
              "      <td>臺灣港務股份有限公司高雄港務分公司</td>\n",
              "      <td>112-AE-003  var hw = Geps3.CNS.pageCode2Img(\"安...</td>\n",
              "      <td>1</td>\n",
              "      <td>公開招標</td>\n",
              "      <td>工程類</td>\n",
              "      <td>112/03/03</td>\n",
              "      <td>112/03/15</td>\n",
              "      <td>4782123</td>\n",
              "      <td>檢視</td>\n",
              "    </tr>\n",
              "    <tr>\n",
              "      <th>22</th>\n",
              "      <td>73</td>\n",
              "      <td>臺中市養護工程處</td>\n",
              "      <td>112A-031  var hw = Geps3.CNS.pageCode2Img(\"臺中市...</td>\n",
              "      <td>1</td>\n",
              "      <td>公開招標</td>\n",
              "      <td>工程類</td>\n",
              "      <td>112/03/03</td>\n",
              "      <td>112/03/14</td>\n",
              "      <td>880783</td>\n",
              "      <td>檢視</td>\n",
              "    </tr>\n",
              "    <tr>\n",
              "      <th>23</th>\n",
              "      <td>74</td>\n",
              "      <td>經濟部工業局</td>\n",
              "      <td>11207031200  var hw = Geps3.CNS.pageCode2Img(\"...</td>\n",
              "      <td>2</td>\n",
              "      <td>公開招標</td>\n",
              "      <td>工程類</td>\n",
              "      <td>112/03/03</td>\n",
              "      <td>112/03/07</td>\n",
              "      <td>2273277</td>\n",
              "      <td>檢視</td>\n",
              "    </tr>\n",
              "    <tr>\n",
              "      <th>24</th>\n",
              "      <td>75</td>\n",
              "      <td>行政院農業委員會水土保持局南投分局</td>\n",
              "      <td>112-FRAP-01-3-022  var hw = Geps3.CNS.pageCode...</td>\n",
              "      <td>1</td>\n",
              "      <td>公開招標</td>\n",
              "      <td>工程類</td>\n",
              "      <td>112/03/03</td>\n",
              "      <td>112/03/16</td>\n",
              "      <td>4260969</td>\n",
              "      <td>檢視</td>\n",
              "    </tr>\n",
              "    <tr>\n",
              "      <th>25</th>\n",
              "      <td>76</td>\n",
              "      <td>行政院農業委員會水土保持局南投分局</td>\n",
              "      <td>112-FRAP-01-3-20  var hw = Geps3.CNS.pageCode2...</td>\n",
              "      <td>2</td>\n",
              "      <td>公開招標</td>\n",
              "      <td>工程類</td>\n",
              "      <td>112/03/03</td>\n",
              "      <td>112/03/09</td>\n",
              "      <td>2661000</td>\n",
              "      <td>檢視</td>\n",
              "    </tr>\n",
              "    <tr>\n",
              "      <th>26</th>\n",
              "      <td>77</td>\n",
              "      <td>交通部觀光局北海岸及觀音山國家風景區管理處</td>\n",
              "      <td>112018  var hw = Geps3.CNS.pageCode2Img(\"白沙灣遊客...</td>\n",
              "      <td>2</td>\n",
              "      <td>公開招標</td>\n",
              "      <td>工程類</td>\n",
              "      <td>112/03/03</td>\n",
              "      <td>112/03/08</td>\n",
              "      <td>4200000</td>\n",
              "      <td>檢視</td>\n",
              "    </tr>\n",
              "    <tr>\n",
              "      <th>27</th>\n",
              "      <td>78</td>\n",
              "      <td>行政院農業委員會水土保持局南投分局</td>\n",
              "      <td>112-FRAP-01-3-053  var hw = Geps3.CNS.pageCode...</td>\n",
              "      <td>2</td>\n",
              "      <td>公開招標</td>\n",
              "      <td>工程類</td>\n",
              "      <td>112/03/03</td>\n",
              "      <td>112/03/09</td>\n",
              "      <td>2526000</td>\n",
              "      <td>檢視</td>\n",
              "    </tr>\n",
              "    <tr>\n",
              "      <th>28</th>\n",
              "      <td>79</td>\n",
              "      <td>台灣電力股份有限公司新桃供電區營運處</td>\n",
              "      <td>4751273001  var hw = Geps3.CNS.pageCode2Img(\"(...</td>\n",
              "      <td>2</td>\n",
              "      <td>公開招標</td>\n",
              "      <td>工程類</td>\n",
              "      <td>112/03/03</td>\n",
              "      <td>112/03/07</td>\n",
              "      <td>48500000</td>\n",
              "      <td>檢視</td>\n",
              "    </tr>\n",
              "    <tr>\n",
              "      <th>29</th>\n",
              "      <td>80</td>\n",
              "      <td>內政部營建署</td>\n",
              "      <td>108-C304-01-01-0201-0010  var hw = Geps3.CNS.p...</td>\n",
              "      <td>5</td>\n",
              "      <td>公開招標</td>\n",
              "      <td>工程類</td>\n",
              "      <td>112/03/03</td>\n",
              "      <td>112/03/09</td>\n",
              "      <td>120763717</td>\n",
              "      <td>檢視</td>\n",
              "    </tr>\n",
              "    <tr>\n",
              "      <th>30</th>\n",
              "      <td>81</td>\n",
              "      <td>行政院農業委員會水土保持局南投分局</td>\n",
              "      <td>112-FRAP-01-3-048  var hw = Geps3.CNS.pageCode...</td>\n",
              "      <td>2</td>\n",
              "      <td>公開招標</td>\n",
              "      <td>工程類</td>\n",
              "      <td>112/03/03</td>\n",
              "      <td>112/03/09</td>\n",
              "      <td>2674901</td>\n",
              "      <td>檢視</td>\n",
              "    </tr>\n",
              "    <tr>\n",
              "      <th>31</th>\n",
              "      <td>82</td>\n",
              "      <td>嘉義縣番路鄉公所</td>\n",
              "      <td>112020  var hw = Geps3.CNS.pageCode2Img(\"111年9...</td>\n",
              "      <td>1</td>\n",
              "      <td>公開取得報價單或企劃書</td>\n",
              "      <td>工程類</td>\n",
              "      <td>112/03/03</td>\n",
              "      <td>112/03/13</td>\n",
              "      <td>1163000</td>\n",
              "      <td>檢視</td>\n",
              "    </tr>\n",
              "    <tr>\n",
              "      <th>32</th>\n",
              "      <td>83</td>\n",
              "      <td>臺南市龍崎區公所</td>\n",
              "      <td>112008  var hw = Geps3.CNS.pageCode2Img(\"龍崎區11...</td>\n",
              "      <td>2</td>\n",
              "      <td>公開招標</td>\n",
              "      <td>工程類</td>\n",
              "      <td>112/03/03</td>\n",
              "      <td>112/03/09</td>\n",
              "      <td>6374205</td>\n",
              "      <td>檢視</td>\n",
              "    </tr>\n",
              "    <tr>\n",
              "      <th>33</th>\n",
              "      <td>84</td>\n",
              "      <td>行政院農業委員會水土保持局南投分局</td>\n",
              "      <td>112-FRAP-01-3-045  var hw = Geps3.CNS.pageCode...</td>\n",
              "      <td>2</td>\n",
              "      <td>公開招標</td>\n",
              "      <td>工程類</td>\n",
              "      <td>112/03/03</td>\n",
              "      <td>112/03/09</td>\n",
              "      <td>3393000</td>\n",
              "      <td>檢視</td>\n",
              "    </tr>\n",
              "    <tr>\n",
              "      <th>34</th>\n",
              "      <td>85</td>\n",
              "      <td>行政院農業委員會水土保持局南投分局</td>\n",
              "      <td>112-FRAP-01-3-036  var hw = Geps3.CNS.pageCode...</td>\n",
              "      <td>2</td>\n",
              "      <td>公開招標</td>\n",
              "      <td>工程類</td>\n",
              "      <td>112/03/03</td>\n",
              "      <td>112/03/09</td>\n",
              "      <td>4420480</td>\n",
              "      <td>檢視</td>\n",
              "    </tr>\n",
              "    <tr>\n",
              "      <th>35</th>\n",
              "      <td>86</td>\n",
              "      <td>臺北市政府警察局交通警察大隊</td>\n",
              "      <td>112033  var hw = Geps3.CNS.pageCode2Img(\"萬華分隊駐...</td>\n",
              "      <td>1</td>\n",
              "      <td>公開取得報價單或企劃書</td>\n",
              "      <td>工程類</td>\n",
              "      <td>112/03/03</td>\n",
              "      <td>112/03/08</td>\n",
              "      <td>897093</td>\n",
              "      <td>檢視</td>\n",
              "    </tr>\n",
              "    <tr>\n",
              "      <th>36</th>\n",
              "      <td>87</td>\n",
              "      <td>經濟部水利署第一河川局</td>\n",
              "      <td>112-I-01020-021-000  var hw = Geps3.CNS.pageCo...</td>\n",
              "      <td>1</td>\n",
              "      <td>公開招標</td>\n",
              "      <td>工程類</td>\n",
              "      <td>112/03/03</td>\n",
              "      <td>112/03/15</td>\n",
              "      <td>48378400</td>\n",
              "      <td>檢視</td>\n",
              "    </tr>\n",
              "    <tr>\n",
              "      <th>37</th>\n",
              "      <td>88</td>\n",
              "      <td>行政院農業委員會水土保持局南投分局</td>\n",
              "      <td>112-FRAP-01-3-023  var hw = Geps3.CNS.pageCode...</td>\n",
              "      <td>2</td>\n",
              "      <td>公開招標</td>\n",
              "      <td>工程類</td>\n",
              "      <td>112/03/03</td>\n",
              "      <td>112/03/09</td>\n",
              "      <td>4354000</td>\n",
              "      <td>檢視</td>\n",
              "    </tr>\n",
              "    <tr>\n",
              "      <th>38</th>\n",
              "      <td>89</td>\n",
              "      <td>基隆市政府</td>\n",
              "      <td>112A008  var hw = Geps3.CNS.pageCode2Img(\"銘傳國中...</td>\n",
              "      <td>1</td>\n",
              "      <td>公開招標</td>\n",
              "      <td>工程類</td>\n",
              "      <td>112/03/03</td>\n",
              "      <td>112/03/14</td>\n",
              "      <td>1549380</td>\n",
              "      <td>檢視</td>\n",
              "    </tr>\n",
              "    <tr>\n",
              "      <th>39</th>\n",
              "      <td>90</td>\n",
              "      <td>臺南市永康區公所</td>\n",
              "      <td>11201015  var hw = Geps3.CNS.pageCode2Img(\"112...</td>\n",
              "      <td>2</td>\n",
              "      <td>公開招標</td>\n",
              "      <td>工程類</td>\n",
              "      <td>112/03/03</td>\n",
              "      <td>112/03/16</td>\n",
              "      <td>924000</td>\n",
              "      <td>檢視</td>\n",
              "    </tr>\n",
              "    <tr>\n",
              "      <th>40</th>\n",
              "      <td>91</td>\n",
              "      <td>臺南市政府水利局</td>\n",
              "      <td>wat112037  var hw = Geps3.CNS.pageCode2Img(\"海尾...</td>\n",
              "      <td>3</td>\n",
              "      <td>公開招標</td>\n",
              "      <td>工程類</td>\n",
              "      <td>112/03/03</td>\n",
              "      <td>112/03/09</td>\n",
              "      <td>26511915</td>\n",
              "      <td>檢視</td>\n",
              "    </tr>\n",
              "    <tr>\n",
              "      <th>41</th>\n",
              "      <td>92</td>\n",
              "      <td>嘉義縣番路鄉公所</td>\n",
              "      <td>112019  var hw = Geps3.CNS.pageCode2Img(\"111年9...</td>\n",
              "      <td>1</td>\n",
              "      <td>公開招標</td>\n",
              "      <td>工程類</td>\n",
              "      <td>112/03/03</td>\n",
              "      <td>112/03/13</td>\n",
              "      <td>2773000</td>\n",
              "      <td>檢視</td>\n",
              "    </tr>\n",
              "    <tr>\n",
              "      <th>42</th>\n",
              "      <td>93</td>\n",
              "      <td>臺南市政府工務局</td>\n",
              "      <td>111109052  var hw = Geps3.CNS.pageCode2Img(\"六塊...</td>\n",
              "      <td>1</td>\n",
              "      <td>公開招標</td>\n",
              "      <td>工程類</td>\n",
              "      <td>112/03/03</td>\n",
              "      <td>112/04/11</td>\n",
              "      <td>213576258</td>\n",
              "      <td>檢視</td>\n",
              "    </tr>\n",
              "    <tr>\n",
              "      <th>43</th>\n",
              "      <td>94</td>\n",
              "      <td>國防部海軍司令部</td>\n",
              "      <td>112-5160006117740320  var hw = Geps3.CNS.pageC...</td>\n",
              "      <td>3</td>\n",
              "      <td>公開招標</td>\n",
              "      <td>工程類</td>\n",
              "      <td>112/03/03</td>\n",
              "      <td>112/03/13</td>\n",
              "      <td>4257000</td>\n",
              "      <td>檢視</td>\n",
              "    </tr>\n",
              "    <tr>\n",
              "      <th>44</th>\n",
              "      <td>95</td>\n",
              "      <td>嘉義縣番路鄉公所</td>\n",
              "      <td>112018  var hw = Geps3.CNS.pageCode2Img(\"111年9...</td>\n",
              "      <td>1</td>\n",
              "      <td>公開招標</td>\n",
              "      <td>工程類</td>\n",
              "      <td>112/03/03</td>\n",
              "      <td>112/03/13</td>\n",
              "      <td>1779000</td>\n",
              "      <td>檢視</td>\n",
              "    </tr>\n",
              "    <tr>\n",
              "      <th>45</th>\n",
              "      <td>96</td>\n",
              "      <td>臺東縣政府</td>\n",
              "      <td>112200910055  var hw = Geps3.CNS.pageCode2Img(...</td>\n",
              "      <td>2</td>\n",
              "      <td>公開取得報價單或企劃書</td>\n",
              "      <td>工程類</td>\n",
              "      <td>112/03/03</td>\n",
              "      <td>112/03/07</td>\n",
              "      <td>499528</td>\n",
              "      <td>檢視</td>\n",
              "    </tr>\n",
              "    <tr>\n",
              "      <th>46</th>\n",
              "      <td>97</td>\n",
              "      <td>彰化縣大村鄉公所</td>\n",
              "      <td>111-9576  var hw = Geps3.CNS.pageCode2Img(\"大村鄉...</td>\n",
              "      <td>9</td>\n",
              "      <td>公開招標</td>\n",
              "      <td>工程類</td>\n",
              "      <td>112/03/03</td>\n",
              "      <td>112/03/14</td>\n",
              "      <td>46798557</td>\n",
              "      <td>檢視</td>\n",
              "    </tr>\n",
              "    <tr>\n",
              "      <th>47</th>\n",
              "      <td>98</td>\n",
              "      <td>基隆市政府</td>\n",
              "      <td>112A009  var hw = Geps3.CNS.pageCode2Img(\"111年...</td>\n",
              "      <td>1</td>\n",
              "      <td>公開招標</td>\n",
              "      <td>工程類</td>\n",
              "      <td>112/03/03</td>\n",
              "      <td>112/03/14</td>\n",
              "      <td>1998236</td>\n",
              "      <td>檢視</td>\n",
              "    </tr>\n",
              "    <tr>\n",
              "      <th>48</th>\n",
              "      <td>99</td>\n",
              "      <td>彰化縣文化局</td>\n",
              "      <td>CHCAB112-066  var hw = Geps3.CNS.pageCode2Img(...</td>\n",
              "      <td>1</td>\n",
              "      <td>公開招標</td>\n",
              "      <td>工程類</td>\n",
              "      <td>112/03/03</td>\n",
              "      <td>112/03/16</td>\n",
              "      <td>7012962</td>\n",
              "      <td>檢視</td>\n",
              "    </tr>\n",
              "    <tr>\n",
              "      <th>49</th>\n",
              "      <td>100</td>\n",
              "      <td>南投縣政府</td>\n",
              "      <td>1120501001A  var hw = Geps3.CNS.pageCode2Img(\"...</td>\n",
              "      <td>1</td>\n",
              "      <td>公開招標</td>\n",
              "      <td>工程類</td>\n",
              "      <td>112/03/03</td>\n",
              "      <td>112/03/15</td>\n",
              "      <td>7180000</td>\n",
              "      <td>檢視</td>\n",
              "    </tr>\n",
              "  </tbody>\n",
              "</table>\n",
              "</div>\n",
              "      <button class=\"colab-df-convert\" onclick=\"convertToInteractive('df-163fbaa0-dfd5-47b5-bdf5-84abba218983')\"\n",
              "              title=\"Convert this dataframe to an interactive table.\"\n",
              "              style=\"display:none;\">\n",
              "        \n",
              "  <svg xmlns=\"http://www.w3.org/2000/svg\" height=\"24px\"viewBox=\"0 0 24 24\"\n",
              "       width=\"24px\">\n",
              "    <path d=\"M0 0h24v24H0V0z\" fill=\"none\"/>\n",
              "    <path d=\"M18.56 5.44l.94 2.06.94-2.06 2.06-.94-2.06-.94-.94-2.06-.94 2.06-2.06.94zm-11 1L8.5 8.5l.94-2.06 2.06-.94-2.06-.94L8.5 2.5l-.94 2.06-2.06.94zm10 10l.94 2.06.94-2.06 2.06-.94-2.06-.94-.94-2.06-.94 2.06-2.06.94z\"/><path d=\"M17.41 7.96l-1.37-1.37c-.4-.4-.92-.59-1.43-.59-.52 0-1.04.2-1.43.59L10.3 9.45l-7.72 7.72c-.78.78-.78 2.05 0 2.83L4 21.41c.39.39.9.59 1.41.59.51 0 1.02-.2 1.41-.59l7.78-7.78 2.81-2.81c.8-.78.8-2.07 0-2.86zM5.41 20L4 18.59l7.72-7.72 1.47 1.35L5.41 20z\"/>\n",
              "  </svg>\n",
              "      </button>\n",
              "      \n",
              "  <style>\n",
              "    .colab-df-container {\n",
              "      display:flex;\n",
              "      flex-wrap:wrap;\n",
              "      gap: 12px;\n",
              "    }\n",
              "\n",
              "    .colab-df-convert {\n",
              "      background-color: #E8F0FE;\n",
              "      border: none;\n",
              "      border-radius: 50%;\n",
              "      cursor: pointer;\n",
              "      display: none;\n",
              "      fill: #1967D2;\n",
              "      height: 32px;\n",
              "      padding: 0 0 0 0;\n",
              "      width: 32px;\n",
              "    }\n",
              "\n",
              "    .colab-df-convert:hover {\n",
              "      background-color: #E2EBFA;\n",
              "      box-shadow: 0px 1px 2px rgba(60, 64, 67, 0.3), 0px 1px 3px 1px rgba(60, 64, 67, 0.15);\n",
              "      fill: #174EA6;\n",
              "    }\n",
              "\n",
              "    [theme=dark] .colab-df-convert {\n",
              "      background-color: #3B4455;\n",
              "      fill: #D2E3FC;\n",
              "    }\n",
              "\n",
              "    [theme=dark] .colab-df-convert:hover {\n",
              "      background-color: #434B5C;\n",
              "      box-shadow: 0px 1px 3px 1px rgba(0, 0, 0, 0.15);\n",
              "      filter: drop-shadow(0px 1px 2px rgba(0, 0, 0, 0.3));\n",
              "      fill: #FFFFFF;\n",
              "    }\n",
              "  </style>\n",
              "\n",
              "      <script>\n",
              "        const buttonEl =\n",
              "          document.querySelector('#df-163fbaa0-dfd5-47b5-bdf5-84abba218983 button.colab-df-convert');\n",
              "        buttonEl.style.display =\n",
              "          google.colab.kernel.accessAllowed ? 'block' : 'none';\n",
              "\n",
              "        async function convertToInteractive(key) {\n",
              "          const element = document.querySelector('#df-163fbaa0-dfd5-47b5-bdf5-84abba218983');\n",
              "          const dataTable =\n",
              "            await google.colab.kernel.invokeFunction('convertToInteractive',\n",
              "                                                     [key], {});\n",
              "          if (!dataTable) return;\n",
              "\n",
              "          const docLinkHtml = 'Like what you see? Visit the ' +\n",
              "            '<a target=\"_blank\" href=https://colab.research.google.com/notebooks/data_table.ipynb>data table notebook</a>'\n",
              "            + ' to learn more about interactive tables.';\n",
              "          element.innerHTML = '';\n",
              "          dataTable['output_type'] = 'display_data';\n",
              "          await google.colab.output.renderOutput(dataTable, element);\n",
              "          const docLink = document.createElement('div');\n",
              "          docLink.innerHTML = docLinkHtml;\n",
              "          element.appendChild(docLink);\n",
              "        }\n",
              "      </script>\n",
              "    </div>\n",
              "  </div>\n",
              "  "
            ]
          },
          "metadata": {},
          "execution_count": 129
        }
      ]
    },
    {
      "cell_type": "code",
      "source": [
        "dfs[4]['標案案號標案名稱'][0]"
      ],
      "metadata": {
        "colab": {
          "base_uri": "https://localhost:8080/",
          "height": 35
        },
        "id": "rdFRqftWOmZL",
        "outputId": "a7e3ba89-4aa1-4f0c-d080-3a5b99166167"
      },
      "execution_count": 132,
      "outputs": [
        {
          "output_type": "execute_result",
          "data": {
            "text/plain": [
              "'112033d  var hw = Geps3.CNS.pageCode2Img(\"西湖鄉湖東村1鄰農路改善工程\");$(\"#1\").html(hw);'"
            ],
            "application/vnd.google.colaboratory.intrinsic+json": {
              "type": "string"
            }
          },
          "metadata": {},
          "execution_count": 132
        }
      ]
    },
    {
      "cell_type": "markdown",
      "source": [
        "## 讀取政府資料開放平台實價登錄資料\n",
        "\n",
        "e.g.:\n",
        "\n",
        "https://data.kcg.gov.tw/dataset/d7bfc353-1617-42d8-a0e3-3cd2d99edb10/resource/20387f3d-6970-40a4-86f0-a5c33546e75d/download/111q2.csv"
      ],
      "metadata": {
        "id": "Kv3P9kdCUhur"
      }
    },
    {
      "cell_type": "code",
      "source": [
        "url = \"\thttps://data.kcg.gov.tw/dataset/d7bfc353-1617-42d8-a0e3-3cd2d99edb10/resource/20387f3d-6970-40a4-86f0-a5c33546e75d/download/111q2.csv\""
      ],
      "metadata": {
        "id": "beN03Pf2PKjU"
      },
      "execution_count": 162,
      "outputs": []
    },
    {
      "cell_type": "code",
      "source": [
        "df = pd.read_csv(url)"
      ],
      "metadata": {
        "colab": {
          "base_uri": "https://localhost:8080/",
          "height": 434
        },
        "id": "u35LzZOvU1r0",
        "outputId": "717a4d2e-783d-4502-84ba-331cf4edb345"
      },
      "execution_count": 167,
      "outputs": [
        {
          "output_type": "error",
          "ename": "URLError",
          "evalue": "ignored",
          "traceback": [
            "\u001b[0;31m---------------------------------------------------------------------------\u001b[0m",
            "\u001b[0;31mTimeoutError\u001b[0m                              Traceback (most recent call last)",
            "\u001b[0;32m/usr/lib/python3.8/urllib/request.py\u001b[0m in \u001b[0;36mdo_open\u001b[0;34m(self, http_class, req, **http_conn_args)\u001b[0m\n\u001b[1;32m   1353\u001b[0m             \u001b[0;32mtry\u001b[0m\u001b[0;34m:\u001b[0m\u001b[0;34m\u001b[0m\u001b[0;34m\u001b[0m\u001b[0m\n\u001b[0;32m-> 1354\u001b[0;31m                 h.request(req.get_method(), req.selector, req.data, headers,\n\u001b[0m\u001b[1;32m   1355\u001b[0m                           encode_chunked=req.has_header('Transfer-encoding'))\n",
            "\u001b[0;32m/usr/lib/python3.8/http/client.py\u001b[0m in \u001b[0;36mrequest\u001b[0;34m(self, method, url, body, headers, encode_chunked)\u001b[0m\n\u001b[1;32m   1255\u001b[0m         \u001b[0;34m\"\"\"Send a complete request to the server.\"\"\"\u001b[0m\u001b[0;34m\u001b[0m\u001b[0;34m\u001b[0m\u001b[0m\n\u001b[0;32m-> 1256\u001b[0;31m         \u001b[0mself\u001b[0m\u001b[0;34m.\u001b[0m\u001b[0m_send_request\u001b[0m\u001b[0;34m(\u001b[0m\u001b[0mmethod\u001b[0m\u001b[0;34m,\u001b[0m \u001b[0murl\u001b[0m\u001b[0;34m,\u001b[0m \u001b[0mbody\u001b[0m\u001b[0;34m,\u001b[0m \u001b[0mheaders\u001b[0m\u001b[0;34m,\u001b[0m \u001b[0mencode_chunked\u001b[0m\u001b[0;34m)\u001b[0m\u001b[0;34m\u001b[0m\u001b[0;34m\u001b[0m\u001b[0m\n\u001b[0m\u001b[1;32m   1257\u001b[0m \u001b[0;34m\u001b[0m\u001b[0m\n",
            "\u001b[0;32m/usr/lib/python3.8/http/client.py\u001b[0m in \u001b[0;36m_send_request\u001b[0;34m(self, method, url, body, headers, encode_chunked)\u001b[0m\n\u001b[1;32m   1301\u001b[0m             \u001b[0mbody\u001b[0m \u001b[0;34m=\u001b[0m \u001b[0m_encode\u001b[0m\u001b[0;34m(\u001b[0m\u001b[0mbody\u001b[0m\u001b[0;34m,\u001b[0m \u001b[0;34m'body'\u001b[0m\u001b[0;34m)\u001b[0m\u001b[0;34m\u001b[0m\u001b[0;34m\u001b[0m\u001b[0m\n\u001b[0;32m-> 1302\u001b[0;31m         \u001b[0mself\u001b[0m\u001b[0;34m.\u001b[0m\u001b[0mendheaders\u001b[0m\u001b[0;34m(\u001b[0m\u001b[0mbody\u001b[0m\u001b[0;34m,\u001b[0m \u001b[0mencode_chunked\u001b[0m\u001b[0;34m=\u001b[0m\u001b[0mencode_chunked\u001b[0m\u001b[0;34m)\u001b[0m\u001b[0;34m\u001b[0m\u001b[0;34m\u001b[0m\u001b[0m\n\u001b[0m\u001b[1;32m   1303\u001b[0m \u001b[0;34m\u001b[0m\u001b[0m\n",
            "\u001b[0;32m/usr/lib/python3.8/http/client.py\u001b[0m in \u001b[0;36mendheaders\u001b[0;34m(self, message_body, encode_chunked)\u001b[0m\n\u001b[1;32m   1250\u001b[0m             \u001b[0;32mraise\u001b[0m \u001b[0mCannotSendHeader\u001b[0m\u001b[0;34m(\u001b[0m\u001b[0;34m)\u001b[0m\u001b[0;34m\u001b[0m\u001b[0;34m\u001b[0m\u001b[0m\n\u001b[0;32m-> 1251\u001b[0;31m         \u001b[0mself\u001b[0m\u001b[0;34m.\u001b[0m\u001b[0m_send_output\u001b[0m\u001b[0;34m(\u001b[0m\u001b[0mmessage_body\u001b[0m\u001b[0;34m,\u001b[0m \u001b[0mencode_chunked\u001b[0m\u001b[0;34m=\u001b[0m\u001b[0mencode_chunked\u001b[0m\u001b[0;34m)\u001b[0m\u001b[0;34m\u001b[0m\u001b[0;34m\u001b[0m\u001b[0m\n\u001b[0m\u001b[1;32m   1252\u001b[0m \u001b[0;34m\u001b[0m\u001b[0m\n",
            "\u001b[0;32m/usr/lib/python3.8/http/client.py\u001b[0m in \u001b[0;36m_send_output\u001b[0;34m(self, message_body, encode_chunked)\u001b[0m\n\u001b[1;32m   1010\u001b[0m         \u001b[0;32mdel\u001b[0m \u001b[0mself\u001b[0m\u001b[0;34m.\u001b[0m\u001b[0m_buffer\u001b[0m\u001b[0;34m[\u001b[0m\u001b[0;34m:\u001b[0m\u001b[0;34m]\u001b[0m\u001b[0;34m\u001b[0m\u001b[0;34m\u001b[0m\u001b[0m\n\u001b[0;32m-> 1011\u001b[0;31m         \u001b[0mself\u001b[0m\u001b[0;34m.\u001b[0m\u001b[0msend\u001b[0m\u001b[0;34m(\u001b[0m\u001b[0mmsg\u001b[0m\u001b[0;34m)\u001b[0m\u001b[0;34m\u001b[0m\u001b[0;34m\u001b[0m\u001b[0m\n\u001b[0m\u001b[1;32m   1012\u001b[0m \u001b[0;34m\u001b[0m\u001b[0m\n",
            "\u001b[0;32m/usr/lib/python3.8/http/client.py\u001b[0m in \u001b[0;36msend\u001b[0;34m(self, data)\u001b[0m\n\u001b[1;32m    950\u001b[0m             \u001b[0;32mif\u001b[0m \u001b[0mself\u001b[0m\u001b[0;34m.\u001b[0m\u001b[0mauto_open\u001b[0m\u001b[0;34m:\u001b[0m\u001b[0;34m\u001b[0m\u001b[0;34m\u001b[0m\u001b[0m\n\u001b[0;32m--> 951\u001b[0;31m                 \u001b[0mself\u001b[0m\u001b[0;34m.\u001b[0m\u001b[0mconnect\u001b[0m\u001b[0;34m(\u001b[0m\u001b[0;34m)\u001b[0m\u001b[0;34m\u001b[0m\u001b[0;34m\u001b[0m\u001b[0m\n\u001b[0m\u001b[1;32m    952\u001b[0m             \u001b[0;32melse\u001b[0m\u001b[0;34m:\u001b[0m\u001b[0;34m\u001b[0m\u001b[0;34m\u001b[0m\u001b[0m\n",
            "\u001b[0;32m/usr/lib/python3.8/http/client.py\u001b[0m in \u001b[0;36mconnect\u001b[0;34m(self)\u001b[0m\n\u001b[1;32m   1417\u001b[0m \u001b[0;34m\u001b[0m\u001b[0m\n\u001b[0;32m-> 1418\u001b[0;31m             \u001b[0msuper\u001b[0m\u001b[0;34m(\u001b[0m\u001b[0;34m)\u001b[0m\u001b[0;34m.\u001b[0m\u001b[0mconnect\u001b[0m\u001b[0;34m(\u001b[0m\u001b[0;34m)\u001b[0m\u001b[0;34m\u001b[0m\u001b[0;34m\u001b[0m\u001b[0m\n\u001b[0m\u001b[1;32m   1419\u001b[0m \u001b[0;34m\u001b[0m\u001b[0m\n",
            "\u001b[0;32m/usr/lib/python3.8/http/client.py\u001b[0m in \u001b[0;36mconnect\u001b[0;34m(self)\u001b[0m\n\u001b[1;32m    921\u001b[0m         \u001b[0;34m\"\"\"Connect to the host and port specified in __init__.\"\"\"\u001b[0m\u001b[0;34m\u001b[0m\u001b[0;34m\u001b[0m\u001b[0m\n\u001b[0;32m--> 922\u001b[0;31m         self.sock = self._create_connection(\n\u001b[0m\u001b[1;32m    923\u001b[0m             (self.host,self.port), self.timeout, self.source_address)\n",
            "\u001b[0;32m/usr/lib/python3.8/socket.py\u001b[0m in \u001b[0;36mcreate_connection\u001b[0;34m(address, timeout, source_address)\u001b[0m\n\u001b[1;32m    807\u001b[0m         \u001b[0;32mtry\u001b[0m\u001b[0;34m:\u001b[0m\u001b[0;34m\u001b[0m\u001b[0;34m\u001b[0m\u001b[0m\n\u001b[0;32m--> 808\u001b[0;31m             \u001b[0;32mraise\u001b[0m \u001b[0merr\u001b[0m\u001b[0;34m\u001b[0m\u001b[0;34m\u001b[0m\u001b[0m\n\u001b[0m\u001b[1;32m    809\u001b[0m         \u001b[0;32mfinally\u001b[0m\u001b[0;34m:\u001b[0m\u001b[0;34m\u001b[0m\u001b[0;34m\u001b[0m\u001b[0m\n",
            "\u001b[0;32m/usr/lib/python3.8/socket.py\u001b[0m in \u001b[0;36mcreate_connection\u001b[0;34m(address, timeout, source_address)\u001b[0m\n\u001b[1;32m    795\u001b[0m                 \u001b[0msock\u001b[0m\u001b[0;34m.\u001b[0m\u001b[0mbind\u001b[0m\u001b[0;34m(\u001b[0m\u001b[0msource_address\u001b[0m\u001b[0;34m)\u001b[0m\u001b[0;34m\u001b[0m\u001b[0;34m\u001b[0m\u001b[0m\n\u001b[0;32m--> 796\u001b[0;31m             \u001b[0msock\u001b[0m\u001b[0;34m.\u001b[0m\u001b[0mconnect\u001b[0m\u001b[0;34m(\u001b[0m\u001b[0msa\u001b[0m\u001b[0;34m)\u001b[0m\u001b[0;34m\u001b[0m\u001b[0;34m\u001b[0m\u001b[0m\n\u001b[0m\u001b[1;32m    797\u001b[0m             \u001b[0;31m# Break explicitly a reference cycle\u001b[0m\u001b[0;34m\u001b[0m\u001b[0;34m\u001b[0m\u001b[0;34m\u001b[0m\u001b[0m\n",
            "\u001b[0;31mTimeoutError\u001b[0m: [Errno 110] Connection timed out",
            "\nDuring handling of the above exception, another exception occurred:\n",
            "\u001b[0;31mURLError\u001b[0m                                  Traceback (most recent call last)",
            "\u001b[0;32m<ipython-input-167-7832ba498456>\u001b[0m in \u001b[0;36m<module>\u001b[0;34m\u001b[0m\n\u001b[0;32m----> 1\u001b[0;31m \u001b[0mdf\u001b[0m \u001b[0;34m=\u001b[0m \u001b[0mpd\u001b[0m\u001b[0;34m.\u001b[0m\u001b[0mread_csv\u001b[0m\u001b[0;34m(\u001b[0m\u001b[0murl\u001b[0m\u001b[0;34m)\u001b[0m\u001b[0;34m\u001b[0m\u001b[0;34m\u001b[0m\u001b[0m\n\u001b[0m",
            "\u001b[0;32m/usr/local/lib/python3.8/dist-packages/pandas/util/_decorators.py\u001b[0m in \u001b[0;36mwrapper\u001b[0;34m(*args, **kwargs)\u001b[0m\n\u001b[1;32m    309\u001b[0m                     \u001b[0mstacklevel\u001b[0m\u001b[0;34m=\u001b[0m\u001b[0mstacklevel\u001b[0m\u001b[0;34m,\u001b[0m\u001b[0;34m\u001b[0m\u001b[0;34m\u001b[0m\u001b[0m\n\u001b[1;32m    310\u001b[0m                 )\n\u001b[0;32m--> 311\u001b[0;31m             \u001b[0;32mreturn\u001b[0m \u001b[0mfunc\u001b[0m\u001b[0;34m(\u001b[0m\u001b[0;34m*\u001b[0m\u001b[0margs\u001b[0m\u001b[0;34m,\u001b[0m \u001b[0;34m**\u001b[0m\u001b[0mkwargs\u001b[0m\u001b[0;34m)\u001b[0m\u001b[0;34m\u001b[0m\u001b[0;34m\u001b[0m\u001b[0m\n\u001b[0m\u001b[1;32m    312\u001b[0m \u001b[0;34m\u001b[0m\u001b[0m\n\u001b[1;32m    313\u001b[0m         \u001b[0;32mreturn\u001b[0m \u001b[0mwrapper\u001b[0m\u001b[0;34m\u001b[0m\u001b[0;34m\u001b[0m\u001b[0m\n",
            "\u001b[0;32m/usr/local/lib/python3.8/dist-packages/pandas/io/parsers/readers.py\u001b[0m in \u001b[0;36mread_csv\u001b[0;34m(filepath_or_buffer, sep, delimiter, header, names, index_col, usecols, squeeze, prefix, mangle_dupe_cols, dtype, engine, converters, true_values, false_values, skipinitialspace, skiprows, skipfooter, nrows, na_values, keep_default_na, na_filter, verbose, skip_blank_lines, parse_dates, infer_datetime_format, keep_date_col, date_parser, dayfirst, cache_dates, iterator, chunksize, compression, thousands, decimal, lineterminator, quotechar, quoting, doublequote, escapechar, comment, encoding, encoding_errors, dialect, error_bad_lines, warn_bad_lines, on_bad_lines, delim_whitespace, low_memory, memory_map, float_precision, storage_options)\u001b[0m\n\u001b[1;32m    584\u001b[0m     \u001b[0mkwds\u001b[0m\u001b[0;34m.\u001b[0m\u001b[0mupdate\u001b[0m\u001b[0;34m(\u001b[0m\u001b[0mkwds_defaults\u001b[0m\u001b[0;34m)\u001b[0m\u001b[0;34m\u001b[0m\u001b[0;34m\u001b[0m\u001b[0m\n\u001b[1;32m    585\u001b[0m \u001b[0;34m\u001b[0m\u001b[0m\n\u001b[0;32m--> 586\u001b[0;31m     \u001b[0;32mreturn\u001b[0m \u001b[0m_read\u001b[0m\u001b[0;34m(\u001b[0m\u001b[0mfilepath_or_buffer\u001b[0m\u001b[0;34m,\u001b[0m \u001b[0mkwds\u001b[0m\u001b[0;34m)\u001b[0m\u001b[0;34m\u001b[0m\u001b[0;34m\u001b[0m\u001b[0m\n\u001b[0m\u001b[1;32m    587\u001b[0m \u001b[0;34m\u001b[0m\u001b[0m\n\u001b[1;32m    588\u001b[0m \u001b[0;34m\u001b[0m\u001b[0m\n",
            "\u001b[0;32m/usr/local/lib/python3.8/dist-packages/pandas/io/parsers/readers.py\u001b[0m in \u001b[0;36m_read\u001b[0;34m(filepath_or_buffer, kwds)\u001b[0m\n\u001b[1;32m    480\u001b[0m \u001b[0;34m\u001b[0m\u001b[0m\n\u001b[1;32m    481\u001b[0m     \u001b[0;31m# Create the parser.\u001b[0m\u001b[0;34m\u001b[0m\u001b[0;34m\u001b[0m\u001b[0;34m\u001b[0m\u001b[0m\n\u001b[0;32m--> 482\u001b[0;31m     \u001b[0mparser\u001b[0m \u001b[0;34m=\u001b[0m \u001b[0mTextFileReader\u001b[0m\u001b[0;34m(\u001b[0m\u001b[0mfilepath_or_buffer\u001b[0m\u001b[0;34m,\u001b[0m \u001b[0;34m**\u001b[0m\u001b[0mkwds\u001b[0m\u001b[0;34m)\u001b[0m\u001b[0;34m\u001b[0m\u001b[0;34m\u001b[0m\u001b[0m\n\u001b[0m\u001b[1;32m    483\u001b[0m \u001b[0;34m\u001b[0m\u001b[0m\n\u001b[1;32m    484\u001b[0m     \u001b[0;32mif\u001b[0m \u001b[0mchunksize\u001b[0m \u001b[0;32mor\u001b[0m \u001b[0miterator\u001b[0m\u001b[0;34m:\u001b[0m\u001b[0;34m\u001b[0m\u001b[0;34m\u001b[0m\u001b[0m\n",
            "\u001b[0;32m/usr/local/lib/python3.8/dist-packages/pandas/io/parsers/readers.py\u001b[0m in \u001b[0;36m__init__\u001b[0;34m(self, f, engine, **kwds)\u001b[0m\n\u001b[1;32m    809\u001b[0m             \u001b[0mself\u001b[0m\u001b[0;34m.\u001b[0m\u001b[0moptions\u001b[0m\u001b[0;34m[\u001b[0m\u001b[0;34m\"has_index_names\"\u001b[0m\u001b[0;34m]\u001b[0m \u001b[0;34m=\u001b[0m \u001b[0mkwds\u001b[0m\u001b[0;34m[\u001b[0m\u001b[0;34m\"has_index_names\"\u001b[0m\u001b[0;34m]\u001b[0m\u001b[0;34m\u001b[0m\u001b[0;34m\u001b[0m\u001b[0m\n\u001b[1;32m    810\u001b[0m \u001b[0;34m\u001b[0m\u001b[0m\n\u001b[0;32m--> 811\u001b[0;31m         \u001b[0mself\u001b[0m\u001b[0;34m.\u001b[0m\u001b[0m_engine\u001b[0m \u001b[0;34m=\u001b[0m \u001b[0mself\u001b[0m\u001b[0;34m.\u001b[0m\u001b[0m_make_engine\u001b[0m\u001b[0;34m(\u001b[0m\u001b[0mself\u001b[0m\u001b[0;34m.\u001b[0m\u001b[0mengine\u001b[0m\u001b[0;34m)\u001b[0m\u001b[0;34m\u001b[0m\u001b[0;34m\u001b[0m\u001b[0m\n\u001b[0m\u001b[1;32m    812\u001b[0m \u001b[0;34m\u001b[0m\u001b[0m\n\u001b[1;32m    813\u001b[0m     \u001b[0;32mdef\u001b[0m \u001b[0mclose\u001b[0m\u001b[0;34m(\u001b[0m\u001b[0mself\u001b[0m\u001b[0;34m)\u001b[0m\u001b[0;34m:\u001b[0m\u001b[0;34m\u001b[0m\u001b[0;34m\u001b[0m\u001b[0m\n",
            "\u001b[0;32m/usr/local/lib/python3.8/dist-packages/pandas/io/parsers/readers.py\u001b[0m in \u001b[0;36m_make_engine\u001b[0;34m(self, engine)\u001b[0m\n\u001b[1;32m   1038\u001b[0m             )\n\u001b[1;32m   1039\u001b[0m         \u001b[0;31m# error: Too many arguments for \"ParserBase\"\u001b[0m\u001b[0;34m\u001b[0m\u001b[0;34m\u001b[0m\u001b[0;34m\u001b[0m\u001b[0m\n\u001b[0;32m-> 1040\u001b[0;31m         \u001b[0;32mreturn\u001b[0m \u001b[0mmapping\u001b[0m\u001b[0;34m[\u001b[0m\u001b[0mengine\u001b[0m\u001b[0;34m]\u001b[0m\u001b[0;34m(\u001b[0m\u001b[0mself\u001b[0m\u001b[0;34m.\u001b[0m\u001b[0mf\u001b[0m\u001b[0;34m,\u001b[0m \u001b[0;34m**\u001b[0m\u001b[0mself\u001b[0m\u001b[0;34m.\u001b[0m\u001b[0moptions\u001b[0m\u001b[0;34m)\u001b[0m  \u001b[0;31m# type: ignore[call-arg]\u001b[0m\u001b[0;34m\u001b[0m\u001b[0;34m\u001b[0m\u001b[0m\n\u001b[0m\u001b[1;32m   1041\u001b[0m \u001b[0;34m\u001b[0m\u001b[0m\n\u001b[1;32m   1042\u001b[0m     \u001b[0;32mdef\u001b[0m \u001b[0m_failover_to_python\u001b[0m\u001b[0;34m(\u001b[0m\u001b[0mself\u001b[0m\u001b[0;34m)\u001b[0m\u001b[0;34m:\u001b[0m\u001b[0;34m\u001b[0m\u001b[0;34m\u001b[0m\u001b[0m\n",
            "\u001b[0;32m/usr/local/lib/python3.8/dist-packages/pandas/io/parsers/c_parser_wrapper.py\u001b[0m in \u001b[0;36m__init__\u001b[0;34m(self, src, **kwds)\u001b[0m\n\u001b[1;32m     49\u001b[0m \u001b[0;34m\u001b[0m\u001b[0m\n\u001b[1;32m     50\u001b[0m         \u001b[0;31m# open handles\u001b[0m\u001b[0;34m\u001b[0m\u001b[0;34m\u001b[0m\u001b[0;34m\u001b[0m\u001b[0m\n\u001b[0;32m---> 51\u001b[0;31m         \u001b[0mself\u001b[0m\u001b[0;34m.\u001b[0m\u001b[0m_open_handles\u001b[0m\u001b[0;34m(\u001b[0m\u001b[0msrc\u001b[0m\u001b[0;34m,\u001b[0m \u001b[0mkwds\u001b[0m\u001b[0;34m)\u001b[0m\u001b[0;34m\u001b[0m\u001b[0;34m\u001b[0m\u001b[0m\n\u001b[0m\u001b[1;32m     52\u001b[0m         \u001b[0;32massert\u001b[0m \u001b[0mself\u001b[0m\u001b[0;34m.\u001b[0m\u001b[0mhandles\u001b[0m \u001b[0;32mis\u001b[0m \u001b[0;32mnot\u001b[0m \u001b[0;32mNone\u001b[0m\u001b[0;34m\u001b[0m\u001b[0;34m\u001b[0m\u001b[0m\n\u001b[1;32m     53\u001b[0m \u001b[0;34m\u001b[0m\u001b[0m\n",
            "\u001b[0;32m/usr/local/lib/python3.8/dist-packages/pandas/io/parsers/base_parser.py\u001b[0m in \u001b[0;36m_open_handles\u001b[0;34m(self, src, kwds)\u001b[0m\n\u001b[1;32m    220\u001b[0m         \u001b[0mLet\u001b[0m \u001b[0mthe\u001b[0m \u001b[0mreaders\u001b[0m \u001b[0mopen\u001b[0m \u001b[0mIOHandles\u001b[0m \u001b[0mafter\u001b[0m \u001b[0mthey\u001b[0m \u001b[0mare\u001b[0m \u001b[0mdone\u001b[0m \u001b[0;32mwith\u001b[0m \u001b[0mtheir\u001b[0m \u001b[0mpotential\u001b[0m \u001b[0mraises\u001b[0m\u001b[0;34m.\u001b[0m\u001b[0;34m\u001b[0m\u001b[0;34m\u001b[0m\u001b[0m\n\u001b[1;32m    221\u001b[0m         \"\"\"\n\u001b[0;32m--> 222\u001b[0;31m         self.handles = get_handle(\n\u001b[0m\u001b[1;32m    223\u001b[0m             \u001b[0msrc\u001b[0m\u001b[0;34m,\u001b[0m\u001b[0;34m\u001b[0m\u001b[0;34m\u001b[0m\u001b[0m\n\u001b[1;32m    224\u001b[0m             \u001b[0;34m\"r\"\u001b[0m\u001b[0;34m,\u001b[0m\u001b[0;34m\u001b[0m\u001b[0;34m\u001b[0m\u001b[0m\n",
            "\u001b[0;32m/usr/local/lib/python3.8/dist-packages/pandas/io/common.py\u001b[0m in \u001b[0;36mget_handle\u001b[0;34m(path_or_buf, mode, encoding, compression, memory_map, is_text, errors, storage_options)\u001b[0m\n\u001b[1;32m    607\u001b[0m \u001b[0;34m\u001b[0m\u001b[0m\n\u001b[1;32m    608\u001b[0m     \u001b[0;31m# open URLs\u001b[0m\u001b[0;34m\u001b[0m\u001b[0;34m\u001b[0m\u001b[0;34m\u001b[0m\u001b[0m\n\u001b[0;32m--> 609\u001b[0;31m     ioargs = _get_filepath_or_buffer(\n\u001b[0m\u001b[1;32m    610\u001b[0m         \u001b[0mpath_or_buf\u001b[0m\u001b[0;34m,\u001b[0m\u001b[0;34m\u001b[0m\u001b[0;34m\u001b[0m\u001b[0m\n\u001b[1;32m    611\u001b[0m         \u001b[0mencoding\u001b[0m\u001b[0;34m=\u001b[0m\u001b[0mencoding\u001b[0m\u001b[0;34m,\u001b[0m\u001b[0;34m\u001b[0m\u001b[0;34m\u001b[0m\u001b[0m\n",
            "\u001b[0;32m/usr/local/lib/python3.8/dist-packages/pandas/io/common.py\u001b[0m in \u001b[0;36m_get_filepath_or_buffer\u001b[0;34m(filepath_or_buffer, encoding, compression, mode, storage_options)\u001b[0m\n\u001b[1;32m    310\u001b[0m         \u001b[0;31m# assuming storage_options is to be interpreted as headers\u001b[0m\u001b[0;34m\u001b[0m\u001b[0;34m\u001b[0m\u001b[0;34m\u001b[0m\u001b[0m\n\u001b[1;32m    311\u001b[0m         \u001b[0mreq_info\u001b[0m \u001b[0;34m=\u001b[0m \u001b[0murllib\u001b[0m\u001b[0;34m.\u001b[0m\u001b[0mrequest\u001b[0m\u001b[0;34m.\u001b[0m\u001b[0mRequest\u001b[0m\u001b[0;34m(\u001b[0m\u001b[0mfilepath_or_buffer\u001b[0m\u001b[0;34m,\u001b[0m \u001b[0mheaders\u001b[0m\u001b[0;34m=\u001b[0m\u001b[0mstorage_options\u001b[0m\u001b[0;34m)\u001b[0m\u001b[0;34m\u001b[0m\u001b[0;34m\u001b[0m\u001b[0m\n\u001b[0;32m--> 312\u001b[0;31m         \u001b[0;32mwith\u001b[0m \u001b[0murlopen\u001b[0m\u001b[0;34m(\u001b[0m\u001b[0mreq_info\u001b[0m\u001b[0;34m)\u001b[0m \u001b[0;32mas\u001b[0m \u001b[0mreq\u001b[0m\u001b[0;34m:\u001b[0m\u001b[0;34m\u001b[0m\u001b[0;34m\u001b[0m\u001b[0m\n\u001b[0m\u001b[1;32m    313\u001b[0m             \u001b[0mcontent_encoding\u001b[0m \u001b[0;34m=\u001b[0m \u001b[0mreq\u001b[0m\u001b[0;34m.\u001b[0m\u001b[0mheaders\u001b[0m\u001b[0;34m.\u001b[0m\u001b[0mget\u001b[0m\u001b[0;34m(\u001b[0m\u001b[0;34m\"Content-Encoding\"\u001b[0m\u001b[0;34m,\u001b[0m \u001b[0;32mNone\u001b[0m\u001b[0;34m)\u001b[0m\u001b[0;34m\u001b[0m\u001b[0;34m\u001b[0m\u001b[0m\n\u001b[1;32m    314\u001b[0m             \u001b[0;32mif\u001b[0m \u001b[0mcontent_encoding\u001b[0m \u001b[0;34m==\u001b[0m \u001b[0;34m\"gzip\"\u001b[0m\u001b[0;34m:\u001b[0m\u001b[0;34m\u001b[0m\u001b[0;34m\u001b[0m\u001b[0m\n",
            "\u001b[0;32m/usr/local/lib/python3.8/dist-packages/pandas/io/common.py\u001b[0m in \u001b[0;36murlopen\u001b[0;34m(*args, **kwargs)\u001b[0m\n\u001b[1;32m    210\u001b[0m     \u001b[0;32mimport\u001b[0m \u001b[0murllib\u001b[0m\u001b[0;34m.\u001b[0m\u001b[0mrequest\u001b[0m\u001b[0;34m\u001b[0m\u001b[0;34m\u001b[0m\u001b[0m\n\u001b[1;32m    211\u001b[0m \u001b[0;34m\u001b[0m\u001b[0m\n\u001b[0;32m--> 212\u001b[0;31m     \u001b[0;32mreturn\u001b[0m \u001b[0murllib\u001b[0m\u001b[0;34m.\u001b[0m\u001b[0mrequest\u001b[0m\u001b[0;34m.\u001b[0m\u001b[0murlopen\u001b[0m\u001b[0;34m(\u001b[0m\u001b[0;34m*\u001b[0m\u001b[0margs\u001b[0m\u001b[0;34m,\u001b[0m \u001b[0;34m**\u001b[0m\u001b[0mkwargs\u001b[0m\u001b[0;34m)\u001b[0m\u001b[0;34m\u001b[0m\u001b[0;34m\u001b[0m\u001b[0m\n\u001b[0m\u001b[1;32m    213\u001b[0m \u001b[0;34m\u001b[0m\u001b[0m\n\u001b[1;32m    214\u001b[0m \u001b[0;34m\u001b[0m\u001b[0m\n",
            "\u001b[0;32m/usr/lib/python3.8/urllib/request.py\u001b[0m in \u001b[0;36murlopen\u001b[0;34m(url, data, timeout, cafile, capath, cadefault, context)\u001b[0m\n\u001b[1;32m    220\u001b[0m     \u001b[0;32melse\u001b[0m\u001b[0;34m:\u001b[0m\u001b[0;34m\u001b[0m\u001b[0;34m\u001b[0m\u001b[0m\n\u001b[1;32m    221\u001b[0m         \u001b[0mopener\u001b[0m \u001b[0;34m=\u001b[0m \u001b[0m_opener\u001b[0m\u001b[0;34m\u001b[0m\u001b[0;34m\u001b[0m\u001b[0m\n\u001b[0;32m--> 222\u001b[0;31m     \u001b[0;32mreturn\u001b[0m \u001b[0mopener\u001b[0m\u001b[0;34m.\u001b[0m\u001b[0mopen\u001b[0m\u001b[0;34m(\u001b[0m\u001b[0murl\u001b[0m\u001b[0;34m,\u001b[0m \u001b[0mdata\u001b[0m\u001b[0;34m,\u001b[0m \u001b[0mtimeout\u001b[0m\u001b[0;34m)\u001b[0m\u001b[0;34m\u001b[0m\u001b[0;34m\u001b[0m\u001b[0m\n\u001b[0m\u001b[1;32m    223\u001b[0m \u001b[0;34m\u001b[0m\u001b[0m\n\u001b[1;32m    224\u001b[0m \u001b[0;32mdef\u001b[0m \u001b[0minstall_opener\u001b[0m\u001b[0;34m(\u001b[0m\u001b[0mopener\u001b[0m\u001b[0;34m)\u001b[0m\u001b[0;34m:\u001b[0m\u001b[0;34m\u001b[0m\u001b[0;34m\u001b[0m\u001b[0m\n",
            "\u001b[0;32m/usr/lib/python3.8/urllib/request.py\u001b[0m in \u001b[0;36mopen\u001b[0;34m(self, fullurl, data, timeout)\u001b[0m\n\u001b[1;32m    523\u001b[0m \u001b[0;34m\u001b[0m\u001b[0m\n\u001b[1;32m    524\u001b[0m         \u001b[0msys\u001b[0m\u001b[0;34m.\u001b[0m\u001b[0maudit\u001b[0m\u001b[0;34m(\u001b[0m\u001b[0;34m'urllib.Request'\u001b[0m\u001b[0;34m,\u001b[0m \u001b[0mreq\u001b[0m\u001b[0;34m.\u001b[0m\u001b[0mfull_url\u001b[0m\u001b[0;34m,\u001b[0m \u001b[0mreq\u001b[0m\u001b[0;34m.\u001b[0m\u001b[0mdata\u001b[0m\u001b[0;34m,\u001b[0m \u001b[0mreq\u001b[0m\u001b[0;34m.\u001b[0m\u001b[0mheaders\u001b[0m\u001b[0;34m,\u001b[0m \u001b[0mreq\u001b[0m\u001b[0;34m.\u001b[0m\u001b[0mget_method\u001b[0m\u001b[0;34m(\u001b[0m\u001b[0;34m)\u001b[0m\u001b[0;34m)\u001b[0m\u001b[0;34m\u001b[0m\u001b[0;34m\u001b[0m\u001b[0m\n\u001b[0;32m--> 525\u001b[0;31m         \u001b[0mresponse\u001b[0m \u001b[0;34m=\u001b[0m \u001b[0mself\u001b[0m\u001b[0;34m.\u001b[0m\u001b[0m_open\u001b[0m\u001b[0;34m(\u001b[0m\u001b[0mreq\u001b[0m\u001b[0;34m,\u001b[0m \u001b[0mdata\u001b[0m\u001b[0;34m)\u001b[0m\u001b[0;34m\u001b[0m\u001b[0;34m\u001b[0m\u001b[0m\n\u001b[0m\u001b[1;32m    526\u001b[0m \u001b[0;34m\u001b[0m\u001b[0m\n\u001b[1;32m    527\u001b[0m         \u001b[0;31m# post-process response\u001b[0m\u001b[0;34m\u001b[0m\u001b[0;34m\u001b[0m\u001b[0;34m\u001b[0m\u001b[0m\n",
            "\u001b[0;32m/usr/lib/python3.8/urllib/request.py\u001b[0m in \u001b[0;36m_open\u001b[0;34m(self, req, data)\u001b[0m\n\u001b[1;32m    540\u001b[0m \u001b[0;34m\u001b[0m\u001b[0m\n\u001b[1;32m    541\u001b[0m         \u001b[0mprotocol\u001b[0m \u001b[0;34m=\u001b[0m \u001b[0mreq\u001b[0m\u001b[0;34m.\u001b[0m\u001b[0mtype\u001b[0m\u001b[0;34m\u001b[0m\u001b[0;34m\u001b[0m\u001b[0m\n\u001b[0;32m--> 542\u001b[0;31m         result = self._call_chain(self.handle_open, protocol, protocol +\n\u001b[0m\u001b[1;32m    543\u001b[0m                                   '_open', req)\n\u001b[1;32m    544\u001b[0m         \u001b[0;32mif\u001b[0m \u001b[0mresult\u001b[0m\u001b[0;34m:\u001b[0m\u001b[0;34m\u001b[0m\u001b[0;34m\u001b[0m\u001b[0m\n",
            "\u001b[0;32m/usr/lib/python3.8/urllib/request.py\u001b[0m in \u001b[0;36m_call_chain\u001b[0;34m(self, chain, kind, meth_name, *args)\u001b[0m\n\u001b[1;32m    500\u001b[0m         \u001b[0;32mfor\u001b[0m \u001b[0mhandler\u001b[0m \u001b[0;32min\u001b[0m \u001b[0mhandlers\u001b[0m\u001b[0;34m:\u001b[0m\u001b[0;34m\u001b[0m\u001b[0;34m\u001b[0m\u001b[0m\n\u001b[1;32m    501\u001b[0m             \u001b[0mfunc\u001b[0m \u001b[0;34m=\u001b[0m \u001b[0mgetattr\u001b[0m\u001b[0;34m(\u001b[0m\u001b[0mhandler\u001b[0m\u001b[0;34m,\u001b[0m \u001b[0mmeth_name\u001b[0m\u001b[0;34m)\u001b[0m\u001b[0;34m\u001b[0m\u001b[0;34m\u001b[0m\u001b[0m\n\u001b[0;32m--> 502\u001b[0;31m             \u001b[0mresult\u001b[0m \u001b[0;34m=\u001b[0m \u001b[0mfunc\u001b[0m\u001b[0;34m(\u001b[0m\u001b[0;34m*\u001b[0m\u001b[0margs\u001b[0m\u001b[0;34m)\u001b[0m\u001b[0;34m\u001b[0m\u001b[0;34m\u001b[0m\u001b[0m\n\u001b[0m\u001b[1;32m    503\u001b[0m             \u001b[0;32mif\u001b[0m \u001b[0mresult\u001b[0m \u001b[0;32mis\u001b[0m \u001b[0;32mnot\u001b[0m \u001b[0;32mNone\u001b[0m\u001b[0;34m:\u001b[0m\u001b[0;34m\u001b[0m\u001b[0;34m\u001b[0m\u001b[0m\n\u001b[1;32m    504\u001b[0m                 \u001b[0;32mreturn\u001b[0m \u001b[0mresult\u001b[0m\u001b[0;34m\u001b[0m\u001b[0;34m\u001b[0m\u001b[0m\n",
            "\u001b[0;32m/usr/lib/python3.8/urllib/request.py\u001b[0m in \u001b[0;36mhttps_open\u001b[0;34m(self, req)\u001b[0m\n\u001b[1;32m   1395\u001b[0m \u001b[0;34m\u001b[0m\u001b[0m\n\u001b[1;32m   1396\u001b[0m         \u001b[0;32mdef\u001b[0m \u001b[0mhttps_open\u001b[0m\u001b[0;34m(\u001b[0m\u001b[0mself\u001b[0m\u001b[0;34m,\u001b[0m \u001b[0mreq\u001b[0m\u001b[0;34m)\u001b[0m\u001b[0;34m:\u001b[0m\u001b[0;34m\u001b[0m\u001b[0;34m\u001b[0m\u001b[0m\n\u001b[0;32m-> 1397\u001b[0;31m             return self.do_open(http.client.HTTPSConnection, req,\n\u001b[0m\u001b[1;32m   1398\u001b[0m                 context=self._context, check_hostname=self._check_hostname)\n\u001b[1;32m   1399\u001b[0m \u001b[0;34m\u001b[0m\u001b[0m\n",
            "\u001b[0;32m/usr/lib/python3.8/urllib/request.py\u001b[0m in \u001b[0;36mdo_open\u001b[0;34m(self, http_class, req, **http_conn_args)\u001b[0m\n\u001b[1;32m   1355\u001b[0m                           encode_chunked=req.has_header('Transfer-encoding'))\n\u001b[1;32m   1356\u001b[0m             \u001b[0;32mexcept\u001b[0m \u001b[0mOSError\u001b[0m \u001b[0;32mas\u001b[0m \u001b[0merr\u001b[0m\u001b[0;34m:\u001b[0m \u001b[0;31m# timeout error\u001b[0m\u001b[0;34m\u001b[0m\u001b[0;34m\u001b[0m\u001b[0m\n\u001b[0;32m-> 1357\u001b[0;31m                 \u001b[0;32mraise\u001b[0m \u001b[0mURLError\u001b[0m\u001b[0;34m(\u001b[0m\u001b[0merr\u001b[0m\u001b[0;34m)\u001b[0m\u001b[0;34m\u001b[0m\u001b[0;34m\u001b[0m\u001b[0m\n\u001b[0m\u001b[1;32m   1358\u001b[0m             \u001b[0mr\u001b[0m \u001b[0;34m=\u001b[0m \u001b[0mh\u001b[0m\u001b[0;34m.\u001b[0m\u001b[0mgetresponse\u001b[0m\u001b[0;34m(\u001b[0m\u001b[0;34m)\u001b[0m\u001b[0;34m\u001b[0m\u001b[0;34m\u001b[0m\u001b[0m\n\u001b[1;32m   1359\u001b[0m         \u001b[0;32mexcept\u001b[0m\u001b[0;34m:\u001b[0m\u001b[0;34m\u001b[0m\u001b[0;34m\u001b[0m\u001b[0m\n",
            "\u001b[0;31mURLError\u001b[0m: <urlopen error [Errno 110] Connection timed out>"
          ]
        }
      ]
    },
    {
      "cell_type": "code",
      "source": [
        "df.head()"
      ],
      "metadata": {
        "colab": {
          "base_uri": "https://localhost:8080/",
          "height": 167
        },
        "id": "ThWhJusjWI4H",
        "outputId": "85f3f702-df9f-4885-a222-5db2ef0dd0de"
      },
      "execution_count": 151,
      "outputs": [
        {
          "output_type": "error",
          "ename": "NameError",
          "evalue": "ignored",
          "traceback": [
            "\u001b[0;31m---------------------------------------------------------------------------\u001b[0m",
            "\u001b[0;31mNameError\u001b[0m                                 Traceback (most recent call last)",
            "\u001b[0;32m<ipython-input-151-c42a15b2c7cf>\u001b[0m in \u001b[0;36m<module>\u001b[0;34m\u001b[0m\n\u001b[0;32m----> 1\u001b[0;31m \u001b[0mdf\u001b[0m\u001b[0;34m.\u001b[0m\u001b[0mhead\u001b[0m\u001b[0;34m(\u001b[0m\u001b[0;34m)\u001b[0m\u001b[0;34m\u001b[0m\u001b[0;34m\u001b[0m\u001b[0m\n\u001b[0m",
            "\u001b[0;31mNameError\u001b[0m: name 'df' is not defined"
          ]
        }
      ]
    },
    {
      "cell_type": "markdown",
      "source": [
        "### 將 DataFrame 轉存成不同格式"
      ],
      "metadata": {
        "id": "c5fRNj78WNP7"
      }
    },
    {
      "cell_type": "code",
      "source": [
        "df.to_excel('實價登錄資料.xlsx')"
      ],
      "metadata": {
        "id": "VWMLDGvJWLKz"
      },
      "execution_count": null,
      "outputs": []
    },
    {
      "cell_type": "code",
      "source": [
        "df.head(100).to_html('實價登錄前一百筆資料.html')"
      ],
      "metadata": {
        "id": "wfGT6MNVWSbx"
      },
      "execution_count": null,
      "outputs": []
    },
    {
      "cell_type": "code",
      "source": [
        "df.head(100).to_json('實價登錄前一百筆資料.json')"
      ],
      "metadata": {
        "id": "iwhuetyRWTFH"
      },
      "execution_count": null,
      "outputs": []
    },
    {
      "cell_type": "markdown",
      "source": [
        "## 檔案的IO\n"
      ],
      "metadata": {
        "id": "iJI3Z6t7YuXf"
      }
    },
    {
      "cell_type": "markdown",
      "source": [
        "### 文字檔\n"
      ],
      "metadata": {
        "id": "jqTWYZ3OYyUG"
      }
    },
    {
      "cell_type": "markdown",
      "source": [
        "一般作法:\n",
        "```python\n",
        "f = open('test.txt', 'w')\n",
        "f.write(data)\n",
        "f.close()\n",
        "```"
      ],
      "metadata": {
        "id": "EChy7WuFZgm_"
      }
    },
    {
      "cell_type": "markdown",
      "source": [
        "替代性作法：\n",
        "```python\n",
        "with open('test.txt', 'w') as f:\n",
        "  f.write(data)\n",
        "```"
      ],
      "metadata": {
        "id": "pQfZs5fKZjrR"
      }
    },
    {
      "cell_type": "code",
      "source": [
        "open?"
      ],
      "metadata": {
        "id": "kPgrBW0WaBcF"
      },
      "execution_count": 152,
      "outputs": []
    },
    {
      "cell_type": "markdown",
      "source": [
        "### 二進位檔(Binary Files)\n",
        "譬如：圖片, excel檔等"
      ],
      "metadata": {
        "id": "ObhU1ShPY1JO"
      }
    },
    {
      "cell_type": "markdown",
      "source": [
        "一般作法:\n",
        "```python\n",
        "f = open('test.jpg', 'wb')\n",
        "f.write(data)\n",
        "f.close()\n",
        "```"
      ],
      "metadata": {
        "id": "os1KYxJvZfjd"
      }
    },
    {
      "cell_type": "markdown",
      "source": [
        "替代性作法：\n",
        "```python\n",
        "with open('test.jpg', 'wb') as f:\n",
        "  f.write(data)\n",
        "```"
      ],
      "metadata": {
        "id": "1T8ju9B6aou7"
      }
    },
    {
      "cell_type": "markdown",
      "source": [
        "##抓取網頁原始碼並儲存成文字"
      ],
      "metadata": {
        "id": "G-uX0-gmav8N"
      }
    },
    {
      "cell_type": "code",
      "source": [
        "url = \"https://victorgau.github.io/khpy_web_intro/html_only.html\""
      ],
      "metadata": {
        "id": "ZCLaun-Fasfq"
      },
      "execution_count": 153,
      "outputs": []
    },
    {
      "cell_type": "code",
      "source": [
        "r = requests.get(url)"
      ],
      "metadata": {
        "id": "iNW7-Vd_a7vV"
      },
      "execution_count": 154,
      "outputs": []
    },
    {
      "cell_type": "code",
      "source": [
        "with open('index.html', 'w') as f:\n",
        "  f.write(r.text)"
      ],
      "metadata": {
        "id": "YitaQmcOa8vb"
      },
      "execution_count": 156,
      "outputs": []
    },
    {
      "cell_type": "markdown",
      "source": [
        "## 抓取圖片並存成圖片檔"
      ],
      "metadata": {
        "id": "FE2lqWtbbT3k"
      }
    },
    {
      "cell_type": "code",
      "source": [
        "url = \"https://victorgau.github.io/khpy_web_intro/ninja.jpg\""
      ],
      "metadata": {
        "id": "9hyVtGLqbQCT"
      },
      "execution_count": 157,
      "outputs": []
    },
    {
      "cell_type": "code",
      "source": [
        "r = requests.get(url)"
      ],
      "metadata": {
        "id": "zw1-tq0ebdik"
      },
      "execution_count": 158,
      "outputs": []
    },
    {
      "cell_type": "code",
      "source": [
        "with open('ninja.jpg', 'wb') as f:\n",
        "  f.write(r.content)"
      ],
      "metadata": {
        "id": "M6jOtDDjbgTq"
      },
      "execution_count": 160,
      "outputs": []
    },
    {
      "cell_type": "markdown",
      "source": [
        "## 練習 Pandas 的使用"
      ],
      "metadata": {
        "id": "e6Q2QFOziFB1"
      }
    },
    {
      "cell_type": "code",
      "source": [
        "import numpy as np\n",
        "import pandas as pd"
      ],
      "metadata": {
        "id": "SOsr-jUwbhsy"
      },
      "execution_count": 169,
      "outputs": []
    },
    {
      "cell_type": "code",
      "source": [
        "grades = np.random.randint(30, 101, (10,4))"
      ],
      "metadata": {
        "id": "iQQ4DzKbiUpg"
      },
      "execution_count": 172,
      "outputs": []
    },
    {
      "cell_type": "code",
      "source": [
        "grades"
      ],
      "metadata": {
        "id": "dDBLKeNDihgi",
        "outputId": "cf7b7abd-2018-444f-80d6-84308f63f4e4",
        "colab": {
          "base_uri": "https://localhost:8080/"
        }
      },
      "execution_count": 173,
      "outputs": [
        {
          "output_type": "execute_result",
          "data": {
            "text/plain": [
              "array([[94, 33, 90, 65],\n",
              "       [38, 33, 32, 73],\n",
              "       [52, 94, 51, 59],\n",
              "       [59, 49, 99, 83],\n",
              "       [33, 71, 89, 47],\n",
              "       [84, 62, 40, 32],\n",
              "       [48, 64, 47, 52],\n",
              "       [48, 50, 81, 97],\n",
              "       [41, 71, 58, 34],\n",
              "       [79, 95, 43, 49]])"
            ]
          },
          "metadata": {},
          "execution_count": 173
        }
      ]
    },
    {
      "cell_type": "code",
      "source": [
        "df = pd.DataFrame(grades)"
      ],
      "metadata": {
        "id": "kppANzH7i1m8"
      },
      "execution_count": 176,
      "outputs": []
    },
    {
      "cell_type": "code",
      "source": [
        "df"
      ],
      "metadata": {
        "id": "Ucu9b6B4i-6y",
        "outputId": "70a1bbbb-ead1-4bf1-cac1-48a484524213",
        "colab": {
          "base_uri": "https://localhost:8080/",
          "height": 363
        }
      },
      "execution_count": 177,
      "outputs": [
        {
          "output_type": "execute_result",
          "data": {
            "text/plain": [
              "    0   1   2   3\n",
              "0  94  33  90  65\n",
              "1  38  33  32  73\n",
              "2  52  94  51  59\n",
              "3  59  49  99  83\n",
              "4  33  71  89  47\n",
              "5  84  62  40  32\n",
              "6  48  64  47  52\n",
              "7  48  50  81  97\n",
              "8  41  71  58  34\n",
              "9  79  95  43  49"
            ],
            "text/html": [
              "\n",
              "  <div id=\"df-43b60a06-30af-4134-ab18-76eeb46ee34f\">\n",
              "    <div class=\"colab-df-container\">\n",
              "      <div>\n",
              "<style scoped>\n",
              "    .dataframe tbody tr th:only-of-type {\n",
              "        vertical-align: middle;\n",
              "    }\n",
              "\n",
              "    .dataframe tbody tr th {\n",
              "        vertical-align: top;\n",
              "    }\n",
              "\n",
              "    .dataframe thead th {\n",
              "        text-align: right;\n",
              "    }\n",
              "</style>\n",
              "<table border=\"1\" class=\"dataframe\">\n",
              "  <thead>\n",
              "    <tr style=\"text-align: right;\">\n",
              "      <th></th>\n",
              "      <th>0</th>\n",
              "      <th>1</th>\n",
              "      <th>2</th>\n",
              "      <th>3</th>\n",
              "    </tr>\n",
              "  </thead>\n",
              "  <tbody>\n",
              "    <tr>\n",
              "      <th>0</th>\n",
              "      <td>94</td>\n",
              "      <td>33</td>\n",
              "      <td>90</td>\n",
              "      <td>65</td>\n",
              "    </tr>\n",
              "    <tr>\n",
              "      <th>1</th>\n",
              "      <td>38</td>\n",
              "      <td>33</td>\n",
              "      <td>32</td>\n",
              "      <td>73</td>\n",
              "    </tr>\n",
              "    <tr>\n",
              "      <th>2</th>\n",
              "      <td>52</td>\n",
              "      <td>94</td>\n",
              "      <td>51</td>\n",
              "      <td>59</td>\n",
              "    </tr>\n",
              "    <tr>\n",
              "      <th>3</th>\n",
              "      <td>59</td>\n",
              "      <td>49</td>\n",
              "      <td>99</td>\n",
              "      <td>83</td>\n",
              "    </tr>\n",
              "    <tr>\n",
              "      <th>4</th>\n",
              "      <td>33</td>\n",
              "      <td>71</td>\n",
              "      <td>89</td>\n",
              "      <td>47</td>\n",
              "    </tr>\n",
              "    <tr>\n",
              "      <th>5</th>\n",
              "      <td>84</td>\n",
              "      <td>62</td>\n",
              "      <td>40</td>\n",
              "      <td>32</td>\n",
              "    </tr>\n",
              "    <tr>\n",
              "      <th>6</th>\n",
              "      <td>48</td>\n",
              "      <td>64</td>\n",
              "      <td>47</td>\n",
              "      <td>52</td>\n",
              "    </tr>\n",
              "    <tr>\n",
              "      <th>7</th>\n",
              "      <td>48</td>\n",
              "      <td>50</td>\n",
              "      <td>81</td>\n",
              "      <td>97</td>\n",
              "    </tr>\n",
              "    <tr>\n",
              "      <th>8</th>\n",
              "      <td>41</td>\n",
              "      <td>71</td>\n",
              "      <td>58</td>\n",
              "      <td>34</td>\n",
              "    </tr>\n",
              "    <tr>\n",
              "      <th>9</th>\n",
              "      <td>79</td>\n",
              "      <td>95</td>\n",
              "      <td>43</td>\n",
              "      <td>49</td>\n",
              "    </tr>\n",
              "  </tbody>\n",
              "</table>\n",
              "</div>\n",
              "      <button class=\"colab-df-convert\" onclick=\"convertToInteractive('df-43b60a06-30af-4134-ab18-76eeb46ee34f')\"\n",
              "              title=\"Convert this dataframe to an interactive table.\"\n",
              "              style=\"display:none;\">\n",
              "        \n",
              "  <svg xmlns=\"http://www.w3.org/2000/svg\" height=\"24px\"viewBox=\"0 0 24 24\"\n",
              "       width=\"24px\">\n",
              "    <path d=\"M0 0h24v24H0V0z\" fill=\"none\"/>\n",
              "    <path d=\"M18.56 5.44l.94 2.06.94-2.06 2.06-.94-2.06-.94-.94-2.06-.94 2.06-2.06.94zm-11 1L8.5 8.5l.94-2.06 2.06-.94-2.06-.94L8.5 2.5l-.94 2.06-2.06.94zm10 10l.94 2.06.94-2.06 2.06-.94-2.06-.94-.94-2.06-.94 2.06-2.06.94z\"/><path d=\"M17.41 7.96l-1.37-1.37c-.4-.4-.92-.59-1.43-.59-.52 0-1.04.2-1.43.59L10.3 9.45l-7.72 7.72c-.78.78-.78 2.05 0 2.83L4 21.41c.39.39.9.59 1.41.59.51 0 1.02-.2 1.41-.59l7.78-7.78 2.81-2.81c.8-.78.8-2.07 0-2.86zM5.41 20L4 18.59l7.72-7.72 1.47 1.35L5.41 20z\"/>\n",
              "  </svg>\n",
              "      </button>\n",
              "      \n",
              "  <style>\n",
              "    .colab-df-container {\n",
              "      display:flex;\n",
              "      flex-wrap:wrap;\n",
              "      gap: 12px;\n",
              "    }\n",
              "\n",
              "    .colab-df-convert {\n",
              "      background-color: #E8F0FE;\n",
              "      border: none;\n",
              "      border-radius: 50%;\n",
              "      cursor: pointer;\n",
              "      display: none;\n",
              "      fill: #1967D2;\n",
              "      height: 32px;\n",
              "      padding: 0 0 0 0;\n",
              "      width: 32px;\n",
              "    }\n",
              "\n",
              "    .colab-df-convert:hover {\n",
              "      background-color: #E2EBFA;\n",
              "      box-shadow: 0px 1px 2px rgba(60, 64, 67, 0.3), 0px 1px 3px 1px rgba(60, 64, 67, 0.15);\n",
              "      fill: #174EA6;\n",
              "    }\n",
              "\n",
              "    [theme=dark] .colab-df-convert {\n",
              "      background-color: #3B4455;\n",
              "      fill: #D2E3FC;\n",
              "    }\n",
              "\n",
              "    [theme=dark] .colab-df-convert:hover {\n",
              "      background-color: #434B5C;\n",
              "      box-shadow: 0px 1px 3px 1px rgba(0, 0, 0, 0.15);\n",
              "      filter: drop-shadow(0px 1px 2px rgba(0, 0, 0, 0.3));\n",
              "      fill: #FFFFFF;\n",
              "    }\n",
              "  </style>\n",
              "\n",
              "      <script>\n",
              "        const buttonEl =\n",
              "          document.querySelector('#df-43b60a06-30af-4134-ab18-76eeb46ee34f button.colab-df-convert');\n",
              "        buttonEl.style.display =\n",
              "          google.colab.kernel.accessAllowed ? 'block' : 'none';\n",
              "\n",
              "        async function convertToInteractive(key) {\n",
              "          const element = document.querySelector('#df-43b60a06-30af-4134-ab18-76eeb46ee34f');\n",
              "          const dataTable =\n",
              "            await google.colab.kernel.invokeFunction('convertToInteractive',\n",
              "                                                     [key], {});\n",
              "          if (!dataTable) return;\n",
              "\n",
              "          const docLinkHtml = 'Like what you see? Visit the ' +\n",
              "            '<a target=\"_blank\" href=https://colab.research.google.com/notebooks/data_table.ipynb>data table notebook</a>'\n",
              "            + ' to learn more about interactive tables.';\n",
              "          element.innerHTML = '';\n",
              "          dataTable['output_type'] = 'display_data';\n",
              "          await google.colab.output.renderOutput(dataTable, element);\n",
              "          const docLink = document.createElement('div');\n",
              "          docLink.innerHTML = docLinkHtml;\n",
              "          element.appendChild(docLink);\n",
              "        }\n",
              "      </script>\n",
              "    </div>\n",
              "  </div>\n",
              "  "
            ]
          },
          "metadata": {},
          "execution_count": 177
        }
      ]
    },
    {
      "cell_type": "code",
      "source": [
        "df.columns = ['國文', '英文', '數學', '理化']"
      ],
      "metadata": {
        "id": "splD9PhajOHf"
      },
      "execution_count": 178,
      "outputs": []
    },
    {
      "cell_type": "code",
      "source": [
        "df"
      ],
      "metadata": {
        "id": "oa40kVUvjiix",
        "outputId": "9e0a8346-9bad-4bd0-b8fc-20d49add4287",
        "colab": {
          "base_uri": "https://localhost:8080/",
          "height": 363
        }
      },
      "execution_count": 179,
      "outputs": [
        {
          "output_type": "execute_result",
          "data": {
            "text/plain": [
              "   國文  英文  數學  理化\n",
              "0  94  33  90  65\n",
              "1  38  33  32  73\n",
              "2  52  94  51  59\n",
              "3  59  49  99  83\n",
              "4  33  71  89  47\n",
              "5  84  62  40  32\n",
              "6  48  64  47  52\n",
              "7  48  50  81  97\n",
              "8  41  71  58  34\n",
              "9  79  95  43  49"
            ],
            "text/html": [
              "\n",
              "  <div id=\"df-31eeb347-7e76-4860-98cb-ef4f95481503\">\n",
              "    <div class=\"colab-df-container\">\n",
              "      <div>\n",
              "<style scoped>\n",
              "    .dataframe tbody tr th:only-of-type {\n",
              "        vertical-align: middle;\n",
              "    }\n",
              "\n",
              "    .dataframe tbody tr th {\n",
              "        vertical-align: top;\n",
              "    }\n",
              "\n",
              "    .dataframe thead th {\n",
              "        text-align: right;\n",
              "    }\n",
              "</style>\n",
              "<table border=\"1\" class=\"dataframe\">\n",
              "  <thead>\n",
              "    <tr style=\"text-align: right;\">\n",
              "      <th></th>\n",
              "      <th>國文</th>\n",
              "      <th>英文</th>\n",
              "      <th>數學</th>\n",
              "      <th>理化</th>\n",
              "    </tr>\n",
              "  </thead>\n",
              "  <tbody>\n",
              "    <tr>\n",
              "      <th>0</th>\n",
              "      <td>94</td>\n",
              "      <td>33</td>\n",
              "      <td>90</td>\n",
              "      <td>65</td>\n",
              "    </tr>\n",
              "    <tr>\n",
              "      <th>1</th>\n",
              "      <td>38</td>\n",
              "      <td>33</td>\n",
              "      <td>32</td>\n",
              "      <td>73</td>\n",
              "    </tr>\n",
              "    <tr>\n",
              "      <th>2</th>\n",
              "      <td>52</td>\n",
              "      <td>94</td>\n",
              "      <td>51</td>\n",
              "      <td>59</td>\n",
              "    </tr>\n",
              "    <tr>\n",
              "      <th>3</th>\n",
              "      <td>59</td>\n",
              "      <td>49</td>\n",
              "      <td>99</td>\n",
              "      <td>83</td>\n",
              "    </tr>\n",
              "    <tr>\n",
              "      <th>4</th>\n",
              "      <td>33</td>\n",
              "      <td>71</td>\n",
              "      <td>89</td>\n",
              "      <td>47</td>\n",
              "    </tr>\n",
              "    <tr>\n",
              "      <th>5</th>\n",
              "      <td>84</td>\n",
              "      <td>62</td>\n",
              "      <td>40</td>\n",
              "      <td>32</td>\n",
              "    </tr>\n",
              "    <tr>\n",
              "      <th>6</th>\n",
              "      <td>48</td>\n",
              "      <td>64</td>\n",
              "      <td>47</td>\n",
              "      <td>52</td>\n",
              "    </tr>\n",
              "    <tr>\n",
              "      <th>7</th>\n",
              "      <td>48</td>\n",
              "      <td>50</td>\n",
              "      <td>81</td>\n",
              "      <td>97</td>\n",
              "    </tr>\n",
              "    <tr>\n",
              "      <th>8</th>\n",
              "      <td>41</td>\n",
              "      <td>71</td>\n",
              "      <td>58</td>\n",
              "      <td>34</td>\n",
              "    </tr>\n",
              "    <tr>\n",
              "      <th>9</th>\n",
              "      <td>79</td>\n",
              "      <td>95</td>\n",
              "      <td>43</td>\n",
              "      <td>49</td>\n",
              "    </tr>\n",
              "  </tbody>\n",
              "</table>\n",
              "</div>\n",
              "      <button class=\"colab-df-convert\" onclick=\"convertToInteractive('df-31eeb347-7e76-4860-98cb-ef4f95481503')\"\n",
              "              title=\"Convert this dataframe to an interactive table.\"\n",
              "              style=\"display:none;\">\n",
              "        \n",
              "  <svg xmlns=\"http://www.w3.org/2000/svg\" height=\"24px\"viewBox=\"0 0 24 24\"\n",
              "       width=\"24px\">\n",
              "    <path d=\"M0 0h24v24H0V0z\" fill=\"none\"/>\n",
              "    <path d=\"M18.56 5.44l.94 2.06.94-2.06 2.06-.94-2.06-.94-.94-2.06-.94 2.06-2.06.94zm-11 1L8.5 8.5l.94-2.06 2.06-.94-2.06-.94L8.5 2.5l-.94 2.06-2.06.94zm10 10l.94 2.06.94-2.06 2.06-.94-2.06-.94-.94-2.06-.94 2.06-2.06.94z\"/><path d=\"M17.41 7.96l-1.37-1.37c-.4-.4-.92-.59-1.43-.59-.52 0-1.04.2-1.43.59L10.3 9.45l-7.72 7.72c-.78.78-.78 2.05 0 2.83L4 21.41c.39.39.9.59 1.41.59.51 0 1.02-.2 1.41-.59l7.78-7.78 2.81-2.81c.8-.78.8-2.07 0-2.86zM5.41 20L4 18.59l7.72-7.72 1.47 1.35L5.41 20z\"/>\n",
              "  </svg>\n",
              "      </button>\n",
              "      \n",
              "  <style>\n",
              "    .colab-df-container {\n",
              "      display:flex;\n",
              "      flex-wrap:wrap;\n",
              "      gap: 12px;\n",
              "    }\n",
              "\n",
              "    .colab-df-convert {\n",
              "      background-color: #E8F0FE;\n",
              "      border: none;\n",
              "      border-radius: 50%;\n",
              "      cursor: pointer;\n",
              "      display: none;\n",
              "      fill: #1967D2;\n",
              "      height: 32px;\n",
              "      padding: 0 0 0 0;\n",
              "      width: 32px;\n",
              "    }\n",
              "\n",
              "    .colab-df-convert:hover {\n",
              "      background-color: #E2EBFA;\n",
              "      box-shadow: 0px 1px 2px rgba(60, 64, 67, 0.3), 0px 1px 3px 1px rgba(60, 64, 67, 0.15);\n",
              "      fill: #174EA6;\n",
              "    }\n",
              "\n",
              "    [theme=dark] .colab-df-convert {\n",
              "      background-color: #3B4455;\n",
              "      fill: #D2E3FC;\n",
              "    }\n",
              "\n",
              "    [theme=dark] .colab-df-convert:hover {\n",
              "      background-color: #434B5C;\n",
              "      box-shadow: 0px 1px 3px 1px rgba(0, 0, 0, 0.15);\n",
              "      filter: drop-shadow(0px 1px 2px rgba(0, 0, 0, 0.3));\n",
              "      fill: #FFFFFF;\n",
              "    }\n",
              "  </style>\n",
              "\n",
              "      <script>\n",
              "        const buttonEl =\n",
              "          document.querySelector('#df-31eeb347-7e76-4860-98cb-ef4f95481503 button.colab-df-convert');\n",
              "        buttonEl.style.display =\n",
              "          google.colab.kernel.accessAllowed ? 'block' : 'none';\n",
              "\n",
              "        async function convertToInteractive(key) {\n",
              "          const element = document.querySelector('#df-31eeb347-7e76-4860-98cb-ef4f95481503');\n",
              "          const dataTable =\n",
              "            await google.colab.kernel.invokeFunction('convertToInteractive',\n",
              "                                                     [key], {});\n",
              "          if (!dataTable) return;\n",
              "\n",
              "          const docLinkHtml = 'Like what you see? Visit the ' +\n",
              "            '<a target=\"_blank\" href=https://colab.research.google.com/notebooks/data_table.ipynb>data table notebook</a>'\n",
              "            + ' to learn more about interactive tables.';\n",
              "          element.innerHTML = '';\n",
              "          dataTable['output_type'] = 'display_data';\n",
              "          await google.colab.output.renderOutput(dataTable, element);\n",
              "          const docLink = document.createElement('div');\n",
              "          docLink.innerHTML = docLinkHtml;\n",
              "          element.appendChild(docLink);\n",
              "        }\n",
              "      </script>\n",
              "    </div>\n",
              "  </div>\n",
              "  "
            ]
          },
          "metadata": {},
          "execution_count": 179
        }
      ]
    },
    {
      "cell_type": "code",
      "source": [
        "df.index = [\"ANNK\", \"CEEK\", \"BHHG\", \"EDSA\", \"DRES\", \"GDES\", \"REWS\", \"LKDE\", \"LWES\", \"HRED\"]"
      ],
      "metadata": {
        "id": "qhcfBG6Ujkco"
      },
      "execution_count": 180,
      "outputs": []
    },
    {
      "cell_type": "code",
      "source": [
        "df"
      ],
      "metadata": {
        "id": "1fcWIzVekEZ-",
        "outputId": "66bc7ac1-f24f-42a3-e9e0-cecc455883d1",
        "colab": {
          "base_uri": "https://localhost:8080/",
          "height": 363
        }
      },
      "execution_count": 181,
      "outputs": [
        {
          "output_type": "execute_result",
          "data": {
            "text/plain": [
              "      國文  英文  數學  理化\n",
              "ANNK  94  33  90  65\n",
              "CEEK  38  33  32  73\n",
              "BHHG  52  94  51  59\n",
              "EDSA  59  49  99  83\n",
              "DRES  33  71  89  47\n",
              "GDES  84  62  40  32\n",
              "REWS  48  64  47  52\n",
              "LKDE  48  50  81  97\n",
              "LWES  41  71  58  34\n",
              "HRED  79  95  43  49"
            ],
            "text/html": [
              "\n",
              "  <div id=\"df-2a7cfde8-2d6b-4b49-8883-50c792b283d8\">\n",
              "    <div class=\"colab-df-container\">\n",
              "      <div>\n",
              "<style scoped>\n",
              "    .dataframe tbody tr th:only-of-type {\n",
              "        vertical-align: middle;\n",
              "    }\n",
              "\n",
              "    .dataframe tbody tr th {\n",
              "        vertical-align: top;\n",
              "    }\n",
              "\n",
              "    .dataframe thead th {\n",
              "        text-align: right;\n",
              "    }\n",
              "</style>\n",
              "<table border=\"1\" class=\"dataframe\">\n",
              "  <thead>\n",
              "    <tr style=\"text-align: right;\">\n",
              "      <th></th>\n",
              "      <th>國文</th>\n",
              "      <th>英文</th>\n",
              "      <th>數學</th>\n",
              "      <th>理化</th>\n",
              "    </tr>\n",
              "  </thead>\n",
              "  <tbody>\n",
              "    <tr>\n",
              "      <th>ANNK</th>\n",
              "      <td>94</td>\n",
              "      <td>33</td>\n",
              "      <td>90</td>\n",
              "      <td>65</td>\n",
              "    </tr>\n",
              "    <tr>\n",
              "      <th>CEEK</th>\n",
              "      <td>38</td>\n",
              "      <td>33</td>\n",
              "      <td>32</td>\n",
              "      <td>73</td>\n",
              "    </tr>\n",
              "    <tr>\n",
              "      <th>BHHG</th>\n",
              "      <td>52</td>\n",
              "      <td>94</td>\n",
              "      <td>51</td>\n",
              "      <td>59</td>\n",
              "    </tr>\n",
              "    <tr>\n",
              "      <th>EDSA</th>\n",
              "      <td>59</td>\n",
              "      <td>49</td>\n",
              "      <td>99</td>\n",
              "      <td>83</td>\n",
              "    </tr>\n",
              "    <tr>\n",
              "      <th>DRES</th>\n",
              "      <td>33</td>\n",
              "      <td>71</td>\n",
              "      <td>89</td>\n",
              "      <td>47</td>\n",
              "    </tr>\n",
              "    <tr>\n",
              "      <th>GDES</th>\n",
              "      <td>84</td>\n",
              "      <td>62</td>\n",
              "      <td>40</td>\n",
              "      <td>32</td>\n",
              "    </tr>\n",
              "    <tr>\n",
              "      <th>REWS</th>\n",
              "      <td>48</td>\n",
              "      <td>64</td>\n",
              "      <td>47</td>\n",
              "      <td>52</td>\n",
              "    </tr>\n",
              "    <tr>\n",
              "      <th>LKDE</th>\n",
              "      <td>48</td>\n",
              "      <td>50</td>\n",
              "      <td>81</td>\n",
              "      <td>97</td>\n",
              "    </tr>\n",
              "    <tr>\n",
              "      <th>LWES</th>\n",
              "      <td>41</td>\n",
              "      <td>71</td>\n",
              "      <td>58</td>\n",
              "      <td>34</td>\n",
              "    </tr>\n",
              "    <tr>\n",
              "      <th>HRED</th>\n",
              "      <td>79</td>\n",
              "      <td>95</td>\n",
              "      <td>43</td>\n",
              "      <td>49</td>\n",
              "    </tr>\n",
              "  </tbody>\n",
              "</table>\n",
              "</div>\n",
              "      <button class=\"colab-df-convert\" onclick=\"convertToInteractive('df-2a7cfde8-2d6b-4b49-8883-50c792b283d8')\"\n",
              "              title=\"Convert this dataframe to an interactive table.\"\n",
              "              style=\"display:none;\">\n",
              "        \n",
              "  <svg xmlns=\"http://www.w3.org/2000/svg\" height=\"24px\"viewBox=\"0 0 24 24\"\n",
              "       width=\"24px\">\n",
              "    <path d=\"M0 0h24v24H0V0z\" fill=\"none\"/>\n",
              "    <path d=\"M18.56 5.44l.94 2.06.94-2.06 2.06-.94-2.06-.94-.94-2.06-.94 2.06-2.06.94zm-11 1L8.5 8.5l.94-2.06 2.06-.94-2.06-.94L8.5 2.5l-.94 2.06-2.06.94zm10 10l.94 2.06.94-2.06 2.06-.94-2.06-.94-.94-2.06-.94 2.06-2.06.94z\"/><path d=\"M17.41 7.96l-1.37-1.37c-.4-.4-.92-.59-1.43-.59-.52 0-1.04.2-1.43.59L10.3 9.45l-7.72 7.72c-.78.78-.78 2.05 0 2.83L4 21.41c.39.39.9.59 1.41.59.51 0 1.02-.2 1.41-.59l7.78-7.78 2.81-2.81c.8-.78.8-2.07 0-2.86zM5.41 20L4 18.59l7.72-7.72 1.47 1.35L5.41 20z\"/>\n",
              "  </svg>\n",
              "      </button>\n",
              "      \n",
              "  <style>\n",
              "    .colab-df-container {\n",
              "      display:flex;\n",
              "      flex-wrap:wrap;\n",
              "      gap: 12px;\n",
              "    }\n",
              "\n",
              "    .colab-df-convert {\n",
              "      background-color: #E8F0FE;\n",
              "      border: none;\n",
              "      border-radius: 50%;\n",
              "      cursor: pointer;\n",
              "      display: none;\n",
              "      fill: #1967D2;\n",
              "      height: 32px;\n",
              "      padding: 0 0 0 0;\n",
              "      width: 32px;\n",
              "    }\n",
              "\n",
              "    .colab-df-convert:hover {\n",
              "      background-color: #E2EBFA;\n",
              "      box-shadow: 0px 1px 2px rgba(60, 64, 67, 0.3), 0px 1px 3px 1px rgba(60, 64, 67, 0.15);\n",
              "      fill: #174EA6;\n",
              "    }\n",
              "\n",
              "    [theme=dark] .colab-df-convert {\n",
              "      background-color: #3B4455;\n",
              "      fill: #D2E3FC;\n",
              "    }\n",
              "\n",
              "    [theme=dark] .colab-df-convert:hover {\n",
              "      background-color: #434B5C;\n",
              "      box-shadow: 0px 1px 3px 1px rgba(0, 0, 0, 0.15);\n",
              "      filter: drop-shadow(0px 1px 2px rgba(0, 0, 0, 0.3));\n",
              "      fill: #FFFFFF;\n",
              "    }\n",
              "  </style>\n",
              "\n",
              "      <script>\n",
              "        const buttonEl =\n",
              "          document.querySelector('#df-2a7cfde8-2d6b-4b49-8883-50c792b283d8 button.colab-df-convert');\n",
              "        buttonEl.style.display =\n",
              "          google.colab.kernel.accessAllowed ? 'block' : 'none';\n",
              "\n",
              "        async function convertToInteractive(key) {\n",
              "          const element = document.querySelector('#df-2a7cfde8-2d6b-4b49-8883-50c792b283d8');\n",
              "          const dataTable =\n",
              "            await google.colab.kernel.invokeFunction('convertToInteractive',\n",
              "                                                     [key], {});\n",
              "          if (!dataTable) return;\n",
              "\n",
              "          const docLinkHtml = 'Like what you see? Visit the ' +\n",
              "            '<a target=\"_blank\" href=https://colab.research.google.com/notebooks/data_table.ipynb>data table notebook</a>'\n",
              "            + ' to learn more about interactive tables.';\n",
              "          element.innerHTML = '';\n",
              "          dataTable['output_type'] = 'display_data';\n",
              "          await google.colab.output.renderOutput(dataTable, element);\n",
              "          const docLink = document.createElement('div');\n",
              "          docLink.innerHTML = docLinkHtml;\n",
              "          element.appendChild(docLink);\n",
              "        }\n",
              "      </script>\n",
              "    </div>\n",
              "  </div>\n",
              "  "
            ]
          },
          "metadata": {},
          "execution_count": 181
        }
      ]
    },
    {
      "cell_type": "markdown",
      "source": [
        "## 列出國文不及格的同學名單"
      ],
      "metadata": {
        "id": "cyhPcuLYkJeT"
      }
    },
    {
      "cell_type": "code",
      "source": [
        "#取出國文成績\n",
        "df['國文']"
      ],
      "metadata": {
        "id": "r6aRWvYvkFZ9",
        "outputId": "3655c6a1-e33c-4ff2-d1eb-a403b8068908",
        "colab": {
          "base_uri": "https://localhost:8080/"
        }
      },
      "execution_count": 184,
      "outputs": [
        {
          "output_type": "execute_result",
          "data": {
            "text/plain": [
              "ANNK    94\n",
              "CEEK    38\n",
              "BHHG    52\n",
              "EDSA    59\n",
              "DRES    33\n",
              "GDES    84\n",
              "REWS    48\n",
              "LKDE    48\n",
              "LWES    41\n",
              "HRED    79\n",
              "Name: 國文, dtype: int64"
            ]
          },
          "metadata": {},
          "execution_count": 184
        }
      ]
    },
    {
      "cell_type": "code",
      "source": [
        "#判斷成績是否及格:Ture=不及格,False=及格\n",
        "df['國文'] < 60"
      ],
      "metadata": {
        "id": "VDoyjmGmkWdu",
        "outputId": "65d9820d-40ed-4e87-cc77-1834922864c1",
        "colab": {
          "base_uri": "https://localhost:8080/"
        }
      },
      "execution_count": 185,
      "outputs": [
        {
          "output_type": "execute_result",
          "data": {
            "text/plain": [
              "ANNK    False\n",
              "CEEK     True\n",
              "BHHG     True\n",
              "EDSA     True\n",
              "DRES     True\n",
              "GDES    False\n",
              "REWS     True\n",
              "LKDE     True\n",
              "LWES     True\n",
              "HRED    False\n",
              "Name: 國文, dtype: bool"
            ]
          },
          "metadata": {},
          "execution_count": 185
        }
      ]
    },
    {
      "cell_type": "code",
      "source": [
        "# Filtering\n",
        "df[df['國文'] < 60]"
      ],
      "metadata": {
        "id": "cI26_430kYeR",
        "outputId": "85768e38-d376-4d47-cef1-5bcb7b593e89",
        "colab": {
          "base_uri": "https://localhost:8080/",
          "height": 269
        }
      },
      "execution_count": 186,
      "outputs": [
        {
          "output_type": "execute_result",
          "data": {
            "text/plain": [
              "      國文  英文  數學  理化\n",
              "CEEK  38  33  32  73\n",
              "BHHG  52  94  51  59\n",
              "EDSA  59  49  99  83\n",
              "DRES  33  71  89  47\n",
              "REWS  48  64  47  52\n",
              "LKDE  48  50  81  97\n",
              "LWES  41  71  58  34"
            ],
            "text/html": [
              "\n",
              "  <div id=\"df-34cf5449-4b18-43a4-8972-a1fc66fe5d78\">\n",
              "    <div class=\"colab-df-container\">\n",
              "      <div>\n",
              "<style scoped>\n",
              "    .dataframe tbody tr th:only-of-type {\n",
              "        vertical-align: middle;\n",
              "    }\n",
              "\n",
              "    .dataframe tbody tr th {\n",
              "        vertical-align: top;\n",
              "    }\n",
              "\n",
              "    .dataframe thead th {\n",
              "        text-align: right;\n",
              "    }\n",
              "</style>\n",
              "<table border=\"1\" class=\"dataframe\">\n",
              "  <thead>\n",
              "    <tr style=\"text-align: right;\">\n",
              "      <th></th>\n",
              "      <th>國文</th>\n",
              "      <th>英文</th>\n",
              "      <th>數學</th>\n",
              "      <th>理化</th>\n",
              "    </tr>\n",
              "  </thead>\n",
              "  <tbody>\n",
              "    <tr>\n",
              "      <th>CEEK</th>\n",
              "      <td>38</td>\n",
              "      <td>33</td>\n",
              "      <td>32</td>\n",
              "      <td>73</td>\n",
              "    </tr>\n",
              "    <tr>\n",
              "      <th>BHHG</th>\n",
              "      <td>52</td>\n",
              "      <td>94</td>\n",
              "      <td>51</td>\n",
              "      <td>59</td>\n",
              "    </tr>\n",
              "    <tr>\n",
              "      <th>EDSA</th>\n",
              "      <td>59</td>\n",
              "      <td>49</td>\n",
              "      <td>99</td>\n",
              "      <td>83</td>\n",
              "    </tr>\n",
              "    <tr>\n",
              "      <th>DRES</th>\n",
              "      <td>33</td>\n",
              "      <td>71</td>\n",
              "      <td>89</td>\n",
              "      <td>47</td>\n",
              "    </tr>\n",
              "    <tr>\n",
              "      <th>REWS</th>\n",
              "      <td>48</td>\n",
              "      <td>64</td>\n",
              "      <td>47</td>\n",
              "      <td>52</td>\n",
              "    </tr>\n",
              "    <tr>\n",
              "      <th>LKDE</th>\n",
              "      <td>48</td>\n",
              "      <td>50</td>\n",
              "      <td>81</td>\n",
              "      <td>97</td>\n",
              "    </tr>\n",
              "    <tr>\n",
              "      <th>LWES</th>\n",
              "      <td>41</td>\n",
              "      <td>71</td>\n",
              "      <td>58</td>\n",
              "      <td>34</td>\n",
              "    </tr>\n",
              "  </tbody>\n",
              "</table>\n",
              "</div>\n",
              "      <button class=\"colab-df-convert\" onclick=\"convertToInteractive('df-34cf5449-4b18-43a4-8972-a1fc66fe5d78')\"\n",
              "              title=\"Convert this dataframe to an interactive table.\"\n",
              "              style=\"display:none;\">\n",
              "        \n",
              "  <svg xmlns=\"http://www.w3.org/2000/svg\" height=\"24px\"viewBox=\"0 0 24 24\"\n",
              "       width=\"24px\">\n",
              "    <path d=\"M0 0h24v24H0V0z\" fill=\"none\"/>\n",
              "    <path d=\"M18.56 5.44l.94 2.06.94-2.06 2.06-.94-2.06-.94-.94-2.06-.94 2.06-2.06.94zm-11 1L8.5 8.5l.94-2.06 2.06-.94-2.06-.94L8.5 2.5l-.94 2.06-2.06.94zm10 10l.94 2.06.94-2.06 2.06-.94-2.06-.94-.94-2.06-.94 2.06-2.06.94z\"/><path d=\"M17.41 7.96l-1.37-1.37c-.4-.4-.92-.59-1.43-.59-.52 0-1.04.2-1.43.59L10.3 9.45l-7.72 7.72c-.78.78-.78 2.05 0 2.83L4 21.41c.39.39.9.59 1.41.59.51 0 1.02-.2 1.41-.59l7.78-7.78 2.81-2.81c.8-.78.8-2.07 0-2.86zM5.41 20L4 18.59l7.72-7.72 1.47 1.35L5.41 20z\"/>\n",
              "  </svg>\n",
              "      </button>\n",
              "      \n",
              "  <style>\n",
              "    .colab-df-container {\n",
              "      display:flex;\n",
              "      flex-wrap:wrap;\n",
              "      gap: 12px;\n",
              "    }\n",
              "\n",
              "    .colab-df-convert {\n",
              "      background-color: #E8F0FE;\n",
              "      border: none;\n",
              "      border-radius: 50%;\n",
              "      cursor: pointer;\n",
              "      display: none;\n",
              "      fill: #1967D2;\n",
              "      height: 32px;\n",
              "      padding: 0 0 0 0;\n",
              "      width: 32px;\n",
              "    }\n",
              "\n",
              "    .colab-df-convert:hover {\n",
              "      background-color: #E2EBFA;\n",
              "      box-shadow: 0px 1px 2px rgba(60, 64, 67, 0.3), 0px 1px 3px 1px rgba(60, 64, 67, 0.15);\n",
              "      fill: #174EA6;\n",
              "    }\n",
              "\n",
              "    [theme=dark] .colab-df-convert {\n",
              "      background-color: #3B4455;\n",
              "      fill: #D2E3FC;\n",
              "    }\n",
              "\n",
              "    [theme=dark] .colab-df-convert:hover {\n",
              "      background-color: #434B5C;\n",
              "      box-shadow: 0px 1px 3px 1px rgba(0, 0, 0, 0.15);\n",
              "      filter: drop-shadow(0px 1px 2px rgba(0, 0, 0, 0.3));\n",
              "      fill: #FFFFFF;\n",
              "    }\n",
              "  </style>\n",
              "\n",
              "      <script>\n",
              "        const buttonEl =\n",
              "          document.querySelector('#df-34cf5449-4b18-43a4-8972-a1fc66fe5d78 button.colab-df-convert');\n",
              "        buttonEl.style.display =\n",
              "          google.colab.kernel.accessAllowed ? 'block' : 'none';\n",
              "\n",
              "        async function convertToInteractive(key) {\n",
              "          const element = document.querySelector('#df-34cf5449-4b18-43a4-8972-a1fc66fe5d78');\n",
              "          const dataTable =\n",
              "            await google.colab.kernel.invokeFunction('convertToInteractive',\n",
              "                                                     [key], {});\n",
              "          if (!dataTable) return;\n",
              "\n",
              "          const docLinkHtml = 'Like what you see? Visit the ' +\n",
              "            '<a target=\"_blank\" href=https://colab.research.google.com/notebooks/data_table.ipynb>data table notebook</a>'\n",
              "            + ' to learn more about interactive tables.';\n",
              "          element.innerHTML = '';\n",
              "          dataTable['output_type'] = 'display_data';\n",
              "          await google.colab.output.renderOutput(dataTable, element);\n",
              "          const docLink = document.createElement('div');\n",
              "          docLink.innerHTML = docLinkHtml;\n",
              "          element.appendChild(docLink);\n",
              "        }\n",
              "      </script>\n",
              "    </div>\n",
              "  </div>\n",
              "  "
            ]
          },
          "metadata": {},
          "execution_count": 186
        }
      ]
    },
    {
      "cell_type": "markdown",
      "source": [
        "## 列出國文跟英文不及格的同學"
      ],
      "metadata": {
        "id": "SuDNkpcUk2UK"
      }
    },
    {
      "cell_type": "code",
      "source": [
        "df['英文']"
      ],
      "metadata": {
        "id": "6GtxoF8kku8t",
        "outputId": "cee46f3e-2277-4000-cc39-61944534444e",
        "colab": {
          "base_uri": "https://localhost:8080/"
        }
      },
      "execution_count": 187,
      "outputs": [
        {
          "output_type": "execute_result",
          "data": {
            "text/plain": [
              "ANNK    33\n",
              "CEEK    33\n",
              "BHHG    94\n",
              "EDSA    49\n",
              "DRES    71\n",
              "GDES    62\n",
              "REWS    64\n",
              "LKDE    50\n",
              "LWES    71\n",
              "HRED    95\n",
              "Name: 英文, dtype: int64"
            ]
          },
          "metadata": {},
          "execution_count": 187
        }
      ]
    },
    {
      "cell_type": "code",
      "source": [
        "df['英文'] < 60"
      ],
      "metadata": {
        "id": "gvqXzoDrk92a",
        "outputId": "114e3c70-3849-401e-ad25-b6865691de4e",
        "colab": {
          "base_uri": "https://localhost:8080/"
        }
      },
      "execution_count": 188,
      "outputs": [
        {
          "output_type": "execute_result",
          "data": {
            "text/plain": [
              "ANNK     True\n",
              "CEEK     True\n",
              "BHHG    False\n",
              "EDSA     True\n",
              "DRES    False\n",
              "GDES    False\n",
              "REWS    False\n",
              "LKDE     True\n",
              "LWES    False\n",
              "HRED    False\n",
              "Name: 英文, dtype: bool"
            ]
          },
          "metadata": {},
          "execution_count": 188
        }
      ]
    },
    {
      "cell_type": "code",
      "source": [
        "# 使用 & (and) 連接兩個條件 (註: | (or))\n",
        "df[(df['國文'] < 60) & (df['英文'] < 60)]"
      ],
      "metadata": {
        "id": "gWViVlIJlC7x",
        "outputId": "380214dd-18c4-4589-ee37-d5f0735baf9b",
        "colab": {
          "base_uri": "https://localhost:8080/",
          "height": 143
        }
      },
      "execution_count": 193,
      "outputs": [
        {
          "output_type": "execute_result",
          "data": {
            "text/plain": [
              "      國文  英文  數學  理化\n",
              "CEEK  38  33  32  73\n",
              "EDSA  59  49  99  83\n",
              "LKDE  48  50  81  97"
            ],
            "text/html": [
              "\n",
              "  <div id=\"df-cf31ec23-095f-4892-8794-e9078a678c29\">\n",
              "    <div class=\"colab-df-container\">\n",
              "      <div>\n",
              "<style scoped>\n",
              "    .dataframe tbody tr th:only-of-type {\n",
              "        vertical-align: middle;\n",
              "    }\n",
              "\n",
              "    .dataframe tbody tr th {\n",
              "        vertical-align: top;\n",
              "    }\n",
              "\n",
              "    .dataframe thead th {\n",
              "        text-align: right;\n",
              "    }\n",
              "</style>\n",
              "<table border=\"1\" class=\"dataframe\">\n",
              "  <thead>\n",
              "    <tr style=\"text-align: right;\">\n",
              "      <th></th>\n",
              "      <th>國文</th>\n",
              "      <th>英文</th>\n",
              "      <th>數學</th>\n",
              "      <th>理化</th>\n",
              "    </tr>\n",
              "  </thead>\n",
              "  <tbody>\n",
              "    <tr>\n",
              "      <th>CEEK</th>\n",
              "      <td>38</td>\n",
              "      <td>33</td>\n",
              "      <td>32</td>\n",
              "      <td>73</td>\n",
              "    </tr>\n",
              "    <tr>\n",
              "      <th>EDSA</th>\n",
              "      <td>59</td>\n",
              "      <td>49</td>\n",
              "      <td>99</td>\n",
              "      <td>83</td>\n",
              "    </tr>\n",
              "    <tr>\n",
              "      <th>LKDE</th>\n",
              "      <td>48</td>\n",
              "      <td>50</td>\n",
              "      <td>81</td>\n",
              "      <td>97</td>\n",
              "    </tr>\n",
              "  </tbody>\n",
              "</table>\n",
              "</div>\n",
              "      <button class=\"colab-df-convert\" onclick=\"convertToInteractive('df-cf31ec23-095f-4892-8794-e9078a678c29')\"\n",
              "              title=\"Convert this dataframe to an interactive table.\"\n",
              "              style=\"display:none;\">\n",
              "        \n",
              "  <svg xmlns=\"http://www.w3.org/2000/svg\" height=\"24px\"viewBox=\"0 0 24 24\"\n",
              "       width=\"24px\">\n",
              "    <path d=\"M0 0h24v24H0V0z\" fill=\"none\"/>\n",
              "    <path d=\"M18.56 5.44l.94 2.06.94-2.06 2.06-.94-2.06-.94-.94-2.06-.94 2.06-2.06.94zm-11 1L8.5 8.5l.94-2.06 2.06-.94-2.06-.94L8.5 2.5l-.94 2.06-2.06.94zm10 10l.94 2.06.94-2.06 2.06-.94-2.06-.94-.94-2.06-.94 2.06-2.06.94z\"/><path d=\"M17.41 7.96l-1.37-1.37c-.4-.4-.92-.59-1.43-.59-.52 0-1.04.2-1.43.59L10.3 9.45l-7.72 7.72c-.78.78-.78 2.05 0 2.83L4 21.41c.39.39.9.59 1.41.59.51 0 1.02-.2 1.41-.59l7.78-7.78 2.81-2.81c.8-.78.8-2.07 0-2.86zM5.41 20L4 18.59l7.72-7.72 1.47 1.35L5.41 20z\"/>\n",
              "  </svg>\n",
              "      </button>\n",
              "      \n",
              "  <style>\n",
              "    .colab-df-container {\n",
              "      display:flex;\n",
              "      flex-wrap:wrap;\n",
              "      gap: 12px;\n",
              "    }\n",
              "\n",
              "    .colab-df-convert {\n",
              "      background-color: #E8F0FE;\n",
              "      border: none;\n",
              "      border-radius: 50%;\n",
              "      cursor: pointer;\n",
              "      display: none;\n",
              "      fill: #1967D2;\n",
              "      height: 32px;\n",
              "      padding: 0 0 0 0;\n",
              "      width: 32px;\n",
              "    }\n",
              "\n",
              "    .colab-df-convert:hover {\n",
              "      background-color: #E2EBFA;\n",
              "      box-shadow: 0px 1px 2px rgba(60, 64, 67, 0.3), 0px 1px 3px 1px rgba(60, 64, 67, 0.15);\n",
              "      fill: #174EA6;\n",
              "    }\n",
              "\n",
              "    [theme=dark] .colab-df-convert {\n",
              "      background-color: #3B4455;\n",
              "      fill: #D2E3FC;\n",
              "    }\n",
              "\n",
              "    [theme=dark] .colab-df-convert:hover {\n",
              "      background-color: #434B5C;\n",
              "      box-shadow: 0px 1px 3px 1px rgba(0, 0, 0, 0.15);\n",
              "      filter: drop-shadow(0px 1px 2px rgba(0, 0, 0, 0.3));\n",
              "      fill: #FFFFFF;\n",
              "    }\n",
              "  </style>\n",
              "\n",
              "      <script>\n",
              "        const buttonEl =\n",
              "          document.querySelector('#df-cf31ec23-095f-4892-8794-e9078a678c29 button.colab-df-convert');\n",
              "        buttonEl.style.display =\n",
              "          google.colab.kernel.accessAllowed ? 'block' : 'none';\n",
              "\n",
              "        async function convertToInteractive(key) {\n",
              "          const element = document.querySelector('#df-cf31ec23-095f-4892-8794-e9078a678c29');\n",
              "          const dataTable =\n",
              "            await google.colab.kernel.invokeFunction('convertToInteractive',\n",
              "                                                     [key], {});\n",
              "          if (!dataTable) return;\n",
              "\n",
              "          const docLinkHtml = 'Like what you see? Visit the ' +\n",
              "            '<a target=\"_blank\" href=https://colab.research.google.com/notebooks/data_table.ipynb>data table notebook</a>'\n",
              "            + ' to learn more about interactive tables.';\n",
              "          element.innerHTML = '';\n",
              "          dataTable['output_type'] = 'display_data';\n",
              "          await google.colab.output.renderOutput(dataTable, element);\n",
              "          const docLink = document.createElement('div');\n",
              "          docLink.innerHTML = docLinkHtml;\n",
              "          element.appendChild(docLink);\n",
              "        }\n",
              "      </script>\n",
              "    </div>\n",
              "  </div>\n",
              "  "
            ]
          },
          "metadata": {},
          "execution_count": 193
        }
      ]
    },
    {
      "cell_type": "code",
      "source": [],
      "metadata": {
        "id": "aMfOgZgVlSyA"
      },
      "execution_count": null,
      "outputs": []
    }
  ]
}