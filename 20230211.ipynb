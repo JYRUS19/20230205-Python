{
  "nbformat": 4,
  "nbformat_minor": 0,
  "metadata": {
    "colab": {
      "provenance": [],
      "toc_visible": true,
      "authorship_tag": "ABX9TyPTm0aBOTlvWY7xHskOk+5d",
      "include_colab_link": true
    },
    "kernelspec": {
      "name": "python3",
      "display_name": "Python 3"
    },
    "language_info": {
      "name": "python"
    }
  },
  "cells": [
    {
      "cell_type": "markdown",
      "metadata": {
        "id": "view-in-github",
        "colab_type": "text"
      },
      "source": [
        "<a href=\"https://colab.research.google.com/github/JYRUS19/20230205-Python/blob/main/20230211.ipynb\" target=\"_parent\"><img src=\"https://colab.research.google.com/assets/colab-badge.svg\" alt=\"Open In Colab\"/></a>"
      ]
    },
    {
      "cell_type": "markdown",
      "source": [
        "# 20230211筆記\n"
      ],
      "metadata": {
        "id": "qwEau0qDMYhO"
      }
    },
    {
      "cell_type": "markdown",
      "source": [
        "# 基本資料型態\n",
        "\n",
        "* int (整數)\n",
        "* float (浮點數)\n",
        "* bool (布林變數)\n",
        "* str (字串:文字訊息)\n",
        "\n",
        "使用 `type(變數)` 可以檢查變數裡面的資料型態。"
      ],
      "metadata": {
        "id": "YKQEIEwVUIQW"
      }
    },
    {
      "cell_type": "markdown",
      "source": [
        "## 整數除法(//)\n"
      ],
      "metadata": {
        "id": "YLACNZ6JU3Uy"
      }
    },
    {
      "cell_type": "code",
      "source": [
        "x = 1"
      ],
      "metadata": {
        "id": "XejN_4AgMen3"
      },
      "execution_count": null,
      "outputs": []
    },
    {
      "cell_type": "code",
      "source": [
        "z = 2"
      ],
      "metadata": {
        "id": "MOdBB1H3Yvuf"
      },
      "execution_count": null,
      "outputs": []
    },
    {
      "cell_type": "code",
      "source": [
        "y = 4/2\n",
        "#在Python裡面,使用一個除法/ 會變成浮點數,如果是使用兩個//,則會變成整數"
      ],
      "metadata": {
        "id": "nctsIrEtQyR1"
      },
      "execution_count": null,
      "outputs": []
    },
    {
      "cell_type": "code",
      "source": [
        "u = 4//2"
      ],
      "metadata": {
        "id": "BsyoUrB5Wn7Z"
      },
      "execution_count": null,
      "outputs": []
    },
    {
      "cell_type": "code",
      "source": [
        "type(u)"
      ],
      "metadata": {
        "colab": {
          "base_uri": "https://localhost:8080/"
        },
        "id": "-9a3HL_7Wtnm",
        "outputId": "cc011ed1-1cea-49e5-a436-1beac25c0d15"
      },
      "execution_count": null,
      "outputs": [
        {
          "output_type": "execute_result",
          "data": {
            "text/plain": [
              "int"
            ]
          },
          "metadata": {},
          "execution_count": 17
        }
      ]
    },
    {
      "cell_type": "code",
      "source": [
        "u"
      ],
      "metadata": {
        "colab": {
          "base_uri": "https://localhost:8080/"
        },
        "id": "_OPHH05AWx9B",
        "outputId": "588138f5-a9d0-4f1c-929c-623a96bac1f5"
      },
      "execution_count": null,
      "outputs": [
        {
          "output_type": "execute_result",
          "data": {
            "text/plain": [
              "2"
            ]
          },
          "metadata": {},
          "execution_count": 18
        }
      ]
    },
    {
      "cell_type": "code",
      "source": [
        "y"
      ],
      "metadata": {
        "colab": {
          "base_uri": "https://localhost:8080/"
        },
        "id": "96IgTgMPWz50",
        "outputId": "e10acb28-3031-41ee-da23-6d039ae3b0e5"
      },
      "execution_count": null,
      "outputs": [
        {
          "output_type": "execute_result",
          "data": {
            "text/plain": [
              "2.0"
            ]
          },
          "metadata": {},
          "execution_count": 19
        }
      ]
    },
    {
      "cell_type": "code",
      "source": [
        "type(y)"
      ],
      "metadata": {
        "colab": {
          "base_uri": "https://localhost:8080/"
        },
        "id": "vmOLt8vmRKBb",
        "outputId": "fbddf7c7-75d4-488e-b538-a1430e8087ca"
      },
      "execution_count": null,
      "outputs": [
        {
          "output_type": "execute_result",
          "data": {
            "text/plain": [
              "float"
            ]
          },
          "metadata": {},
          "execution_count": 14
        }
      ]
    },
    {
      "cell_type": "markdown",
      "source": [
        "## 次方(**)"
      ],
      "metadata": {
        "id": "zXFtupDjXHWI"
      }
    },
    {
      "cell_type": "code",
      "source": [
        "2**2"
      ],
      "metadata": {
        "colab": {
          "base_uri": "https://localhost:8080/"
        },
        "id": "y9R4zYkQXLFm",
        "outputId": "ccb01d11-6bcf-41e7-9d7c-4b32a20cf8e9"
      },
      "execution_count": null,
      "outputs": [
        {
          "output_type": "execute_result",
          "data": {
            "text/plain": [
              "4"
            ]
          },
          "metadata": {},
          "execution_count": 20
        }
      ]
    },
    {
      "cell_type": "code",
      "source": [
        "2**4"
      ],
      "metadata": {
        "colab": {
          "base_uri": "https://localhost:8080/"
        },
        "id": "djMcT6fQXPBg",
        "outputId": "ec625956-992e-4edc-e187-e0348bd8487c"
      },
      "execution_count": null,
      "outputs": [
        {
          "output_type": "execute_result",
          "data": {
            "text/plain": [
              "16"
            ]
          },
          "metadata": {},
          "execution_count": 21
        }
      ]
    },
    {
      "cell_type": "markdown",
      "source": [
        "## 什麼是bool?\n"
      ],
      "metadata": {
        "id": "yRcNqCFPXeYN"
      }
    },
    {
      "cell_type": "code",
      "source": [
        "3 > 2\n",
        "# bool 布林變數,為True或False"
      ],
      "metadata": {
        "colab": {
          "base_uri": "https://localhost:8080/"
        },
        "id": "zOJALtzhXiQM",
        "outputId": "1453ffbd-152a-4eca-da85-7111268bfbbf"
      },
      "execution_count": null,
      "outputs": [
        {
          "output_type": "execute_result",
          "data": {
            "text/plain": [
              "True"
            ]
          },
          "metadata": {},
          "execution_count": 29
        }
      ]
    },
    {
      "cell_type": "code",
      "source": [
        "2 > 3"
      ],
      "metadata": {
        "colab": {
          "base_uri": "https://localhost:8080/"
        },
        "id": "reFNSRKtX4on",
        "outputId": "ee5377d4-4ab8-4e55-fe11-0a08f963b745"
      },
      "execution_count": null,
      "outputs": [
        {
          "output_type": "execute_result",
          "data": {
            "text/plain": [
              "False"
            ]
          },
          "metadata": {},
          "execution_count": 23
        }
      ]
    },
    {
      "cell_type": "code",
      "source": [
        "True + True"
      ],
      "metadata": {
        "colab": {
          "base_uri": "https://localhost:8080/"
        },
        "id": "CS2Cy360X-A1",
        "outputId": "31f2d44d-47fd-4939-a7ca-cdf2a68e5ae9"
      },
      "execution_count": null,
      "outputs": [
        {
          "output_type": "execute_result",
          "data": {
            "text/plain": [
              "2"
            ]
          },
          "metadata": {},
          "execution_count": 26
        }
      ]
    },
    {
      "cell_type": "code",
      "source": [
        "True + False"
      ],
      "metadata": {
        "colab": {
          "base_uri": "https://localhost:8080/"
        },
        "id": "KZot1QG1YHGW",
        "outputId": "208847a4-7ba8-4283-fb02-59a52c61f03b"
      },
      "execution_count": null,
      "outputs": [
        {
          "output_type": "execute_result",
          "data": {
            "text/plain": [
              "1"
            ]
          },
          "metadata": {},
          "execution_count": 30
        }
      ]
    },
    {
      "cell_type": "code",
      "source": [
        "x == z\n",
        "#兩個== 是用來比較兩個變數內的值有沒有相等"
      ],
      "metadata": {
        "colab": {
          "base_uri": "https://localhost:8080/"
        },
        "id": "5YRgfjqwYUQA",
        "outputId": "e0992b60-cc68-4ef4-8186-9a9ebd94987e"
      },
      "execution_count": null,
      "outputs": [
        {
          "output_type": "execute_result",
          "data": {
            "text/plain": [
              "False"
            ]
          },
          "metadata": {},
          "execution_count": 33
        }
      ]
    },
    {
      "cell_type": "markdown",
      "source": [
        "## 關於字串\n",
        "\n",
        "https://github.com/vcdemy/python_basics/blob/main/%E5%AD%97%E4%B8%B2.md"
      ],
      "metadata": {
        "id": "73LA68qVZCCY"
      }
    },
    {
      "cell_type": "code",
      "source": [
        "w = \"dog\""
      ],
      "metadata": {
        "id": "4LT2wdDGZFKa"
      },
      "execution_count": null,
      "outputs": []
    },
    {
      "cell_type": "code",
      "source": [],
      "metadata": {
        "id": "9ZBsNqvZaqE_"
      },
      "execution_count": null,
      "outputs": []
    },
    {
      "cell_type": "code",
      "source": [
        "p = \"It's my dog\""
      ],
      "metadata": {
        "id": "w_GKaNcUZqbF"
      },
      "execution_count": null,
      "outputs": []
    },
    {
      "cell_type": "code",
      "source": [
        "v = 'It\\'s my dog'\n",
        "# 反斜線(\\)為跳出字元,防止在使用單引號時被誤認"
      ],
      "metadata": {
        "id": "vilsV2SSZyXl"
      },
      "execution_count": null,
      "outputs": []
    },
    {
      "cell_type": "markdown",
      "source": [
        "## 字串的加法(+)與乘法(*)"
      ],
      "metadata": {
        "id": "Zd4Hg92WfUcc"
      }
    },
    {
      "cell_type": "code",
      "source": [
        "\"abc\" + \"3\""
      ],
      "metadata": {
        "id": "76rUEY5cfZqJ",
        "outputId": "6382ca32-b5b3-4d58-8b74-2ff78a31f414",
        "colab": {
          "base_uri": "https://localhost:8080/",
          "height": 35
        }
      },
      "execution_count": null,
      "outputs": [
        {
          "output_type": "execute_result",
          "data": {
            "text/plain": [
              "'abc3'"
            ],
            "application/vnd.google.colaboratory.intrinsic+json": {
              "type": "string"
            }
          },
          "metadata": {},
          "execution_count": 38
        }
      ]
    },
    {
      "cell_type": "code",
      "source": [
        "\"abc\" * 3"
      ],
      "metadata": {
        "id": "iCTVw8MYfnID",
        "outputId": "a0580d7a-a46b-41a0-e413-0a64e6a2115b",
        "colab": {
          "base_uri": "https://localhost:8080/",
          "height": 35
        }
      },
      "execution_count": null,
      "outputs": [
        {
          "output_type": "execute_result",
          "data": {
            "text/plain": [
              "'abcabcabc'"
            ],
            "application/vnd.google.colaboratory.intrinsic+json": {
              "type": "string"
            }
          },
          "metadata": {},
          "execution_count": 39
        }
      ]
    },
    {
      "cell_type": "markdown",
      "source": [
        "## 練習:(使用字串畫出底下的金字塔)\n",
        "\n",
        "```\n",
        "    *\n",
        "   ***\n",
        "  *****\n",
        " *******\n",
        "*********\n",
        "```\n"
      ],
      "metadata": {
        "id": "cNvFF63vfr-2"
      }
    },
    {
      "cell_type": "code",
      "source": [
        "for i in range(5):\n",
        "  print(i)"
      ],
      "metadata": {
        "id": "p7kRFjj3gSKr",
        "outputId": "262e7b05-9eb4-4397-98da-9dd0c3ac7037",
        "colab": {
          "base_uri": "https://localhost:8080/"
        }
      },
      "execution_count": null,
      "outputs": [
        {
          "output_type": "stream",
          "name": "stdout",
          "text": [
            "0\n",
            "1\n",
            "2\n",
            "3\n",
            "4\n"
          ]
        }
      ]
    },
    {
      "cell_type": "code",
      "source": [
        "for i in range(3):\n",
        "  print(\"程式區塊開始\")\n",
        "  print(i)\n",
        "  print(\"程式區塊結束\")"
      ],
      "metadata": {
        "id": "7OnEPROpgue6",
        "outputId": "0bf8876a-ad65-4448-b138-a783b06fca70",
        "colab": {
          "base_uri": "https://localhost:8080/"
        }
      },
      "execution_count": null,
      "outputs": [
        {
          "output_type": "stream",
          "name": "stdout",
          "text": [
            "程式區塊開始\n",
            "0\n",
            "程式區塊結束\n",
            "程式區塊開始\n",
            "1\n",
            "程式區塊結束\n",
            "程式區塊開始\n",
            "2\n",
            "程式區塊結束\n"
          ]
        }
      ]
    },
    {
      "cell_type": "code",
      "source": [
        "for i in range(3):\n",
        "  print(\"程式區塊開始\")\n",
        "  print(i)\n",
        "print(\"程式區塊結束\")"
      ],
      "metadata": {
        "id": "PWZdZZ3cgwHx",
        "outputId": "57455d48-4544-4919-8b4c-c773e16e32e3",
        "colab": {
          "base_uri": "https://localhost:8080/"
        }
      },
      "execution_count": null,
      "outputs": [
        {
          "output_type": "stream",
          "name": "stdout",
          "text": [
            "程式區塊開始\n",
            "0\n",
            "程式區塊開始\n",
            "1\n",
            "程式區塊開始\n",
            "2\n",
            "程式區塊結束\n"
          ]
        }
      ]
    },
    {
      "cell_type": "code",
      "source": [
        "for i in range(5):\n",
        "  print(i)"
      ],
      "metadata": {
        "id": "BGXfzPg0hC0f",
        "outputId": "6c38b11a-c3d0-4e4c-ca5e-15b5edd27168",
        "colab": {
          "base_uri": "https://localhost:8080/"
        }
      },
      "execution_count": null,
      "outputs": [
        {
          "output_type": "stream",
          "name": "stdout",
          "text": [
            "0\n",
            "1\n",
            "2\n",
            "3\n",
            "4\n"
          ]
        }
      ]
    },
    {
      "cell_type": "code",
      "source": [
        "for i in range(5):\n",
        "  print(2*i+1)"
      ],
      "metadata": {
        "id": "j39mY0swhU4i",
        "outputId": "403e4fa6-3731-4642-db9a-76bb88d35541",
        "colab": {
          "base_uri": "https://localhost:8080/"
        }
      },
      "execution_count": null,
      "outputs": [
        {
          "output_type": "stream",
          "name": "stdout",
          "text": [
            "1\n",
            "3\n",
            "5\n",
            "7\n",
            "9\n"
          ]
        }
      ]
    },
    {
      "cell_type": "code",
      "source": [
        "for i in range(5):\n",
        "  print((2*i+1)*\"*\")"
      ],
      "metadata": {
        "id": "QI6G6tCnhgzj",
        "outputId": "edc9399b-5703-44cd-920e-8f5c2047b939",
        "colab": {
          "base_uri": "https://localhost:8080/"
        }
      },
      "execution_count": null,
      "outputs": [
        {
          "output_type": "stream",
          "name": "stdout",
          "text": [
            "*\n",
            "***\n",
            "*****\n",
            "*******\n",
            "*********\n"
          ]
        }
      ]
    },
    {
      "cell_type": "code",
      "source": [
        "for i in range(5):\n",
        "  print((5-i)*\" \"+(2*i+1)*\"*\")\n",
        "  #因為有5個組星,所以i要-5,(5-i)\n",
        "     "
      ],
      "metadata": {
        "id": "J3zKo9K9hpxQ",
        "outputId": "bd9f564b-7ea2-441d-b456-cdc0062fb38f",
        "colab": {
          "base_uri": "https://localhost:8080/"
        }
      },
      "execution_count": null,
      "outputs": [
        {
          "output_type": "stream",
          "name": "stdout",
          "text": [
            "     *\n",
            "    ***\n",
            "   *****\n",
            "  *******\n",
            " *********\n"
          ]
        }
      ]
    },
    {
      "cell_type": "markdown",
      "source": [
        "# input()及print()\n",
        "\n",
        "input是用來讀取輸入,print是用來列印輸出"
      ],
      "metadata": {
        "id": "LH5R46J4kx4-"
      }
    },
    {
      "cell_type": "code",
      "source": [
        "x = input(\"請輸入一個數字:\")\n",
        "# 用input輸入的數字不是整數,會是字串"
      ],
      "metadata": {
        "id": "f0cLlQGok4Es",
        "outputId": "c361ce65-e210-40ea-a279-5428c34d8f81",
        "colab": {
          "base_uri": "https://localhost:8080/"
        }
      },
      "execution_count": null,
      "outputs": [
        {
          "name": "stdout",
          "output_type": "stream",
          "text": [
            "請輸入一個數字:100\n"
          ]
        }
      ]
    },
    {
      "cell_type": "code",
      "source": [
        "type(x)"
      ],
      "metadata": {
        "id": "yS4kFx60lCeU",
        "outputId": "9f4c2f9b-25c3-4fe9-c027-d94e0721105c",
        "colab": {
          "base_uri": "https://localhost:8080/"
        }
      },
      "execution_count": null,
      "outputs": [
        {
          "output_type": "execute_result",
          "data": {
            "text/plain": [
              "str"
            ]
          },
          "metadata": {},
          "execution_count": 60
        }
      ]
    },
    {
      "cell_type": "code",
      "source": [
        "print(x)"
      ],
      "metadata": {
        "id": "v5Y20Y_ulYTw",
        "outputId": "aaf139ae-53dd-46cd-eca5-bbd7a59facc2",
        "colab": {
          "base_uri": "https://localhost:8080/"
        }
      },
      "execution_count": null,
      "outputs": [
        {
          "output_type": "stream",
          "name": "stdout",
          "text": [
            "100\n"
          ]
        }
      ]
    },
    {
      "cell_type": "code",
      "source": [
        "x = 1\n",
        "y = 2\n",
        "z = 3\n",
        "print(x, y, z)"
      ],
      "metadata": {
        "id": "4bkPjsAelvg6",
        "outputId": "a0a4ccf1-3f54-4699-b2a5-1d0b3b396f15",
        "colab": {
          "base_uri": "https://localhost:8080/"
        }
      },
      "execution_count": null,
      "outputs": [
        {
          "output_type": "stream",
          "name": "stdout",
          "text": [
            "1 2 3\n"
          ]
        }
      ]
    },
    {
      "cell_type": "code",
      "source": [
        "x = 1\n",
        "y = 2\n",
        "z = 3\n",
        "print(x, y, z, sep=\"\")"
      ],
      "metadata": {
        "id": "ftSGgzo0l5Ii",
        "outputId": "fcf986ff-4f0f-4c77-b08c-dbe910ac516e",
        "colab": {
          "base_uri": "https://localhost:8080/"
        }
      },
      "execution_count": null,
      "outputs": [
        {
          "output_type": "stream",
          "name": "stdout",
          "text": [
            "123\n"
          ]
        }
      ]
    },
    {
      "cell_type": "markdown",
      "source": [
        "# 基礎容器型別\n",
        "\n",
        "* list (串列)\n",
        "* tuple (元祖)\n",
        "* dict (字典)\n",
        "* set (集合)"
      ],
      "metadata": {
        "id": "0pVXImFrnkqM"
      }
    },
    {
      "cell_type": "markdown",
      "source": [
        "## list (串列)"
      ],
      "metadata": {
        "id": "B1p9PKmj4wKf"
      }
    },
    {
      "cell_type": "code",
      "source": [
        "x = ['a', 'b', 'c', 'd', 'e']"
      ],
      "metadata": {
        "id": "yRgEntg1285k"
      },
      "execution_count": 1,
      "outputs": []
    },
    {
      "cell_type": "code",
      "source": [
        "y = list('abcde')"
      ],
      "metadata": {
        "id": "Rjley3Vz5QjH"
      },
      "execution_count": 3,
      "outputs": []
    },
    {
      "cell_type": "markdown",
      "source": [],
      "metadata": {
        "id": "_nk4jh-z8r7d"
      }
    },
    {
      "cell_type": "code",
      "source": [
        "y"
      ],
      "metadata": {
        "id": "qtwGOo445Yge",
        "outputId": "15d9fcf1-d5e9-4cae-fea5-0a8b7e667310",
        "colab": {
          "base_uri": "https://localhost:8080/"
        }
      },
      "execution_count": 4,
      "outputs": [
        {
          "output_type": "execute_result",
          "data": {
            "text/plain": [
              "['a', 'b', 'c', 'd', 'e']"
            ]
          },
          "metadata": {},
          "execution_count": 4
        }
      ]
    },
    {
      "cell_type": "code",
      "source": [
        "#回回傳list裡面有幾個item\n",
        "len(x)"
      ],
      "metadata": {
        "id": "BRSfY0Aa5ame",
        "outputId": "73610353-0a4b-4b75-9e1b-4fd81dce878d",
        "colab": {
          "base_uri": "https://localhost:8080/"
        }
      },
      "execution_count": 24,
      "outputs": [
        {
          "output_type": "execute_result",
          "data": {
            "text/plain": [
              "5"
            ]
          },
          "metadata": {},
          "execution_count": 24
        }
      ]
    },
    {
      "cell_type": "code",
      "source": [
        "url = \"https://cc.tvbs.com.tw/img/upload/2022/04/23/20220423120702-606bb9e8.jpg\""
      ],
      "metadata": {
        "id": "eUYcc0mY5my0"
      },
      "execution_count": 25,
      "outputs": []
    },
    {
      "cell_type": "code",
      "source": [
        "type(url)"
      ],
      "metadata": {
        "id": "f4y3ySbw6AHK",
        "outputId": "14218be8-28e5-447f-f9ca-c498a37b24a3",
        "colab": {
          "base_uri": "https://localhost:8080/"
        }
      },
      "execution_count": 26,
      "outputs": [
        {
          "output_type": "execute_result",
          "data": {
            "text/plain": [
              "str"
            ]
          },
          "metadata": {},
          "execution_count": 26
        }
      ]
    },
    {
      "cell_type": "code",
      "source": [
        "# 方法(method)後面加上問號，執行後會顯示使用說明\n",
        "url.split?"
      ],
      "metadata": {
        "id": "Ke7-aww37dlt"
      },
      "execution_count": 27,
      "outputs": []
    },
    {
      "cell_type": "code",
      "source": [
        "# 使用'/'切割字串\n",
        "url.split('/')"
      ],
      "metadata": {
        "id": "rtmA1kFh6C3v",
        "outputId": "446a90d8-1cb4-4cf2-feff-44872f34474d",
        "colab": {
          "base_uri": "https://localhost:8080/"
        }
      },
      "execution_count": 28,
      "outputs": [
        {
          "output_type": "execute_result",
          "data": {
            "text/plain": [
              "['https:',\n",
              " '',\n",
              " 'cc.tvbs.com.tw',\n",
              " 'img',\n",
              " 'upload',\n",
              " '2022',\n",
              " '04',\n",
              " '23',\n",
              " '20220423120702-606bb9e8.jpg']"
            ]
          },
          "metadata": {},
          "execution_count": 28
        }
      ]
    },
    {
      "cell_type": "code",
      "source": [
        "url.split('/')[8]"
      ],
      "metadata": {
        "id": "383O_qt_6zl_",
        "outputId": "bd29dc4c-a2ca-4bb7-fc92-1a0d3a3f48da",
        "colab": {
          "base_uri": "https://localhost:8080/",
          "height": 35
        }
      },
      "execution_count": 29,
      "outputs": [
        {
          "output_type": "execute_result",
          "data": {
            "text/plain": [
              "'20220423120702-606bb9e8.jpg'"
            ],
            "application/vnd.google.colaboratory.intrinsic+json": {
              "type": "string"
            }
          },
          "metadata": {},
          "execution_count": 29
        }
      ]
    },
    {
      "cell_type": "code",
      "source": [
        "# 取得list中倒數第一個item\n",
        "url.split('/')[-1]"
      ],
      "metadata": {
        "id": "TdjfhNCj7Rf8",
        "outputId": "3f8e5478-4a65-4631-eb50-36c4a4f8493a",
        "colab": {
          "base_uri": "https://localhost:8080/",
          "height": 35
        }
      },
      "execution_count": 30,
      "outputs": [
        {
          "output_type": "execute_result",
          "data": {
            "text/plain": [
              "'20220423120702-606bb9e8.jpg'"
            ],
            "application/vnd.google.colaboratory.intrinsic+json": {
              "type": "string"
            }
          },
          "metadata": {},
          "execution_count": 30
        }
      ]
    },
    {
      "cell_type": "markdown",
      "source": [
        "### 如何取得li取得list中前幾個或後幾個items"
      ],
      "metadata": {
        "id": "Zm4jeNRF71bL"
      }
    },
    {
      "cell_type": "code",
      "source": [
        "# 顯示前三個items\n",
        "x[:3]"
      ],
      "metadata": {
        "id": "zO0FP3ge7yh7",
        "outputId": "fafbc061-47e7-4de8-d017-65f050952a31",
        "colab": {
          "base_uri": "https://localhost:8080/"
        }
      },
      "execution_count": 31,
      "outputs": [
        {
          "output_type": "execute_result",
          "data": {
            "text/plain": [
              "['a', 'b', 'c']"
            ]
          },
          "metadata": {},
          "execution_count": 31
        }
      ]
    },
    {
      "cell_type": "code",
      "source": [
        "# 顯示後三個items\n",
        "x[-3:]"
      ],
      "metadata": {
        "id": "mzmIoYsN8LcU",
        "outputId": "42353ff5-f196-4315-ed5c-dc92970f9c61",
        "colab": {
          "base_uri": "https://localhost:8080/"
        }
      },
      "execution_count": 34,
      "outputs": [
        {
          "output_type": "execute_result",
          "data": {
            "text/plain": [
              "['c', 'd', 'e']"
            ]
          },
          "metadata": {},
          "execution_count": 34
        }
      ]
    },
    {
      "cell_type": "markdown",
      "source": [
        "## dict (字典)"
      ],
      "metadata": {
        "id": "HcslFTVH8iOT"
      }
    },
    {
      "cell_type": "code",
      "source": [
        "# 建立一個空字典\n",
        "d = {}"
      ],
      "metadata": {
        "id": "vwamn3kd8uxK"
      },
      "execution_count": 39,
      "outputs": []
    },
    {
      "cell_type": "code",
      "source": [
        "type(d)"
      ],
      "metadata": {
        "id": "xELwmOvm8x1w",
        "outputId": "572ff66f-3583-4981-8741-b34a19c700c1",
        "colab": {
          "base_uri": "https://localhost:8080/"
        }
      },
      "execution_count": 40,
      "outputs": [
        {
          "output_type": "execute_result",
          "data": {
            "text/plain": [
              "dict"
            ]
          },
          "metadata": {},
          "execution_count": 40
        }
      ]
    },
    {
      "cell_type": "code",
      "source": [
        "# 加入一筆資料\n",
        "d['cat'] = '貓咪'"
      ],
      "metadata": {
        "id": "rHpqhh5x81b-"
      },
      "execution_count": 41,
      "outputs": []
    },
    {
      "cell_type": "code",
      "source": [
        "d"
      ],
      "metadata": {
        "id": "-PiT4I3d8_6_",
        "outputId": "4d9f7e17-1226-4000-c64c-56fef5a0ab87",
        "colab": {
          "base_uri": "https://localhost:8080/"
        }
      },
      "execution_count": 38,
      "outputs": [
        {
          "output_type": "execute_result",
          "data": {
            "text/plain": [
              "{'cat': '貓咪'}"
            ]
          },
          "metadata": {},
          "execution_count": 38
        }
      ]
    },
    {
      "cell_type": "code",
      "source": [
        "#加入第二筆資料\n",
        "d['dog'] = '狗'"
      ],
      "metadata": {
        "id": "i_jGyZSq9UV3"
      },
      "execution_count": 43,
      "outputs": []
    },
    {
      "cell_type": "code",
      "source": [
        "#查詢資料\n",
        "d['cat']"
      ],
      "metadata": {
        "id": "Pk5hp3Jx9h6J",
        "outputId": "301b522a-28de-4a4b-e9de-3dfd35516b58",
        "colab": {
          "base_uri": "https://localhost:8080/",
          "height": 35
        }
      },
      "execution_count": 44,
      "outputs": [
        {
          "output_type": "execute_result",
          "data": {
            "text/plain": [
              "'貓咪'"
            ],
            "application/vnd.google.colaboratory.intrinsic+json": {
              "type": "string"
            }
          },
          "metadata": {},
          "execution_count": 44
        }
      ]
    },
    {
      "cell_type": "markdown",
      "source": [
        "# for迴圈與list及dict的合用"
      ],
      "metadata": {
        "id": "n3F2qxeS-xlX"
      }
    },
    {
      "cell_type": "code",
      "source": [
        "for i in range(5):\n",
        "  print(i)"
      ],
      "metadata": {
        "id": "Pg1QK9889ppe",
        "outputId": "22cee8e4-7a45-4158-819c-d68e0b6bbedd",
        "colab": {
          "base_uri": "https://localhost:8080/"
        }
      },
      "execution_count": 50,
      "outputs": [
        {
          "output_type": "stream",
          "name": "stdout",
          "text": [
            "0\n",
            "1\n",
            "2\n",
            "3\n",
            "4\n"
          ]
        }
      ]
    },
    {
      "cell_type": "code",
      "source": [
        "x"
      ],
      "metadata": {
        "id": "e4URGHlP_RPB",
        "outputId": "e2fcfafd-7797-487b-e444-077e6131551f",
        "colab": {
          "base_uri": "https://localhost:8080/"
        }
      },
      "execution_count": 51,
      "outputs": [
        {
          "output_type": "execute_result",
          "data": {
            "text/plain": [
              "['a', 'b', 'c', 'd', 'e']"
            ]
          },
          "metadata": {},
          "execution_count": 51
        }
      ]
    },
    {
      "cell_type": "code",
      "source": [
        "#for迴圈與list合用\n",
        "for i in x:\n",
        "  print(i)"
      ],
      "metadata": {
        "id": "A3bSRlXz_SQ3",
        "outputId": "bfdda948-38f3-412a-be4c-daf7247e4c64",
        "colab": {
          "base_uri": "https://localhost:8080/"
        }
      },
      "execution_count": 52,
      "outputs": [
        {
          "output_type": "stream",
          "name": "stdout",
          "text": [
            "a\n",
            "b\n",
            "c\n",
            "d\n",
            "e\n"
          ]
        }
      ]
    },
    {
      "cell_type": "code",
      "source": [
        "#for迴圈與字典合用\n",
        "for i in d:\n",
        "  print(i)"
      ],
      "metadata": {
        "id": "sooGvrxB_XNk",
        "outputId": "de8ddc43-7f1f-4f46-ab12-93f43e942d8d",
        "colab": {
          "base_uri": "https://localhost:8080/"
        }
      },
      "execution_count": 53,
      "outputs": [
        {
          "output_type": "stream",
          "name": "stdout",
          "text": [
            "cat\n",
            "dog\n"
          ]
        }
      ]
    },
    {
      "cell_type": "code",
      "source": [
        "for i in d:\n",
        "  print(d[i])"
      ],
      "metadata": {
        "id": "jROoemQN_9uQ",
        "outputId": "c6c926ef-7aa2-4039-9dfd-1bad64beffd6",
        "colab": {
          "base_uri": "https://localhost:8080/"
        }
      },
      "execution_count": 54,
      "outputs": [
        {
          "output_type": "stream",
          "name": "stdout",
          "text": [
            "貓咪\n",
            "狗\n"
          ]
        }
      ]
    },
    {
      "cell_type": "code",
      "source": [
        "for i in d:\n",
        "  print(i,\":\",d[i])"
      ],
      "metadata": {
        "id": "faGi9Ju7ANyW",
        "outputId": "ba8e4742-cbb5-442a-8de1-01eec3fa3a46",
        "colab": {
          "base_uri": "https://localhost:8080/"
        }
      },
      "execution_count": 57,
      "outputs": [
        {
          "output_type": "stream",
          "name": "stdout",
          "text": [
            "cat : 貓咪\n",
            "dog : 狗\n"
          ]
        }
      ]
    },
    {
      "cell_type": "markdown",
      "source": [
        "# 使用reqeuests抓取資料"
      ],
      "metadata": {
        "id": "UbnHcfGrMHMY"
      }
    },
    {
      "cell_type": "markdown",
      "source": [
        "## 抓取網頁原始碼"
      ],
      "metadata": {
        "id": "x755iTu1NMop"
      }
    },
    {
      "cell_type": "code",
      "source": [
        "url = \"https://victorgau.github.io/khpy_web_intro/html_only.html\""
      ],
      "metadata": {
        "id": "9LvpQNhZMzsz"
      },
      "execution_count": 58,
      "outputs": []
    },
    {
      "cell_type": "code",
      "source": [
        "# 載入requests用來抓取網路上的資料\n",
        "import requests"
      ],
      "metadata": {
        "id": "9K84lpTUNbA0"
      },
      "execution_count": 62,
      "outputs": []
    },
    {
      "cell_type": "code",
      "source": [
        "# 取得特定網址的網頁原始碼,並將回傳的內容(包含headers)放入變數r\n",
        "r = requests.get(url)"
      ],
      "metadata": {
        "id": "U1c7jnkgNgvr"
      },
      "execution_count": 63,
      "outputs": []
    },
    {
      "cell_type": "code",
      "source": [
        "#印出回傳值中的.text的部分(即網頁原始碼)\n",
        "print(r.text)"
      ],
      "metadata": {
        "id": "TIOnNWjKNmoL",
        "outputId": "f313053d-5d41-4cd5-b950-cc3d6bd2f544",
        "colab": {
          "base_uri": "https://localhost:8080/"
        }
      },
      "execution_count": 64,
      "outputs": [
        {
          "output_type": "stream",
          "name": "stdout",
          "text": [
            "<!DOCTYPE html>\n",
            "<html>\n",
            "<head>\n",
            "    <title>HTML範例</title>\n",
            "</head>\n",
            "<body>\n",
            "\n",
            "<h1>哈囉！HTML！</h1>\n",
            "\n",
            "<img src=\"ninja.jpg\" />\n",
            "\n",
            "</body>\n",
            "</html>\n"
          ]
        }
      ]
    },
    {
      "cell_type": "markdown",
      "source": [
        "## 使用requests呼叫web API,寫一個中文字典\n",
        "萌典API:https://github.com/g0v/moedict-webkit\n",
        "\n",
        "API: Application Programming Interface\n",
        "\n",
        "API是一個提供應用程式(Application)使用程式(Progaram)來存取特定服務的介面(Interface)"
      ],
      "metadata": {
        "id": "hasGKN8-Ordf"
      }
    },
    {
      "cell_type": "markdown",
      "source": [
        "##### 方法一"
      ],
      "metadata": {
        "id": "8gMp9gg5QzX7"
      }
    },
    {
      "cell_type": "markdown",
      "source": [
        "##### 抓取資料"
      ],
      "metadata": {
        "id": "A72-1RmLUvlA"
      }
    },
    {
      "cell_type": "code",
      "source": [
        "import json"
      ],
      "metadata": {
        "id": "n1ZFNnypUiMo"
      },
      "execution_count": 76,
      "outputs": []
    },
    {
      "cell_type": "code",
      "source": [
        "q = \"疆埸\""
      ],
      "metadata": {
        "id": "1Ns9WKYKQ8B7"
      },
      "execution_count": 77,
      "outputs": []
    },
    {
      "cell_type": "code",
      "source": [
        "url = \"https://www.moedict.tw/uni/\" + q"
      ],
      "metadata": {
        "id": "ZR08sLI3PQ60"
      },
      "execution_count": 78,
      "outputs": []
    },
    {
      "cell_type": "code",
      "source": [
        "url"
      ],
      "metadata": {
        "id": "Aece_NLDRB-0",
        "outputId": "43961be4-efbe-48b4-d08e-8dd65a118add",
        "colab": {
          "base_uri": "https://localhost:8080/",
          "height": 35
        }
      },
      "execution_count": 79,
      "outputs": [
        {
          "output_type": "execute_result",
          "data": {
            "text/plain": [
              "'https://www.moedict.tw/uni/疆埸'"
            ],
            "application/vnd.google.colaboratory.intrinsic+json": {
              "type": "string"
            }
          },
          "metadata": {},
          "execution_count": 79
        }
      ]
    },
    {
      "cell_type": "code",
      "source": [
        "r = requests.get(url)"
      ],
      "metadata": {
        "id": "IVArvnL4RXBg"
      },
      "execution_count": 80,
      "outputs": []
    },
    {
      "cell_type": "code",
      "source": [
        "print(r.text)"
      ],
      "metadata": {
        "id": "yC-VVUIvRevh",
        "outputId": "db0179d7-23ff-4eb5-e1bb-541c142a14e6",
        "colab": {
          "base_uri": "https://localhost:8080/"
        }
      },
      "execution_count": 81,
      "outputs": [
        {
          "output_type": "stream",
          "name": "stdout",
          "text": [
            "\t{\n",
            "\t\t\"heteronyms\": [\n",
            "\t\t\t{\n",
            "\t\t\t\t\"bopomofo\": \"ㄐㄧㄤ ㄧˋ\",\n",
            "\t\t\t\t\"bopomofo2\": \"jiāng yì\",\n",
            "\t\t\t\t\"definitions\": [\n",
            "\t\t\t\t\t{\n",
            "\t\t\t\t\t\t\"def\": \"國界、邊境。\",\n",
            "\t\t\t\t\t\t\"quote\": [\n",
            "\t\t\t\t\t\t\t\"左傳．桓公十七年：「疆埸之事，慎守其一，而備其不虞。」\",\n",
            "\t\t\t\t\t\t\t\"晉．江統．徙戎論：「惟以待之有備，禦之有常，雖稽顙執贄，而邊城不弛固守，為寇賊彊暴，而兵甲不加遠征，期令境內獲安，疆埸不侵而已。」\"\n",
            "\t\t\t\t\t\t]\n",
            "\t\t\t\t\t},\n",
            "\t\t\t\t\t{\n",
            "\t\t\t\t\t\t\"def\": \"田畔、田界。\",\n",
            "\t\t\t\t\t\t\"quote\": [\n",
            "\t\t\t\t\t\t\t\"詩經．小雅．信南山：「中田有廬，疆埸有瓜。」\"\n",
            "\t\t\t\t\t\t]\n",
            "\t\t\t\t\t},\n",
            "\t\t\t\t\t{\n",
            "\t\t\t\t\t\t\"def\": \"戰場。唐．杜牧．為中書省門下請追尊號表：「今陛下用仁義為干戈，以恩信為疆埸，所求必至，有鬥必先。」俗誤作「疆場」。\"\n",
            "\t\t\t\t\t}\n",
            "\t\t\t\t],\n",
            "\t\t\t\t\"pinyin\": \"jiāng yì\"\n",
            "\t\t\t}\n",
            "\t\t],\n",
            "\t\t\"title\": \"疆埸\"\n",
            "\t}\n"
          ]
        }
      ]
    },
    {
      "cell_type": "markdown",
      "source": [
        "##### 剖析資料"
      ],
      "metadata": {
        "id": "8DcXTfDZUz1H"
      }
    },
    {
      "cell_type": "code",
      "source": [
        "data = json.loads(r.text)"
      ],
      "metadata": {
        "id": "jAUfaVkpU5YN"
      },
      "execution_count": 82,
      "outputs": []
    },
    {
      "cell_type": "code",
      "source": [
        "type(data)"
      ],
      "metadata": {
        "id": "ZUj8-Y0qVCm5",
        "outputId": "0063c13c-3c0a-4634-b889-748eef231091",
        "colab": {
          "base_uri": "https://localhost:8080/"
        }
      },
      "execution_count": 83,
      "outputs": [
        {
          "output_type": "execute_result",
          "data": {
            "text/plain": [
              "dict"
            ]
          },
          "metadata": {},
          "execution_count": 83
        }
      ]
    },
    {
      "cell_type": "code",
      "source": [
        "data"
      ],
      "metadata": {
        "id": "k4HhDSU2VGup",
        "outputId": "b9832cc2-95ee-4327-c39a-cf807cbed0e0",
        "colab": {
          "base_uri": "https://localhost:8080/"
        }
      },
      "execution_count": 90,
      "outputs": [
        {
          "output_type": "execute_result",
          "data": {
            "text/plain": [
              "{'heteronyms': [{'bopomofo': 'ㄐㄧㄤ ㄧˋ',\n",
              "   'bopomofo2': 'jiāng yì',\n",
              "   'definitions': [{'def': '國界、邊境。',\n",
              "     'quote': ['左傳．桓公十七年：「疆埸之事，慎守其一，而備其不虞。」',\n",
              "      '晉．江統．徙戎論：「惟以待之有備，禦之有常，雖稽顙執贄，而邊城不弛固守，為寇賊彊暴，而兵甲不加遠征，期令境內獲安，疆埸不侵而已。」']},\n",
              "    {'def': '田畔、田界。', 'quote': ['詩經．小雅．信南山：「中田有廬，疆埸有瓜。」']},\n",
              "    {'def': '戰場。唐．杜牧．為中書省門下請追尊號表：「今陛下用仁義為干戈，以恩信為疆埸，所求必至，有鬥必先。」俗誤作「疆場」。'}],\n",
              "   'pinyin': 'jiāng yì'}],\n",
              " 'title': '疆埸'}"
            ]
          },
          "metadata": {},
          "execution_count": 90
        }
      ]
    },
    {
      "cell_type": "code",
      "source": [
        "data['heteronyms']"
      ],
      "metadata": {
        "id": "rufG1oY9VZst",
        "outputId": "7eb874ba-04dc-42d7-d8bd-5bc64df48d8a",
        "colab": {
          "base_uri": "https://localhost:8080/"
        }
      },
      "execution_count": 92,
      "outputs": [
        {
          "output_type": "execute_result",
          "data": {
            "text/plain": [
              "[{'bopomofo': 'ㄐㄧㄤ ㄧˋ',\n",
              "  'bopomofo2': 'jiāng yì',\n",
              "  'definitions': [{'def': '國界、邊境。',\n",
              "    'quote': ['左傳．桓公十七年：「疆埸之事，慎守其一，而備其不虞。」',\n",
              "     '晉．江統．徙戎論：「惟以待之有備，禦之有常，雖稽顙執贄，而邊城不弛固守，為寇賊彊暴，而兵甲不加遠征，期令境內獲安，疆埸不侵而已。」']},\n",
              "   {'def': '田畔、田界。', 'quote': ['詩經．小雅．信南山：「中田有廬，疆埸有瓜。」']},\n",
              "   {'def': '戰場。唐．杜牧．為中書省門下請追尊號表：「今陛下用仁義為干戈，以恩信為疆埸，所求必至，有鬥必先。」俗誤作「疆場」。'}],\n",
              "  'pinyin': 'jiāng yì'}]"
            ]
          },
          "metadata": {},
          "execution_count": 92
        }
      ]
    },
    {
      "cell_type": "code",
      "source": [
        "type(data['heteronyms'])"
      ],
      "metadata": {
        "id": "3p382ySUWajY",
        "outputId": "dbd35a00-25fb-49d0-84f9-0ef7e05e5617",
        "colab": {
          "base_uri": "https://localhost:8080/"
        }
      },
      "execution_count": 93,
      "outputs": [
        {
          "output_type": "execute_result",
          "data": {
            "text/plain": [
              "list"
            ]
          },
          "metadata": {},
          "execution_count": 93
        }
      ]
    },
    {
      "cell_type": "code",
      "source": [
        "len(data['heteronyms'])"
      ],
      "metadata": {
        "id": "NhFk1dqbW__1",
        "outputId": "1dc219fe-7031-484c-ec02-40efb3431cd0",
        "colab": {
          "base_uri": "https://localhost:8080/"
        }
      },
      "execution_count": 94,
      "outputs": [
        {
          "output_type": "execute_result",
          "data": {
            "text/plain": [
              "1"
            ]
          },
          "metadata": {},
          "execution_count": 94
        }
      ]
    },
    {
      "cell_type": "code",
      "source": [
        "data['heteronyms'][0]"
      ],
      "metadata": {
        "id": "JDapSiUDXIAv",
        "outputId": "5fe18ad6-8627-4baa-fef2-667d345204c5",
        "colab": {
          "base_uri": "https://localhost:8080/"
        }
      },
      "execution_count": 95,
      "outputs": [
        {
          "output_type": "execute_result",
          "data": {
            "text/plain": [
              "{'bopomofo': 'ㄐㄧㄤ ㄧˋ',\n",
              " 'bopomofo2': 'jiāng yì',\n",
              " 'definitions': [{'def': '國界、邊境。',\n",
              "   'quote': ['左傳．桓公十七年：「疆埸之事，慎守其一，而備其不虞。」',\n",
              "    '晉．江統．徙戎論：「惟以待之有備，禦之有常，雖稽顙執贄，而邊城不弛固守，為寇賊彊暴，而兵甲不加遠征，期令境內獲安，疆埸不侵而已。」']},\n",
              "  {'def': '田畔、田界。', 'quote': ['詩經．小雅．信南山：「中田有廬，疆埸有瓜。」']},\n",
              "  {'def': '戰場。唐．杜牧．為中書省門下請追尊號表：「今陛下用仁義為干戈，以恩信為疆埸，所求必至，有鬥必先。」俗誤作「疆場」。'}],\n",
              " 'pinyin': 'jiāng yì'}"
            ]
          },
          "metadata": {},
          "execution_count": 95
        }
      ]
    },
    {
      "cell_type": "code",
      "source": [
        "data['heteronyms'][0]['definitions']"
      ],
      "metadata": {
        "id": "JaamPoE2XJcG",
        "outputId": "dfcbbe51-4271-41e1-e9a6-17f8e062908f",
        "colab": {
          "base_uri": "https://localhost:8080/"
        }
      },
      "execution_count": 100,
      "outputs": [
        {
          "output_type": "execute_result",
          "data": {
            "text/plain": [
              "[{'def': '國界、邊境。',\n",
              "  'quote': ['左傳．桓公十七年：「疆埸之事，慎守其一，而備其不虞。」',\n",
              "   '晉．江統．徙戎論：「惟以待之有備，禦之有常，雖稽顙執贄，而邊城不弛固守，為寇賊彊暴，而兵甲不加遠征，期令境內獲安，疆埸不侵而已。」']},\n",
              " {'def': '田畔、田界。', 'quote': ['詩經．小雅．信南山：「中田有廬，疆埸有瓜。」']},\n",
              " {'def': '戰場。唐．杜牧．為中書省門下請追尊號表：「今陛下用仁義為干戈，以恩信為疆埸，所求必至，有鬥必先。」俗誤作「疆場」。'}]"
            ]
          },
          "metadata": {},
          "execution_count": 100
        }
      ]
    },
    {
      "cell_type": "code",
      "source": [
        "data['heteronyms'][0]['definitions'][0]   "
      ],
      "metadata": {
        "id": "_RTKJ--uXszV",
        "outputId": "b90d9d18-616f-4829-82b7-6337bf409536",
        "colab": {
          "base_uri": "https://localhost:8080/"
        }
      },
      "execution_count": 101,
      "outputs": [
        {
          "output_type": "execute_result",
          "data": {
            "text/plain": [
              "{'def': '國界、邊境。',\n",
              " 'quote': ['左傳．桓公十七年：「疆埸之事，慎守其一，而備其不虞。」',\n",
              "  '晉．江統．徙戎論：「惟以待之有備，禦之有常，雖稽顙執贄，而邊城不弛固守，為寇賊彊暴，而兵甲不加遠征，期令境內獲安，疆埸不侵而已。」']}"
            ]
          },
          "metadata": {},
          "execution_count": 101
        }
      ]
    },
    {
      "cell_type": "code",
      "source": [
        "data['heteronyms'][0]['definitions'][0]['def'] "
      ],
      "metadata": {
        "id": "n-rHOIAlXYpL",
        "outputId": "18cf5387-cfe4-40cc-facb-f914fc3c6706",
        "colab": {
          "base_uri": "https://localhost:8080/",
          "height": 35
        }
      },
      "execution_count": 99,
      "outputs": [
        {
          "output_type": "execute_result",
          "data": {
            "text/plain": [
              "'國界、邊境。'"
            ],
            "application/vnd.google.colaboratory.intrinsic+json": {
              "type": "string"
            }
          },
          "metadata": {},
          "execution_count": 99
        }
      ]
    },
    {
      "cell_type": "markdown",
      "source": [
        "##### 方法二"
      ],
      "metadata": {
        "id": "6c0_DwDxYFmh"
      }
    },
    {
      "cell_type": "code",
      "source": [
        "#直接將抓取json資料跟剖析json資料寫在一起\n",
        "data = requests.get(url).json()"
      ],
      "metadata": {
        "id": "sl2i4jlFYUOB"
      },
      "execution_count": 104,
      "outputs": []
    },
    {
      "cell_type": "code",
      "source": [
        "#取得我們所需的資訊\n",
        "data['heteronyms'][0]['definitions'][0]['def']"
      ],
      "metadata": {
        "id": "2QnuRGevYc7t",
        "outputId": "0d637519-f89e-4ec0-802f-0771dd034668",
        "colab": {
          "base_uri": "https://localhost:8080/",
          "height": 35
        }
      },
      "execution_count": 103,
      "outputs": [
        {
          "output_type": "execute_result",
          "data": {
            "text/plain": [
              "'國界、邊境。'"
            ],
            "application/vnd.google.colaboratory.intrinsic+json": {
              "type": "string"
            }
          },
          "metadata": {},
          "execution_count": 103
        }
      ]
    },
    {
      "cell_type": "markdown",
      "source": [
        "#### 將方法二寫成函式來使用"
      ],
      "metadata": {
        "id": "HhKLjuRvY-Kn"
      }
    },
    {
      "cell_type": "code",
      "source": [
        "def lookup(q):\n",
        "  url = \"https://www.moedict.tw/uni/\" + q\n",
        "  data = requests.get(url).json()\n",
        "  return data['heteronyms'][0]['definitions'][0]['def']"
      ],
      "metadata": {
        "id": "U7c6gTHvY0tf"
      },
      "execution_count": 105,
      "outputs": []
    },
    {
      "cell_type": "code",
      "source": [
        "lookup('疆域')"
      ],
      "metadata": {
        "id": "BacrA30_aOAB",
        "outputId": "acd65ed0-ac01-4d73-c706-d6169da0de12",
        "colab": {
          "base_uri": "https://localhost:8080/",
          "height": 35
        }
      },
      "execution_count": 107,
      "outputs": [
        {
          "output_type": "execute_result",
          "data": {
            "text/plain": [
              "'國土、國境。'"
            ],
            "application/vnd.google.colaboratory.intrinsic+json": {
              "type": "string"
            }
          },
          "metadata": {},
          "execution_count": 107
        }
      ]
    },
    {
      "cell_type": "code",
      "source": [
        "lookup('懿')"
      ],
      "metadata": {
        "id": "S2_0voYgaXeG",
        "outputId": "bcdfae86-3265-4abd-8c89-71ec4293b765",
        "colab": {
          "base_uri": "https://localhost:8080/",
          "height": 35
        }
      },
      "execution_count": 108,
      "outputs": [
        {
          "output_type": "execute_result",
          "data": {
            "text/plain": [
              "'美好、美善的。'"
            ],
            "application/vnd.google.colaboratory.intrinsic+json": {
              "type": "string"
            }
          },
          "metadata": {},
          "execution_count": 108
        }
      ]
    },
    {
      "cell_type": "markdown",
      "source": [
        "#### reqeusts.get(url).json()是什麼?\n",
        "\n",
        "底下有兩個東西結果是一樣的:\n",
        "\n",
        "作法一：\n",
        "```python\n",
        "import requests\n",
        "import json\n",
        "\n",
        "r = requests.get(url)\n",
        "data = json.loads(r.text)\n",
        "```\n",
        "\n",
        "作法二:\n",
        "```python\n",
        "import requests\n",
        "\n",
        "data = requests.get(url).json()\n",
        "```"
      ],
      "metadata": {
        "id": "7WE93mSBbgzN"
      }
    },
    {
      "cell_type": "markdown",
      "source": [
        "#### 讀取0050成份股\n",
        "https://www.yuantaetfs.com/api/StkWeights?date=&fundid=1066"
      ],
      "metadata": {
        "id": "BDL0VCkmd0JI"
      }
    },
    {
      "cell_type": "code",
      "source": [
        "url = \"https://www.yuantaetfs.com/api/StkWeights?date=&fundid=1066\""
      ],
      "metadata": {
        "id": "HlB3p9c7eEAT"
      },
      "execution_count": 116,
      "outputs": []
    },
    {
      "cell_type": "code",
      "source": [
        "data = requests.get(url).json()"
      ],
      "metadata": {
        "id": "ojVIKGeveOs3"
      },
      "execution_count": 122,
      "outputs": []
    },
    {
      "cell_type": "code",
      "source": [
        "data[0]"
      ],
      "metadata": {
        "id": "f5maJtNSeb4X",
        "outputId": "3569b0a4-55b1-4b53-bc2f-4712443399f2",
        "colab": {
          "base_uri": "https://localhost:8080/"
        }
      },
      "execution_count": 126,
      "outputs": [
        {
          "output_type": "execute_result",
          "data": {
            "text/plain": [
              "{'code': '2330',\n",
              " 'ym': None,\n",
              " 'name': '台積電',\n",
              " 'ename': 'Taiwan Semiconductor Manufacturing Co. Ltd.',\n",
              " 'weights': 48.73,\n",
              " 'qty': 246120278.0}"
            ]
          },
          "metadata": {},
          "execution_count": 126
        }
      ]
    },
    {
      "cell_type": "code",
      "source": [
        "for i in data:\n",
        "  print(i['code'],\":\",i['name'])"
      ],
      "metadata": {
        "id": "zXsSUJgneqa_",
        "outputId": "2a7db6f2-3fdf-4c99-a40d-2b928c8b160d",
        "colab": {
          "base_uri": "https://localhost:8080/"
        }
      },
      "execution_count": 128,
      "outputs": [
        {
          "output_type": "stream",
          "name": "stdout",
          "text": [
            "2330 : 台積電\n",
            "2317 : 鴻海\n",
            "2454 : 聯發科\n",
            "2308 : 台達電\n",
            "2303 : 聯電\n",
            "2881 : 富邦金\n",
            "2412 : 中華電\n",
            "1303 : 南亞\n",
            "2891 : 中信金\n",
            "2002 : 中鋼\n",
            "2882 : 國泰金\n",
            "2886 : 兆豐金\n",
            "3711 : 日月光投控\n",
            "2884 : 玉山金\n",
            "1301 : 台塑\n",
            "5871 : 中租-KY\n",
            "1216 : 統一\n",
            "2892 : 第一金\n",
            "2885 : 元大金\n",
            "5880 : 合庫金\n",
            "1326 : 台化\n",
            "1101 : 台泥\n",
            "3008 : 大立光\n",
            "2880 : 華南金\n",
            "3034 : 聯詠\n",
            "2382 : 廣達\n",
            "6415 : 矽力*-KY\n",
            "2883 : 開發金\n",
            "2327 : 國巨\n",
            "2207 : 和泰車\n",
            "2357 : 華碩\n",
            "2887 : 台新金\n",
            "2890 : 永豐金\n",
            "1590 : 亞德客-KY\n",
            "2379 : 瑞昱\n",
            "3045 : 台灣大\n",
            "5876 : 上海商銀\n",
            "3037 : 欣興\n",
            "2912 : 統一超\n",
            "2395 : 研華\n",
            "2603 : 長榮\n",
            "1402 : 遠東新\n",
            "2801 : 彰銀\n",
            "6505 : 台塑化\n",
            "4904 : 遠傳\n",
            "2615 : 萬海\n",
            "2609 : 陽明\n",
            "9910 : 豐泰\n",
            "8046 : 南電\n",
            "2408 : 南亞科\n"
          ]
        }
      ]
    }
  ]
}