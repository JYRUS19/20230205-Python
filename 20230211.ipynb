{
  "nbformat": 4,
  "nbformat_minor": 0,
  "metadata": {
    "colab": {
      "provenance": [],
      "authorship_tag": "ABX9TyN7T7akn7+65nqBy6H3jWcd",
      "include_colab_link": true
    },
    "kernelspec": {
      "name": "python3",
      "display_name": "Python 3"
    },
    "language_info": {
      "name": "python"
    }
  },
  "cells": [
    {
      "cell_type": "markdown",
      "metadata": {
        "id": "view-in-github",
        "colab_type": "text"
      },
      "source": [
        "<a href=\"https://colab.research.google.com/github/JYRUS19/20230205-Python/blob/main/20230211.ipynb\" target=\"_parent\"><img src=\"https://colab.research.google.com/assets/colab-badge.svg\" alt=\"Open In Colab\"/></a>"
      ]
    },
    {
      "cell_type": "markdown",
      "source": [
        "# 20230211筆記\n"
      ],
      "metadata": {
        "id": "qwEau0qDMYhO"
      }
    },
    {
      "cell_type": "markdown",
      "source": [
        "# 基本資料型態\n",
        "\n",
        "* int (整數)\n",
        "* float (浮點數)\n",
        "* bool (布林變數)\n",
        "* str (字串:文字訊息)\n",
        "\n",
        "使用 `type(變數)` 可以檢查變數裡面的資料型態。"
      ],
      "metadata": {
        "id": "YKQEIEwVUIQW"
      }
    },
    {
      "cell_type": "markdown",
      "source": [
        "## 整數除法(//)\n"
      ],
      "metadata": {
        "id": "YLACNZ6JU3Uy"
      }
    },
    {
      "cell_type": "code",
      "source": [
        "x = 1"
      ],
      "metadata": {
        "id": "XejN_4AgMen3"
      },
      "execution_count": 1,
      "outputs": []
    },
    {
      "cell_type": "code",
      "source": [
        "z = 2"
      ],
      "metadata": {
        "id": "MOdBB1H3Yvuf"
      },
      "execution_count": 32,
      "outputs": []
    },
    {
      "cell_type": "code",
      "source": [
        "y = 4/2\n",
        "#在Python裡面,使用一個除法/ 會變成浮點數,如果是使用兩個//,則會變成整數"
      ],
      "metadata": {
        "id": "nctsIrEtQyR1"
      },
      "execution_count": 15,
      "outputs": []
    },
    {
      "cell_type": "code",
      "source": [
        "u = 4//2"
      ],
      "metadata": {
        "id": "BsyoUrB5Wn7Z"
      },
      "execution_count": 16,
      "outputs": []
    },
    {
      "cell_type": "code",
      "source": [
        "type(u)"
      ],
      "metadata": {
        "id": "-9a3HL_7Wtnm",
        "outputId": "cc011ed1-1cea-49e5-a436-1beac25c0d15",
        "colab": {
          "base_uri": "https://localhost:8080/"
        }
      },
      "execution_count": 17,
      "outputs": [
        {
          "output_type": "execute_result",
          "data": {
            "text/plain": [
              "int"
            ]
          },
          "metadata": {},
          "execution_count": 17
        }
      ]
    },
    {
      "cell_type": "code",
      "source": [
        "u"
      ],
      "metadata": {
        "id": "_OPHH05AWx9B",
        "outputId": "588138f5-a9d0-4f1c-929c-623a96bac1f5",
        "colab": {
          "base_uri": "https://localhost:8080/"
        }
      },
      "execution_count": 18,
      "outputs": [
        {
          "output_type": "execute_result",
          "data": {
            "text/plain": [
              "2"
            ]
          },
          "metadata": {},
          "execution_count": 18
        }
      ]
    },
    {
      "cell_type": "code",
      "source": [
        "y"
      ],
      "metadata": {
        "id": "96IgTgMPWz50",
        "outputId": "e10acb28-3031-41ee-da23-6d039ae3b0e5",
        "colab": {
          "base_uri": "https://localhost:8080/"
        }
      },
      "execution_count": 19,
      "outputs": [
        {
          "output_type": "execute_result",
          "data": {
            "text/plain": [
              "2.0"
            ]
          },
          "metadata": {},
          "execution_count": 19
        }
      ]
    },
    {
      "cell_type": "code",
      "source": [
        "type(y)"
      ],
      "metadata": {
        "id": "vmOLt8vmRKBb",
        "outputId": "fbddf7c7-75d4-488e-b538-a1430e8087ca",
        "colab": {
          "base_uri": "https://localhost:8080/"
        }
      },
      "execution_count": 14,
      "outputs": [
        {
          "output_type": "execute_result",
          "data": {
            "text/plain": [
              "float"
            ]
          },
          "metadata": {},
          "execution_count": 14
        }
      ]
    },
    {
      "cell_type": "markdown",
      "source": [
        "## 次方(**)"
      ],
      "metadata": {
        "id": "zXFtupDjXHWI"
      }
    },
    {
      "cell_type": "code",
      "source": [
        "2**2"
      ],
      "metadata": {
        "id": "y9R4zYkQXLFm",
        "outputId": "ccb01d11-6bcf-41e7-9d7c-4b32a20cf8e9",
        "colab": {
          "base_uri": "https://localhost:8080/"
        }
      },
      "execution_count": 20,
      "outputs": [
        {
          "output_type": "execute_result",
          "data": {
            "text/plain": [
              "4"
            ]
          },
          "metadata": {},
          "execution_count": 20
        }
      ]
    },
    {
      "cell_type": "code",
      "source": [
        "2**4"
      ],
      "metadata": {
        "id": "djMcT6fQXPBg",
        "outputId": "ec625956-992e-4edc-e187-e0348bd8487c",
        "colab": {
          "base_uri": "https://localhost:8080/"
        }
      },
      "execution_count": 21,
      "outputs": [
        {
          "output_type": "execute_result",
          "data": {
            "text/plain": [
              "16"
            ]
          },
          "metadata": {},
          "execution_count": 21
        }
      ]
    },
    {
      "cell_type": "markdown",
      "source": [
        "## 什麼是bool?\n"
      ],
      "metadata": {
        "id": "yRcNqCFPXeYN"
      }
    },
    {
      "cell_type": "code",
      "source": [
        "3 > 2\n",
        "# bool 布林變數,為True或False"
      ],
      "metadata": {
        "id": "zOJALtzhXiQM",
        "outputId": "1453ffbd-152a-4eca-da85-7111268bfbbf",
        "colab": {
          "base_uri": "https://localhost:8080/"
        }
      },
      "execution_count": 29,
      "outputs": [
        {
          "output_type": "execute_result",
          "data": {
            "text/plain": [
              "True"
            ]
          },
          "metadata": {},
          "execution_count": 29
        }
      ]
    },
    {
      "cell_type": "code",
      "source": [
        "2 > 3"
      ],
      "metadata": {
        "id": "reFNSRKtX4on",
        "outputId": "ee5377d4-4ab8-4e55-fe11-0a08f963b745",
        "colab": {
          "base_uri": "https://localhost:8080/"
        }
      },
      "execution_count": 23,
      "outputs": [
        {
          "output_type": "execute_result",
          "data": {
            "text/plain": [
              "False"
            ]
          },
          "metadata": {},
          "execution_count": 23
        }
      ]
    },
    {
      "cell_type": "code",
      "source": [
        "True + True"
      ],
      "metadata": {
        "id": "CS2Cy360X-A1",
        "outputId": "31f2d44d-47fd-4939-a7ca-cdf2a68e5ae9",
        "colab": {
          "base_uri": "https://localhost:8080/"
        }
      },
      "execution_count": 26,
      "outputs": [
        {
          "output_type": "execute_result",
          "data": {
            "text/plain": [
              "2"
            ]
          },
          "metadata": {},
          "execution_count": 26
        }
      ]
    },
    {
      "cell_type": "code",
      "source": [
        "True + False"
      ],
      "metadata": {
        "id": "KZot1QG1YHGW",
        "outputId": "208847a4-7ba8-4283-fb02-59a52c61f03b",
        "colab": {
          "base_uri": "https://localhost:8080/"
        }
      },
      "execution_count": 30,
      "outputs": [
        {
          "output_type": "execute_result",
          "data": {
            "text/plain": [
              "1"
            ]
          },
          "metadata": {},
          "execution_count": 30
        }
      ]
    },
    {
      "cell_type": "code",
      "source": [
        "x == z\n",
        "#兩個== 是用來比較兩個變數內的值有沒有相等"
      ],
      "metadata": {
        "id": "5YRgfjqwYUQA",
        "outputId": "e0992b60-cc68-4ef4-8186-9a9ebd94987e",
        "colab": {
          "base_uri": "https://localhost:8080/"
        }
      },
      "execution_count": 33,
      "outputs": [
        {
          "output_type": "execute_result",
          "data": {
            "text/plain": [
              "False"
            ]
          },
          "metadata": {},
          "execution_count": 33
        }
      ]
    },
    {
      "cell_type": "markdown",
      "source": [
        "## 關於字串\n",
        "\n",
        "https://github.com/vcdemy/python_basics/blob/main/%E5%AD%97%E4%B8%B2.md"
      ],
      "metadata": {
        "id": "73LA68qVZCCY"
      }
    },
    {
      "cell_type": "code",
      "source": [
        "w = \"dog\""
      ],
      "metadata": {
        "id": "4LT2wdDGZFKa"
      },
      "execution_count": 34,
      "outputs": []
    },
    {
      "cell_type": "code",
      "source": [],
      "metadata": {
        "id": "9ZBsNqvZaqE_"
      },
      "execution_count": null,
      "outputs": []
    },
    {
      "cell_type": "code",
      "source": [
        "p = \"It's my dog\""
      ],
      "metadata": {
        "id": "w_GKaNcUZqbF"
      },
      "execution_count": 35,
      "outputs": []
    },
    {
      "cell_type": "code",
      "source": [
        "v = 'It\\'s my dog'\n",
        "# 反斜線(\\)為跳出字元,防止使用單引號時被誤認"
      ],
      "metadata": {
        "id": "vilsV2SSZyXl"
      },
      "execution_count": null,
      "outputs": []
    },
    {
      "cell_type": "code",
      "source": [],
      "metadata": {
        "id": "sxfld3bBaVbi"
      },
      "execution_count": null,
      "outputs": []
    }
  ]
}