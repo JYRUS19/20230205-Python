{
  "nbformat": 4,
  "nbformat_minor": 0,
  "metadata": {
    "colab": {
      "provenance": [],
      "toc_visible": true,
      "authorship_tag": "ABX9TyMMRiRgNyJznqaDsXv1lkeE",
      "include_colab_link": true
    },
    "kernelspec": {
      "name": "python3",
      "display_name": "Python 3"
    },
    "language_info": {
      "name": "python"
    }
  },
  "cells": [
    {
      "cell_type": "markdown",
      "metadata": {
        "id": "view-in-github",
        "colab_type": "text"
      },
      "source": [
        "<a href=\"https://colab.research.google.com/github/JYRUS19/20230205-Python/blob/main/20230211.ipynb\" target=\"_parent\"><img src=\"https://colab.research.google.com/assets/colab-badge.svg\" alt=\"Open In Colab\"/></a>"
      ]
    },
    {
      "cell_type": "markdown",
      "source": [
        "# 20230211筆記\n"
      ],
      "metadata": {
        "id": "qwEau0qDMYhO"
      }
    },
    {
      "cell_type": "markdown",
      "source": [
        "# 基本資料型態\n",
        "\n",
        "* int (整數)\n",
        "* float (浮點數)\n",
        "* bool (布林變數)\n",
        "* str (字串:文字訊息)\n",
        "\n",
        "使用 `type(變數)` 可以檢查變數裡面的資料型態。"
      ],
      "metadata": {
        "id": "YKQEIEwVUIQW"
      }
    },
    {
      "cell_type": "markdown",
      "source": [
        "## 整數除法(//)\n"
      ],
      "metadata": {
        "id": "YLACNZ6JU3Uy"
      }
    },
    {
      "cell_type": "code",
      "source": [
        "x = 1"
      ],
      "metadata": {
        "id": "XejN_4AgMen3"
      },
      "execution_count": null,
      "outputs": []
    },
    {
      "cell_type": "code",
      "source": [
        "z = 2"
      ],
      "metadata": {
        "id": "MOdBB1H3Yvuf"
      },
      "execution_count": null,
      "outputs": []
    },
    {
      "cell_type": "code",
      "source": [
        "y = 4/2\n",
        "#在Python裡面,使用一個除法/ 會變成浮點數,如果是使用兩個//,則會變成整數"
      ],
      "metadata": {
        "id": "nctsIrEtQyR1"
      },
      "execution_count": null,
      "outputs": []
    },
    {
      "cell_type": "code",
      "source": [
        "u = 4//2"
      ],
      "metadata": {
        "id": "BsyoUrB5Wn7Z"
      },
      "execution_count": null,
      "outputs": []
    },
    {
      "cell_type": "code",
      "source": [
        "type(u)"
      ],
      "metadata": {
        "colab": {
          "base_uri": "https://localhost:8080/"
        },
        "id": "-9a3HL_7Wtnm",
        "outputId": "cc011ed1-1cea-49e5-a436-1beac25c0d15"
      },
      "execution_count": null,
      "outputs": [
        {
          "output_type": "execute_result",
          "data": {
            "text/plain": [
              "int"
            ]
          },
          "metadata": {},
          "execution_count": 17
        }
      ]
    },
    {
      "cell_type": "code",
      "source": [
        "u"
      ],
      "metadata": {
        "colab": {
          "base_uri": "https://localhost:8080/"
        },
        "id": "_OPHH05AWx9B",
        "outputId": "588138f5-a9d0-4f1c-929c-623a96bac1f5"
      },
      "execution_count": null,
      "outputs": [
        {
          "output_type": "execute_result",
          "data": {
            "text/plain": [
              "2"
            ]
          },
          "metadata": {},
          "execution_count": 18
        }
      ]
    },
    {
      "cell_type": "code",
      "source": [
        "y"
      ],
      "metadata": {
        "colab": {
          "base_uri": "https://localhost:8080/"
        },
        "id": "96IgTgMPWz50",
        "outputId": "e10acb28-3031-41ee-da23-6d039ae3b0e5"
      },
      "execution_count": null,
      "outputs": [
        {
          "output_type": "execute_result",
          "data": {
            "text/plain": [
              "2.0"
            ]
          },
          "metadata": {},
          "execution_count": 19
        }
      ]
    },
    {
      "cell_type": "code",
      "source": [
        "type(y)"
      ],
      "metadata": {
        "colab": {
          "base_uri": "https://localhost:8080/"
        },
        "id": "vmOLt8vmRKBb",
        "outputId": "fbddf7c7-75d4-488e-b538-a1430e8087ca"
      },
      "execution_count": null,
      "outputs": [
        {
          "output_type": "execute_result",
          "data": {
            "text/plain": [
              "float"
            ]
          },
          "metadata": {},
          "execution_count": 14
        }
      ]
    },
    {
      "cell_type": "markdown",
      "source": [
        "## 次方(**)"
      ],
      "metadata": {
        "id": "zXFtupDjXHWI"
      }
    },
    {
      "cell_type": "code",
      "source": [
        "2**2"
      ],
      "metadata": {
        "colab": {
          "base_uri": "https://localhost:8080/"
        },
        "id": "y9R4zYkQXLFm",
        "outputId": "ccb01d11-6bcf-41e7-9d7c-4b32a20cf8e9"
      },
      "execution_count": null,
      "outputs": [
        {
          "output_type": "execute_result",
          "data": {
            "text/plain": [
              "4"
            ]
          },
          "metadata": {},
          "execution_count": 20
        }
      ]
    },
    {
      "cell_type": "code",
      "source": [
        "2**4"
      ],
      "metadata": {
        "colab": {
          "base_uri": "https://localhost:8080/"
        },
        "id": "djMcT6fQXPBg",
        "outputId": "ec625956-992e-4edc-e187-e0348bd8487c"
      },
      "execution_count": null,
      "outputs": [
        {
          "output_type": "execute_result",
          "data": {
            "text/plain": [
              "16"
            ]
          },
          "metadata": {},
          "execution_count": 21
        }
      ]
    },
    {
      "cell_type": "markdown",
      "source": [
        "## 什麼是bool?\n"
      ],
      "metadata": {
        "id": "yRcNqCFPXeYN"
      }
    },
    {
      "cell_type": "code",
      "source": [
        "3 > 2\n",
        "# bool 布林變數,為True或False"
      ],
      "metadata": {
        "colab": {
          "base_uri": "https://localhost:8080/"
        },
        "id": "zOJALtzhXiQM",
        "outputId": "1453ffbd-152a-4eca-da85-7111268bfbbf"
      },
      "execution_count": null,
      "outputs": [
        {
          "output_type": "execute_result",
          "data": {
            "text/plain": [
              "True"
            ]
          },
          "metadata": {},
          "execution_count": 29
        }
      ]
    },
    {
      "cell_type": "code",
      "source": [
        "2 > 3"
      ],
      "metadata": {
        "colab": {
          "base_uri": "https://localhost:8080/"
        },
        "id": "reFNSRKtX4on",
        "outputId": "ee5377d4-4ab8-4e55-fe11-0a08f963b745"
      },
      "execution_count": null,
      "outputs": [
        {
          "output_type": "execute_result",
          "data": {
            "text/plain": [
              "False"
            ]
          },
          "metadata": {},
          "execution_count": 23
        }
      ]
    },
    {
      "cell_type": "code",
      "source": [
        "True + True"
      ],
      "metadata": {
        "colab": {
          "base_uri": "https://localhost:8080/"
        },
        "id": "CS2Cy360X-A1",
        "outputId": "31f2d44d-47fd-4939-a7ca-cdf2a68e5ae9"
      },
      "execution_count": null,
      "outputs": [
        {
          "output_type": "execute_result",
          "data": {
            "text/plain": [
              "2"
            ]
          },
          "metadata": {},
          "execution_count": 26
        }
      ]
    },
    {
      "cell_type": "code",
      "source": [
        "True + False"
      ],
      "metadata": {
        "colab": {
          "base_uri": "https://localhost:8080/"
        },
        "id": "KZot1QG1YHGW",
        "outputId": "208847a4-7ba8-4283-fb02-59a52c61f03b"
      },
      "execution_count": null,
      "outputs": [
        {
          "output_type": "execute_result",
          "data": {
            "text/plain": [
              "1"
            ]
          },
          "metadata": {},
          "execution_count": 30
        }
      ]
    },
    {
      "cell_type": "code",
      "source": [
        "x == z\n",
        "#兩個== 是用來比較兩個變數內的值有沒有相等"
      ],
      "metadata": {
        "colab": {
          "base_uri": "https://localhost:8080/"
        },
        "id": "5YRgfjqwYUQA",
        "outputId": "e0992b60-cc68-4ef4-8186-9a9ebd94987e"
      },
      "execution_count": null,
      "outputs": [
        {
          "output_type": "execute_result",
          "data": {
            "text/plain": [
              "False"
            ]
          },
          "metadata": {},
          "execution_count": 33
        }
      ]
    },
    {
      "cell_type": "markdown",
      "source": [
        "## 關於字串\n",
        "\n",
        "https://github.com/vcdemy/python_basics/blob/main/%E5%AD%97%E4%B8%B2.md"
      ],
      "metadata": {
        "id": "73LA68qVZCCY"
      }
    },
    {
      "cell_type": "code",
      "source": [
        "w = \"dog\""
      ],
      "metadata": {
        "id": "4LT2wdDGZFKa"
      },
      "execution_count": null,
      "outputs": []
    },
    {
      "cell_type": "code",
      "source": [],
      "metadata": {
        "id": "9ZBsNqvZaqE_"
      },
      "execution_count": null,
      "outputs": []
    },
    {
      "cell_type": "code",
      "source": [
        "p = \"It's my dog\""
      ],
      "metadata": {
        "id": "w_GKaNcUZqbF"
      },
      "execution_count": null,
      "outputs": []
    },
    {
      "cell_type": "code",
      "source": [
        "v = 'It\\'s my dog'\n",
        "# 反斜線(\\)為跳出字元,防止在使用單引號時被誤認"
      ],
      "metadata": {
        "id": "vilsV2SSZyXl"
      },
      "execution_count": null,
      "outputs": []
    },
    {
      "cell_type": "markdown",
      "source": [
        "## 字串的加法(+)與乘法(*)"
      ],
      "metadata": {
        "id": "Zd4Hg92WfUcc"
      }
    },
    {
      "cell_type": "code",
      "source": [
        "\"abc\" + \"3\""
      ],
      "metadata": {
        "id": "76rUEY5cfZqJ",
        "outputId": "6382ca32-b5b3-4d58-8b74-2ff78a31f414",
        "colab": {
          "base_uri": "https://localhost:8080/",
          "height": 35
        }
      },
      "execution_count": null,
      "outputs": [
        {
          "output_type": "execute_result",
          "data": {
            "text/plain": [
              "'abc3'"
            ],
            "application/vnd.google.colaboratory.intrinsic+json": {
              "type": "string"
            }
          },
          "metadata": {},
          "execution_count": 38
        }
      ]
    },
    {
      "cell_type": "code",
      "source": [
        "\"abc\" * 3"
      ],
      "metadata": {
        "id": "iCTVw8MYfnID",
        "outputId": "a0580d7a-a46b-41a0-e413-0a64e6a2115b",
        "colab": {
          "base_uri": "https://localhost:8080/",
          "height": 35
        }
      },
      "execution_count": null,
      "outputs": [
        {
          "output_type": "execute_result",
          "data": {
            "text/plain": [
              "'abcabcabc'"
            ],
            "application/vnd.google.colaboratory.intrinsic+json": {
              "type": "string"
            }
          },
          "metadata": {},
          "execution_count": 39
        }
      ]
    },
    {
      "cell_type": "markdown",
      "source": [
        "## 練習:(使用字串畫出底下的金字塔)\n",
        "\n",
        "```\n",
        "    *\n",
        "   ***\n",
        "  *****\n",
        " *******\n",
        "*********\n",
        "```\n"
      ],
      "metadata": {
        "id": "cNvFF63vfr-2"
      }
    },
    {
      "cell_type": "code",
      "source": [
        "for i in range(5):\n",
        "  print(i)"
      ],
      "metadata": {
        "id": "p7kRFjj3gSKr",
        "outputId": "262e7b05-9eb4-4397-98da-9dd0c3ac7037",
        "colab": {
          "base_uri": "https://localhost:8080/"
        }
      },
      "execution_count": null,
      "outputs": [
        {
          "output_type": "stream",
          "name": "stdout",
          "text": [
            "0\n",
            "1\n",
            "2\n",
            "3\n",
            "4\n"
          ]
        }
      ]
    },
    {
      "cell_type": "code",
      "source": [
        "for i in range(3):\n",
        "  print(\"程式區塊開始\")\n",
        "  print(i)\n",
        "  print(\"程式區塊結束\")"
      ],
      "metadata": {
        "id": "7OnEPROpgue6",
        "outputId": "0bf8876a-ad65-4448-b138-a783b06fca70",
        "colab": {
          "base_uri": "https://localhost:8080/"
        }
      },
      "execution_count": null,
      "outputs": [
        {
          "output_type": "stream",
          "name": "stdout",
          "text": [
            "程式區塊開始\n",
            "0\n",
            "程式區塊結束\n",
            "程式區塊開始\n",
            "1\n",
            "程式區塊結束\n",
            "程式區塊開始\n",
            "2\n",
            "程式區塊結束\n"
          ]
        }
      ]
    },
    {
      "cell_type": "code",
      "source": [
        "for i in range(3):\n",
        "  print(\"程式區塊開始\")\n",
        "  print(i)\n",
        "print(\"程式區塊結束\")"
      ],
      "metadata": {
        "id": "PWZdZZ3cgwHx",
        "outputId": "57455d48-4544-4919-8b4c-c773e16e32e3",
        "colab": {
          "base_uri": "https://localhost:8080/"
        }
      },
      "execution_count": null,
      "outputs": [
        {
          "output_type": "stream",
          "name": "stdout",
          "text": [
            "程式區塊開始\n",
            "0\n",
            "程式區塊開始\n",
            "1\n",
            "程式區塊開始\n",
            "2\n",
            "程式區塊結束\n"
          ]
        }
      ]
    },
    {
      "cell_type": "code",
      "source": [
        "for i in range(5):\n",
        "  print(i)"
      ],
      "metadata": {
        "id": "BGXfzPg0hC0f",
        "outputId": "6c38b11a-c3d0-4e4c-ca5e-15b5edd27168",
        "colab": {
          "base_uri": "https://localhost:8080/"
        }
      },
      "execution_count": null,
      "outputs": [
        {
          "output_type": "stream",
          "name": "stdout",
          "text": [
            "0\n",
            "1\n",
            "2\n",
            "3\n",
            "4\n"
          ]
        }
      ]
    },
    {
      "cell_type": "code",
      "source": [
        "for i in range(5):\n",
        "  print(2*i+1)"
      ],
      "metadata": {
        "id": "j39mY0swhU4i",
        "outputId": "403e4fa6-3731-4642-db9a-76bb88d35541",
        "colab": {
          "base_uri": "https://localhost:8080/"
        }
      },
      "execution_count": null,
      "outputs": [
        {
          "output_type": "stream",
          "name": "stdout",
          "text": [
            "1\n",
            "3\n",
            "5\n",
            "7\n",
            "9\n"
          ]
        }
      ]
    },
    {
      "cell_type": "code",
      "source": [
        "for i in range(5):\n",
        "  print((2*i+1)*\"*\")"
      ],
      "metadata": {
        "id": "QI6G6tCnhgzj",
        "outputId": "edc9399b-5703-44cd-920e-8f5c2047b939",
        "colab": {
          "base_uri": "https://localhost:8080/"
        }
      },
      "execution_count": null,
      "outputs": [
        {
          "output_type": "stream",
          "name": "stdout",
          "text": [
            "*\n",
            "***\n",
            "*****\n",
            "*******\n",
            "*********\n"
          ]
        }
      ]
    },
    {
      "cell_type": "code",
      "source": [
        "for i in range(5):\n",
        "  print((5-i)*\" \"+(2*i+1)*\"*\")\n",
        "  #因為有5個組星,所以i要-5,(5-i)\n",
        "     "
      ],
      "metadata": {
        "id": "J3zKo9K9hpxQ",
        "outputId": "bd9f564b-7ea2-441d-b456-cdc0062fb38f",
        "colab": {
          "base_uri": "https://localhost:8080/"
        }
      },
      "execution_count": null,
      "outputs": [
        {
          "output_type": "stream",
          "name": "stdout",
          "text": [
            "     *\n",
            "    ***\n",
            "   *****\n",
            "  *******\n",
            " *********\n"
          ]
        }
      ]
    },
    {
      "cell_type": "markdown",
      "source": [
        "# input()及print()\n",
        "\n",
        "input是用來讀取輸入,print是用來列印輸出"
      ],
      "metadata": {
        "id": "LH5R46J4kx4-"
      }
    },
    {
      "cell_type": "code",
      "source": [
        "x = input(\"請輸入一個數字:\")\n",
        "# 用input輸入的數字不是整數,會是字串"
      ],
      "metadata": {
        "id": "f0cLlQGok4Es",
        "outputId": "c361ce65-e210-40ea-a279-5428c34d8f81",
        "colab": {
          "base_uri": "https://localhost:8080/"
        }
      },
      "execution_count": null,
      "outputs": [
        {
          "name": "stdout",
          "output_type": "stream",
          "text": [
            "請輸入一個數字:100\n"
          ]
        }
      ]
    },
    {
      "cell_type": "code",
      "source": [
        "type(x)"
      ],
      "metadata": {
        "id": "yS4kFx60lCeU",
        "outputId": "9f4c2f9b-25c3-4fe9-c027-d94e0721105c",
        "colab": {
          "base_uri": "https://localhost:8080/"
        }
      },
      "execution_count": null,
      "outputs": [
        {
          "output_type": "execute_result",
          "data": {
            "text/plain": [
              "str"
            ]
          },
          "metadata": {},
          "execution_count": 60
        }
      ]
    },
    {
      "cell_type": "code",
      "source": [
        "print(x)"
      ],
      "metadata": {
        "id": "v5Y20Y_ulYTw",
        "outputId": "aaf139ae-53dd-46cd-eca5-bbd7a59facc2",
        "colab": {
          "base_uri": "https://localhost:8080/"
        }
      },
      "execution_count": null,
      "outputs": [
        {
          "output_type": "stream",
          "name": "stdout",
          "text": [
            "100\n"
          ]
        }
      ]
    },
    {
      "cell_type": "code",
      "source": [
        "x = 1\n",
        "y = 2\n",
        "z = 3\n",
        "print(x, y, z)"
      ],
      "metadata": {
        "id": "4bkPjsAelvg6",
        "outputId": "a0a4ccf1-3f54-4699-b2a5-1d0b3b396f15",
        "colab": {
          "base_uri": "https://localhost:8080/"
        }
      },
      "execution_count": null,
      "outputs": [
        {
          "output_type": "stream",
          "name": "stdout",
          "text": [
            "1 2 3\n"
          ]
        }
      ]
    },
    {
      "cell_type": "code",
      "source": [
        "x = 1\n",
        "y = 2\n",
        "z = 3\n",
        "print(x, y, z, sep=\"\")"
      ],
      "metadata": {
        "id": "ftSGgzo0l5Ii",
        "outputId": "fcf986ff-4f0f-4c77-b08c-dbe910ac516e",
        "colab": {
          "base_uri": "https://localhost:8080/"
        }
      },
      "execution_count": null,
      "outputs": [
        {
          "output_type": "stream",
          "name": "stdout",
          "text": [
            "123\n"
          ]
        }
      ]
    },
    {
      "cell_type": "markdown",
      "source": [
        "# 基礎容器型別\n",
        "\n",
        "* list (串列)\n",
        "* tuple (元祖)\n",
        "* dict (字典)\n",
        "* set (集合)"
      ],
      "metadata": {
        "id": "0pVXImFrnkqM"
      }
    },
    {
      "cell_type": "markdown",
      "source": [
        "## list"
      ],
      "metadata": {
        "id": "B1p9PKmj4wKf"
      }
    },
    {
      "cell_type": "code",
      "source": [
        "x = ['a', 'b', 'c', 'd', 'e']"
      ],
      "metadata": {
        "id": "yRgEntg1285k"
      },
      "execution_count": 1,
      "outputs": []
    }
  ]
}